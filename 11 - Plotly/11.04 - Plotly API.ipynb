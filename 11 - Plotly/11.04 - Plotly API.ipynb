{
 "cells": [
  {
   "cell_type": "markdown",
   "metadata": {},
   "source": [
    "### Get Requests in Python\n",
    "\n",
    "#### Download plotly users's public graphs  and data."
   ]
  },
  {
   "cell_type": "code",
   "execution_count": 1,
   "metadata": {
    "ExecuteTime": {
     "end_time": "2019-06-04T01:40:22.896407Z",
     "start_time": "2019-06-04T01:40:14.739366Z"
    }
   },
   "outputs": [
    {
     "data": {
      "text/html": [
       "<iframe id=\"igraph\" scrolling=\"no\" style=\"border:none;\" seamless=\"seamless\" src=\"https://plot.ly/~fjvarasc/247.embed\" height=\"525px\" width=\"100%\"></iframe>"
      ],
      "text/plain": [
       "<chart_studio.tools.PlotlyDisplay object>"
      ]
     },
     "execution_count": 1,
     "metadata": {},
     "output_type": "execute_result"
    }
   ],
   "source": [
    "import plotly.plotly as py\n",
    "# Learn about API authentication here: https://plot.ly/python/getting-started\n",
    "# Find your api_key here: https://plot.ly/settings/api\n",
    "\n",
    "fig = py.get_figure(\"https://plot.ly/~PlotBot/5\")\n",
    "\n",
    "fig['layout']['title'] = \"Never forget that title!\"\n",
    "\n",
    "py.iplot(fig, filename=\"python-change_plot\")"
   ]
  },
  {
   "cell_type": "code",
   "execution_count": 5,
   "metadata": {
    "ExecuteTime": {
     "end_time": "2019-06-04T01:32:29.834631Z",
     "start_time": "2019-06-04T01:32:29.801741Z"
    }
   },
   "outputs": [
    {
     "data": {
      "text/plain": [
       "Figure({\n",
       "    'data': [{'type': 'scatter',\n",
       "              'uid': 'f55d362c-c337-44e3-b2f9-d95eac028a30',\n",
       "              'x': [0, 1, 2, 3, 4, 5, 6, 7, 8],\n",
       "              'y': [8, 7, 6, 5, 4, 3, 2, 1, 0]},\n",
       "             {'type': 'scatter',\n",
       "              'uid': '49871294-19c0-4f6e-a051-72dc35bb6914',\n",
       "              'x': [0, 1, 2, 3, 4, 5, 6, 7, 8],\n",
       "              'y': [0, 1, 2, 3, 4, 5, 6, 7, 8]}],\n",
       "    'layout': {'title': {'text': 'Never forget that title!'},\n",
       "               'xaxis': {'gridcolor': '#bdbdbd',\n",
       "                         'gridwidth': 2,\n",
       "                         'linecolor': '#636363',\n",
       "                         'linewidth': 6,\n",
       "                         'mirror': 'ticks',\n",
       "                         'showgrid': True,\n",
       "                         'showline': True,\n",
       "                         'zeroline': True,\n",
       "                         'zerolinecolor': '#969696',\n",
       "                         'zerolinewidth': 4},\n",
       "               'yaxis': {'gridcolor': '#bdbdbd',\n",
       "                         'gridwidth': 2,\n",
       "                         'linecolor': '#636363',\n",
       "                         'linewidth': 6,\n",
       "                         'mirror': 'ticks',\n",
       "                         'showgrid': True,\n",
       "                         'showline': True,\n",
       "                         'zeroline': True,\n",
       "                         'zerolinecolor': '#969696',\n",
       "                         'zerolinewidth': 4}}\n",
       "})"
      ]
     },
     "execution_count": 5,
     "metadata": {},
     "output_type": "execute_result"
    }
   ],
   "source": [
    "fig"
   ]
  },
  {
   "cell_type": "markdown",
   "metadata": {},
   "source": [
    "#### Get Data and Change Plot"
   ]
  },
  {
   "cell_type": "code",
   "execution_count": 38,
   "metadata": {
    "ExecuteTime": {
     "end_time": "2019-06-04T17:03:28.880498Z",
     "start_time": "2019-06-04T17:03:26.962465Z"
    }
   },
   "outputs": [],
   "source": [
    "import plotly.plotly as py\n",
    "import plotly.graph_objs as go\n",
    "\n",
    "# Learn about API authentication here: https://plot.ly/python/getting-started\n",
    "# Find your api_key here: https://plot.ly/settings/api\n",
    "\n",
    "figure = py.get_figure(\"https://plot.ly/~PlotBot/5\")"
   ]
  },
  {
   "cell_type": "code",
   "execution_count": 47,
   "metadata": {
    "ExecuteTime": {
     "end_time": "2019-06-04T17:08:42.190658Z",
     "start_time": "2019-06-04T17:08:42.155401Z"
    }
   },
   "outputs": [
    {
     "data": {
      "text/plain": [
       "(Scatter({\n",
       "     'uid': '3851565c-15ef-4023-851a-d3a9bea5f7be', 'x': [0, 1, 2, 3, 4, 5, 6, 7, 8], 'y': [8, 7, 6, 5, 4, 3, 2, 1, 0]\n",
       " }), Scatter({\n",
       "     'uid': 'e36d6a50-3dba-463e-9001-321052e7c23f', 'x': [0, 1, 2, 3, 4, 5, 6, 7, 8], 'y': [0, 1, 2, 3, 4, 5, 6, 7, 8]\n",
       " }))"
      ]
     },
     "execution_count": 47,
     "metadata": {},
     "output_type": "execute_result"
    }
   ],
   "source": [
    "data"
   ]
  },
  {
   "cell_type": "code",
   "execution_count": 46,
   "metadata": {
    "ExecuteTime": {
     "end_time": "2019-06-04T17:07:17.458170Z",
     "start_time": "2019-06-04T17:07:16.927230Z"
    }
   },
   "outputs": [
    {
     "ename": "ValueError",
     "evalue": "The data property of a figure may only be assigned \na list or tuple that contains a permutation of a subset of itself.\n    Received value with type <class 'plotly.graph_objs.Histogram'>",
     "output_type": "error",
     "traceback": [
      "\u001b[0;31m---------------------------------------------------------------------------\u001b[0m",
      "\u001b[0;31mValueError\u001b[0m                                Traceback (most recent call last)",
      "\u001b[0;32m<ipython-input-46-d5f248c58cb0>\u001b[0m in \u001b[0;36m<module>\u001b[0;34m()\u001b[0m\n\u001b[1;32m      2\u001b[0m \u001b[0;34m\u001b[0m\u001b[0m\n\u001b[1;32m      3\u001b[0m \u001b[0mfig\u001b[0m \u001b[0;34m=\u001b[0m \u001b[0mgo\u001b[0m\u001b[0;34m.\u001b[0m\u001b[0mFigure\u001b[0m\u001b[0;34m(\u001b[0m\u001b[0;34m)\u001b[0m\u001b[0;34m\u001b[0m\u001b[0;34m\u001b[0m\u001b[0m\n\u001b[0;32m----> 4\u001b[0;31m \u001b[0mfig\u001b[0m\u001b[0;34m[\u001b[0m\u001b[0;34m'data'\u001b[0m\u001b[0;34m]\u001b[0m \u001b[0;34m=\u001b[0m \u001b[0mgo\u001b[0m\u001b[0;34m.\u001b[0m\u001b[0mHistogram\u001b[0m\u001b[0;34m(\u001b[0m\u001b[0my\u001b[0m\u001b[0;34m=\u001b[0m\u001b[0mdistance\u001b[0m\u001b[0;34m,\u001b[0m \u001b[0mname\u001b[0m\u001b[0;34m=\u001b[0m\u001b[0;34m\"flyby distance\"\u001b[0m\u001b[0;34m,\u001b[0m \u001b[0mhistnorm\u001b[0m\u001b[0;34m=\u001b[0m\u001b[0;34m'probability'\u001b[0m\u001b[0;34m)\u001b[0m\u001b[0;34m\u001b[0m\u001b[0;34m\u001b[0m\u001b[0m\n\u001b[0m\u001b[1;32m      5\u001b[0m \u001b[0mxaxis\u001b[0m \u001b[0;34m=\u001b[0m \u001b[0mdict\u001b[0m\u001b[0;34m(\u001b[0m\u001b[0mtitle\u001b[0m\u001b[0;34m=\u001b[0m\u001b[0;34m\"Probability for Flyby at this Distance\"\u001b[0m\u001b[0;34m)\u001b[0m\u001b[0;34m\u001b[0m\u001b[0;34m\u001b[0m\u001b[0m\n\u001b[1;32m      6\u001b[0m \u001b[0myaxis\u001b[0m \u001b[0;34m=\u001b[0m \u001b[0mdict\u001b[0m\u001b[0;34m(\u001b[0m\u001b[0mtitle\u001b[0m\u001b[0;34m=\u001b[0m\u001b[0;34m\"Distance from Earth (Earth Radii)\"\u001b[0m\u001b[0;34m)\u001b[0m\u001b[0;34m\u001b[0m\u001b[0;34m\u001b[0m\u001b[0m\n",
      "\u001b[0;32m~/DSPXI/lib/python3.6/site-packages/plotly/basedatatypes.py\u001b[0m in \u001b[0;36m__setitem__\u001b[0;34m(self, prop, value)\u001b[0m\n\u001b[1;32m    311\u001b[0m \u001b[0;34m\u001b[0m\u001b[0m\n\u001b[1;32m    312\u001b[0m             \u001b[0;32mif\u001b[0m \u001b[0mprop\u001b[0m \u001b[0;34m==\u001b[0m \u001b[0;34m'data'\u001b[0m\u001b[0;34m:\u001b[0m\u001b[0;34m\u001b[0m\u001b[0;34m\u001b[0m\u001b[0m\n\u001b[0;32m--> 313\u001b[0;31m                 \u001b[0mself\u001b[0m\u001b[0;34m.\u001b[0m\u001b[0mdata\u001b[0m \u001b[0;34m=\u001b[0m \u001b[0mvalue\u001b[0m\u001b[0;34m\u001b[0m\u001b[0;34m\u001b[0m\u001b[0m\n\u001b[0m\u001b[1;32m    314\u001b[0m             \u001b[0;32melif\u001b[0m \u001b[0mprop\u001b[0m \u001b[0;34m==\u001b[0m \u001b[0;34m'layout'\u001b[0m\u001b[0;34m:\u001b[0m\u001b[0;34m\u001b[0m\u001b[0;34m\u001b[0m\u001b[0m\n\u001b[1;32m    315\u001b[0m                 \u001b[0mself\u001b[0m\u001b[0;34m.\u001b[0m\u001b[0mlayout\u001b[0m \u001b[0;34m=\u001b[0m \u001b[0mvalue\u001b[0m\u001b[0;34m\u001b[0m\u001b[0;34m\u001b[0m\u001b[0m\n",
      "\u001b[0;32m~/DSPXI/lib/python3.6/site-packages/plotly/basedatatypes.py\u001b[0m in \u001b[0;36m__setattr__\u001b[0;34m(self, prop, value)\u001b[0m\n\u001b[1;32m    343\u001b[0m         \u001b[0;32mif\u001b[0m \u001b[0mprop\u001b[0m\u001b[0;34m.\u001b[0m\u001b[0mstartswith\u001b[0m\u001b[0;34m(\u001b[0m\u001b[0;34m'_'\u001b[0m\u001b[0;34m)\u001b[0m \u001b[0;32mor\u001b[0m \u001b[0mhasattr\u001b[0m\u001b[0;34m(\u001b[0m\u001b[0mself\u001b[0m\u001b[0;34m,\u001b[0m \u001b[0mprop\u001b[0m\u001b[0;34m)\u001b[0m\u001b[0;34m:\u001b[0m\u001b[0;34m\u001b[0m\u001b[0;34m\u001b[0m\u001b[0m\n\u001b[1;32m    344\u001b[0m             \u001b[0;31m# Let known properties and private properties through\u001b[0m\u001b[0;34m\u001b[0m\u001b[0;34m\u001b[0m\u001b[0;34m\u001b[0m\u001b[0m\n\u001b[0;32m--> 345\u001b[0;31m             \u001b[0msuper\u001b[0m\u001b[0;34m(\u001b[0m\u001b[0mBaseFigure\u001b[0m\u001b[0;34m,\u001b[0m \u001b[0mself\u001b[0m\u001b[0;34m)\u001b[0m\u001b[0;34m.\u001b[0m\u001b[0m__setattr__\u001b[0m\u001b[0;34m(\u001b[0m\u001b[0mprop\u001b[0m\u001b[0;34m,\u001b[0m \u001b[0mvalue\u001b[0m\u001b[0;34m)\u001b[0m\u001b[0;34m\u001b[0m\u001b[0;34m\u001b[0m\u001b[0m\n\u001b[0m\u001b[1;32m    346\u001b[0m         \u001b[0;32melse\u001b[0m\u001b[0;34m:\u001b[0m\u001b[0;34m\u001b[0m\u001b[0;34m\u001b[0m\u001b[0m\n\u001b[1;32m    347\u001b[0m             \u001b[0;31m# Raise error on unknown public properties\u001b[0m\u001b[0;34m\u001b[0m\u001b[0;34m\u001b[0m\u001b[0;34m\u001b[0m\u001b[0m\n",
      "\u001b[0;32m~/DSPXI/lib/python3.6/site-packages/plotly/basedatatypes.py\u001b[0m in \u001b[0;36mdata\u001b[0;34m(self, new_data)\u001b[0m\n\u001b[1;32m    528\u001b[0m             err_msg = (err_header + '    Received value with type {typ}'\n\u001b[1;32m    529\u001b[0m                        .format(typ=type(new_data)))\n\u001b[0;32m--> 530\u001b[0;31m             \u001b[0;32mraise\u001b[0m \u001b[0mValueError\u001b[0m\u001b[0;34m(\u001b[0m\u001b[0merr_msg\u001b[0m\u001b[0;34m)\u001b[0m\u001b[0;34m\u001b[0m\u001b[0;34m\u001b[0m\u001b[0m\n\u001b[0m\u001b[1;32m    531\u001b[0m \u001b[0;34m\u001b[0m\u001b[0m\n\u001b[1;32m    532\u001b[0m         \u001b[0;31m# ### Check valid element types ###\u001b[0m\u001b[0;34m\u001b[0m\u001b[0;34m\u001b[0m\u001b[0;34m\u001b[0m\u001b[0m\n",
      "\u001b[0;31mValueError\u001b[0m: The data property of a figure may only be assigned \na list or tuple that contains a permutation of a subset of itself.\n    Received value with type <class 'plotly.graph_objs.Histogram'>"
     ]
    }
   ],
   "source": [
    "distance = [d['y'][0] for d in data]  # check out the data for yourself!\n",
    "\n",
    "fig = go.Figure()\n",
    "fig['data'] += go.Histogram(y=distance, name=\"flyby distance\", histnorm='probability'))\n",
    "xaxis = dict(title=\"Probability for Flyby at this Distance\")\n",
    "yaxis = dict(title=\"Distance from Earth (Earth Radii)\")\n",
    "fig['layout'].update(title=\"data source: https://plot.ly/~AlexHP/68\", xaxis=xaxis, yaxis=yaxis)\n",
    "\n",
    "plot_url = py.plot(fig, filename=\"python-get-data\")"
   ]
  },
  {
   "cell_type": "markdown",
   "metadata": {},
   "source": [
    "#### Get and Replot a Public Figure with URL"
   ]
  },
  {
   "cell_type": "code",
   "execution_count": null,
   "metadata": {},
   "outputs": [],
   "source": [
    "import plotly.plotly as py\n",
    "# Learn about API authentication here: https://plot.ly/python/getting-started\n",
    "# Find your api_key here: https://plot.ly/settings/api\n",
    "\n",
    "fig = py.get_figure(\"https://plot.ly/~PlotBot/5\")\n",
    "\n",
    "plot_url = py.plot(fig, filename=\"python-replot1\")"
   ]
  },
  {
   "cell_type": "markdown",
   "metadata": {},
   "source": [
    "#### Get and Replot a Public Figure with ID"
   ]
  },
  {
   "cell_type": "code",
   "execution_count": null,
   "metadata": {},
   "outputs": [],
   "source": [
    "import plotly.plotly as py\n",
    "# Learn about API authentication here: https://plot.ly/python/getting-started\n",
    "# Find your api_key here: https://plot.ly/settings/api\n",
    "\n",
    "fig = py.get_figure(\"PlotBot\", 5)\n",
    "\n",
    "plot_url = py.plot(fig, filename=\"python-replot2\")"
   ]
  },
  {
   "cell_type": "markdown",
   "metadata": {},
   "source": [
    "#### Embedding Graphs in HTML in Python\n"
   ]
  },
  {
   "cell_type": "code",
   "execution_count": 18,
   "metadata": {
    "ExecuteTime": {
     "end_time": "2019-06-02T23:06:55.294964Z",
     "start_time": "2019-06-02T23:06:55.273580Z"
    }
   },
   "outputs": [
    {
     "data": {
      "text/plain": [
       "'<iframe id=\"igraph\" scrolling=\"no\" style=\"border:none;\" seamless=\"seamless\" src=\"https://plot.ly/~chris/1638.embed\" height=\"525\" width=\"100%\"></iframe>'"
      ]
     },
     "execution_count": 18,
     "metadata": {},
     "output_type": "execute_result"
    }
   ],
   "source": [
    "import plotly.tools as tls\n",
    "\n",
    "tls.get_embed('https://plot.ly/~chris/1638')"
   ]
  },
  {
   "cell_type": "markdown",
   "metadata": {},
   "source": [
    "### Update Graph"
   ]
  },
  {
   "cell_type": "markdown",
   "metadata": {},
   "source": [
    "#### Sending Data to Charts in Python"
   ]
  },
  {
   "cell_type": "code",
   "execution_count": 11,
   "metadata": {
    "ExecuteTime": {
     "end_time": "2019-06-02T19:23:57.697835Z",
     "start_time": "2019-06-02T19:23:40.654081Z"
    }
   },
   "outputs": [
    {
     "data": {
      "text/plain": [
       "'https://plot.ly/~fjvarasc/223'"
      ]
     },
     "execution_count": 11,
     "metadata": {},
     "output_type": "execute_result"
    }
   ],
   "source": [
    "# Learn about API authentication here: https://plot.ly/python/getting-started\n",
    "# Find your api_key here: https://plot.ly/settings/api\n",
    "\n",
    "import plotly.plotly as py\n",
    "import plotly.graph_objs as go\n",
    "\n",
    "data = [go.Scatter(x=[1, 2], y=[3, 4]) ]\n",
    "\n",
    "plot_url = py.plot(data, filename='my plot')\n",
    "plot_url"
   ]
  },
  {
   "cell_type": "markdown",
   "metadata": {},
   "source": [
    "The simplest and recommended way to update a chart remotely.\n",
    "You can overwrite a chart's data with new data remotely, simply by including its file name in the filename kwarg. \n",
    "Note that setting a filename overwrites the entire chart (i.e., style & layout settings are not preserved)."
   ]
  },
  {
   "cell_type": "markdown",
   "metadata": {},
   "source": [
    "<img src='https://raw.githubusercontent.com/fjvarasc/DSPXI/master/figures/VuobuN3.gif' />"
   ]
  },
  {
   "cell_type": "markdown",
   "metadata": {},
   "source": [
    "#### Add data to an existing trace"
   ]
  },
  {
   "cell_type": "code",
   "execution_count": null,
   "metadata": {},
   "outputs": [],
   "source": [
    "# Learn about API authentication here: https://plot.ly/python/getting-started\n",
    "# Find your api_key here: https://plot.ly/settings/api\n",
    "\n",
    "import plotly.plotly as py\n",
    "from plotly.graph_objs import *\n",
    "\n",
    "new_data = Scatter(x=[3, 4], y=[3, 2] )\n",
    "\n",
    "data = Data([ new_data ])\n",
    "\n",
    "plot_url = py.plot(data, filename='extend plot', fileopt='extend')"
   ]
  },
  {
   "cell_type": "markdown",
   "metadata": {},
   "source": [
    "Add data to an existing trace by setting fileopt='extend'.\n",
    "This method is used for embedded systems that may not have the memory for a full overwrite of the chart data in one API call."
   ]
  },
  {
   "cell_type": "markdown",
   "metadata": {
    "ExecuteTime": {
     "end_time": "2019-06-02T19:32:55.979429Z",
     "start_time": "2019-06-02T19:32:55.964733Z"
    }
   },
   "source": [
    "<img src='https://raw.githubusercontent.com/fjvarasc/DSPXI/master/figures/2LhVSX6.gif' />"
   ]
  },
  {
   "cell_type": "markdown",
   "metadata": {
    "ExecuteTime": {
     "end_time": "2019-06-02T19:28:34.933405Z",
     "start_time": "2019-06-02T19:28:34.907042Z"
    }
   },
   "source": [
    "#### Add new traces to a chart"
   ]
  },
  {
   "cell_type": "code",
   "execution_count": 13,
   "metadata": {
    "ExecuteTime": {
     "end_time": "2019-06-02T19:29:14.270949Z",
     "start_time": "2019-06-02T19:29:14.187570Z"
    }
   },
   "outputs": [
    {
     "ename": "SyntaxError",
     "evalue": "invalid syntax (<ipython-input-13-5785b4c5ecff>, line 11)",
     "output_type": "error",
     "traceback": [
      "\u001b[0;36m  File \u001b[0;32m\"<ipython-input-13-5785b4c5ecff>\"\u001b[0;36m, line \u001b[0;32m11\u001b[0m\n\u001b[0;31m    plot_url = py.plot(data, filename='append plot', <b>fileopt='append'</b>)\u001b[0m\n\u001b[0m                                                     ^\u001b[0m\n\u001b[0;31mSyntaxError\u001b[0m\u001b[0;31m:\u001b[0m invalid syntax\n"
     ]
    }
   ],
   "source": [
    "# Learn about API authentication here: https://plot.ly/python/getting-started\n",
    "# Find your api_key here: https://plot.ly/settings/api\n",
    "\n",
    "import plotly.plotly as py\n",
    "from plotly.graph_objs import *\n",
    "\n",
    "new_trace = Scatter(x=[3, 4], y=[3, 2])\n",
    "\n",
    "data = Data( [ new_trace1 ] )\n",
    "\n",
    "plot_url = py.plot(data, filename='append plot', fileopt='append')"
   ]
  },
  {
   "cell_type": "markdown",
   "metadata": {},
   "source": [
    "NOT RECOMMENDED\n",
    "When updating a chart's data remotely, we recommend overwriting all of the chart's data instead of adding new traces."
   ]
  },
  {
   "cell_type": "markdown",
   "metadata": {
    "ExecuteTime": {
     "end_time": "2019-06-02T19:33:51.764546Z",
     "start_time": "2019-06-02T19:33:51.749532Z"
    }
   },
   "source": [
    "<img src='https://raw.githubusercontent.com/fjvarasc/DSPXI/master/figures/RzrURdn.gif' />"
   ]
  },
  {
   "cell_type": "markdown",
   "metadata": {},
   "source": [
    "#### Overwriting existing graphs and updating a graph at its unique URL"
   ]
  },
  {
   "cell_type": "markdown",
   "metadata": {},
   "source": [
    "By default, Plotly will overwrite files made with the same filename. For example, if a graph named 'my plot' already exists in your account, then it will be overwritten with this new version and the URL of the graph will persist."
   ]
  },
  {
   "cell_type": "code",
   "execution_count": 2,
   "metadata": {},
   "outputs": [],
   "source": [
    "import plotly.plotly as py\n",
    "import plotly.graph_objs as go\n",
    "\n",
    "data = [\n",
    "    go.Scatter(\n",
    "        x=[1, 2],\n",
    "        y=[3, 4]\n",
    "    )\n",
    "]\n",
    "\n",
    "plot_url = py.plot(data, filename='my plot')"
   ]
  },
  {
   "cell_type": "markdown",
   "metadata": {},
   "source": [
    "#### Saving to a folder"
   ]
  },
  {
   "cell_type": "markdown",
   "metadata": {},
   "source": [
    "Filenames that contain `\"/\"` be treated as a Plotly directory and will be saved to your Plotly account in a folder tree. For example, to save your graphs to the folder `my-graphs` use the `filename = \"my-graphs/my plot\"` (if it doesn't already exist it will be created)"
   ]
  },
  {
   "cell_type": "code",
   "execution_count": 3,
   "metadata": {},
   "outputs": [],
   "source": [
    "import plotly.plotly as py\n",
    "import plotly.graph_objs as go\n",
    "\n",
    "data = [\n",
    "    go.Scatter(\n",
    "        x=[1, 2],\n",
    "        y=[3, 4]\n",
    "    )\n",
    "]\n",
    "\n",
    "plot_url = py.plot(data, filename='my-graphs/my plot')"
   ]
  },
  {
   "cell_type": "markdown",
   "metadata": {},
   "source": [
    "#### Creating new files"
   ]
  },
  {
   "cell_type": "markdown",
   "metadata": {},
   "source": [
    "With `fileopt='new'`, Plotly will always create a new file. If a file with the same name already exists, then Plotly will append a '(1)' to the end of the filename, e.g. `new plot (1)` and create a unique URL."
   ]
  },
  {
   "cell_type": "code",
   "execution_count": 5,
   "metadata": {},
   "outputs": [],
   "source": [
    "import plotly.plotly as py\n",
    "import plotly.graph_objs as go\n",
    "\n",
    "data = [\n",
    "    go.Scatter(\n",
    "        x=[1, 2],\n",
    "        y=[3, 4]\n",
    "    )\n",
    "]\n",
    "\n",
    "plot_url = py.plot(data, filename='new plot', fileopt='new')"
   ]
  },
  {
   "cell_type": "markdown",
   "metadata": {},
   "source": [
    "#### Extending traces in an existing graph"
   ]
  },
  {
   "cell_type": "markdown",
   "metadata": {},
   "source": [
    "To extend existing traces with your new data, use `fileopt='extend'`."
   ]
  },
  {
   "cell_type": "code",
   "execution_count": 6,
   "metadata": {},
   "outputs": [],
   "source": [
    "import plotly.plotly as py\n",
    "import plotly.graph_objs as go\n",
    "\n",
    "trace0 = go.Scatter(\n",
    "    x=[1, 2],\n",
    "    y=[1, 2]\n",
    ")\n",
    "\n",
    "trace1 = go.Scatter(\n",
    "    x=[1, 2],\n",
    "    y=[2, 3]\n",
    ")\n",
    "\n",
    "trace2 = go.Scatter(\n",
    "    x=[1, 2],\n",
    "    y=[3, 4]\n",
    ")\n",
    "\n",
    "data = [trace0, trace1, trace2]\n",
    "\n",
    "# Take 1: if there is no data in the plot, 'extend' will create new traces.\n",
    "plot_url = py.plot(data, filename='extend plot', fileopt='extend')"
   ]
  },
  {
   "cell_type": "markdown",
   "metadata": {},
   "source": [
    "Then, extend the traces with more data. "
   ]
  },
  {
   "cell_type": "code",
   "execution_count": 8,
   "metadata": {},
   "outputs": [
    {
     "data": {
      "text/html": [
       "<iframe id=\"igraph\" scrolling=\"no\" style=\"border:none;\" seamless=\"seamless\" src=\"https://plot.ly/~chelsea_lyn/17385.embed\" height=\"525px\" width=\"100%\"></iframe>"
      ],
      "text/plain": [
       "<plotly.tools.PlotlyDisplay object>"
      ]
     },
     "execution_count": 8,
     "metadata": {},
     "output_type": "execute_result"
    }
   ],
   "source": [
    "import plotly.plotly as py\n",
    "import plotly.graph_objs as go\n",
    "\n",
    "trace0 = go.Scatter(\n",
    "    x=[3, 4],\n",
    "    y=[2, 1]\n",
    ")\n",
    "\n",
    "trace1 = go.Scatter(\n",
    "    x=[3, 4],\n",
    "    y=[3, 2]\n",
    ")\n",
    "\n",
    "trace2 = go.Scatter(\n",
    "    x=[3, 4],\n",
    "    y=[4, 3]\n",
    ")\n",
    "\n",
    "data = [trace0, trace1, trace2]\n",
    "\n",
    "# Take 2: extend the traces on the plot with the data in the order supplied.\n",
    "py.iplot(data, filename='extend plot', fileopt='extend')"
   ]
  },
  {
   "cell_type": "markdown",
   "metadata": {},
   "source": [
    "### Delete \n",
    "#### Imports and Credentials\n",
    "In additional to importing python's `requests` and `json` packages, this tutorial also uses [Plotly's REST API](https://api.plot.ly/v2/)\n",
    "\n",
    "First define YOUR [username and api key](https://plot.ly/settings/api) and create `auth` and `headers` to use with `requests`"
   ]
  },
  {
   "cell_type": "code",
   "execution_count": 1,
   "metadata": {
    "collapsed": true
   },
   "outputs": [],
   "source": [
    "import plotly\n",
    "import plotly.plotly as py\n",
    "\n",
    "import json\n",
    "import requests\n",
    "from requests.auth import HTTPBasicAuth\n",
    "\n",
    "username = 'private_plotly' # Replace with YOUR USERNAME\n",
    "api_key = 'k0yy0ztssk' # Replace with YOUR API KEY\n",
    "\n",
    "auth = HTTPBasicAuth(username, api_key)\n",
    "headers = {'Plotly-Client-Platform': 'python'}\n",
    "\n",
    "plotly.tools.set_credentials_file(username=username, api_key=api_key)"
   ]
  },
  {
   "cell_type": "markdown",
   "metadata": {},
   "source": [
    "#### [Trash](https://api.plot.ly/v2/files/#trash) and [Restore](https://api.plot.ly/v2/files/#restore)\n",
    "Create a plot and return the url to see the file id which will be used to delete the plot. "
   ]
  },
  {
   "cell_type": "code",
   "execution_count": 32,
   "metadata": {},
   "outputs": [
    {
     "data": {
      "text/plain": [
       "u'https://plot.ly/~private_plotly/52'"
      ]
     },
     "execution_count": 32,
     "metadata": {},
     "output_type": "execute_result"
    }
   ],
   "source": [
    "url = py.plot({\"data\": [{\"x\": [1, 2, 3],\n",
    "                         \"y\": [4, 2, 4]}],\n",
    "               \"layout\": {\"title\": \"Let's Trash This Plot<br>(then restore it)\"}},\n",
    "              filename='trash example') \n",
    "\n",
    "url"
   ]
  },
  {
   "cell_type": "markdown",
   "metadata": {},
   "source": [
    "Include the file id in your request. <br>The file id is your `username:plot_id#`"
   ]
  },
  {
   "cell_type": "code",
   "execution_count": 33,
   "metadata": {},
   "outputs": [
    {
     "data": {
      "text/plain": [
       "'private_plotly:18'"
      ]
     },
     "execution_count": 33,
     "metadata": {},
     "output_type": "execute_result"
    }
   ],
   "source": [
    "fid = username+':18'\n",
    "fid"
   ]
  },
  {
   "cell_type": "markdown",
   "metadata": {},
   "source": [
    "The following request moves the plot from the [organize folder](https://plot.ly/organize/home) into the trash. <br>Note: a successful trash request will return a `Response [200]`."
   ]
  },
  {
   "cell_type": "code",
   "execution_count": 34,
   "metadata": {},
   "outputs": [
    {
     "data": {
      "text/plain": [
       "<Response [200]>"
      ]
     },
     "execution_count": 34,
     "metadata": {},
     "output_type": "execute_result"
    }
   ],
   "source": [
    "requests.post('https://api.plot.ly/v2/files/'+fid+'/trash', auth=auth, headers=headers)"
   ]
  },
  {
   "cell_type": "markdown",
   "metadata": {},
   "source": [
    "Now if you visit the url, the plot won't be there. <br>However, at this point, there is the option to restore the plot (i.e. move it out of trash and back to the organize folder) with the following request:"
   ]
  },
  {
   "cell_type": "markdown",
   "metadata": {},
   "source": [
    " "
   ]
  },
  {
   "cell_type": "markdown",
   "metadata": {},
   "source": [
    "#### [<b>PERMANENT</b> Delete](https://api.plot.ly/v2/files/#permanent_delete)\n",
    "\n",
    "This request <b>CANNOT!!!!!!!</b> be restored. \n",
    "Only use `permanent_delete` when <b>absolutely sure the plot is no longer needed</b>.<br>"
   ]
  },
  {
   "cell_type": "code",
   "execution_count": 35,
   "metadata": {},
   "outputs": [
    {
     "data": {
      "text/plain": [
       "u'https://plot.ly/~private_plotly/79'"
      ]
     },
     "execution_count": 35,
     "metadata": {},
     "output_type": "execute_result"
    }
   ],
   "source": [
    "url = py.plot({\"data\": [{\"x\": [1, 2, 3],\n",
    "                         \"y\": [3, 2, 1]}],\n",
    "               \"layout\": {\"title\": \"Let's Delete This Plot<br><b>FOREVER!!!!</b>\"}},\n",
    "              filename='PERMANENT delete ex') \n",
    "url"
   ]
  },
  {
   "cell_type": "code",
   "execution_count": 36,
   "metadata": {},
   "outputs": [
    {
     "data": {
      "text/plain": [
       "'private_plotly:79'"
      ]
     },
     "execution_count": 36,
     "metadata": {},
     "output_type": "execute_result"
    }
   ],
   "source": [
    "fid_permanent_delete = username+':79'\n",
    "fid_permanent_delete"
   ]
  },
  {
   "cell_type": "markdown",
   "metadata": {},
   "source": [
    "To <b>PERMANENTLY</b> delete a plot, first move the plot to the trash (as seen above):"
   ]
  },
  {
   "cell_type": "code",
   "execution_count": 37,
   "metadata": {},
   "outputs": [
    {
     "data": {
      "text/plain": [
       "<Response [200]>"
      ]
     },
     "execution_count": 37,
     "metadata": {},
     "output_type": "execute_result"
    }
   ],
   "source": [
    "requests.post('https://api.plot.ly/v2/files/'+fid_permanent_delete+'/trash', auth=auth, headers=headers)"
   ]
  },
  {
   "cell_type": "markdown",
   "metadata": {},
   "source": [
    "Then [<b>permanent</b> delete](https://api.plot.ly/v2/files/#permanent_delete).<br>\n",
    "Note: a successful permanent delete request will return a `Response [204]` (No Content)."
   ]
  },
  {
   "cell_type": "code",
   "execution_count": 38,
   "metadata": {},
   "outputs": [
    {
     "data": {
      "text/plain": [
       "<Response [204]>"
      ]
     },
     "execution_count": 38,
     "metadata": {},
     "output_type": "execute_result"
    }
   ],
   "source": [
    "requests.delete('https://api.plot.ly/v2/files/'+fid_permanent_delete+'/permanent_delete', auth=auth, headers=headers)"
   ]
  },
  {
   "cell_type": "markdown",
   "metadata": {},
   "source": [
    "#### Delete All Plots and Grids PERMANENTLY!\n",
    "In order to delete all plots and grids permanently, you need to delete all of your plots first, then delete all the associated grids."
   ]
  },
  {
   "cell_type": "code",
   "execution_count": null,
   "metadata": {
    "collapsed": true
   },
   "outputs": [],
   "source": [
    "def get_pages(username, page_size):\n",
    "    url = 'https://api.plot.ly/v2/folders/all?user='+username+'&page_size='+str(page_size)\n",
    "    response = requests.get(url, auth=auth, headers=headers)\n",
    "    if response.status_code != 200:\n",
    "        return\n",
    "    page = json.loads(response.content)\n",
    "    yield page\n",
    "    while True:\n",
    "        resource = page['children']['next'] \n",
    "        if not resource:\n",
    "            break\n",
    "        response = requests.get(resource, auth=auth, headers=headers)\n",
    "        if response.status_code != 200:\n",
    "            break\n",
    "        page = json.loads(response.content)\n",
    "        yield page\n",
    "        \n",
    "def permanently_delete_files(username, page_size=500, filetype_to_delete='plot'):\n",
    "    for page in get_pages(username, page_size):\n",
    "        for x in range(0, len(page['children']['results'])):\n",
    "            fid = page['children']['results'][x]['fid']\n",
    "            res = requests.get('https://api.plot.ly/v2/files/' + fid, auth=auth, headers=headers)\n",
    "            res.raise_for_status()\n",
    "            if res.status_code == 200:\n",
    "                json_res = json.loads(res.content)\n",
    "                if json_res['filetype'] == filetype_to_delete:\n",
    "                    # move to trash\n",
    "                    requests.post('https://api.plot.ly/v2/files/'+fid+'/trash', auth=auth, headers=headers)\n",
    "                    # permanently delete\n",
    "                    requests.delete('https://api.plot.ly/v2/files/'+fid+'/permanent_delete', auth=auth, headers=headers)\n",
    "\n",
    "permanently_delete_files(username, filetype_to_delete='plot')\n",
    "permanently_delete_files(username, filetype_to_delete='grid')"
   ]
  },
  {
   "cell_type": "markdown",
   "metadata": {},
   "source": [
    "### Privacy"
   ]
  },
  {
   "cell_type": "markdown",
   "metadata": {},
   "source": [
    "#### Public Graphs"
   ]
  },
  {
   "cell_type": "code",
   "execution_count": 1,
   "metadata": {},
   "outputs": [
    {
     "data": {
      "text/html": [
       "<iframe id=\"igraph\" scrolling=\"no\" style=\"border:none;\" seamless=\"seamless\" src=\"https://plot.ly/~chelsea_lyn/11804.embed\" height=\"525px\" width=\"100%\"></iframe>"
      ],
      "text/plain": [
       "<plotly.tools.PlotlyDisplay object>"
      ]
     },
     "execution_count": 1,
     "metadata": {},
     "output_type": "execute_result"
    }
   ],
   "source": [
    "import plotly.plotly as py\n",
    "from plotly.graph_objs import *\n",
    "\n",
    "data = Data([\n",
    "    Scatter(\n",
    "        x=[1, 2, 3],\n",
    "        y=[1, 3, 1]\n",
    "    )\n",
    "])\n",
    "py.iplot(data, filename='privacy-public', sharing='public')"
   ]
  },
  {
   "cell_type": "markdown",
   "metadata": {},
   "source": [
    "Below is the URL of this public plot.  Anyone can view public plots even if they are not logged into Plotly.  Go ahead and try it out:"
   ]
  },
  {
   "cell_type": "code",
   "execution_count": 2,
   "metadata": {},
   "outputs": [
    {
     "data": {
      "text/plain": [
       "u'https://plot.ly/~chelsea_lyn/11804'"
      ]
     },
     "execution_count": 2,
     "metadata": {},
     "output_type": "execute_result"
    }
   ],
   "source": [
    "py.plot(data, filename='privacy-public', sharing='public')"
   ]
  },
  {
   "cell_type": "markdown",
   "metadata": {},
   "source": [
    "#### Private Graphs"
   ]
  },
  {
   "cell_type": "code",
   "execution_count": 3,
   "metadata": {},
   "outputs": [
    {
     "data": {
      "text/html": [
       "<iframe id=\"igraph\" scrolling=\"no\" style=\"border:none;\" seamless=\"seamless\" src=\"https://plot.ly/~chelsea_lyn/11806.embed\" height=\"525px\" width=\"100%\"></iframe>"
      ],
      "text/plain": [
       "<plotly.tools.PlotlyDisplay object>"
      ]
     },
     "execution_count": 3,
     "metadata": {},
     "output_type": "execute_result"
    }
   ],
   "source": [
    "py.iplot(data, filename='privacy-private', sharing='private')"
   ]
  },
  {
   "cell_type": "markdown",
   "metadata": {},
   "source": [
    "Below is the URL of the private plot above. Only the owner can view the private plot. You won't be able to view this plot, try it out:"
   ]
  },
  {
   "cell_type": "code",
   "execution_count": 4,
   "metadata": {},
   "outputs": [
    {
     "data": {
      "text/plain": [
       "u'https://plot.ly/~chelsea_lyn/11806'"
      ]
     },
     "execution_count": 4,
     "metadata": {},
     "output_type": "execute_result"
    }
   ],
   "source": [
    "py.plot(data, filename='privacy-private', sharing='private')"
   ]
  },
  {
   "cell_type": "markdown",
   "metadata": {},
   "source": [
    "#### Secret Graphs "
   ]
  },
  {
   "cell_type": "code",
   "execution_count": 5,
   "metadata": {
    "scrolled": true
   },
   "outputs": [
    {
     "data": {
      "text/html": [
       "<iframe id=\"igraph\" scrolling=\"no\" style=\"border:none;\" seamless=\"seamless\" src=\"https://plot.ly/~chelsea_lyn/11808.embed?share_key=BhUjltcrv52kYxiz8zKgT7\" height=\"525px\" width=\"100%\"></iframe>"
      ],
      "text/plain": [
       "<plotly.tools.PlotlyDisplay object>"
      ]
     },
     "execution_count": 5,
     "metadata": {},
     "output_type": "execute_result"
    }
   ],
   "source": [
    "py.iplot(data, filename='privacy-secret', sharing='secret')"
   ]
  },
  {
   "cell_type": "markdown",
   "metadata": {},
   "source": [
    "Below is the URL of this secret plot. Anyone with the secret link can view this chart. However, it will not appear in the Plotly feed, your profile, or search engines. Go ahead and try it out:"
   ]
  },
  {
   "cell_type": "code",
   "execution_count": 6,
   "metadata": {},
   "outputs": [
    {
     "data": {
      "text/plain": [
       "u'https://plot.ly/~chelsea_lyn/11808?share_key=BhUjltcrv52kYxiz8zKgT7'"
      ]
     },
     "execution_count": 6,
     "metadata": {},
     "output_type": "execute_result"
    }
   ],
   "source": [
    "py.plot(data, filename='privacy-secret', sharing='secret')"
   ]
  },
  {
   "cell_type": "markdown",
   "metadata": {},
   "source": [
    "#### Make All Future Plots Private\n",
    "To make all future plots private, you can update your configuration file to create private plots by default:"
   ]
  },
  {
   "cell_type": "code",
   "execution_count": 7,
   "metadata": {
    "collapsed": true
   },
   "outputs": [],
   "source": [
    "import plotly \n",
    "plotly.tools.set_config_file(world_readable=False, sharing='private')"
   ]
  },
  {
   "cell_type": "markdown",
   "metadata": {},
   "source": [
    "#### Make All Exsisting Plots Private\n",
    "This example uses [Plotly's REST API](https://api.plot.ly/v2/)"
   ]
  },
  {
   "cell_type": "code",
   "execution_count": 8,
   "metadata": {
    "collapsed": true
   },
   "outputs": [],
   "source": [
    "import json\n",
    "import requests\n",
    "from requests.auth import HTTPBasicAuth"
   ]
  },
  {
   "cell_type": "markdown",
   "metadata": {},
   "source": [
    "Define variables, including YOUR [USERNAME and API KEY](https://plot.ly/settings/api)"
   ]
  },
  {
   "cell_type": "code",
   "execution_count": 9,
   "metadata": {},
   "outputs": [],
   "source": [
    "username = 'private_plotly' # Replace with YOUR USERNAME\n",
    "api_key = 'k0yy0ztssk' # Replace with YOUR API KEY\n",
    "\n",
    "auth = HTTPBasicAuth(username, api_key)\n",
    "headers = {'Plotly-Client-Platform': 'python'}\n",
    "\n",
    "page_size = 500"
   ]
  },
  {
   "cell_type": "markdown",
   "metadata": {},
   "source": [
    "Collect filenames of <b>ALL</b> of your plots and <br>update `world_readable` of each plot with a PATCH request"
   ]
  },
  {
   "cell_type": "code",
   "execution_count": 10,
   "metadata": {},
   "outputs": [
    {
     "name": "stdout",
     "output_type": "stream",
     "text": [
      "ALL of your plots are now private - visit: https://plot.ly/organize/home to view your private plots!\n"
     ]
    }
   ],
   "source": [
    "def get_pages(username, page_size):\n",
    "    url = 'https://api.plot.ly/v2/folders/all?user='+username+'&filetype=plot&page_size='+str(page_size)\n",
    "    response = requests.get(url, auth=auth, headers=headers)\n",
    "    if response.status_code != 200:\n",
    "        return\n",
    "    page = json.loads(response.content)\n",
    "    yield page\n",
    "    while True:\n",
    "        resource = page['children']['next'] \n",
    "        if not resource:\n",
    "            break\n",
    "        response = requests.get(resource, auth=auth, headers=headers)\n",
    "        if response.status_code != 200:\n",
    "            break\n",
    "        page = json.loads(response.content)\n",
    "        yield page\n",
    "        \n",
    "def make_all_plots_private(username, page_size=500):\n",
    "    for page in get_pages(username, page_size):\n",
    "        for x in range(0, len(page['children']['results'])):\n",
    "            fid = page['children']['results'][x]['fid']\n",
    "            requests.patch('https://api.plot.ly/v2/files/'+fid, {\"world_readable\": False}, auth=auth, headers=headers)\n",
    "    print('ALL of your plots are now private - visit: https://plot.ly/organize/home to view your private plots!') \n",
    "    \n",
    "make_all_plots_private(username)"
   ]
  },
  {
   "cell_type": "markdown",
   "metadata": {},
   "source": [
    "### Reference"
   ]
  },
  {
   "cell_type": "code",
   "execution_count": 11,
   "metadata": {},
   "outputs": [
    {
     "name": "stdout",
     "output_type": "stream",
     "text": [
      "Help on function plot in module plotly.plotly.plotly:\n",
      "\n",
      "plot(figure_or_data, validate=True, **plot_options)\n",
      "    Create a unique url for this plot in Plotly and optionally open url.\n",
      "    \n",
      "    plot_options keyword agruments:\n",
      "    filename (string) -- the name that will be associated with this figure\n",
      "    fileopt ('new' | 'overwrite' | 'extend' | 'append') -- 'new' creates a\n",
      "        'new': create a new, unique url for this plot\n",
      "        'overwrite': overwrite the file associated with `filename` with this\n",
      "        'extend': add additional numbers (data) to existing traces\n",
      "        'append': add additional traces to existing data lists\n",
      "    auto_open (default=True) -- Toggle browser options\n",
      "        True: open this plot in a new browser tab\n",
      "        False: do not open plot in the browser, but do return the unique url\n",
      "    sharing ('public' | 'private' | 'secret') -- Toggle who can view this\n",
      "                                                  graph\n",
      "        - 'public': Anyone can view this graph. It will appear in your profile\n",
      "                    and can appear in search engines. You do not need to be\n",
      "                    logged in to Plotly to view this chart.\n",
      "        - 'private': Only you can view this plot. It will not appear in the\n",
      "                     Plotly feed, your profile, or search engines. You must be\n",
      "                     logged in to Plotly to view this graph. You can privately\n",
      "                     share this graph with other Plotly users in your online\n",
      "                     Plotly account and they will need to be logged in to\n",
      "                     view this plot.\n",
      "        - 'secret': Anyone with this secret link can view this chart. It will\n",
      "                    not appear in the Plotly feed, your profile, or search\n",
      "                    engines. If it is embedded inside a webpage or an IPython\n",
      "                    notebook, anybody who is viewing that page will be able to\n",
      "                    view the graph. You do not need to be logged in to view\n",
      "                    this plot.\n",
      "    world_readable (default=True) -- Deprecated: use \"sharing\".\n",
      "                                     Make this figure private/public\n",
      "\n"
     ]
    }
   ],
   "source": [
    "help(py.plot)"
   ]
  },
  {
   "cell_type": "code",
   "execution_count": null,
   "metadata": {},
   "outputs": [],
   "source": []
  }
 ],
 "metadata": {
  "kernelspec": {
   "display_name": "Python 3",
   "language": "python",
   "name": "dspxi"
  },
  "language_info": {
   "codemirror_mode": {
    "name": "ipython",
    "version": 3
   },
   "file_extension": ".py",
   "mimetype": "text/x-python",
   "name": "python",
   "nbconvert_exporter": "python",
   "pygments_lexer": "ipython3",
   "version": "3.6.8"
  },
  "toc": {
   "base_numbering": 1,
   "nav_menu": {},
   "number_sections": true,
   "sideBar": true,
   "skip_h1_title": false,
   "title_cell": "Table of Contents",
   "title_sidebar": "Contents",
   "toc_cell": false,
   "toc_position": {},
   "toc_section_display": true,
   "toc_window_display": true
  },
  "varInspector": {
   "cols": {
    "lenName": 16,
    "lenType": 16,
    "lenVar": 40
   },
   "kernels_config": {
    "python": {
     "delete_cmd_postfix": "",
     "delete_cmd_prefix": "del ",
     "library": "var_list.py",
     "varRefreshCmd": "print(var_dic_list())"
    },
    "r": {
     "delete_cmd_postfix": ") ",
     "delete_cmd_prefix": "rm(",
     "library": "var_list.r",
     "varRefreshCmd": "cat(var_dic_list()) "
    }
   },
   "types_to_exclude": [
    "module",
    "function",
    "builtin_function_or_method",
    "instance",
    "_Feature"
   ],
   "window_display": false
  }
 },
 "nbformat": 4,
 "nbformat_minor": 2
}
