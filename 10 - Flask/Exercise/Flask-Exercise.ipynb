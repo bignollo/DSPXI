{
 "cells": [
  {
   "cell_type": "markdown",
   "metadata": {},
   "source": [
    "# Exercise (2H Graded)\n",
    "\n",
    "use the templates provided to create an app that user will be subscribing to a newsletter.\n",
    "\n",
    "**Tasks**\n",
    "- The user must be able to provide name and email to your python app.\n",
    "- This must be saved to a database.\n",
    "- Validate the user inputs before inserting, if errir then __render_template__ `fail.html` passing to the page the error description.\n",
    "- If the user data is good then __render_template__ `finish.html`.\n",
    "- You must create the database and the table where the data will be stored.\n",
    "\n",
    "**Extra**\n",
    "\n",
    "- Add a new field called `city` to the app.\n",
    "\n",
    "**Deliverable**\n",
    "\n",
    "- Zip file to my email , including **ALL** the files to test your app. Any email received after 16h will be discarded.\n",
    "- Name the zip file with your name."
   ]
  }
 ],
 "metadata": {
  "kernelspec": {
   "display_name": "Python 3",
   "language": "python",
   "name": "dspxi"
  },
  "language_info": {
   "codemirror_mode": {
    "name": "ipython",
    "version": 3
   },
   "file_extension": ".py",
   "mimetype": "text/x-python",
   "name": "python",
   "nbconvert_exporter": "python",
   "pygments_lexer": "ipython3",
   "version": "3.6.8"
  },
  "toc": {
   "base_numbering": 1,
   "nav_menu": {},
   "number_sections": true,
   "sideBar": true,
   "skip_h1_title": false,
   "title_cell": "Table of Contents",
   "title_sidebar": "Contents",
   "toc_cell": false,
   "toc_position": {},
   "toc_section_display": true,
   "toc_window_display": false
  },
  "varInspector": {
   "cols": {
    "lenName": 16,
    "lenType": 16,
    "lenVar": 40
   },
   "kernels_config": {
    "python": {
     "delete_cmd_postfix": "",
     "delete_cmd_prefix": "del ",
     "library": "var_list.py",
     "varRefreshCmd": "print(var_dic_list())"
    },
    "r": {
     "delete_cmd_postfix": ") ",
     "delete_cmd_prefix": "rm(",
     "library": "var_list.r",
     "varRefreshCmd": "cat(var_dic_list()) "
    }
   },
   "types_to_exclude": [
    "module",
    "function",
    "builtin_function_or_method",
    "instance",
    "_Feature"
   ],
   "window_display": false
  }
 },
 "nbformat": 4,
 "nbformat_minor": 2
}
