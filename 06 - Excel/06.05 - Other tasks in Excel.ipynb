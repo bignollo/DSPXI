{
 "cells": [
  {
   "cell_type": "markdown",
   "metadata": {},
   "source": [
    "![image.png](https://raw.githubusercontent.com/fjvarasc/DSPXI/master/figures/python_logo.png)"
   ]
  },
  {
   "cell_type": "markdown",
   "metadata": {},
   "source": [
    "# Working with Dates"
   ]
  },
  {
   "cell_type": "code",
   "execution_count": null,
   "metadata": {
    "ExecuteTime": {
     "end_time": "2019-03-26T12:36:33.697062Z",
     "start_time": "2019-03-26T12:36:32.310661Z"
    }
   },
   "outputs": [],
   "source": [
    "import pandas as pd\n",
    "import numpy as np"
   ]
  },
  {
   "cell_type": "markdown",
   "metadata": {},
   "source": [
    "Load in the Excel data that represents a year's worth of sales."
   ]
  },
  {
   "cell_type": "code",
   "execution_count": null,
   "metadata": {
    "ExecuteTime": {
     "end_time": "2019-03-26T12:52:04.579010Z",
     "start_time": "2019-03-26T12:52:01.545824Z"
    }
   },
   "outputs": [],
   "source": [
    "df = pd.read_excel(\"https://github.com/fjvarasc/DSPXI/blob/master/data/sample-salesv3.xlsx?raw=true\")\n",
    "#Using the below code we are making sure that 'date' column from csv is a datetime field in the dataframe\n",
    "df['date'] = df['date'].astype('datetime64[ns]')"
   ]
  },
  {
   "cell_type": "markdown",
   "metadata": {},
   "source": [
    "Using pandas, you can do complex filtering on dates. Before doing anything with dates, I encourage you to sort by the date column to make sure the results return what you are expecting."
   ]
  },
  {
   "cell_type": "code",
   "execution_count": null,
   "metadata": {
    "ExecuteTime": {
     "end_time": "2019-03-26T12:42:09.042913Z",
     "start_time": "2019-03-26T12:42:08.923872Z"
    }
   },
   "outputs": [],
   "source": [
    "df = df.sort_values(by=['date'])\n",
    "df.head()\n"
   ]
  },
  {
   "cell_type": "markdown",
   "metadata": {},
   "source": [
    "The python filtering syntax shown before works with dates."
   ]
  },
  {
   "cell_type": "code",
   "execution_count": null,
   "metadata": {
    "ExecuteTime": {
     "end_time": "2019-03-26T12:50:45.639833Z",
     "start_time": "2019-03-26T12:50:45.511723Z"
    }
   },
   "outputs": [],
   "source": [
    "df[df['date'] >='2014-09-05'].head()"
   ]
  },
  {
   "cell_type": "markdown",
   "metadata": {},
   "source": [
    "One of the really nice features of pandas is that it understands dates so will allow us to do partial filtering. If we want to only look for data more recent than a specific month, we can do so."
   ]
  },
  {
   "cell_type": "code",
   "execution_count": null,
   "metadata": {
    "ExecuteTime": {
     "end_time": "2019-03-26T12:50:48.538983Z",
     "start_time": "2019-03-26T12:50:48.426109Z"
    }
   },
   "outputs": [],
   "source": [
    "df[df['date'] >='2014-03'].head()"
   ]
  },
  {
   "cell_type": "markdown",
   "metadata": {},
   "source": [
    "Of course, you can chain the criteria."
   ]
  },
  {
   "cell_type": "code",
   "execution_count": null,
   "metadata": {
    "ExecuteTime": {
     "end_time": "2019-03-26T12:52:35.255975Z",
     "start_time": "2019-03-26T12:52:35.125489Z"
    }
   },
   "outputs": [],
   "source": [
    "df[(df['date'] >='20140702') & (df['date'] <= '2014-07-15')].head()"
   ]
  },
  {
   "cell_type": "markdown",
   "metadata": {},
   "source": [
    "Because pandas understands date columns, you can express the date value in multiple formats and it will give you the results you expect."
   ]
  },
  {
   "cell_type": "code",
   "execution_count": null,
   "metadata": {
    "ExecuteTime": {
     "end_time": "2019-03-26T12:51:06.597969Z",
     "start_time": "2019-03-26T12:51:06.491688Z"
    }
   },
   "outputs": [],
   "source": [
    "df[df['date'] >= 'Oct-2014'].head()"
   ]
  },
  {
   "cell_type": "code",
   "execution_count": null,
   "metadata": {
    "ExecuteTime": {
     "end_time": "2019-03-26T12:52:20.634488Z",
     "start_time": "2019-03-26T12:52:20.504570Z"
    }
   },
   "outputs": [],
   "source": [
    "df[df['date'] >= '102014'].head()"
   ]
  },
  {
   "cell_type": "markdown",
   "metadata": {},
   "source": [
    "When working with time series data, if we convert the data to use the date as at the index, we can do some more filtering.\n",
    "\n",
    "Set the new index using `set_index`."
   ]
  },
  {
   "cell_type": "code",
   "execution_count": null,
   "metadata": {
    "ExecuteTime": {
     "end_time": "2019-03-26T12:52:42.110181Z",
     "start_time": "2019-03-26T12:52:41.967374Z"
    }
   },
   "outputs": [],
   "source": [
    "df2 = df.set_index(['date'])\n",
    "df2.head()"
   ]
  },
  {
   "cell_type": "markdown",
   "metadata": {},
   "source": [
    "We can slice the data to get a range."
   ]
  },
  {
   "cell_type": "code",
   "execution_count": null,
   "metadata": {
    "ExecuteTime": {
     "end_time": "2019-03-26T12:52:45.201745Z",
     "start_time": "2019-03-26T12:52:45.081665Z"
    }
   },
   "outputs": [],
   "source": [
    "df2[\"2014-01-01\":\"2014-02-01\"].head()"
   ]
  },
  {
   "cell_type": "markdown",
   "metadata": {},
   "source": [
    "Once again, we can use various date representations to remove any ambiguity around date naming conventions."
   ]
  },
  {
   "cell_type": "code",
   "execution_count": null,
   "metadata": {
    "ExecuteTime": {
     "end_time": "2019-03-26T12:52:48.010871Z",
     "start_time": "2019-03-26T12:52:47.898704Z"
    }
   },
   "outputs": [],
   "source": [
    "df2[\"2014-Jan-1\":\"2014-Feb-1\"].head()"
   ]
  },
  {
   "cell_type": "code",
   "execution_count": null,
   "metadata": {
    "ExecuteTime": {
     "end_time": "2019-03-26T12:52:56.113322Z",
     "start_time": "2019-03-26T12:52:55.991870Z"
    }
   },
   "outputs": [],
   "source": [
    "df2[\"2014-Jan-1\":\"2014-Feb-1\"].tail()"
   ]
  },
  {
   "cell_type": "code",
   "execution_count": null,
   "metadata": {
    "ExecuteTime": {
     "end_time": "2019-03-26T12:52:58.451623Z",
     "start_time": "2019-03-26T12:52:58.359176Z"
    }
   },
   "outputs": [],
   "source": [
    "df2[\"2014\"].head()"
   ]
  },
  {
   "cell_type": "code",
   "execution_count": null,
   "metadata": {
    "ExecuteTime": {
     "end_time": "2019-03-25T01:38:32.701587Z",
     "start_time": "2019-03-25T01:38:32.626867Z"
    }
   },
   "outputs": [],
   "source": [
    "df2[\"2014-Dec\"].head()"
   ]
  },
  {
   "cell_type": "markdown",
   "metadata": {},
   "source": [
    "# Additional String Functions"
   ]
  },
  {
   "cell_type": "markdown",
   "metadata": {},
   "source": [
    "Pandas has support for vectorized string functions as well. If we want to identify all the skus that contain a certain value, we can use `str.contains`. In this case, we know that the sku is always represented in the same way, so B1 only shows up in the front of the sku."
   ]
  },
  {
   "cell_type": "code",
   "execution_count": null,
   "metadata": {
    "ExecuteTime": {
     "end_time": "2019-03-26T14:43:04.068770Z",
     "start_time": "2019-03-26T14:43:03.918936Z"
    }
   },
   "outputs": [],
   "source": [
    "df[df['sku'].str.contains('B1')].head()"
   ]
  },
  {
   "cell_type": "markdown",
   "metadata": {},
   "source": [
    "We can string queries together and use sort to control how the data is ordered."
   ]
  },
  {
   "cell_type": "markdown",
   "metadata": {},
   "source": [
    "A common need in Excel is to understand all the unique items in a column. For instance, maybe we only want to know when customers purchased in this time period. The unique function makes this trivial."
   ]
  },
  {
   "cell_type": "code",
   "execution_count": null,
   "metadata": {
    "ExecuteTime": {
     "end_time": "2019-03-26T12:53:58.414372Z",
     "start_time": "2019-03-26T12:53:57.861838Z"
    }
   },
   "outputs": [],
   "source": [
    "df[(df['sku'].str.contains('B1-531')) & (df['quantity']>40)].sort_values(by=['quantity','name'],ascending=[0,1])"
   ]
  },
  {
   "cell_type": "markdown",
   "metadata": {},
   "source": [
    "# Bonus Task"
   ]
  },
  {
   "cell_type": "markdown",
   "metadata": {},
   "source": [
    "A very frequent scenario is trying to get a list of unique items in a long list within Excel. It is a multi-step process to do this in Excel but is fairly simple in pandas. We just use the [unique](https://pandas.pydata.org/pandas-docs/stable/reference/api/pandas.Series.unique.html) function on a column to get the list."
   ]
  },
  {
   "cell_type": "code",
   "execution_count": null,
   "metadata": {
    "ExecuteTime": {
     "end_time": "2019-03-26T12:54:12.052710Z",
     "start_time": "2019-03-26T12:54:12.011024Z"
    }
   },
   "outputs": [],
   "source": [
    "df[\"name\"].unique()"
   ]
  },
  {
   "cell_type": "markdown",
   "metadata": {},
   "source": [
    "If we wanted to include the account number, we could use `drop_duplicates`."
   ]
  },
  {
   "cell_type": "code",
   "execution_count": null,
   "metadata": {
    "ExecuteTime": {
     "end_time": "2019-03-26T12:54:17.329364Z",
     "start_time": "2019-03-26T12:54:17.176825Z"
    }
   },
   "outputs": [],
   "source": [
    "df.drop_duplicates(subset=[\"account number\",\"name\"]).head()"
   ]
  },
  {
   "cell_type": "markdown",
   "metadata": {},
   "source": [
    "We are obviously pulling in more data than we need and getting some non-useful information, so select only the first and second columns using [`iloc`](https://pandas.pydata.org/pandas-docs/stable/reference/api/pandas.DataFrame.iloc.html)."
   ]
  },
  {
   "cell_type": "code",
   "execution_count": null,
   "metadata": {
    "ExecuteTime": {
     "end_time": "2019-03-26T12:54:38.960456Z",
     "start_time": "2019-03-26T12:54:38.834072Z"
    }
   },
   "outputs": [],
   "source": [
    "df.drop_duplicates(subset=[\"account number\",\"name\"]).iloc[:,[0,1]]"
   ]
  },
  {
   "cell_type": "markdown",
   "metadata": {},
   "source": [
    "Now we encourage you to try and apply these ideas to some of your own repetitive Excel tasks and streamline your work flow."
   ]
  },
  {
   "cell_type": "markdown",
   "metadata": {},
   "source": [
    "# Guided Lab : Collecting the Data"
   ]
  },
  {
   "cell_type": "markdown",
   "metadata": {},
   "source": [
    "Import pandas and numpy"
   ]
  },
  {
   "cell_type": "code",
   "execution_count": null,
   "metadata": {},
   "outputs": [],
   "source": [
    "import pandas as pd\n",
    "import numpy as np"
   ]
  },
  {
   "cell_type": "markdown",
   "metadata": {},
   "source": [
    "let's import each of our files and combine them into one file. [Panda's concat and append](https://pandas.pydata.org/pandas-docs/stable/user_guide/merging.html) can do this for us. Then use append in this example.\n",
    "\n",
    "The code snippet below will initialize a blank DataFrame then append all of the individual files into the all_data DataFrame."
   ]
  },
  {
   "cell_type": "code",
   "execution_count": null,
   "metadata": {
    "ExecuteTime": {
     "end_time": "2019-03-26T14:17:09.236132Z",
     "start_time": "2019-03-26T14:16:57.780653Z"
    }
   },
   "outputs": [],
   "source": [
    "all_data = pd.DataFrame()\n",
    "df1 = pd.read_excel('https://github.com/fjvarasc/DSPXI/blob/master/data/sales-mar-2014.xlsx?raw=true')\n",
    "df2 = pd.read_excel('https://github.com/fjvarasc/DSPXI/blob/master/data/sales-feb-2014.xlsx?raw=true')\n",
    "df3 = pd.read_excel('https://github.com/fjvarasc/DSPXI/blob/master/data/sales-jan-2014.xlsx?raw=true')\n",
    "all_data = all_data.append([df1,df2,df3],ignore_index=True)"
   ]
  },
  {
   "cell_type": "code",
   "execution_count": null,
   "metadata": {
    "ExecuteTime": {
     "end_time": "2019-03-26T14:17:56.165858Z",
     "start_time": "2019-03-26T14:17:56.111592Z"
    }
   },
   "outputs": [],
   "source": [
    "all_data.dtypes"
   ]
  },
  {
   "cell_type": "markdown",
   "metadata": {},
   "source": [
    "Now we have all the data in our all_data DataFrame. but there is one detail, as we saw before the date field  is not recognized as date, it is not critical but the best practice is to convert the date column to a date time object. we can do so by running the below code."
   ]
  },
  {
   "cell_type": "code",
   "execution_count": null,
   "metadata": {
    "ExecuteTime": {
     "end_time": "2019-03-26T14:25:33.409887Z",
     "start_time": "2019-03-26T14:25:33.345715Z"
    }
   },
   "outputs": [],
   "source": [
    "all_data['date'] = all_data['date'].astype('datetime64[ns]')\n",
    "#all_data['date'] = pd.to_datetime(all_data['date']) this will be valid for the same too\n",
    "all_data.dtypes"
   ]
  },
  {
   "cell_type": "markdown",
   "metadata": {},
   "source": [
    "You can use describe to look at it and make sure you data looks good."
   ]
  },
  {
   "cell_type": "code",
   "execution_count": null,
   "metadata": {
    "ExecuteTime": {
     "end_time": "2019-03-26T14:25:36.560413Z",
     "start_time": "2019-03-26T14:25:36.371923Z"
    }
   },
   "outputs": [],
   "source": [
    "all_data.describe()"
   ]
  },
  {
   "cell_type": "markdown",
   "metadata": {},
   "source": [
    "A lot of this data may not make much sense for this data set but for outr purpose we are interested in the count row to make sure the number of data elements makes sense."
   ]
  },
  {
   "cell_type": "code",
   "execution_count": null,
   "metadata": {
    "ExecuteTime": {
     "end_time": "2019-03-26T14:25:38.383778Z",
     "start_time": "2019-03-26T14:25:38.271302Z"
    }
   },
   "outputs": [],
   "source": [
    "all_data.head()"
   ]
  },
  {
   "cell_type": "markdown",
   "metadata": {},
   "source": [
    "## Combining Data"
   ]
  },
  {
   "cell_type": "markdown",
   "metadata": {},
   "source": [
    "Now that we have all of the data into one DataFrame, we can do any manipulations the DataFrame supports. In this case, the next thing we want to do is read in another file that contains the customer status by account. You can think of this as a company's customer segmentation strategy or some other mechanism for identifying their customers.\n",
    "\n",
    "First, we read in the data."
   ]
  },
  {
   "cell_type": "code",
   "execution_count": null,
   "metadata": {
    "ExecuteTime": {
     "end_time": "2019-03-26T14:26:04.039462Z",
     "start_time": "2019-03-26T14:26:00.323747Z"
    }
   },
   "outputs": [],
   "source": [
    "status = pd.read_excel(\"https://github.com/fjvarasc/DSPXI/blob/master/data/customer-status.xlsx?raw=true\")\n",
    "status"
   ]
  },
  {
   "cell_type": "markdown",
   "metadata": {},
   "source": [
    "We want to merge this data with our concatenated data set of sales. We use panda's merge function and tell it to do a left join which is similar to Excel's vlookup function."
   ]
  },
  {
   "cell_type": "code",
   "execution_count": null,
   "metadata": {
    "ExecuteTime": {
     "end_time": "2019-03-26T14:26:13.623324Z",
     "start_time": "2019-03-26T14:26:13.427094Z"
    }
   },
   "outputs": [],
   "source": [
    "all_data_st = pd.merge(all_data, status, how='left')\n",
    "all_data_st.head()"
   ]
  },
  {
   "cell_type": "markdown",
   "metadata": {},
   "source": [
    "This looks pretty good but let's look at a specific account."
   ]
  },
  {
   "cell_type": "code",
   "execution_count": null,
   "metadata": {
    "ExecuteTime": {
     "end_time": "2019-03-26T14:27:15.060134Z",
     "start_time": "2019-03-26T14:27:14.958046Z"
    }
   },
   "outputs": [],
   "source": [
    "all_data_st[all_data_st[\"account number\"]==737550].head()"
   ]
  },
  {
   "cell_type": "markdown",
   "metadata": {},
   "source": [
    "This account number was not in our status file, so we have a bunch of NaN's. We can decide how we want to handle this situation. For this specific case, let's label all missing accounts as bronze. Use the fillna function to easily accomplish this on the status column."
   ]
  },
  {
   "cell_type": "code",
   "execution_count": null,
   "metadata": {
    "ExecuteTime": {
     "end_time": "2019-03-26T14:30:30.361039Z",
     "start_time": "2019-03-26T14:30:30.238119Z"
    }
   },
   "outputs": [],
   "source": [
    "all_data_st['status'].fillna('bronze',inplace=True)\n",
    "all_data_st.head()"
   ]
  },
  {
   "cell_type": "markdown",
   "metadata": {},
   "source": [
    "Check the data just to make sure we're all good."
   ]
  },
  {
   "cell_type": "code",
   "execution_count": null,
   "metadata": {
    "ExecuteTime": {
     "end_time": "2019-03-26T14:30:42.965758Z",
     "start_time": "2019-03-26T14:30:42.823476Z"
    }
   },
   "outputs": [],
   "source": [
    "all_data_st[all_data_st[\"account number\"]==737550].head()"
   ]
  },
  {
   "cell_type": "markdown",
   "metadata": {},
   "source": [
    "Now we have all of the data along with the status column filled in. We can do our normal data manipulations using the full suite of pandas capability."
   ]
  },
  {
   "cell_type": "markdown",
   "metadata": {},
   "source": [
    "## Using Categories"
   ]
  },
  {
   "cell_type": "markdown",
   "metadata": {},
   "source": [
    "One of the relatively new functions in pandas is support for categorical data. From the pandas, [documentation](https://pandas.pydata.org/pandas-docs/stable/user_guide/categorical.html).\n",
    "\n",
    "\"Categoricals are a pandas data type, which correspond to categorical variables in statistics: a variable, which can take on only a limited, and usually fixed, number of possible values (categories; levels in R). Examples are gender, social class, blood types, country affiliations, observation time or ratings via Likert scales.\"\n",
    "\n",
    "For our purposes, the status field is a good candidate for a category type."
   ]
  },
  {
   "cell_type": "markdown",
   "metadata": {},
   "source": [
    "First, we `typecast` it to a category using [astype](https://pandas.pydata.org/pandas-docs/stable/reference/api/pandas.DataFrame.astype.html)."
   ]
  },
  {
   "cell_type": "code",
   "execution_count": null,
   "metadata": {
    "ExecuteTime": {
     "end_time": "2019-03-26T14:34:02.437624Z",
     "start_time": "2019-03-26T14:34:02.413973Z"
    }
   },
   "outputs": [],
   "source": [
    "all_data_st[\"status\"] = all_data_st[\"status\"].astype(\"category\")"
   ]
  },
  {
   "cell_type": "markdown",
   "metadata": {},
   "source": [
    "This doesn't immediately appear to change anything yet."
   ]
  },
  {
   "cell_type": "code",
   "execution_count": null,
   "metadata": {
    "ExecuteTime": {
     "end_time": "2019-03-26T14:35:23.494347Z",
     "start_time": "2019-03-26T14:35:23.351280Z"
    }
   },
   "outputs": [],
   "source": [
    "all_data_st.head()"
   ]
  },
  {
   "cell_type": "markdown",
   "metadata": {},
   "source": [
    "Buy you can see that it is a new data type."
   ]
  },
  {
   "cell_type": "code",
   "execution_count": null,
   "metadata": {
    "ExecuteTime": {
     "end_time": "2019-03-26T14:35:28.686228Z",
     "start_time": "2019-03-26T14:35:28.636939Z"
    }
   },
   "outputs": [],
   "source": [
    "all_data_st.dtypes"
   ]
  },
  {
   "cell_type": "markdown",
   "metadata": {},
   "source": [
    "Categories get more interesting when you assign order to the categories. Right now, if we call sort on the column, it will sort alphabetically. "
   ]
  },
  {
   "cell_type": "code",
   "execution_count": null,
   "metadata": {
    "ExecuteTime": {
     "end_time": "2019-03-26T14:35:32.053230Z",
     "start_time": "2019-03-26T14:35:31.900502Z"
    }
   },
   "outputs": [],
   "source": [
    "all_data_st.sort_values(by=[\"status\"]).head()"
   ]
  },
  {
   "cell_type": "markdown",
   "metadata": {},
   "source": [
    "We use set_categories to tell it the order we want to use for this category object. In this case, we use the Olympic medal ordering."
   ]
  },
  {
   "cell_type": "code",
   "execution_count": null,
   "metadata": {
    "ExecuteTime": {
     "end_time": "2019-03-26T14:35:37.557120Z",
     "start_time": "2019-03-26T14:35:37.527591Z"
    }
   },
   "outputs": [],
   "source": [
    " all_data_st[\"status\"].cat.set_categories([ \"gold\",\"silver\",\"bronze\"],inplace=True)"
   ]
  },
  {
   "cell_type": "markdown",
   "metadata": {},
   "source": [
    "Now, we can sort it so that gold shows on top."
   ]
  },
  {
   "cell_type": "code",
   "execution_count": null,
   "metadata": {
    "ExecuteTime": {
     "end_time": "2019-03-26T14:35:40.912279Z",
     "start_time": "2019-03-26T14:35:40.784863Z"
    }
   },
   "outputs": [],
   "source": [
    "all_data_st.sort_values(by=[\"status\"]).head()"
   ]
  },
  {
   "cell_type": "code",
   "execution_count": null,
   "metadata": {
    "ExecuteTime": {
     "end_time": "2019-03-26T14:35:44.088351Z",
     "start_time": "2019-03-26T14:35:44.007646Z"
    }
   },
   "outputs": [],
   "source": [
    "all_data_st[\"status\"].describe()"
   ]
  },
  {
   "cell_type": "markdown",
   "metadata": {},
   "source": [
    "For instance, if you want to take a quick look at how your top tier customers are performaing compared to the bottom. Use groupby to give us the average of the values."
   ]
  },
  {
   "cell_type": "code",
   "execution_count": null,
   "metadata": {
    "ExecuteTime": {
     "end_time": "2019-03-26T14:48:37.810617Z",
     "start_time": "2019-03-26T14:48:37.708193Z"
    }
   },
   "outputs": [],
   "source": [
    "all_data_st.groupby([\"status\"])[\"quantity\",\"unit price\",\"ext price\"].mean()"
   ]
  },
  {
   "cell_type": "markdown",
   "metadata": {},
   "source": [
    "Of course, you can run multiple aggregation functions on the data to get really useful information "
   ]
  },
  {
   "cell_type": "code",
   "execution_count": null,
   "metadata": {
    "ExecuteTime": {
     "end_time": "2019-03-26T14:48:45.384478Z",
     "start_time": "2019-03-26T14:48:45.203744Z"
    }
   },
   "outputs": [],
   "source": [
    "all_data_st.groupby([\"status\"])[\"quantity\",\"unit price\",\"ext price\"].agg([np.sum,np.mean, np.std])"
   ]
  },
  {
   "cell_type": "markdown",
   "metadata": {},
   "source": [
    "So, what does this tell you? Well, the data is completely random but the first observation is that we sell more units to our bronze customers than gold. Even when you look at the total dollar value associated with bronze vs. gold, it looks backwards.\n",
    "\n",
    "Maybe we should look at how many bronze customers we have and see what is going on.\n",
    "\n",
    "What I plan to do is filter out the unique accounts and see how many gold, silver and bronze customers there are.\n",
    "\n",
    "We've purposely stringing a lot of commands together which is not necessarily best practice but does show how powerful pandas can be."
   ]
  },
  {
   "cell_type": "code",
   "execution_count": null,
   "metadata": {
    "ExecuteTime": {
     "end_time": "2019-03-26T14:50:08.696493Z",
     "start_time": "2019-03-26T14:50:08.591693Z"
    }
   },
   "outputs": [],
   "source": [
    "all_data_st.drop_duplicates(subset=[\"account number\",\"name\"]).iloc[:,[0,1,7]].groupby([\"status\"])[\"name\"].count()"
   ]
  },
  {
   "cell_type": "markdown",
   "metadata": {},
   "source": [
    "Ok. This makes a little more sense. We see that we have 9 bronze customers and only 4 gold customers. That is probably why the volumes are so skewed towards our bronze customers."
   ]
  },
  {
   "cell_type": "markdown",
   "metadata": {},
   "source": [
    "# Basic Excel with Python"
   ]
  },
  {
   "cell_type": "markdown",
   "metadata": {},
   "source": [
    "## Excel App"
   ]
  },
  {
   "cell_type": "code",
   "execution_count": null,
   "metadata": {},
   "outputs": [],
   "source": [
    "import win32com.client as win32\n",
    "excel = win32.gencache.EnsureDispatch('Excel.Application')\n",
    "default_path =  os.getcwd() + '\\\\' \n",
    "# we get current working directory for Excel, by default is the MS office folder in programs folder\n",
    "# we will use it to save files to specific directory, default is C:\\Program Files (x86)\\Microsoft Office\\OfficeXX \n",
    "print (excel.Path) #This is the default dir\n",
    "print (default_path) # This is our current working dir\n",
    "excel.Application.Quit() #Close the app"
   ]
  },
  {
   "cell_type": "markdown",
   "metadata": {},
   "source": [
    "### Open Excel, Add a Workbook\n",
    "\n",
    "The following script simply invokes Excel, adds a workbook and saves the empty workbook."
   ]
  },
  {
   "cell_type": "code",
   "execution_count": null,
   "metadata": {},
   "outputs": [],
   "source": [
    "#\n",
    "# Add a workbook and save (Excel 2007)\n",
    "# For older versions of excel, use the .xls file extension\n",
    "#\n",
    "import win32com.client as win32\n",
    "#excel = win32com.client.Dispatch(\"Excel.Application\")\n",
    "excel = win32.gencache.EnsureDispatch('Excel.Application')\n",
    "#by use DisplayAlerts we default all excel dialogs, example : it will overwrite a file in case the file exists\n",
    "excel.DisplayAlerts = False \n",
    "excel.Application.ChDir = default_path\n",
    "wb = excel.Workbooks.Add()\n",
    "wb.SaveAs(default_path + 'add_a_workbook.xlsx')\n",
    "excel.Application.Quit()"
   ]
  },
  {
   "cell_type": "markdown",
   "metadata": {},
   "source": [
    "### Open an Existing Workbook\n",
    "\n",
    "This script opens an existing workbook and displays it (note the statement excel.Visible =True). The file workbook1.xlsx must already exist in your “My Documents” directory. You can also open spreadsheet files by specifying the full path to the file as shown below. Using r'in the statement r'C:\\myfiles\\excel\\workbook2.xlsx' automatically escapes the backslash characters and makes the file name a bit more concise."
   ]
  },
  {
   "cell_type": "code",
   "execution_count": null,
   "metadata": {},
   "outputs": [],
   "source": [
    "#\n",
    "# Open an existing workbook\n",
    "#\n",
    "import win32com.client as win32\n",
    "excel = win32.gencache.EnsureDispatch('Excel.Application')\n",
    "wb = excel.Workbooks.Open(default_path + 'customer-status.xlsx')\n",
    "excel.Visible = True"
   ]
  },
  {
   "cell_type": "markdown",
   "metadata": {},
   "source": [
    "### Add a Worksheet\n",
    "\n",
    "This script creates a new workbook with three sheets, adds a fourth worksheet and names it MyNewSheet."
   ]
  },
  {
   "cell_type": "code",
   "execution_count": null,
   "metadata": {},
   "outputs": [],
   "source": [
    "#\n",
    "# Add a workbook, add a worksheet,\n",
    "# name it 'MyNewSheet' and save\n",
    "#\n",
    "import win32com.client as win32\n",
    "excel = win32.gencache.EnsureDispatch('Excel.Application')\n",
    "wb = excel.Workbooks.Add()\n",
    "ws = wb.Worksheets.Add()\n",
    "ws.Name = \"MyNewSheet\"\n",
    "wb.SaveAs(default_path + 'add_a_worksheet.xlsx')\n",
    "excel.Application.Quit()"
   ]
  },
  {
   "cell_type": "markdown",
   "metadata": {},
   "source": [
    "### Ranges and Offsets\n",
    "\n",
    "This script illustrates different techniques for addressing cells by using the Cells() and Range()operators. Individual cells can be addressed using Cells(row,column), where row is the row number, column is the column number, both start from 1. Groups of cells can be addressed using Range(), where the argument in the parenthesis can be a single cell denoted by its textual name (eg \"A2\"), a group noted by a textual name with a colon (eg \"A3:B4\") or a group denoted with two Cells() identifiers (eg ws.Cells(1,1),ws.Cells(2,2)). The Offsetmethod provides a way to address a cell based on a reference to another cell."
   ]
  },
  {
   "cell_type": "code",
   "execution_count": null,
   "metadata": {},
   "outputs": [],
   "source": [
    "#\n",
    "# Using ranges and offsets\n",
    "#\n",
    "import win32com.client as win32\n",
    "excel = win32.gencache.EnsureDispatch('Excel.Application')\n",
    "wb = excel.Workbooks.Add()\n",
    "ws = wb.Worksheets(\"Sheet1\")\n",
    "ws.Cells(1,1).Value = \"Cell A1\"\n",
    "ws.Cells(1,1).Offset(2,4).Value = \"Cell D2\"\n",
    "ws.Range(\"A2\").Value = \"Cell A2\"\n",
    "ws.Range(\"A3:B4\").Value = \"A3:B4\"\n",
    "ws.Range(\"A6:B7,A9:B10\").Value = \"A6:B7,A9:B10\"\n",
    "wb.SaveAs(default_path + 'ranges_and_offsets.xlsx')\n",
    "excel.Application.Quit()"
   ]
  },
  {
   "cell_type": "markdown",
   "metadata": {},
   "source": [
    "### Autofill Cell Contents\n",
    "\n",
    "This script uses Excel’s autofill capability to examine data in cells A1 and A2, then autofill the remaining column of cells through A10."
   ]
  },
  {
   "cell_type": "code",
   "execution_count": null,
   "metadata": {},
   "outputs": [],
   "source": [
    "#\n",
    "# Autofill cell contents\n",
    "#\n",
    "import win32com.client as win32\n",
    "excel = win32.gencache.EnsureDispatch('Excel.Application')\n",
    "wb = excel.Workbooks.Add()\n",
    "ws = wb.Worksheets(\"Sheet1\")\n",
    "ws.Range(\"A1\").Value = 1\n",
    "ws.Range(\"A2\").Value = 2\n",
    "ws.Range(\"A1:A2\").AutoFill(ws.Range(\"A1:A10\"),win32.constants.xlFillDefault)\n",
    "wb.SaveAs(default_path + 'autofill_cells.xlsx')\n",
    "excel.Application.Quit()"
   ]
  },
  {
   "cell_type": "markdown",
   "metadata": {},
   "source": [
    "### Cell Color\n",
    "\n",
    "This script illustrates adding an interior color to the cell using Interior.ColorIndex. Column A, rows 1 through 20 are filled with a number and assigned that ColorIndex."
   ]
  },
  {
   "cell_type": "code",
   "execution_count": null,
   "metadata": {},
   "outputs": [],
   "source": [
    "#\n",
    "# Add an interior color to cells\n",
    "#\n",
    "import win32com.client as win32\n",
    "excel = win32.gencache.EnsureDispatch('Excel.Application')\n",
    "wb = excel.Workbooks.Add()\n",
    "ws = wb.Worksheets(\"Sheet1\")\n",
    "for i in range (1,21):\n",
    "    ws.Cells(i,1).Value = i\n",
    "    ws.Cells(i,1).Interior.ColorIndex = i\n",
    "wb.SaveAs(default_path + 'cell_color.xlsx')\n",
    "excel.Application.Quit()"
   ]
  },
  {
   "cell_type": "markdown",
   "metadata": {},
   "source": [
    "### Column Formatting\n",
    "\n",
    "This script creates two columns of data, one narrow and one wide, then formats the column width with the ColumnWidth property. You can also use the Columns.AutoFit() function to autofit all columns in the spreadsheet."
   ]
  },
  {
   "cell_type": "code",
   "execution_count": null,
   "metadata": {},
   "outputs": [],
   "source": [
    "#\n",
    "# Set column widths\n",
    "#\n",
    "import win32com.client as win32\n",
    "excel = win32.gencache.EnsureDispatch('Excel.Application')\n",
    "wb = excel.Workbooks.Add()\n",
    "ws = wb.Worksheets(\"Sheet1\")\n",
    "ws.Range(\"A1:A10\").Value = \"A\"\n",
    "ws.Range(\"B1:B10\").Value = \"This is a very long line of text\"\n",
    "ws.Columns(1).ColumnWidth = 1\n",
    "ws.Range(\"B:B\").ColumnWidth = 27\n",
    "# Alternately, you can autofit all columns in the worksheet\n",
    "# ws.Columns.AutoFit()\n",
    "wb.SaveAs(default_path + 'column_widths.xlsx')\n",
    "excel.Application.Quit()"
   ]
  },
  {
   "cell_type": "markdown",
   "metadata": {},
   "source": [
    "### Format Worksheet Cells\n",
    "\n",
    "This script creates two columns of data, then formats the font type and font size used in the worksheet. Five different fonts and sizes are used, the numbers are formatted using a monetary format."
   ]
  },
  {
   "cell_type": "code",
   "execution_count": null,
   "metadata": {},
   "outputs": [],
   "source": [
    "#\n",
    "# Format cell font name and size, format numbers in monetary format\n",
    "#\n",
    "import win32com.client as win32\n",
    "excel = win32.gencache.EnsureDispatch('Excel.Application')\n",
    "wb = excel.Workbooks.Add()\n",
    "ws = wb.Worksheets(\"Sheet1\")\n",
    "\n",
    "for i,font in enumerate([\"Arial\",\"Courier New\",\"Garamond\",\"Georgia\",\"Verdana\"]):\n",
    "    ws.Range(ws.Cells(i+1,1),ws.Cells(i+1,2)).Value = [font,i+i]\n",
    "    ws.Range(ws.Cells(i+1,1),ws.Cells(i+1,2)).Font.Name = font\n",
    "    ws.Range(ws.Cells(i+1,1),ws.Cells(i+1,2)).Font.Size = 12+i\n",
    "\n",
    "ws.Range(\"A1:A5\").HorizontalAlignment = win32.constants.xlRight\n",
    "ws.Range(\"B1:B5\").NumberFormat = \"$###,##0.00\"\n",
    "ws.Columns.AutoFit()\n",
    "wb.SaveAs(default_path + 'format_cells.xlsx')\n",
    "excel.Application.Quit()"
   ]
  },
  {
   "cell_type": "markdown",
   "metadata": {},
   "source": [
    "### Setting Row Height\n",
    "\n",
    "This script illustrates row height. Similar to column height, row height can be set with the RowHeight method. You can also useAutoFit() to automatically adjust the row height based on cell contents."
   ]
  },
  {
   "cell_type": "code",
   "execution_count": null,
   "metadata": {},
   "outputs": [],
   "source": [
    "#\n",
    "# Set row heights and align text within the cell\n",
    "#\n",
    "import win32com.client as win32\n",
    "excel = win32.gencache.EnsureDispatch('Excel.Application')\n",
    "wb = excel.Workbooks.Add()\n",
    "ws = wb.Worksheets(\"Sheet1\")\n",
    "ws.Range(\"A1:A2\").Value = \"1 line\"\n",
    "ws.Range(\"B1:B2\").Value = \"Two\\nlines\"\n",
    "ws.Range(\"C1:C2\").Value = \"Three\\nlines\\nhere\"\n",
    "ws.Range(\"D1:D2\").Value = \"This\\nis\\nfour\\nlines\"\n",
    "ws.Rows(1).RowHeight = 60\n",
    "ws.Range(\"2:2\").RowHeight = 120\n",
    "ws.Rows(1).VerticalAlignment = win32.constants.xlCenter\n",
    "ws.Range(\"2:2\").VerticalAlignment = win32.constants.xlCenter\n",
    "\n",
    "# Alternately, you can autofit all rows in the worksheet\n",
    "# ws.Rows.AutoFit()\n",
    "\n",
    "wb.SaveAs(default_path + 'row_height.xlsx')\n",
    "excel.Application.Quit()"
   ]
  },
  {
   "cell_type": "markdown",
   "metadata": {},
   "source": [
    "### Copying Data from Worksheet to Worksheet\n",
    "\n",
    "This script uses the FillAcrossSheets() method to copy data from one location to all other worksheets in the workbook. Specifically, the data in the range A1:J10 is copied from Sheet1 to sheets Sheet2 and Sheet3."
   ]
  },
  {
   "cell_type": "code",
   "execution_count": null,
   "metadata": {},
   "outputs": [],
   "source": [
    "#\n",
    "# Copy data and formatting from a range of one worksheet\n",
    "# to all other worksheets in a workbook\n",
    "#\n",
    "import win32com.client as win32\n",
    "excel = win32.gencache.EnsureDispatch('Excel.Application')\n",
    "wb = excel.Workbooks.Add()\n",
    "ws = wb.Worksheets(\"Sheet1\")\n",
    "ws.Range(\"A1:J10\").Formula = \"=row()*column()\"\n",
    "wb.Worksheets.FillAcrossSheets(wb.Worksheets(\"Sheet1\").Range(\"A1:J10\"))\n",
    "wb.SaveAs(default + 'copy_worksheet_to_worksheet.xlsx')\n",
    "excel.Application.Quit()"
   ]
  },
  {
   "cell_type": "markdown",
   "metadata": {},
   "source": [
    "### Conditional Formatting\n",
    "\n",
    "This script builds two data tables from scratch, applies conditional formatting to the tables and saves the result to ConditionalFormatting.xlsx. This script only works with Excel 2007 and later versions."
   ]
  },
  {
   "cell_type": "code",
   "execution_count": null,
   "metadata": {
    "scrolled": true
   },
   "outputs": [],
   "source": [
    "#http://pythonexcels.com/mapping-excel-vb-macros-to-python-revisited/\n",
    "#\n",
    "# conditionalformatting.py\n",
    "# Create two tables and apply Conditional Formatting\n",
    "#\n",
    "import win32com.client as win32\n",
    "excel = win32.gencache.EnsureDispatch('Excel.Application')\n",
    "#excel.Visible = True\n",
    "wb = excel.Workbooks.Add()\n",
    "ws = wb.Worksheets('Sheet1')\n",
    "ws.Range(\"B2:K2\").Value = [i for i in range(1,11)]\n",
    "ws.Range(\"B2:B11\").Value = [i for i in range(1,11)]\n",
    "ws.Range(\"C3\").Formula = \"=$B3*C$2\"\n",
    "ws.Range(\"C3:C3\").Select()\n",
    "excel.Selection.AutoFill(ws.Range(\"C3:K3\"),win32.constants.xlFillDefault)\n",
    "ws.Range(\"C3:K3\").Select()\n",
    "excel.Selection.AutoFill(ws.Range(\"C3:K11\"),win32.constants.xlFillDefault)\n",
    "ws.Range(\"B13:K22\").Formula = \"=INT(RAND()*100)\"\n",
    "ws.Range(\"B2:K22\").Select()\n",
    "excel.Selection.FormatConditions.AddColorScale(ColorScaleType = 3)\n",
    "excel.Selection.FormatConditions(excel.Selection.FormatConditions.Count).SetFirstPriority()\n",
    "[csc1,csc2,csc3] = [excel.Selection.FormatConditions(1).ColorScaleCriteria(n) for n in range(1,4)]\n",
    "csc1.Type = win32.constants.xlConditionValueLowestValue\n",
    "csc1.FormatColor.Color = 13011546\n",
    "csc1.FormatColor.TintAndShade = 0\n",
    "csc2.Type = win32.constants.xlConditionValuePercentile\n",
    "csc2.Value = 50\n",
    "csc2.FormatColor.Color = 8711167\n",
    "csc2.FormatColor.TintAndShade = 0\n",
    "csc3.Type = win32.constants.xlConditionValueHighestValue\n",
    "csc3.FormatColor.Color = 7039480\n",
    "csc3.FormatColor.TintAndShade = 0\n",
    "ws.Range(\"A1\").Select()\n",
    "wb.SaveAs(default_path + 'ConditionalFormatting.xlsx')\n",
    "excel.Application.Quit()"
   ]
  },
  {
   "cell_type": "markdown",
   "metadata": {},
   "source": [
    "## Mapping Excel VB Macros to Python\n",
    "A handy feature in Excel is the ability to quickly record a Visual Basic (VB) macro and save it. It’s also fairly simple to take a captured VB macro, tweak it slightly and use it in your Python scripts. This capability has been used over the years to capture a sequence of operations that modify a spreadsheet and build a pivot table or chart, then integrate the macro into a Python script.\n",
    "We will check how to capture a simple set of operations in a macro, examine the Visual Basic macro, port it to Python and run it. \n",
    "\n",
    "### Record Macro\n",
    "The first step is to capture the macro in Excel using Record Macro. In Excel 2007 and later the Developer tab that contains the Record Macro button is turned off by default, you will need to enable it by selecting “Excel Options” from the ribbon menu, then select “Popular” in the left hand column and select the “Show Developer tab in the Ribbon” checkbox as shown here."
   ]
  },
  {
   "cell_type": "markdown",
   "metadata": {},
   "source": [
    "![image.png](https://raw.githubusercontent.com/fjvarasc/DSPXI/master/figures/20091012_exceloptions.png)"
   ]
  },
  {
   "cell_type": "markdown",
   "metadata": {
    "ExecuteTime": {
     "end_time": "2019-03-27T15:08:28.159927Z",
     "start_time": "2019-03-27T15:08:28.111040Z"
    }
   },
   "source": [
    "Starting with a simple spreadsheet containing a table of data, click on the “Developer” tab, then “Record Macro”."
   ]
  },
  {
   "cell_type": "markdown",
   "metadata": {},
   "source": [
    "![image.png](https://raw.githubusercontent.com/fjvarasc/DSPXI/master/figures/20091012_recordmacro.png)"
   ]
  },
  {
   "cell_type": "markdown",
   "metadata": {},
   "source": [
    "If you’re using an older version of Excel, select Tools->Macro->Record New Macro from the menu as shown here.\n",
    "\n",
    "![image.png](https://raw.githubusercontent.com/fjvarasc/DSPXI/master/figures/20091012_recordmacroexcel2003.png)"
   ]
  },
  {
   "cell_type": "markdown",
   "metadata": {},
   "source": [
    "The goal is to expand the existing table to a 15×15 table, adjust the column width to make the table appear more square and save the new spreadsheet. Now that the macro is recording, the first step is to select the last row of data and expanding it by dragging it down an additional 5 rows. First, select the data:\n",
    "\n",
    "![image.png](https://raw.githubusercontent.com/fjvarasc/DSPXI/master/figures/20091012_selectrow.png)"
   ]
  },
  {
   "cell_type": "markdown",
   "metadata": {
    "ExecuteTime": {
     "end_time": "2019-03-27T15:11:36.800695Z",
     "start_time": "2019-03-27T15:11:36.748287Z"
    }
   },
   "source": [
    "then dragged to create 5 new rows of data.\n",
    "\n",
    "![image.png](https://raw.githubusercontent.com/fjvarasc/DSPXI/master/figures/20091012_dragrow.png)"
   ]
  },
  {
   "cell_type": "markdown",
   "metadata": {},
   "source": [
    "Do the same select and drag operation for the last column of data to create 5 new columns.\n",
    "\n",
    "![image.png](https://raw.githubusercontent.com/fjvarasc/DSPXI/master/figures/20091012_selectcolumn.png)\n",
    "![image.png](https://raw.githubusercontent.com/fjvarasc/DSPXI/master/figures/20091012_dragcolumn.png)"
   ]
  },
  {
   "cell_type": "markdown",
   "metadata": {},
   "source": [
    "Now you have a 15×15 multiplication table. To resize the columns, select the headers for columns B through P, click the right mouse and select “Column Width”.\n",
    "\n",
    "![image.png](https://raw.githubusercontent.com/fjvarasc/DSPXI/master/figures/20091012_columnwidth.png)"
   ]
  },
  {
   "cell_type": "markdown",
   "metadata": {},
   "source": [
    "Enter “4” as the new column width and click OK. The spreadsheet will now look like this:\n",
    "\n",
    "![image.png](https://raw.githubusercontent.com/fjvarasc/DSPXI/master/figures/20091012_resizecolumns.png)"
   ]
  },
  {
   "cell_type": "markdown",
   "metadata": {},
   "source": [
    "Now stop capturing the macro by clicking on Stop Recording\n",
    "![image.png](https://raw.githubusercontent.com/fjvarasc/DSPXI/master/figures/20091012_stoprecording.png)\n"
   ]
  },
  {
   "cell_type": "markdown",
   "metadata": {},
   "source": [
    "If you’re using an older version of Excel, select Tools->Macro->Stop Recording from the menu bar.\n",
    "\n",
    "To view the macro, click on the View Macros button\n",
    "\n",
    "![image.png](https://raw.githubusercontent.com/fjvarasc/DSPXI/master/figures/20091012_viewmacros.png)"
   ]
  },
  {
   "cell_type": "markdown",
   "metadata": {
    "ExecuteTime": {
     "end_time": "2019-03-27T17:29:00.816177Z",
     "start_time": "2019-03-27T17:29:00.615241Z"
    }
   },
   "source": [
    "For older versions of Excel, select Tools->Macro->Macros\n",
    "\n",
    "Select the macro you just recorded (this should be Macro1, but if you were experimenting you may have other macros, so select the highest numbered macro) and click Edit.\n",
    "\n",
    "![image.png](https://raw.githubusercontent.com/fjvarasc/DSPXI/master/figures/20091012_editmacro.png)\n",
    "\n",
    "This will open your macro in the Microsoft Visual Basic GUI, and it should look something like this\n",
    "\n",
    "```vbscript\n",
    "Sub Macro1()\n",
    "'\n",
    "' Macro1 Macro\n",
    "'\n",
    "    Range(\"B11:K11\").Select\n",
    "    Selection.AutoFill Destination:=Range(\"B11:K16\"), Type:=xlFillDefault\n",
    "    Range(\"B11:K16\").Select\n",
    "    Range(\"K2:K16\").Select\n",
    "    Selection.AutoFill Destination:=Range(\"K2:P16\"), Type:=xlFillDefault\n",
    "    Range(\"K2:P16\").Select\n",
    "    Columns(\"B:P\").Select\n",
    "    Selection.ColumnWidth = 4\n",
    "End Sub\n",
    "```\n",
    "\n",
    "Don’t worry if there are some extra or redundant lines in your macro, they can be removed as the script is ported. Now we’re ready to fire up Python and integrate this macro into a script."
   ]
  },
  {
   "cell_type": "markdown",
   "metadata": {},
   "source": [
    "### Porting\n",
    "\n",
    "To get started, open the spreadsheet with the 10×10 multiplication table by entering the following four commands (make sure the file “MultiplicationTable.xlsx” is in the folder of this notebook."
   ]
  },
  {
   "cell_type": "code",
   "execution_count": null,
   "metadata": {
    "ExecuteTime": {
     "end_time": "2019-03-27T17:52:00.895298Z",
     "start_time": "2019-03-27T17:52:00.818131Z"
    }
   },
   "outputs": [],
   "source": [
    "import win32com.client as win32\n",
    "excel = win32.gencache.EnsureDispatch('Excel.Application')\n",
    "wb = excel.Workbooks.Open('MultiplicationTable.xlsx')\n",
    "excel.Visible = True\n",
    "excel.DisplayAlerts = False "
   ]
  },
  {
   "cell_type": "markdown",
   "metadata": {},
   "source": [
    "The notebook code should now open a new Excel app with the file \"MultiplicationTable.xlsx\""
   ]
  },
  {
   "cell_type": "markdown",
   "metadata": {},
   "source": [
    "the code below are boilerplate commands you’ll be using in each exercise to invoke and interface to Excel. \n",
    "\n",
    "* [x] The first two commands, import win32com.client as win32, and excel =win32.gencache.EnsureDispatch( 'Excel.Application'), import the win32 module and open the Excel process. \n",
    "\n",
    "* [x] The command wb = excel.Workbooks.Open('MultiplicationTable.xlsx') opens the worksheet. In general, you’ll need a excel.Workbooks.Open() or excel.Workbooks.Add() command to open an existing workbook or create a new workbook. \n",
    "\n",
    "* [x] The command excel.Visible = True makes Excel app visible on the screen, rather than running as a hidden process in the background.\n",
    "\n",
    "* [x] The command excel.DisplayAlerts = False will make all messages to default response to avoid macro execution.\n",
    "\n",
    "\n",
    "Looking at the \"Macro1\" code, the first command is Range(\"B11:K11\").Select. The Rangevariable name is within the context of the Worksheet, so you need to create a container for operations on the worksheet. \n",
    "\n",
    "* The command ws = wb.Worksheets('Sheet1') will do the trick."
   ]
  },
  {
   "cell_type": "code",
   "execution_count": null,
   "metadata": {
    "ExecuteTime": {
     "end_time": "2019-03-27T17:31:44.096900Z",
     "start_time": "2019-03-27T17:31:44.028461Z"
    }
   },
   "outputs": [],
   "source": [
    "ws = wb.Worksheets('Sheet1')"
   ]
  },
  {
   "cell_type": "markdown",
   "metadata": {},
   "source": [
    "Once the variable pointing to the worksheet is defined, append the macro command to ws. and try it. Note that Select is a function and requires the open and close parenthesis pair in order to operate correctly. This pattern may be used for every Range().Select line in the macro."
   ]
  },
  {
   "cell_type": "code",
   "execution_count": null,
   "metadata": {
    "ExecuteTime": {
     "end_time": "2019-03-27T17:36:22.103801Z",
     "start_time": "2019-03-27T17:36:22.032904Z"
    },
    "scrolled": true
   },
   "outputs": [],
   "source": [
    "ws.Range(\"B11:K11\").Select()"
   ]
  },
  {
   "cell_type": "markdown",
   "metadata": {},
   "source": [
    "If you bring the worksheet to the foreground, you’ll see that the range B11:K11 has been selected. \n",
    "The next task is to autofill the 5 rows below using the `Selection.AutoFillDestination:=Range(\"B11:K16\"),  Type:=xlFillDefault` construct. `Selection` is a method at the Excel Application level, you need to precede it with excel. \n",
    "\n",
    "in this example. The arguments `Destination:=Range(\"B11:K16\"),  Type:=xlFillDefault` must be provided to the function, either using the keyword arguments Destination and Type, or by using positional notation. To make your programs as robust as possible, you should include the keywords, but it’s not strictly required and I don’t use that pattern in this example.\n",
    "\n",
    "The definition for the constant `xlFillDefault` is contained in `win32.constants`, you can access this value by specifying `win32.constants.xlFillDefault` value. You can always use the Object Browser in the VB window to figure out the correct value (open the Object Browser by pressing F2, or by selecting View->Object Browser from the menu in the VB window.\n",
    "\n",
    "![image.png](https://raw.githubusercontent.com/fjvarasc/DSPXI/master/figures/20091012_vbobjectbrowser.png)"
   ]
  },
  {
   "cell_type": "markdown",
   "metadata": {},
   "source": [
    "Combining these translations, the full Python command is `excel.Selection.AutoFill(Destination=ws.Range(\"B11:K16\"), Type=win32.constants.xlFillDefault )`, or `excel.Selection.AutoFill( ws.Range(\"B11:K16\"), win32.constants.xlFillDefault)` , check below."
   ]
  },
  {
   "cell_type": "code",
   "execution_count": null,
   "metadata": {},
   "outputs": [],
   "source": [
    "excel.Selection.AutoFill(ws.Range(\"B11:K16\"),win32.constants.xlFillDefault)"
   ]
  },
  {
   "cell_type": "markdown",
   "metadata": {},
   "source": [
    "The upcoming commands `Range(\"K2:K16\").Select` and `Selection.AutoFill Destination:=Range(\"K2:P16\"), Type:=xlFillDefault` are translated in the same fashion as the earlier Select and AutoFillcommands as shown below."
   ]
  },
  {
   "cell_type": "code",
   "execution_count": null,
   "metadata": {
    "ExecuteTime": {
     "end_time": "2019-03-27T17:51:54.613257Z",
     "start_time": "2019-03-27T17:51:54.533074Z"
    }
   },
   "outputs": [],
   "source": [
    "ws.Range(\"K2:K16\").Select()\n",
    "excel.Selection.AutoFill(ws.Range(\"K2:P16\"),win32.constants.xlFillDefault)"
   ]
  },
  {
   "cell_type": "markdown",
   "metadata": {},
   "source": [
    "The worksheet is now expanded to the full 15×15 table and looks like this:\n",
    "\n",
    "![image.png](https://raw.githubusercontent.com/fjvarasc/DSPXI/master/figures/20091012_worksheetfilled.png)"
   ]
  },
  {
   "cell_type": "markdown",
   "metadata": {},
   "source": [
    "The next section of the macro selects columns B through P and sets their width to 4. The statement Columns(\"B:P\").  Select is a property of the worksheet, so prefix it with the ws.identifier and add the parenthesis to make it a Python function call. In the next statement,Selection is a property of excel, so prefix it as such. The translated statements are shown below."
   ]
  },
  {
   "cell_type": "code",
   "execution_count": null,
   "metadata": {},
   "outputs": [],
   "source": [
    "ws.Columns(\"B:P\").Select()\n",
    "excel.Selection.ColumnWidth = 4"
   ]
  },
  {
   "cell_type": "markdown",
   "metadata": {},
   "source": [
    "Last thing, WE save the file and close it."
   ]
  },
  {
   "cell_type": "code",
   "execution_count": null,
   "metadata": {
    "ExecuteTime": {
     "end_time": "2019-03-27T17:56:39.487034Z",
     "start_time": "2019-03-27T17:56:39.420953Z"
    }
   },
   "outputs": [],
   "source": [
    "wb.SaveAs('NewMultiplicationTable.xlsx')\n",
    "excel.Application.Quit()"
   ]
  },
  {
   "cell_type": "markdown",
   "metadata": {
    "ExecuteTime": {
     "end_time": "2019-03-27T18:00:15.218180Z",
     "start_time": "2019-03-27T18:00:14.209038Z"
    }
   },
   "source": [
    "## Porting Reference Table\n",
    "\n",
    "\n",
    "<table border=\"1\">\n",
    "<colgroup>\n",
    "<col width=\"48%\">\n",
    "<col width=\"52%\"></colgroup>\n",
    "<thead valign=\"bottom\">\n",
    "<tr>\n",
    "<th>VB</th>\n",
    "<th>Python</th>\n",
    "</tr>\n",
    "</thead>\n",
    "<tbody valign=\"top\">\n",
    "<tr>\n",
    "<td></td>\n",
    "<td>import win32com.client as win32</td>\n",
    "</tr>\n",
    "<tr>\n",
    "<td></td>\n",
    "<td>excel = win32.gencache.EnsureDispatch(‘Excel.Application’)</td>\n",
    "</tr>\n",
    "<tr>\n",
    "<td></td>\n",
    "<td>wb = excel.Workbooks.Open(‘MultiplicationTable.xlsx’)</td>\n",
    "</tr>\n",
    "<tr>\n",
    "<td></td>\n",
    "<td>wb = excel.Workbooks.Open(‘MultiplicationTable.xlsx’)</td>\n",
    "</tr>\n",
    "<tr>\n",
    "<td></td>\n",
    "<td>excel.Visible = True</td>\n",
    "</tr>\n",
    "<tr>\n",
    "<td></td>\n",
    "<td>ws = wb.Worksheets(‘Sheet1’)</td>\n",
    "</tr>\n",
    "<tr>\n",
    "<td>Range(“B11:K11”).Select</td>\n",
    "<td>ws.Range(“B11:K11”).Select()</td>\n",
    "</tr>\n",
    "<tr>\n",
    "<td>Range(“B11:K11”).Select</td>\n",
    "<td>ws.Range(“B11:K11”).Select()</td>\n",
    "</tr>\n",
    "<tr>\n",
    "<td>Selection.AutoFill Destination:=Range(“B11:K16”), Type:=xlFillDefault</td>\n",
    "<td>excel.Selection.AutoFill(ws.Range(“B11:K16”),win32.constants.xlFillDefault)</td>\n",
    "</tr>\n",
    "<tr>\n",
    "<td>Range(“K2:K16”).Select</td>\n",
    "<td>ws.Range(“K2:K16”).Select()</td>\n",
    "</tr>\n",
    "<tr>\n",
    "<td>Selection.AutoFill Destination:=Range(“K2:P16”), Type:=xlFillDefault</td>\n",
    "<td>excel.Selection.AutoFill(ws.Range(“K2:P16”),win32.constants.xlFillDefault)</td>\n",
    "</tr>\n",
    "<tr>\n",
    "<td>Range(“K2:P16”).Select</td>\n",
    "<td>ws.Columns(“B:P”).Select()</td>\n",
    "</tr>\n",
    "<tr>\n",
    "<td>Columns(“B:P”).Select</td>\n",
    "<td>ws.Columns(“B:P”).Select()</td>\n",
    "</tr>\n",
    "<tr>\n",
    "<td>Selection.ColumnWidth = 4</td>\n",
    "<td>excel.Selection.ColumnWidth = 4</td>\n",
    "</tr>\n",
    "<tr>\n",
    "<td></td>\n",
    "<td>excel.Application.Quit()</td>\n",
    "</tr>\n",
    "</tbody>\n",
    "</table>"
   ]
  },
  {
   "cell_type": "markdown",
   "metadata": {},
   "source": [
    "## Run a macro inside a Workbook"
   ]
  },
  {
   "cell_type": "code",
   "execution_count": null,
   "metadata": {},
   "outputs": [],
   "source": [
    "xl=win32com.client.Dispatch(\"Excel.Application\")\n",
    "xl.Visible = False\n",
    "\n",
    "xl.Workbooks.Open(Filename=default_path + 'HelloMacro.xlsm')\n",
    "messagetxt = \"This file was created by a macro called from python :) Test1\"\n",
    "#the macro will create HelloPython.txt in \"default_path\"\n",
    "xl.Application.Run(\"writefile\",messagetxt)airpods\n",
    "xl.Quit() "
   ]
  },
  {
   "cell_type": "markdown",
   "metadata": {},
   "source": [
    "# Excel Lab\n",
    "\n",
    "In this example, a fictional company called ABCD Catering has recorded sales and order history for 2009 in their corporate ERP system. ABCD Catering provides catering services to leading Silicon Valley companies, providing the best in hamburgers, hot dogs, churros, sodas and other comfort. Your boss has asked you to examine this data and answer some questions and produce charts representing some of the data:\n",
    "\n",
    "* What were the total sales in each of the last four quarters?\n",
    "* What are the sales for each food item in each quarter?\n",
    "* Who were the top 10 customers for ABCD catering in Q1?\n",
    "* Who was the highest producing sales rep for the year?\n",
    "* What food item had the highest unit sales in Q4?\n",
    "\n",
    "Generating this information typically involves running five separate reports in the system. Since your boss is looking for this same information at the end of each quarter, you want to simplify your life and your bosses by automating the report. Using Python and Excel, you can download a spreadsheet copy of the raw data, process it, generate the key figures and charts and save them to a spreadsheet.\n",
    "\n",
    "Take a look at the data in ABCDCatering.xls:\n",
    "\n",
    "![image.png](https://raw.githubusercontent.com/fjvarasc/DSPXI/master/figures/20091102_original.png)\n",
    "\n",
    "The spreadsheet contains some header information, then a large table of records for each order. Each record contains the fiscal year and quarter, food item, company name, order data, sales representative, booking and order quantity for each order. The data needs some work before you can use it in a pivot table. First, the data in rows 1 through 11 must be ignored, it’s meaningless for the pivot table. Also, some columns do not have a proper header and must be corrected before the data can be used. The good news is that after some minor massaging, this data will be ideally suited for processing with a pivot table in Excel. Close the spreadsheet and get ready to build the reports.\n",
    "\n",
    "The program begins with the standard boilerplate: import the win32 module and start Excel."
   ]
  },
  {
   "cell_type": "markdown",
   "metadata": {},
   "source": [
    "## Start Excel"
   ]
  },
  {
   "cell_type": "code",
   "execution_count": null,
   "metadata": {},
   "outputs": [],
   "source": [
    "import win32com.client as win32\n",
    "import sys\n",
    "import os\n",
    "\n",
    "excel = win32.gencache.EnsureDispatch('Excel.Application')\n",
    "excel.Visible = True"
   ]
  },
  {
   "cell_type": "markdown",
   "metadata": {},
   "source": [
    "Next, open the spreadsheet ABCDCatering.xls with some exception handling. The try/except clause attempts to open the file with the Workbooks.Open() method, and exits gracefully if the file is missing or some other problem occurred. Lastly, the variable ws is set to the spreadsheet containing the data."
   ]
  },
  {
   "cell_type": "markdown",
   "metadata": {},
   "source": [
    "## Open Workbook"
   ]
  },
  {
   "cell_type": "code",
   "execution_count": null,
   "metadata": {},
   "outputs": [],
   "source": [
    "default_path =  os.getcwd() + '\\\\' \n",
    "\n",
    "try:\n",
    "    wb = excel.Workbooks.Open(default_path + 'ABCDCatering.xls')\n",
    "except:\n",
    "    print \"Failed to open spreadsheet ABCDCatering.xls\"\n",
    "    sys.exit(1)\n",
    "ws = wb.Sheets('Sheet1')"
   ]
  },
  {
   "cell_type": "markdown",
   "metadata": {},
   "source": [
    "An easy way to load the entire spreadsheet into Python is the UsedRange method. The following command:"
   ]
  },
  {
   "cell_type": "markdown",
   "metadata": {},
   "source": [
    "## Load Sheet Data in python"
   ]
  },
  {
   "cell_type": "code",
   "execution_count": null,
   "metadata": {},
   "outputs": [],
   "source": [
    "xldata = ws.UsedRange.Value"
   ]
  },
  {
   "cell_type": "markdown",
   "metadata": {},
   "source": [
    "The above code grabs all the data in the Sheet1 worksheet and copies it into a tuple named xldata. Once inside Python, the data can be manipulated and placed back into the spreadsheet with minimal calls to the COM interface, resulting in faster, more efficient processing.\n",
    "\n",
    "## Check Data\n",
    "\n",
    "To delete rows, add columns and do other operations on the data, it must be converted to or copied to a list. The approach used here is to examine the data row by row, discarding the non essential header rows and copying everything else to a new list. The first step is to remove the rows that are not part of the column header row or record data. If you are using Python to generate the program interactively, Let's can investigate the data in the xldata tuple and display the data for the first record (xldata[0]) and header record (xldata[11]):"
   ]
  },
  {
   "cell_type": "code",
   "execution_count": null,
   "metadata": {},
   "outputs": [],
   "source": [
    "xldata[0]"
   ]
  },
  {
   "cell_type": "code",
   "execution_count": null,
   "metadata": {},
   "outputs": [],
   "source": [
    "xldata[11]"
   ]
  },
  {
   "cell_type": "markdown",
   "metadata": {},
   "source": [
    "The length of both rows is 13, though xldata[0] contains many elements with a value of None. The following code checks the length of the data and skips any rows shorter then 13 fields or rows that contain None in the last field. Note that this code assumes that the actual data in the table always contains complete records, true in this dataset but you should always understand the characteristics of the data you’re working on."
   ]
  },
  {
   "cell_type": "markdown",
   "metadata": {
    "ExecuteTime": {
     "end_time": "2019-03-27T19:17:20.939587Z",
     "start_time": "2019-03-27T19:17:20.922504Z"
    }
   },
   "source": [
    "## Fix Data"
   ]
  },
  {
   "cell_type": "code",
   "execution_count": null,
   "metadata": {},
   "outputs": [],
   "source": [
    "newdata = []\n",
    "for row in xldata:\n",
    "    if row[-1] is not None and len(row) == 13:\n",
    "        newdata.append(row)"
   ]
  },
  {
   "cell_type": "markdown",
   "metadata": {},
   "source": [
    "The `newdata` list now contains the header and data rows from the spreadsheet, but the header row is still not complete. All column headers must contain text in order to use this data in a pivot table. Unfortunately, the spreadsheet downloads produced by the ERP system have the column label over the numberical identifier for the item, while the text column header is blank. You can see that for the “Food” and “Company” data below.\n",
    "\n",
    "![image.png](https://raw.githubusercontent.com/fjvarasc/DSPXI/master/figures/20091102_foodcompany.png)"
   ]
  },
  {
   "cell_type": "markdown",
   "metadata": {},
   "source": [
    "One approach that works for this data is to scan the header and insert a column header based on the contents of the previous column. For example, the label for column F could be “Company Name”, created by simply appending the text ” Name” to the column header “Company” from the prior column. Using this simple algorithm, the column header row can be filled out and the spreadsheet made ready for pivot table conversion. A more complex lookup could be used as well, but the simple algorithm described here will scale if new fields are added to the report."
   ]
  },
  {
   "cell_type": "code",
   "execution_count": null,
   "metadata": {},
   "outputs": [],
   "source": [
    "for i,field in enumerate(newdata[0]):\n",
    "    if field is None:\n",
    "        newdata[0][i] = lasthdr + \" Name\"\n",
    "    else:\n",
    "        lasthdr = newdata[0][i]"
   ]
  },
  {
   "cell_type": "markdown",
   "metadata": {},
   "source": [
    "Now the data is ready for insertion back into the spreadsheet. To enable comparison between the new data set and the original, create a new sheet in the workbook, write the data to the new sheet and autofit the columns."
   ]
  },
  {
   "cell_type": "markdown",
   "metadata": {},
   "source": [
    "Now the data is ready for insertion back into the spreadsheet. To enable comparison between the new data set and the original, create a new sheet in the workbook, write the data to the new sheet and autofit the columns."
   ]
  },
  {
   "cell_type": "code",
   "execution_count": null,
   "metadata": {},
   "outputs": [],
   "source": [
    "wsnew = wb.Sheets.Add()\n",
    "wsnew.Range(wsnew.Cells(1,1),wsnew.Cells(len(newdata),len(newdata[0]))).Value = newdata\n",
    "wsnew.Columns.AutoFit()"
   ]
  },
  {
   "cell_type": "markdown",
   "metadata": {},
   "source": [
    "The last step is to save the worksheet to a new file and quit Excel."
   ]
  },
  {
   "cell_type": "code",
   "execution_count": null,
   "metadata": {},
   "outputs": [],
   "source": [
    "wb.SaveAs('newABCDCatering.xlsx')\n",
    "excel.Application.Quit()\n",
    "#wb.SaveAs('newABCDCatering.xlsx',win32.constants.xlOpenXMLWorkbook)"
   ]
  },
  {
   "cell_type": "markdown",
   "metadata": {},
   "source": [
    "## Check the output"
   ]
  },
  {
   "cell_type": "markdown",
   "metadata": {},
   "source": [
    "After running the script, open the file newABCDCatering.xlsx or newABCDCatering.xls and view the contents. Note that the extraneous header information has been removed and blank column header information has been inserted programmatically as described earlier.\n",
    "\n",
    "![image.png](https://raw.githubusercontent.com/fjvarasc/DSPXI/master/figures/20091102_exceloutput.png)\n",
    "\n",
    "The new spreadsheet is ready for use in a pivot table :)"
   ]
  },
  {
   "cell_type": "markdown",
   "metadata": {},
   "source": [
    "## Generate Reports"
   ]
  },
  {
   "cell_type": "markdown",
   "metadata": {},
   "source": [
    "Pivot tables are an easy-to-use tool to derive some basic business intelligence from your data. As discussed last time, there are occasions when you’ll need to do interactive data mining by changing column and row fields. But in my experience, it’s handy to have my favorite reports built automatically, with the reports ready to go as soon as I open the spreadsheet. In this post I’ll develop and explain the code to create a set of pivot tables automatically in worksheet.\n",
    "\n",
    "The goal of this exercise is to automate the generation of pivot tables and save them to a new Excel file.\n",
    "![image.png](https://raw.githubusercontent.com/fjvarasc/DSPXI/master/figures/20091123_reports.png)"
   ]
  },
  {
   "cell_type": "markdown",
   "metadata": {},
   "source": [
    "load newABCDCatering.xls from the previous step and record the macro to create this simple pivot table showing Net Bookings by Sales Rep and Food Name for the last four quarters as below.\n",
    "![image.png](https://raw.githubusercontent.com/fjvarasc/DSPXI/master/figures/20091123_setup.png)\n",
    "\n",
    "The captured macro should be similar to this.\n",
    "\n",
    "```vbscript\n",
    "'\n",
    "' Macro2 Macro\n",
    "'\n",
    "\n",
    "'\n",
    "    Selection.CurrentRegion.Select\n",
    "    Sheets.Add\n",
    "    ActiveWorkbook.PivotCaches.Create(SourceType:=xlDatabase, SourceData:= _\n",
    "        \"Sheet2!R1C1:R791C13\", Version:=xlPivotTableVersion10).CreatePivotTable _\n",
    "        TableDestination:=\"Sheet3!R3C1\", TableName:=\"PivotTable1\", DefaultVersion _\n",
    "        :=xlPivotTableVersion10\n",
    "    Sheets(\"Sheet3\").Select\n",
    "    Cells(3, 1).Select\n",
    "    With ActiveSheet.PivotTables(\"PivotTable1\").PivotFields(\"Fiscal Year\")\n",
    "        .Orientation = xlPageField\n",
    "        .Position = 1\n",
    "    End With\n",
    "    With ActiveSheet.PivotTables(\"PivotTable1\").PivotFields(\"Fiscal Quarter\")\n",
    "        .Orientation = xlColumnField\n",
    "        .Position = 1\n",
    "    End With\n",
    "    With ActiveSheet.PivotTables(\"PivotTable1\").PivotFields(\"Sales Rep Name\")\n",
    "        .Orientation = xlRowField\n",
    "        .Position = 1\n",
    "    End With\n",
    "    With ActiveSheet.PivotTables(\"PivotTable1\").PivotFields(\"Food Name\")\n",
    "        .Orientation = xlRowField\n",
    "        .Position = 2\n",
    "    End With\n",
    "    ActiveSheet.PivotTables(\"PivotTable1\").AddDataField ActiveSheet.PivotTables( _\n",
    "        \"PivotTable1\").PivotFields(\"Net Booking\"), \"Sum of Net Booking\", xlSum\n",
    "End Sub\n",
    "```"
   ]
  },
  {
   "cell_type": "markdown",
   "metadata": {},
   "source": [
    "Looking at the macro, you see lines specifying the Orientation of the field name, such as `.Orientation = xlRowField` and `.Orientation = xlColumnField`. A pivot table has four basic areas for fields:\n",
    "\n",
    "* Report Filter (.Orientation = xlPageField)\n",
    "* Column area (.Orientation = xlColumnField)\n",
    "* Row area (.Orientation = xlRowField)\n",
    "* Values area (PivotTables().AddDataField())\n",
    "\n",
    "Each of these supports multiple fields (column fields for `Sales Rep Name` and `Food Name` were added in the example). The ordering of the fields changes the appearance of the table.\n",
    "\n",
    "A general pattern should be apparent in this macro. First, the pivot table is created with the `ActiveWorkbook.PivotCaches.Create()` statement. Next, the columns and rows are configured with a series of `ActiveSheet.PivotTables(\"PivotTable1\").PivotFields()` statements. Finally, the field used in the Values section of the table is configured using the `ActiveSheet.PivotTables(\"PivotTable1\").AddDataField` statement. The general purpose function will need to contain all of these constructs. Note the parts that can’t be hard-coded: the source of the data, `\"Sheet2!R1C1:R791C13\"`, and destination for the table, `\"Sheet3!R3C1\"` need to be determined based on the characteristics of the source data and can’t be hard coded in the general solution.\n",
    "\n",
    "In Python, this pattern can be reduced to the following loop that covers fields for the Report Filter, Columns and Rows:"
   ]
  },
  {
   "cell_type": "code",
   "execution_count": null,
   "metadata": {},
   "outputs": [],
   "source": [
    "def addpivot(wb,sourcedata,title,filters=(),columns=(),rows=(),sumvalue=(),sortfield=\"\"):\n",
    "    \"\"\"Build a pivot table using the provided source location data\n",
    "    and specified fields\n",
    "    \"\"\"\n",
    "    for fieldlist,fieldc in ((filters,win32c.xlPageField),\n",
    "                            (columns,win32c.xlColumnField),\n",
    "                            (rows,win32c.xlRowField)):\n",
    "        for i,val in enumerate(fieldlist):\n",
    "            wb.ActiveSheet.PivotTables(tname).PivotFields(val).Orientation = fieldc\n",
    "        wb.ActiveSheet.PivotTables(tname).PivotFields(val).Position = i+1"
   ]
  },
  {
   "cell_type": "markdown",
   "metadata": {},
   "source": [
    "Processing the Values field is more or less copied from the Visual Basic. To keep things simple in this example, this code is limited to adding “Sum of” values only, and doesn’t handle other Summarize Value functions such as Count, Min, Max, etc."
   ]
  },
  {
   "cell_type": "code",
   "execution_count": null,
   "metadata": {},
   "outputs": [],
   "source": [
    "wb.ActiveSheet.PivotTables(tname).AddDataField(\n",
    "    wb.ActiveSheet.PivotTables(tname).PivotFields(sumvalue[7:]),\n",
    "    sumvalue,\n",
    "    win32c.xlSum)"
   ]
  },
  {
   "cell_type": "markdown",
   "metadata": {},
   "source": [
    "The actual values for filters, columns and rows in the function are defined in the call to the function. The complete function creates a new sheet within the workbook, then adds an empty pivot table to the sheet and builds the table using the field information provided. For example, to answer the question: What were the total sales in each of the last four quarters?, the pivot table is built with the following call to the addpivot function:"
   ]
  },
  {
   "cell_type": "code",
   "execution_count": null,
   "metadata": {},
   "outputs": [],
   "source": [
    "# What were the total sales in each of the last four quarters?\n",
    "addpivot(wb,src,\n",
    "         title=\"Sales by Quarter\",\n",
    "         filters=(),\n",
    "         columns=(),\n",
    "         rows=(\"Fiscal Quarter\",),\n",
    "         sumvalue=\"Sum of Net Booking\",\n",
    "         sortfield=())"
   ]
  },
  {
   "cell_type": "markdown",
   "metadata": {},
   "source": [
    "the above code defines a pivot table using the row header “Fiscal Quarter” and data value “Sum of Net Booking”. The title “Sales by Quarter” is used to name the sheet itself.\n",
    "\n",
    "To make the output spreadsheet more understandable, the title parameter passed into the function and used as a title in each worksheet and as the tab name.\n",
    "\n",
    "![image.png](https://raw.githubusercontent.com/fjvarasc/DSPXI/master/figures/20091123_titletabsbq.png)\n",
    "\n",
    "The complete script is shown below. Caveats:\n",
    "\n",
    "* This script has been modified to run on both Excel 2007 and Excel 2003 and has been tested on those versions.\n",
    "* Adding pivot tables increases the size of the output Excel file, which can be mitigated by disabling caching of pivot table data. `PivotTables(tname).SaveData = False`, this will reduce the size of the output Excel file, but will require that the pivot table be refreshed before use by clicking on Refresh Data on the PivotTable toolbar.\n",
    "\n"
   ]
  },
  {
   "cell_type": "markdown",
   "metadata": {},
   "source": [
    "http://pythonexcels.com/cleaning-up-corporate-erp-data/\n",
    "http://pythonexcels.com/automating-pivot-tables-with-python/\n",
    "https://github.com/pythonexcels/examples/blob/master/erppivotextended.py\n",
    "\n",
    "http://pythonexcels.com/extending-pivot-table-data/\n",
    "http://pythonexcels.com/a-user-friendly-experience/\n",
    "\n",
    "\n"
   ]
  },
  {
   "cell_type": "markdown",
   "metadata": {},
   "source": [
    "more using win32 please check [this](http://timgolden.me.uk/python/win32_how_do_i.html) link"
   ]
  }
 ],
 "metadata": {
  "kernelspec": {
   "display_name": "Python 3",
   "language": "python",
   "name": "dspxi"
  },
  "language_info": {
   "codemirror_mode": {
    "name": "ipython",
    "version": 3
   },
   "file_extension": ".py",
   "mimetype": "text/x-python",
   "name": "python",
   "nbconvert_exporter": "python",
   "pygments_lexer": "ipython3",
   "version": "3.6.8"
  },
  "toc": {
   "base_numbering": "5",
   "nav_menu": {},
   "number_sections": true,
   "sideBar": true,
   "skip_h1_title": false,
   "title_cell": "Table of Contents",
   "title_sidebar": "Contents",
   "toc_cell": false,
   "toc_position": {
    "height": "calc(100% - 180px)",
    "left": "10px",
    "top": "150px",
    "width": "336px"
   },
   "toc_section_display": true,
   "toc_window_display": true
  },
  "varInspector": {
   "cols": {
    "lenName": 16,
    "lenType": 16,
    "lenVar": 40
   },
   "kernels_config": {
    "python": {
     "delete_cmd_postfix": "",
     "delete_cmd_prefix": "del ",
     "library": "var_list.py",
     "varRefreshCmd": "print(var_dic_list())"
    },
    "r": {
     "delete_cmd_postfix": ") ",
     "delete_cmd_prefix": "rm(",
     "library": "var_list.r",
     "varRefreshCmd": "cat(var_dic_list()) "
    }
   },
   "position": {
    "height": "400px",
    "left": "1339px",
    "right": "20px",
    "top": "120px",
    "width": "321px"
   },
   "types_to_exclude": [
    "module",
    "function",
    "builtin_function_or_method",
    "instance",
    "_Feature"
   ],
   "window_display": false
  }
 },
 "nbformat": 4,
 "nbformat_minor": 2
}
