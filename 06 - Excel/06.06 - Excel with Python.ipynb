{
 "cells": [
  {
   "cell_type": "markdown",
   "metadata": {},
   "source": [
    "![image.png](https://raw.githubusercontent.com/fjvarasc/DSPXI/master/figures/python_logo.png)"
   ]
  },
  {
   "cell_type": "markdown",
   "metadata": {
    "toc": true
   },
   "source": [
    "<h1>Table of Contents<span class=\"tocSkip\"></span></h1>\n",
    "<div class=\"toc\"><ul class=\"toc-item\"><li><span><a href=\"#Basic-Excel-with-Python\" data-toc-modified-id=\"Basic-Excel-with-Python-6\"><span class=\"toc-item-num\">6&nbsp;&nbsp;</span>Basic Excel with Python</a></span><ul class=\"toc-item\"><li><span><a href=\"#Excel-App\" data-toc-modified-id=\"Excel-App-6.1\"><span class=\"toc-item-num\">6.1&nbsp;&nbsp;</span>Excel App</a></span><ul class=\"toc-item\"><li><span><a href=\"#Open-Excel,-Add-a-Workbook\" data-toc-modified-id=\"Open-Excel,-Add-a-Workbook-6.1.1\"><span class=\"toc-item-num\">6.1.1&nbsp;&nbsp;</span>Open Excel, Add a Workbook</a></span></li><li><span><a href=\"#Open-an-Existing-Workbook\" data-toc-modified-id=\"Open-an-Existing-Workbook-6.1.2\"><span class=\"toc-item-num\">6.1.2&nbsp;&nbsp;</span>Open an Existing Workbook</a></span></li><li><span><a href=\"#Add-a-Worksheet\" data-toc-modified-id=\"Add-a-Worksheet-6.1.3\"><span class=\"toc-item-num\">6.1.3&nbsp;&nbsp;</span>Add a Worksheet</a></span></li><li><span><a href=\"#Ranges-and-Offsets\" data-toc-modified-id=\"Ranges-and-Offsets-6.1.4\"><span class=\"toc-item-num\">6.1.4&nbsp;&nbsp;</span>Ranges and Offsets</a></span></li><li><span><a href=\"#Autofill-Cell-Contents\" data-toc-modified-id=\"Autofill-Cell-Contents-6.1.5\"><span class=\"toc-item-num\">6.1.5&nbsp;&nbsp;</span>Autofill Cell Contents</a></span></li><li><span><a href=\"#Cell-Color\" data-toc-modified-id=\"Cell-Color-6.1.6\"><span class=\"toc-item-num\">6.1.6&nbsp;&nbsp;</span>Cell Color</a></span></li><li><span><a href=\"#Column-Formatting\" data-toc-modified-id=\"Column-Formatting-6.1.7\"><span class=\"toc-item-num\">6.1.7&nbsp;&nbsp;</span>Column Formatting</a></span></li><li><span><a href=\"#Format-Worksheet-Cells\" data-toc-modified-id=\"Format-Worksheet-Cells-6.1.8\"><span class=\"toc-item-num\">6.1.8&nbsp;&nbsp;</span>Format Worksheet Cells</a></span></li><li><span><a href=\"#Setting-Row-Height\" data-toc-modified-id=\"Setting-Row-Height-6.1.9\"><span class=\"toc-item-num\">6.1.9&nbsp;&nbsp;</span>Setting Row Height</a></span></li><li><span><a href=\"#Copying-Data-from-Worksheet-to-Worksheet\" data-toc-modified-id=\"Copying-Data-from-Worksheet-to-Worksheet-6.1.10\"><span class=\"toc-item-num\">6.1.10&nbsp;&nbsp;</span>Copying Data from Worksheet to Worksheet</a></span></li><li><span><a href=\"#Conditional-Formatting\" data-toc-modified-id=\"Conditional-Formatting-6.1.11\"><span class=\"toc-item-num\">6.1.11&nbsp;&nbsp;</span>Conditional Formatting</a></span></li></ul></li><li><span><a href=\"#Mapping-Excel-VB-Macros-to-Python\" data-toc-modified-id=\"Mapping-Excel-VB-Macros-to-Python-6.2\"><span class=\"toc-item-num\">6.2&nbsp;&nbsp;</span>Mapping Excel VB Macros to Python</a></span><ul class=\"toc-item\"><li><span><a href=\"#Record-Macro\" data-toc-modified-id=\"Record-Macro-6.2.1\"><span class=\"toc-item-num\">6.2.1&nbsp;&nbsp;</span>Record Macro</a></span></li><li><span><a href=\"#Porting\" data-toc-modified-id=\"Porting-6.2.2\"><span class=\"toc-item-num\">6.2.2&nbsp;&nbsp;</span>Porting</a></span></li></ul></li><li><span><a href=\"#Porting-Reference-Table\" data-toc-modified-id=\"Porting-Reference-Table-6.3\"><span class=\"toc-item-num\">6.3&nbsp;&nbsp;</span>Porting Reference Table</a></span></li><li><span><a href=\"#Run-a-macro-inside-a-Workbook\" data-toc-modified-id=\"Run-a-macro-inside-a-Workbook-6.4\"><span class=\"toc-item-num\">6.4&nbsp;&nbsp;</span>Run a macro inside a Workbook</a></span></li></ul></li></ul></div>"
   ]
  },
  {
   "cell_type": "markdown",
   "metadata": {},
   "source": [
    "# Basic Excel with Python"
   ]
  },
  {
   "cell_type": "markdown",
   "metadata": {},
   "source": [
    "## Excel App"
   ]
  },
  {
   "cell_type": "code",
   "execution_count": null,
   "metadata": {},
   "outputs": [],
   "source": [
    "import win32com.client as win32\n",
    "excel = win32.gencache.EnsureDispatch('Excel.Application')\n",
    "default_path =  os.getcwd() + '\\\\' \n",
    "# we get current working directory for Excel, by default is the MS office folder in programs folder\n",
    "# we will use it to save files to specific directory, default is C:\\Program Files (x86)\\Microsoft Office\\OfficeXX \n",
    "print (excel.Path) #This is the default dir\n",
    "print (default_path) # This is our current working dir\n",
    "excel.Application.Quit() #Close the app"
   ]
  },
  {
   "cell_type": "markdown",
   "metadata": {},
   "source": [
    "### Open Excel, Add a Workbook\n",
    "\n",
    "The following script simply invokes Excel, adds a workbook and saves the empty workbook."
   ]
  },
  {
   "cell_type": "code",
   "execution_count": null,
   "metadata": {},
   "outputs": [],
   "source": [
    "#\n",
    "# Add a workbook and save (Excel 2007)\n",
    "# For older versions of excel, use the .xls file extension\n",
    "#\n",
    "import win32com.client as win32\n",
    "#excel = win32com.client.Dispatch(\"Excel.Application\")\n",
    "excel = win32.gencache.EnsureDispatch('Excel.Application')\n",
    "#by use DisplayAlerts we default all excel dialogs, example : it will overwrite a file in case the file exists\n",
    "excel.DisplayAlerts = False \n",
    "excel.Application.ChDir = default_path\n",
    "wb = excel.Workbooks.Add()\n",
    "wb.SaveAs(default_path + 'add_a_workbook.xlsx')\n",
    "excel.Application.Quit()"
   ]
  },
  {
   "cell_type": "markdown",
   "metadata": {},
   "source": [
    "### Open an Existing Workbook\n",
    "\n",
    "This script opens an existing workbook and displays it (note the statement excel.Visible =True). The file workbook1.xlsx must already exist in your “My Documents” directory. You can also open spreadsheet files by specifying the full path to the file as shown below. Using r'in the statement r'C:\\myfiles\\excel\\workbook2.xlsx' automatically escapes the backslash characters and makes the file name a bit more concise."
   ]
  },
  {
   "cell_type": "code",
   "execution_count": null,
   "metadata": {},
   "outputs": [],
   "source": [
    "#\n",
    "# Open an existing workbook\n",
    "#\n",
    "import win32com.client as win32\n",
    "excel = win32.gencache.EnsureDispatch('Excel.Application')\n",
    "wb = excel.Workbooks.Open(default_path + 'customer-status.xlsx')\n",
    "excel.Visible = True"
   ]
  },
  {
   "cell_type": "markdown",
   "metadata": {},
   "source": [
    "### Add a Worksheet\n",
    "\n",
    "This script creates a new workbook with three sheets, adds a fourth worksheet and names it MyNewSheet."
   ]
  },
  {
   "cell_type": "code",
   "execution_count": null,
   "metadata": {},
   "outputs": [],
   "source": [
    "#\n",
    "# Add a workbook, add a worksheet,\n",
    "# name it 'MyNewSheet' and save\n",
    "#\n",
    "import win32com.client as win32\n",
    "excel = win32.gencache.EnsureDispatch('Excel.Application')\n",
    "wb = excel.Workbooks.Add()\n",
    "ws = wb.Worksheets.Add()\n",
    "ws.Name = \"MyNewSheet\"\n",
    "wb.SaveAs(default_path + 'add_a_worksheet.xlsx')\n",
    "excel.Application.Quit()"
   ]
  },
  {
   "cell_type": "markdown",
   "metadata": {},
   "source": [
    "### Ranges and Offsets\n",
    "\n",
    "This script illustrates different techniques for addressing cells by using the Cells() and Range()operators. Individual cells can be addressed using Cells(row,column), where row is the row number, column is the column number, both start from 1. Groups of cells can be addressed using Range(), where the argument in the parenthesis can be a single cell denoted by its textual name (eg \"A2\"), a group noted by a textual name with a colon (eg \"A3:B4\") or a group denoted with two Cells() identifiers (eg ws.Cells(1,1),ws.Cells(2,2)). The Offsetmethod provides a way to address a cell based on a reference to another cell."
   ]
  },
  {
   "cell_type": "code",
   "execution_count": null,
   "metadata": {},
   "outputs": [],
   "source": [
    "#\n",
    "# Using ranges and offsets\n",
    "#\n",
    "import win32com.client as win32\n",
    "excel = win32.gencache.EnsureDispatch('Excel.Application')\n",
    "wb = excel.Workbooks.Add()\n",
    "ws = wb.Worksheets(\"Sheet1\")\n",
    "ws.Cells(1,1).Value = \"Cell A1\"\n",
    "ws.Cells(1,1).Offset(2,4).Value = \"Cell D2\"\n",
    "ws.Range(\"A2\").Value = \"Cell A2\"\n",
    "ws.Range(\"A3:B4\").Value = \"A3:B4\"\n",
    "ws.Range(\"A6:B7,A9:B10\").Value = \"A6:B7,A9:B10\"\n",
    "wb.SaveAs(default_path + 'ranges_and_offsets.xlsx')\n",
    "excel.Application.Quit()"
   ]
  },
  {
   "cell_type": "markdown",
   "metadata": {},
   "source": [
    "### Autofill Cell Contents\n",
    "\n",
    "This script uses Excel’s autofill capability to examine data in cells A1 and A2, then autofill the remaining column of cells through A10."
   ]
  },
  {
   "cell_type": "code",
   "execution_count": null,
   "metadata": {},
   "outputs": [],
   "source": [
    "#\n",
    "# Autofill cell contents\n",
    "#\n",
    "import win32com.client as win32\n",
    "excel = win32.gencache.EnsureDispatch('Excel.Application')\n",
    "wb = excel.Workbooks.Add()\n",
    "ws = wb.Worksheets(\"Sheet1\")\n",
    "ws.Range(\"A1\").Value = 1\n",
    "ws.Range(\"A2\").Value = 2\n",
    "ws.Range(\"A1:A2\").AutoFill(ws.Range(\"A1:A10\"),win32.constants.xlFillDefault)\n",
    "wb.SaveAs(default_path + 'autofill_cells.xlsx')\n",
    "excel.Application.Quit()"
   ]
  },
  {
   "cell_type": "markdown",
   "metadata": {},
   "source": [
    "### Cell Color\n",
    "\n",
    "This script illustrates adding an interior color to the cell using Interior.ColorIndex. Column A, rows 1 through 20 are filled with a number and assigned that ColorIndex."
   ]
  },
  {
   "cell_type": "code",
   "execution_count": null,
   "metadata": {},
   "outputs": [],
   "source": [
    "#\n",
    "# Add an interior color to cells\n",
    "#\n",
    "import win32com.client as win32\n",
    "excel = win32.gencache.EnsureDispatch('Excel.Application')\n",
    "wb = excel.Workbooks.Add()\n",
    "ws = wb.Worksheets(\"Sheet1\")\n",
    "for i in range (1,21):\n",
    "    ws.Cells(i,1).Value = i\n",
    "    ws.Cells(i,1).Interior.ColorIndex = i\n",
    "wb.SaveAs(default_path + 'cell_color.xlsx')\n",
    "excel.Application.Quit()"
   ]
  },
  {
   "cell_type": "markdown",
   "metadata": {},
   "source": [
    "### Column Formatting\n",
    "\n",
    "This script creates two columns of data, one narrow and one wide, then formats the column width with the ColumnWidth property. You can also use the Columns.AutoFit() function to autofit all columns in the spreadsheet."
   ]
  },
  {
   "cell_type": "code",
   "execution_count": null,
   "metadata": {},
   "outputs": [],
   "source": [
    "#\n",
    "# Set column widths\n",
    "#\n",
    "import win32com.client as win32\n",
    "excel = win32.gencache.EnsureDispatch('Excel.Application')\n",
    "wb = excel.Workbooks.Add()\n",
    "ws = wb.Worksheets(\"Sheet1\")\n",
    "ws.Range(\"A1:A10\").Value = \"A\"\n",
    "ws.Range(\"B1:B10\").Value = \"This is a very long line of text\"\n",
    "ws.Columns(1).ColumnWidth = 1\n",
    "ws.Range(\"B:B\").ColumnWidth = 27\n",
    "# Alternately, you can autofit all columns in the worksheet\n",
    "# ws.Columns.AutoFit()\n",
    "wb.SaveAs(default_path + 'column_widths.xlsx')\n",
    "excel.Application.Quit()"
   ]
  },
  {
   "cell_type": "markdown",
   "metadata": {},
   "source": [
    "### Format Worksheet Cells\n",
    "\n",
    "This script creates two columns of data, then formats the font type and font size used in the worksheet. Five different fonts and sizes are used, the numbers are formatted using a monetary format."
   ]
  },
  {
   "cell_type": "code",
   "execution_count": null,
   "metadata": {},
   "outputs": [],
   "source": [
    "#\n",
    "# Format cell font name and size, format numbers in monetary format\n",
    "#\n",
    "import win32com.client as win32\n",
    "excel = win32.gencache.EnsureDispatch('Excel.Application')\n",
    "wb = excel.Workbooks.Add()\n",
    "ws = wb.Worksheets(\"Sheet1\")\n",
    "\n",
    "for i,font in enumerate([\"Arial\",\"Courier New\",\"Garamond\",\"Georgia\",\"Verdana\"]):\n",
    "    ws.Range(ws.Cells(i+1,1),ws.Cells(i+1,2)).Value = [font,i+i]\n",
    "    ws.Range(ws.Cells(i+1,1),ws.Cells(i+1,2)).Font.Name = font\n",
    "    ws.Range(ws.Cells(i+1,1),ws.Cells(i+1,2)).Font.Size = 12+i\n",
    "\n",
    "ws.Range(\"A1:A5\").HorizontalAlignment = win32.constants.xlRight\n",
    "ws.Range(\"B1:B5\").NumberFormat = \"$###,##0.00\"\n",
    "ws.Columns.AutoFit()\n",
    "wb.SaveAs(default_path + 'format_cells.xlsx')\n",
    "excel.Application.Quit()"
   ]
  },
  {
   "cell_type": "markdown",
   "metadata": {},
   "source": [
    "### Setting Row Height\n",
    "\n",
    "This script illustrates row height. Similar to column height, row height can be set with the RowHeight method. You can also useAutoFit() to automatically adjust the row height based on cell contents."
   ]
  },
  {
   "cell_type": "code",
   "execution_count": null,
   "metadata": {},
   "outputs": [],
   "source": [
    "#\n",
    "# Set row heights and align text within the cell\n",
    "#\n",
    "import win32com.client as win32\n",
    "excel = win32.gencache.EnsureDispatch('Excel.Application')\n",
    "wb = excel.Workbooks.Add()\n",
    "ws = wb.Worksheets(\"Sheet1\")\n",
    "ws.Range(\"A1:A2\").Value = \"1 line\"\n",
    "ws.Range(\"B1:B2\").Value = \"Two\\nlines\"\n",
    "ws.Range(\"C1:C2\").Value = \"Three\\nlines\\nhere\"\n",
    "ws.Range(\"D1:D2\").Value = \"This\\nis\\nfour\\nlines\"\n",
    "ws.Rows(1).RowHeight = 60\n",
    "ws.Range(\"2:2\").RowHeight = 120\n",
    "ws.Rows(1).VerticalAlignment = win32.constants.xlCenter\n",
    "ws.Range(\"2:2\").VerticalAlignment = win32.constants.xlCenter\n",
    "\n",
    "# Alternately, you can autofit all rows in the worksheet\n",
    "# ws.Rows.AutoFit()\n",
    "\n",
    "wb.SaveAs(default_path + 'row_height.xlsx')\n",
    "excel.Application.Quit()"
   ]
  },
  {
   "cell_type": "markdown",
   "metadata": {},
   "source": [
    "### Copying Data from Worksheet to Worksheet\n",
    "\n",
    "This script uses the FillAcrossSheets() method to copy data from one location to all other worksheets in the workbook. Specifically, the data in the range A1:J10 is copied from Sheet1 to sheets Sheet2 and Sheet3."
   ]
  },
  {
   "cell_type": "code",
   "execution_count": null,
   "metadata": {},
   "outputs": [],
   "source": [
    "#\n",
    "# Copy data and formatting from a range of one worksheet\n",
    "# to all other worksheets in a workbook\n",
    "#\n",
    "import win32com.client as win32\n",
    "excel = win32.gencache.EnsureDispatch('Excel.Application')\n",
    "wb = excel.Workbooks.Add()\n",
    "ws = wb.Worksheets(\"Sheet1\")\n",
    "ws.Range(\"A1:J10\").Formula = \"=row()*column()\"\n",
    "wb.Worksheets.FillAcrossSheets(wb.Worksheets(\"Sheet1\").Range(\"A1:J10\"))\n",
    "wb.SaveAs(default + 'copy_worksheet_to_worksheet.xlsx')\n",
    "excel.Application.Quit()"
   ]
  },
  {
   "cell_type": "markdown",
   "metadata": {},
   "source": [
    "### Conditional Formatting\n",
    "\n",
    "This script builds two data tables from scratch, applies conditional formatting to the tables and saves the result to ConditionalFormatting.xlsx. This script only works with Excel 2007 and later versions."
   ]
  },
  {
   "cell_type": "code",
   "execution_count": null,
   "metadata": {
    "scrolled": true
   },
   "outputs": [],
   "source": [
    "#http://pythonexcels.com/mapping-excel-vb-macros-to-python-revisited/\n",
    "#\n",
    "# conditionalformatting.py\n",
    "# Create two tables and apply Conditional Formatting\n",
    "#\n",
    "import win32com.client as win32\n",
    "excel = win32.gencache.EnsureDispatch('Excel.Application')\n",
    "#excel.Visible = True\n",
    "wb = excel.Workbooks.Add()\n",
    "ws = wb.Worksheets('Sheet1')\n",
    "ws.Range(\"B2:K2\").Value = [i for i in range(1,11)]\n",
    "ws.Range(\"B2:B11\").Value = [i for i in range(1,11)]\n",
    "ws.Range(\"C3\").Formula = \"=$B3*C$2\"\n",
    "ws.Range(\"C3:C3\").Select()\n",
    "excel.Selection.AutoFill(ws.Range(\"C3:K3\"),win32.constants.xlFillDefault)\n",
    "ws.Range(\"C3:K3\").Select()\n",
    "excel.Selection.AutoFill(ws.Range(\"C3:K11\"),win32.constants.xlFillDefault)\n",
    "ws.Range(\"B13:K22\").Formula = \"=INT(RAND()*100)\"\n",
    "ws.Range(\"B2:K22\").Select()\n",
    "excel.Selection.FormatConditions.AddColorScale(ColorScaleType = 3)\n",
    "excel.Selection.FormatConditions(excel.Selection.FormatConditions.Count).SetFirstPriority()\n",
    "[csc1,csc2,csc3] = [excel.Selection.FormatConditions(1).ColorScaleCriteria(n) for n in range(1,4)]\n",
    "csc1.Type = win32.constants.xlConditionValueLowestValue\n",
    "csc1.FormatColor.Color = 13011546\n",
    "csc1.FormatColor.TintAndShade = 0\n",
    "csc2.Type = win32.constants.xlConditionValuePercentile\n",
    "csc2.Value = 50\n",
    "csc2.FormatColor.Color = 8711167\n",
    "csc2.FormatColor.TintAndShade = 0\n",
    "csc3.Type = win32.constants.xlConditionValueHighestValue\n",
    "csc3.FormatColor.Color = 7039480\n",
    "csc3.FormatColor.TintAndShade = 0\n",
    "ws.Range(\"A1\").Select()\n",
    "wb.SaveAs(default_path + 'ConditionalFormatting.xlsx')\n",
    "excel.Application.Quit()"
   ]
  },
  {
   "cell_type": "markdown",
   "metadata": {},
   "source": [
    "## Mapping Excel VB Macros to Python\n",
    "A handy feature in Excel is the ability to quickly record a Visual Basic (VB) macro and save it. It’s also fairly simple to take a captured VB macro, tweak it slightly and use it in your Python scripts. This capability has been used over the years to capture a sequence of operations that modify a spreadsheet and build a pivot table or chart, then integrate the macro into a Python script.\n",
    "We will check how to capture a simple set of operations in a macro, examine the Visual Basic macro, port it to Python and run it. \n",
    "\n",
    "### Record Macro\n",
    "The first step is to capture the macro in Excel using Record Macro. In Excel 2007 and later the Developer tab that contains the Record Macro button is turned off by default, you will need to enable it by selecting “Excel Options” from the ribbon menu, then select “Popular” in the left hand column and select the “Show Developer tab in the Ribbon” checkbox as shown here."
   ]
  },
  {
   "cell_type": "markdown",
   "metadata": {},
   "source": [
    "![image.png](https://raw.githubusercontent.com/fjvarasc/DSPXI/master/figures/20091012_exceloptions.png)"
   ]
  },
  {
   "cell_type": "markdown",
   "metadata": {
    "ExecuteTime": {
     "end_time": "2019-03-27T15:08:28.159927Z",
     "start_time": "2019-03-27T15:08:28.111040Z"
    }
   },
   "source": [
    "Starting with a simple spreadsheet containing a table of data, click on the “Developer” tab, then “Record Macro”."
   ]
  },
  {
   "cell_type": "markdown",
   "metadata": {},
   "source": [
    "![image.png](https://raw.githubusercontent.com/fjvarasc/DSPXI/master/figures/20091012_recordmacro.png)"
   ]
  },
  {
   "cell_type": "markdown",
   "metadata": {},
   "source": [
    "If you’re using an older version of Excel, select Tools->Macro->Record New Macro from the menu as shown here.\n",
    "\n",
    "![image.png](https://raw.githubusercontent.com/fjvarasc/DSPXI/master/figures/20091012_recordmacroexcel2003.png)"
   ]
  },
  {
   "cell_type": "markdown",
   "metadata": {},
   "source": [
    "The goal is to expand the existing table to a 15×15 table, adjust the column width to make the table appear more square and save the new spreadsheet. Now that the macro is recording, the first step is to select the last row of data and expanding it by dragging it down an additional 5 rows. First, select the data:\n",
    "\n",
    "![image.png](https://raw.githubusercontent.com/fjvarasc/DSPXI/master/figures/20091012_selectrow.png)"
   ]
  },
  {
   "cell_type": "markdown",
   "metadata": {
    "ExecuteTime": {
     "end_time": "2019-03-27T15:11:36.800695Z",
     "start_time": "2019-03-27T15:11:36.748287Z"
    }
   },
   "source": [
    "then dragged to create 5 new rows of data.\n",
    "\n",
    "![image.png](https://raw.githubusercontent.com/fjvarasc/DSPXI/master/figures/20091012_dragrow.png)"
   ]
  },
  {
   "cell_type": "markdown",
   "metadata": {},
   "source": [
    "Do the same select and drag operation for the last column of data to create 5 new columns.\n",
    "\n",
    "![image.png](https://raw.githubusercontent.com/fjvarasc/DSPXI/master/figures/20091012_selectcolumn.png)\n",
    "![image.png](https://raw.githubusercontent.com/fjvarasc/DSPXI/master/figures/20091012_dragcolumn.png)"
   ]
  },
  {
   "cell_type": "markdown",
   "metadata": {},
   "source": [
    "Now you have a 15×15 multiplication table. To resize the columns, select the headers for columns B through P, click the right mouse and select “Column Width”.\n",
    "\n",
    "![image.png](https://raw.githubusercontent.com/fjvarasc/DSPXI/master/figures/20091012_columnwidth.png)"
   ]
  },
  {
   "cell_type": "markdown",
   "metadata": {},
   "source": [
    "Enter “4” as the new column width and click OK. The spreadsheet will now look like this:\n",
    "\n",
    "![image.png](https://raw.githubusercontent.com/fjvarasc/DSPXI/master/figures/20091012_resizecolumns.png)"
   ]
  },
  {
   "cell_type": "markdown",
   "metadata": {},
   "source": [
    "Now stop capturing the macro by clicking on Stop Recording\n",
    "![image.png](https://raw.githubusercontent.com/fjvarasc/DSPXI/master/figures/20091012_stoprecording.png)\n"
   ]
  },
  {
   "cell_type": "markdown",
   "metadata": {},
   "source": [
    "If you’re using an older version of Excel, select Tools->Macro->Stop Recording from the menu bar.\n",
    "\n",
    "To view the macro, click on the View Macros button\n",
    "\n",
    "![image.png](https://raw.githubusercontent.com/fjvarasc/DSPXI/master/figures/20091012_viewmacros.png)"
   ]
  },
  {
   "cell_type": "markdown",
   "metadata": {
    "ExecuteTime": {
     "end_time": "2019-03-27T17:29:00.816177Z",
     "start_time": "2019-03-27T17:29:00.615241Z"
    }
   },
   "source": [
    "For older versions of Excel, select Tools->Macro->Macros\n",
    "\n",
    "Select the macro you just recorded (this should be Macro1, but if you were experimenting you may have other macros, so select the highest numbered macro) and click Edit.\n",
    "\n",
    "![image.png](https://raw.githubusercontent.com/fjvarasc/DSPXI/master/figures/20091012_editmacro.png)\n",
    "\n",
    "This will open your macro in the Microsoft Visual Basic GUI, and it should look something like this\n",
    "\n",
    "```vbscript\n",
    "Sub Macro1()\n",
    "'\n",
    "' Macro1 Macro\n",
    "'\n",
    "    Range(\"B11:K11\").Select\n",
    "    Selection.AutoFill Destination:=Range(\"B11:K16\"), Type:=xlFillDefault\n",
    "    Range(\"B11:K16\").Select\n",
    "    Range(\"K2:K16\").Select\n",
    "    Selection.AutoFill Destination:=Range(\"K2:P16\"), Type:=xlFillDefault\n",
    "    Range(\"K2:P16\").Select\n",
    "    Columns(\"B:P\").Select\n",
    "    Selection.ColumnWidth = 4\n",
    "End Sub\n",
    "```\n",
    "\n",
    "Don’t worry if there are some extra or redundant lines in your macro, they can be removed as the script is ported. Now we’re ready to fire up Python and integrate this macro into a script."
   ]
  },
  {
   "cell_type": "markdown",
   "metadata": {},
   "source": [
    "### Porting\n",
    "\n",
    "To get started, open the spreadsheet with the 10×10 multiplication table by entering the following four commands (make sure the file “MultiplicationTable.xlsx” is in the folder of this notebook."
   ]
  },
  {
   "cell_type": "code",
   "execution_count": null,
   "metadata": {
    "ExecuteTime": {
     "end_time": "2019-03-27T17:52:00.895298Z",
     "start_time": "2019-03-27T17:52:00.818131Z"
    }
   },
   "outputs": [],
   "source": [
    "import win32com.client as win32\n",
    "excel = win32.gencache.EnsureDispatch('Excel.Application')\n",
    "wb = excel.Workbooks.Open('MultiplicationTable.xlsx')\n",
    "excel.Visible = True\n",
    "excel.DisplayAlerts = False "
   ]
  },
  {
   "cell_type": "markdown",
   "metadata": {},
   "source": [
    "The notebook code should now open a new Excel app with the file \"MultiplicationTable.xlsx\""
   ]
  },
  {
   "cell_type": "markdown",
   "metadata": {},
   "source": [
    "the code below are boilerplate commands you’ll be using in each exercise to invoke and interface to Excel. \n",
    "\n",
    "* [x] The first two commands, import win32com.client as win32, and excel =win32.gencache.EnsureDispatch( 'Excel.Application'), import the win32 module and open the Excel process. \n",
    "\n",
    "* [x] The command wb = excel.Workbooks.Open('MultiplicationTable.xlsx') opens the worksheet. In general, you’ll need a excel.Workbooks.Open() or excel.Workbooks.Add() command to open an existing workbook or create a new workbook. \n",
    "\n",
    "* [x] The command excel.Visible = True makes Excel app visible on the screen, rather than running as a hidden process in the background.\n",
    "\n",
    "* [x] The command excel.DisplayAlerts = False will make all messages to default response to avoid macro execution.\n",
    "\n",
    "\n",
    "Looking at the \"Macro1\" code, the first command is Range(\"B11:K11\").Select. The Rangevariable name is within the context of the Worksheet, so you need to create a container for operations on the worksheet. \n",
    "\n",
    "* The command ws = wb.Worksheets('Sheet1') will do the trick."
   ]
  },
  {
   "cell_type": "code",
   "execution_count": null,
   "metadata": {
    "ExecuteTime": {
     "end_time": "2019-03-27T17:31:44.096900Z",
     "start_time": "2019-03-27T17:31:44.028461Z"
    }
   },
   "outputs": [],
   "source": [
    "ws = wb.Worksheets('Sheet1')"
   ]
  },
  {
   "cell_type": "markdown",
   "metadata": {},
   "source": [
    "Once the variable pointing to the worksheet is defined, append the macro command to ws. and try it. Note that Select is a function and requires the open and close parenthesis pair in order to operate correctly. This pattern may be used for every Range().Select line in the macro."
   ]
  },
  {
   "cell_type": "code",
   "execution_count": null,
   "metadata": {
    "ExecuteTime": {
     "end_time": "2019-03-27T17:36:22.103801Z",
     "start_time": "2019-03-27T17:36:22.032904Z"
    },
    "scrolled": true
   },
   "outputs": [],
   "source": [
    "ws.Range(\"B11:K11\").Select()"
   ]
  },
  {
   "cell_type": "markdown",
   "metadata": {},
   "source": [
    "If you bring the worksheet to the foreground, you’ll see that the range B11:K11 has been selected. \n",
    "The next task is to autofill the 5 rows below using the `Selection.AutoFillDestination:=Range(\"B11:K16\"),  Type:=xlFillDefault` construct. `Selection` is a method at the Excel Application level, you need to precede it with excel. \n",
    "\n",
    "in this example. The arguments `Destination:=Range(\"B11:K16\"),  Type:=xlFillDefault` must be provided to the function, either using the keyword arguments Destination and Type, or by using positional notation. To make your programs as robust as possible, you should include the keywords, but it’s not strictly required and I don’t use that pattern in this example.\n",
    "\n",
    "The definition for the constant `xlFillDefault` is contained in `win32.constants`, you can access this value by specifying `win32.constants.xlFillDefault` value. You can always use the Object Browser in the VB window to figure out the correct value (open the Object Browser by pressing F2, or by selecting View->Object Browser from the menu in the VB window.\n",
    "\n",
    "![image.png](https://raw.githubusercontent.com/fjvarasc/DSPXI/master/figures/20091012_vbobjectbrowser.png)"
   ]
  },
  {
   "cell_type": "markdown",
   "metadata": {},
   "source": [
    "Combining these translations, the full Python command is `excel.Selection.AutoFill(Destination=ws.Range(\"B11:K16\"), Type=win32.constants.xlFillDefault )`, or `excel.Selection.AutoFill( ws.Range(\"B11:K16\"), win32.constants.xlFillDefault)` , check below."
   ]
  },
  {
   "cell_type": "code",
   "execution_count": null,
   "metadata": {},
   "outputs": [],
   "source": [
    "excel.Selection.AutoFill(ws.Range(\"B11:K16\"),win32.constants.xlFillDefault)"
   ]
  },
  {
   "cell_type": "markdown",
   "metadata": {},
   "source": [
    "The upcoming commands `Range(\"K2:K16\").Select` and `Selection.AutoFill Destination:=Range(\"K2:P16\"), Type:=xlFillDefault` are translated in the same fashion as the earlier Select and AutoFillcommands as shown below."
   ]
  },
  {
   "cell_type": "code",
   "execution_count": null,
   "metadata": {
    "ExecuteTime": {
     "end_time": "2019-03-27T17:51:54.613257Z",
     "start_time": "2019-03-27T17:51:54.533074Z"
    }
   },
   "outputs": [],
   "source": [
    "ws.Range(\"K2:K16\").Select()\n",
    "excel.Selection.AutoFill(ws.Range(\"K2:P16\"),win32.constants.xlFillDefault)"
   ]
  },
  {
   "cell_type": "markdown",
   "metadata": {},
   "source": [
    "The worksheet is now expanded to the full 15×15 table and looks like this:\n",
    "\n",
    "![image.png](https://raw.githubusercontent.com/fjvarasc/DSPXI/master/figures/20091012_worksheetfilled.png)"
   ]
  },
  {
   "cell_type": "markdown",
   "metadata": {},
   "source": [
    "The next section of the macro selects columns B through P and sets their width to 4. The statement Columns(\"B:P\").  Select is a property of the worksheet, so prefix it with the ws.identifier and add the parenthesis to make it a Python function call. In the next statement,Selection is a property of excel, so prefix it as such. The translated statements are shown below."
   ]
  },
  {
   "cell_type": "code",
   "execution_count": null,
   "metadata": {},
   "outputs": [],
   "source": [
    "ws.Columns(\"B:P\").Select()\n",
    "excel.Selection.ColumnWidth = 4"
   ]
  },
  {
   "cell_type": "markdown",
   "metadata": {},
   "source": [
    "Last thing, WE save the file and close it."
   ]
  },
  {
   "cell_type": "code",
   "execution_count": null,
   "metadata": {
    "ExecuteTime": {
     "end_time": "2019-03-27T17:56:39.487034Z",
     "start_time": "2019-03-27T17:56:39.420953Z"
    }
   },
   "outputs": [],
   "source": [
    "wb.SaveAs('NewMultiplicationTable.xlsx')\n",
    "excel.Application.Quit()"
   ]
  },
  {
   "cell_type": "markdown",
   "metadata": {
    "ExecuteTime": {
     "end_time": "2019-03-27T18:00:15.218180Z",
     "start_time": "2019-03-27T18:00:14.209038Z"
    }
   },
   "source": [
    "## Porting Reference Table\n",
    "\n",
    "\n",
    "<table border=\"1\">\n",
    "<colgroup>\n",
    "<col width=\"48%\">\n",
    "<col width=\"52%\"></colgroup>\n",
    "<thead valign=\"bottom\">\n",
    "<tr>\n",
    "<th>VB</th>\n",
    "<th>Python</th>\n",
    "</tr>\n",
    "</thead>\n",
    "<tbody valign=\"top\">\n",
    "<tr>\n",
    "<td></td>\n",
    "<td>import win32com.client as win32</td>\n",
    "</tr>\n",
    "<tr>\n",
    "<td></td>\n",
    "<td>excel = win32.gencache.EnsureDispatch(‘Excel.Application’)</td>\n",
    "</tr>\n",
    "<tr>\n",
    "<td></td>\n",
    "<td>wb = excel.Workbooks.Open(‘MultiplicationTable.xlsx’)</td>\n",
    "</tr>\n",
    "<tr>\n",
    "<td></td>\n",
    "<td>wb = excel.Workbooks.Open(‘MultiplicationTable.xlsx’)</td>\n",
    "</tr>\n",
    "<tr>\n",
    "<td></td>\n",
    "<td>excel.Visible = True</td>\n",
    "</tr>\n",
    "<tr>\n",
    "<td></td>\n",
    "<td>ws = wb.Worksheets(‘Sheet1’)</td>\n",
    "</tr>\n",
    "<tr>\n",
    "<td>Range(“B11:K11”).Select</td>\n",
    "<td>ws.Range(“B11:K11”).Select()</td>\n",
    "</tr>\n",
    "<tr>\n",
    "<td>Range(“B11:K11”).Select</td>\n",
    "<td>ws.Range(“B11:K11”).Select()</td>\n",
    "</tr>\n",
    "<tr>\n",
    "<td>Selection.AutoFill Destination:=Range(“B11:K16”), Type:=xlFillDefault</td>\n",
    "<td>excel.Selection.AutoFill(ws.Range(“B11:K16”),win32.constants.xlFillDefault)</td>\n",
    "</tr>\n",
    "<tr>\n",
    "<td>Range(“K2:K16”).Select</td>\n",
    "<td>ws.Range(“K2:K16”).Select()</td>\n",
    "</tr>\n",
    "<tr>\n",
    "<td>Selection.AutoFill Destination:=Range(“K2:P16”), Type:=xlFillDefault</td>\n",
    "<td>excel.Selection.AutoFill(ws.Range(“K2:P16”),win32.constants.xlFillDefault)</td>\n",
    "</tr>\n",
    "<tr>\n",
    "<td>Range(“K2:P16”).Select</td>\n",
    "<td>ws.Columns(“B:P”).Select()</td>\n",
    "</tr>\n",
    "<tr>\n",
    "<td>Columns(“B:P”).Select</td>\n",
    "<td>ws.Columns(“B:P”).Select()</td>\n",
    "</tr>\n",
    "<tr>\n",
    "<td>Selection.ColumnWidth = 4</td>\n",
    "<td>excel.Selection.ColumnWidth = 4</td>\n",
    "</tr>\n",
    "<tr>\n",
    "<td></td>\n",
    "<td>excel.Application.Quit()</td>\n",
    "</tr>\n",
    "</tbody>\n",
    "</table>"
   ]
  },
  {
   "cell_type": "markdown",
   "metadata": {},
   "source": [
    "## Run a macro inside a Workbook"
   ]
  },
  {
   "cell_type": "code",
   "execution_count": null,
   "metadata": {},
   "outputs": [],
   "source": [
    "xl=win32com.client.Dispatch(\"Excel.Application\")\n",
    "xl.Visible = False\n",
    "\n",
    "xl.Workbooks.Open(Filename=default_path + 'HelloMacro.xlsm')\n",
    "messagetxt = \"This file was created by a macro called from python :) Test1\"\n",
    "#the macro will create HelloPython.txt in \"default_path\"\n",
    "xl.Application.Run(\"writefile\",messagetxt)airpods\n",
    "xl.Quit() "
   ]
  }
 ],
 "metadata": {
  "kernelspec": {
   "display_name": "Python 3",
   "language": "python",
   "name": "dspxi"
  },
  "language_info": {
   "codemirror_mode": {
    "name": "ipython",
    "version": 3
   },
   "file_extension": ".py",
   "mimetype": "text/x-python",
   "name": "python",
   "nbconvert_exporter": "python",
   "pygments_lexer": "ipython3",
   "version": "3.6.8"
  },
  "toc": {
   "base_numbering": "6",
   "nav_menu": {},
   "number_sections": true,
   "sideBar": true,
   "skip_h1_title": false,
   "title_cell": "Table of Contents",
   "title_sidebar": "Contents",
   "toc_cell": true,
   "toc_position": {},
   "toc_section_display": true,
   "toc_window_display": true
  },
  "varInspector": {
   "cols": {
    "lenName": 16,
    "lenType": 16,
    "lenVar": 40
   },
   "kernels_config": {
    "python": {
     "delete_cmd_postfix": "",
     "delete_cmd_prefix": "del ",
     "library": "var_list.py",
     "varRefreshCmd": "print(var_dic_list())"
    },
    "r": {
     "delete_cmd_postfix": ") ",
     "delete_cmd_prefix": "rm(",
     "library": "var_list.r",
     "varRefreshCmd": "cat(var_dic_list()) "
    }
   },
   "types_to_exclude": [
    "module",
    "function",
    "builtin_function_or_method",
    "instance",
    "_Feature"
   ],
   "window_display": false
  }
 },
 "nbformat": 4,
 "nbformat_minor": 2
}
