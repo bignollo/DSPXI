{
 "cells": [
  {
   "cell_type": "markdown",
   "metadata": {},
   "source": [
    "![image.png](https://raw.githubusercontent.com/fjvarasc/DSPXI/master/figures/python_logo.png)"
   ]
  },
  {
   "cell_type": "markdown",
   "metadata": {
    "toc": true
   },
   "source": [
    "<h1>Table of Contents<span class=\"tocSkip\"></span></h1>\n",
    "<div class=\"toc\"><ul class=\"toc-item\"><li><span><a href=\"#Common-Excel-Tasks-Demonstrated-in-Pandas\" data-toc-modified-id=\"Common-Excel-Tasks-Demonstrated-in-Pandas-4\"><span class=\"toc-item-num\">4&nbsp;&nbsp;</span>Common Excel Tasks Demonstrated in Pandas</a></span><ul class=\"toc-item\"><li><span><a href=\"#Adding-a-Sum-to-a-Row\" data-toc-modified-id=\"Adding-a-Sum-to-a-Row-4.1\"><span class=\"toc-item-num\">4.1&nbsp;&nbsp;</span>Adding a Sum to a Row</a></span></li><li><span><a href=\"#Additional-Data-Transforms\" data-toc-modified-id=\"Additional-Data-Transforms-4.2\"><span class=\"toc-item-num\">4.2&nbsp;&nbsp;</span>Additional Data Transforms</a></span></li><li><span><a href=\"#Subtotals\" data-toc-modified-id=\"Subtotals-4.3\"><span class=\"toc-item-num\">4.3&nbsp;&nbsp;</span>Subtotals</a></span></li><li><span><a href=\"#Filtering-the-data\" data-toc-modified-id=\"Filtering-the-data-4.4\"><span class=\"toc-item-num\">4.4&nbsp;&nbsp;</span>Filtering the data</a></span></li><li><span><a href=\"#Working-with-Dates\" data-toc-modified-id=\"Working-with-Dates-4.5\"><span class=\"toc-item-num\">4.5&nbsp;&nbsp;</span>Working with Dates</a></span></li><li><span><a href=\"#Additional-String-Functions\" data-toc-modified-id=\"Additional-String-Functions-4.6\"><span class=\"toc-item-num\">4.6&nbsp;&nbsp;</span>Additional String Functions</a></span></li><li><span><a href=\"#Bonus-Task\" data-toc-modified-id=\"Bonus-Task-4.7\"><span class=\"toc-item-num\">4.7&nbsp;&nbsp;</span>Bonus Task</a></span></li></ul></li></ul></div>"
   ]
  },
  {
   "cell_type": "markdown",
   "metadata": {
    "ExecuteTime": {
     "end_time": "2019-03-24T21:15:49.090029Z",
     "start_time": "2019-03-24T21:15:49.071992Z"
    }
   },
   "source": [
    "# Common Excel Tasks Demonstrated in Pandas\n",
    "The purpose of this is to show some common Excel tasks and how you would execute similar tasks in pandas. Some of the examples are somehow trivial but it is important to show the simple as well as the more complex functions you can find elsewhere. As an added bonus, we are going to do some fuzzy string matching to show a little twist to the process and show how pandas can utilize the full python system of modules to do something simply in python that would be complex in Excel."
   ]
  },
  {
   "cell_type": "markdown",
   "metadata": {},
   "source": [
    "## Adding a Sum to a Row\n",
    "The first task I’ll cover is summing some columns to add a total column."
   ]
  },
  {
   "cell_type": "code",
   "execution_count": 155,
   "metadata": {
    "ExecuteTime": {
     "end_time": "2019-03-25T01:14:34.477280Z",
     "start_time": "2019-03-25T01:14:32.205700Z"
    }
   },
   "outputs": [
    {
     "data": {
      "text/html": [
       "<div>\n",
       "<style scoped>\n",
       "    .dataframe tbody tr th:only-of-type {\n",
       "        vertical-align: middle;\n",
       "    }\n",
       "\n",
       "    .dataframe tbody tr th {\n",
       "        vertical-align: top;\n",
       "    }\n",
       "\n",
       "    .dataframe thead th {\n",
       "        text-align: right;\n",
       "    }\n",
       "</style>\n",
       "<table border=\"1\" class=\"dataframe\">\n",
       "  <thead>\n",
       "    <tr style=\"text-align: right;\">\n",
       "      <th></th>\n",
       "      <th>account</th>\n",
       "      <th>name</th>\n",
       "      <th>street</th>\n",
       "      <th>city</th>\n",
       "      <th>state</th>\n",
       "      <th>postal-code</th>\n",
       "      <th>Jan</th>\n",
       "      <th>Feb</th>\n",
       "      <th>Mar</th>\n",
       "    </tr>\n",
       "  </thead>\n",
       "  <tbody>\n",
       "    <tr>\n",
       "      <th>0</th>\n",
       "      <td>211829</td>\n",
       "      <td>Kerluke, Koepp and Hilpert</td>\n",
       "      <td>34456 Sean Highway</td>\n",
       "      <td>New Jaycob</td>\n",
       "      <td>Texas</td>\n",
       "      <td>28752</td>\n",
       "      <td>10000</td>\n",
       "      <td>62000</td>\n",
       "      <td>35000</td>\n",
       "    </tr>\n",
       "    <tr>\n",
       "      <th>1</th>\n",
       "      <td>320563</td>\n",
       "      <td>Walter-Trantow</td>\n",
       "      <td>1311 Alvis Tunnel</td>\n",
       "      <td>Port Khadijah</td>\n",
       "      <td>NorthCarolina</td>\n",
       "      <td>38365</td>\n",
       "      <td>95000</td>\n",
       "      <td>45000</td>\n",
       "      <td>35000</td>\n",
       "    </tr>\n",
       "    <tr>\n",
       "      <th>2</th>\n",
       "      <td>648336</td>\n",
       "      <td>Bashirian, Kunde and Price</td>\n",
       "      <td>62184 Schamberger Underpass Apt. 231</td>\n",
       "      <td>New Lilianland</td>\n",
       "      <td>Iowa</td>\n",
       "      <td>76517</td>\n",
       "      <td>91000</td>\n",
       "      <td>120000</td>\n",
       "      <td>35000</td>\n",
       "    </tr>\n",
       "    <tr>\n",
       "      <th>3</th>\n",
       "      <td>109996</td>\n",
       "      <td>D'Amore, Gleichner and Bode</td>\n",
       "      <td>155 Fadel Crescent Apt. 144</td>\n",
       "      <td>Hyattburgh</td>\n",
       "      <td>Maine</td>\n",
       "      <td>46021</td>\n",
       "      <td>45000</td>\n",
       "      <td>120000</td>\n",
       "      <td>10000</td>\n",
       "    </tr>\n",
       "    <tr>\n",
       "      <th>4</th>\n",
       "      <td>121213</td>\n",
       "      <td>Bauch-Goldner</td>\n",
       "      <td>7274 Marissa Common</td>\n",
       "      <td>Shanahanchester</td>\n",
       "      <td>California</td>\n",
       "      <td>49681</td>\n",
       "      <td>162000</td>\n",
       "      <td>120000</td>\n",
       "      <td>35000</td>\n",
       "    </tr>\n",
       "  </tbody>\n",
       "</table>\n",
       "</div>"
      ],
      "text/plain": [
       "   account                         name                                street  \\\n",
       "0   211829   Kerluke, Koepp and Hilpert                    34456 Sean Highway   \n",
       "1   320563               Walter-Trantow                     1311 Alvis Tunnel   \n",
       "2   648336   Bashirian, Kunde and Price  62184 Schamberger Underpass Apt. 231   \n",
       "3   109996  D'Amore, Gleichner and Bode           155 Fadel Crescent Apt. 144   \n",
       "4   121213                Bauch-Goldner                   7274 Marissa Common   \n",
       "\n",
       "              city          state  postal-code     Jan     Feb    Mar  \n",
       "0       New Jaycob          Texas        28752   10000   62000  35000  \n",
       "1    Port Khadijah  NorthCarolina        38365   95000   45000  35000  \n",
       "2   New Lilianland           Iowa        76517   91000  120000  35000  \n",
       "3       Hyattburgh          Maine        46021   45000  120000  10000  \n",
       "4  Shanahanchester     California        49681  162000  120000  35000  "
      ]
     },
     "execution_count": 155,
     "metadata": {},
     "output_type": "execute_result"
    }
   ],
   "source": [
    "import pandas as pd\n",
    "import numpy as np\n",
    "df = pd.read_excel(\"https://github.com/fjvarasc/DSPXI/blob/master/data/excel-comp-data.xlsx?raw=true\")\n",
    "df.head()"
   ]
  },
  {
   "cell_type": "markdown",
   "metadata": {},
   "source": [
    "We want to add a total column to show total sales for Jan, Feb and Mar.\n",
    "\n",
    "This is straightforward in Excel and in pandas. For Excel, I have added the formula `sum(G2:I2)` in column J. Here is what it looks like in Excel:\n",
    "\n",
    "![image.png](https://raw.githubusercontent.com/fjvarasc/DSPXI/master/figures/excel-1.png)\n",
    "\n",
    "Next, here is how we do it in pandas:"
   ]
  },
  {
   "cell_type": "code",
   "execution_count": 113,
   "metadata": {
    "ExecuteTime": {
     "end_time": "2019-03-25T00:21:20.943736Z",
     "start_time": "2019-03-25T00:21:20.812875Z"
    }
   },
   "outputs": [
    {
     "data": {
      "text/html": [
       "<div>\n",
       "<style scoped>\n",
       "    .dataframe tbody tr th:only-of-type {\n",
       "        vertical-align: middle;\n",
       "    }\n",
       "\n",
       "    .dataframe tbody tr th {\n",
       "        vertical-align: top;\n",
       "    }\n",
       "\n",
       "    .dataframe thead th {\n",
       "        text-align: right;\n",
       "    }\n",
       "</style>\n",
       "<table border=\"1\" class=\"dataframe\">\n",
       "  <thead>\n",
       "    <tr style=\"text-align: right;\">\n",
       "      <th></th>\n",
       "      <th>account</th>\n",
       "      <th>name</th>\n",
       "      <th>street</th>\n",
       "      <th>city</th>\n",
       "      <th>state</th>\n",
       "      <th>postal-code</th>\n",
       "      <th>Jan</th>\n",
       "      <th>Feb</th>\n",
       "      <th>Mar</th>\n",
       "      <th>total</th>\n",
       "    </tr>\n",
       "  </thead>\n",
       "  <tbody>\n",
       "    <tr>\n",
       "      <th>0</th>\n",
       "      <td>211829</td>\n",
       "      <td>Kerluke, Koepp and Hilpert</td>\n",
       "      <td>34456 Sean Highway</td>\n",
       "      <td>New Jaycob</td>\n",
       "      <td>Texas</td>\n",
       "      <td>28752</td>\n",
       "      <td>10000</td>\n",
       "      <td>62000</td>\n",
       "      <td>35000</td>\n",
       "      <td>107000</td>\n",
       "    </tr>\n",
       "    <tr>\n",
       "      <th>1</th>\n",
       "      <td>320563</td>\n",
       "      <td>Walter-Trantow</td>\n",
       "      <td>1311 Alvis Tunnel</td>\n",
       "      <td>Port Khadijah</td>\n",
       "      <td>NorthCarolina</td>\n",
       "      <td>38365</td>\n",
       "      <td>95000</td>\n",
       "      <td>45000</td>\n",
       "      <td>35000</td>\n",
       "      <td>175000</td>\n",
       "    </tr>\n",
       "    <tr>\n",
       "      <th>2</th>\n",
       "      <td>648336</td>\n",
       "      <td>Bashirian, Kunde and Price</td>\n",
       "      <td>62184 Schamberger Underpass Apt. 231</td>\n",
       "      <td>New Lilianland</td>\n",
       "      <td>Iowa</td>\n",
       "      <td>76517</td>\n",
       "      <td>91000</td>\n",
       "      <td>120000</td>\n",
       "      <td>35000</td>\n",
       "      <td>246000</td>\n",
       "    </tr>\n",
       "    <tr>\n",
       "      <th>3</th>\n",
       "      <td>109996</td>\n",
       "      <td>D'Amore, Gleichner and Bode</td>\n",
       "      <td>155 Fadel Crescent Apt. 144</td>\n",
       "      <td>Hyattburgh</td>\n",
       "      <td>Maine</td>\n",
       "      <td>46021</td>\n",
       "      <td>45000</td>\n",
       "      <td>120000</td>\n",
       "      <td>10000</td>\n",
       "      <td>175000</td>\n",
       "    </tr>\n",
       "    <tr>\n",
       "      <th>4</th>\n",
       "      <td>121213</td>\n",
       "      <td>Bauch-Goldner</td>\n",
       "      <td>7274 Marissa Common</td>\n",
       "      <td>Shanahanchester</td>\n",
       "      <td>California</td>\n",
       "      <td>49681</td>\n",
       "      <td>162000</td>\n",
       "      <td>120000</td>\n",
       "      <td>35000</td>\n",
       "      <td>317000</td>\n",
       "    </tr>\n",
       "  </tbody>\n",
       "</table>\n",
       "</div>"
      ],
      "text/plain": [
       "   account                         name                                street  \\\n",
       "0   211829   Kerluke, Koepp and Hilpert                    34456 Sean Highway   \n",
       "1   320563               Walter-Trantow                     1311 Alvis Tunnel   \n",
       "2   648336   Bashirian, Kunde and Price  62184 Schamberger Underpass Apt. 231   \n",
       "3   109996  D'Amore, Gleichner and Bode           155 Fadel Crescent Apt. 144   \n",
       "4   121213                Bauch-Goldner                   7274 Marissa Common   \n",
       "\n",
       "              city          state  postal-code     Jan     Feb    Mar   total  \n",
       "0       New Jaycob          Texas        28752   10000   62000  35000  107000  \n",
       "1    Port Khadijah  NorthCarolina        38365   95000   45000  35000  175000  \n",
       "2   New Lilianland           Iowa        76517   91000  120000  35000  246000  \n",
       "3       Hyattburgh          Maine        46021   45000  120000  10000  175000  \n",
       "4  Shanahanchester     California        49681  162000  120000  35000  317000  "
      ]
     },
     "execution_count": 113,
     "metadata": {},
     "output_type": "execute_result"
    }
   ],
   "source": [
    "df[\"total\"] = df[\"Jan\"] + df[\"Feb\"] + df[\"Mar\"]\n",
    "df.head()"
   ]
  },
  {
   "cell_type": "markdown",
   "metadata": {},
   "source": [
    "Next, let’s get some totals and other values for each month. Here is what we are trying to do as shown in Excel:\n",
    "\n",
    "![image.png](https://raw.githubusercontent.com/fjvarasc/DSPXI/master/figures/excel-2.png)\n",
    "\n",
    "As you can see, we added a `SUM(G2:G16)` in row 17 in each of the columns to get totals by month.\n",
    "\n",
    "Performing column level analysis is easy in pandas. Here are a couple of examples."
   ]
  },
  {
   "cell_type": "code",
   "execution_count": 60,
   "metadata": {
    "ExecuteTime": {
     "end_time": "2019-03-24T23:19:01.381611Z",
     "start_time": "2019-03-24T23:19:01.330463Z"
    }
   },
   "outputs": [
    {
     "data": {
      "text/plain": [
       "(1462000, 97466.66666666667, 10000, 162000)"
      ]
     },
     "execution_count": 60,
     "metadata": {},
     "output_type": "execute_result"
    }
   ],
   "source": [
    "df[\"Jan\"].sum(), df[\"Jan\"].mean(),df[\"Jan\"].min(),df[\"Jan\"].max()"
   ]
  },
  {
   "cell_type": "markdown",
   "metadata": {},
   "source": [
    "Now, we want to add a total by month and grand total. This is where pandas and Excel diverge a little. It is very simple to add totals in cells in Excel for each month. Because pandas need to maintain the integrity of the entire DataFrame, there are a couple more steps.\n",
    "\n",
    "First, create a sum for the month and total columns."
   ]
  },
  {
   "cell_type": "code",
   "execution_count": 61,
   "metadata": {
    "ExecuteTime": {
     "end_time": "2019-03-24T23:19:01.500291Z",
     "start_time": "2019-03-24T23:19:01.464496Z"
    }
   },
   "outputs": [
    {
     "data": {
      "text/plain": [
       "Jan      1462000\n",
       "Feb      1507000\n",
       "Mar       717000\n",
       "total    3686000\n",
       "dtype: int64"
      ]
     },
     "execution_count": 61,
     "metadata": {},
     "output_type": "execute_result"
    }
   ],
   "source": [
    "sum_row=df[[\"Jan\",\"Feb\",\"Mar\",\"total\"]].sum()\n",
    "sum_row"
   ]
  },
  {
   "cell_type": "markdown",
   "metadata": {},
   "source": [
    "This is fairly intuitive however, if you want to add totals as a row, you need to do some minor manipulations.\n",
    "\n",
    "We need to transpose the data and convert the Series to a DataFrame so that it is easier to concat onto our existing data. The `T` function allows us to switch the data from being row-based to column-base"
   ]
  },
  {
   "cell_type": "code",
   "execution_count": 62,
   "metadata": {
    "ExecuteTime": {
     "end_time": "2019-03-24T23:19:01.771964Z",
     "start_time": "2019-03-24T23:19:01.698411Z"
    }
   },
   "outputs": [
    {
     "data": {
      "text/html": [
       "<div>\n",
       "<style scoped>\n",
       "    .dataframe tbody tr th:only-of-type {\n",
       "        vertical-align: middle;\n",
       "    }\n",
       "\n",
       "    .dataframe tbody tr th {\n",
       "        vertical-align: top;\n",
       "    }\n",
       "\n",
       "    .dataframe thead th {\n",
       "        text-align: right;\n",
       "    }\n",
       "</style>\n",
       "<table border=\"1\" class=\"dataframe\">\n",
       "  <thead>\n",
       "    <tr style=\"text-align: right;\">\n",
       "      <th></th>\n",
       "      <th>Jan</th>\n",
       "      <th>Feb</th>\n",
       "      <th>Mar</th>\n",
       "      <th>total</th>\n",
       "    </tr>\n",
       "  </thead>\n",
       "  <tbody>\n",
       "    <tr>\n",
       "      <th>0</th>\n",
       "      <td>1462000</td>\n",
       "      <td>1507000</td>\n",
       "      <td>717000</td>\n",
       "      <td>3686000</td>\n",
       "    </tr>\n",
       "  </tbody>\n",
       "</table>\n",
       "</div>"
      ],
      "text/plain": [
       "       Jan      Feb     Mar    total\n",
       "0  1462000  1507000  717000  3686000"
      ]
     },
     "execution_count": 62,
     "metadata": {},
     "output_type": "execute_result"
    }
   ],
   "source": [
    "df_sum=pd.DataFrame(data=sum_row).T\n",
    "df_sum"
   ]
  },
  {
   "cell_type": "markdown",
   "metadata": {},
   "source": [
    "The final thing we need to do before adding the totals back is to add the missing columns. We use `reindex` to do this for us. The trick is to add all of our columns and then allow pandas to fill in the values that are missing."
   ]
  },
  {
   "cell_type": "code",
   "execution_count": 63,
   "metadata": {
    "ExecuteTime": {
     "end_time": "2019-03-24T23:19:01.952888Z",
     "start_time": "2019-03-24T23:19:01.885688Z"
    }
   },
   "outputs": [
    {
     "data": {
      "text/html": [
       "<div>\n",
       "<style scoped>\n",
       "    .dataframe tbody tr th:only-of-type {\n",
       "        vertical-align: middle;\n",
       "    }\n",
       "\n",
       "    .dataframe tbody tr th {\n",
       "        vertical-align: top;\n",
       "    }\n",
       "\n",
       "    .dataframe thead th {\n",
       "        text-align: right;\n",
       "    }\n",
       "</style>\n",
       "<table border=\"1\" class=\"dataframe\">\n",
       "  <thead>\n",
       "    <tr style=\"text-align: right;\">\n",
       "      <th></th>\n",
       "      <th>account</th>\n",
       "      <th>name</th>\n",
       "      <th>street</th>\n",
       "      <th>city</th>\n",
       "      <th>state</th>\n",
       "      <th>postal-code</th>\n",
       "      <th>Jan</th>\n",
       "      <th>Feb</th>\n",
       "      <th>Mar</th>\n",
       "      <th>total</th>\n",
       "    </tr>\n",
       "  </thead>\n",
       "  <tbody>\n",
       "    <tr>\n",
       "      <th>0</th>\n",
       "      <td>NaN</td>\n",
       "      <td>NaN</td>\n",
       "      <td>NaN</td>\n",
       "      <td>NaN</td>\n",
       "      <td>NaN</td>\n",
       "      <td>NaN</td>\n",
       "      <td>1462000</td>\n",
       "      <td>1507000</td>\n",
       "      <td>717000</td>\n",
       "      <td>3686000</td>\n",
       "    </tr>\n",
       "  </tbody>\n",
       "</table>\n",
       "</div>"
      ],
      "text/plain": [
       "   account  name  street  city  state  postal-code      Jan      Feb     Mar  \\\n",
       "0      NaN   NaN     NaN   NaN    NaN          NaN  1462000  1507000  717000   \n",
       "\n",
       "     total  \n",
       "0  3686000  "
      ]
     },
     "execution_count": 63,
     "metadata": {},
     "output_type": "execute_result"
    }
   ],
   "source": [
    "df_sum=df_sum.reindex(columns=df.columns)\n",
    "df_sum"
   ]
  },
  {
   "cell_type": "markdown",
   "metadata": {},
   "source": [
    "Now that we have a nicely formatted DataFrame, we can add it to our existing one using `append`."
   ]
  },
  {
   "cell_type": "code",
   "execution_count": 64,
   "metadata": {
    "ExecuteTime": {
     "end_time": "2019-03-24T23:19:02.170851Z",
     "start_time": "2019-03-24T23:19:02.079511Z"
    }
   },
   "outputs": [
    {
     "data": {
      "text/html": [
       "<div>\n",
       "<style scoped>\n",
       "    .dataframe tbody tr th:only-of-type {\n",
       "        vertical-align: middle;\n",
       "    }\n",
       "\n",
       "    .dataframe tbody tr th {\n",
       "        vertical-align: top;\n",
       "    }\n",
       "\n",
       "    .dataframe thead th {\n",
       "        text-align: right;\n",
       "    }\n",
       "</style>\n",
       "<table border=\"1\" class=\"dataframe\">\n",
       "  <thead>\n",
       "    <tr style=\"text-align: right;\">\n",
       "      <th></th>\n",
       "      <th>account</th>\n",
       "      <th>name</th>\n",
       "      <th>street</th>\n",
       "      <th>city</th>\n",
       "      <th>state</th>\n",
       "      <th>postal-code</th>\n",
       "      <th>Jan</th>\n",
       "      <th>Feb</th>\n",
       "      <th>Mar</th>\n",
       "      <th>total</th>\n",
       "    </tr>\n",
       "  </thead>\n",
       "  <tbody>\n",
       "    <tr>\n",
       "      <th>11</th>\n",
       "      <td>231907.0</td>\n",
       "      <td>Hahn-Moore</td>\n",
       "      <td>18115 Olivine Throughway</td>\n",
       "      <td>Norbertomouth</td>\n",
       "      <td>NorthDakota</td>\n",
       "      <td>31415.0</td>\n",
       "      <td>150000</td>\n",
       "      <td>10000</td>\n",
       "      <td>162000</td>\n",
       "      <td>322000</td>\n",
       "    </tr>\n",
       "    <tr>\n",
       "      <th>12</th>\n",
       "      <td>242368.0</td>\n",
       "      <td>Frami, Anderson and Donnelly</td>\n",
       "      <td>182 Bertie Road</td>\n",
       "      <td>East Davian</td>\n",
       "      <td>Iowa</td>\n",
       "      <td>72686.0</td>\n",
       "      <td>162000</td>\n",
       "      <td>120000</td>\n",
       "      <td>35000</td>\n",
       "      <td>317000</td>\n",
       "    </tr>\n",
       "    <tr>\n",
       "      <th>13</th>\n",
       "      <td>268755.0</td>\n",
       "      <td>Walsh-Haley</td>\n",
       "      <td>2624 Beatty Parkways</td>\n",
       "      <td>Goodwinmouth</td>\n",
       "      <td>RhodeIsland</td>\n",
       "      <td>31919.0</td>\n",
       "      <td>55000</td>\n",
       "      <td>120000</td>\n",
       "      <td>35000</td>\n",
       "      <td>210000</td>\n",
       "    </tr>\n",
       "    <tr>\n",
       "      <th>14</th>\n",
       "      <td>273274.0</td>\n",
       "      <td>McDermott PLC</td>\n",
       "      <td>8917 Bergstrom Meadow</td>\n",
       "      <td>Kathryneborough</td>\n",
       "      <td>Delaware</td>\n",
       "      <td>27933.0</td>\n",
       "      <td>150000</td>\n",
       "      <td>120000</td>\n",
       "      <td>70000</td>\n",
       "      <td>340000</td>\n",
       "    </tr>\n",
       "    <tr>\n",
       "      <th>15</th>\n",
       "      <td>NaN</td>\n",
       "      <td>NaN</td>\n",
       "      <td>NaN</td>\n",
       "      <td>NaN</td>\n",
       "      <td>NaN</td>\n",
       "      <td>NaN</td>\n",
       "      <td>1462000</td>\n",
       "      <td>1507000</td>\n",
       "      <td>717000</td>\n",
       "      <td>3686000</td>\n",
       "    </tr>\n",
       "  </tbody>\n",
       "</table>\n",
       "</div>"
      ],
      "text/plain": [
       "     account                          name                    street  \\\n",
       "11  231907.0                    Hahn-Moore  18115 Olivine Throughway   \n",
       "12  242368.0  Frami, Anderson and Donnelly           182 Bertie Road   \n",
       "13  268755.0                   Walsh-Haley      2624 Beatty Parkways   \n",
       "14  273274.0                 McDermott PLC     8917 Bergstrom Meadow   \n",
       "15       NaN                           NaN                       NaN   \n",
       "\n",
       "               city        state  postal-code      Jan      Feb     Mar  \\\n",
       "11    Norbertomouth  NorthDakota      31415.0   150000    10000  162000   \n",
       "12      East Davian         Iowa      72686.0   162000   120000   35000   \n",
       "13     Goodwinmouth  RhodeIsland      31919.0    55000   120000   35000   \n",
       "14  Kathryneborough     Delaware      27933.0   150000   120000   70000   \n",
       "15              NaN          NaN          NaN  1462000  1507000  717000   \n",
       "\n",
       "      total  \n",
       "11   322000  \n",
       "12   317000  \n",
       "13   210000  \n",
       "14   340000  \n",
       "15  3686000  "
      ]
     },
     "execution_count": 64,
     "metadata": {},
     "output_type": "execute_result"
    }
   ],
   "source": [
    "df_final=df.append(df_sum,ignore_index=True)\n",
    "df_final.tail()"
   ]
  },
  {
   "cell_type": "markdown",
   "metadata": {},
   "source": [
    "## Additional Data Transforms\n",
    "For another example, let’s try to add a state abbreviation to the data set.\n",
    "\n",
    "From an Excel perspective the easiest way is probably to add a new column, do a vlookup on the state name and fill in the abbreviation.\n",
    "\n",
    "I did this and here is a snapshot of what the results looks like:\n",
    "\n",
    "![image.png](https://raw.githubusercontent.com/fjvarasc/DSPXI/master/figures/excel-3.png)\n"
   ]
  },
  {
   "cell_type": "markdown",
   "metadata": {},
   "source": [
    "You’ll notice that after performing the vlookup, there are some values that are not coming through correctly. That’s because we misspelled some of the states. Handling this in Excel would be really challenging (on big data sets).\n",
    "\n",
    "Fortunately with pandas we have the full power of the python ecosystem at our disposal. In thinking about how to solve this type of messy data problem, I thought about trying to do some fuzzy text matching to determine the correct value.\n",
    "\n",
    "Fortunately someone else has done a lot of work in this area. The [fuzzy wuzzy](http://chairnerd.seatgeek.com/fuzzywuzzy-fuzzy-string-matching-in-python/) library has some pretty useful functions for this type of situation.\n",
    "\n",
    "Get started by importing the appropriate fuzzywuzzy functions and define our state map dictionary."
   ]
  },
  {
   "cell_type": "code",
   "execution_count": 65,
   "metadata": {
    "ExecuteTime": {
     "end_time": "2019-03-24T23:19:08.095132Z",
     "start_time": "2019-03-24T23:19:02.465076Z"
    },
    "code_folding": [
     6,
     65
    ]
   },
   "outputs": [],
   "source": [
    "\"\"\"\n",
    "state_names returns a state name for a state code, like 'AK': 'Alaska'\n",
    "country_names returns a country name for a country code, like 'AD': 'Andorra'\n",
    "state_codes and country_codes are just the reverse\n",
    "\"\"\"\n",
    "\n",
    "state_names = {\n",
    " 'AK': 'Alaska',\n",
    " 'AL': 'Alabama',\n",
    " 'AR': 'Arkansas',\n",
    " 'AS': 'American Samoa',\n",
    " 'AZ': 'Arizona',\n",
    " 'CA': 'California',\n",
    " 'CO': 'Colorado',\n",
    " 'CT': 'Connecticut',\n",
    " 'DC': 'District of Columbia',\n",
    " 'DE': 'Delaware',\n",
    " 'FL': 'Florida',\n",
    " 'GA': 'Georgia',\n",
    " 'GU': 'Guam',\n",
    " 'HI': 'Hawaii',\n",
    " 'IA': 'Iowa',\n",
    " 'ID': 'Idaho',\n",
    " 'IL': 'Illinois',\n",
    " 'IN': 'Indiana',\n",
    " 'KS': 'Kansas',\n",
    " 'KY': 'Kentucky',\n",
    " 'LA': 'Louisiana',\n",
    " 'MA': 'Massachusetts',\n",
    " 'MD': 'Maryland',\n",
    " 'ME': 'Maine',\n",
    " 'MI': 'Michigan',\n",
    " 'MN': 'Minnesota',\n",
    " 'MO': 'Missouri',\n",
    " 'MP': 'Northern Mariana Islands',\n",
    " 'MS': 'Mississippi',\n",
    " 'MT': 'Montana',\n",
    " 'NC': 'North Carolina',\n",
    " 'ND': 'North Dakota',\n",
    " 'NE': 'Nebraska',\n",
    " 'NH': 'New Hampshire',\n",
    " 'NJ': 'New Jersey',\n",
    " 'NM': 'New Mexico',\n",
    " 'NV': 'Nevada',\n",
    " 'NY': 'New York',\n",
    " 'OH': 'Ohio',\n",
    " 'OK': 'Oklahoma',\n",
    " 'OR': 'Oregon',\n",
    " 'PA': 'Pennsylvania',\n",
    " 'PR': 'Puerto Rico',\n",
    " 'RI': 'Rhode Island',\n",
    " 'SC': 'South Carolina',\n",
    " 'SD': 'South Dakota',\n",
    " 'TN': 'Tennessee',\n",
    " 'TX': 'Texas',\n",
    " 'UT': 'Utah',\n",
    " 'VA': 'Virginia',\n",
    " 'VI': 'Virgin Islands',\n",
    " 'VT': 'Vermont',\n",
    " 'WA': 'Washington',\n",
    " 'WI': 'Wisconsin',\n",
    " 'WV': 'West Virginia',\n",
    " 'WY': 'Wyoming',\n",
    " }\n",
    "\n",
    "country_names = {\n",
    " 'AD': 'Andorra',\n",
    " 'AE': 'United Arab Emirates',\n",
    " 'AF': 'Afghanistan',\n",
    " 'AG': 'Antigua and Barbuda',\n",
    " 'AI': 'Anguilla',\n",
    " 'AL': 'Albania',\n",
    " 'AM': 'Armenia',\n",
    " 'AN': 'Netherlands Antilles',\n",
    " 'AO': 'Angola',\n",
    " 'AQ': 'Antarctica',\n",
    " 'AR': 'Argentina',\n",
    " 'AS': 'American Samoa',\n",
    " 'AT': 'Austria',\n",
    " 'AU': 'Australia',\n",
    " 'AW': 'Aruba',\n",
    " 'AX': '\\xc3\\x85land Islands',\n",
    " 'AZ': 'Azerbaijan',\n",
    " 'BA': 'Bosnia and Herzegovina',\n",
    " 'BB': 'Barbados',\n",
    " 'BD': 'Bangladesh',\n",
    " 'BE': 'Belgium',\n",
    " 'BF': 'Burkina Faso',\n",
    " 'BG': 'Bulgaria',\n",
    " 'BH': 'Bahrain',\n",
    " 'BI': 'Burundi',\n",
    " 'BJ': 'Benin',\n",
    " 'BL': 'Saint Barth\\xc3\\xa9lemy',\n",
    " 'BM': 'Bermuda',\n",
    " 'BN': 'Brunei Darussalam',\n",
    " 'BO': 'Bolivia, Plurinational State of',\n",
    " 'BR': 'Brazil',\n",
    " 'BS': 'Bahamas',\n",
    " 'BT': 'Bhutan',\n",
    " 'BV': 'Bouvet Island',\n",
    " 'BW': 'Botswana',\n",
    " 'BY': 'Belarus',\n",
    " 'BZ': 'Belize',\n",
    " 'CA': 'Canada',\n",
    " 'CC': 'Cocos (Keeling) Islands',\n",
    " 'CD': 'Congo, The Democratic Republic of the',\n",
    " 'CF': 'Central African Republic',\n",
    " 'CG': 'Congo',\n",
    " 'CH': 'Switzerland',\n",
    " 'CI': \"C\\xc3\\xb4te d'Ivoire\",\n",
    " 'CK': 'Cook Islands',\n",
    " 'CL': 'Chile',\n",
    " 'CM': 'Cameroon',\n",
    " 'CN': 'China',\n",
    " 'CO': 'Colombia',\n",
    " 'CR': 'Costa Rica',\n",
    " 'CU': 'Cuba',\n",
    " 'CV': 'Cape Verde',\n",
    " 'CX': 'Christmas Island',\n",
    " 'CY': 'Cyprus',\n",
    " 'CZ': 'Czech Republic',\n",
    " 'DE': 'Germany',\n",
    " 'DJ': 'Djibouti',\n",
    " 'DK': 'Denmark',\n",
    " 'DM': 'Dominica',\n",
    " 'DO': 'Dominican Republic',\n",
    " 'DZ': 'Algeria',\n",
    " 'EC': 'Ecuador',\n",
    " 'EE': 'Estonia',\n",
    " 'EG': 'Egypt',\n",
    " 'EH': 'Western Sahara',\n",
    " 'ER': 'Eritrea',\n",
    " 'ES': 'Spain',\n",
    " 'ET': 'Ethiopia',\n",
    " 'FI': 'Finland',\n",
    " 'FJ': 'Fiji',\n",
    " 'FK': 'Falkland Islands (Malvinas)',\n",
    " 'FM': 'Micronesia, Federated States of',\n",
    " 'FO': 'Faroe Islands',\n",
    " 'FR': 'France',\n",
    " 'GA': 'Gabon',\n",
    " 'GB': 'United Kingdom',\n",
    " 'GD': 'Grenada',\n",
    " 'GE': 'Georgia',\n",
    " 'GF': 'French Guiana',\n",
    " 'GG': 'Guernsey',\n",
    " 'GH': 'Ghana',\n",
    " 'GI': 'Gibraltar',\n",
    " 'GL': 'Greenland',\n",
    " 'GM': 'Gambia',\n",
    " 'GN': 'Guinea',\n",
    " 'GP': 'Guadeloupe',\n",
    " 'GQ': 'Equatorial Guinea',\n",
    " 'GR': 'Greece',\n",
    " 'GS': 'South Georgia and the South Sandwich Islands',\n",
    " 'GT': 'Guatemala',\n",
    " 'GU': 'Guam',\n",
    " 'GW': 'Guinea-Bissau',\n",
    " 'GY': 'Guyana',\n",
    " 'HK': 'Hong Kong',\n",
    " 'HM': 'Heard Island and McDonald Islands',\n",
    " 'HN': 'Honduras',\n",
    " 'HR': 'Croatia',\n",
    " 'HT': 'Haiti',\n",
    " 'HU': 'Hungary',\n",
    " 'ID': 'Indonesia',\n",
    " 'IE': 'Ireland',\n",
    " 'IL': 'Israel',\n",
    " 'IM': 'Isle of Man',\n",
    " 'IN': 'India',\n",
    " 'IO': 'British Indian Ocean Territory',\n",
    " 'IQ': 'Iraq',\n",
    " 'IR': 'Iran, Islamic Republic of',\n",
    " 'IS': 'Iceland',\n",
    " 'IT': 'Italy',\n",
    " 'JE': 'Jersey',\n",
    " 'JM': 'Jamaica',\n",
    " 'JO': 'Jordan',\n",
    " 'JP': 'Japan',\n",
    " 'KE': 'Kenya',\n",
    " 'KG': 'Kyrgyzstan',\n",
    " 'KH': 'Cambodia',\n",
    " 'KI': 'Kiribati',\n",
    " 'KM': 'Comoros',\n",
    " 'KN': 'Saint Kitts and Nevis',\n",
    " 'KP': \"Korea, Democratic People's Republic of\",\n",
    " 'KR': 'Korea, Republic of',\n",
    " 'KW': 'Kuwait',\n",
    " 'KY': 'Cayman Islands',\n",
    " 'KZ': 'Kazakhstan',\n",
    " 'LA': \"Lao People's Democratic Republic\",\n",
    " 'LB': 'Lebanon',\n",
    " 'LC': 'Saint Lucia',\n",
    " 'LI': 'Liechtenstein',\n",
    " 'LK': 'Sri Lanka',\n",
    " 'LR': 'Liberia',\n",
    " 'LS': 'Lesotho',\n",
    " 'LT': 'Lithuania',\n",
    " 'LU': 'Luxembourg',\n",
    " 'LV': 'Latvia',\n",
    " 'LY': 'Libyan Arab Jamahiriya',\n",
    " 'MA': 'Morocco',\n",
    " 'MC': 'Monaco',\n",
    " 'MD': 'Moldova, Republic of',\n",
    " 'ME': 'Montenegro',\n",
    " 'MF': 'Saint Martin',\n",
    " 'MG': 'Madagascar',\n",
    " 'MH': 'Marshall Islands',\n",
    " 'MK': 'Macedonia, The Former Yugoslav Republic of',\n",
    " 'ML': 'Mali',\n",
    " 'MM': 'Myanmar',\n",
    " 'MN': 'Mongolia',\n",
    " 'MO': 'Macao',\n",
    " 'MP': 'Northern Mariana Islands',\n",
    " 'MQ': 'Martinique',\n",
    " 'MR': 'Mauritania',\n",
    " 'MS': 'Montserrat',\n",
    " 'MT': 'Malta',\n",
    " 'MU': 'Mauritius',\n",
    " 'MV': 'Maldives',\n",
    " 'MW': 'Malawi',\n",
    " 'MX': 'Mexico',\n",
    " 'MY': 'Malaysia',\n",
    " 'MZ': 'Mozambique',\n",
    " 'NA': 'Namibia',\n",
    " 'NC': 'New Caledonia',\n",
    " 'NE': 'Niger',\n",
    " 'NF': 'Norfolk Island',\n",
    " 'NG': 'Nigeria',\n",
    " 'NI': 'Nicaragua',\n",
    " 'NL': 'Netherlands',\n",
    " 'NO': 'Norway',\n",
    " 'NP': 'Nepal',\n",
    " 'NR': 'Nauru',\n",
    " 'NU': 'Niue',\n",
    " 'NZ': 'New Zealand',\n",
    " 'OM': 'Oman',\n",
    " 'PA': 'Panama',\n",
    " 'PE': 'Peru',\n",
    " 'PF': 'French Polynesia',\n",
    " 'PG': 'Papua New Guinea',\n",
    " 'PH': 'Philippines',\n",
    " 'PK': 'Pakistan',\n",
    " 'PL': 'Poland',\n",
    " 'PM': 'Saint Pierre and Miquelon',\n",
    " 'PN': 'Pitcairn',\n",
    " 'PR': 'Puerto Rico',\n",
    " 'PS': 'Palestinian Territory, Occupied',\n",
    " 'PT': 'Portugal',\n",
    " 'PW': 'Palau',\n",
    " 'PY': 'Paraguay',\n",
    " 'QA': 'Qatar',\n",
    " 'RE': 'R\\xc3\\xa9union',\n",
    " 'RO': 'Romania',\n",
    " 'RS': 'Serbia',\n",
    " 'RU': 'Russian Federation',\n",
    " 'RW': 'Rwanda',\n",
    " 'SA': 'Saudi Arabia',\n",
    " 'SB': 'Solomon Islands',\n",
    " 'SC': 'Seychelles',\n",
    " 'SD': 'Sudan',\n",
    " 'SE': 'Sweden',\n",
    " 'SG': 'Singapore',\n",
    " 'SH': 'Saint Helena',\n",
    " 'SI': 'Slovenia',\n",
    " 'SJ': 'Svalbard and Jan Mayen',\n",
    " 'SK': 'Slovakia',\n",
    " 'SL': 'Sierra Leone',\n",
    " 'SM': 'San Marino',\n",
    " 'SN': 'Senegal',\n",
    " 'SO': 'Somalia',\n",
    " 'SR': 'Suriname',\n",
    " 'ST': 'Sao Tome and Principe',\n",
    " 'SV': 'El Salvador',\n",
    " 'SY': 'Syrian Arab Republic',\n",
    " 'SZ': 'Swaziland',\n",
    " 'TC': 'Turks and Caicos Islands',\n",
    " 'TD': 'Chad',\n",
    " 'TF': 'French Southern Territories',\n",
    " 'TG': 'Togo',\n",
    " 'TH': 'Thailand',\n",
    " 'TJ': 'Tajikistan',\n",
    " 'TK': 'Tokelau',\n",
    " 'TL': 'Timor-Leste',\n",
    " 'TM': 'Turkmenistan',\n",
    " 'TN': 'Tunisia',\n",
    " 'TO': 'Tonga',\n",
    " 'TR': 'Turkey',\n",
    " 'TT': 'Trinidad and Tobago',\n",
    " 'TV': 'Tuvalu',\n",
    " 'TW': 'Taiwan, Province of China',\n",
    " 'TZ': 'Tanzania, United Republic of',\n",
    " 'UA': 'Ukraine',\n",
    " 'UG': 'Uganda',\n",
    " 'UM': 'United States Minor Outlying Islands',\n",
    " 'US': 'United States',\n",
    " 'UY': 'Uruguay',\n",
    " 'UZ': 'Uzbekistan',\n",
    " 'VA': 'Holy See (Vatican City State)',\n",
    " 'VC': 'Saint Vincent and the Grenadines',\n",
    " 'VE': 'Venezuela, Bolivarian Republic of',\n",
    " 'VG': 'Virgin Islands, British',\n",
    " 'VI': 'Virgin Islands, U.S.',\n",
    " 'VN': 'Viet Nam',\n",
    " 'VU': 'Vanuatu',\n",
    " 'WF': 'Wallis and Futuna',\n",
    " 'WS': 'Samoa',\n",
    " 'YE': 'Yemen',\n",
    " 'YT': 'Mayotte',\n",
    " 'ZA': 'South Africa',\n",
    " 'ZM': 'Zambia',\n",
    " 'ZW': 'Zimbabwe',\n",
    " }\n",
    "\n",
    "# Reverse mappings, too, for convenience\n",
    "state_codes = dict((v, k) for k, v in state_names.items())\n",
    "country_codes = dict((v, k) for k, v in country_names.items())"
   ]
  },
  {
   "cell_type": "code",
   "execution_count": 66,
   "metadata": {
    "ExecuteTime": {
     "end_time": "2019-03-24T23:19:08.530281Z",
     "start_time": "2019-03-24T23:19:08.107798Z"
    }
   },
   "outputs": [
    {
     "data": {
      "text/plain": [
       "'New York'"
      ]
     },
     "execution_count": 66,
     "metadata": {},
     "output_type": "execute_result"
    }
   ],
   "source": [
    "#example using state code\n",
    "state_names['NY']"
   ]
  },
  {
   "cell_type": "code",
   "execution_count": 101,
   "metadata": {
    "ExecuteTime": {
     "end_time": "2019-03-25T00:12:45.192742Z",
     "start_time": "2019-03-25T00:12:45.159737Z"
    }
   },
   "outputs": [
    {
     "data": {
      "text/plain": [
       "'NY'"
      ]
     },
     "execution_count": 101,
     "metadata": {},
     "output_type": "execute_result"
    }
   ],
   "source": [
    "#using state name\n",
    "state_codes['New York']"
   ]
  },
  {
   "cell_type": "code",
   "execution_count": 68,
   "metadata": {
    "ExecuteTime": {
     "end_time": "2019-03-24T23:19:08.680766Z",
     "start_time": "2019-03-24T23:19:08.631867Z"
    }
   },
   "outputs": [],
   "source": [
    "from fuzzywuzzy import fuzz\n",
    "from fuzzywuzzy import process"
   ]
  },
  {
   "cell_type": "markdown",
   "metadata": {},
   "source": [
    "Here are some example of how the fuzzy text matching function works."
   ]
  },
  {
   "cell_type": "code",
   "execution_count": 69,
   "metadata": {
    "ExecuteTime": {
     "end_time": "2019-03-24T23:19:08.776069Z",
     "start_time": "2019-03-24T23:19:08.694399Z"
    }
   },
   "outputs": [
    {
     "data": {
      "text/plain": [
       "('Minnesota', 95)"
      ]
     },
     "execution_count": 69,
     "metadata": {},
     "output_type": "execute_result"
    }
   ],
   "source": [
    "process.extractOne(\"Minnesotta\",choices=state_codes.keys())"
   ]
  },
  {
   "cell_type": "code",
   "execution_count": 70,
   "metadata": {
    "ExecuteTime": {
     "end_time": "2019-03-24T23:19:08.847228Z",
     "start_time": "2019-03-24T23:19:08.788760Z"
    }
   },
   "outputs": [],
   "source": [
    "process.extractOne(\"AlaBAMMazzz\",choices=state_codes.keys(),score_cutoff=80)"
   ]
  },
  {
   "cell_type": "markdown",
   "metadata": {},
   "source": [
    "Add the column in the location we want and fill it with NaN values"
   ]
  },
  {
   "cell_type": "code",
   "execution_count": 114,
   "metadata": {
    "ExecuteTime": {
     "end_time": "2019-03-25T00:21:28.882861Z",
     "start_time": "2019-03-25T00:21:28.729143Z"
    }
   },
   "outputs": [
    {
     "data": {
      "text/html": [
       "<div>\n",
       "<style scoped>\n",
       "    .dataframe tbody tr th:only-of-type {\n",
       "        vertical-align: middle;\n",
       "    }\n",
       "\n",
       "    .dataframe tbody tr th {\n",
       "        vertical-align: top;\n",
       "    }\n",
       "\n",
       "    .dataframe thead th {\n",
       "        text-align: right;\n",
       "    }\n",
       "</style>\n",
       "<table border=\"1\" class=\"dataframe\">\n",
       "  <thead>\n",
       "    <tr style=\"text-align: right;\">\n",
       "      <th></th>\n",
       "      <th>account</th>\n",
       "      <th>name</th>\n",
       "      <th>street</th>\n",
       "      <th>city</th>\n",
       "      <th>state</th>\n",
       "      <th>postal-code</th>\n",
       "      <th>abbrev</th>\n",
       "      <th>Jan</th>\n",
       "      <th>Feb</th>\n",
       "      <th>Mar</th>\n",
       "      <th>total</th>\n",
       "    </tr>\n",
       "  </thead>\n",
       "  <tbody>\n",
       "    <tr>\n",
       "      <th>0</th>\n",
       "      <td>211829</td>\n",
       "      <td>Kerluke, Koepp and Hilpert</td>\n",
       "      <td>34456 Sean Highway</td>\n",
       "      <td>New Jaycob</td>\n",
       "      <td>Texas</td>\n",
       "      <td>28752</td>\n",
       "      <td>NaN</td>\n",
       "      <td>10000</td>\n",
       "      <td>62000</td>\n",
       "      <td>35000</td>\n",
       "      <td>107000</td>\n",
       "    </tr>\n",
       "    <tr>\n",
       "      <th>1</th>\n",
       "      <td>320563</td>\n",
       "      <td>Walter-Trantow</td>\n",
       "      <td>1311 Alvis Tunnel</td>\n",
       "      <td>Port Khadijah</td>\n",
       "      <td>NorthCarolina</td>\n",
       "      <td>38365</td>\n",
       "      <td>NaN</td>\n",
       "      <td>95000</td>\n",
       "      <td>45000</td>\n",
       "      <td>35000</td>\n",
       "      <td>175000</td>\n",
       "    </tr>\n",
       "    <tr>\n",
       "      <th>2</th>\n",
       "      <td>648336</td>\n",
       "      <td>Bashirian, Kunde and Price</td>\n",
       "      <td>62184 Schamberger Underpass Apt. 231</td>\n",
       "      <td>New Lilianland</td>\n",
       "      <td>Iowa</td>\n",
       "      <td>76517</td>\n",
       "      <td>NaN</td>\n",
       "      <td>91000</td>\n",
       "      <td>120000</td>\n",
       "      <td>35000</td>\n",
       "      <td>246000</td>\n",
       "    </tr>\n",
       "    <tr>\n",
       "      <th>3</th>\n",
       "      <td>109996</td>\n",
       "      <td>D'Amore, Gleichner and Bode</td>\n",
       "      <td>155 Fadel Crescent Apt. 144</td>\n",
       "      <td>Hyattburgh</td>\n",
       "      <td>Maine</td>\n",
       "      <td>46021</td>\n",
       "      <td>NaN</td>\n",
       "      <td>45000</td>\n",
       "      <td>120000</td>\n",
       "      <td>10000</td>\n",
       "      <td>175000</td>\n",
       "    </tr>\n",
       "    <tr>\n",
       "      <th>4</th>\n",
       "      <td>121213</td>\n",
       "      <td>Bauch-Goldner</td>\n",
       "      <td>7274 Marissa Common</td>\n",
       "      <td>Shanahanchester</td>\n",
       "      <td>California</td>\n",
       "      <td>49681</td>\n",
       "      <td>NaN</td>\n",
       "      <td>162000</td>\n",
       "      <td>120000</td>\n",
       "      <td>35000</td>\n",
       "      <td>317000</td>\n",
       "    </tr>\n",
       "  </tbody>\n",
       "</table>\n",
       "</div>"
      ],
      "text/plain": [
       "   account                         name                                street  \\\n",
       "0   211829   Kerluke, Koepp and Hilpert                    34456 Sean Highway   \n",
       "1   320563               Walter-Trantow                     1311 Alvis Tunnel   \n",
       "2   648336   Bashirian, Kunde and Price  62184 Schamberger Underpass Apt. 231   \n",
       "3   109996  D'Amore, Gleichner and Bode           155 Fadel Crescent Apt. 144   \n",
       "4   121213                Bauch-Goldner                   7274 Marissa Common   \n",
       "\n",
       "              city          state  postal-code  abbrev     Jan     Feb    Mar  \\\n",
       "0       New Jaycob          Texas        28752     NaN   10000   62000  35000   \n",
       "1    Port Khadijah  NorthCarolina        38365     NaN   95000   45000  35000   \n",
       "2   New Lilianland           Iowa        76517     NaN   91000  120000  35000   \n",
       "3       Hyattburgh          Maine        46021     NaN   45000  120000  10000   \n",
       "4  Shanahanchester     California        49681     NaN  162000  120000  35000   \n",
       "\n",
       "    total  \n",
       "0  107000  \n",
       "1  175000  \n",
       "2  246000  \n",
       "3  175000  \n",
       "4  317000  "
      ]
     },
     "execution_count": 114,
     "metadata": {},
     "output_type": "execute_result"
    }
   ],
   "source": [
    "df.insert(6, \"abbrev\", np.nan)\n",
    "df.head()"
   ]
  },
  {
   "cell_type": "markdown",
   "metadata": {
    "ExecuteTime": {
     "start_time": "2019-03-24T22:31:52.096Z"
    }
   },
   "source": [
    "We use `apply` to add the abbreviations into the approriate column."
   ]
  },
  {
   "cell_type": "code",
   "execution_count": null,
   "metadata": {
    "ExecuteTime": {
     "end_time": "2019-03-25T00:13:59.967939Z",
     "start_time": "2019-03-25T00:13:59.505937Z"
    }
   },
   "outputs": [],
   "source": [
    "def convert_state(row):\n",
    "    abbrev = process.extractOne(row[\"state\"],choices=state_codes.keys(),score_cutoff=80)\n",
    "    if abbrev:\n",
    "        #print (abbrev)\n",
    "        return state_codes[abbrev[0]]\n",
    "    return np.nan"
   ]
  },
  {
   "cell_type": "code",
   "execution_count": 115,
   "metadata": {
    "ExecuteTime": {
     "end_time": "2019-03-25T00:21:32.258474Z",
     "start_time": "2019-03-25T00:21:31.797647Z"
    }
   },
   "outputs": [
    {
     "data": {
      "text/html": [
       "<div>\n",
       "<style scoped>\n",
       "    .dataframe tbody tr th:only-of-type {\n",
       "        vertical-align: middle;\n",
       "    }\n",
       "\n",
       "    .dataframe tbody tr th {\n",
       "        vertical-align: top;\n",
       "    }\n",
       "\n",
       "    .dataframe thead th {\n",
       "        text-align: right;\n",
       "    }\n",
       "</style>\n",
       "<table border=\"1\" class=\"dataframe\">\n",
       "  <thead>\n",
       "    <tr style=\"text-align: right;\">\n",
       "      <th></th>\n",
       "      <th>account</th>\n",
       "      <th>name</th>\n",
       "      <th>street</th>\n",
       "      <th>city</th>\n",
       "      <th>state</th>\n",
       "      <th>postal-code</th>\n",
       "      <th>abbrev</th>\n",
       "      <th>Jan</th>\n",
       "      <th>Feb</th>\n",
       "      <th>Mar</th>\n",
       "      <th>total</th>\n",
       "    </tr>\n",
       "  </thead>\n",
       "  <tbody>\n",
       "    <tr>\n",
       "      <th>10</th>\n",
       "      <td>214098</td>\n",
       "      <td>Goodwin, Homenick and Jerde</td>\n",
       "      <td>649 Cierra Forks Apt. 078</td>\n",
       "      <td>Rosaberg</td>\n",
       "      <td>Tenessee</td>\n",
       "      <td>47743</td>\n",
       "      <td>TN</td>\n",
       "      <td>45000</td>\n",
       "      <td>120000</td>\n",
       "      <td>55000</td>\n",
       "      <td>220000</td>\n",
       "    </tr>\n",
       "    <tr>\n",
       "      <th>11</th>\n",
       "      <td>231907</td>\n",
       "      <td>Hahn-Moore</td>\n",
       "      <td>18115 Olivine Throughway</td>\n",
       "      <td>Norbertomouth</td>\n",
       "      <td>NorthDakota</td>\n",
       "      <td>31415</td>\n",
       "      <td>ND</td>\n",
       "      <td>150000</td>\n",
       "      <td>10000</td>\n",
       "      <td>162000</td>\n",
       "      <td>322000</td>\n",
       "    </tr>\n",
       "    <tr>\n",
       "      <th>12</th>\n",
       "      <td>242368</td>\n",
       "      <td>Frami, Anderson and Donnelly</td>\n",
       "      <td>182 Bertie Road</td>\n",
       "      <td>East Davian</td>\n",
       "      <td>Iowa</td>\n",
       "      <td>72686</td>\n",
       "      <td>IA</td>\n",
       "      <td>162000</td>\n",
       "      <td>120000</td>\n",
       "      <td>35000</td>\n",
       "      <td>317000</td>\n",
       "    </tr>\n",
       "    <tr>\n",
       "      <th>13</th>\n",
       "      <td>268755</td>\n",
       "      <td>Walsh-Haley</td>\n",
       "      <td>2624 Beatty Parkways</td>\n",
       "      <td>Goodwinmouth</td>\n",
       "      <td>RhodeIsland</td>\n",
       "      <td>31919</td>\n",
       "      <td>RI</td>\n",
       "      <td>55000</td>\n",
       "      <td>120000</td>\n",
       "      <td>35000</td>\n",
       "      <td>210000</td>\n",
       "    </tr>\n",
       "    <tr>\n",
       "      <th>14</th>\n",
       "      <td>273274</td>\n",
       "      <td>McDermott PLC</td>\n",
       "      <td>8917 Bergstrom Meadow</td>\n",
       "      <td>Kathryneborough</td>\n",
       "      <td>Delaware</td>\n",
       "      <td>27933</td>\n",
       "      <td>DE</td>\n",
       "      <td>150000</td>\n",
       "      <td>120000</td>\n",
       "      <td>70000</td>\n",
       "      <td>340000</td>\n",
       "    </tr>\n",
       "  </tbody>\n",
       "</table>\n",
       "</div>"
      ],
      "text/plain": [
       "    account                          name                     street  \\\n",
       "10   214098   Goodwin, Homenick and Jerde  649 Cierra Forks Apt. 078   \n",
       "11   231907                    Hahn-Moore   18115 Olivine Throughway   \n",
       "12   242368  Frami, Anderson and Donnelly            182 Bertie Road   \n",
       "13   268755                   Walsh-Haley       2624 Beatty Parkways   \n",
       "14   273274                 McDermott PLC      8917 Bergstrom Meadow   \n",
       "\n",
       "               city        state  postal-code abbrev     Jan     Feb     Mar  \\\n",
       "10         Rosaberg     Tenessee        47743     TN   45000  120000   55000   \n",
       "11    Norbertomouth  NorthDakota        31415     ND  150000   10000  162000   \n",
       "12      East Davian         Iowa        72686     IA  162000  120000   35000   \n",
       "13     Goodwinmouth  RhodeIsland        31919     RI   55000  120000   35000   \n",
       "14  Kathryneborough     Delaware        27933     DE  150000  120000   70000   \n",
       "\n",
       "     total  \n",
       "10  220000  \n",
       "11  322000  \n",
       "12  317000  \n",
       "13  210000  \n",
       "14  340000  "
      ]
     },
     "execution_count": 115,
     "metadata": {},
     "output_type": "execute_result"
    }
   ],
   "source": [
    "df['abbrev'] = df.apply(convert_state, axis=1)\n",
    "df.tail()"
   ]
  },
  {
   "cell_type": "markdown",
   "metadata": {},
   "source": [
    "We have developed a very simple process to intelligently clean up this data. Obviously when you only have 15 or so rows, this is not a big deal. However, what if you had 15,000? You would have to do something manual in Excel to clean this up.\n",
    "\n",
    "## Subtotals\n",
    "For the final section of this article, let’s get some subtotals by state.\n",
    "\n",
    "In Excel, we would use the `subtotal` tool to do this for us.\n",
    "\n",
    "![image.png](https://raw.githubusercontent.com/fjvarasc/DSPXI/master/figures/excel-4.png)\n",
    "\n",
    "\n",
    "The output would look like this:\n",
    "\n",
    "![image.png](https://raw.githubusercontent.com/fjvarasc/DSPXI/master/figures/excel-5.png)\n",
    "\n",
    "Creating a subtotal in pandas, is accomplished using `groupby`"
   ]
  },
  {
   "cell_type": "code",
   "execution_count": 116,
   "metadata": {
    "ExecuteTime": {
     "end_time": "2019-03-25T00:21:37.095453Z",
     "start_time": "2019-03-25T00:21:36.962186Z"
    }
   },
   "outputs": [
    {
     "data": {
      "text/html": [
       "<div>\n",
       "<style scoped>\n",
       "    .dataframe tbody tr th:only-of-type {\n",
       "        vertical-align: middle;\n",
       "    }\n",
       "\n",
       "    .dataframe tbody tr th {\n",
       "        vertical-align: top;\n",
       "    }\n",
       "\n",
       "    .dataframe thead th {\n",
       "        text-align: right;\n",
       "    }\n",
       "</style>\n",
       "<table border=\"1\" class=\"dataframe\">\n",
       "  <thead>\n",
       "    <tr style=\"text-align: right;\">\n",
       "      <th></th>\n",
       "      <th>Jan</th>\n",
       "      <th>Feb</th>\n",
       "      <th>Mar</th>\n",
       "      <th>total</th>\n",
       "    </tr>\n",
       "    <tr>\n",
       "      <th>abbrev</th>\n",
       "      <th></th>\n",
       "      <th></th>\n",
       "      <th></th>\n",
       "      <th></th>\n",
       "    </tr>\n",
       "  </thead>\n",
       "  <tbody>\n",
       "    <tr>\n",
       "      <th>AR</th>\n",
       "      <td>150000</td>\n",
       "      <td>120000</td>\n",
       "      <td>35000</td>\n",
       "      <td>305000</td>\n",
       "    </tr>\n",
       "    <tr>\n",
       "      <th>CA</th>\n",
       "      <td>162000</td>\n",
       "      <td>120000</td>\n",
       "      <td>35000</td>\n",
       "      <td>317000</td>\n",
       "    </tr>\n",
       "    <tr>\n",
       "      <th>DE</th>\n",
       "      <td>150000</td>\n",
       "      <td>120000</td>\n",
       "      <td>70000</td>\n",
       "      <td>340000</td>\n",
       "    </tr>\n",
       "    <tr>\n",
       "      <th>IA</th>\n",
       "      <td>253000</td>\n",
       "      <td>240000</td>\n",
       "      <td>70000</td>\n",
       "      <td>563000</td>\n",
       "    </tr>\n",
       "    <tr>\n",
       "      <th>ID</th>\n",
       "      <td>70000</td>\n",
       "      <td>120000</td>\n",
       "      <td>35000</td>\n",
       "      <td>225000</td>\n",
       "    </tr>\n",
       "    <tr>\n",
       "      <th>ME</th>\n",
       "      <td>45000</td>\n",
       "      <td>120000</td>\n",
       "      <td>10000</td>\n",
       "      <td>175000</td>\n",
       "    </tr>\n",
       "    <tr>\n",
       "      <th>MS</th>\n",
       "      <td>62000</td>\n",
       "      <td>120000</td>\n",
       "      <td>70000</td>\n",
       "      <td>252000</td>\n",
       "    </tr>\n",
       "    <tr>\n",
       "      <th>NC</th>\n",
       "      <td>95000</td>\n",
       "      <td>45000</td>\n",
       "      <td>35000</td>\n",
       "      <td>175000</td>\n",
       "    </tr>\n",
       "    <tr>\n",
       "      <th>ND</th>\n",
       "      <td>150000</td>\n",
       "      <td>10000</td>\n",
       "      <td>162000</td>\n",
       "      <td>322000</td>\n",
       "    </tr>\n",
       "    <tr>\n",
       "      <th>PA</th>\n",
       "      <td>70000</td>\n",
       "      <td>95000</td>\n",
       "      <td>35000</td>\n",
       "      <td>200000</td>\n",
       "    </tr>\n",
       "    <tr>\n",
       "      <th>RI</th>\n",
       "      <td>200000</td>\n",
       "      <td>215000</td>\n",
       "      <td>70000</td>\n",
       "      <td>485000</td>\n",
       "    </tr>\n",
       "    <tr>\n",
       "      <th>TN</th>\n",
       "      <td>45000</td>\n",
       "      <td>120000</td>\n",
       "      <td>55000</td>\n",
       "      <td>220000</td>\n",
       "    </tr>\n",
       "    <tr>\n",
       "      <th>TX</th>\n",
       "      <td>10000</td>\n",
       "      <td>62000</td>\n",
       "      <td>35000</td>\n",
       "      <td>107000</td>\n",
       "    </tr>\n",
       "  </tbody>\n",
       "</table>\n",
       "</div>"
      ],
      "text/plain": [
       "           Jan     Feb     Mar   total\n",
       "abbrev                                \n",
       "AR      150000  120000   35000  305000\n",
       "CA      162000  120000   35000  317000\n",
       "DE      150000  120000   70000  340000\n",
       "IA      253000  240000   70000  563000\n",
       "ID       70000  120000   35000  225000\n",
       "ME       45000  120000   10000  175000\n",
       "MS       62000  120000   70000  252000\n",
       "NC       95000   45000   35000  175000\n",
       "ND      150000   10000  162000  322000\n",
       "PA       70000   95000   35000  200000\n",
       "RI      200000  215000   70000  485000\n",
       "TN       45000  120000   55000  220000\n",
       "TX       10000   62000   35000  107000"
      ]
     },
     "execution_count": 116,
     "metadata": {},
     "output_type": "execute_result"
    }
   ],
   "source": [
    "df_sub=df[[\"abbrev\",\"Jan\",\"Feb\",\"Mar\",\"total\"]].groupby('abbrev').sum()\n",
    "df_sub"
   ]
  },
  {
   "cell_type": "markdown",
   "metadata": {},
   "source": [
    "Next, we want to format the data as currency by using `applymap` to all the values in the data frame."
   ]
  },
  {
   "cell_type": "code",
   "execution_count": 117,
   "metadata": {
    "ExecuteTime": {
     "end_time": "2019-03-25T00:22:31.280929Z",
     "start_time": "2019-03-25T00:22:31.141202Z"
    }
   },
   "outputs": [
    {
     "data": {
      "text/html": [
       "<div>\n",
       "<style scoped>\n",
       "    .dataframe tbody tr th:only-of-type {\n",
       "        vertical-align: middle;\n",
       "    }\n",
       "\n",
       "    .dataframe tbody tr th {\n",
       "        vertical-align: top;\n",
       "    }\n",
       "\n",
       "    .dataframe thead th {\n",
       "        text-align: right;\n",
       "    }\n",
       "</style>\n",
       "<table border=\"1\" class=\"dataframe\">\n",
       "  <thead>\n",
       "    <tr style=\"text-align: right;\">\n",
       "      <th></th>\n",
       "      <th>Jan</th>\n",
       "      <th>Feb</th>\n",
       "      <th>Mar</th>\n",
       "      <th>total</th>\n",
       "    </tr>\n",
       "    <tr>\n",
       "      <th>abbrev</th>\n",
       "      <th></th>\n",
       "      <th></th>\n",
       "      <th></th>\n",
       "      <th></th>\n",
       "    </tr>\n",
       "  </thead>\n",
       "  <tbody>\n",
       "    <tr>\n",
       "      <th>AR</th>\n",
       "      <td>$150,000</td>\n",
       "      <td>$120,000</td>\n",
       "      <td>$35,000</td>\n",
       "      <td>$305,000</td>\n",
       "    </tr>\n",
       "    <tr>\n",
       "      <th>CA</th>\n",
       "      <td>$162,000</td>\n",
       "      <td>$120,000</td>\n",
       "      <td>$35,000</td>\n",
       "      <td>$317,000</td>\n",
       "    </tr>\n",
       "    <tr>\n",
       "      <th>DE</th>\n",
       "      <td>$150,000</td>\n",
       "      <td>$120,000</td>\n",
       "      <td>$70,000</td>\n",
       "      <td>$340,000</td>\n",
       "    </tr>\n",
       "    <tr>\n",
       "      <th>IA</th>\n",
       "      <td>$253,000</td>\n",
       "      <td>$240,000</td>\n",
       "      <td>$70,000</td>\n",
       "      <td>$563,000</td>\n",
       "    </tr>\n",
       "    <tr>\n",
       "      <th>ID</th>\n",
       "      <td>$70,000</td>\n",
       "      <td>$120,000</td>\n",
       "      <td>$35,000</td>\n",
       "      <td>$225,000</td>\n",
       "    </tr>\n",
       "    <tr>\n",
       "      <th>ME</th>\n",
       "      <td>$45,000</td>\n",
       "      <td>$120,000</td>\n",
       "      <td>$10,000</td>\n",
       "      <td>$175,000</td>\n",
       "    </tr>\n",
       "    <tr>\n",
       "      <th>MS</th>\n",
       "      <td>$62,000</td>\n",
       "      <td>$120,000</td>\n",
       "      <td>$70,000</td>\n",
       "      <td>$252,000</td>\n",
       "    </tr>\n",
       "    <tr>\n",
       "      <th>NC</th>\n",
       "      <td>$95,000</td>\n",
       "      <td>$45,000</td>\n",
       "      <td>$35,000</td>\n",
       "      <td>$175,000</td>\n",
       "    </tr>\n",
       "    <tr>\n",
       "      <th>ND</th>\n",
       "      <td>$150,000</td>\n",
       "      <td>$10,000</td>\n",
       "      <td>$162,000</td>\n",
       "      <td>$322,000</td>\n",
       "    </tr>\n",
       "    <tr>\n",
       "      <th>PA</th>\n",
       "      <td>$70,000</td>\n",
       "      <td>$95,000</td>\n",
       "      <td>$35,000</td>\n",
       "      <td>$200,000</td>\n",
       "    </tr>\n",
       "    <tr>\n",
       "      <th>RI</th>\n",
       "      <td>$200,000</td>\n",
       "      <td>$215,000</td>\n",
       "      <td>$70,000</td>\n",
       "      <td>$485,000</td>\n",
       "    </tr>\n",
       "    <tr>\n",
       "      <th>TN</th>\n",
       "      <td>$45,000</td>\n",
       "      <td>$120,000</td>\n",
       "      <td>$55,000</td>\n",
       "      <td>$220,000</td>\n",
       "    </tr>\n",
       "    <tr>\n",
       "      <th>TX</th>\n",
       "      <td>$10,000</td>\n",
       "      <td>$62,000</td>\n",
       "      <td>$35,000</td>\n",
       "      <td>$107,000</td>\n",
       "    </tr>\n",
       "  </tbody>\n",
       "</table>\n",
       "</div>"
      ],
      "text/plain": [
       "             Jan       Feb       Mar     total\n",
       "abbrev                                        \n",
       "AR      $150,000  $120,000   $35,000  $305,000\n",
       "CA      $162,000  $120,000   $35,000  $317,000\n",
       "DE      $150,000  $120,000   $70,000  $340,000\n",
       "IA      $253,000  $240,000   $70,000  $563,000\n",
       "ID       $70,000  $120,000   $35,000  $225,000\n",
       "ME       $45,000  $120,000   $10,000  $175,000\n",
       "MS       $62,000  $120,000   $70,000  $252,000\n",
       "NC       $95,000   $45,000   $35,000  $175,000\n",
       "ND      $150,000   $10,000  $162,000  $322,000\n",
       "PA       $70,000   $95,000   $35,000  $200,000\n",
       "RI      $200,000  $215,000   $70,000  $485,000\n",
       "TN       $45,000  $120,000   $55,000  $220,000\n",
       "TX       $10,000   $62,000   $35,000  $107,000"
      ]
     },
     "execution_count": 117,
     "metadata": {},
     "output_type": "execute_result"
    }
   ],
   "source": [
    "def money(x):\n",
    "    return \"${:,.0f}\".format(x)\n",
    "\n",
    "formatted_df = df_sub.applymap(money)\n",
    "formatted_df"
   ]
  },
  {
   "cell_type": "markdown",
   "metadata": {},
   "source": [
    "The formatting looks good, now we can get the totals like we did earlier."
   ]
  },
  {
   "cell_type": "code",
   "execution_count": 118,
   "metadata": {
    "ExecuteTime": {
     "end_time": "2019-03-25T00:23:13.706532Z",
     "start_time": "2019-03-25T00:23:13.644562Z"
    }
   },
   "outputs": [
    {
     "data": {
      "text/plain": [
       "Jan      1462000\n",
       "Feb      1507000\n",
       "Mar       717000\n",
       "total    3686000\n",
       "dtype: int64"
      ]
     },
     "execution_count": 118,
     "metadata": {},
     "output_type": "execute_result"
    }
   ],
   "source": [
    "sum_row=df_sub[[\"Jan\",\"Feb\",\"Mar\",\"total\"]].sum()\n",
    "sum_row"
   ]
  },
  {
   "cell_type": "markdown",
   "metadata": {},
   "source": [
    "Convert the values to columns and format it."
   ]
  },
  {
   "cell_type": "code",
   "execution_count": 119,
   "metadata": {
    "ExecuteTime": {
     "end_time": "2019-03-25T00:23:42.279055Z",
     "start_time": "2019-03-25T00:23:42.138026Z"
    }
   },
   "outputs": [
    {
     "data": {
      "text/html": [
       "<div>\n",
       "<style scoped>\n",
       "    .dataframe tbody tr th:only-of-type {\n",
       "        vertical-align: middle;\n",
       "    }\n",
       "\n",
       "    .dataframe tbody tr th {\n",
       "        vertical-align: top;\n",
       "    }\n",
       "\n",
       "    .dataframe thead th {\n",
       "        text-align: right;\n",
       "    }\n",
       "</style>\n",
       "<table border=\"1\" class=\"dataframe\">\n",
       "  <thead>\n",
       "    <tr style=\"text-align: right;\">\n",
       "      <th></th>\n",
       "      <th>Jan</th>\n",
       "      <th>Feb</th>\n",
       "      <th>Mar</th>\n",
       "      <th>total</th>\n",
       "    </tr>\n",
       "  </thead>\n",
       "  <tbody>\n",
       "    <tr>\n",
       "      <th>0</th>\n",
       "      <td>$1,462,000</td>\n",
       "      <td>$1,507,000</td>\n",
       "      <td>$717,000</td>\n",
       "      <td>$3,686,000</td>\n",
       "    </tr>\n",
       "  </tbody>\n",
       "</table>\n",
       "</div>"
      ],
      "text/plain": [
       "          Jan         Feb       Mar       total\n",
       "0  $1,462,000  $1,507,000  $717,000  $3,686,000"
      ]
     },
     "execution_count": 119,
     "metadata": {},
     "output_type": "execute_result"
    }
   ],
   "source": [
    "df_sub_sum=pd.DataFrame(data=sum_row).T\n",
    "df_sub_sum=df_sub_sum.applymap(money)\n",
    "df_sub_sum"
   ]
  },
  {
   "cell_type": "markdown",
   "metadata": {},
   "source": [
    "Finally, add the total value to the DataFrame"
   ]
  },
  {
   "cell_type": "code",
   "execution_count": 120,
   "metadata": {
    "ExecuteTime": {
     "end_time": "2019-03-25T00:24:10.904075Z",
     "start_time": "2019-03-25T00:24:10.769564Z"
    }
   },
   "outputs": [
    {
     "data": {
      "text/html": [
       "<div>\n",
       "<style scoped>\n",
       "    .dataframe tbody tr th:only-of-type {\n",
       "        vertical-align: middle;\n",
       "    }\n",
       "\n",
       "    .dataframe tbody tr th {\n",
       "        vertical-align: top;\n",
       "    }\n",
       "\n",
       "    .dataframe thead th {\n",
       "        text-align: right;\n",
       "    }\n",
       "</style>\n",
       "<table border=\"1\" class=\"dataframe\">\n",
       "  <thead>\n",
       "    <tr style=\"text-align: right;\">\n",
       "      <th></th>\n",
       "      <th>Jan</th>\n",
       "      <th>Feb</th>\n",
       "      <th>Mar</th>\n",
       "      <th>total</th>\n",
       "    </tr>\n",
       "  </thead>\n",
       "  <tbody>\n",
       "    <tr>\n",
       "      <th>AR</th>\n",
       "      <td>$150,000</td>\n",
       "      <td>$120,000</td>\n",
       "      <td>$35,000</td>\n",
       "      <td>$305,000</td>\n",
       "    </tr>\n",
       "    <tr>\n",
       "      <th>CA</th>\n",
       "      <td>$162,000</td>\n",
       "      <td>$120,000</td>\n",
       "      <td>$35,000</td>\n",
       "      <td>$317,000</td>\n",
       "    </tr>\n",
       "    <tr>\n",
       "      <th>DE</th>\n",
       "      <td>$150,000</td>\n",
       "      <td>$120,000</td>\n",
       "      <td>$70,000</td>\n",
       "      <td>$340,000</td>\n",
       "    </tr>\n",
       "    <tr>\n",
       "      <th>IA</th>\n",
       "      <td>$253,000</td>\n",
       "      <td>$240,000</td>\n",
       "      <td>$70,000</td>\n",
       "      <td>$563,000</td>\n",
       "    </tr>\n",
       "    <tr>\n",
       "      <th>ID</th>\n",
       "      <td>$70,000</td>\n",
       "      <td>$120,000</td>\n",
       "      <td>$35,000</td>\n",
       "      <td>$225,000</td>\n",
       "    </tr>\n",
       "    <tr>\n",
       "      <th>ME</th>\n",
       "      <td>$45,000</td>\n",
       "      <td>$120,000</td>\n",
       "      <td>$10,000</td>\n",
       "      <td>$175,000</td>\n",
       "    </tr>\n",
       "    <tr>\n",
       "      <th>MS</th>\n",
       "      <td>$62,000</td>\n",
       "      <td>$120,000</td>\n",
       "      <td>$70,000</td>\n",
       "      <td>$252,000</td>\n",
       "    </tr>\n",
       "    <tr>\n",
       "      <th>NC</th>\n",
       "      <td>$95,000</td>\n",
       "      <td>$45,000</td>\n",
       "      <td>$35,000</td>\n",
       "      <td>$175,000</td>\n",
       "    </tr>\n",
       "    <tr>\n",
       "      <th>ND</th>\n",
       "      <td>$150,000</td>\n",
       "      <td>$10,000</td>\n",
       "      <td>$162,000</td>\n",
       "      <td>$322,000</td>\n",
       "    </tr>\n",
       "    <tr>\n",
       "      <th>PA</th>\n",
       "      <td>$70,000</td>\n",
       "      <td>$95,000</td>\n",
       "      <td>$35,000</td>\n",
       "      <td>$200,000</td>\n",
       "    </tr>\n",
       "    <tr>\n",
       "      <th>RI</th>\n",
       "      <td>$200,000</td>\n",
       "      <td>$215,000</td>\n",
       "      <td>$70,000</td>\n",
       "      <td>$485,000</td>\n",
       "    </tr>\n",
       "    <tr>\n",
       "      <th>TN</th>\n",
       "      <td>$45,000</td>\n",
       "      <td>$120,000</td>\n",
       "      <td>$55,000</td>\n",
       "      <td>$220,000</td>\n",
       "    </tr>\n",
       "    <tr>\n",
       "      <th>TX</th>\n",
       "      <td>$10,000</td>\n",
       "      <td>$62,000</td>\n",
       "      <td>$35,000</td>\n",
       "      <td>$107,000</td>\n",
       "    </tr>\n",
       "    <tr>\n",
       "      <th>0</th>\n",
       "      <td>$1,462,000</td>\n",
       "      <td>$1,507,000</td>\n",
       "      <td>$717,000</td>\n",
       "      <td>$3,686,000</td>\n",
       "    </tr>\n",
       "  </tbody>\n",
       "</table>\n",
       "</div>"
      ],
      "text/plain": [
       "           Jan         Feb       Mar       total\n",
       "AR    $150,000    $120,000   $35,000    $305,000\n",
       "CA    $162,000    $120,000   $35,000    $317,000\n",
       "DE    $150,000    $120,000   $70,000    $340,000\n",
       "IA    $253,000    $240,000   $70,000    $563,000\n",
       "ID     $70,000    $120,000   $35,000    $225,000\n",
       "ME     $45,000    $120,000   $10,000    $175,000\n",
       "MS     $62,000    $120,000   $70,000    $252,000\n",
       "NC     $95,000     $45,000   $35,000    $175,000\n",
       "ND    $150,000     $10,000  $162,000    $322,000\n",
       "PA     $70,000     $95,000   $35,000    $200,000\n",
       "RI    $200,000    $215,000   $70,000    $485,000\n",
       "TN     $45,000    $120,000   $55,000    $220,000\n",
       "TX     $10,000     $62,000   $35,000    $107,000\n",
       "0   $1,462,000  $1,507,000  $717,000  $3,686,000"
      ]
     },
     "execution_count": 120,
     "metadata": {},
     "output_type": "execute_result"
    }
   ],
   "source": [
    "final_table = formatted_df.append(df_sub_sum)\n",
    "final_table"
   ]
  },
  {
   "cell_type": "markdown",
   "metadata": {},
   "source": [
    "You’ll notice that the index is ‘0’ for the total line. We want to change that using `rename` ."
   ]
  },
  {
   "cell_type": "code",
   "execution_count": 121,
   "metadata": {
    "ExecuteTime": {
     "end_time": "2019-03-25T00:25:02.095662Z",
     "start_time": "2019-03-25T00:25:01.996099Z"
    },
    "scrolled": true
   },
   "outputs": [
    {
     "data": {
      "text/html": [
       "<div>\n",
       "<style scoped>\n",
       "    .dataframe tbody tr th:only-of-type {\n",
       "        vertical-align: middle;\n",
       "    }\n",
       "\n",
       "    .dataframe tbody tr th {\n",
       "        vertical-align: top;\n",
       "    }\n",
       "\n",
       "    .dataframe thead th {\n",
       "        text-align: right;\n",
       "    }\n",
       "</style>\n",
       "<table border=\"1\" class=\"dataframe\">\n",
       "  <thead>\n",
       "    <tr style=\"text-align: right;\">\n",
       "      <th></th>\n",
       "      <th>Jan</th>\n",
       "      <th>Feb</th>\n",
       "      <th>Mar</th>\n",
       "      <th>total</th>\n",
       "    </tr>\n",
       "  </thead>\n",
       "  <tbody>\n",
       "    <tr>\n",
       "      <th>AR</th>\n",
       "      <td>$150,000</td>\n",
       "      <td>$120,000</td>\n",
       "      <td>$35,000</td>\n",
       "      <td>$305,000</td>\n",
       "    </tr>\n",
       "    <tr>\n",
       "      <th>CA</th>\n",
       "      <td>$162,000</td>\n",
       "      <td>$120,000</td>\n",
       "      <td>$35,000</td>\n",
       "      <td>$317,000</td>\n",
       "    </tr>\n",
       "    <tr>\n",
       "      <th>DE</th>\n",
       "      <td>$150,000</td>\n",
       "      <td>$120,000</td>\n",
       "      <td>$70,000</td>\n",
       "      <td>$340,000</td>\n",
       "    </tr>\n",
       "    <tr>\n",
       "      <th>IA</th>\n",
       "      <td>$253,000</td>\n",
       "      <td>$240,000</td>\n",
       "      <td>$70,000</td>\n",
       "      <td>$563,000</td>\n",
       "    </tr>\n",
       "    <tr>\n",
       "      <th>ID</th>\n",
       "      <td>$70,000</td>\n",
       "      <td>$120,000</td>\n",
       "      <td>$35,000</td>\n",
       "      <td>$225,000</td>\n",
       "    </tr>\n",
       "    <tr>\n",
       "      <th>ME</th>\n",
       "      <td>$45,000</td>\n",
       "      <td>$120,000</td>\n",
       "      <td>$10,000</td>\n",
       "      <td>$175,000</td>\n",
       "    </tr>\n",
       "    <tr>\n",
       "      <th>MS</th>\n",
       "      <td>$62,000</td>\n",
       "      <td>$120,000</td>\n",
       "      <td>$70,000</td>\n",
       "      <td>$252,000</td>\n",
       "    </tr>\n",
       "    <tr>\n",
       "      <th>NC</th>\n",
       "      <td>$95,000</td>\n",
       "      <td>$45,000</td>\n",
       "      <td>$35,000</td>\n",
       "      <td>$175,000</td>\n",
       "    </tr>\n",
       "    <tr>\n",
       "      <th>ND</th>\n",
       "      <td>$150,000</td>\n",
       "      <td>$10,000</td>\n",
       "      <td>$162,000</td>\n",
       "      <td>$322,000</td>\n",
       "    </tr>\n",
       "    <tr>\n",
       "      <th>PA</th>\n",
       "      <td>$70,000</td>\n",
       "      <td>$95,000</td>\n",
       "      <td>$35,000</td>\n",
       "      <td>$200,000</td>\n",
       "    </tr>\n",
       "    <tr>\n",
       "      <th>RI</th>\n",
       "      <td>$200,000</td>\n",
       "      <td>$215,000</td>\n",
       "      <td>$70,000</td>\n",
       "      <td>$485,000</td>\n",
       "    </tr>\n",
       "    <tr>\n",
       "      <th>TN</th>\n",
       "      <td>$45,000</td>\n",
       "      <td>$120,000</td>\n",
       "      <td>$55,000</td>\n",
       "      <td>$220,000</td>\n",
       "    </tr>\n",
       "    <tr>\n",
       "      <th>TX</th>\n",
       "      <td>$10,000</td>\n",
       "      <td>$62,000</td>\n",
       "      <td>$35,000</td>\n",
       "      <td>$107,000</td>\n",
       "    </tr>\n",
       "    <tr>\n",
       "      <th>Total</th>\n",
       "      <td>$1,462,000</td>\n",
       "      <td>$1,507,000</td>\n",
       "      <td>$717,000</td>\n",
       "      <td>$3,686,000</td>\n",
       "    </tr>\n",
       "  </tbody>\n",
       "</table>\n",
       "</div>"
      ],
      "text/plain": [
       "              Jan         Feb       Mar       total\n",
       "AR       $150,000    $120,000   $35,000    $305,000\n",
       "CA       $162,000    $120,000   $35,000    $317,000\n",
       "DE       $150,000    $120,000   $70,000    $340,000\n",
       "IA       $253,000    $240,000   $70,000    $563,000\n",
       "ID        $70,000    $120,000   $35,000    $225,000\n",
       "ME        $45,000    $120,000   $10,000    $175,000\n",
       "MS        $62,000    $120,000   $70,000    $252,000\n",
       "NC        $95,000     $45,000   $35,000    $175,000\n",
       "ND       $150,000     $10,000  $162,000    $322,000\n",
       "PA        $70,000     $95,000   $35,000    $200,000\n",
       "RI       $200,000    $215,000   $70,000    $485,000\n",
       "TN        $45,000    $120,000   $55,000    $220,000\n",
       "TX        $10,000     $62,000   $35,000    $107,000\n",
       "Total  $1,462,000  $1,507,000  $717,000  $3,686,000"
      ]
     },
     "execution_count": 121,
     "metadata": {},
     "output_type": "execute_result"
    }
   ],
   "source": [
    "final_table = final_table.rename(index={0:\"Total\"})\n",
    "final_table"
   ]
  },
  {
   "cell_type": "markdown",
   "metadata": {},
   "source": [
    "## Filtering the data"
   ]
  },
  {
   "cell_type": "markdown",
   "metadata": {},
   "source": [
    "Import the pandas and numpy modules."
   ]
  },
  {
   "cell_type": "code",
   "execution_count": 161,
   "metadata": {
    "ExecuteTime": {
     "end_time": "2019-03-25T01:36:28.431097Z",
     "start_time": "2019-03-25T01:36:28.408942Z"
    }
   },
   "outputs": [],
   "source": [
    "import pandas as pd\n",
    "import numpy as np"
   ]
  },
  {
   "cell_type": "markdown",
   "metadata": {},
   "source": [
    "Load in the Excel data that represents a year's worth of sales."
   ]
  },
  {
   "cell_type": "code",
   "execution_count": 162,
   "metadata": {
    "ExecuteTime": {
     "end_time": "2019-03-25T01:36:39.488008Z",
     "start_time": "2019-03-25T01:36:35.149623Z"
    }
   },
   "outputs": [],
   "source": [
    "df = pd.read_excel(\"https://github.com/fjvarasc/DSPXI/blob/master/data/sample-salesv3.xlsx?raw=true\")"
   ]
  },
  {
   "cell_type": "markdown",
   "metadata": {},
   "source": [
    "Take a quick look at the data types to make sure everything came through as expected."
   ]
  },
  {
   "cell_type": "code",
   "execution_count": 163,
   "metadata": {
    "ExecuteTime": {
     "end_time": "2019-03-25T01:36:43.920912Z",
     "start_time": "2019-03-25T01:36:43.893302Z"
    }
   },
   "outputs": [
    {
     "data": {
      "text/plain": [
       "account number      int64\n",
       "name               object\n",
       "sku                object\n",
       "quantity            int64\n",
       "unit price        float64\n",
       "ext price         float64\n",
       "date               object\n",
       "dtype: object"
      ]
     },
     "execution_count": 163,
     "metadata": {},
     "output_type": "execute_result"
    }
   ],
   "source": [
    "df.dtypes"
   ]
  },
  {
   "cell_type": "markdown",
   "metadata": {},
   "source": [
    "You'll notice that our date column is showing up as a generic `object`. We are going to convert it to datetime object to make some selections a little easier."
   ]
  },
  {
   "cell_type": "code",
   "execution_count": 164,
   "metadata": {
    "ExecuteTime": {
     "end_time": "2019-03-25T01:36:48.556210Z",
     "start_time": "2019-03-25T01:36:48.531014Z"
    }
   },
   "outputs": [],
   "source": [
    "df['date'] = pd.to_datetime(df['date'])"
   ]
  },
  {
   "cell_type": "code",
   "execution_count": 165,
   "metadata": {
    "ExecuteTime": {
     "end_time": "2019-03-25T01:36:53.220144Z",
     "start_time": "2019-03-25T01:36:53.143229Z"
    }
   },
   "outputs": [
    {
     "data": {
      "text/html": [
       "<div>\n",
       "<style scoped>\n",
       "    .dataframe tbody tr th:only-of-type {\n",
       "        vertical-align: middle;\n",
       "    }\n",
       "\n",
       "    .dataframe tbody tr th {\n",
       "        vertical-align: top;\n",
       "    }\n",
       "\n",
       "    .dataframe thead th {\n",
       "        text-align: right;\n",
       "    }\n",
       "</style>\n",
       "<table border=\"1\" class=\"dataframe\">\n",
       "  <thead>\n",
       "    <tr style=\"text-align: right;\">\n",
       "      <th></th>\n",
       "      <th>account number</th>\n",
       "      <th>name</th>\n",
       "      <th>sku</th>\n",
       "      <th>quantity</th>\n",
       "      <th>unit price</th>\n",
       "      <th>ext price</th>\n",
       "      <th>date</th>\n",
       "    </tr>\n",
       "  </thead>\n",
       "  <tbody>\n",
       "    <tr>\n",
       "      <th>0</th>\n",
       "      <td>740150</td>\n",
       "      <td>Barton LLC</td>\n",
       "      <td>B1-20000</td>\n",
       "      <td>39</td>\n",
       "      <td>86.69</td>\n",
       "      <td>3380.91</td>\n",
       "      <td>2014-01-01 07:21:51</td>\n",
       "    </tr>\n",
       "    <tr>\n",
       "      <th>1</th>\n",
       "      <td>714466</td>\n",
       "      <td>Trantow-Barrows</td>\n",
       "      <td>S2-77896</td>\n",
       "      <td>-1</td>\n",
       "      <td>63.16</td>\n",
       "      <td>-63.16</td>\n",
       "      <td>2014-01-01 10:00:47</td>\n",
       "    </tr>\n",
       "    <tr>\n",
       "      <th>2</th>\n",
       "      <td>218895</td>\n",
       "      <td>Kulas Inc</td>\n",
       "      <td>B1-69924</td>\n",
       "      <td>23</td>\n",
       "      <td>90.70</td>\n",
       "      <td>2086.10</td>\n",
       "      <td>2014-01-01 13:24:58</td>\n",
       "    </tr>\n",
       "    <tr>\n",
       "      <th>3</th>\n",
       "      <td>307599</td>\n",
       "      <td>Kassulke, Ondricka and Metz</td>\n",
       "      <td>S1-65481</td>\n",
       "      <td>41</td>\n",
       "      <td>21.05</td>\n",
       "      <td>863.05</td>\n",
       "      <td>2014-01-01 15:05:22</td>\n",
       "    </tr>\n",
       "    <tr>\n",
       "      <th>4</th>\n",
       "      <td>412290</td>\n",
       "      <td>Jerde-Hilpert</td>\n",
       "      <td>S2-34077</td>\n",
       "      <td>6</td>\n",
       "      <td>83.21</td>\n",
       "      <td>499.26</td>\n",
       "      <td>2014-01-01 23:26:55</td>\n",
       "    </tr>\n",
       "  </tbody>\n",
       "</table>\n",
       "</div>"
      ],
      "text/plain": [
       "   account number                         name       sku  quantity  \\\n",
       "0          740150                   Barton LLC  B1-20000        39   \n",
       "1          714466              Trantow-Barrows  S2-77896        -1   \n",
       "2          218895                    Kulas Inc  B1-69924        23   \n",
       "3          307599  Kassulke, Ondricka and Metz  S1-65481        41   \n",
       "4          412290                Jerde-Hilpert  S2-34077         6   \n",
       "\n",
       "   unit price  ext price                date  \n",
       "0       86.69    3380.91 2014-01-01 07:21:51  \n",
       "1       63.16     -63.16 2014-01-01 10:00:47  \n",
       "2       90.70    2086.10 2014-01-01 13:24:58  \n",
       "3       21.05     863.05 2014-01-01 15:05:22  \n",
       "4       83.21     499.26 2014-01-01 23:26:55  "
      ]
     },
     "execution_count": 165,
     "metadata": {},
     "output_type": "execute_result"
    }
   ],
   "source": [
    "df.head()"
   ]
  },
  {
   "cell_type": "code",
   "execution_count": 6,
   "metadata": {},
   "outputs": [
    {
     "data": {
      "text/plain": [
       "account number             int64\n",
       "name                      object\n",
       "sku                       object\n",
       "quantity                   int64\n",
       "unit price               float64\n",
       "ext price                float64\n",
       "date              datetime64[ns]\n",
       "dtype: object"
      ]
     },
     "execution_count": 6,
     "metadata": {},
     "output_type": "execute_result"
    }
   ],
   "source": [
    "df.dtypes"
   ]
  },
  {
   "cell_type": "markdown",
   "metadata": {},
   "source": [
    "The date is now a datetime object which will be useful in future steps."
   ]
  },
  {
   "cell_type": "markdown",
   "metadata": {},
   "source": [
    "Similar to the autofilter function in Excel, you can use pandas to filter and select certain subsets of data.\n",
    "\n",
    "For instance, if we want to just see a specific account number, we can easily do that with pandas.\n",
    "\n",
    "Note, I am going to use the `head` function to show the top results. This is purely for the purposes of keeping the article shorter."
   ]
  },
  {
   "cell_type": "code",
   "execution_count": 166,
   "metadata": {
    "ExecuteTime": {
     "end_time": "2019-03-25T01:37:44.894899Z",
     "start_time": "2019-03-25T01:37:44.775344Z"
    }
   },
   "outputs": [
    {
     "data": {
      "text/html": [
       "<div>\n",
       "<style scoped>\n",
       "    .dataframe tbody tr th:only-of-type {\n",
       "        vertical-align: middle;\n",
       "    }\n",
       "\n",
       "    .dataframe tbody tr th {\n",
       "        vertical-align: top;\n",
       "    }\n",
       "\n",
       "    .dataframe thead th {\n",
       "        text-align: right;\n",
       "    }\n",
       "</style>\n",
       "<table border=\"1\" class=\"dataframe\">\n",
       "  <thead>\n",
       "    <tr style=\"text-align: right;\">\n",
       "      <th></th>\n",
       "      <th>account number</th>\n",
       "      <th>name</th>\n",
       "      <th>sku</th>\n",
       "      <th>quantity</th>\n",
       "      <th>unit price</th>\n",
       "      <th>ext price</th>\n",
       "      <th>date</th>\n",
       "    </tr>\n",
       "  </thead>\n",
       "  <tbody>\n",
       "    <tr>\n",
       "      <th>3</th>\n",
       "      <td>307599</td>\n",
       "      <td>Kassulke, Ondricka and Metz</td>\n",
       "      <td>S1-65481</td>\n",
       "      <td>41</td>\n",
       "      <td>21.05</td>\n",
       "      <td>863.05</td>\n",
       "      <td>2014-01-01 15:05:22</td>\n",
       "    </tr>\n",
       "    <tr>\n",
       "      <th>13</th>\n",
       "      <td>307599</td>\n",
       "      <td>Kassulke, Ondricka and Metz</td>\n",
       "      <td>S2-10342</td>\n",
       "      <td>17</td>\n",
       "      <td>12.44</td>\n",
       "      <td>211.48</td>\n",
       "      <td>2014-01-04 07:53:01</td>\n",
       "    </tr>\n",
       "    <tr>\n",
       "      <th>34</th>\n",
       "      <td>307599</td>\n",
       "      <td>Kassulke, Ondricka and Metz</td>\n",
       "      <td>S2-78676</td>\n",
       "      <td>35</td>\n",
       "      <td>33.04</td>\n",
       "      <td>1156.40</td>\n",
       "      <td>2014-01-10 05:26:31</td>\n",
       "    </tr>\n",
       "    <tr>\n",
       "      <th>58</th>\n",
       "      <td>307599</td>\n",
       "      <td>Kassulke, Ondricka and Metz</td>\n",
       "      <td>B1-20000</td>\n",
       "      <td>22</td>\n",
       "      <td>37.87</td>\n",
       "      <td>833.14</td>\n",
       "      <td>2014-01-15 16:22:22</td>\n",
       "    </tr>\n",
       "    <tr>\n",
       "      <th>70</th>\n",
       "      <td>307599</td>\n",
       "      <td>Kassulke, Ondricka and Metz</td>\n",
       "      <td>S2-10342</td>\n",
       "      <td>44</td>\n",
       "      <td>96.79</td>\n",
       "      <td>4258.76</td>\n",
       "      <td>2014-01-18 06:32:31</td>\n",
       "    </tr>\n",
       "  </tbody>\n",
       "</table>\n",
       "</div>"
      ],
      "text/plain": [
       "    account number                         name       sku  quantity  \\\n",
       "3           307599  Kassulke, Ondricka and Metz  S1-65481        41   \n",
       "13          307599  Kassulke, Ondricka and Metz  S2-10342        17   \n",
       "34          307599  Kassulke, Ondricka and Metz  S2-78676        35   \n",
       "58          307599  Kassulke, Ondricka and Metz  B1-20000        22   \n",
       "70          307599  Kassulke, Ondricka and Metz  S2-10342        44   \n",
       "\n",
       "    unit price  ext price                date  \n",
       "3        21.05     863.05 2014-01-01 15:05:22  \n",
       "13       12.44     211.48 2014-01-04 07:53:01  \n",
       "34       33.04    1156.40 2014-01-10 05:26:31  \n",
       "58       37.87     833.14 2014-01-15 16:22:22  \n",
       "70       96.79    4258.76 2014-01-18 06:32:31  "
      ]
     },
     "execution_count": 166,
     "metadata": {},
     "output_type": "execute_result"
    }
   ],
   "source": [
    "df[df[\"account number\"]==307599].head()"
   ]
  },
  {
   "cell_type": "markdown",
   "metadata": {},
   "source": [
    "You could also do the filtering based on numeric values."
   ]
  },
  {
   "cell_type": "code",
   "execution_count": 167,
   "metadata": {
    "ExecuteTime": {
     "end_time": "2019-03-25T01:37:54.775255Z",
     "start_time": "2019-03-25T01:37:54.656075Z"
    }
   },
   "outputs": [
    {
     "data": {
      "text/html": [
       "<div>\n",
       "<style scoped>\n",
       "    .dataframe tbody tr th:only-of-type {\n",
       "        vertical-align: middle;\n",
       "    }\n",
       "\n",
       "    .dataframe tbody tr th {\n",
       "        vertical-align: top;\n",
       "    }\n",
       "\n",
       "    .dataframe thead th {\n",
       "        text-align: right;\n",
       "    }\n",
       "</style>\n",
       "<table border=\"1\" class=\"dataframe\">\n",
       "  <thead>\n",
       "    <tr style=\"text-align: right;\">\n",
       "      <th></th>\n",
       "      <th>account number</th>\n",
       "      <th>name</th>\n",
       "      <th>sku</th>\n",
       "      <th>quantity</th>\n",
       "      <th>unit price</th>\n",
       "      <th>ext price</th>\n",
       "      <th>date</th>\n",
       "    </tr>\n",
       "  </thead>\n",
       "  <tbody>\n",
       "    <tr>\n",
       "      <th>0</th>\n",
       "      <td>740150</td>\n",
       "      <td>Barton LLC</td>\n",
       "      <td>B1-20000</td>\n",
       "      <td>39</td>\n",
       "      <td>86.69</td>\n",
       "      <td>3380.91</td>\n",
       "      <td>2014-01-01 07:21:51</td>\n",
       "    </tr>\n",
       "    <tr>\n",
       "      <th>2</th>\n",
       "      <td>218895</td>\n",
       "      <td>Kulas Inc</td>\n",
       "      <td>B1-69924</td>\n",
       "      <td>23</td>\n",
       "      <td>90.70</td>\n",
       "      <td>2086.10</td>\n",
       "      <td>2014-01-01 13:24:58</td>\n",
       "    </tr>\n",
       "    <tr>\n",
       "      <th>3</th>\n",
       "      <td>307599</td>\n",
       "      <td>Kassulke, Ondricka and Metz</td>\n",
       "      <td>S1-65481</td>\n",
       "      <td>41</td>\n",
       "      <td>21.05</td>\n",
       "      <td>863.05</td>\n",
       "      <td>2014-01-01 15:05:22</td>\n",
       "    </tr>\n",
       "    <tr>\n",
       "      <th>14</th>\n",
       "      <td>737550</td>\n",
       "      <td>Fritsch, Russel and Anderson</td>\n",
       "      <td>B1-53102</td>\n",
       "      <td>23</td>\n",
       "      <td>71.56</td>\n",
       "      <td>1645.88</td>\n",
       "      <td>2014-01-04 08:57:48</td>\n",
       "    </tr>\n",
       "    <tr>\n",
       "      <th>15</th>\n",
       "      <td>239344</td>\n",
       "      <td>Stokes LLC</td>\n",
       "      <td>S1-06532</td>\n",
       "      <td>34</td>\n",
       "      <td>71.51</td>\n",
       "      <td>2431.34</td>\n",
       "      <td>2014-01-04 11:34:58</td>\n",
       "    </tr>\n",
       "  </tbody>\n",
       "</table>\n",
       "</div>"
      ],
      "text/plain": [
       "    account number                          name       sku  quantity  \\\n",
       "0           740150                    Barton LLC  B1-20000        39   \n",
       "2           218895                     Kulas Inc  B1-69924        23   \n",
       "3           307599   Kassulke, Ondricka and Metz  S1-65481        41   \n",
       "14          737550  Fritsch, Russel and Anderson  B1-53102        23   \n",
       "15          239344                    Stokes LLC  S1-06532        34   \n",
       "\n",
       "    unit price  ext price                date  \n",
       "0        86.69    3380.91 2014-01-01 07:21:51  \n",
       "2        90.70    2086.10 2014-01-01 13:24:58  \n",
       "3        21.05     863.05 2014-01-01 15:05:22  \n",
       "14       71.56    1645.88 2014-01-04 08:57:48  \n",
       "15       71.51    2431.34 2014-01-04 11:34:58  "
      ]
     },
     "execution_count": 167,
     "metadata": {},
     "output_type": "execute_result"
    }
   ],
   "source": [
    "df[df[\"quantity\"] > 22].head()"
   ]
  },
  {
   "cell_type": "markdown",
   "metadata": {},
   "source": [
    "If we want to do more complex filtering, we can use `map` to filter. In this example, let's look for items with sku's that start with B1."
   ]
  },
  {
   "cell_type": "code",
   "execution_count": 168,
   "metadata": {
    "ExecuteTime": {
     "end_time": "2019-03-25T01:38:00.218789Z",
     "start_time": "2019-03-25T01:38:00.080213Z"
    }
   },
   "outputs": [
    {
     "data": {
      "text/html": [
       "<div>\n",
       "<style scoped>\n",
       "    .dataframe tbody tr th:only-of-type {\n",
       "        vertical-align: middle;\n",
       "    }\n",
       "\n",
       "    .dataframe tbody tr th {\n",
       "        vertical-align: top;\n",
       "    }\n",
       "\n",
       "    .dataframe thead th {\n",
       "        text-align: right;\n",
       "    }\n",
       "</style>\n",
       "<table border=\"1\" class=\"dataframe\">\n",
       "  <thead>\n",
       "    <tr style=\"text-align: right;\">\n",
       "      <th></th>\n",
       "      <th>account number</th>\n",
       "      <th>name</th>\n",
       "      <th>sku</th>\n",
       "      <th>quantity</th>\n",
       "      <th>unit price</th>\n",
       "      <th>ext price</th>\n",
       "      <th>date</th>\n",
       "    </tr>\n",
       "  </thead>\n",
       "  <tbody>\n",
       "    <tr>\n",
       "      <th>0</th>\n",
       "      <td>740150</td>\n",
       "      <td>Barton LLC</td>\n",
       "      <td>B1-20000</td>\n",
       "      <td>39</td>\n",
       "      <td>86.69</td>\n",
       "      <td>3380.91</td>\n",
       "      <td>2014-01-01 07:21:51</td>\n",
       "    </tr>\n",
       "    <tr>\n",
       "      <th>2</th>\n",
       "      <td>218895</td>\n",
       "      <td>Kulas Inc</td>\n",
       "      <td>B1-69924</td>\n",
       "      <td>23</td>\n",
       "      <td>90.70</td>\n",
       "      <td>2086.10</td>\n",
       "      <td>2014-01-01 13:24:58</td>\n",
       "    </tr>\n",
       "    <tr>\n",
       "      <th>6</th>\n",
       "      <td>218895</td>\n",
       "      <td>Kulas Inc</td>\n",
       "      <td>B1-65551</td>\n",
       "      <td>2</td>\n",
       "      <td>31.10</td>\n",
       "      <td>62.20</td>\n",
       "      <td>2014-01-02 10:57:23</td>\n",
       "    </tr>\n",
       "    <tr>\n",
       "      <th>14</th>\n",
       "      <td>737550</td>\n",
       "      <td>Fritsch, Russel and Anderson</td>\n",
       "      <td>B1-53102</td>\n",
       "      <td>23</td>\n",
       "      <td>71.56</td>\n",
       "      <td>1645.88</td>\n",
       "      <td>2014-01-04 08:57:48</td>\n",
       "    </tr>\n",
       "    <tr>\n",
       "      <th>17</th>\n",
       "      <td>239344</td>\n",
       "      <td>Stokes LLC</td>\n",
       "      <td>B1-50809</td>\n",
       "      <td>14</td>\n",
       "      <td>16.23</td>\n",
       "      <td>227.22</td>\n",
       "      <td>2014-01-04 22:14:32</td>\n",
       "    </tr>\n",
       "  </tbody>\n",
       "</table>\n",
       "</div>"
      ],
      "text/plain": [
       "    account number                          name       sku  quantity  \\\n",
       "0           740150                    Barton LLC  B1-20000        39   \n",
       "2           218895                     Kulas Inc  B1-69924        23   \n",
       "6           218895                     Kulas Inc  B1-65551         2   \n",
       "14          737550  Fritsch, Russel and Anderson  B1-53102        23   \n",
       "17          239344                    Stokes LLC  B1-50809        14   \n",
       "\n",
       "    unit price  ext price                date  \n",
       "0        86.69    3380.91 2014-01-01 07:21:51  \n",
       "2        90.70    2086.10 2014-01-01 13:24:58  \n",
       "6        31.10      62.20 2014-01-02 10:57:23  \n",
       "14       71.56    1645.88 2014-01-04 08:57:48  \n",
       "17       16.23     227.22 2014-01-04 22:14:32  "
      ]
     },
     "execution_count": 168,
     "metadata": {},
     "output_type": "execute_result"
    }
   ],
   "source": [
    "df[df[\"sku\"].map(lambda x: x.startswith('B1'))].head()"
   ]
  },
  {
   "cell_type": "markdown",
   "metadata": {},
   "source": [
    "It's easy to chain two statements together using the &."
   ]
  },
  {
   "cell_type": "code",
   "execution_count": 169,
   "metadata": {
    "ExecuteTime": {
     "end_time": "2019-03-25T01:38:04.910846Z",
     "start_time": "2019-03-25T01:38:04.814183Z"
    }
   },
   "outputs": [
    {
     "data": {
      "text/html": [
       "<div>\n",
       "<style scoped>\n",
       "    .dataframe tbody tr th:only-of-type {\n",
       "        vertical-align: middle;\n",
       "    }\n",
       "\n",
       "    .dataframe tbody tr th {\n",
       "        vertical-align: top;\n",
       "    }\n",
       "\n",
       "    .dataframe thead th {\n",
       "        text-align: right;\n",
       "    }\n",
       "</style>\n",
       "<table border=\"1\" class=\"dataframe\">\n",
       "  <thead>\n",
       "    <tr style=\"text-align: right;\">\n",
       "      <th></th>\n",
       "      <th>account number</th>\n",
       "      <th>name</th>\n",
       "      <th>sku</th>\n",
       "      <th>quantity</th>\n",
       "      <th>unit price</th>\n",
       "      <th>ext price</th>\n",
       "      <th>date</th>\n",
       "    </tr>\n",
       "  </thead>\n",
       "  <tbody>\n",
       "    <tr>\n",
       "      <th>0</th>\n",
       "      <td>740150</td>\n",
       "      <td>Barton LLC</td>\n",
       "      <td>B1-20000</td>\n",
       "      <td>39</td>\n",
       "      <td>86.69</td>\n",
       "      <td>3380.91</td>\n",
       "      <td>2014-01-01 07:21:51</td>\n",
       "    </tr>\n",
       "    <tr>\n",
       "      <th>2</th>\n",
       "      <td>218895</td>\n",
       "      <td>Kulas Inc</td>\n",
       "      <td>B1-69924</td>\n",
       "      <td>23</td>\n",
       "      <td>90.70</td>\n",
       "      <td>2086.10</td>\n",
       "      <td>2014-01-01 13:24:58</td>\n",
       "    </tr>\n",
       "    <tr>\n",
       "      <th>14</th>\n",
       "      <td>737550</td>\n",
       "      <td>Fritsch, Russel and Anderson</td>\n",
       "      <td>B1-53102</td>\n",
       "      <td>23</td>\n",
       "      <td>71.56</td>\n",
       "      <td>1645.88</td>\n",
       "      <td>2014-01-04 08:57:48</td>\n",
       "    </tr>\n",
       "    <tr>\n",
       "      <th>26</th>\n",
       "      <td>737550</td>\n",
       "      <td>Fritsch, Russel and Anderson</td>\n",
       "      <td>B1-53636</td>\n",
       "      <td>42</td>\n",
       "      <td>42.06</td>\n",
       "      <td>1766.52</td>\n",
       "      <td>2014-01-08 00:02:11</td>\n",
       "    </tr>\n",
       "    <tr>\n",
       "      <th>31</th>\n",
       "      <td>714466</td>\n",
       "      <td>Trantow-Barrows</td>\n",
       "      <td>B1-33087</td>\n",
       "      <td>32</td>\n",
       "      <td>19.56</td>\n",
       "      <td>625.92</td>\n",
       "      <td>2014-01-09 10:16:32</td>\n",
       "    </tr>\n",
       "  </tbody>\n",
       "</table>\n",
       "</div>"
      ],
      "text/plain": [
       "    account number                          name       sku  quantity  \\\n",
       "0           740150                    Barton LLC  B1-20000        39   \n",
       "2           218895                     Kulas Inc  B1-69924        23   \n",
       "14          737550  Fritsch, Russel and Anderson  B1-53102        23   \n",
       "26          737550  Fritsch, Russel and Anderson  B1-53636        42   \n",
       "31          714466               Trantow-Barrows  B1-33087        32   \n",
       "\n",
       "    unit price  ext price                date  \n",
       "0        86.69    3380.91 2014-01-01 07:21:51  \n",
       "2        90.70    2086.10 2014-01-01 13:24:58  \n",
       "14       71.56    1645.88 2014-01-04 08:57:48  \n",
       "26       42.06    1766.52 2014-01-08 00:02:11  \n",
       "31       19.56     625.92 2014-01-09 10:16:32  "
      ]
     },
     "execution_count": 169,
     "metadata": {},
     "output_type": "execute_result"
    }
   ],
   "source": [
    "df[df[\"sku\"].map(lambda x: x.startswith('B1')) & (df[\"quantity\"] > 22)].head()"
   ]
  },
  {
   "cell_type": "markdown",
   "metadata": {},
   "source": [
    "Another useful function that pandas supports is called `isin`. It allows us to define a list of values we want to look for.\n",
    "\n",
    "In this case, we look for all records that include two specific account numbers."
   ]
  },
  {
   "cell_type": "code",
   "execution_count": 170,
   "metadata": {
    "ExecuteTime": {
     "end_time": "2019-03-25T01:38:09.572051Z",
     "start_time": "2019-03-25T01:38:09.482909Z"
    }
   },
   "outputs": [
    {
     "data": {
      "text/html": [
       "<div>\n",
       "<style scoped>\n",
       "    .dataframe tbody tr th:only-of-type {\n",
       "        vertical-align: middle;\n",
       "    }\n",
       "\n",
       "    .dataframe tbody tr th {\n",
       "        vertical-align: top;\n",
       "    }\n",
       "\n",
       "    .dataframe thead th {\n",
       "        text-align: right;\n",
       "    }\n",
       "</style>\n",
       "<table border=\"1\" class=\"dataframe\">\n",
       "  <thead>\n",
       "    <tr style=\"text-align: right;\">\n",
       "      <th></th>\n",
       "      <th>account number</th>\n",
       "      <th>name</th>\n",
       "      <th>sku</th>\n",
       "      <th>quantity</th>\n",
       "      <th>unit price</th>\n",
       "      <th>ext price</th>\n",
       "      <th>date</th>\n",
       "    </tr>\n",
       "  </thead>\n",
       "  <tbody>\n",
       "    <tr>\n",
       "      <th>1</th>\n",
       "      <td>714466</td>\n",
       "      <td>Trantow-Barrows</td>\n",
       "      <td>S2-77896</td>\n",
       "      <td>-1</td>\n",
       "      <td>63.16</td>\n",
       "      <td>-63.16</td>\n",
       "      <td>2014-01-01 10:00:47</td>\n",
       "    </tr>\n",
       "    <tr>\n",
       "      <th>2</th>\n",
       "      <td>218895</td>\n",
       "      <td>Kulas Inc</td>\n",
       "      <td>B1-69924</td>\n",
       "      <td>23</td>\n",
       "      <td>90.70</td>\n",
       "      <td>2086.10</td>\n",
       "      <td>2014-01-01 13:24:58</td>\n",
       "    </tr>\n",
       "    <tr>\n",
       "      <th>5</th>\n",
       "      <td>714466</td>\n",
       "      <td>Trantow-Barrows</td>\n",
       "      <td>S2-77896</td>\n",
       "      <td>17</td>\n",
       "      <td>87.63</td>\n",
       "      <td>1489.71</td>\n",
       "      <td>2014-01-02 10:07:15</td>\n",
       "    </tr>\n",
       "    <tr>\n",
       "      <th>6</th>\n",
       "      <td>218895</td>\n",
       "      <td>Kulas Inc</td>\n",
       "      <td>B1-65551</td>\n",
       "      <td>2</td>\n",
       "      <td>31.10</td>\n",
       "      <td>62.20</td>\n",
       "      <td>2014-01-02 10:57:23</td>\n",
       "    </tr>\n",
       "    <tr>\n",
       "      <th>8</th>\n",
       "      <td>714466</td>\n",
       "      <td>Trantow-Barrows</td>\n",
       "      <td>S1-50961</td>\n",
       "      <td>22</td>\n",
       "      <td>84.09</td>\n",
       "      <td>1849.98</td>\n",
       "      <td>2014-01-03 11:29:02</td>\n",
       "    </tr>\n",
       "  </tbody>\n",
       "</table>\n",
       "</div>"
      ],
      "text/plain": [
       "   account number             name       sku  quantity  unit price  ext price  \\\n",
       "1          714466  Trantow-Barrows  S2-77896        -1       63.16     -63.16   \n",
       "2          218895        Kulas Inc  B1-69924        23       90.70    2086.10   \n",
       "5          714466  Trantow-Barrows  S2-77896        17       87.63    1489.71   \n",
       "6          218895        Kulas Inc  B1-65551         2       31.10      62.20   \n",
       "8          714466  Trantow-Barrows  S1-50961        22       84.09    1849.98   \n",
       "\n",
       "                 date  \n",
       "1 2014-01-01 10:00:47  \n",
       "2 2014-01-01 13:24:58  \n",
       "5 2014-01-02 10:07:15  \n",
       "6 2014-01-02 10:57:23  \n",
       "8 2014-01-03 11:29:02  "
      ]
     },
     "execution_count": 170,
     "metadata": {},
     "output_type": "execute_result"
    }
   ],
   "source": [
    "df[df[\"account number\"].isin([714466,218895])].head()"
   ]
  },
  {
   "cell_type": "markdown",
   "metadata": {},
   "source": [
    "Pandas supports another function called `query` which allows you to efficiently select subsets of data. It does require the installation of [numexpr](https://github.com/pydata/numexpr) so make sure you have it installed before trying this step.\n",
    "\n",
    "If you would like to get a list of customers by name, you can do that with a query, similar to the python syntax shown above."
   ]
  },
  {
   "cell_type": "code",
   "execution_count": 171,
   "metadata": {
    "ExecuteTime": {
     "end_time": "2019-03-25T01:38:14.569333Z",
     "start_time": "2019-03-25T01:38:14.146935Z"
    }
   },
   "outputs": [
    {
     "data": {
      "text/html": [
       "<div>\n",
       "<style scoped>\n",
       "    .dataframe tbody tr th:only-of-type {\n",
       "        vertical-align: middle;\n",
       "    }\n",
       "\n",
       "    .dataframe tbody tr th {\n",
       "        vertical-align: top;\n",
       "    }\n",
       "\n",
       "    .dataframe thead th {\n",
       "        text-align: right;\n",
       "    }\n",
       "</style>\n",
       "<table border=\"1\" class=\"dataframe\">\n",
       "  <thead>\n",
       "    <tr style=\"text-align: right;\">\n",
       "      <th></th>\n",
       "      <th>account number</th>\n",
       "      <th>name</th>\n",
       "      <th>sku</th>\n",
       "      <th>quantity</th>\n",
       "      <th>unit price</th>\n",
       "      <th>ext price</th>\n",
       "      <th>date</th>\n",
       "    </tr>\n",
       "  </thead>\n",
       "  <tbody>\n",
       "    <tr>\n",
       "      <th>0</th>\n",
       "      <td>740150</td>\n",
       "      <td>Barton LLC</td>\n",
       "      <td>B1-20000</td>\n",
       "      <td>39</td>\n",
       "      <td>86.69</td>\n",
       "      <td>3380.91</td>\n",
       "      <td>2014-01-01 07:21:51</td>\n",
       "    </tr>\n",
       "    <tr>\n",
       "      <th>2</th>\n",
       "      <td>218895</td>\n",
       "      <td>Kulas Inc</td>\n",
       "      <td>B1-69924</td>\n",
       "      <td>23</td>\n",
       "      <td>90.70</td>\n",
       "      <td>2086.10</td>\n",
       "      <td>2014-01-01 13:24:58</td>\n",
       "    </tr>\n",
       "    <tr>\n",
       "      <th>6</th>\n",
       "      <td>218895</td>\n",
       "      <td>Kulas Inc</td>\n",
       "      <td>B1-65551</td>\n",
       "      <td>2</td>\n",
       "      <td>31.10</td>\n",
       "      <td>62.20</td>\n",
       "      <td>2014-01-02 10:57:23</td>\n",
       "    </tr>\n",
       "    <tr>\n",
       "      <th>33</th>\n",
       "      <td>218895</td>\n",
       "      <td>Kulas Inc</td>\n",
       "      <td>S1-06532</td>\n",
       "      <td>3</td>\n",
       "      <td>22.36</td>\n",
       "      <td>67.08</td>\n",
       "      <td>2014-01-09 23:58:27</td>\n",
       "    </tr>\n",
       "    <tr>\n",
       "      <th>36</th>\n",
       "      <td>218895</td>\n",
       "      <td>Kulas Inc</td>\n",
       "      <td>S2-34077</td>\n",
       "      <td>16</td>\n",
       "      <td>73.04</td>\n",
       "      <td>1168.64</td>\n",
       "      <td>2014-01-10 12:07:30</td>\n",
       "    </tr>\n",
       "  </tbody>\n",
       "</table>\n",
       "</div>"
      ],
      "text/plain": [
       "    account number        name       sku  quantity  unit price  ext price  \\\n",
       "0           740150  Barton LLC  B1-20000        39       86.69    3380.91   \n",
       "2           218895   Kulas Inc  B1-69924        23       90.70    2086.10   \n",
       "6           218895   Kulas Inc  B1-65551         2       31.10      62.20   \n",
       "33          218895   Kulas Inc  S1-06532         3       22.36      67.08   \n",
       "36          218895   Kulas Inc  S2-34077        16       73.04    1168.64   \n",
       "\n",
       "                  date  \n",
       "0  2014-01-01 07:21:51  \n",
       "2  2014-01-01 13:24:58  \n",
       "6  2014-01-02 10:57:23  \n",
       "33 2014-01-09 23:58:27  \n",
       "36 2014-01-10 12:07:30  "
      ]
     },
     "execution_count": 171,
     "metadata": {},
     "output_type": "execute_result"
    }
   ],
   "source": [
    "df.query('name == [\"Kulas Inc\",\"Barton LLC\"]').head()"
   ]
  },
  {
   "cell_type": "markdown",
   "metadata": {},
   "source": [
    "The query function allows you do more than just this simple example but for the purposes of this discussion, I'm showing it so you are aware that it is out there for you."
   ]
  },
  {
   "cell_type": "markdown",
   "metadata": {},
   "source": [
    "## Working with Dates"
   ]
  },
  {
   "cell_type": "code",
   "execution_count": null,
   "metadata": {
    "ExecuteTime": {
     "end_time": "2019-03-26T12:36:33.697062Z",
     "start_time": "2019-03-26T12:36:32.310661Z"
    }
   },
   "outputs": [],
   "source": [
    "import pandas as pd\n",
    "import numpy as np"
   ]
  },
  {
   "cell_type": "markdown",
   "metadata": {},
   "source": [
    "Load in the Excel data that represents a year's worth of sales."
   ]
  },
  {
   "cell_type": "code",
   "execution_count": null,
   "metadata": {
    "ExecuteTime": {
     "end_time": "2019-03-26T12:52:04.579010Z",
     "start_time": "2019-03-26T12:52:01.545824Z"
    }
   },
   "outputs": [],
   "source": [
    "df = pd.read_excel(\"https://github.com/fjvarasc/DSPXI/blob/master/data/sample-salesv3.xlsx?raw=true\")\n",
    "#Using the below code we are making sure that 'date' column from csv is a datetime field in the dataframe\n",
    "df['date'] = df['date'].astype('datetime64[ns]')"
   ]
  },
  {
   "cell_type": "markdown",
   "metadata": {},
   "source": [
    "Using pandas, you can do complex filtering on dates. Before doing anything with dates, I encourage you to sort by the date column to make sure the results return what you are expecting."
   ]
  },
  {
   "cell_type": "code",
   "execution_count": null,
   "metadata": {
    "ExecuteTime": {
     "end_time": "2019-03-26T12:42:09.042913Z",
     "start_time": "2019-03-26T12:42:08.923872Z"
    }
   },
   "outputs": [],
   "source": [
    "df = df.sort_values(by=['date'])\n",
    "df.head()\n"
   ]
  },
  {
   "cell_type": "markdown",
   "metadata": {},
   "source": [
    "The python filtering syntax shown before works with dates."
   ]
  },
  {
   "cell_type": "code",
   "execution_count": null,
   "metadata": {
    "ExecuteTime": {
     "end_time": "2019-03-26T12:50:45.639833Z",
     "start_time": "2019-03-26T12:50:45.511723Z"
    }
   },
   "outputs": [],
   "source": [
    "df[df['date'] >='2014-09-05'].head()"
   ]
  },
  {
   "cell_type": "markdown",
   "metadata": {},
   "source": [
    "One of the really nice features of pandas is that it understands dates so will allow us to do partial filtering. If we want to only look for data more recent than a specific month, we can do so."
   ]
  },
  {
   "cell_type": "code",
   "execution_count": null,
   "metadata": {
    "ExecuteTime": {
     "end_time": "2019-03-26T12:50:48.538983Z",
     "start_time": "2019-03-26T12:50:48.426109Z"
    }
   },
   "outputs": [],
   "source": [
    "df[df['date'] >='2014-03'].head()"
   ]
  },
  {
   "cell_type": "markdown",
   "metadata": {},
   "source": [
    "Of course, you can chain the criteria."
   ]
  },
  {
   "cell_type": "code",
   "execution_count": null,
   "metadata": {
    "ExecuteTime": {
     "end_time": "2019-03-26T12:52:35.255975Z",
     "start_time": "2019-03-26T12:52:35.125489Z"
    }
   },
   "outputs": [],
   "source": [
    "df[(df['date'] >='20140702') & (df['date'] <= '2014-07-15')].head()"
   ]
  },
  {
   "cell_type": "markdown",
   "metadata": {},
   "source": [
    "Because pandas understands date columns, you can express the date value in multiple formats and it will give you the results you expect."
   ]
  },
  {
   "cell_type": "code",
   "execution_count": null,
   "metadata": {
    "ExecuteTime": {
     "end_time": "2019-03-26T12:51:06.597969Z",
     "start_time": "2019-03-26T12:51:06.491688Z"
    }
   },
   "outputs": [],
   "source": [
    "df[df['date'] >= 'Oct-2014'].head()"
   ]
  },
  {
   "cell_type": "code",
   "execution_count": null,
   "metadata": {
    "ExecuteTime": {
     "end_time": "2019-03-26T12:52:20.634488Z",
     "start_time": "2019-03-26T12:52:20.504570Z"
    }
   },
   "outputs": [],
   "source": [
    "df[df['date'] >= '102014'].head()"
   ]
  },
  {
   "cell_type": "markdown",
   "metadata": {},
   "source": [
    "When working with time series data, if we convert the data to use the date as at the index, we can do some more filtering.\n",
    "\n",
    "Set the new index using `set_index`."
   ]
  },
  {
   "cell_type": "code",
   "execution_count": null,
   "metadata": {
    "ExecuteTime": {
     "end_time": "2019-03-26T12:52:42.110181Z",
     "start_time": "2019-03-26T12:52:41.967374Z"
    }
   },
   "outputs": [],
   "source": [
    "df2 = df.set_index(['date'])\n",
    "df2.head()"
   ]
  },
  {
   "cell_type": "markdown",
   "metadata": {},
   "source": [
    "We can slice the data to get a range."
   ]
  },
  {
   "cell_type": "code",
   "execution_count": null,
   "metadata": {
    "ExecuteTime": {
     "end_time": "2019-03-26T12:52:45.201745Z",
     "start_time": "2019-03-26T12:52:45.081665Z"
    }
   },
   "outputs": [],
   "source": [
    "df2[\"2014-01-01\":\"2014-02-01\"].head()"
   ]
  },
  {
   "cell_type": "markdown",
   "metadata": {},
   "source": [
    "Once again, we can use various date representations to remove any ambiguity around date naming conventions."
   ]
  },
  {
   "cell_type": "code",
   "execution_count": null,
   "metadata": {
    "ExecuteTime": {
     "end_time": "2019-03-26T12:52:48.010871Z",
     "start_time": "2019-03-26T12:52:47.898704Z"
    }
   },
   "outputs": [],
   "source": [
    "df2[\"2014-Jan-1\":\"2014-Feb-1\"].head()"
   ]
  },
  {
   "cell_type": "code",
   "execution_count": null,
   "metadata": {
    "ExecuteTime": {
     "end_time": "2019-03-26T12:52:56.113322Z",
     "start_time": "2019-03-26T12:52:55.991870Z"
    }
   },
   "outputs": [],
   "source": [
    "df2[\"2014-Jan-1\":\"2014-Feb-1\"].tail()"
   ]
  },
  {
   "cell_type": "code",
   "execution_count": null,
   "metadata": {
    "ExecuteTime": {
     "end_time": "2019-03-26T12:52:58.451623Z",
     "start_time": "2019-03-26T12:52:58.359176Z"
    }
   },
   "outputs": [],
   "source": [
    "df2[\"2014\"].head()"
   ]
  },
  {
   "cell_type": "code",
   "execution_count": null,
   "metadata": {
    "ExecuteTime": {
     "end_time": "2019-03-25T01:38:32.701587Z",
     "start_time": "2019-03-25T01:38:32.626867Z"
    }
   },
   "outputs": [],
   "source": [
    "df2[\"2014-Dec\"].head()"
   ]
  },
  {
   "cell_type": "markdown",
   "metadata": {},
   "source": [
    "## Additional String Functions"
   ]
  },
  {
   "cell_type": "markdown",
   "metadata": {},
   "source": [
    "Pandas has support for vectorized string functions as well. If we want to identify all the skus that contain a certain value, we can use `str.contains`. In this case, we know that the sku is always represented in the same way, so B1 only shows up in the front of the sku."
   ]
  },
  {
   "cell_type": "code",
   "execution_count": null,
   "metadata": {
    "ExecuteTime": {
     "end_time": "2019-03-26T14:43:04.068770Z",
     "start_time": "2019-03-26T14:43:03.918936Z"
    }
   },
   "outputs": [],
   "source": [
    "df[df['sku'].str.contains('B1')].head()"
   ]
  },
  {
   "cell_type": "markdown",
   "metadata": {},
   "source": [
    "We can string queries together and use sort to control how the data is ordered."
   ]
  },
  {
   "cell_type": "markdown",
   "metadata": {},
   "source": [
    "A common need in Excel is to understand all the unique items in a column. For instance, maybe we only want to know when customers purchased in this time period. The unique function makes this trivial."
   ]
  },
  {
   "cell_type": "code",
   "execution_count": null,
   "metadata": {
    "ExecuteTime": {
     "end_time": "2019-03-26T12:53:58.414372Z",
     "start_time": "2019-03-26T12:53:57.861838Z"
    }
   },
   "outputs": [],
   "source": [
    "df[(df['sku'].str.contains('B1-531')) & (df['quantity']>40)].sort_values(by=['quantity','name'],ascending=[0,1])"
   ]
  },
  {
   "cell_type": "markdown",
   "metadata": {},
   "source": [
    "## Bonus Task"
   ]
  },
  {
   "cell_type": "markdown",
   "metadata": {},
   "source": [
    "A very frequent scenario is trying to get a list of unique items in a long list within Excel. It is a multi-step process to do this in Excel but is fairly simple in pandas. We just use the [unique](https://pandas.pydata.org/pandas-docs/stable/reference/api/pandas.Series.unique.html) function on a column to get the list."
   ]
  },
  {
   "cell_type": "code",
   "execution_count": null,
   "metadata": {
    "ExecuteTime": {
     "end_time": "2019-03-26T12:54:12.052710Z",
     "start_time": "2019-03-26T12:54:12.011024Z"
    }
   },
   "outputs": [],
   "source": [
    "df[\"name\"].unique()"
   ]
  },
  {
   "cell_type": "markdown",
   "metadata": {},
   "source": [
    "If we wanted to include the account number, we could use `drop_duplicates`."
   ]
  },
  {
   "cell_type": "code",
   "execution_count": null,
   "metadata": {
    "ExecuteTime": {
     "end_time": "2019-03-26T12:54:17.329364Z",
     "start_time": "2019-03-26T12:54:17.176825Z"
    }
   },
   "outputs": [],
   "source": [
    "df.drop_duplicates(subset=[\"account number\",\"name\"]).head()"
   ]
  },
  {
   "cell_type": "markdown",
   "metadata": {},
   "source": [
    "We are obviously pulling in more data than we need and getting some non-useful information, so select only the first and second columns using [`iloc`](https://pandas.pydata.org/pandas-docs/stable/reference/api/pandas.DataFrame.iloc.html)."
   ]
  },
  {
   "cell_type": "code",
   "execution_count": null,
   "metadata": {
    "ExecuteTime": {
     "end_time": "2019-03-26T12:54:38.960456Z",
     "start_time": "2019-03-26T12:54:38.834072Z"
    }
   },
   "outputs": [],
   "source": [
    "df.drop_duplicates(subset=[\"account number\",\"name\"]).iloc[:,[0,1]]"
   ]
  },
  {
   "cell_type": "markdown",
   "metadata": {},
   "source": [
    "Now we encourage you to try and apply these ideas to some of your own repetitive Excel tasks and streamline your work flow."
   ]
  }
 ],
 "metadata": {
  "kernelspec": {
   "display_name": "Python 3",
   "language": "python",
   "name": "dspxi"
  },
  "language_info": {
   "codemirror_mode": {
    "name": "ipython",
    "version": 3
   },
   "file_extension": ".py",
   "mimetype": "text/x-python",
   "name": "python",
   "nbconvert_exporter": "python",
   "pygments_lexer": "ipython3",
   "version": "3.6.8"
  },
  "toc": {
   "base_numbering": "4",
   "nav_menu": {},
   "number_sections": true,
   "sideBar": true,
   "skip_h1_title": false,
   "title_cell": "Table of Contents",
   "title_sidebar": "Contents",
   "toc_cell": true,
   "toc_position": {},
   "toc_section_display": true,
   "toc_window_display": true
  },
  "varInspector": {
   "cols": {
    "lenName": 16,
    "lenType": 16,
    "lenVar": 40
   },
   "kernels_config": {
    "python": {
     "delete_cmd_postfix": "",
     "delete_cmd_prefix": "del ",
     "library": "var_list.py",
     "varRefreshCmd": "print(var_dic_list())"
    },
    "r": {
     "delete_cmd_postfix": ") ",
     "delete_cmd_prefix": "rm(",
     "library": "var_list.r",
     "varRefreshCmd": "cat(var_dic_list()) "
    }
   },
   "types_to_exclude": [
    "module",
    "function",
    "builtin_function_or_method",
    "instance",
    "_Feature"
   ],
   "window_display": false
  }
 },
 "nbformat": 4,
 "nbformat_minor": 2
}
