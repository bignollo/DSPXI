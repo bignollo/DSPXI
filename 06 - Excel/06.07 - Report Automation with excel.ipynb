{
 "cells": [
  {
   "cell_type": "markdown",
   "metadata": {},
   "source": [
    "![image.png](https://raw.githubusercontent.com/fjvarasc/DSPXI/master/figures/python_logo.png)"
   ]
  },
  {
   "cell_type": "markdown",
   "metadata": {},
   "source": [
    "# Excel Lab\n",
    "\n",
    "In this example, a fictional company called ABCD Catering has recorded sales and order history for 2009 in their corporate ERP system. ABCD Catering provides catering services to leading Silicon Valley companies, providing the best in hamburgers, hot dogs, churros, sodas and other comfort. Your boss has asked you to examine this data and answer some questions and produce charts representing some of the data:\n",
    "\n",
    "* What were the total sales in each of the last four quarters?\n",
    "* What are the sales for each food item in each quarter?\n",
    "* Who were the top 10 customers for ABCD catering in Q1?\n",
    "* Who was the highest producing sales rep for the year?\n",
    "* What food item had the highest unit sales in Q4?\n",
    "\n",
    "Generating this information typically involves running five separate reports in the system. Since your boss is looking for this same information at the end of each quarter, you want to simplify your life and your bosses by automating the report. Using Python and Excel, you can download a spreadsheet copy of the raw data, process it, generate the key figures and charts and save them to a spreadsheet.\n",
    "\n",
    "Take a look at the data in ABCDCatering.xls:\n",
    "\n",
    "![image.png](https://raw.githubusercontent.com/fjvarasc/DSPXI/master/figures/20091102_original.png)\n",
    "\n",
    "The spreadsheet contains some header information, then a large table of records for each order. Each record contains the fiscal year and quarter, food item, company name, order data, sales representative, booking and order quantity for each order. The data needs some work before you can use it in a pivot table. First, the data in rows 1 through 11 must be ignored, it’s meaningless for the pivot table. Also, some columns do not have a proper header and must be corrected before the data can be used. The good news is that after some minor massaging, this data will be ideally suited for processing with a pivot table in Excel. Close the spreadsheet and get ready to build the reports.\n",
    "\n",
    "The program begins with the standard boilerplate: import the win32 module and start Excel."
   ]
  },
  {
   "cell_type": "markdown",
   "metadata": {},
   "source": [
    "## Start Excel"
   ]
  },
  {
   "cell_type": "code",
   "execution_count": null,
   "metadata": {},
   "outputs": [],
   "source": [
    "import win32com.client as win32\n",
    "import sys\n",
    "import os\n",
    "\n",
    "excel = win32.gencache.EnsureDispatch('Excel.Application')\n",
    "excel.Visible = True"
   ]
  },
  {
   "cell_type": "markdown",
   "metadata": {},
   "source": [
    "Next, open the spreadsheet ABCDCatering.xls with some exception handling. The try/except clause attempts to open the file with the Workbooks.Open() method, and exits gracefully if the file is missing or some other problem occurred. Lastly, the variable ws is set to the spreadsheet containing the data."
   ]
  },
  {
   "cell_type": "markdown",
   "metadata": {},
   "source": [
    "## Open Workbook"
   ]
  },
  {
   "cell_type": "code",
   "execution_count": null,
   "metadata": {},
   "outputs": [],
   "source": [
    "default_path =  os.getcwd() + '\\\\' \n",
    "\n",
    "try:\n",
    "    wb = excel.Workbooks.Open(default_path + 'ABCDCatering.xls')\n",
    "except:\n",
    "    print \"Failed to open spreadsheet ABCDCatering.xls\"\n",
    "    sys.exit(1)\n",
    "ws = wb.Sheets('Sheet1')"
   ]
  },
  {
   "cell_type": "markdown",
   "metadata": {},
   "source": [
    "An easy way to load the entire spreadsheet into Python is the UsedRange method. The following command:"
   ]
  },
  {
   "cell_type": "markdown",
   "metadata": {},
   "source": [
    "## Load Sheet Data in python"
   ]
  },
  {
   "cell_type": "code",
   "execution_count": null,
   "metadata": {},
   "outputs": [],
   "source": [
    "xldata = ws.UsedRange.Value"
   ]
  },
  {
   "cell_type": "markdown",
   "metadata": {},
   "source": [
    "The above code grabs all the data in the Sheet1 worksheet and copies it into a tuple named xldata. Once inside Python, the data can be manipulated and placed back into the spreadsheet with minimal calls to the COM interface, resulting in faster, more efficient processing.\n",
    "\n",
    "## Check Data\n",
    "\n",
    "To delete rows, add columns and do other operations on the data, it must be converted to or copied to a list. The approach used here is to examine the data row by row, discarding the non essential header rows and copying everything else to a new list. The first step is to remove the rows that are not part of the column header row or record data. If you are using Python to generate the program interactively, Let's can investigate the data in the xldata tuple and display the data for the first record (xldata[0]) and header record (xldata[11]):"
   ]
  },
  {
   "cell_type": "code",
   "execution_count": null,
   "metadata": {},
   "outputs": [],
   "source": [
    "xldata[0]"
   ]
  },
  {
   "cell_type": "code",
   "execution_count": null,
   "metadata": {},
   "outputs": [],
   "source": [
    "xldata[11]"
   ]
  },
  {
   "cell_type": "markdown",
   "metadata": {},
   "source": [
    "The length of both rows is 13, though xldata[0] contains many elements with a value of None. The following code checks the length of the data and skips any rows shorter then 13 fields or rows that contain None in the last field. Note that this code assumes that the actual data in the table always contains complete records, true in this dataset but you should always understand the characteristics of the data you’re working on."
   ]
  },
  {
   "cell_type": "markdown",
   "metadata": {
    "ExecuteTime": {
     "end_time": "2019-03-27T19:17:20.939587Z",
     "start_time": "2019-03-27T19:17:20.922504Z"
    }
   },
   "source": [
    "## Fix Data"
   ]
  },
  {
   "cell_type": "code",
   "execution_count": null,
   "metadata": {},
   "outputs": [],
   "source": [
    "newdata = []\n",
    "for row in xldata:\n",
    "    if row[-1] is not None and len(row) == 13:\n",
    "        newdata.append(row)"
   ]
  },
  {
   "cell_type": "markdown",
   "metadata": {},
   "source": [
    "The `newdata` list now contains the header and data rows from the spreadsheet, but the header row is still not complete. All column headers must contain text in order to use this data in a pivot table. Unfortunately, the spreadsheet downloads produced by the ERP system have the column label over the numberical identifier for the item, while the text column header is blank. You can see that for the “Food” and “Company” data below.\n",
    "\n",
    "![image.png](https://raw.githubusercontent.com/fjvarasc/DSPXI/master/figures/20091102_foodcompany.png)"
   ]
  },
  {
   "cell_type": "markdown",
   "metadata": {},
   "source": [
    "One approach that works for this data is to scan the header and insert a column header based on the contents of the previous column. For example, the label for column F could be “Company Name”, created by simply appending the text ” Name” to the column header “Company” from the prior column. Using this simple algorithm, the column header row can be filled out and the spreadsheet made ready for pivot table conversion. A more complex lookup could be used as well, but the simple algorithm described here will scale if new fields are added to the report."
   ]
  },
  {
   "cell_type": "code",
   "execution_count": null,
   "metadata": {},
   "outputs": [],
   "source": [
    "for i,field in enumerate(newdata[0]):\n",
    "    if field is None:\n",
    "        newdata[0][i] = lasthdr + \" Name\"\n",
    "    else:\n",
    "        lasthdr = newdata[0][i]"
   ]
  },
  {
   "cell_type": "markdown",
   "metadata": {},
   "source": [
    "Now the data is ready for insertion back into the spreadsheet. To enable comparison between the new data set and the original, create a new sheet in the workbook, write the data to the new sheet and autofit the columns."
   ]
  },
  {
   "cell_type": "markdown",
   "metadata": {},
   "source": [
    "Now the data is ready for insertion back into the spreadsheet. To enable comparison between the new data set and the original, create a new sheet in the workbook, write the data to the new sheet and autofit the columns."
   ]
  },
  {
   "cell_type": "code",
   "execution_count": null,
   "metadata": {},
   "outputs": [],
   "source": [
    "wsnew = wb.Sheets.Add()\n",
    "wsnew.Range(wsnew.Cells(1,1),wsnew.Cells(len(newdata),len(newdata[0]))).Value = newdata\n",
    "wsnew.Columns.AutoFit()"
   ]
  },
  {
   "cell_type": "markdown",
   "metadata": {},
   "source": [
    "The last step is to save the worksheet to a new file and quit Excel."
   ]
  },
  {
   "cell_type": "code",
   "execution_count": null,
   "metadata": {},
   "outputs": [],
   "source": [
    "wb.SaveAs('newABCDCatering.xlsx')\n",
    "excel.Application.Quit()\n",
    "#wb.SaveAs('newABCDCatering.xlsx',win32.constants.xlOpenXMLWorkbook)"
   ]
  },
  {
   "cell_type": "markdown",
   "metadata": {},
   "source": [
    "## Check the output"
   ]
  },
  {
   "cell_type": "markdown",
   "metadata": {},
   "source": [
    "After running the script, open the file newABCDCatering.xlsx or newABCDCatering.xls and view the contents. Note that the extraneous header information has been removed and blank column header information has been inserted programmatically as described earlier.\n",
    "\n",
    "![image.png](https://raw.githubusercontent.com/fjvarasc/DSPXI/master/figures/20091102_exceloutput.png)\n",
    "\n",
    "The new spreadsheet is ready for use in a pivot table :)"
   ]
  },
  {
   "cell_type": "markdown",
   "metadata": {},
   "source": [
    "## Build the APP & Generate Reports"
   ]
  },
  {
   "cell_type": "markdown",
   "metadata": {},
   "source": [
    "Pivot tables are an easy-to-use tool to derive some basic business intelligence from your data. As discussed last time, there are occasions when you’ll need to do interactive data mining by changing column and row fields. But in my experience, it’s handy to have my favorite reports built automatically, with the reports ready to go as soon as I open the spreadsheet. In this post I’ll develop and explain the code to create a set of pivot tables automatically in worksheet.\n",
    "\n",
    "The goal of this exercise is to automate the generation of pivot tables and save them to a new Excel file.\n",
    "![image.png](https://raw.githubusercontent.com/fjvarasc/DSPXI/master/figures/20091123_reports.png)"
   ]
  },
  {
   "cell_type": "markdown",
   "metadata": {},
   "source": [
    "load newABCDCatering.xls from the previous step and record the macro to create this simple pivot table showing Net Bookings by Sales Rep and Food Name for the last four quarters as below.\n",
    "![image.png](https://raw.githubusercontent.com/fjvarasc/DSPXI/master/figures/20091123_setup.png)\n",
    "\n",
    "The captured macro should be similar to this.\n",
    "\n",
    "```vbscript\n",
    "'\n",
    "' Macro2 Macro\n",
    "'\n",
    "\n",
    "'\n",
    "    Selection.CurrentRegion.Select\n",
    "    Sheets.Add\n",
    "    ActiveWorkbook.PivotCaches.Create(SourceType:=xlDatabase, SourceData:= _\n",
    "        \"Sheet2!R1C1:R791C13\", Version:=xlPivotTableVersion10).CreatePivotTable _\n",
    "        TableDestination:=\"Sheet3!R3C1\", TableName:=\"PivotTable1\", DefaultVersion _\n",
    "        :=xlPivotTableVersion10\n",
    "    Sheets(\"Sheet3\").Select\n",
    "    Cells(3, 1).Select\n",
    "    With ActiveSheet.PivotTables(\"PivotTable1\").PivotFields(\"Fiscal Year\")\n",
    "        .Orientation = xlPageField\n",
    "        .Position = 1\n",
    "    End With\n",
    "    With ActiveSheet.PivotTables(\"PivotTable1\").PivotFields(\"Fiscal Quarter\")\n",
    "        .Orientation = xlColumnField\n",
    "        .Position = 1\n",
    "    End With\n",
    "    With ActiveSheet.PivotTables(\"PivotTable1\").PivotFields(\"Sales Rep Name\")\n",
    "        .Orientation = xlRowField\n",
    "        .Position = 1\n",
    "    End With\n",
    "    With ActiveSheet.PivotTables(\"PivotTable1\").PivotFields(\"Food Name\")\n",
    "        .Orientation = xlRowField\n",
    "        .Position = 2\n",
    "    End With\n",
    "    ActiveSheet.PivotTables(\"PivotTable1\").AddDataField ActiveSheet.PivotTables( _\n",
    "        \"PivotTable1\").PivotFields(\"Net Booking\"), \"Sum of Net Booking\", xlSum\n",
    "End Sub\n",
    "```"
   ]
  },
  {
   "cell_type": "markdown",
   "metadata": {},
   "source": [
    "Looking at the macro, you see lines specifying the Orientation of the field name, such as `.Orientation = xlRowField` and `.Orientation = xlColumnField`. A pivot table has four basic areas for fields:\n",
    "\n",
    "* Report Filter (.Orientation = xlPageField)\n",
    "* Column area (.Orientation = xlColumnField)\n",
    "* Row area (.Orientation = xlRowField)\n",
    "* Values area (PivotTables().AddDataField())\n",
    "\n",
    "Each of these supports multiple fields (column fields for `Sales Rep Name` and `Food Name` were added in the example). The ordering of the fields changes the appearance of the table.\n",
    "\n",
    "A general pattern should be apparent in this macro. First, the pivot table is created with the `ActiveWorkbook.PivotCaches.Create()` statement. Next, the columns and rows are configured with a series of `ActiveSheet.PivotTables(\"PivotTable1\").PivotFields()` statements. Finally, the field used in the Values section of the table is configured using the `ActiveSheet.PivotTables(\"PivotTable1\").AddDataField` statement. The general purpose function will need to contain all of these constructs. Note the parts that can’t be hard-coded: the source of the data, `\"Sheet2!R1C1:R791C13\"`, and destination for the table, `\"Sheet3!R3C1\"` need to be determined based on the characteristics of the source data and can’t be hard coded in the general solution.\n",
    "\n",
    "In Python, this pattern can be reduced to the following loop that covers fields for the Report Filter, Columns and Rows:"
   ]
  },
  {
   "cell_type": "code",
   "execution_count": null,
   "metadata": {},
   "outputs": [],
   "source": [
    "def addpivot(wb,sourcedata,title,filters=(),columns=(),\n",
    "             rows=(),sumvalue=(),sortfield=\"\"):\n",
    "    \"\"\"Build a pivot table using the provided source location data\n",
    "    and specified fields\n",
    "    \"\"\"\n",
    "    ...\n",
    "    for fieldlist,fieldc in ((filters,win32c.xlPageField),\n",
    "                            (columns,win32c.xlColumnField),\n",
    "                            (rows,win32c.xlRowField)):\n",
    "        for i,val in enumerate(fieldlist):\n",
    "            wb.ActiveSheet.PivotTables(tname).PivotFields(val).Orientation = fieldc\n",
    "        wb.ActiveSheet.PivotTables(tname).PivotFields(val).Position = i+1\n",
    "    ..."
   ]
  },
  {
   "cell_type": "markdown",
   "metadata": {},
   "source": [
    "Processing the Values field is more or less copied from the Visual Basic. To keep things simple in this example, this code is limited to adding “Sum of” values only, and doesn’t handle other Summarize Value functions such as Count, Min, Max, etc."
   ]
  },
  {
   "cell_type": "code",
   "execution_count": null,
   "metadata": {},
   "outputs": [],
   "source": [
    "wb.ActiveSheet.PivotTables(tname).AddDataField(\n",
    "    wb.ActiveSheet.PivotTables(tname).PivotFields(sumvalue[7:]),\n",
    "    sumvalue,\n",
    "    win32c.xlSum)"
   ]
  },
  {
   "cell_type": "markdown",
   "metadata": {},
   "source": [
    "The actual values for filters, columns and rows in the function are defined in the call to the function. The complete function creates a new sheet within the workbook, then adds an empty pivot table to the sheet and builds the table using the field information provided. For example, to answer the question: What were the total sales in each of the last four quarters?, the pivot table is built with the following call to the addpivot function:"
   ]
  },
  {
   "cell_type": "code",
   "execution_count": null,
   "metadata": {},
   "outputs": [],
   "source": [
    "# What were the total sales in each of the last four quarters?\n",
    "addpivot(wb,src,title=\"Sales by Quarter\",filters=(),columns=(),rows=(\"Fiscal Quarter\",),sumvalue=\"Sum of Net Booking\",\n",
    "         sortfield=())"
   ]
  },
  {
   "cell_type": "markdown",
   "metadata": {},
   "source": [
    "the above code defines a pivot table using the row header “Fiscal Quarter” and data value “Sum of Net Booking”. The title “Sales by Quarter” is used to name the sheet itself.\n",
    "\n",
    "To make the output spreadsheet more understandable, the title parameter passed into the function and used as a title in each worksheet and as the tab name.\n",
    "\n",
    "![image.png](https://raw.githubusercontent.com/fjvarasc/DSPXI/master/figures/20091123_titletabsbq.png)\n",
    "\n",
    "The complete script is shown below:\n",
    "\n",
    "* This script has been modified to run on both Excel 2007 or later and Excel 2003 and has been tested on those versions.\n",
    "* Adding pivot tables increases the size of the output Excel file, which can be mitigated by disabling caching of pivot table data. `PivotTables(tname).SaveData = False`, this will reduce the size of the output Excel file, but will require that the pivot table be refreshed before use by clicking on Refresh Data on the PivotTable toolbar.\n",
    "\n"
   ]
  },
  {
   "cell_type": "code",
   "execution_count": null,
   "metadata": {
    "code_folding": []
   },
   "outputs": [],
   "source": [
    "#\n",
    "# erpdatapivot.py:\n",
    "# Load raw EPR data, clean up header info and\n",
    "# build 5 pivot tables\n",
    "#\n",
    "import win32com.client as win32\n",
    "win32c = win32.constants\n",
    "import sys\n",
    "import itertools\n",
    "tablecount = itertools.count(1)\n",
    "\n",
    "def addpivot(wb,sourcedata,title,filters=(),columns=(),\n",
    "             rows=(),sumvalue=(),sortfield=\"\"):\n",
    "    \"\"\"Build a pivot table using the provided source location data\n",
    "    and specified fields\n",
    "    \"\"\"\n",
    "    newsheet = wb.Sheets.Add()\n",
    "    newsheet.Cells(1,1).Value = title\n",
    "    newsheet.Cells(1,1).Font.Size = 16\n",
    "\n",
    "    # Build the Pivot Table\n",
    "    tname = \"PivotTable%d\"% next(tablecount)#tablecount.next()\n",
    "\n",
    "    pc = wb.PivotCaches().Add(SourceType=win32c.xlDatabase,\n",
    "                                 SourceData=sourcedata)\n",
    "    pt = pc.CreatePivotTable(TableDestination=\"%s!R4C1\"%newsheet.Name,\n",
    "                             TableName=tname,\n",
    "                             DefaultVersion=win32c.xlPivotTableVersion10)\n",
    "    wb.Sheets(newsheet.Name).Select()\n",
    "    wb.Sheets(newsheet.Name).Cells(3,1).Select()\n",
    "    for fieldlist,fieldc in ((filters,win32c.xlPageField),\n",
    "                            (columns,win32c.xlColumnField),\n",
    "                            (rows,win32c.xlRowField)):\n",
    "        for i,val in enumerate(fieldlist):\n",
    "            wb.ActiveSheet.PivotTables(tname).PivotFields(val).Orientation = fieldc\n",
    "            wb.ActiveSheet.PivotTables(tname).PivotFields(val).Position = i+1\n",
    "\n",
    "    wb.ActiveSheet.PivotTables(tname).AddDataField(\n",
    "        wb.ActiveSheet.PivotTables(tname).PivotFields(sumvalue[7:]),\n",
    "        sumvalue,\n",
    "        win32c.xlSum)\n",
    "    if len(sortfield) != 0:\n",
    "        wb.ActiveSheet.PivotTables(tname).PivotFields(sortfield[0]).AutoSort(sortfield[1], sumvalue)\n",
    "    newsheet.Name = title\n",
    "\n",
    "    # Uncomment the next command to limit output file size, but make sure\n",
    "    # to click Refresh Data on the PivotTable toolbar to update the table\n",
    "    # newsheet.PivotTables(tname).SaveData = False\n",
    "\n",
    "    return tname\n",
    "\n",
    "def runexcel():\n",
    "    excel = win32.gencache.EnsureDispatch('Excel.Application')\n",
    "    excel.Visible = True\n",
    "    try:\n",
    "        wb = excel.Workbooks.Open('ABCDCatering.xls')\n",
    "    except:\n",
    "        print (\"Failed to open spreadsheet ABCDCatering.xls\")\n",
    "        sys.exit(1)\n",
    "    \n",
    "    ws = wb.Sheets('Report')\n",
    "    xldata = ws.UsedRange.Value\n",
    "    newdata = []\n",
    "    \n",
    "    for row in xldata:\n",
    "        if len(row) == 13 and row[-1] is not None:\n",
    "            newdata.append(list(row))\n",
    "            \n",
    "    lasthdr = \"\"\n",
    "    for i,field in enumerate(newdata[0]):\n",
    "        \n",
    "        if field is None:\n",
    "            newdata[0][i] = lasthdr + \" Name\"\n",
    "        else:\n",
    "            lasthdr = newdata[0][i]\n",
    "            \n",
    "    rowcnt = len(newdata)\n",
    "    colcnt = len(newdata[0])\n",
    "    wsnew = wb.Sheets.Add()\n",
    "    wsnew.Name = 'RAW_DATA'\n",
    "    wsnew.Range(wsnew.Cells(1,1),wsnew.Cells(rowcnt,colcnt)).Value = newdata\n",
    "    wsnew.Columns.AutoFit()\n",
    "\n",
    "    src = \"%s!R1C1:R%dC%d\"%(wsnew.Name,rowcnt,colcnt)\n",
    "    \n",
    "    # What were the total sales in each of the last four quarters?\n",
    "    addpivot(wb,src, title=\"Sales by Quarter\", filters=(), columns=(),rows=(\"Fiscal Quarter\",),sumvalue=\"Sum of Net Booking\",sortfield=())\n",
    "\n",
    "    # What are the sales for each food item in each quarter?\n",
    "    addpivot(wb,src,title=\"Sales by Food Item\",filters=(),columns=(\"Food Name\",),rows=(\"Fiscal Quarter\",),sumvalue=\"Sum of Net Booking\",sortfield=())\n",
    "\n",
    "    # Who were the top 10 customers for ABCD Catering in 2009?\n",
    "    addpivot(wb,src,title=\"Top 10 Customers\",filters=(),columns=(),rows=(\"Company Name\",),sumvalue=\"Sum of Net Booking\",sortfield=(\"Company Name\",win32c.xlDescending))\n",
    "\n",
    "    # Who was the highest producing sales rep for the year?\n",
    "    addpivot(wb,src,title=\"Top Sales Reps\",filters=(),columns=(),rows=(\"Sales Rep Name\",\"Company Name\"),sumvalue=\"Sum of Net Booking\",sortfield=(\"Sales Rep Name\",win32c.xlDescending))\n",
    "\n",
    "    # What food item had the highest unit sales in Q4?\n",
    "    ptname = addpivot(wb,src,title=\"Unit Sales by Food\",filters=(\"Fiscal Quarter\",),columns=(),rows=(\"Food Name\",),sumvalue=\"Sum of Quantity\",sortfield=(\"Food Name\",win32c.xlDescending))\n",
    "    wb.Sheets(\"Unit Sales by Food\").PivotTables(ptname).PivotFields(\"Fiscal Quarter\").CurrentPage = \"2009-Q4\"\n",
    "\n",
    "    if int(float(excel.Version)) >= 12:\n",
    "        wb.SaveAs('newABCDCatering.xlsx',win32c.xlOpenXMLWorkbook)\n",
    "    else:\n",
    "        wb.SaveAs('newABCDCatering.xls')\n",
    "    excel.Application.Quit()\n",
    "\n",
    "if __name__ == \"__main__\":\n",
    "    runexcel()"
   ]
  },
  {
   "cell_type": "markdown",
   "metadata": {},
   "source": [
    "\n",
    "http://pythonexcels.com/extending-pivot-table-data/\n",
    "http://pythonexcels.com/a-user-friendly-experience/\n",
    "\n"
   ]
  },
  {
   "cell_type": "markdown",
   "metadata": {},
   "source": [
    "more using win32 please check [this](http://timgolden.me.uk/python/win32_how_do_i.html) link"
   ]
  }
 ],
 "metadata": {
  "kernelspec": {
   "display_name": "Python 3",
   "language": "python",
   "name": "dspxi"
  },
  "language_info": {
   "codemirror_mode": {
    "name": "ipython",
    "version": 3
   },
   "file_extension": ".py",
   "mimetype": "text/x-python",
   "name": "python",
   "nbconvert_exporter": "python",
   "pygments_lexer": "ipython3",
   "version": "3.6.8"
  },
  "toc": {
   "base_numbering": "5",
   "nav_menu": {},
   "number_sections": true,
   "sideBar": true,
   "skip_h1_title": false,
   "title_cell": "Table of Contents",
   "title_sidebar": "Contents",
   "toc_cell": false,
   "toc_position": {
    "height": "calc(100% - 180px)",
    "left": "10px",
    "top": "150px",
    "width": "336px"
   },
   "toc_section_display": true,
   "toc_window_display": true
  },
  "varInspector": {
   "cols": {
    "lenName": 16,
    "lenType": 16,
    "lenVar": 40
   },
   "kernels_config": {
    "python": {
     "delete_cmd_postfix": "",
     "delete_cmd_prefix": "del ",
     "library": "var_list.py",
     "varRefreshCmd": "print(var_dic_list())"
    },
    "r": {
     "delete_cmd_postfix": ") ",
     "delete_cmd_prefix": "rm(",
     "library": "var_list.r",
     "varRefreshCmd": "cat(var_dic_list()) "
    }
   },
   "position": {
    "height": "400px",
    "left": "1339px",
    "right": "20px",
    "top": "120px",
    "width": "321px"
   },
   "types_to_exclude": [
    "module",
    "function",
    "builtin_function_or_method",
    "instance",
    "_Feature"
   ],
   "window_display": false
  }
 },
 "nbformat": 4,
 "nbformat_minor": 2
}
