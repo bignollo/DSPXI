{
 "cells": [
  {
   "cell_type": "markdown",
   "metadata": {
    "ExecuteTime": {
     "end_time": "2019-04-12T13:49:51.792254Z",
     "start_time": "2019-04-12T13:49:51.628670Z"
    }
   },
   "source": [
    "![image.png](https://raw.githubusercontent.com/fjvarasc/DSPXI/master/figures/py_logo.png)\n"
   ]
  },
  {
   "cell_type": "markdown",
   "metadata": {
    "toc": true
   },
   "source": [
    "<h1>Table of Contents<span class=\"tocSkip\"></span></h1>\n",
    "<div class=\"toc\"><ul class=\"toc-item\"><li><span><a href=\"#SQL,-ETL,-and-SQLAlchemy-in-Python\" data-toc-modified-id=\"SQL,-ETL,-and-SQLAlchemy-in-Python-5\"><span class=\"toc-item-num\">5&nbsp;&nbsp;</span>SQL, ETL, and SQLAlchemy in Python</a></span><ul class=\"toc-item\"><li><span><a href=\"#Extract\" data-toc-modified-id=\"Extract-5.1\"><span class=\"toc-item-num\">5.1&nbsp;&nbsp;</span>Extract</a></span></li><li><span><a href=\"#Transform\" data-toc-modified-id=\"Transform-5.2\"><span class=\"toc-item-num\">5.2&nbsp;&nbsp;</span>Transform</a></span><ul class=\"toc-item\"><li><span><a href=\"#Bringing-all-together\" data-toc-modified-id=\"Bringing-all-together-5.2.1\"><span class=\"toc-item-num\">5.2.1&nbsp;&nbsp;</span>Bringing all together</a></span></li></ul></li><li><span><a href=\"#Load\" data-toc-modified-id=\"Load-5.3\"><span class=\"toc-item-num\">5.3&nbsp;&nbsp;</span>Load</a></span></li></ul></li></ul></div>"
   ]
  },
  {
   "cell_type": "markdown",
   "metadata": {},
   "source": [
    "# SQL, ETL, and SQLAlchemy in Python"
   ]
  },
  {
   "cell_type": "markdown",
   "metadata": {},
   "source": [
    "SQL is simpler and more readable than Pandas, which is why many people prefer it. It's also fast, and it's the language for running queries of your database/data warehouses. This is the stuff of data science at scale!\n",
    "\n",
    "The core component that this workflow involves is called ETL, which stands for Extract, Transform, Load. While this example is a local system project, if the database file(s) were sourced from a source system, extraction would involve moving it into a data warehouse. From there it would be transformed using SQL queries. The final step would be loading the data into something like Python and Pandas to do machine learning.\n",
    "\n",
    "I used SQLAlchemy, which uses SQLite under the hood. SQLAlchemy has its own set of classes and methods for running SQL queries, but I wrote out raw SQL instead for readers who are more interested in seeing that or more familiar with that. I also did this to show the logic of my queries, since all that would be abstracted away by SQLAlchemy."
   ]
  },
  {
   "cell_type": "markdown",
   "metadata": {},
   "source": [
    "## Extract"
   ]
  },
  {
   "cell_type": "code",
   "execution_count": 35,
   "metadata": {
    "ExecuteTime": {
     "end_time": "2019-04-11T20:45:02.917314Z",
     "start_time": "2019-04-11T20:45:02.845594Z"
    }
   },
   "outputs": [
    {
     "data": {
      "text/plain": [
       "Engine(sqlite:///chinook.db)"
      ]
     },
     "execution_count": 35,
     "metadata": {},
     "output_type": "execute_result"
    }
   ],
   "source": [
    "# Import statements\n",
    "import sqlalchemy\n",
    "from sqlalchemy import create_engine,Table, Column, Integer, String, MetaData, ForeignKey,inspect\n",
    "\n",
    "# Connect the engine to the database file we'll be using\n",
    "engine = create_engine('sqlite:///chinook.db')\n",
    "engine"
   ]
  },
  {
   "cell_type": "markdown",
   "metadata": {},
   "source": [
    "Here is the chinook database schema. We are going to start with just the employees data table.\n",
    "\n",
    "![image](https://github.com/fjvarasc/DSPXI/raw/master/figures/sqlite-sample-database-color.png)\n"
   ]
  },
  {
   "cell_type": "code",
   "execution_count": 36,
   "metadata": {
    "ExecuteTime": {
     "end_time": "2019-04-11T20:45:16.431127Z",
     "start_time": "2019-04-11T20:45:16.195323Z"
    }
   },
   "outputs": [
    {
     "data": {
      "text/plain": [
       "[{'autoincrement': 'auto',\n",
       "  'default': None,\n",
       "  'name': 'EmployeeId',\n",
       "  'nullable': False,\n",
       "  'primary_key': 1,\n",
       "  'type': INTEGER()},\n",
       " {'autoincrement': 'auto',\n",
       "  'default': None,\n",
       "  'name': 'LastName',\n",
       "  'nullable': False,\n",
       "  'primary_key': 0,\n",
       "  'type': NVARCHAR(length=20)},\n",
       " {'autoincrement': 'auto',\n",
       "  'default': None,\n",
       "  'name': 'FirstName',\n",
       "  'nullable': False,\n",
       "  'primary_key': 0,\n",
       "  'type': NVARCHAR(length=20)},\n",
       " {'autoincrement': 'auto',\n",
       "  'default': None,\n",
       "  'name': 'Title',\n",
       "  'nullable': True,\n",
       "  'primary_key': 0,\n",
       "  'type': NVARCHAR(length=30)},\n",
       " {'autoincrement': 'auto',\n",
       "  'default': None,\n",
       "  'name': 'ReportsTo',\n",
       "  'nullable': True,\n",
       "  'primary_key': 0,\n",
       "  'type': INTEGER()},\n",
       " {'autoincrement': 'auto',\n",
       "  'default': None,\n",
       "  'name': 'BirthDate',\n",
       "  'nullable': True,\n",
       "  'primary_key': 0,\n",
       "  'type': DATETIME()},\n",
       " {'autoincrement': 'auto',\n",
       "  'default': None,\n",
       "  'name': 'HireDate',\n",
       "  'nullable': True,\n",
       "  'primary_key': 0,\n",
       "  'type': DATETIME()},\n",
       " {'autoincrement': 'auto',\n",
       "  'default': None,\n",
       "  'name': 'Address',\n",
       "  'nullable': True,\n",
       "  'primary_key': 0,\n",
       "  'type': NVARCHAR(length=70)},\n",
       " {'autoincrement': 'auto',\n",
       "  'default': None,\n",
       "  'name': 'City',\n",
       "  'nullable': True,\n",
       "  'primary_key': 0,\n",
       "  'type': NVARCHAR(length=40)},\n",
       " {'autoincrement': 'auto',\n",
       "  'default': None,\n",
       "  'name': 'State',\n",
       "  'nullable': True,\n",
       "  'primary_key': 0,\n",
       "  'type': NVARCHAR(length=40)},\n",
       " {'autoincrement': 'auto',\n",
       "  'default': None,\n",
       "  'name': 'Country',\n",
       "  'nullable': True,\n",
       "  'primary_key': 0,\n",
       "  'type': NVARCHAR(length=40)},\n",
       " {'autoincrement': 'auto',\n",
       "  'default': None,\n",
       "  'name': 'PostalCode',\n",
       "  'nullable': True,\n",
       "  'primary_key': 0,\n",
       "  'type': NVARCHAR(length=10)},\n",
       " {'autoincrement': 'auto',\n",
       "  'default': None,\n",
       "  'name': 'Phone',\n",
       "  'nullable': True,\n",
       "  'primary_key': 0,\n",
       "  'type': NVARCHAR(length=24)},\n",
       " {'autoincrement': 'auto',\n",
       "  'default': None,\n",
       "  'name': 'Fax',\n",
       "  'nullable': True,\n",
       "  'primary_key': 0,\n",
       "  'type': NVARCHAR(length=24)},\n",
       " {'autoincrement': 'auto',\n",
       "  'default': None,\n",
       "  'name': 'Email',\n",
       "  'nullable': True,\n",
       "  'primary_key': 0,\n",
       "  'type': NVARCHAR(length=60)}]"
      ]
     },
     "execution_count": 36,
     "metadata": {},
     "output_type": "execute_result"
    }
   ],
   "source": [
    "# SQL Expression Language creates metadata that contains objects that define the customers table\n",
    "metadata = MetaData()\n",
    "\n",
    "# This method instantiates the tables that already \n",
    "# exist in the database, which the engine is connected to. \n",
    "metadata.create_all(engine)\n",
    "\n",
    "# Checking this out, we can see the table structure and variable types for the employees table\n",
    "inspector = inspect(engine)\n",
    "\n",
    "# Checked out the columns in the employees table\n",
    "inspector.get_columns('employees')"
   ]
  },
  {
   "cell_type": "markdown",
   "metadata": {},
   "source": [
    "## Transform"
   ]
  },
  {
   "cell_type": "code",
   "execution_count": 110,
   "metadata": {
    "ExecuteTime": {
     "end_time": "2019-03-26T02:01:31.796328Z",
     "start_time": "2019-03-26T02:01:31.696859Z"
    }
   },
   "outputs": [
    {
     "name": "stdout",
     "output_type": "stream",
     "text": [
      "(1, 'Adams', 'Andrew', 'General Manager', None, '1962-02-18 00:00:00', '2002-08-14 00:00:00', '11120 Jasper Ave NW', 'Edmonton', 'AB', 'Canada', 'T5K 2N1', '+1 (780) 428-9482', '+1 (780) 428-3457', 'andrew@chinookcorp.com')\n",
      "(2, 'Edwards', 'Nancy', 'Sales Manager', 1, '1958-12-08 00:00:00', '2002-05-01 00:00:00', '825 8 Ave SW', 'Calgary', 'AB', 'Canada', 'T2P 2T3', '+1 (403) 262-3443', '+1 (403) 262-3322', 'nancy@chinookcorp.com')\n",
      "(3, 'Peacock', 'Jane', 'Sales Support Agent', 2, '1973-08-29 00:00:00', '2002-04-01 00:00:00', '1111 6 Ave SW', 'Calgary', 'AB', 'Canada', 'T2P 5M5', '+1 (403) 262-3443', '+1 (403) 262-6712', 'jane@chinookcorp.com')\n",
      "(4, 'Park', 'Margaret', 'Sales Support Agent', 2, '1947-09-19 00:00:00', '2003-05-03 00:00:00', '683 10 Street SW', 'Calgary', 'AB', 'Canada', 'T2P 5G3', '+1 (403) 263-4423', '+1 (403) 263-4289', 'margaret@chinookcorp.com')\n",
      "(5, 'Johnson', 'Steve', 'Sales Support Agent', 2, '1965-03-03 00:00:00', '2003-10-17 00:00:00', '7727B 41 Ave', 'Calgary', 'AB', 'Canada', 'T3B 1Y7', '1 (780) 836-9987', '1 (780) 836-9543', 'steve@chinookcorp.com')\n",
      "(6, 'Mitchell', 'Michael', 'IT Manager', 1, '1973-07-01 00:00:00', '2003-10-17 00:00:00', '5827 Bowness Road NW', 'Calgary', 'AB', 'Canada', 'T3B 0C5', '+1 (403) 246-9887', '+1 (403) 246-9899', 'michael@chinookcorp.com')\n",
      "(7, 'King', 'Robert', 'IT Staff', 6, '1970-05-29 00:00:00', '2004-01-02 00:00:00', '590 Columbia Boulevard West', 'Lethbridge', 'AB', 'Canada', 'T1K 5N8', '+1 (403) 456-9986', '+1 (403) 456-8485', 'robert@chinookcorp.com')\n",
      "(8, 'Callahan', 'Laura', 'IT Staff', 6, '1968-01-09 00:00:00', '2004-03-04 00:00:00', '923 7 ST NW', 'Lethbridge', 'AB', 'Canada', 'T1H 1Y8', '+1 (403) 467-3351', '+1 (403) 467-8772', 'laura@chinookcorp.com')\n"
     ]
    }
   ],
   "source": [
    "# Let's execute raw SQL on some tables using SQLAlchemy\n",
    "with engine.connect() as con:\n",
    "    \n",
    "    rs = con.execute('SELECT * FROM employees')\n",
    "    \n",
    "    for row in rs:\n",
    "        print(row)\n",
    "        \n",
    "# Don't forget to close your connection to the database when the query is done\n",
    "con.close()\n",
    "\n",
    "# Note: Use LIMIT n to limit the number of rows returned. Not a problem with this small table"
   ]
  },
  {
   "cell_type": "markdown",
   "metadata": {},
   "source": [
    "\"SELECT * FROM table_name\" is the hello world of SQL. Let's go a little more in depth."
   ]
  },
  {
   "cell_type": "code",
   "execution_count": 111,
   "metadata": {
    "ExecuteTime": {
     "end_time": "2019-03-26T02:01:48.774505Z",
     "start_time": "2019-03-26T02:01:48.698854Z"
    }
   },
   "outputs": [
    {
     "name": "stdout",
     "output_type": "stream",
     "text": [
      "(8,)\n"
     ]
    }
   ],
   "source": [
    "# How many employees are there?\n",
    "with engine.connect() as con:\n",
    "    \n",
    "    rs = con.execute(\"\"\"SELECT COUNT(EmployeeId) \n",
    "    FROM employees;\"\"\")\n",
    "    \n",
    "    for row in rs:\n",
    "        print(row)\n",
    "        \n",
    "con.close()"
   ]
  },
  {
   "cell_type": "code",
   "execution_count": 115,
   "metadata": {
    "ExecuteTime": {
     "end_time": "2019-03-26T02:02:54.859906Z",
     "start_time": "2019-03-26T02:02:54.781521Z"
    }
   },
   "outputs": [
    {
     "name": "stdout",
     "output_type": "stream",
     "text": [
      "(3, 21)\n",
      "(4, 20)\n",
      "(5, 18)\n"
     ]
    }
   ],
   "source": [
    "# How many customers did each sales rep help?\n",
    "with engine.connect() as con:\n",
    "    \n",
    "    rs = con.execute(\"\"\"SELECT SupportRepId,COUNT(SupportRepId)\n",
    "    FROM customers\n",
    "    GROUP BY SupportRepId;\"\"\")\n",
    "    \n",
    "    for row in rs:\n",
    "        print(row)\n",
    "        \n",
    "con.close()"
   ]
  },
  {
   "cell_type": "markdown",
   "metadata": {},
   "source": [
    "Employees 3, 4, and 5 helped 21, 20, and 18 customers respectively."
   ]
  },
  {
   "cell_type": "code",
   "execution_count": 116,
   "metadata": {
    "ExecuteTime": {
     "end_time": "2019-03-26T02:03:13.147417Z",
     "start_time": "2019-03-26T02:03:13.083258Z"
    }
   },
   "outputs": [
    {
     "name": "stdout",
     "output_type": "stream",
     "text": [
      "('2002-04-01 00:00:00', 3)\n"
     ]
    }
   ],
   "source": [
    "# Does their length of tenure map to how many customers they helped?\n",
    "with engine.connect() as con:\n",
    "    \n",
    "    rs = con.execute(\"\"\"SELECT MIN(HireDate), EmployeeId\n",
    "    FROM employees;\"\"\")\n",
    "    \n",
    "    for row in rs:\n",
    "        print(row)\n",
    "        \n",
    "con.close()"
   ]
  },
  {
   "cell_type": "markdown",
   "metadata": {},
   "source": [
    "The most senior employee helped the most customers."
   ]
  },
  {
   "cell_type": "code",
   "execution_count": 117,
   "metadata": {
    "ExecuteTime": {
     "end_time": "2019-03-26T02:03:22.852412Z",
     "start_time": "2019-03-26T02:03:22.792201Z"
    }
   },
   "outputs": [
    {
     "name": "stdout",
     "output_type": "stream",
     "text": [
      "('2002-04-01 00:00:00', 3)\n",
      "('2003-05-03 00:00:00', 4)\n",
      "('2003-10-17 00:00:00', 5)\n"
     ]
    }
   ],
   "source": [
    "with engine.connect() as con:\n",
    "    \n",
    "    rs = con.execute(\"\"\"SELECT HireDate, EmployeeId\n",
    "    FROM employees\n",
    "    WHERE EmployeeId BETWEEN 3 AND 5\n",
    "    ORDER BY HireDate ASC\"\"\")\n",
    "    \n",
    "    for row in rs:\n",
    "        print(row)"
   ]
  },
  {
   "cell_type": "markdown",
   "metadata": {},
   "source": [
    "Length of tenure in the company seems to be somewhat linear. The most senior sales rep helped the most customers, and the most junior rep helped the least."
   ]
  },
  {
   "cell_type": "markdown",
   "metadata": {},
   "source": [
    "### Bringing all together"
   ]
  },
  {
   "cell_type": "markdown",
   "metadata": {},
   "source": [
    "In a relational database, there are relations between tables. Look back up at the database schema above. The customers table for example has as its primary key the CustomerId. This is a unique identifier for each customer. While there could be more than one John, there wouldn't be more than one CustomerId number 2355."
   ]
  },
  {
   "cell_type": "markdown",
   "metadata": {},
   "source": [
    "How many minutes of music was listened to for each country? How many customers were there for each country?\n",
    "\n",
    "To answer these questions, we need to get to the tracks table. The customers table tells us CustomerId and Country, so we can count CustomerId to derive the number of customers. \n",
    "\n",
    "To get to the Milliseconds variable in tracks though, we need to join that table with TrackId in invoice_items, InvoiceId with the invoices table, and finally the CustomerId in  the customers table. That's our roadmap."
   ]
  },
  {
   "cell_type": "code",
   "execution_count": 118,
   "metadata": {
    "ExecuteTime": {
     "end_time": "2019-03-26T02:03:59.269583Z",
     "start_time": "2019-03-26T02:03:59.151397Z"
    }
   },
   "outputs": [
    {
     "name": "stdout",
     "output_type": "stream",
     "text": [
      "(363, 28, 28, 494, 'USA', 363, 1553, 1553, 3, 9962558, 3277)\n",
      "(388, 33, 33, 304, 'Canada', 388, 2287, 2287, 4, 7373181, 1438)\n",
      "(368, 43, 43, 190, 'France', 368, 1645, 1645, 1, 7236640, 1168)\n",
      "(291, 38, 38, 152, 'Germany', 291, 2596, 2596, 4, 6399872, 914)\n",
      "(319, 13, 13, 190, 'Brazil', 319, 21, 21, 1, 8331286, 881)\n",
      "(404, 6, 6, 76, 'Czech Republic', 404, 2931, 2931, 1, 11527614, 879)\n",
      "(314, 57, 57, 38, 'Chile', 314, 3432, 3432, 24, 8916313, 525)\n",
      "(381, 54, 54, 114, 'United Kingdom', 381, 2055, 2055, 7, 5857116, 506)\n",
      "(401, 46, 46, 38, 'Ireland', 401, 2727, 2727, 4, 9601786, 476)\n",
      "(410, 35, 35, 76, 'Portugal', 410, 3037, 3037, 1, 9258717, 429)\n",
      "(284, 59, 59, 74, 'India', 284, 2364, 2364, 4, 7971384, 417)\n",
      "(377, 45, 45, 38, 'Hungary', 377, 2017, 2017, 1, 7354184, 380)\n",
      "(370, 7, 7, 38, 'Austria', 370, 1785, 1785, 14, 8888206, 374)\n",
      "(411, 44, 44, 38, 'Finland', 411, 3163, 3163, 7, 5121366, 355)\n",
      "(390, 48, 48, 38, 'Netherlands', 390, 2467, 2467, 1, 8222095, 305)\n",
      "(392, 4, 4, 38, 'Norway', 392, 2483, 2483, 4, 12133825, 268)\n",
      "(326, 51, 51, 38, 'Sweden', 326, 253, 253, 7, 9670057, 244)\n",
      "(305, 55, 55, 38, 'Australia', 305, 3060, 3060, 1, 7453043, 202)\n",
      "(356, 49, 49, 38, 'Poland', 356, 1321, 1321, 1, 10751410, 179)\n",
      "(340, 9, 9, 38, 'Denmark', 340, 717, 717, 7, 8376000, 172)\n",
      "(394, 8, 8, 38, 'Belgium', 394, 2495, 2495, 4, 8431747, 169)\n",
      "(402, 50, 50, 38, 'Spain', 402, 2751, 2751, 7, 4152604, 161)\n",
      "(403, 56, 56, 38, 'Argentina', 403, 2805, 2805, 4, 8073248, 149)\n",
      "(347, 47, 47, 38, 'Italy', 347, 949, 949, 1, 4524972, 138)\n"
     ]
    }
   ],
   "source": [
    "with engine.connect() as con:\n",
    "    \n",
    "    # Grab the variables you want then inner join them on the respective private keys\n",
    "    rs = con.execute(\n",
    "    \"\"\"SELECT\n",
    "    invoices.InvoiceId AS invid, \n",
    "    invoices.CustomerId AS invcustid, \n",
    "    customers.CustomerId AS custcustid,\n",
    "    COUNT(customers.CustomerId) AS numcustomers,\n",
    "    customers.Country as country,\n",
    "    invoice_items.InvoiceId AS invitemid,\n",
    "    \n",
    "    invoice_items.TrackId AS invtrackid,\n",
    "    tracks.TrackId AS tracktrackid, \n",
    "    tracks.GenreId AS trackgenreid, \n",
    "    tracks.Bytes AS trackbytes, \n",
    "    SUM(tracks.Milliseconds) / 1000 / 60 AS minutes\n",
    "    \n",
    "    FROM \n",
    "    invoices INNER JOIN customers ON invcustid=custcustid\n",
    "    INNER JOIN invoice_items ON invitemid=invid\n",
    "    INNER JOIN tracks ON tracktrackid=invtrackid\n",
    "    \n",
    "    GROUP BY country\n",
    "    \n",
    "    ORDER BY minutes DESC\n",
    "    \n",
    "    \"\"\"\n",
    "    )\n",
    "    \n",
    "    for row in rs:\n",
    "        print(row)\n",
    "\n",
    "con.close()"
   ]
  },
  {
   "cell_type": "markdown",
   "metadata": {},
   "source": [
    "The US customers rocked out with 3,277 minutes, or 54.6 hours!"
   ]
  },
  {
   "cell_type": "markdown",
   "metadata": {},
   "source": [
    "## Load"
   ]
  },
  {
   "cell_type": "code",
   "execution_count": 126,
   "metadata": {
    "ExecuteTime": {
     "end_time": "2019-03-26T02:12:58.935205Z",
     "start_time": "2019-03-26T02:12:58.800588Z"
    }
   },
   "outputs": [],
   "source": [
    "# Connecting the query to pd.read_sql_query. To simplify, you could modify the query to create\n",
    "# a table and then just do pd.read_sql_table in to the dataframe.\n",
    "import pandas as pd\n",
    "df = pd.read_sql_query(\"\"\"SELECT\n",
    "    invoices.InvoiceId AS invid, \n",
    "    invoices.CustomerId AS invcustid, \n",
    "    customers.CustomerId AS custcustid,\n",
    "    COUNT(customers.CustomerId) AS numcustomers,\n",
    "    customers.Country as country,\n",
    "    invoice_items.InvoiceId AS invitemid,\n",
    "    \n",
    "    invoice_items.TrackId AS invtrackid,\n",
    "    tracks.TrackId AS tracktrackid, \n",
    "    tracks.GenreId AS trackgenreid, \n",
    "    tracks.Bytes AS trackbytes, \n",
    "    SUM(tracks.Milliseconds) / 1000 / 60 AS minutes\n",
    "    \n",
    "    FROM \n",
    "    invoices INNER JOIN customers ON invcustid=custcustid\n",
    "    INNER JOIN invoice_items ON invitemid=invid\n",
    "    INNER JOIN tracks ON tracktrackid=invtrackid\n",
    "    \n",
    "    GROUP BY country\n",
    "    \n",
    "    ORDER BY minutes DESC\n",
    "    \n",
    "    \"\"\", con=engine.connect())"
   ]
  },
  {
   "cell_type": "code",
   "execution_count": 120,
   "metadata": {
    "ExecuteTime": {
     "end_time": "2019-03-26T02:06:16.743153Z",
     "start_time": "2019-03-26T02:06:16.615264Z"
    }
   },
   "outputs": [
    {
     "data": {
      "text/html": [
       "<div>\n",
       "<style scoped>\n",
       "    .dataframe tbody tr th:only-of-type {\n",
       "        vertical-align: middle;\n",
       "    }\n",
       "\n",
       "    .dataframe tbody tr th {\n",
       "        vertical-align: top;\n",
       "    }\n",
       "\n",
       "    .dataframe thead th {\n",
       "        text-align: right;\n",
       "    }\n",
       "</style>\n",
       "<table border=\"1\" class=\"dataframe\">\n",
       "  <thead>\n",
       "    <tr style=\"text-align: right;\">\n",
       "      <th></th>\n",
       "      <th>invid</th>\n",
       "      <th>invcustid</th>\n",
       "      <th>custcustid</th>\n",
       "      <th>numcustomers</th>\n",
       "      <th>country</th>\n",
       "      <th>invitemid</th>\n",
       "      <th>invtrackid</th>\n",
       "      <th>tracktrackid</th>\n",
       "      <th>trackgenreid</th>\n",
       "      <th>trackbytes</th>\n",
       "      <th>minutes</th>\n",
       "    </tr>\n",
       "  </thead>\n",
       "  <tbody>\n",
       "    <tr>\n",
       "      <th>0</th>\n",
       "      <td>363</td>\n",
       "      <td>28</td>\n",
       "      <td>28</td>\n",
       "      <td>494</td>\n",
       "      <td>USA</td>\n",
       "      <td>363</td>\n",
       "      <td>1553</td>\n",
       "      <td>1553</td>\n",
       "      <td>3</td>\n",
       "      <td>9962558</td>\n",
       "      <td>3277</td>\n",
       "    </tr>\n",
       "    <tr>\n",
       "      <th>1</th>\n",
       "      <td>388</td>\n",
       "      <td>33</td>\n",
       "      <td>33</td>\n",
       "      <td>304</td>\n",
       "      <td>Canada</td>\n",
       "      <td>388</td>\n",
       "      <td>2287</td>\n",
       "      <td>2287</td>\n",
       "      <td>4</td>\n",
       "      <td>7373181</td>\n",
       "      <td>1438</td>\n",
       "    </tr>\n",
       "    <tr>\n",
       "      <th>2</th>\n",
       "      <td>368</td>\n",
       "      <td>43</td>\n",
       "      <td>43</td>\n",
       "      <td>190</td>\n",
       "      <td>France</td>\n",
       "      <td>368</td>\n",
       "      <td>1645</td>\n",
       "      <td>1645</td>\n",
       "      <td>1</td>\n",
       "      <td>7236640</td>\n",
       "      <td>1168</td>\n",
       "    </tr>\n",
       "    <tr>\n",
       "      <th>3</th>\n",
       "      <td>291</td>\n",
       "      <td>38</td>\n",
       "      <td>38</td>\n",
       "      <td>152</td>\n",
       "      <td>Germany</td>\n",
       "      <td>291</td>\n",
       "      <td>2596</td>\n",
       "      <td>2596</td>\n",
       "      <td>4</td>\n",
       "      <td>6399872</td>\n",
       "      <td>914</td>\n",
       "    </tr>\n",
       "    <tr>\n",
       "      <th>4</th>\n",
       "      <td>319</td>\n",
       "      <td>13</td>\n",
       "      <td>13</td>\n",
       "      <td>190</td>\n",
       "      <td>Brazil</td>\n",
       "      <td>319</td>\n",
       "      <td>21</td>\n",
       "      <td>21</td>\n",
       "      <td>1</td>\n",
       "      <td>8331286</td>\n",
       "      <td>881</td>\n",
       "    </tr>\n",
       "  </tbody>\n",
       "</table>\n",
       "</div>"
      ],
      "text/plain": [
       "   invid  invcustid  custcustid  numcustomers  country  invitemid  invtrackid  \\\n",
       "0    363         28          28           494      USA        363        1553   \n",
       "1    388         33          33           304   Canada        388        2287   \n",
       "2    368         43          43           190   France        368        1645   \n",
       "3    291         38          38           152  Germany        291        2596   \n",
       "4    319         13          13           190   Brazil        319          21   \n",
       "\n",
       "   tracktrackid  trackgenreid  trackbytes  minutes  \n",
       "0          1553             3     9962558     3277  \n",
       "1          2287             4     7373181     1438  \n",
       "2          1645             1     7236640     1168  \n",
       "3          2596             4     6399872      914  \n",
       "4            21             1     8331286      881  "
      ]
     },
     "execution_count": 120,
     "metadata": {},
     "output_type": "execute_result"
    }
   ],
   "source": [
    "df.head()"
   ]
  }
 ],
 "metadata": {
  "kernelspec": {
   "display_name": "Python 3",
   "language": "python",
   "name": "dspxi"
  },
  "language_info": {
   "codemirror_mode": {
    "name": "ipython",
    "version": 3
   },
   "file_extension": ".py",
   "mimetype": "text/x-python",
   "name": "python",
   "nbconvert_exporter": "python",
   "pygments_lexer": "ipython3",
   "version": "3.6.8"
  },
  "toc": {
   "base_numbering": "5",
   "nav_menu": {},
   "number_sections": true,
   "sideBar": true,
   "skip_h1_title": false,
   "title_cell": "Table of Contents",
   "title_sidebar": "Contents",
   "toc_cell": true,
   "toc_position": {
    "height": "calc(100% - 180px)",
    "left": "10px",
    "top": "150px",
    "width": "256.59375px"
   },
   "toc_section_display": true,
   "toc_window_display": true
  },
  "varInspector": {
   "cols": {
    "lenName": 16,
    "lenType": 16,
    "lenVar": 40
   },
   "kernels_config": {
    "python": {
     "delete_cmd_postfix": "",
     "delete_cmd_prefix": "del ",
     "library": "var_list.py",
     "varRefreshCmd": "print(var_dic_list())"
    },
    "r": {
     "delete_cmd_postfix": ") ",
     "delete_cmd_prefix": "rm(",
     "library": "var_list.r",
     "varRefreshCmd": "cat(var_dic_list()) "
    }
   },
   "types_to_exclude": [
    "module",
    "function",
    "builtin_function_or_method",
    "instance",
    "_Feature"
   ],
   "window_display": false
  }
 },
 "nbformat": 4,
 "nbformat_minor": 2
}
