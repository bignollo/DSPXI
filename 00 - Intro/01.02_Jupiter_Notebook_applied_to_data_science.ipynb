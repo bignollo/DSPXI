{
 "cells": [
  {
   "cell_type": "markdown",
   "metadata": {},
   "source": [
    "![image.png](https://raw.githubusercontent.com/fjvarasc/DSPXI/master/figures/py_logo.png)"
   ]
  },
  {
   "cell_type": "markdown",
   "metadata": {
    "slideshow": {
     "slide_type": "slide"
    },
    "toc": true
   },
   "source": [
    "<h1>Table of Contents<span class=\"tocSkip\"></span></h1>\n",
    "<div class=\"toc\"><ul class=\"toc-item\"><li><span><a href=\"#Bringing-the-best-out-of-Jupyter-Notebooks-for-Data-Science\" data-toc-modified-id=\"Bringing-the-best-out-of-Jupyter-Notebooks-for-Data-Science-1\">Bringing the best out of Jupyter Notebooks for Data Science</a></span><ul class=\"toc-item\"><li><span><a href=\"#Executing-Shell-Commands\" data-toc-modified-id=\"Executing-Shell-Commands-1.1\">Executing Shell Commands</a></span></li><li><span><a href=\"#Jupyter-Themes\" data-toc-modified-id=\"Jupyter-Themes-1.2\">Jupyter Themes</a></span></li><li><span><a href=\"#Notebook-Extensions\" data-toc-modified-id=\"Notebook-Extensions-1.3\">Notebook Extensions</a></span><ul class=\"toc-item\"><li><span><a href=\"#Hinterland\" data-toc-modified-id=\"Hinterland-1.3.1\">Hinterland</a></span></li><li><span><a href=\"#Snippets\" data-toc-modified-id=\"Snippets-1.3.2\">Snippets</a></span></li><li><span><a href=\"#Split-Cells-Notebook\" data-toc-modified-id=\"Split-Cells-Notebook-1.3.3\">Split Cells Notebook</a></span></li><li><span><a href=\"#Table-of-Contents\" data-toc-modified-id=\"Table-of-Contents-1.3.4\">Table of Contents</a></span></li><li><span><a href=\"#Collapsible-Headings\" data-toc-modified-id=\"Collapsible-Headings-1.3.5\">Collapsible Headings</a></span></li><li><span><a href=\"#Autopep8\" data-toc-modified-id=\"Autopep8-1.3.6\">Autopep8</a></span></li></ul></li><li><span><a href=\"#Jupyter-Widgets\" data-toc-modified-id=\"Jupyter-Widgets-1.4\">Jupyter Widgets</a></span></li><li><span><a href=\"#Interact\" data-toc-modified-id=\"Interact-1.5\">Interact</a></span><ul class=\"toc-item\"><li><span><a href=\"#Basic-Widgets\" data-toc-modified-id=\"Basic-Widgets-1.5.1\">Basic Widgets</a></span></li><li><span><a href=\"#Advanced-Widgets\" data-toc-modified-id=\"Advanced-Widgets-1.5.2\">Advanced Widgets</a></span></li></ul></li><li><span><a href=\"#Qgrid\" data-toc-modified-id=\"Qgrid-1.6\">Qgrid</a></span></li><li><span><a href=\"#Slideshow\" data-toc-modified-id=\"Slideshow-1.7\">Slideshow</a></span><ul class=\"toc-item\"><li><span><a href=\"#Using-the-RISE-plugin\" data-toc-modified-id=\"Using-the-RISE-plugin-1.7.1\">Using the RISE plugin</a></span></li></ul></li><li><span><a href=\"#Embedding-URLs,-PDFs,-and-Youtube-Videos\" data-toc-modified-id=\"Embedding-URLs,-PDFs,-and-Youtube-Videos-1.8\">Embedding URLs, PDFs, and Youtube Videos</a></span></li></ul></li><li><span><a href=\"#Final-Thoughts\" data-toc-modified-id=\"Final-Thoughts-2\">Final Thoughts</a></span></li><li><span><a href=\"#Closing-Words\" data-toc-modified-id=\"Closing-Words-3\">Closing Words</a></span></li></ul></div>"
   ]
  },
  {
   "cell_type": "markdown",
   "metadata": {},
   "source": [
    "# Bringing the best out of Jupyter Notebooks for Data Science\n",
    "\n",
    "**[Netflix](https://hub.packtpub.com/how-everyone-at-netflix-uses-jupyter-notebooks-from-data-scientists-machine-learning-engineers-to-data-analysts/)** aims to provide personalized content to their 130 million viewers. One of the significant ways by which data scientists and engineers at Netflix interact with their data is through **Jupyter notebooks**. Notebooks leverage the use of collaborative, extensible, scalable, and reproducible data science. For many of us, Jupyter Notebooks is the **de facto** platform when it comes to quick prototyping and exploratory analysis. However, there’s more to this than meets the eye. A lot of Jupyter functionalities sometimes lies under the hood and is not adequately explored. Let us try and explore Jupyter Notebooks’ features which can enhance our productivity while working with them.\n"
   ]
  },
  {
   "cell_type": "markdown",
   "metadata": {},
   "source": [
    "## Executing Shell Commands\n",
    "**The notebook is the new shell**\n",
    "\n",
    "The shell is a way to interact textually with the computer. The **[most popular](http://swcarpentry.github.io/shell-novice/01-intro/index.html)** Unix shell is Bash(**Bourne Again SHell**). Bash is the default shell on most modern implementations of Unix and in most packages that provide Unix-like tools for Windows.\n",
    "\n",
    "Now, when we work with any Python interpreter, we need to regularly switch between the shell and the IDLE, in case we need to use the command line tools. However, the Jupyter Notebook gives us the ease to execute shell commands from within the notebook by placing an extra `!` before the commands. Any command that works at the command-line can be used in IPython by prefixing it with the `!` character."
   ]
  },
  {
   "cell_type": "code",
   "execution_count": 1,
   "metadata": {
    "ExecuteTime": {
     "end_time": "2019-04-10T18:54:55.941597Z",
     "start_time": "2019-04-10T18:54:55.436298Z"
    }
   },
   "outputs": [
    {
     "name": "stdout",
     "output_type": "stream",
     "text": [
      "01.00_Introduction_Python_Module.ipynb\t\t      01.06_VirtualENV.ipynb\r\n",
      "01.01_Jupiter_Notebook_Intro.ipynb\t\t      01.10_Lab.ipynb\r\n",
      "01.02_Jupiter_Notebook_applied_to_data_science.ipynb  01.10_Lab_Solutions.ipynb\r\n",
      "01.02_Jupyter_Notebooks_Advance.ipynb\t\t      __pycache__\r\n",
      "01.02_Jupyter_Shortcuts_Demo.ipynb\t\t      pythoncode.py\r\n",
      "01.03_Coding_Basics.ipynb\t\t\t      ScriptMode.py\r\n",
      "01.04_Datatypes.ipynb\t\t\t\t      test1.txt\r\n",
      "01.05_Types_Operations.ipynb\r\n"
     ]
    }
   ],
   "source": [
    "!ls"
   ]
  },
  {
   "cell_type": "code",
   "execution_count": 2,
   "metadata": {
    "ExecuteTime": {
     "end_time": "2019-04-10T18:54:58.625695Z",
     "start_time": "2019-04-10T18:54:58.467565Z"
    }
   },
   "outputs": [
    {
     "name": "stdout",
     "output_type": "stream",
     "text": [
      "/home/fjvarasc/GIT/00 - Intro\r\n"
     ]
    }
   ],
   "source": [
    "!pwd"
   ]
  },
  {
   "cell_type": "code",
   "execution_count": 3,
   "metadata": {
    "ExecuteTime": {
     "end_time": "2019-04-10T18:55:00.628863Z",
     "start_time": "2019-04-10T18:55:00.473935Z"
    }
   },
   "outputs": [
    {
     "name": "stdout",
     "output_type": "stream",
     "text": [
      "Hello World\r\n"
     ]
    }
   ],
   "source": [
    "!echo \"Hello World\""
   ]
  },
  {
   "cell_type": "markdown",
   "metadata": {},
   "source": [
    "We can even pass values to and from the shell as follows:"
   ]
  },
  {
   "cell_type": "code",
   "execution_count": 4,
   "metadata": {
    "ExecuteTime": {
     "end_time": "2019-04-10T18:55:03.557146Z",
     "start_time": "2019-04-10T18:55:03.171476Z"
    }
   },
   "outputs": [
    {
     "name": "stdout",
     "output_type": "stream",
     "text": [
      "['01.00_Introduction_Python_Module.ipynb', '01.01_Jupiter_Notebook_Intro.ipynb', '01.02_Jupiter_Notebook_applied_to_data_science.ipynb', '01.02_Jupyter_Notebooks_Advance.ipynb', '01.02_Jupyter_Shortcuts_Demo.ipynb', '01.03_Coding_Basics.ipynb', '01.04_Datatypes.ipynb', '01.05_Types_Operations.ipynb', '01.06_VirtualENV.ipynb', '01.10_Lab.ipynb', '01.10_Lab_Solutions.ipynb', '__pycache__', 'pythoncode.py', 'ScriptMode.py', 'test1.txt']\n"
     ]
    }
   ],
   "source": [
    "files= !ls\n",
    "print(files)"
   ]
  },
  {
   "cell_type": "code",
   "execution_count": 6,
   "metadata": {
    "ExecuteTime": {
     "end_time": "2019-04-10T18:55:27.560257Z",
     "start_time": "2019-04-10T18:55:27.495054Z"
    }
   },
   "outputs": [
    {
     "name": "stdout",
     "output_type": "stream",
     "text": [
      "['/home/fjvarasc/GIT/00 - Intro']\n"
     ]
    }
   ],
   "source": [
    "directory = !pwd\n",
    "print (directory)"
   ]
  },
  {
   "cell_type": "code",
   "execution_count": 9,
   "metadata": {
    "ExecuteTime": {
     "end_time": "2019-04-10T18:55:53.692769Z",
     "start_time": "2019-04-10T18:55:53.660336Z"
    }
   },
   "outputs": [
    {
     "data": {
      "text/plain": [
       "IPython.utils.text.SList"
      ]
     },
     "execution_count": 9,
     "metadata": {},
     "output_type": "execute_result"
    }
   ],
   "source": [
    "type(directory)"
   ]
  },
  {
   "cell_type": "markdown",
   "metadata": {},
   "source": [
    "Notice, the data type of the returned results is not a **[list](https://www.programiz.com/python-programming/list)**."
   ]
  },
  {
   "cell_type": "markdown",
   "metadata": {},
   "source": [
    "## Jupyter Themes\n",
    "**Theme-ify your Jupyter Notebooks!**\n",
    "\n",
    "If you are a person who gets bored while staring at the white background of the Jupyter notebook, themes are just for you. The themes also enhance the presentation of the code. You can find more about Jupyter themes here. Let’s get to the working part.\n",
    "\n",
    "**Installation**\n",
    "\n",
    "`pip install jupytertheme`\n",
    "\n",
    "List of available themes\n",
    "\n",
    "`jt -l`\n",
    "\n",
    "Currently, the available themes are **chesterish, grade3, gruvboxd, gruvboxl monokai, oceans16, onedork, solarizedd ,solarizedl**.\n",
    "\n",
    "**selecting a particular theme**\n",
    "`jt -t <name of the theme>`\n",
    "\n",
    "**reverting to original Theme**\n",
    "`jt -`\n",
    "\n",
    "- You will have to reload the jupyter notebook everytime you change the theme, to see the effect take place.\n",
    "- The same commands can also be run from within the Jupyter Notebook by placing ‘`!`’ before the command."
   ]
  },
  {
   "cell_type": "markdown",
   "metadata": {},
   "source": [
    "**Original**\n",
    "![1_rQazHGqaa4Pg9MXCf7LYlg.png](https://raw.githubusercontent.com/fjvarasc/DSPXI/master/figures/Original.png)\n",
    "**Chesterish**\n",
    "![1_GwhzTXPE1M_1zGcaEkS_bg.png](https://raw.githubusercontent.com/fjvarasc/DSPXI/master/figures/Chesterish.png)\n",
    "**solarizedl**\n",
    "![1_IkMsWpE3dcBKJTnYXjGtHA.png](https://raw.githubusercontent.com/fjvarasc/DSPXI/master/figures/solarizedl.png)"
   ]
  },
  {
   "cell_type": "markdown",
   "metadata": {},
   "source": [
    "![1_o5TDo77SCUiqj7TlSnB0Jg.gif](https://raw.githubusercontent.com/fjvarasc/DSPXI/master/figures/themes.gif)\n"
   ]
  },
  {
   "cell_type": "markdown",
   "metadata": {},
   "source": [
    "## Notebook Extensions\n",
    "\n",
    "**Extend the possibilities**\n",
    "\n",
    "Notebook extensions let you move beyond the general vanilla way of using the Jupyter Notebooks. Notebook extensions (or nbextensions) are JavaScript modules that you can load on most of the views in your Notebook’s frontend. These extensions modify the user experience and interface.\n",
    "\n",
    "**Installation**\n",
    "\n",
    "**Installation with conda:**\n",
    "\n",
    "`conda install -c conda-forge jupyter_nbextensions_configurato`\n",
    "\n",
    "Or with pip:\n",
    "\n",
    "`pip install jupyter_contrib_nbextensions && jupyter contrib nbextension install`\n",
    "\n",
    "incase you get permission errors on MacOS,\n",
    "\n",
    "`pip install jupyter_contrib_nbextensions && jupyter contrib nbextension install --user`\n",
    "\n",
    "\n",
    "Start a Jupyter notebook now, and you should be able to see an NBextensions Tab with a lot of options. Click the ones you want and see the magic happen.\n",
    "\n"
   ]
  },
  {
   "cell_type": "markdown",
   "metadata": {},
   "source": [
    "![1_pbcwhHZKLgMGE8bKreMtLw.png](https://raw.githubusercontent.com/fjvarasc/DSPXI/master/figures/nbextension.png)"
   ]
  },
  {
   "cell_type": "markdown",
   "metadata": {},
   "source": [
    "In case you couldn’t find the tab, a second small nbextension, can be located under the menu **`Edit`**."
   ]
  },
  {
   "cell_type": "markdown",
   "metadata": {},
   "source": [
    "![1_f492CPTHY8yyrpPg1-7n9A.png](https://raw.githubusercontent.com/fjvarasc/DSPXI/master/figures/edit_menu.png)"
   ]
  },
  {
   "cell_type": "markdown",
   "metadata": {},
   "source": [
    "Let us discuss some of the useful extensions.\n",
    "\n",
    "### Hinterland \n",
    "Enables code autocompletion menu for every keypress in a code cell, instead of only calling it with the tab. This makes Jupyter notebook’s autocompletion behave like other popular IDEs such as PyCharm.\n",
    "![1_pOEq37eIbKH3AwKgyfDB2w.gif](https://raw.githubusercontent.com/fjvarasc/DSPXI/master/figures/hinterland.gif)"
   ]
  },
  {
   "cell_type": "markdown",
   "metadata": {},
   "source": [
    "### Snippets\n",
    "This extension adds a drop-down menu to the Notebook toolbar that allows easy insertion of code snippet cells into the current notebook.\n",
    "\n",
    "![1_uoxIUbG6m6YiJbjVu77rGQ.gif](https://raw.githubusercontent.com/fjvarasc/DSPXI/master/figures/snippets.gif)"
   ]
  },
  {
   "cell_type": "markdown",
   "metadata": {},
   "source": [
    "### Split Cells Notebook\n",
    "This extension splits the cells of the notebook and places then adjacent to each other.\n",
    "\n",
    "![1_hfWP9Ew62s9VqyITn4eOlQ.gif](https://raw.githubusercontent.com/fjvarasc/DSPXI/master/figures/splitcell.gif)"
   ]
  },
  {
   "cell_type": "markdown",
   "metadata": {},
   "source": [
    "### Table of Contents\n",
    "This extension enables to collect all running headers and display them in a floating window, as a sidebar or with a navigation menu. The extension is also draggable, resizable, collapsible and dockable.\n",
    "\n",
    "![1_eL1m_b937rVRH2RBquSEEQ.gif](https://raw.githubusercontent.com/fjvarasc/DSPXI/master/figures/toc.gif)"
   ]
  },
  {
   "cell_type": "markdown",
   "metadata": {},
   "source": [
    "### Collapsible Headings\n",
    "\n",
    "Collapsible Headings allows the notebook to have collapsible sections, separated by headings. So in case you have a lot of dirty code in your notebook, you can simply collapse it to avoid scrolling it again and again.\n",
    "\n",
    "![1_dl5-xcEdfu3FoX3ttoE3Vw.gif](https://raw.githubusercontent.com/fjvarasc/DSPXI/master/figures/collapse.gif)"
   ]
  },
  {
   "cell_type": "markdown",
   "metadata": {},
   "source": [
    "### Autopep8\n",
    "\n",
    "Autopep8 helps to reformat/prettify the contents of code cells with just a click. If you are tired of hitting the spacebar again and again to format the code, autopep8 is your savior.\n",
    "\n",
    "![1_hO8tQavKgqiyj0ZKFOVSPg.gif](https://raw.githubusercontent.com/fjvarasc/DSPXI/master/figures/autopep.gif)"
   ]
  },
  {
   "cell_type": "markdown",
   "metadata": {},
   "source": [
    "## Jupyter Widgets\n",
    "**Make notebooks interactive**\n",
    "\n",
    "**[Widgets](https://ipywidgets.readthedocs.io/en/stable/examples/Widget%20Basics.html#What-are-widgets?)** are eventful python objects that have a representation in the browser, often as a control like a slider, textbox, etc. Widgets can be used to build `interactive GUIs` for the notebooks.\n",
    "\n",
    "**Installation**\n",
    "\n",
    "**pip**\n",
    "`pip install ipywidget`\n",
    "`jupyter nbextension enable --py widgetsnbextensio`\n",
    "\n",
    "**Conda**\n",
    "`conda install -c conda-forge ipywidget`\n",
    "\n",
    "_Installing ipywidgets with conda automatically enables the extension_\n",
    "\n",
    "Let us have a look at some of the widgets. For complete details, you can visit their **[Github repository](https://github.com/jupyter-widgets/ipywidgets/blob/1223d4128aebe6c8831a034a73d1546a91f5138a/docs/source/examples/Using%20Interact.ipynb)**."
   ]
  },
  {
   "cell_type": "markdown",
   "metadata": {},
   "source": [
    "## Interact\n",
    "The `interact` function (`ipywidgets.interact) automatically creates a user interface (UI) controls for exploring code and data interactively. It is the easiest way to get started using IPython's widgets.\n"
   ]
  },
  {
   "cell_type": "code",
   "execution_count": 7,
   "metadata": {
    "ExecuteTime": {
     "end_time": "2019-03-19T18:51:25.593245Z",
     "start_time": "2019-03-19T18:51:25.578153Z"
    }
   },
   "outputs": [],
   "source": [
    "# Start with some imports!\n",
    "from ipywidgets import interact\n",
    "import ipywidgets as widgets"
   ]
  },
  {
   "cell_type": "markdown",
   "metadata": {},
   "source": [
    "### Basic Widgets"
   ]
  },
  {
   "cell_type": "code",
   "execution_count": 8,
   "metadata": {
    "ExecuteTime": {
     "end_time": "2019-03-19T18:51:25.913041Z",
     "start_time": "2019-03-19T18:51:25.716325Z"
    }
   },
   "outputs": [
    {
     "data": {
      "application/vnd.jupyter.widget-view+json": {
       "model_id": "d55f653c029c4e099d3ebe4c3a1c5a7c",
       "version_major": 2,
       "version_minor": 0
      },
      "text/plain": [
       "interactive(children=(IntSlider(value=10, description='x', max=30, min=-10), Output()), _dom_classes=('widget-…"
      ]
     },
     "metadata": {},
     "output_type": "display_data"
    }
   ],
   "source": [
    "def f(x):\n",
    "    return x\n",
    "# Generate a slider \n",
    "interact(f, x=10,);"
   ]
  },
  {
   "cell_type": "code",
   "execution_count": 9,
   "metadata": {
    "ExecuteTime": {
     "end_time": "2019-03-19T18:51:26.122844Z",
     "start_time": "2019-03-19T18:51:25.926893Z"
    }
   },
   "outputs": [
    {
     "data": {
      "application/vnd.jupyter.widget-view+json": {
       "model_id": "ca57a03d846a4c4fa9ead22336e2ada6",
       "version_major": 2,
       "version_minor": 0
      },
      "text/plain": [
       "interactive(children=(Checkbox(value=True, description='x'), Output()), _dom_classes=('widget-interact',))"
      ]
     },
     "metadata": {},
     "output_type": "display_data"
    }
   ],
   "source": [
    "# Booleans generate check-boxes\n",
    "interact(f, x=True);"
   ]
  },
  {
   "cell_type": "code",
   "execution_count": 10,
   "metadata": {
    "ExecuteTime": {
     "end_time": "2019-03-19T18:51:26.350428Z",
     "start_time": "2019-03-19T18:51:26.135923Z"
    }
   },
   "outputs": [
    {
     "data": {
      "application/vnd.jupyter.widget-view+json": {
       "model_id": "5b78f9852fc640e9b6c61d2289730192",
       "version_major": 2,
       "version_minor": 0
      },
      "text/plain": [
       "interactive(children=(Text(value='Hi there!', description='x'), Output()), _dom_classes=('widget-interact',))"
      ]
     },
     "metadata": {},
     "output_type": "display_data"
    }
   ],
   "source": [
    "# Strings generate text areas\n",
    "interact(f, x='Hi there!');"
   ]
  },
  {
   "cell_type": "markdown",
   "metadata": {},
   "source": [
    "### Advanced Widgets\n",
    "Here is a list of some of the useful advanced widgets."
   ]
  },
  {
   "cell_type": "markdown",
   "metadata": {},
   "source": [
    "**Play Widget**:\n",
    "The Play widget is useful to perform animations by iterating on a sequence of integers at a certain speed. The value of the slider below is linked to the player."
   ]
  },
  {
   "cell_type": "code",
   "execution_count": 11,
   "metadata": {
    "ExecuteTime": {
     "end_time": "2019-03-19T18:51:26.609182Z",
     "start_time": "2019-03-19T18:51:26.366259Z"
    }
   },
   "outputs": [
    {
     "data": {
      "application/vnd.jupyter.widget-view+json": {
       "model_id": "8d99ef0d4c204f2abb1babda5243b160",
       "version_major": 2,
       "version_minor": 0
      },
      "text/plain": [
       "HBox(children=(Play(value=50, description='Press play'), IntSlider(value=0)))"
      ]
     },
     "metadata": {},
     "output_type": "display_data"
    }
   ],
   "source": [
    "play = widgets.Play(\n",
    "    # interval=10,\n",
    "    value=50,\n",
    "    min=0,\n",
    "    max=100,\n",
    "    step=1,\n",
    "    description=\"Press play\",\n",
    "    disabled=False\n",
    ")\n",
    "slider = widgets.IntSlider()\n",
    "widgets.jslink((play, 'value'), (slider, 'value'))\n",
    "widgets.HBox([play, slider])"
   ]
  },
  {
   "cell_type": "markdown",
   "metadata": {},
   "source": [
    "**Date picker**:\n",
    "The date picker widget works in Chrome and IE Edge but does not currently work in Firefox or Safari because they do not support the HTML date input field."
   ]
  },
  {
   "cell_type": "code",
   "execution_count": 12,
   "metadata": {
    "ExecuteTime": {
     "end_time": "2019-03-19T18:51:26.712099Z",
     "start_time": "2019-03-19T18:51:26.623808Z"
    }
   },
   "outputs": [
    {
     "data": {
      "application/vnd.jupyter.widget-view+json": {
       "model_id": "4596c3a098c64afaaa23e540e4015b4b",
       "version_major": 2,
       "version_minor": 0
      },
      "text/plain": [
       "DatePicker(value=None, description='Pick a Date')"
      ]
     },
     "metadata": {},
     "output_type": "display_data"
    }
   ],
   "source": [
    "widgets.DatePicker(\n",
    "    description='Pick a Date',\n",
    "    disabled=False\n",
    ")"
   ]
  },
  {
   "cell_type": "markdown",
   "metadata": {},
   "source": [
    "**Color picker**"
   ]
  },
  {
   "cell_type": "code",
   "execution_count": 13,
   "metadata": {
    "ExecuteTime": {
     "end_time": "2019-03-19T18:51:26.815883Z",
     "start_time": "2019-03-19T18:51:26.723880Z"
    }
   },
   "outputs": [
    {
     "data": {
      "application/vnd.jupyter.widget-view+json": {
       "model_id": "1f26f8aaa06245d19eef8091ba4078eb",
       "version_major": 2,
       "version_minor": 0
      },
      "text/plain": [
       "ColorPicker(value='blue', description='Pick a color')"
      ]
     },
     "metadata": {},
     "output_type": "display_data"
    }
   ],
   "source": [
    "\n",
    "widgets.ColorPicker(\n",
    "    concise=False,\n",
    "    description='Pick a color',\n",
    "    value='blue',\n",
    "    disabled=False\n",
    ")"
   ]
  },
  {
   "cell_type": "markdown",
   "metadata": {
    "ExecuteTime": {
     "end_time": "2019-03-12T01:33:03.639867Z",
     "start_time": "2019-03-12T01:33:03.600265Z"
    }
   },
   "source": [
    "**Tabs**"
   ]
  },
  {
   "cell_type": "code",
   "execution_count": 14,
   "metadata": {
    "ExecuteTime": {
     "end_time": "2019-03-19T18:51:27.241939Z",
     "start_time": "2019-03-19T18:51:26.829822Z"
    }
   },
   "outputs": [
    {
     "data": {
      "application/vnd.jupyter.widget-view+json": {
       "model_id": "1f4208495ebf434ba55d9e73283e0205",
       "version_major": 2,
       "version_minor": 0
      },
      "text/plain": [
       "Tab(children=(Text(value='', description='P0'), Text(value='', description='P1'), Text(value='', description='…"
      ]
     },
     "metadata": {},
     "output_type": "display_data"
    }
   ],
   "source": [
    "tab_contents = ['P0', 'P1', 'P2', 'P3', 'P4']\n",
    "children = [widgets.Text(description=name) for name in tab_contents]\n",
    "tab = widgets.Tab()\n",
    "tab.children = children\n",
    "for i in range(len(children)):\n",
    "    tab.set_title(i, str(i))\n",
    "tab"
   ]
  },
  {
   "cell_type": "markdown",
   "metadata": {},
   "source": [
    "## Qgrid\n",
    "**Make Data frames intuitive**\n",
    "\n",
    "Qgrid is also a Jupyter notebook widget but mainly focussed at dataframes. It uses **[SlickGrid](https://github.com/mleibman/SlickGrid)** to render pandas DataFrames within a Jupyter notebook. This allows you to explore your DataFrames with intuitive scrolling, sorting and filtering controls, as well as edit your DataFrames by double-clicking cells. The **[Github Repository](https://github.com/quantopian/qgrid) contains more details and examples.\n",
    "\n",
    "**Installation**\n",
    "\n",
    "_Installing with pip_\n",
    "\n",
    "`pip install qgrid`\n",
    "\n",
    "`jupyter nbextension enable --py --sys-prefix qgrid`\n",
    "\n",
    "_only required if you have not enabled the ipywidgets nbextension yet_\n",
    "\n",
    "`jupyter nbextension enable --py --sys-prefix widgetsnbextension`\n",
    "\n",
    "_Installing with conda_\n",
    "\n",
    "_only required if you have not added conda-forge to your channels yet_\n",
    "\n",
    "`conda config --add channels conda-forge`\n",
    "\n",
    "`conda install qgrid`\n"
   ]
  },
  {
   "cell_type": "markdown",
   "metadata": {},
   "source": [
    "![1_xGvLi1RhdIdSbCA9cPsS2A.gif](https://raw.githubusercontent.com/fjvarasc/DSPXI/master/figures/qgrid.gif)"
   ]
  },
  {
   "cell_type": "markdown",
   "metadata": {},
   "source": [
    "## Slideshow\n",
    "\n",
    "__Code is great when communicated.__\n",
    "\n",
    "Notebooks are an effective tool for teaching and writing explainable codes. However, when we want to present our work either we display our entire notebook(with all the codes) or we take the help of powerpoint. Not any more. Jupyter Notebooks can be easily converted to slides and we can easily choose what to show and what to hide from the notebooks.\n",
    "\n",
    "There are two ways to convert the notebooks into slides:\n",
    "\n",
    "__Jupyter Notebook’s built-in Slide option__\n",
    "\n",
    "Open a new notebook and navigate to __View → Cell Toolbar → Slideshow__. A light grey bar appears on top of each cell, and you can customize the slides.\n"
   ]
  },
  {
   "cell_type": "markdown",
   "metadata": {
    "ExecuteTime": {
     "end_time": "2019-03-12T01:42:46.484294Z",
     "start_time": "2019-03-12T01:42:45.317191Z"
    }
   },
   "source": [
    "![1_XGQFs1HAJGJwwDAjBioBTA.png](https://raw.githubusercontent.com/fjvarasc/DSPXI/master/figures/slideshow.png)"
   ]
  },
  {
   "cell_type": "markdown",
   "metadata": {
    "ExecuteTime": {
     "end_time": "2019-03-12T01:43:32.115397Z",
     "start_time": "2019-03-12T01:43:32.064040Z"
    }
   },
   "source": [
    "Now go to the directory where the notebook is present and enter the following code:\n",
    "\n",
    "`jupyter nbconvert *.ipynb --to slides --post serve`\n",
    "\n",
    "<div class=\"alert alert-danger\" role=\"alert\">\n",
    "insert your notebook name instead of *.ipynb\n",
    "</div>\n",
    "\n",
    "The slides get displayed at port 8000. Also, a .html file will be generated in the directory, and you can also access the slides from there."
   ]
  },
  {
   "cell_type": "markdown",
   "metadata": {},
   "source": [
    "![1_LLTlslENnI4T8PzQgfvQCw.gif](https://raw.githubusercontent.com/fjvarasc/DSPXI/master/figures/slidedemo.gif)"
   ]
  },
  {
   "cell_type": "markdown",
   "metadata": {},
   "source": [
    "This would look even more classy with a themed background. Let us apply the theme ’**onedork**’ to the notebook and then convert it into a slideshow."
   ]
  },
  {
   "cell_type": "markdown",
   "metadata": {},
   "source": [
    "![1_zQHnS6zAMseailHR3fxVng.gif](https://raw.githubusercontent.com/fjvarasc/DSPXI/master/figures/slideblack.gif)"
   ]
  },
  {
   "cell_type": "markdown",
   "metadata": {
    "ExecuteTime": {
     "end_time": "2019-03-12T01:47:58.007784Z",
     "start_time": "2019-03-12T01:47:57.967279Z"
    }
   },
   "source": [
    "These slides have a drawback i.e. you can see the code but cannot edit it. RISE plugin offers a solution."
   ]
  },
  {
   "cell_type": "markdown",
   "metadata": {},
   "source": [
    "### Using the RISE plugin\n",
    "\n",
    "RISE is an acronym for **Reveal.js — Jupyter/IPython Slideshow Extension**. It utilized the **[reveal.js](https://revealjs.com/#/)** to run the slideshow. This is super useful since it also gives the ability to run the code without having to exit the slideshow.\n",
    "\n",
    "Installation\n",
    "\n",
    "1. Using conda (recommended):\n",
    "\n",
    "`conda install -c damianavila82 rise`\n",
    "\n",
    "2. Using pip (less recommended):\n",
    "\n",
    "`pip install RISE`\n",
    "\n",
    "and then two more steps to install the JS and CSS in the proper places:\n",
    "\n",
    "`jupyter-nbextension install rise --py --sys-prefix`\n",
    "\n",
    "enable the nbextension:\n",
    "\n",
    "`jupyter-nbextension enable rise --py --sys-prefix`\n",
    "\n",
    "Let us now use RISE for the interactive slideshow. We shall re-open the Jupyter Notebook we created earlier. Now we notice a new extension that says “Enter/Exit RISE Slideshow.”"
   ]
  },
  {
   "cell_type": "markdown",
   "metadata": {},
   "source": [
    "![1_Qk2uM_31dZDwBokBidXwcQ.png](https://raw.githubusercontent.com/fjvarasc/DSPXI/master/figures/rise.png)"
   ]
  },
  {
   "cell_type": "markdown",
   "metadata": {},
   "source": [
    "Click on it, and you are good to go. Welcome to the world of interactive slides."
   ]
  },
  {
   "cell_type": "markdown",
   "metadata": {},
   "source": [
    "![1_7SQXN0n_H9NNOGQ3GNgTAw.gif](https://raw.githubusercontent.com/fjvarasc/DSPXI/master/figures/rise.gif)"
   ]
  },
  {
   "cell_type": "markdown",
   "metadata": {},
   "source": [
    "Refer to the **[documentation](https://rise.readthedocs.io/en/docs_hot_fixes/customize.html)** for more information."
   ]
  },
  {
   "cell_type": "markdown",
   "metadata": {},
   "source": [
    "## Embedding URLs, PDFs, and Youtube Videos\n",
    "**Display it right there!**\n",
    "\n",
    "Why go with mere links when you can easily embed an URL, pdf, and videos into your Jupyter Notebooks using IPython’s display module.\n",
    "\n",
    "**URLs**"
   ]
  },
  {
   "cell_type": "code",
   "execution_count": 15,
   "metadata": {
    "ExecuteTime": {
     "end_time": "2019-03-19T18:51:28.595246Z",
     "start_time": "2019-03-19T18:51:28.569961Z"
    }
   },
   "outputs": [
    {
     "data": {
      "text/html": [
       "\n",
       "        <iframe\n",
       "            width=\"800\"\n",
       "            height=\"450\"\n",
       "            src=\"https://en.wikipedia.org/wiki/HTTPS\"\n",
       "            frameborder=\"0\"\n",
       "            allowfullscreen\n",
       "        ></iframe>\n",
       "        "
      ],
      "text/plain": [
       "<IPython.lib.display.IFrame at 0x6b1e8170>"
      ]
     },
     "execution_count": 15,
     "metadata": {},
     "output_type": "execute_result"
    }
   ],
   "source": [
    "#Note that http urls will not be displayed. Only https are allowed inside the Iframe\n",
    "from IPython.display import IFrame\n",
    "IFrame('https://en.wikipedia.org/wiki/HTTPS', width=800, height=450)"
   ]
  },
  {
   "cell_type": "markdown",
   "metadata": {},
   "source": [
    "**PDFs**"
   ]
  },
  {
   "cell_type": "code",
   "execution_count": 16,
   "metadata": {
    "ExecuteTime": {
     "end_time": "2019-03-19T18:51:28.717665Z",
     "start_time": "2019-03-19T18:51:28.694485Z"
    }
   },
   "outputs": [
    {
     "data": {
      "text/html": [
       "\n",
       "        <iframe\n",
       "            width=\"800\"\n",
       "            height=\"450\"\n",
       "            src=\"https://arxiv.org/pdf/1406.2661.pdf\"\n",
       "            frameborder=\"0\"\n",
       "            allowfullscreen\n",
       "        ></iframe>\n",
       "        "
      ],
      "text/plain": [
       "<IPython.lib.display.IFrame at 0x6b1e8430>"
      ]
     },
     "execution_count": 16,
     "metadata": {},
     "output_type": "execute_result"
    }
   ],
   "source": [
    "from IPython.display import IFrame\n",
    "IFrame('https://arxiv.org/pdf/1406.2661.pdf', width=800, height=450)"
   ]
  },
  {
   "cell_type": "markdown",
   "metadata": {
    "ExecuteTime": {
     "end_time": "2019-03-12T01:58:10.749284Z",
     "start_time": "2019-03-12T01:58:10.714633Z"
    }
   },
   "source": [
    "**Youtube Videos**"
   ]
  },
  {
   "cell_type": "code",
   "execution_count": 17,
   "metadata": {
    "ExecuteTime": {
     "end_time": "2019-03-19T18:51:29.320226Z",
     "start_time": "2019-03-19T18:51:28.837452Z"
    }
   },
   "outputs": [
    {
     "data": {
      "image/jpeg": "[encoded data removed]",
      "text/html": [
       "\n",
       "        <iframe\n",
       "            width=\"800\"\n",
       "            height=\"500\"\n",
       "            src=\"https://www.youtube.com/embed/mJeNghZXtMo\"\n",
       "            frameborder=\"0\"\n",
       "            allowfullscreen\n",
       "        ></iframe>\n",
       "        "
      ],
      "text/plain": [
       "<IPython.lib.display.YouTubeVideo at 0x6b1e82b0>"
      ]
     },
     "execution_count": 17,
     "metadata": {},
     "output_type": "execute_result"
    }
   ],
   "source": [
    "from IPython.display import YouTubeVideo\n",
    "YouTubeVideo('mJeNghZXtMo', width=800, height=500)"
   ]
  },
  {
   "cell_type": "markdown",
   "metadata": {},
   "source": [
    "# Final Thoughts\n",
    "Starting with the basics, we have come to grips with the natural workflow of Jupyter Notebooks, delved into IPython's more advanced features, and finally learned how to share our work with friends, colleagues, and the world. And we accomplished all this from a notebook itself!\n",
    "\n",
    "It should be clear how notebooks promote a productive working experience by reducing context switching and emulating a natural development of thoughts during a project. The power of Jupyter Notebooks should also be evident, and we covered plenty of leads to get you started exploring more advanced features in your own projects.\n",
    "\n",
    "If you'd like further inspiration for your own Notebooks, Jupyter has put together a **[gallery of interesting Jupyter Notebooks](https://github.com/jupyter/jupyter/wiki/A-gallery-of-interesting-Jupyter-Notebooks)** that you may find helpful and the **[Nbviewer homepage](https://nbviewer.jupyter.org/)** links to some really fancy examples of quality notebooks. Also check out our list of **[Jupyter Notebook tips](https://www.dataquest.io/blog/jupyter-notebook-tips-tricks-shortcuts/)**.\n",
    "\n",
    "# Closing Words\n",
    "These were some of the features of the Jupyter Notebooks that I found useful and worth sharing. Some of them would be obvious to you while some may be new. So, go ahead and experiment with them. Hopefully, they will be able to save you some time and give you a better UI experience. Also feel free to suggest other useful features in the comments."
   ]
  }
 ],
 "metadata": {
  "_draft": {
   "nbviewer_url": "https://gist.github.com/e12cedb98338a0ecf3ba52e7d386d7ba"
  },
  "gist": {
   "data": {
    "description": "Module1/01 - Intro/01.02_Jupiter_Notebook_applied_to_data_science.ipynb",
    "public": true
   },
   "id": "e12cedb98338a0ecf3ba52e7d386d7ba"
  },
  "kernelspec": {
   "display_name": "Python 3",
   "language": "python",
   "name": "dspxi"
  },
  "language_info": {
   "codemirror_mode": {
    "name": "ipython",
    "version": 3
   },
   "file_extension": ".py",
   "mimetype": "text/x-python",
   "name": "python",
   "nbconvert_exporter": "python",
   "pygments_lexer": "ipython3",
   "version": "3.6.8"
  },
  "toc": {
   "base_numbering": 1,
   "nav_menu": {},
   "number_sections": false,
   "sideBar": true,
   "skip_h1_title": false,
   "title_cell": "Table of Contents",
   "title_sidebar": "Jupyter Notebook Intro",
   "toc_cell": true,
   "toc_position": {
    "height": "807px",
    "left": "1277px",
    "top": "118px",
    "width": "336px"
   },
   "toc_section_display": true,
   "toc_window_display": true
  },
  "varInspector": {
   "cols": {
    "lenName": 16,
    "lenType": 16,
    "lenVar": 40
   },
   "kernels_config": {
    "python": {
     "delete_cmd_postfix": "",
     "delete_cmd_prefix": "del ",
     "library": "var_list.py",
     "varRefreshCmd": "print(var_dic_list())"
    },
    "r": {
     "delete_cmd_postfix": ") ",
     "delete_cmd_prefix": "rm(",
     "library": "var_list.r",
     "varRefreshCmd": "cat(var_dic_list()) "
    }
   },
   "types_to_exclude": [
    "module",
    "function",
    "builtin_function_or_method",
    "instance",
    "_Feature"
   ],
   "window_display": false
  }
 },
 "nbformat": 4,
 "nbformat_minor": 2
}
