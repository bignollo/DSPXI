{
 "cells": [
  {
   "cell_type": "markdown",
   "metadata": {},
   "source": [
    "![image.png](https://raw.githubusercontent.com/fjvarasc/DSPXI/master/figures/py_logo.png)"
   ]
  },
  {
   "cell_type": "markdown",
   "metadata": {
    "toc": true
   },
   "source": [
    "<h1>Table of Contents<span class=\"tocSkip\"></span></h1>\n",
    "<div class=\"toc\"><ul class=\"toc-item\"><li><span><a href=\"#Python-Over-the-years\" data-toc-modified-id=\"Python-Over-the-years-1\">Python Over the years</a></span></li><li><span><a href=\"#Python-Features\" data-toc-modified-id=\"Python-Features-2\">Python Features</a></span></li><li><span><a href=\"#Libraries,-What-are-they?\" data-toc-modified-id=\"Libraries,-What-are-they?-3\">Libraries, What are they?</a></span></li><li><span><a href=\"#Useful-Libraries\" data-toc-modified-id=\"Useful-Libraries-4\">Useful Libraries</a></span></li><li><span><a href=\"#Where-is-python-used?\" data-toc-modified-id=\"Where-is-python-used?-5\">Where is python used?</a></span><ul class=\"toc-item\"><li><span><a href=\"#Top-eight-most-popular-programming-languages-(TIOBE-Programming-Community-Index-2013)\" data-toc-modified-id=\"Top-eight-most-popular-programming-languages-(TIOBE-Programming-Community-Index-2013)-5.1\">Top eight most popular programming languages (TIOBE Programming Community Index 2013)</a></span></li><li><span><a href=\"#Application-areas\" data-toc-modified-id=\"Application-areas-5.2\">Application areas</a></span></li></ul></li><li><span><a href=\"#Language-comparison\" data-toc-modified-id=\"Language-comparison-6\">Language comparison</a></span></li><li><span><a href=\"#Python-&amp;-VBA\" data-toc-modified-id=\"Python-&amp;-VBA-7\">Python &amp; VBA</a></span></li></ul></div>"
   ]
  },
  {
   "cell_type": "markdown",
   "metadata": {
    "collapsed": true
   },
   "source": [
    "# Python Over the years\n",
    "\n",
    "* Invented in the Netherlands, early 90s by Guido van Rossum\n",
    "* Open sourced from the beginning\n",
    "* Considered a scripting language, but is much more\n",
    "* Scalable, object oriented and functional from the beginning\n",
    "* Used by Google\n",
    "* Increasingly popular"
   ]
  },
  {
   "cell_type": "markdown",
   "metadata": {
    "collapsed": true
   },
   "source": [
    "# Python Features\n",
    "\n",
    "* Free and Open source programming language - Huge active community\n",
    "* Dynamic language, often used as a scripting language\n",
    "* High-level programming language\n",
    "* Medium complexity to program in Python\n",
    "* Can be packaged into standalone executable programs\n",
    "* Has an extensive set of libraries(“batteries included”: 32,500 libraries...)\n",
    "* No variable type declaration\n",
    "* Object oriented programing\n",
    "* Wide portability\n",
    "* Python is pre-installed on most Unix systems, including Linux and MAC OS X\n",
    "* Work across operative systems\n"
   ]
  },
  {
   "cell_type": "markdown",
   "metadata": {
    "collapsed": true
   },
   "source": [
    "# Libraries, What are they?\n",
    "\n",
    "* “Libraries\" are files containing Python definitions and statements (ex. name.py)\n",
    "* A library’s definitions can be imported into other library by using “import name”\n",
    "* The library’s name is available as a global variable value\n",
    "* To access a library’s functions, type “name.function()”\n",
    "* Library can contain executable statements along with function definitions\n",
    "* Each library has its own private symbol table used as the global symbol table by all functions in the module\n",
    "* Library can import other library\n",
    "* Each library is imported once per interpreter session\n",
    "\n",
    "More on :http://docs.python.org/tutorial/modules.html\n"
   ]
  },
  {
   "cell_type": "markdown",
   "metadata": {
    "collapsed": true
   },
   "source": [
    "# Useful Libraries\n",
    "\n",
    "<img src='https://raw.githubusercontent.com/fjvarasc/DSPXI/master/figures/Useful_Libs.png' width=\"600\" height=\"200\" />\n"
   ]
  },
  {
   "cell_type": "markdown",
   "metadata": {
    "collapsed": true
   },
   "source": [
    "# Where is python used?\n",
    "\n",
    "## Top eight most popular programming languages (TIOBE Programming Community Index 2013)\n",
    "\n",
    "* Scientific computing: NumPy, SciPy, Panda and Matplotlib\n",
    "* Artificial Intelligence, Machine Learning, Neural networks (scikit-learn, Pybrain…)\n",
    "* Communications between computers (Twisted used for Dropbox)\n",
    "* Web applications (for Apache using Django framework)\n",
    "* Relational Database API (ODBC, specific drivers…), BigData parser (oauth via Twitter…)\n",
    "* Used in large organizations like Yahoo!, CERN, NASA, ILM…\n",
    "\n",
    "## Application areas\n",
    "\n",
    "* Shell Tools : System admin tools, Command lines programs\n",
    "* Rapid prototyping and development\n",
    "* Graphical user interfaces\n",
    "* Database Access scripts.\n",
    "* Internet scripting (Webcrawlers)\n",
    "* Technical forensics tasks\n",
    "* Mathematical models solutions\n",
    "* Big Data projects\n",
    "* Hardware control trough Arduino platform \n",
    "* Raspberry pi hardware scripts\n",
    "* Robotics\n",
    "\n",
    "For  more details please visit : <br>\n",
    "http://pypl.github.io/PYPL.html <br>\n",
    "https://www.tiobe.com/tiobe-index/\n"
   ]
  },
  {
   "cell_type": "markdown",
   "metadata": {
    "collapsed": true
   },
   "source": [
    "# Language comparison\n",
    "\n",
    "<img src='https://raw.githubusercontent.com/fjvarasc/DSPXI/master/figures/lang_comp.png' width=\"600\" height=\"200\" />\n"
   ]
  },
  {
   "cell_type": "markdown",
   "metadata": {
    "collapsed": true
   },
   "source": [
    "# Python & VBA\n",
    "<img src='https://raw.githubusercontent.com/fjvarasc/DSPXI/master/figures/py_vba.png' width=\"600\" height=\"200\" />"
   ]
  },
  {
   "cell_type": "markdown",
   "metadata": {},
   "source": [
    "Now some examples on the 2 programming languages:"
   ]
  },
  {
   "cell_type": "markdown",
   "metadata": {
    "collapsed": true
   },
   "source": [
    "<img src='https://raw.githubusercontent.com/fjvarasc/DSPXI/master/figures/lang_comp2.png' width=\"600\" height=\"200\"/>"
   ]
  }
 ],
 "metadata": {
  "_draft": {
   "nbviewer_url": "https://gist.github.com/4639a72e1d51b68b3ae5f2db51d661b5"
  },
  "gist": {
   "data": {
    "description": "Module1/01_Introduction_Python_Module.ipynb",
    "public": false
   },
   "id": "4639a72e1d51b68b3ae5f2db51d661b5"
  },
  "kernelspec": {
   "display_name": "Python 3",
   "language": "python",
   "name": "dspxi"
  },
  "language_info": {
   "codemirror_mode": {
    "name": "ipython",
    "version": 3
   },
   "file_extension": ".py",
   "mimetype": "text/x-python",
   "name": "python",
   "nbconvert_exporter": "python",
   "pygments_lexer": "ipython3",
   "version": "3.6.8"
  },
  "toc": {
   "base_numbering": 1,
   "nav_menu": {},
   "number_sections": false,
   "sideBar": true,
   "skip_h1_title": false,
   "title_cell": "Table of Contents",
   "title_sidebar": "Contents",
   "toc_cell": true,
   "toc_position": {
    "height": "calc(100% - 180px)",
    "left": "10px",
    "top": "150px",
    "width": "288px"
   },
   "toc_section_display": true,
   "toc_window_display": true
  },
  "varInspector": {
   "cols": {
    "lenName": 16,
    "lenType": 16,
    "lenVar": 40
   },
   "kernels_config": {
    "python": {
     "delete_cmd_postfix": "",
     "delete_cmd_prefix": "del ",
     "library": "var_list.py",
     "varRefreshCmd": "print(var_dic_list())"
    },
    "r": {
     "delete_cmd_postfix": ") ",
     "delete_cmd_prefix": "rm(",
     "library": "var_list.r",
     "varRefreshCmd": "cat(var_dic_list()) "
    }
   },
   "types_to_exclude": [
    "module",
    "function",
    "builtin_function_or_method",
    "instance",
    "_Feature"
   ],
   "window_display": false
  }
 },
 "nbformat": 4,
 "nbformat_minor": 2
}
