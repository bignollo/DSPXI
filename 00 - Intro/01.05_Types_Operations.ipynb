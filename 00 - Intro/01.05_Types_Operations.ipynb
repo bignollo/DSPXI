{
 "cells": [
  {
   "cell_type": "markdown",
   "metadata": {},
   "source": [
    "![image.png](https://raw.githubusercontent.com/fjvarasc/DSPXI/master/figures/python_logo.png)"
   ]
  },
  {
   "cell_type": "markdown",
   "metadata": {
    "toc": true
   },
   "source": [
    "<h1>Table of Contents<span class=\"tocSkip\"></span></h1>\n",
    "<div class=\"toc\"><ul class=\"toc-item\"><li><span><a href=\"#Variables-Types\" data-toc-modified-id=\"Variables-Types-1\">Variables Types</a></span><ul class=\"toc-item\"><li><span><a href=\"#Assigning-Values-to-Variables\" data-toc-modified-id=\"Assigning-Values-to-Variables-1.1\">Assigning Values to Variables</a></span></li><li><span><a href=\"#Standard-Data-Types\" data-toc-modified-id=\"Standard-Data-Types-1.2\">Standard Data Types</a></span></li></ul></li><li><span><a href=\"#Python-Numbers\" data-toc-modified-id=\"Python-Numbers-2\">Python Numbers</a></span><ul class=\"toc-item\"><li><span><a href=\"#Number-Type-Conversion\" data-toc-modified-id=\"Number-Type-Conversion-2.1\">Number Type Conversion</a></span></li><li><span><a href=\"#Mathematical-Functions\" data-toc-modified-id=\"Mathematical-Functions-2.2\">Mathematical Functions</a></span><ul class=\"toc-item\"><li><span><a href=\"#abs(x)-:\" data-toc-modified-id=\"abs(x)-:-2.2.1\">abs(x) :</a></span></li><li><span><a href=\"#ceil(x)-:\" data-toc-modified-id=\"ceil(x)-:-2.2.2\">ceil(x) :</a></span></li><li><span><a href=\"#exp(x)-:\" data-toc-modified-id=\"exp(x)-:-2.2.3\">exp(x) :</a></span></li><li><span><a href=\"#fabs(x)-:\" data-toc-modified-id=\"fabs(x)-:-2.2.4\">fabs(x) :</a></span></li><li><span><a href=\"#floor(x)-:\" data-toc-modified-id=\"floor(x)-:-2.2.5\">floor(x) :</a></span></li><li><span><a href=\"#log(x)-:\" data-toc-modified-id=\"log(x)-:-2.2.6\">log(x) :</a></span></li><li><span><a href=\"#log10(x)-:\" data-toc-modified-id=\"log10(x)-:-2.2.7\">log10(x) :</a></span></li><li><span><a href=\"#max(x1,-x2,...)-:\" data-toc-modified-id=\"max(x1,-x2,...)-:-2.2.8\">max(x1, x2,...) :</a></span></li><li><span><a href=\"#min(x1,-x2,...)-:\" data-toc-modified-id=\"min(x1,-x2,...)-:-2.2.9\">min(x1, x2,...) :</a></span></li><li><span><a href=\"#modf(x)-:\" data-toc-modified-id=\"modf(x)-:-2.2.10\">modf(x) :</a></span></li><li><span><a href=\"#pow(x,-y)-:\" data-toc-modified-id=\"pow(x,-y)-:-2.2.11\">pow(x, y) :</a></span></li><li><span><a href=\"#round(x-[,n])-:\" data-toc-modified-id=\"round(x-[,n])-:-2.2.12\">round(x [,n]) :</a></span></li><li><span><a href=\"#sqrt(x)-:-The-square-root-of-x-for-x-&gt;-0\" data-toc-modified-id=\"sqrt(x)-:-The-square-root-of-x-for-x->-0-2.2.13\">sqrt(x) : The square root of x for x &gt; 0</a></span></li></ul></li><li><span><a href=\"#Random-Number-Functions\" data-toc-modified-id=\"Random-Number-Functions-2.3\">Random Number Functions</a></span><ul class=\"toc-item\"><li><span><a href=\"#choice(seq)-:\" data-toc-modified-id=\"choice(seq)-:-2.3.1\">choice(seq) :</a></span></li><li><span><a href=\"#randrange-(start,-stop-,step)-:\" data-toc-modified-id=\"randrange-(start,-stop-,step)-:-2.3.2\">randrange (start, stop ,step) :</a></span></li><li><span><a href=\"#random()-:\" data-toc-modified-id=\"random()-:-2.3.3\">random() :</a></span></li><li><span><a href=\"#seed(x)-:\" data-toc-modified-id=\"seed(x)-:-2.3.4\">seed(x) :</a></span></li><li><span><a href=\"#shuffle(list)-:\" data-toc-modified-id=\"shuffle(list)-:-2.3.5\">shuffle(list) :</a></span></li><li><span><a href=\"#uniform(x,-y)-:\" data-toc-modified-id=\"uniform(x,-y)-:-2.3.6\">uniform(x, y) :</a></span></li></ul></li><li><span><a href=\"#Trigonometric-Functions\" data-toc-modified-id=\"Trigonometric-Functions-2.4\">Trigonometric Functions</a></span><ul class=\"toc-item\"><li><span><a href=\"#acos(x)-:\" data-toc-modified-id=\"acos(x)-:-2.4.1\">acos(x) :</a></span></li><li><span><a href=\"#asin(x)-:\" data-toc-modified-id=\"asin(x)-:-2.4.2\">asin(x) :</a></span></li><li><span><a href=\"#atan(x)-:-Return-the-arc-tangent-of-x,-in-radians.\" data-toc-modified-id=\"atan(x)-:-Return-the-arc-tangent-of-x,-in-radians.-2.4.3\">atan(x) : Return the arc tangent of x, in radians.</a></span></li><li><span><a href=\"#atan2(y,-x)-:-Return-atan(y-/-x),-in-radians.\" data-toc-modified-id=\"atan2(y,-x)-:-Return-atan(y-/-x),-in-radians.-2.4.4\">atan2(y, x) : Return atan(y / x), in radians.</a></span></li><li><span><a href=\"#cos(x)-:\" data-toc-modified-id=\"cos(x)-:-2.4.5\">cos(x) :</a></span></li><li><span><a href=\"#hypot(x,-y)-:\" data-toc-modified-id=\"hypot(x,-y)-:-2.4.6\">hypot(x, y) :</a></span></li><li><span><a href=\"#sin(x)-:\" data-toc-modified-id=\"sin(x)-:-2.4.7\">sin(x) :</a></span></li><li><span><a href=\"#tan(x)-:\" data-toc-modified-id=\"tan(x)-:-2.4.8\">tan(x) :</a></span></li><li><span><a href=\"#degrees(x)-:\" data-toc-modified-id=\"degrees(x)-:-2.4.9\">degrees(x) :</a></span></li><li><span><a href=\"#radians(x)-:\" data-toc-modified-id=\"radians(x)-:-2.4.10\">radians(x) :</a></span></li><li><span><a href=\"#Mathematical-Constants\" data-toc-modified-id=\"Mathematical-Constants-2.4.11\">Mathematical Constants</a></span></li></ul></li></ul></li><li><span><a href=\"#Python-Strings\" data-toc-modified-id=\"Python-Strings-3\">Python Strings</a></span><ul class=\"toc-item\"><li><span><a href=\"#Accessing-Values-in-Strings\" data-toc-modified-id=\"Accessing-Values-in-Strings-3.1\">Accessing Values in Strings</a></span></li><li><span><a href=\"#Updating-Strings\" data-toc-modified-id=\"Updating-Strings-3.2\">Updating Strings</a></span></li><li><span><a href=\"#String-Formatting-Operator\" data-toc-modified-id=\"String-Formatting-Operator-3.3\">String Formatting Operator</a></span></li><li><span><a href=\"#Triple-Quotes\" data-toc-modified-id=\"Triple-Quotes-3.4\">Triple Quotes</a></span></li><li><span><a href=\"#Built-in-String-Methods\" data-toc-modified-id=\"Built-in-String-Methods-3.5\">Built-in String Methods</a></span><ul class=\"toc-item\"><li><span><a href=\"#capitalize()\" data-toc-modified-id=\"capitalize()-3.5.1\">capitalize()</a></span></li><li><span><a href=\"#center(width,-fillchar)\" data-toc-modified-id=\"center(width,-fillchar)-3.5.2\">center(width, fillchar)</a></span></li><li><span><a href=\"#count(str,-beg=-0,end=len(string))\" data-toc-modified-id=\"count(str,-beg=-0,end=len(string))-3.5.3\">count(str, beg= 0,end=len(string))</a></span></li><li><span><a href=\"#endswith(suffix,-beg=0,-end=len(string))\" data-toc-modified-id=\"endswith(suffix,-beg=0,-end=len(string))-3.5.4\">endswith(suffix, beg=0, end=len(string))</a></span></li><li><span><a href=\"#expandtabs(tabsize=8)\" data-toc-modified-id=\"expandtabs(tabsize=8)-3.5.5\">expandtabs(tabsize=8)</a></span></li><li><span><a href=\"#find(str,-beg=0-end=len(string))\" data-toc-modified-id=\"find(str,-beg=0-end=len(string))-3.5.6\">find(str, beg=0 end=len(string))</a></span></li><li><span><a href=\"#index(str,-beg=0,-end=len(string))\" data-toc-modified-id=\"index(str,-beg=0,-end=len(string))-3.5.7\">index(str, beg=0, end=len(string))</a></span></li><li><span><a href=\"#isalnum()\" data-toc-modified-id=\"isalnum()-3.5.8\">isalnum()</a></span></li><li><span><a href=\"#isalpha()\" data-toc-modified-id=\"isalpha()-3.5.9\">isalpha()</a></span></li><li><span><a href=\"#isdigit()\" data-toc-modified-id=\"isdigit()-3.5.10\">isdigit()</a></span></li><li><span><a href=\"#islower()\" data-toc-modified-id=\"islower()-3.5.11\">islower()</a></span></li><li><span><a href=\"#isnumeric()\" data-toc-modified-id=\"isnumeric()-3.5.12\">isnumeric()</a></span></li><li><span><a href=\"#isspace()\" data-toc-modified-id=\"isspace()-3.5.13\">isspace()</a></span></li><li><span><a href=\"#istitle()\" data-toc-modified-id=\"istitle()-3.5.14\">istitle()</a></span></li><li><span><a href=\"#isupper()\" data-toc-modified-id=\"isupper()-3.5.15\">isupper()</a></span></li><li><span><a href=\"#join(seq)\" data-toc-modified-id=\"join(seq)-3.5.16\">join(seq)</a></span></li><li><span><a href=\"#len(string)\" data-toc-modified-id=\"len(string)-3.5.17\">len(string)</a></span></li><li><span><a href=\"#ljust(width,-fillchar)\" data-toc-modified-id=\"ljust(width,-fillchar)-3.5.18\">ljust(width, fillchar)</a></span></li><li><span><a href=\"#lower()\" data-toc-modified-id=\"lower()-3.5.19\">lower()</a></span></li><li><span><a href=\"#lstrip()\" data-toc-modified-id=\"lstrip()-3.5.20\">lstrip()</a></span></li><li><span><a href=\"#max(str)\" data-toc-modified-id=\"max(str)-3.5.21\">max(str)</a></span></li><li><span><a href=\"#min(str)\" data-toc-modified-id=\"min(str)-3.5.22\">min(str)</a></span></li><li><span><a href=\"#replace(old,-new-,-max)\" data-toc-modified-id=\"replace(old,-new-,-max)-3.5.23\">replace(old, new , max)</a></span></li><li><span><a href=\"#rfind(str,-beg=0,end=len(string))\" data-toc-modified-id=\"rfind(str,-beg=0,end=len(string))-3.5.24\">rfind(str, beg=0,end=len(string))</a></span></li><li><span><a href=\"#rindex(-str,-beg=0,-end=len(string))\" data-toc-modified-id=\"rindex(-str,-beg=0,-end=len(string))-3.5.25\">rindex( str, beg=0, end=len(string))</a></span></li><li><span><a href=\"#rjust(width,fillchar)\" data-toc-modified-id=\"rjust(width,fillchar)-3.5.26\">rjust(width,fillchar)</a></span></li><li><span><a href=\"#rstrip()\" data-toc-modified-id=\"rstrip()-3.5.27\">rstrip()</a></span></li><li><span><a href=\"#split(str=&quot;&quot;,-num=string.count(str))\" data-toc-modified-id=\"split(str=&quot;&quot;,-num=string.count(str))-3.5.28\">split(str=\"\", num=string.count(str))</a></span></li><li><span><a href=\"#splitlines(-num=string.count('\\n'))\" data-toc-modified-id=\"splitlines(-num=string.count('\\n'))-3.5.29\">splitlines( num=string.count('\\n'))</a></span></li><li><span><a href=\"#startswith(str,-beg=0,end=len(string))\" data-toc-modified-id=\"startswith(str,-beg=0,end=len(string))-3.5.30\">startswith(str, beg=0,end=len(string))</a></span></li><li><span><a href=\"#strip(chars)\" data-toc-modified-id=\"strip(chars)-3.5.31\">strip(chars)</a></span></li><li><span><a href=\"#swapcase()\" data-toc-modified-id=\"swapcase()-3.5.32\">swapcase()</a></span></li><li><span><a href=\"#title()\" data-toc-modified-id=\"title()-3.5.33\">title()</a></span></li><li><span><a href=\"#upper()\" data-toc-modified-id=\"upper()-3.5.34\">upper()</a></span></li><li><span><a href=\"#zfill-(width)\" data-toc-modified-id=\"zfill-(width)-3.5.35\">zfill (width)</a></span></li><li><span><a href=\"#isdecimal()\" data-toc-modified-id=\"isdecimal()-3.5.36\">isdecimal()</a></span></li></ul></li></ul></li><li><span><a href=\"#Python-Lists\" data-toc-modified-id=\"Python-Lists-4\">Python Lists</a></span><ul class=\"toc-item\"><li><span><a href=\"#Creating-a-list\" data-toc-modified-id=\"Creating-a-list-4.1\">Creating a list</a></span></li><li><span><a href=\"#Update-List\" data-toc-modified-id=\"Update-List-4.2\">Update List</a></span></li><li><span><a href=\"#Remove\" data-toc-modified-id=\"Remove-4.3\">Remove</a></span></li><li><span><a href=\"#List-Operators\" data-toc-modified-id=\"List-Operators-4.4\">List Operators</a></span></li><li><span><a href=\"#Index/Slice\" data-toc-modified-id=\"Index/Slice-4.5\">Index/Slice</a></span></li><li><span><a href=\"#Built-in-List-Functions-&amp;-Methods\" data-toc-modified-id=\"Built-in-List-Functions-&amp;-Methods-4.6\">Built-in List Functions &amp; Methods</a></span><ul class=\"toc-item\"><li><span><a href=\"#len(list)\" data-toc-modified-id=\"len(list)-4.6.1\">len(list)</a></span></li><li><span><a href=\"#max(list)\" data-toc-modified-id=\"max(list)-4.6.2\">max(list)</a></span></li><li><span><a href=\"#min(list)\" data-toc-modified-id=\"min(list)-4.6.3\">min(list)</a></span></li><li><span><a href=\"#list.append(obj)\" data-toc-modified-id=\"list.append(obj)-4.6.4\">list.append(obj)</a></span></li><li><span><a href=\"#list.count(obj)\" data-toc-modified-id=\"list.count(obj)-4.6.5\">list.count(obj)</a></span></li><li><span><a href=\"#list.extend(seq)\" data-toc-modified-id=\"list.extend(seq)-4.6.6\">list.extend(seq)</a></span></li><li><span><a href=\"#list.index(obj)\" data-toc-modified-id=\"list.index(obj)-4.6.7\">list.index(obj)</a></span></li><li><span><a href=\"#list.insert(index,-obj)\" data-toc-modified-id=\"list.insert(index,-obj)-4.6.8\">list.insert(index, obj)</a></span></li><li><span><a href=\"#list.pop(obj=list[-1])\" data-toc-modified-id=\"list.pop(obj=list[-1])-4.6.9\">list.pop(obj=list[-1])</a></span></li><li><span><a href=\"#list.remove(obj)\" data-toc-modified-id=\"list.remove(obj)-4.6.10\">list.remove(obj)</a></span></li><li><span><a href=\"#list.reverse()\" data-toc-modified-id=\"list.reverse()-4.6.11\">list.reverse()</a></span></li><li><span><a href=\"#list.sort(func)\" data-toc-modified-id=\"list.sort(func)-4.6.12\">list.sort(func)</a></span></li></ul></li></ul></li><li><span><a href=\"#Python-Tuples\" data-toc-modified-id=\"Python-Tuples-5\">Python Tuples</a></span><ul class=\"toc-item\"><li><span><a href=\"#Accessing-Values-in-Tuples\" data-toc-modified-id=\"Accessing-Values-in-Tuples-5.1\">Accessing Values in Tuples</a></span></li><li><span><a href=\"#Delete-Tuple-Elements\" data-toc-modified-id=\"Delete-Tuple-Elements-5.2\">Delete Tuple Elements</a></span></li><li><span><a href=\"#Python-Dictionary\" data-toc-modified-id=\"Python-Dictionary-5.3\">Python Dictionary</a></span></li></ul></li><li><span><a href=\"#Classes\" data-toc-modified-id=\"Classes-6\">Classes</a></span><ul class=\"toc-item\"><li><span><a href=\"#Accessing-Object-Variables\" data-toc-modified-id=\"Accessing-Object-Variables-6.1\">Accessing Object Variables</a></span></li><li><span><a href=\"#Accessing-Object-Functions\" data-toc-modified-id=\"Accessing-Object-Functions-6.2\">Accessing Object Functions</a></span></li></ul></li><li><span><a href=\"#Data-Type-Conversion\" data-toc-modified-id=\"Data-Type-Conversion-7\">Data Type Conversion</a></span></li><li><span><a href=\"#Types-of-Operators\" data-toc-modified-id=\"Types-of-Operators-8\">Types of Operators</a></span><ul class=\"toc-item\"><li><span><a href=\"#Arithmetic-Operators\" data-toc-modified-id=\"Arithmetic-Operators-8.1\">Arithmetic Operators</a></span></li><li><span><a href=\"#Addition-:\" data-toc-modified-id=\"Addition-:-8.2\">Addition :</a></span></li><li><span><a href=\"#Substraction-:\" data-toc-modified-id=\"Substraction-:-8.3\">Substraction :</a></span></li><li><span><a href=\"#Multiplication-:\" data-toc-modified-id=\"Multiplication-:-8.4\">Multiplication :</a></span></li><li><span><a href=\"#Comparison-Operators\" data-toc-modified-id=\"Comparison-Operators-8.5\">Comparison Operators</a></span></li></ul></li></ul></div>"
   ]
  },
  {
   "cell_type": "markdown",
   "metadata": {},
   "source": [
    "# Variables Types\n",
    "\n",
    "Variables are nothing but reserved memory locations to store values. This means that when you create a variable you reserve some space in memory.\n",
    "\n",
    "Based on the data type of a variable, the interpreter allocates memory and decides what can be stored in the reserved memory. Therefore, by assigning different data types to variables, you can store integers, decimals or characters in these variables."
   ]
  },
  {
   "cell_type": "markdown",
   "metadata": {},
   "source": [
    "## Assigning Values to Variables\n",
    "\n",
    "Python variables do not need explicit declaration to reserve memory space. The declaration happens automatically when you assign a value to a variable. The equal sign (=) is used to assign values to variables.\n",
    "\n",
    "The operand to the left of the = operator is the name of the variable and the operand to the right of the = operator is the value stored in the variable."
   ]
  },
  {
   "cell_type": "code",
   "execution_count": 4,
   "metadata": {
    "ExecuteTime": {
     "end_time": "2019-03-13T16:46:15.705472Z",
     "start_time": "2019-03-13T16:46:15.589441Z"
    },
    "scrolled": true
   },
   "outputs": [
    {
     "name": "stdout",
     "output_type": "stream",
     "text": [
      "100\n",
      "1000.0\n",
      "John\n",
      "1 1 1\n",
      "1 2 john\n"
     ]
    }
   ],
   "source": [
    "counter = 100          # An integer assignment\n",
    "miles   = 1000.0       # A floating point\n",
    "name    = \"John\"       # A string\n",
    "\n",
    "print (counter)\n",
    "print (miles)\n",
    "print (name)\n",
    "\n",
    "#Multiple assigment\n",
    "a = b = c = 1\n",
    "print (a,b,c)\n",
    "\n",
    "#Multiple assigment, different value\n",
    "a,b,c = 1,2,\"john\"\n",
    "print (a,b,c)\n"
   ]
  },
  {
   "cell_type": "markdown",
   "metadata": {},
   "source": [
    "## Standard Data Types\n",
    "\n",
    "The data stored in memory can be of many types. For example, a person's age is stored as a numeric value and his or her address is stored as alphanumeric characters. Python has various standard data types that are used to define the operations possible on them and the storage method for each of them.\n",
    "\n",
    "- Python has five standard data types:\n",
    "    * Numbers\n",
    "    * String\n",
    "    * List\n",
    "    * Tuple\n",
    "    * Dictionary"
   ]
  },
  {
   "cell_type": "markdown",
   "metadata": {},
   "source": [
    "# Python Numbers\n",
    "Number data types store numeric values. Number objects are created when you assign a value to them."
   ]
  },
  {
   "cell_type": "markdown",
   "metadata": {},
   "source": [
    "- Python supports four different numerical types:\n",
    "    * int (signed integers)\n",
    "    * long (long integers, they can also be represented in octal and hexadecimal)\n",
    "    * float (floating point real values)\n",
    "    * complex (complex numbers)\n",
    "\n",
    "![Capture.png](https://raw.githubusercontent.com/fjvarasc/DSPXI/master/figures/number_desc.png)\n"
   ]
  },
  {
   "cell_type": "markdown",
   "metadata": {
    "heading_collapsed": true
   },
   "source": [
    "## Number Type Conversion\n",
    "\n",
    "Python converts numbers internally in an expression containing mixed types to a common type for evaluation. But sometimes, you need to coerce a number explicitly from one type to another to satisfy the requirements of an operator or function parameter.\n",
    "\n",
    "* Type int(x) to convert x to a plain integer.\n",
    "* Type long(x) to convert x to a long integer.\n",
    "* Type float(x) to convert x to a floating-point number.\n",
    "* Type complex(x) to convert x to a complex number with real part x and imaginary part zero.\n",
    "* Type complex(x, y) to convert x and y to a complex number with real part x and imaginary part y. x and y are numeric expressions\n",
    "\n",
    "## Mathematical Functions\n",
    "\n",
    "Python includes following functions that perform mathematical calculations."
   ]
  },
  {
   "cell_type": "code",
   "execution_count": 16,
   "metadata": {
    "ExecuteTime": {
     "end_time": "2019-03-13T17:02:57.607072Z",
     "start_time": "2019-03-13T17:02:57.583359Z"
    },
    "hidden": true
   },
   "outputs": [],
   "source": [
    "import math #First we add the math module into out code so we can call the functions"
   ]
  },
  {
   "cell_type": "markdown",
   "metadata": {
    "hidden": true
   },
   "source": [
    "### abs(x) : \n",
    "The absolute value of x: the (positive) distance between x and zero."
   ]
  },
  {
   "cell_type": "code",
   "execution_count": 17,
   "metadata": {
    "ExecuteTime": {
     "end_time": "2019-03-13T17:02:59.693657Z",
     "start_time": "2019-03-13T17:02:59.634017Z"
    },
    "hidden": true
   },
   "outputs": [
    {
     "name": "stdout",
     "output_type": "stream",
     "text": [
      "abs(-45) :  45\n",
      "abs(100.12) :  100.12\n",
      "abs(119) :  119\n"
     ]
    }
   ],
   "source": [
    "print (\"abs(-45) : \", abs(-45))\n",
    "print (\"abs(100.12) : \", abs(100.12))\n",
    "print (\"abs(119) : \", abs(119))"
   ]
  },
  {
   "cell_type": "markdown",
   "metadata": {
    "hidden": true
   },
   "source": [
    "### ceil(x) : \n",
    "The ceiling of x: the smallest integer not less than x"
   ]
  },
  {
   "cell_type": "code",
   "execution_count": 18,
   "metadata": {
    "ExecuteTime": {
     "end_time": "2019-03-13T17:03:01.321980Z",
     "start_time": "2019-03-13T17:03:01.253974Z"
    },
    "hidden": true
   },
   "outputs": [
    {
     "name": "stdout",
     "output_type": "stream",
     "text": [
      "math.ceil(-45.17) :  -45\n",
      "math.ceil(100.12) :  101\n",
      "math.ceil(100.72) :  101\n",
      "math.ceil(119) :  119\n",
      "math.ceil(math.pi) :  4\n"
     ]
    }
   ],
   "source": [
    "import math   # This will import math module\n",
    "print (\"math.ceil(-45.17) : \", math.ceil(-45.17))\n",
    "print (\"math.ceil(100.12) : \", math.ceil(100.12))\n",
    "print (\"math.ceil(100.72) : \", math.ceil(100.72))\n",
    "print (\"math.ceil(119) : \", math.ceil(119))\n",
    "print (\"math.ceil(math.pi) : \", math.ceil(math.pi))"
   ]
  },
  {
   "cell_type": "markdown",
   "metadata": {
    "hidden": true
   },
   "source": [
    "### exp(x) : \n",
    "The exponential of x: ex"
   ]
  },
  {
   "cell_type": "code",
   "execution_count": 20,
   "metadata": {
    "ExecuteTime": {
     "end_time": "2019-03-13T17:03:06.207941Z",
     "start_time": "2019-03-13T17:03:06.175456Z"
    },
    "hidden": true
   },
   "outputs": [
    {
     "name": "stdout",
     "output_type": "stream",
     "text": [
      "math.exp(-45.17) :  2.4150062132629406e-20\n",
      "math.exp(100.72) :  5.522557130248187e+43\n",
      "math.exp(119L) :  4.797813327299302e+51\n",
      "math.exp(math.pi) :  23.140692632779267\n"
     ]
    }
   ],
   "source": [
    "print (\"math.exp(-45.17) : \", math.exp(-45.17))\n",
    "print (\"math.exp(100.72) : \", math.exp(100.72))\n",
    "print (\"math.exp(119L) : \", math.exp(119))\n",
    "print (\"math.exp(math.pi) : \", math.exp(math.pi))"
   ]
  },
  {
   "cell_type": "markdown",
   "metadata": {
    "hidden": true
   },
   "source": [
    "### fabs(x) : \n",
    "The absolute value of x."
   ]
  },
  {
   "cell_type": "code",
   "execution_count": 21,
   "metadata": {
    "ExecuteTime": {
     "end_time": "2019-03-13T17:03:09.359881Z",
     "start_time": "2019-03-13T17:03:09.282971Z"
    },
    "hidden": true
   },
   "outputs": [
    {
     "name": "stdout",
     "output_type": "stream",
     "text": [
      "math.fabs(-45.17) :  45.17\n",
      "math.fabs(100.12) :  100.12\n",
      "math.fabs(100.72) :  100.72\n",
      "math.fabs(119) :  119.0\n",
      "math.fabs(math.pi) :  3.141592653589793\n"
     ]
    }
   ],
   "source": [
    "print (\"math.fabs(-45.17) : \", math.fabs(-45.17))\n",
    "print (\"math.fabs(100.12) : \", math.fabs(100.12))\n",
    "print (\"math.fabs(100.72) : \", math.fabs(100.72))\n",
    "print (\"math.fabs(119) : \", math.fabs(119))\n",
    "print (\"math.fabs(math.pi) : \", math.fabs(math.pi))"
   ]
  },
  {
   "cell_type": "markdown",
   "metadata": {
    "hidden": true
   },
   "source": [
    "### floor(x) : \n",
    "The floor of x: the largest integer not greater than x"
   ]
  },
  {
   "cell_type": "code",
   "execution_count": 25,
   "metadata": {
    "ExecuteTime": {
     "end_time": "2019-03-13T17:04:04.533778Z",
     "start_time": "2019-03-13T17:04:04.455079Z"
    },
    "hidden": true
   },
   "outputs": [
    {
     "name": "stdout",
     "output_type": "stream",
     "text": [
      "math.floor(-45.17) :  -46\n",
      "math.floor(100.12) :  100\n",
      "math.floor(100.72) :  100\n",
      "math.floor(119) :  119\n",
      "math.floor(math.pi) :  3\n"
     ]
    }
   ],
   "source": [
    "print (\"math.floor(-45.17) : \", math.floor(-45.17))\n",
    "print (\"math.floor(100.12) : \", math.floor(100.12))\n",
    "print (\"math.floor(100.72) : \", math.floor(100.72))\n",
    "print (\"math.floor(119) : \", math.floor(119))\n",
    "print (\"math.floor(math.pi) : \", math.floor(math.pi))"
   ]
  },
  {
   "cell_type": "markdown",
   "metadata": {
    "hidden": true
   },
   "source": [
    "### log(x) : \n",
    "The natural logarithm of x, for x> 0"
   ]
  },
  {
   "cell_type": "code",
   "execution_count": 28,
   "metadata": {
    "ExecuteTime": {
     "end_time": "2019-03-13T17:05:58.991859Z",
     "start_time": "2019-03-13T17:05:58.934222Z"
    },
    "hidden": true
   },
   "outputs": [
    {
     "name": "stdout",
     "output_type": "stream",
     "text": [
      "math.log(100.12) :  4.6063694665635735\n",
      "math.log(100.72) :  4.612344389736092\n",
      "math.log(119) :  4.77912349311153\n",
      "math.log(math.pi) :  1.1447298858494002\n"
     ]
    }
   ],
   "source": [
    "print (\"math.log(100.12) : \", math.log(100.12))\n",
    "print (\"math.log(100.72) : \", math.log(100.72))\n",
    "print (\"math.log(119) : \", math.log(119))\n",
    "print (\"math.log(math.pi) : \", math.log(math.pi))"
   ]
  },
  {
   "cell_type": "markdown",
   "metadata": {
    "hidden": true
   },
   "source": [
    "### log10(x) : \n",
    "The base-10 logarithm of x for x> 0"
   ]
  },
  {
   "cell_type": "code",
   "execution_count": 30,
   "metadata": {
    "ExecuteTime": {
     "end_time": "2019-03-13T17:07:01.668648Z",
     "start_time": "2019-03-13T17:07:01.607945Z"
    },
    "hidden": true
   },
   "outputs": [
    {
     "name": "stdout",
     "output_type": "stream",
     "text": [
      "math.log10(100.12) :  2.0005208409361854\n",
      "math.log10(100.72) :  2.003115717099806\n",
      "math.log10(119) :  2.075546961392531\n",
      "math.log10(math.pi) :  0.4971498726941338\n"
     ]
    }
   ],
   "source": [
    "print (\"math.log10(100.12) : \", math.log10(100.12))\n",
    "print (\"math.log10(100.72) : \", math.log10(100.72))\n",
    "print (\"math.log10(119) : \", math.log10(119))\n",
    "print (\"math.log10(math.pi) : \", math.log10(math.pi))"
   ]
  },
  {
   "cell_type": "markdown",
   "metadata": {
    "hidden": true
   },
   "source": [
    "### max(x1, x2,...) : \n",
    "The largest of its arguments: the value closest to positive infinity"
   ]
  },
  {
   "cell_type": "code",
   "execution_count": 32,
   "metadata": {
    "ExecuteTime": {
     "end_time": "2019-03-13T17:08:48.224112Z",
     "start_time": "2019-03-13T17:08:48.165297Z"
    },
    "hidden": true
   },
   "outputs": [
    {
     "name": "stdout",
     "output_type": "stream",
     "text": [
      "max(80, 100, 1000) :  1000\n",
      "max(-20, 100, 400) :  400\n",
      "max(-80, -20, -10) :  -10\n",
      "max(0, 100, -400) :  100\n"
     ]
    }
   ],
   "source": [
    "print (\"max(80, 100, 1000) : \", max(80, 100, 1000))\n",
    "print (\"max(-20, 100, 400) : \", max(-20, 100, 400))\n",
    "print (\"max(-80, -20, -10) : \", max(-80, -20, -10))\n",
    "print (\"max(0, 100, -400) : \", max(0, 100, -400))"
   ]
  },
  {
   "cell_type": "markdown",
   "metadata": {
    "hidden": true
   },
   "source": [
    "### min(x1, x2,...) : \n",
    "The smallest of its arguments: the value closest to negative infinity"
   ]
  },
  {
   "cell_type": "code",
   "execution_count": 34,
   "metadata": {
    "ExecuteTime": {
     "end_time": "2019-03-13T17:09:45.942492Z",
     "start_time": "2019-03-13T17:09:45.878062Z"
    },
    "hidden": true
   },
   "outputs": [
    {
     "name": "stdout",
     "output_type": "stream",
     "text": [
      "min(80, 100, 1000) :  80\n",
      "min(-20, 100, 400) :  -20\n",
      "min(-80, -20, -10) :  -80\n",
      "min(0, 100, -400) :  -400\n"
     ]
    }
   ],
   "source": [
    "print (\"min(80, 100, 1000) : \", min(80, 100, 1000))\n",
    "print (\"min(-20, 100, 400) : \", min(-20, 100, 400))\n",
    "print (\"min(-80, -20, -10) : \", min(-80, -20, -10))\n",
    "print (\"min(0, 100, -400) : \", min(0, 100, -400))"
   ]
  },
  {
   "cell_type": "markdown",
   "metadata": {
    "hidden": true
   },
   "source": [
    "### modf(x) : \n",
    "The fractional and integer parts of x in a two-item tuple. Both parts have the same sign as x. The integer part is returned as a float."
   ]
  },
  {
   "cell_type": "code",
   "execution_count": 36,
   "metadata": {
    "ExecuteTime": {
     "end_time": "2019-03-13T17:10:44.147608Z",
     "start_time": "2019-03-13T17:10:44.087710Z"
    },
    "hidden": true
   },
   "outputs": [
    {
     "name": "stdout",
     "output_type": "stream",
     "text": [
      "math.modf(100.12) :  (0.12000000000000455, 100.0)\n",
      "math.modf(100.72) :  (0.7199999999999989, 100.0)\n",
      "math.modf(119) :  (0.0, 119.0)\n",
      "math.modf(math.pi) :  (0.14159265358979312, 3.0)\n"
     ]
    }
   ],
   "source": [
    "print (\"math.modf(100.12) : \", math.modf(100.12))\n",
    "print (\"math.modf(100.72) : \", math.modf(100.72))\n",
    "print (\"math.modf(119) : \", math.modf(119))\n",
    "print (\"math.modf(math.pi) : \", math.modf(math.pi))"
   ]
  },
  {
   "cell_type": "markdown",
   "metadata": {
    "hidden": true
   },
   "source": [
    "### pow(x, y) : \n",
    "The value of x**y."
   ]
  },
  {
   "cell_type": "code",
   "execution_count": 37,
   "metadata": {
    "ExecuteTime": {
     "end_time": "2019-03-13T17:11:44.659265Z",
     "start_time": "2019-03-13T17:11:44.594429Z"
    },
    "hidden": true
   },
   "outputs": [
    {
     "name": "stdout",
     "output_type": "stream",
     "text": [
      "math.pow(100, 2) :  10000.0\n",
      "math.pow(100, -2) :  0.0001\n",
      "math.pow(2, 4) :  16.0\n",
      "math.pow(3, 0) :  1.0\n"
     ]
    }
   ],
   "source": [
    "print (\"math.pow(100, 2) : \", math.pow(100, 2))\n",
    "print (\"math.pow(100, -2) : \", math.pow(100, -2))\n",
    "print (\"math.pow(2, 4) : \", math.pow(2, 4))\n",
    "print (\"math.pow(3, 0) : \", math.pow(3, 0))"
   ]
  },
  {
   "cell_type": "markdown",
   "metadata": {
    "hidden": true
   },
   "source": [
    "### round(x [,n]) : \n",
    "x rounded to n digits from the decimal point. Python rounds away from zero as a tie-breaker: round(0.5) is 1.0 and round(-0.5) is -1.0."
   ]
  },
  {
   "cell_type": "code",
   "execution_count": 39,
   "metadata": {
    "ExecuteTime": {
     "end_time": "2019-03-13T17:12:31.943151Z",
     "start_time": "2019-03-13T17:12:31.889434Z"
    },
    "hidden": true
   },
   "outputs": [
    {
     "name": "stdout",
     "output_type": "stream",
     "text": [
      "round(80.23456, 2) :  80.23\n",
      "round(100.000056, 3) :  100.0\n",
      "round(-100.000056, 3) :  -100.0\n"
     ]
    }
   ],
   "source": [
    "print (\"round(80.23456, 2) : \", round(80.23456, 2))\n",
    "print (\"round(100.000056, 3) : \", round(100.000056, 3))\n",
    "print (\"round(-100.000056, 3) : \", round(-100.000056, 3))"
   ]
  },
  {
   "cell_type": "markdown",
   "metadata": {
    "hidden": true
   },
   "source": [
    "### sqrt(x) : The square root of x for x > 0"
   ]
  },
  {
   "cell_type": "code",
   "execution_count": 41,
   "metadata": {
    "ExecuteTime": {
     "end_time": "2019-03-13T17:13:11.219279Z",
     "start_time": "2019-03-13T17:13:11.149306Z"
    },
    "hidden": true
   },
   "outputs": [
    {
     "name": "stdout",
     "output_type": "stream",
     "text": [
      "math.sqrt(100) :  10.0\n",
      "math.sqrt(7) :  2.6457513110645907\n",
      "math.sqrt(math.pi) :  1.7724538509055159\n"
     ]
    }
   ],
   "source": [
    "print (\"math.sqrt(100) : \", math.sqrt(100))\n",
    "print (\"math.sqrt(7) : \", math.sqrt(7))\n",
    "print (\"math.sqrt(math.pi) : \", math.sqrt(math.pi))"
   ]
  },
  {
   "cell_type": "markdown",
   "metadata": {},
   "source": [
    "## Random Number Functions\n",
    "Random numbers are used for games, simulations, testing, security, and privacy applications. Python includes following functions that are commonly used."
   ]
  },
  {
   "cell_type": "code",
   "execution_count": 42,
   "metadata": {
    "ExecuteTime": {
     "end_time": "2019-03-13T17:13:58.828486Z",
     "start_time": "2019-03-13T17:13:58.807318Z"
    }
   },
   "outputs": [],
   "source": [
    "# we import the library \n",
    "import random"
   ]
  },
  {
   "cell_type": "markdown",
   "metadata": {},
   "source": [
    "### choice(seq) : \n",
    "A random item from a list, tuple, or string."
   ]
  },
  {
   "cell_type": "code",
   "execution_count": 44,
   "metadata": {
    "ExecuteTime": {
     "end_time": "2019-03-13T17:14:44.075908Z",
     "start_time": "2019-03-13T17:14:44.028056Z"
    }
   },
   "outputs": [
    {
     "name": "stdout",
     "output_type": "stream",
     "text": [
      "choice([1, 2, 3, 5, 9]) :  9\n",
      "choice('A String') :  t\n"
     ]
    }
   ],
   "source": [
    "print (\"choice([1, 2, 3, 5, 9]) : \", random.choice([1, 2, 3, 5, 9]))\n",
    "print (\"choice('A String') : \", random.choice('A String'))"
   ]
  },
  {
   "cell_type": "markdown",
   "metadata": {},
   "source": [
    "### randrange (start, stop ,step) : \n",
    "A randomly selected element from range(start, stop, step)"
   ]
  },
  {
   "cell_type": "code",
   "execution_count": 50,
   "metadata": {
    "ExecuteTime": {
     "end_time": "2019-03-13T17:20:19.902604Z",
     "start_time": "2019-03-13T17:20:19.846686Z"
    }
   },
   "outputs": [
    {
     "name": "stdout",
     "output_type": "stream",
     "text": [
      "randrange(100, 1000, 2) :  304\n",
      "randrange(100, 1000, 3) :  415\n"
     ]
    }
   ],
   "source": [
    "# Select an even number in 100 <= number < 1000\n",
    "print (\"randrange(100, 1000, 2) : \", random.randrange(100, 1000, 1))\n",
    "# Select another number in 100 <= number < 1000\n",
    "print (\"randrange(100, 1000, 3) : \", random.randrange(100, 1000, 3))"
   ]
  },
  {
   "cell_type": "markdown",
   "metadata": {},
   "source": [
    "### random() : \n",
    "A random float r, such that 0 is less than or equal to r and r is less than 1"
   ]
  },
  {
   "cell_type": "code",
   "execution_count": 52,
   "metadata": {
    "ExecuteTime": {
     "end_time": "2019-03-13T17:21:11.492884Z",
     "start_time": "2019-03-13T17:21:11.447935Z"
    }
   },
   "outputs": [
    {
     "name": "stdout",
     "output_type": "stream",
     "text": [
      "random() :  0.8567421459183977\n",
      "random() :  0.8042634413025611\n"
     ]
    }
   ],
   "source": [
    "# First random number\n",
    "print (\"random() : \", random.random())\n",
    "# Second random number\n",
    "print (\"random() : \", random.random())"
   ]
  },
  {
   "cell_type": "markdown",
   "metadata": {},
   "source": [
    "### seed(x) : \n",
    "Sets the integer starting value used in generating random numbers. Call this function before calling any other random module function. Returns None."
   ]
  },
  {
   "cell_type": "code",
   "execution_count": 56,
   "metadata": {
    "ExecuteTime": {
     "end_time": "2019-03-13T17:24:15.856829Z",
     "start_time": "2019-03-13T17:24:15.775299Z"
    }
   },
   "outputs": [
    {
     "name": "stdout",
     "output_type": "stream",
     "text": [
      "Random number with seed 10 :  0.5714025946899135\n",
      "Random number with seed 10 :  0.5714025946899135\n",
      "Random number with seed 10 :  0.5714025946899135\n"
     ]
    }
   ],
   "source": [
    "random.seed( 10 )\n",
    "print (\"Random number with seed 10 : \", random.random())\n",
    "# It will generate same random number\n",
    "random.seed( 10 )\n",
    "print (\"Random number with seed 10 : \", random.random())\n",
    "# It will generate same random number\n",
    "random.seed( 10 )\n",
    "print (\"Random number with seed 10 : \", random.random())"
   ]
  },
  {
   "cell_type": "markdown",
   "metadata": {},
   "source": [
    "### shuffle(list) : \n",
    "Randomizes the items of a list in place. Returns None."
   ]
  },
  {
   "cell_type": "code",
   "execution_count": 58,
   "metadata": {
    "ExecuteTime": {
     "end_time": "2019-03-13T17:24:57.856925Z",
     "start_time": "2019-03-13T17:24:57.825439Z"
    }
   },
   "outputs": [
    {
     "name": "stdout",
     "output_type": "stream",
     "text": [
      "Reshuffled list :  [10, 20, 16, 5]\n",
      "Reshuffled list :  [10, 16, 5, 20]\n"
     ]
    }
   ],
   "source": [
    "list = [20, 16, 10, 5];\n",
    "random.shuffle(list)\n",
    "print (\"Reshuffled list : \",  list)\n",
    "random.shuffle(list)\n",
    "print (\"Reshuffled list : \",  list)"
   ]
  },
  {
   "cell_type": "markdown",
   "metadata": {},
   "source": [
    "### uniform(x, y) : \n",
    "A random float r, such that x is less than or equal to r and r is less than y"
   ]
  },
  {
   "cell_type": "code",
   "execution_count": 60,
   "metadata": {
    "ExecuteTime": {
     "end_time": "2019-03-13T17:25:36.225257Z",
     "start_time": "2019-03-13T17:25:36.183507Z"
    }
   },
   "outputs": [
    {
     "name": "stdout",
     "output_type": "stream",
     "text": [
      "Random Float uniform(5, 10) :  9.117944362667227\n",
      "Random Float uniform(7, 14) :  11.574307737308231\n"
     ]
    }
   ],
   "source": [
    "print (\"Random Float uniform(5, 10) : \",  random.uniform(5, 10))\n",
    "print (\"Random Float uniform(7, 14) : \",  random.uniform(7, 14))"
   ]
  },
  {
   "cell_type": "markdown",
   "metadata": {},
   "source": [
    "## Trigonometric Functions\n",
    "\n",
    "Python includes following functions that perform trigonometric calculations."
   ]
  },
  {
   "cell_type": "markdown",
   "metadata": {},
   "source": [
    "### acos(x) : \n",
    "Return the arc cosine of x, in radians."
   ]
  },
  {
   "cell_type": "code",
   "execution_count": 61,
   "metadata": {
    "ExecuteTime": {
     "end_time": "2019-03-13T17:34:58.576113Z",
     "start_time": "2019-03-13T17:34:58.519768Z"
    }
   },
   "outputs": [
    {
     "name": "stdout",
     "output_type": "stream",
     "text": [
      "acos(0.64) :  0.8762980611683406\n",
      "acos(0) :  1.5707963267948966\n",
      "acos(-1) :  3.141592653589793\n",
      "acos(1) :  0.0\n"
     ]
    }
   ],
   "source": [
    "print (\"acos(0.64) : \",  math.acos(0.64))\n",
    "print (\"acos(0) : \",  math.acos(0))\n",
    "print (\"acos(-1) : \",  math.acos(-1))\n",
    "print (\"acos(1) : \",  math.acos(1))"
   ]
  },
  {
   "cell_type": "markdown",
   "metadata": {},
   "source": [
    "### asin(x) : \n",
    "Return the arc sine of x, in radians."
   ]
  },
  {
   "cell_type": "code",
   "execution_count": 63,
   "metadata": {
    "ExecuteTime": {
     "end_time": "2019-03-13T17:36:55.812529Z",
     "start_time": "2019-03-13T17:36:55.749398Z"
    }
   },
   "outputs": [
    {
     "name": "stdout",
     "output_type": "stream",
     "text": [
      "asin(0.64) :  0.694498265626556\n",
      "asin(0) :  0.0\n",
      "asin(-1) :  -1.5707963267948966\n",
      "asin(1) :  1.5707963267948966\n"
     ]
    }
   ],
   "source": [
    "print (\"asin(0.64) : \",  math.asin(0.64))\n",
    "print (\"asin(0) : \",  math.asin(0))\n",
    "print (\"asin(-1) : \",  math.asin(-1))\n",
    "print (\"asin(1) : \",  math.asin(1))"
   ]
  },
  {
   "cell_type": "markdown",
   "metadata": {},
   "source": [
    "### atan(x) : Return the arc tangent of x, in radians."
   ]
  },
  {
   "cell_type": "code",
   "execution_count": 64,
   "metadata": {
    "ExecuteTime": {
     "end_time": "2019-03-13T17:38:01.889265Z",
     "start_time": "2019-03-13T17:38:01.514271Z"
    }
   },
   "outputs": [
    {
     "name": "stdout",
     "output_type": "stream",
     "text": [
      "atan(0.64) :  0.5693131911006619\n",
      "atan(0) :  0.0\n",
      "atan(10) :  1.4711276743037347\n",
      "atan(-1) :  -0.7853981633974483\n",
      "atan(1) :  0.7853981633974483\n"
     ]
    }
   ],
   "source": [
    "print (\"atan(0.64) : \",  math.atan(0.64))\n",
    "print (\"atan(0) : \",  math.atan(0))\n",
    "print (\"atan(10) : \",  math.atan(10))\n",
    "print (\"atan(-1) : \",  math.atan(-1))\n",
    "print (\"atan(1) : \",  math.atan(1))"
   ]
  },
  {
   "cell_type": "markdown",
   "metadata": {},
   "source": [
    "### atan2(y, x) : Return atan(y / x), in radians."
   ]
  },
  {
   "cell_type": "code",
   "execution_count": 65,
   "metadata": {
    "ExecuteTime": {
     "end_time": "2019-03-13T17:39:02.891542Z",
     "start_time": "2019-03-13T17:39:02.816904Z"
    }
   },
   "outputs": [
    {
     "name": "stdout",
     "output_type": "stream",
     "text": [
      "atan2(-0.50,-0.50) :  -2.356194490192345\n",
      "atan2(0.50,0.50) :  0.7853981633974483\n",
      "atan2(5,5) :  0.7853981633974483\n",
      "atan2(-10,10) :  -0.7853981633974483\n",
      "atan2(10,20) :  0.4636476090008061\n"
     ]
    }
   ],
   "source": [
    "print (\"atan2(-0.50,-0.50) : \",  math.atan2(-0.50,-0.50))\n",
    "print (\"atan2(0.50,0.50) : \",  math.atan2(0.50,0.50))\n",
    "print (\"atan2(5,5) : \",  math.atan2(5,5))\n",
    "print (\"atan2(-10,10) : \",  math.atan2(-10,10))\n",
    "print (\"atan2(10,20) : \",  math.atan2(10,20))"
   ]
  },
  {
   "cell_type": "markdown",
   "metadata": {},
   "source": [
    "### cos(x) : \n",
    "Return the cosine of x radians."
   ]
  },
  {
   "cell_type": "code",
   "execution_count": 67,
   "metadata": {
    "ExecuteTime": {
     "end_time": "2019-03-13T17:39:59.383097Z",
     "start_time": "2019-03-13T17:39:59.309001Z"
    }
   },
   "outputs": [
    {
     "name": "stdout",
     "output_type": "stream",
     "text": [
      "cos(3) :  -0.9899924966004454\n",
      "cos(-3) :  -0.9899924966004454\n",
      "cos(0) :  1.0\n",
      "cos(math.pi) :  -1.0\n",
      "cos(2*math.pi) :  1.0\n"
     ]
    }
   ],
   "source": [
    "print (\"cos(3) : \",  math.cos(3))\n",
    "print (\"cos(-3) : \",  math.cos(-3))\n",
    "print (\"cos(0) : \",  math.cos(0))\n",
    "print (\"cos(math.pi) : \",  math.cos(math.pi))\n",
    "print (\"cos(2*math.pi) : \",  math.cos(2*math.pi))"
   ]
  },
  {
   "cell_type": "markdown",
   "metadata": {},
   "source": [
    "### hypot(x, y) : \n",
    "Return the Euclidean norm, sqrt(x*x + y*y)."
   ]
  },
  {
   "cell_type": "code",
   "execution_count": 69,
   "metadata": {
    "ExecuteTime": {
     "end_time": "2019-03-13T17:40:39.521756Z",
     "start_time": "2019-03-13T17:40:39.474940Z"
    }
   },
   "outputs": [
    {
     "name": "stdout",
     "output_type": "stream",
     "text": [
      "hypot(3, 2) :  3.605551275463989\n",
      "hypot(-3, 3) :  4.242640687119285\n",
      "hypot(0, 2) :  2.0\n"
     ]
    }
   ],
   "source": [
    "print (\"hypot(3, 2) : \",  math.hypot(3, 2))\n",
    "print (\"hypot(-3, 3) : \",  math.hypot(-3, 3))\n",
    "print (\"hypot(0, 2) : \",  math.hypot(0, 2))"
   ]
  },
  {
   "cell_type": "markdown",
   "metadata": {},
   "source": [
    "### sin(x) : \n",
    "Return the sine of x radians."
   ]
  },
  {
   "cell_type": "code",
   "execution_count": 71,
   "metadata": {
    "ExecuteTime": {
     "end_time": "2019-03-13T17:42:17.866602Z",
     "start_time": "2019-03-13T17:42:17.790810Z"
    }
   },
   "outputs": [
    {
     "name": "stdout",
     "output_type": "stream",
     "text": [
      "sin(3) :  0.1411200080598672\n",
      "sin(-3) :  -0.1411200080598672\n",
      "sin(0) :  0.0\n",
      "sin(math.pi) :  1.2246467991473532e-16\n",
      "sin(math.pi/2) :  1.0\n"
     ]
    }
   ],
   "source": [
    "print (\"sin(3) : \",  math.sin(3))\n",
    "print (\"sin(-3) : \",  math.sin(-3))\n",
    "print (\"sin(0) : \",  math.sin(0))\n",
    "print (\"sin(math.pi) : \",  math.sin(math.pi))\n",
    "print (\"sin(math.pi/2) : \",  math.sin(math.pi/2))"
   ]
  },
  {
   "cell_type": "markdown",
   "metadata": {},
   "source": [
    "### tan(x) : \n",
    "Return the tangent of x radians."
   ]
  },
  {
   "cell_type": "code",
   "execution_count": 73,
   "metadata": {
    "ExecuteTime": {
     "end_time": "2019-03-13T17:43:17.317185Z",
     "start_time": "2019-03-13T17:43:17.242239Z"
    }
   },
   "outputs": [
    {
     "name": "stdout",
     "output_type": "stream",
     "text": [
      "tan(3) :  -0.1425465430742778\n",
      "tan(-3) :  0.1425465430742778\n",
      "tan(0) :  0.0\n",
      "tan(math.pi) :  -1.2246467991473532e-16\n",
      "tan(math.pi/2) :  1.633123935319537e+16\n",
      "tan(math.pi/4) :  0.9999999999999999\n"
     ]
    }
   ],
   "source": [
    "print (\"tan(3) : \",  math.tan(3))\n",
    "print (\"tan(-3) : \",  math.tan(-3))\n",
    "print (\"tan(0) : \",  math.tan(0))\n",
    "print (\"tan(math.pi) : \",  math.tan(math.pi))\n",
    "print (\"tan(math.pi/2) : \",  math.tan(math.pi/2))\n",
    "print (\"tan(math.pi/4) : \",  math.tan(math.pi/4))"
   ]
  },
  {
   "cell_type": "markdown",
   "metadata": {},
   "source": [
    "### degrees(x) : \n",
    "Converts angle x from radians to degrees."
   ]
  },
  {
   "cell_type": "code",
   "execution_count": 75,
   "metadata": {
    "ExecuteTime": {
     "end_time": "2019-03-13T17:44:22.852176Z",
     "start_time": "2019-03-13T17:44:22.796412Z"
    }
   },
   "outputs": [
    {
     "name": "stdout",
     "output_type": "stream",
     "text": [
      "degrees(3) :  171.88733853924697\n",
      "degrees(-3) :  -171.88733853924697\n",
      "degrees(0) :  0.0\n",
      "degrees(math.pi) :  180.0\n",
      "degrees(math.pi/2) :  90.0\n",
      "degrees(math.pi/4) :  45.0\n"
     ]
    }
   ],
   "source": [
    "print (\"degrees(3) : \",  math.degrees(3))\n",
    "print (\"degrees(-3) : \",  math.degrees(-3))\n",
    "print (\"degrees(0) : \",  math.degrees(0))\n",
    "print (\"degrees(math.pi) : \",  math.degrees(math.pi))\n",
    "print (\"degrees(math.pi/2) : \",  math.degrees(math.pi/2))\n",
    "print (\"degrees(math.pi/4) : \",  math.degrees(math.pi/4))"
   ]
  },
  {
   "cell_type": "markdown",
   "metadata": {},
   "source": [
    "### radians(x) : \n",
    "Converts angle x from degrees to radians."
   ]
  },
  {
   "cell_type": "code",
   "execution_count": 77,
   "metadata": {
    "ExecuteTime": {
     "end_time": "2019-03-13T17:47:39.597845Z",
     "start_time": "2019-03-13T17:47:39.507669Z"
    }
   },
   "outputs": [
    {
     "name": "stdout",
     "output_type": "stream",
     "text": [
      "radians(3) :  0.05235987755982989\n",
      "radians(-3) :  -0.05235987755982989\n",
      "radians(0) :  0.0\n",
      "radians(math.pi) :  0.05483113556160755\n",
      "radians(math.pi/2) :  0.027415567780803774\n",
      "radians(math.pi/4) :  0.013707783890401887\n"
     ]
    }
   ],
   "source": [
    "print (\"radians(3) : \",  math.radians(3))\n",
    "print (\"radians(-3) : \",  math.radians(-3))\n",
    "print (\"radians(0) : \",  math.radians(0))\n",
    "print (\"radians(math.pi) : \",  math.radians(math.pi))\n",
    "print (\"radians(math.pi/2) : \",  math.radians(math.pi/2))\n",
    "print (\"radians(math.pi/4) : \",  math.radians(math.pi/4))"
   ]
  },
  {
   "cell_type": "markdown",
   "metadata": {},
   "source": [
    "### Mathematical Constants\n",
    "\n",
    "The module also defines two mathematical constants −\n"
   ]
  },
  {
   "cell_type": "code",
   "execution_count": 79,
   "metadata": {
    "ExecuteTime": {
     "end_time": "2019-03-13T17:48:19.080509Z",
     "start_time": "2019-03-13T17:48:19.033271Z"
    }
   },
   "outputs": [
    {
     "name": "stdout",
     "output_type": "stream",
     "text": [
      "3.141592653589793\n",
      "2.718281828459045\n"
     ]
    }
   ],
   "source": [
    "import math\n",
    "# pi : The mathematical constant pi.\n",
    "print (math.pi)\n",
    "# e : The mathematical constant e.\n",
    "print (math.e)"
   ]
  },
  {
   "cell_type": "markdown",
   "metadata": {},
   "source": [
    "# Python Strings\n",
    "\n",
    "Strings in Python are identified as a contiguous set of characters represented in the quotation marks. Python allows for either pairs of single or double quotes. Subsets of strings can be taken using the slice operator ([ ] and [:] ) with indexes starting at 0 in the beginning of the string and working their way from -1 at the end.\n",
    "\n",
    "The plus (+) sign is the string concatenation operator and the asterisk (*) is the repetition operator.\n"
   ]
  },
  {
   "cell_type": "code",
   "execution_count": 83,
   "metadata": {
    "ExecuteTime": {
     "end_time": "2019-03-13T18:10:02.633049Z",
     "start_time": "2019-03-13T18:10:02.561657Z"
    }
   },
   "outputs": [
    {
     "name": "stdout",
     "output_type": "stream",
     "text": [
      "Hello World!\n",
      "H\n",
      "llo\n",
      "llo World!\n",
      "Hello World!Hello World!\n",
      "Hello World!TEST\n"
     ]
    }
   ],
   "source": [
    "str = 'Hello World!'\n",
    "\n",
    "print (str)          # Prints complete string\n",
    "print (str[0])       # Prints first character of the string\n",
    "print (str[2:5])     # Prints characters starting from 3rd to 5th\n",
    "print (str[2:])      # Prints string starting from 3rd character\n",
    "print (str * 2)      # Prints string two times\n",
    "print (str + \"TEST\") # Prints concatenated string"
   ]
  },
  {
   "cell_type": "markdown",
   "metadata": {},
   "source": [
    "\n",
    "## Accessing Values in Strings\n",
    "\n",
    "Python does not support a character type; these are treated as strings of length one, thus also considered a substring.\n",
    "To access substrings, use the square brackets for slicing along with the index or indices to obtain your substring.\n"
   ]
  },
  {
   "cell_type": "code",
   "execution_count": 86,
   "metadata": {
    "ExecuteTime": {
     "end_time": "2019-03-13T18:15:40.765299Z",
     "start_time": "2019-03-13T18:15:40.716228Z"
    }
   },
   "outputs": [
    {
     "name": "stdout",
     "output_type": "stream",
     "text": [
      "var1[0]:  H\n",
      "var2[1:5]:  ytho\n"
     ]
    }
   ],
   "source": [
    "var1 = 'Hello World!'\n",
    "var2 = \"Python Programming\"\n",
    "\n",
    "print (\"var1[0]: \", var1[0])\n",
    "print (\"var2[1:5]: \", var2[1:5])"
   ]
  },
  {
   "cell_type": "markdown",
   "metadata": {},
   "source": [
    "\n",
    "## Updating Strings\n",
    "You can \"update\" an existing string by (re)assigning a variable to another string. The new value can be related to its previous value or to a completely different string altogether.\n"
   ]
  },
  {
   "cell_type": "code",
   "execution_count": 87,
   "metadata": {
    "ExecuteTime": {
     "end_time": "2019-03-13T18:16:28.924126Z",
     "start_time": "2019-03-13T18:16:28.889825Z"
    }
   },
   "outputs": [
    {
     "name": "stdout",
     "output_type": "stream",
     "text": [
      "Updated String :-  Hello Python\n"
     ]
    }
   ],
   "source": [
    "var1 = 'Hello World!'\n",
    "print (\"Updated String :- \", var1[:6] + 'Python')"
   ]
  },
  {
   "cell_type": "markdown",
   "metadata": {},
   "source": [
    "**Special Operators**"
   ]
  },
  {
   "cell_type": "code",
   "execution_count": 89,
   "metadata": {
    "ExecuteTime": {
     "end_time": "2019-03-13T18:17:20.562555Z",
     "start_time": "2019-03-13T18:17:20.479890Z"
    }
   },
   "outputs": [
    {
     "name": "stdout",
     "output_type": "stream",
     "text": [
      "HelloPython\n",
      "HelloHello\n",
      "e\n",
      "ell\n",
      "True\n",
      "True\n"
     ]
    }
   ],
   "source": [
    "a='Hello'\n",
    "b='Python'\n",
    "\n",
    "print (a+b)\n",
    "print (a*2)\n",
    "print (a[1])\n",
    "print (a[1:4])\n",
    "print ('H' in a)\n",
    "print ('M' not in a)"
   ]
  },
  {
   "cell_type": "markdown",
   "metadata": {},
   "source": [
    "\n",
    "## String Formatting Operator\n",
    "\n",
    "One of Python's coolest features is the string format operator %. This operator is unique to strings and makes up for the pack of having functions from C's printf() family.\n"
   ]
  },
  {
   "cell_type": "code",
   "execution_count": 91,
   "metadata": {
    "ExecuteTime": {
     "end_time": "2019-03-13T18:19:36.201235Z",
     "start_time": "2019-03-13T18:19:36.172016Z"
    }
   },
   "outputs": [
    {
     "name": "stdout",
     "output_type": "stream",
     "text": [
      "My name is Zara and i'm 21 years old!\n"
     ]
    }
   ],
   "source": [
    "print (\"My name is %s and i'm %d years old!\" % ('Zara', 21))"
   ]
  },
  {
   "cell_type": "markdown",
   "metadata": {},
   "source": [
    "Here is the list of complete set of symbols which can be used along with % −\n",
    "\n",
    "* %c character \n",
    "* %s string conversion via str() prior to formatting \n",
    "* %i signed decimal integer \n",
    "* %d signed decimal integer \n",
    "* %u unsigned decimal integer \n",
    "* %o octal integer \n",
    "* %x hexadecimal integer (lowercase letters) \n",
    "* %X hexadecimal integer (UPPERcase letters) \n",
    "* %e exponential notation (with lowercase 'e') \n",
    "* %E exponential notation (with UPPERcase 'E') \n",
    "* %f floating point real number \n"
   ]
  },
  {
   "cell_type": "markdown",
   "metadata": {},
   "source": [
    "\n",
    "## Triple Quotes\n",
    "\n",
    "Python's triple quotes comes to the rescue by allowing strings to span multiple lines, including verbatim NEWLINEs, TABs, and any other special characters.\n",
    "\n",
    "The syntax for triple quotes consists of three consecutive single or double quotes.\n"
   ]
  },
  {
   "cell_type": "code",
   "execution_count": 93,
   "metadata": {
    "ExecuteTime": {
     "end_time": "2019-03-13T18:20:53.133603Z",
     "start_time": "2019-03-13T18:20:53.093091Z"
    }
   },
   "outputs": [
    {
     "name": "stdout",
     "output_type": "stream",
     "text": [
      "this is a long string that is made up of\n",
      "several lines and non-printable characters such as\n",
      "TAB ( \t ) and they will show up that way when displayed.\n",
      "NEWLINEs within the string, whether explicitly given like\n",
      "this within the brackets [ \n",
      " ], or just a NEWLINE within\n",
      "the variable assignment will also show up.\n",
      "\n"
     ]
    }
   ],
   "source": [
    "para_str = \"\"\"this is a long string that is made up of\n",
    "several lines and non-printable characters such as\n",
    "TAB ( \\t ) and they will show up that way when displayed.\n",
    "NEWLINEs within the string, whether explicitly given like\n",
    "this within the brackets [ \\n ], or just a NEWLINE within\n",
    "the variable assignment will also show up.\n",
    "\"\"\"\n",
    "print (para_str)"
   ]
  },
  {
   "cell_type": "markdown",
   "metadata": {},
   "source": [
    "Raw strings do not treat the backslash as a special character at all. Every character you put into a raw string stays the way you wrote it"
   ]
  },
  {
   "cell_type": "code",
   "execution_count": 95,
   "metadata": {
    "ExecuteTime": {
     "end_time": "2019-03-13T18:21:07.108759Z",
     "start_time": "2019-03-13T18:21:07.091064Z"
    }
   },
   "outputs": [
    {
     "name": "stdout",
     "output_type": "stream",
     "text": [
      "C:\\nowhere\n",
      "C:\\\\nowhere\n"
     ]
    }
   ],
   "source": [
    "print ('C:\\\\nowhere')\n",
    "print (r'C:\\\\nowhere')"
   ]
  },
  {
   "cell_type": "markdown",
   "metadata": {},
   "source": [
    "\n",
    "## Built-in String Methods\n",
    "\n",
    "Python includes the following built-in methods to manipulate strings\n"
   ]
  },
  {
   "cell_type": "markdown",
   "metadata": {},
   "source": [
    "### capitalize() \n",
    "Capitalizes first letter of string"
   ]
  },
  {
   "cell_type": "code",
   "execution_count": 97,
   "metadata": {
    "ExecuteTime": {
     "end_time": "2019-03-13T18:23:54.528019Z",
     "start_time": "2019-03-13T18:23:54.489543Z"
    }
   },
   "outputs": [
    {
     "name": "stdout",
     "output_type": "stream",
     "text": [
      "str.capitalize() :  This is string example....wow!!!\n"
     ]
    }
   ],
   "source": [
    "str = \"this is string example....wow!!!\";\n",
    "print (\"str.capitalize() : \", str.capitalize())"
   ]
  },
  {
   "cell_type": "markdown",
   "metadata": {},
   "source": [
    "### center(width, fillchar) \n",
    "Returns a space-padded string with the original string centered to a total of width columns.\n"
   ]
  },
  {
   "cell_type": "code",
   "execution_count": 98,
   "metadata": {
    "ExecuteTime": {
     "end_time": "2019-03-13T18:24:47.111070Z",
     "start_time": "2019-03-13T18:24:47.067796Z"
    }
   },
   "outputs": [
    {
     "name": "stdout",
     "output_type": "stream",
     "text": [
      "str.center(40, 'a') :  aaaathis is string example....wow!!!aaaa\n"
     ]
    }
   ],
   "source": [
    "str = \"this is string example....wow!!!\";\n",
    "print (\"str.center(40, 'a') : \", str.center(40, 'a'))"
   ]
  },
  {
   "cell_type": "markdown",
   "metadata": {},
   "source": [
    "### count(str, beg= 0,end=len(string)) \n",
    "Counts how many times str occurs in string or in a substring of string if starting index beg and ending index end are given.\n"
   ]
  },
  {
   "cell_type": "code",
   "execution_count": 101,
   "metadata": {
    "ExecuteTime": {
     "end_time": "2019-03-13T18:26:56.553633Z",
     "start_time": "2019-03-13T18:26:56.496616Z"
    }
   },
   "outputs": [
    {
     "name": "stdout",
     "output_type": "stream",
     "text": [
      "str.count(sub, 4, 40) :  2\n",
      "str.count(sub) :  1\n"
     ]
    }
   ],
   "source": [
    "str = \"this is string example....wow!!!\";\n",
    "sub = \"i\";\n",
    "print (\"str.count(sub, 4, 40) : \", str.count(sub, 4, 40))\n",
    "sub = \"wow\";\n",
    "print (\"str.count(sub) : \", str.count(sub))"
   ]
  },
  {
   "cell_type": "markdown",
   "metadata": {},
   "source": [
    "### endswith(suffix, beg=0, end=len(string)) \n",
    "Determines if string or a substring of string (if starting index beg and ending index end are given) ends with suffix; returns true if so and false otherwise."
   ]
  },
  {
   "cell_type": "code",
   "execution_count": 132,
   "metadata": {
    "ExecuteTime": {
     "end_time": "2019-03-13T18:44:56.092917Z",
     "start_time": "2019-03-13T18:44:56.042491Z"
    }
   },
   "outputs": [
    {
     "name": "stdout",
     "output_type": "stream",
     "text": [
      "True\n",
      "True\n"
     ]
    }
   ],
   "source": [
    "str = \"this is string example....wow!!!\";\n",
    "\n",
    "suffix = \"wow!!!\";\n",
    "print (str.endswith(suffix))\n",
    "print (str.endswith(suffix,26))"
   ]
  },
  {
   "cell_type": "code",
   "execution_count": 134,
   "metadata": {
    "ExecuteTime": {
     "end_time": "2019-03-13T18:45:18.266761Z",
     "start_time": "2019-03-13T18:45:18.224905Z"
    }
   },
   "outputs": [
    {
     "name": "stdout",
     "output_type": "stream",
     "text": [
      "True\n",
      "False\n"
     ]
    }
   ],
   "source": [
    "suffix = \"is\";\n",
    "print (str.endswith(suffix, 2, 4))\n",
    "print (str.endswith(suffix, 2, 6))"
   ]
  },
  {
   "cell_type": "markdown",
   "metadata": {},
   "source": [
    "### expandtabs(tabsize=8) \n",
    "Expands tabs in string to multiple spaces; defaults to 8 spaces per tab if tabsize not provided.\n"
   ]
  },
  {
   "cell_type": "code",
   "execution_count": 136,
   "metadata": {
    "ExecuteTime": {
     "end_time": "2019-03-13T18:55:32.569348Z",
     "start_time": "2019-03-13T18:55:32.512445Z"
    }
   },
   "outputs": [
    {
     "name": "stdout",
     "output_type": "stream",
     "text": [
      "Original string: this is\tstring example....wow!!!\n",
      "Defualt exapanded tab: this is string example....wow!!!\n",
      "Double exapanded tab: this is         string example....wow!!!\n"
     ]
    }
   ],
   "source": [
    "str = \"this is\\tstring example....wow!!!\";\n",
    "\n",
    "print (\"Original string: \" + str)\n",
    "print (\"Defualt exapanded tab: \" +  str.expandtabs())\n",
    "print (\"Double exapanded tab: \" +  str.expandtabs(16))"
   ]
  },
  {
   "cell_type": "markdown",
   "metadata": {},
   "source": [
    "### find(str, beg=0 end=len(string)) \n",
    "Determine if str occurs in string or in a substring of string if starting index beg and ending index end are given returns index if found and -1 otherwise."
   ]
  },
  {
   "cell_type": "code",
   "execution_count": 137,
   "metadata": {
    "ExecuteTime": {
     "end_time": "2019-03-13T18:58:59.070141Z",
     "start_time": "2019-03-13T18:58:59.012206Z"
    }
   },
   "outputs": [
    {
     "name": "stdout",
     "output_type": "stream",
     "text": [
      "15\n",
      "15\n",
      "-1\n"
     ]
    }
   ],
   "source": [
    "str1 = \"this is string example....wow!!!\"\n",
    "str2 = \"exam\"\n",
    "\n",
    "print (str1.find(str2))\n",
    "print (str1.find(str2, 10))\n",
    "print (str1.find(str2, 40))"
   ]
  },
  {
   "cell_type": "markdown",
   "metadata": {},
   "source": [
    "### index(str, beg=0, end=len(string)) \n",
    "Same as find(), but raises an exception if str not found."
   ]
  },
  {
   "cell_type": "code",
   "execution_count": 141,
   "metadata": {
    "ExecuteTime": {
     "end_time": "2019-03-13T19:08:05.271771Z",
     "start_time": "2019-03-13T19:08:05.211783Z"
    }
   },
   "outputs": [
    {
     "name": "stdout",
     "output_type": "stream",
     "text": [
      "15\n",
      "15\n",
      "15\n"
     ]
    }
   ],
   "source": [
    "str1 = \"this is string example....wow!!!\"\n",
    "str2 = \"exam\"\n",
    "\n",
    "print (str1.index(str2))\n",
    "print (str1.index(str2, 10))\n",
    "print (str1.index(str2, 15))"
   ]
  },
  {
   "cell_type": "markdown",
   "metadata": {},
   "source": [
    "### isalnum() \n",
    "Returns true if string has at least 1 character and all characters are alphanumeric and false otherwise."
   ]
  },
  {
   "cell_type": "code",
   "execution_count": 143,
   "metadata": {
    "ExecuteTime": {
     "end_time": "2019-03-13T19:08:45.311575Z",
     "start_time": "2019-03-13T19:08:45.261252Z"
    }
   },
   "outputs": [
    {
     "name": "stdout",
     "output_type": "stream",
     "text": [
      "True\n",
      "False\n"
     ]
    }
   ],
   "source": [
    "str = \"this2009\"  # No space in this string\n",
    "print (str.isalnum())\n",
    "\n",
    "str = \"this is string example....wow!!!\"\n",
    "print (str.isalnum())"
   ]
  },
  {
   "cell_type": "markdown",
   "metadata": {},
   "source": [
    "### isalpha() \n",
    "Returns true if string has at least 1 character and all characters are alphabetic and false otherwise."
   ]
  },
  {
   "cell_type": "code",
   "execution_count": 145,
   "metadata": {
    "ExecuteTime": {
     "end_time": "2019-03-13T19:09:12.687976Z",
     "start_time": "2019-03-13T19:09:12.633660Z"
    }
   },
   "outputs": [
    {
     "name": "stdout",
     "output_type": "stream",
     "text": [
      "True\n",
      "False\n"
     ]
    }
   ],
   "source": [
    "str = \"this\";  # No space & dhttps://notebook.infinitytech.co/user/pythondev/notebooks/DSP/DSPXI/0105_Types_Operations.ipynb#igit in this string\n",
    "print (str.isalpha())\n",
    "\n",
    "str = \"this is string example....wow!!!\";\n",
    "print (str.isalpha())"
   ]
  },
  {
   "cell_type": "markdown",
   "metadata": {},
   "source": [
    "### isdigit() \n",
    "Returns true if string contains only digits and false otherwise."
   ]
  },
  {
   "cell_type": "code",
   "execution_count": 147,
   "metadata": {
    "ExecuteTime": {
     "end_time": "2019-03-13T19:10:31.012994Z",
     "start_time": "2019-03-13T19:10:30.952430Z"
    }
   },
   "outputs": [
    {
     "name": "stdout",
     "output_type": "stream",
     "text": [
      "True\n",
      "False\n"
     ]
    }
   ],
   "source": [
    "str = \"123456\";  # Only digit in this string\n",
    "print (str.isdigit())\n",
    "\n",
    "str = \"this is string example....wow!!!\";\n",
    "print (str.isdigit())"
   ]
  },
  {
   "cell_type": "markdown",
   "metadata": {},
   "source": [
    "### islower() \n",
    "Returns true if string has at least 1 cased character and all cased characters are in lowercase and false otherwise."
   ]
  },
  {
   "cell_type": "code",
   "execution_count": null,
   "metadata": {},
   "outputs": [],
   "source": [
    "str = \"THIS is string example....wow!!!\"; \n",
    "print str.islower()\n",
    "\n",
    "str = \"this is string example....wow!!!\";\n",
    "print str.islower()"
   ]
  },
  {
   "cell_type": "markdown",
   "metadata": {},
   "source": [
    "### isnumeric()\n",
    "Returns true if a unicode string contains only numeric characters and false otherwise."
   ]
  },
  {
   "cell_type": "code",
   "execution_count": 148,
   "metadata": {
    "ExecuteTime": {
     "end_time": "2019-03-13T19:10:38.774732Z",
     "start_time": "2019-03-13T19:10:38.720049Z"
    }
   },
   "outputs": [
    {
     "name": "stdout",
     "output_type": "stream",
     "text": [
      "False\n",
      "True\n"
     ]
    }
   ],
   "source": [
    "str = u\"this2009\";  \n",
    "print (str.isnumeric())\n",
    "\n",
    "str = u\"23443434\";\n",
    "print (str.isnumeric())"
   ]
  },
  {
   "cell_type": "markdown",
   "metadata": {},
   "source": [
    "### isspace() \n",
    "Returns true if string contains only whitespace characters and false otherwise."
   ]
  },
  {
   "cell_type": "code",
   "execution_count": 149,
   "metadata": {
    "ExecuteTime": {
     "end_time": "2019-03-13T19:10:55.541885Z",
     "start_time": "2019-03-13T19:10:55.484076Z"
    }
   },
   "outputs": [
    {
     "name": "stdout",
     "output_type": "stream",
     "text": [
      "True\n",
      "False\n"
     ]
    }
   ],
   "source": [
    "str = \"       \"; \n",
    "print (str.isspace())\n",
    "\n",
    "str = \"This is string example....wow!!!\";\n",
    "print (str.isspace())"
   ]
  },
  {
   "cell_type": "markdown",
   "metadata": {},
   "source": [
    "### istitle() \n",
    "Returns true if string is properly \"titlecased\" and false otherwise."
   ]
  },
  {
   "cell_type": "code",
   "execution_count": null,
   "metadata": {},
   "outputs": [],
   "source": [
    "str = \"This Is String Example...Wow!!!\";\n",
    "print (str.istitle())\n",
    "\n",
    "str = \"This is string example....wow!!!\";\n",
    "print (str.istitle())"
   ]
  },
  {
   "cell_type": "markdown",
   "metadata": {},
   "source": [
    "### isupper() \n",
    "Returns true if string has at least one cased character and all cased characters are in uppercase and false otherwise."
   ]
  },
  {
   "cell_type": "code",
   "execution_count": 150,
   "metadata": {
    "ExecuteTime": {
     "end_time": "2019-03-13T19:13:06.721241Z",
     "start_time": "2019-03-13T19:13:06.691410Z"
    }
   },
   "outputs": [
    {
     "name": "stdout",
     "output_type": "stream",
     "text": [
      "True\n",
      "False\n"
     ]
    }
   ],
   "source": [
    "str = \"THIS IS STRING EXAMPLE....WOW!!!\"; \n",
    "print (str.isupper())\n",
    "\n",
    "str = \"THIS is string example....wow!!!\";\n",
    "print (str.isupper())"
   ]
  },
  {
   "cell_type": "markdown",
   "metadata": {},
   "source": [
    "### join(seq) \n",
    "Merges (concatenates) the string representations of elements in sequence seq into a string, with separator string."
   ]
  },
  {
   "cell_type": "code",
   "execution_count": 151,
   "metadata": {
    "ExecuteTime": {
     "end_time": "2019-03-13T19:13:12.722827Z",
     "start_time": "2019-03-13T19:13:12.681809Z"
    }
   },
   "outputs": [
    {
     "name": "stdout",
     "output_type": "stream",
     "text": [
      "a-b-c\n"
     ]
    }
   ],
   "source": [
    "s = \"-\";\n",
    "seq = (\"a\", \"b\", \"c\"); # This is sequence of strings.\n",
    "print (s.join( seq ))"
   ]
  },
  {
   "cell_type": "markdown",
   "metadata": {},
   "source": [
    "### len(string)\n",
    "Returns the length of the string"
   ]
  },
  {
   "cell_type": "code",
   "execution_count": 152,
   "metadata": {
    "ExecuteTime": {
     "end_time": "2019-03-13T19:13:18.486394Z",
     "start_time": "2019-03-13T19:13:18.451602Z"
    }
   },
   "outputs": [
    {
     "name": "stdout",
     "output_type": "stream",
     "text": [
      "Length of the string:  32\n"
     ]
    }
   ],
   "source": [
    "str = \"this is string example....wow!!!\";\n",
    "print (\"Length of the string: \", len(str))"
   ]
  },
  {
   "cell_type": "markdown",
   "metadata": {},
   "source": [
    "### ljust(width, fillchar) \n",
    "Returns a space-padded string with the original string left-justified to a total of width columns."
   ]
  },
  {
   "cell_type": "code",
   "execution_count": 157,
   "metadata": {
    "ExecuteTime": {
     "end_time": "2019-03-13T19:24:07.315979Z",
     "start_time": "2019-03-13T19:24:07.282228Z"
    }
   },
   "outputs": [
    {
     "name": "stdout",
     "output_type": "stream",
     "text": [
      "this is string example....wow!!!000000000000000000\n"
     ]
    }
   ],
   "source": [
    "str = \"this is string example....wow!!!\";\n",
    "print (str.ljust(50, '0'))"
   ]
  },
  {
   "cell_type": "markdown",
   "metadata": {},
   "source": [
    "### lower() \n",
    "Converts all uppercase letters in string to lowercase."
   ]
  },
  {
   "cell_type": "code",
   "execution_count": 158,
   "metadata": {
    "ExecuteTime": {
     "end_time": "2019-03-13T19:24:10.120289Z",
     "start_time": "2019-03-13T19:24:10.101810Z"
    }
   },
   "outputs": [
    {
     "name": "stdout",
     "output_type": "stream",
     "text": [
      "this is string example....wow!!!\n"
     ]
    }
   ],
   "source": [
    "str = \"THIS IS STRING EXAMPLE....WOW!!!\";\n",
    "print (str.lower())"
   ]
  },
  {
   "cell_type": "markdown",
   "metadata": {},
   "source": [
    "### lstrip() \n",
    "Removes all leading whitespace in string."
   ]
  },
  {
   "cell_type": "code",
   "execution_count": 159,
   "metadata": {
    "ExecuteTime": {
     "end_time": "2019-03-13T19:25:50.570792Z",
     "start_time": "2019-03-13T19:25:50.543871Z"
    }
   },
   "outputs": [
    {
     "name": "stdout",
     "output_type": "stream",
     "text": [
      "this is string example....wow!!!     \n",
      "this is string example....wow!!!8888888\n"
     ]
    }
   ],
   "source": [
    "str = \"     this is string example....wow!!!     \";\n",
    "print (str.lstrip())\n",
    "str = \"88888888this is string example....wow!!!8888888\";\n",
    "print (str.lstrip('8'))"
   ]
  },
  {
   "cell_type": "markdown",
   "metadata": {},
   "source": [
    "### max(str) \n",
    "Returns the max alphabetical character from the string str."
   ]
  },
  {
   "cell_type": "code",
   "execution_count": 162,
   "metadata": {
    "ExecuteTime": {
     "end_time": "2019-03-13T19:29:03.895923Z",
     "start_time": "2019-03-13T19:29:03.840188Z"
    }
   },
   "outputs": [
    {
     "name": "stdout",
     "output_type": "stream",
     "text": [
      "Max character: y\n",
      "Max character: x\n"
     ]
    }
   ],
   "source": [
    "str = \"this is really a string example....wow!!!\";\n",
    "print (\"Max character: \" + max(str))\n",
    "\n",
    "str = \"this is a string example....wow!!!\";\n",
    "print (\"Max character: \" + max(str))"
   ]
  },
  {
   "cell_type": "markdown",
   "metadata": {},
   "source": [
    "### min(str) \n",
    "Returns the min alphabetical character from the string str."
   ]
  },
  {
   "cell_type": "code",
   "execution_count": 163,
   "metadata": {
    "ExecuteTime": {
     "end_time": "2019-03-13T19:29:24.649527Z",
     "start_time": "2019-03-13T19:29:24.574693Z"
    }
   },
   "outputs": [
    {
     "name": "stdout",
     "output_type": "stream",
     "text": [
      "Min character: !\n",
      "Min character: !\n"
     ]
    }
   ],
   "source": [
    "str = \"this-is-real-string-example....wow!!!\";\n",
    "print (\"Min character: \" + min(str))\n",
    "\n",
    "str = \"this-is-a-string-example....wow!!!\";\n",
    "print (\"Min character: \" + min(str))"
   ]
  },
  {
   "cell_type": "markdown",
   "metadata": {},
   "source": [
    "### replace(old, new , max) \n",
    "Replaces all occurrences of old in string with new or at most max occurrences if max given."
   ]
  },
  {
   "cell_type": "code",
   "execution_count": 164,
   "metadata": {
    "ExecuteTime": {
     "end_time": "2019-03-13T19:29:49.419113Z",
     "start_time": "2019-03-13T19:29:49.371880Z"
    }
   },
   "outputs": [
    {
     "name": "stdout",
     "output_type": "stream",
     "text": [
      "thwas was string example....wow!!! thwas was really string\n",
      "thwas was string example....wow!!! thwas is really string\n"
     ]
    }
   ],
   "source": [
    "str = \"this is string example....wow!!! this is really string\"\n",
    "print (str.replace(\"is\", \"was\"))\n",
    "print (str.replace(\"is\", \"was\", 3))"
   ]
  },
  {
   "cell_type": "markdown",
   "metadata": {},
   "source": [
    "### rfind(str, beg=0,end=len(string)) \n",
    "Same as find(), but search backwards in string."
   ]
  },
  {
   "cell_type": "code",
   "execution_count": 165,
   "metadata": {
    "ExecuteTime": {
     "end_time": "2019-03-13T19:30:31.402136Z",
     "start_time": "2019-03-13T19:30:31.290454Z"
    }
   },
   "outputs": [
    {
     "name": "stdout",
     "output_type": "stream",
     "text": [
      "5\n",
      "5\n",
      "-1\n",
      "2\n",
      "2\n",
      "-1\n"
     ]
    }
   ],
   "source": [
    "str1 = \"this is really a string example....wow!!!\";\n",
    "str2 = \"is\";\n",
    "\n",
    "print (str1.rfind(str2))\n",
    "print (str1.rfind(str2, 0, 10))\n",
    "print (str1.rfind(str2, 10, 0))\n",
    "\n",
    "print (str1.find(str2))\n",
    "print (str1.find(str2, 0, 10))\n",
    "print (str1.find(str2, 10, 0))"
   ]
  },
  {
   "cell_type": "markdown",
   "metadata": {},
   "source": [
    "### rindex( str, beg=0, end=len(string)) \n",
    "Same as index(), but search backwards in string."
   ]
  },
  {
   "cell_type": "code",
   "execution_count": null,
   "metadata": {},
   "outputs": [],
   "source": [
    "str1 = \"this is string example....wow!!!\";\n",
    "str2 = \"is\";\n",
    "\n",
    "print (str1.rindex(str2))\n",
    "print (str1.index(str2))"
   ]
  },
  {
   "cell_type": "markdown",
   "metadata": {},
   "source": [
    "### rjust(width,fillchar) \n",
    "Returns a space-padded string with the original string right-justified to a total of width columns."
   ]
  },
  {
   "cell_type": "code",
   "execution_count": 166,
   "metadata": {
    "ExecuteTime": {
     "end_time": "2019-03-13T19:32:57.276825Z",
     "start_time": "2019-03-13T19:32:57.242916Z"
    }
   },
   "outputs": [
    {
     "name": "stdout",
     "output_type": "stream",
     "text": [
      "000000000000000000this is string example....wow!!!\n"
     ]
    }
   ],
   "source": [
    "str = \"this is string example....wow!!!\";\n",
    "print (str.rjust(50, '0'))"
   ]
  },
  {
   "cell_type": "markdown",
   "metadata": {},
   "source": [
    "### rstrip() \n",
    "Removes all trailing whitespace of string."
   ]
  },
  {
   "cell_type": "code",
   "execution_count": 167,
   "metadata": {
    "ExecuteTime": {
     "end_time": "2019-03-13T19:35:22.068467Z",
     "start_time": "2019-03-13T19:35:22.020923Z"
    }
   },
   "outputs": [
    {
     "name": "stdout",
     "output_type": "stream",
     "text": [
      "     this is string example....wow!!!\n",
      "88888888this is string example....wow!!!\n"
     ]
    }
   ],
   "source": [
    "str = \"     this is string example....wow!!!     \";\n",
    "print (str.rstrip())\n",
    "str = \"88888888this is string example....wow!!!8888888\";\n",
    "print (str.rstrip('8'))"
   ]
  },
  {
   "cell_type": "markdown",
   "metadata": {},
   "source": [
    "### split(str=\"\", num=string.count(str)) \n",
    "Splits string according to delimiter str (space if not provided) and returns list of substrings; split into at most num substrings if given."
   ]
  },
  {
   "cell_type": "code",
   "execution_count": 168,
   "metadata": {
    "ExecuteTime": {
     "end_time": "2019-03-13T19:35:29.626989Z",
     "start_time": "2019-03-13T19:35:29.588846Z"
    }
   },
   "outputs": [
    {
     "name": "stdout",
     "output_type": "stream",
     "text": [
      "['Line1-abcdef', 'Line2-abc', 'Line4-abcd']\n",
      "['Line1-abcdef', '\\nLine2-abc \\nLine4-abcd']\n"
     ]
    }
   ],
   "source": [
    "str = \"Line1-abcdef \\nLine2-abc \\nLine4-abcd\";\n",
    "print (str.split( ))\n",
    "print (str.split(' ', 1 ))"
   ]
  },
  {
   "cell_type": "markdown",
   "metadata": {},
   "source": [
    "### splitlines( num=string.count('\\n')) \n",
    "Splits string at all (or num) NEWLINEs and returns a list of each line with NEWLINEs removed."
   ]
  },
  {
   "cell_type": "code",
   "execution_count": 169,
   "metadata": {
    "ExecuteTime": {
     "end_time": "2019-03-13T19:35:45.874980Z",
     "start_time": "2019-03-13T19:35:45.794418Z"
    }
   },
   "outputs": [
    {
     "name": "stdout",
     "output_type": "stream",
     "text": [
      "['Line1-a b c d e f', 'Line2- a b c', '', 'Line4- a b c d']\n",
      "['Line1-a b c d e f', 'Line2- a b c', '', 'Line4- a b c d']\n",
      "['Line1-a b c d e f\\n', 'Line2- a b c\\n', '\\n', 'Line4- a b c d']\n",
      "['Line1-a b c d e f\\n', 'Line2- a b c\\n', '\\n', 'Line4- a b c d']\n",
      "['Line1-a b c d e f\\n', 'Line2- a b c\\n', '\\n', 'Line4- a b c d']\n"
     ]
    }
   ],
   "source": [
    "str = \"Line1-a b c d e f\\nLine2- a b c\\n\\nLine4- a b c d\";\n",
    "print (str.splitlines( ))\n",
    "print (str.splitlines( 0 ))\n",
    "print (str.splitlines( 3 ))\n",
    "print (str.splitlines( 4 ))\n",
    "print (str.splitlines( 5 ))"
   ]
  },
  {
   "cell_type": "markdown",
   "metadata": {},
   "source": [
    "### startswith(str, beg=0,end=len(string)) \n",
    "Determines if string or a substring of string (if starting index beg and ending index end are given) starts with substring str; returns true if so and false otherwise."
   ]
  },
  {
   "cell_type": "code",
   "execution_count": 170,
   "metadata": {
    "ExecuteTime": {
     "end_time": "2019-03-13T19:35:57.104458Z",
     "start_time": "2019-03-13T19:35:57.050687Z"
    }
   },
   "outputs": [
    {
     "name": "stdout",
     "output_type": "stream",
     "text": [
      "True\n",
      "True\n",
      "False\n"
     ]
    }
   ],
   "source": [
    "str = \"this is string example....wow!!!\";\n",
    "print (str.startswith( 'this' ))\n",
    "print (str.startswith( 'is', 2, 4 ))\n",
    "print (str.startswith( 'this', 2, 4 ))"
   ]
  },
  {
   "cell_type": "markdown",
   "metadata": {},
   "source": [
    "### strip(chars) \n",
    "Performs both lstrip() and rstrip() on string."
   ]
  },
  {
   "cell_type": "code",
   "execution_count": 171,
   "metadata": {
    "ExecuteTime": {
     "end_time": "2019-03-13T19:36:06.663231Z",
     "start_time": "2019-03-13T19:36:06.627127Z"
    }
   },
   "outputs": [
    {
     "name": "stdout",
     "output_type": "stream",
     "text": [
      "this is string example....wow!!!\n"
     ]
    }
   ],
   "source": [
    "str = \"0000000this is string example....wow!!!0000000\";\n",
    "print (str.strip( '0' ))"
   ]
  },
  {
   "cell_type": "markdown",
   "metadata": {},
   "source": [
    "### swapcase() \n",
    "Inverts case for all letters in string."
   ]
  },
  {
   "cell_type": "code",
   "execution_count": 172,
   "metadata": {
    "ExecuteTime": {
     "end_time": "2019-03-13T19:36:53.651432Z",
     "start_time": "2019-03-13T19:36:53.598967Z"
    }
   },
   "outputs": [
    {
     "name": "stdout",
     "output_type": "stream",
     "text": [
      "THIS IS STRING EXAMPLE....WOW!!!\n",
      "this is string example....wow!!!\n"
     ]
    }
   ],
   "source": [
    "str = \"this is string example....wow!!!\";\n",
    "print (str.swapcase())\n",
    "\n",
    "str = \"THIS IS STRING EXAMPLE....WOW!!!\";\n",
    "print (str.swapcase())"
   ]
  },
  {
   "cell_type": "markdown",
   "metadata": {},
   "source": [
    "### title() \n",
    "Returns \"titlecased\" version of string, that is, all words begin with uppercase and the rest are lowercase."
   ]
  },
  {
   "cell_type": "code",
   "execution_count": 173,
   "metadata": {
    "ExecuteTime": {
     "end_time": "2019-03-13T19:37:09.769538Z",
     "start_time": "2019-03-13T19:37:09.733103Z"
    }
   },
   "outputs": [
    {
     "name": "stdout",
     "output_type": "stream",
     "text": [
      "This Is String Example....Wow!!!\n"
     ]
    }
   ],
   "source": [
    "str = \"this is string example....wow!!!\";\n",
    "print (str.title())"
   ]
  },
  {
   "cell_type": "markdown",
   "metadata": {},
   "source": [
    "### upper() \n",
    "Converts lowercase letters in string to uppercase."
   ]
  },
  {
   "cell_type": "code",
   "execution_count": 174,
   "metadata": {
    "ExecuteTime": {
     "end_time": "2019-03-13T19:37:15.220478Z",
     "start_time": "2019-03-13T19:37:15.180754Z"
    }
   },
   "outputs": [
    {
     "name": "stdout",
     "output_type": "stream",
     "text": [
      "str.capitalize() :  THIS IS STRING EXAMPLE....WOW!!!\n"
     ]
    }
   ],
   "source": [
    "str = \"this is string example....wow!!!\";\n",
    "print (\"str.capitalize() : \", str.upper())"
   ]
  },
  {
   "cell_type": "markdown",
   "metadata": {},
   "source": [
    "### zfill (width) \n",
    "Returns original string leftpadded with zeros to a total of width characters; intended for numbers, zfill() retains any sign given (less one zero)."
   ]
  },
  {
   "cell_type": "code",
   "execution_count": 175,
   "metadata": {
    "ExecuteTime": {
     "end_time": "2019-03-13T19:37:23.956107Z",
     "start_time": "2019-03-13T19:37:23.904005Z"
    }
   },
   "outputs": [
    {
     "name": "stdout",
     "output_type": "stream",
     "text": [
      "00000000this is string example....wow!!!\n",
      "000000000000000000this is string example....wow!!!\n"
     ]
    }
   ],
   "source": [
    "str = \"this is string example....wow!!!\";\n",
    "print (str.zfill(40))\n",
    "print (str.zfill(50))"
   ]
  },
  {
   "cell_type": "markdown",
   "metadata": {},
   "source": [
    "### isdecimal() \n",
    "Returns true if a unicode string contains only decimal characters and false otherwise."
   ]
  },
  {
   "cell_type": "code",
   "execution_count": 176,
   "metadata": {
    "ExecuteTime": {
     "end_time": "2019-03-13T19:37:42.965152Z",
     "start_time": "2019-03-13T19:37:42.911391Z"
    }
   },
   "outputs": [
    {
     "name": "stdout",
     "output_type": "stream",
     "text": [
      "False\n",
      "True\n"
     ]
    }
   ],
   "source": [
    "str = u\"this2009\";  \n",
    "print (str.isdecimal())\n",
    "\n",
    "str = u\"23443434\";\n",
    "print (str.isdecimal())"
   ]
  },
  {
   "cell_type": "markdown",
   "metadata": {},
   "source": [
    "# Python Lists\n",
    "\n",
    "Lists are the most versatile of Python's compound data types. A list contains items separated by commas and enclosed within square brackets ([]). To some extent, lists are similar to arrays in C. One difference between them is that all the items belonging to a list can be of different data type.\n",
    "\n",
    "The values stored in a list can be accessed using the slice operator ([ ] and [:]) with indexes starting at 0 in the beginning of the list and working their way to end -1. The plus (+) sign is the list concatenation operator, and the asterisk (*) is the repetition operator.\n"
   ]
  },
  {
   "cell_type": "markdown",
   "metadata": {},
   "source": [
    "## Creating a list \n",
    "is as simple as putting different comma-separated values between square brackets"
   ]
  },
  {
   "cell_type": "code",
   "execution_count": 177,
   "metadata": {
    "ExecuteTime": {
     "end_time": "2019-03-13T19:40:47.894770Z",
     "start_time": "2019-03-13T19:40:47.748986Z"
    }
   },
   "outputs": [
    {
     "name": "stdout",
     "output_type": "stream",
     "text": [
      "['abcd', 786, 2.23, 'john', 70.2]\n",
      "abcd\n",
      "[786, 2.23]\n",
      "[2.23, 'john', 70.2]\n",
      "[123, 'john', 123, 'john']\n",
      "['abcd', 786, 2.23, 'john', 70.2, 123, 'john']\n"
     ]
    }
   ],
   "source": [
    "list1 = ['physics', 'chemistry', 1997, 2000];\n",
    "list2 = [1, 2, 3, 4, 5 ];\n",
    "list3 = [\"a\", \"b\", \"c\", \"d\"]\n",
    "\n",
    "list = [ 'abcd', 786 , 2.23, 'john', 70.2 ]\n",
    "tinylist = [123, 'john']\n",
    "\n",
    "print (list)            # Prints complete list\n",
    "print (list[0])         # Prints first element of the list\n",
    "print (list[1:3])       # Prints elements starting from 2nd till 4th \n",
    "print (list[2:])        # Prints elements starting from 3rd element\n",
    "print (tinylist * 2)    # Prints list two times\n",
    "print (list + tinylist) # Prints concatenated lists"
   ]
  },
  {
   "cell_type": "markdown",
   "metadata": {},
   "source": [
    "## Update List\n",
    "You can update single or multiple elements of lists by giving the slice on the left-hand side of the assignment operator, and you can add to elements in a list with the append() method"
   ]
  },
  {
   "cell_type": "code",
   "execution_count": 178,
   "metadata": {
    "ExecuteTime": {
     "end_time": "2019-03-13T19:41:36.339593Z",
     "start_time": "2019-03-13T19:41:36.271693Z"
    }
   },
   "outputs": [
    {
     "name": "stdout",
     "output_type": "stream",
     "text": [
      "Value available at index 2 : \n",
      "1997\n",
      "New value available at index 2 : \n",
      "2001\n"
     ]
    }
   ],
   "source": [
    "list = ['physics', 'chemistry', 1997, 2000];\n",
    "print (\"Value available at index 2 : \")\n",
    "print (list[2])\n",
    "list[2] = 2001;\n",
    "print (\"New value available at index 2 : \")\n",
    "print (list[2])"
   ]
  },
  {
   "cell_type": "markdown",
   "metadata": {},
   "source": [
    "## Remove\n",
    "To remove a list element, you can use either the del statement if you know exactly which element(s) you are deleting or the remove() method if you do not know"
   ]
  },
  {
   "cell_type": "code",
   "execution_count": 179,
   "metadata": {
    "ExecuteTime": {
     "end_time": "2019-03-13T19:42:32.848947Z",
     "start_time": "2019-03-13T19:42:32.796962Z"
    }
   },
   "outputs": [
    {
     "name": "stdout",
     "output_type": "stream",
     "text": [
      "['physics', 'chemistry', 1997, 2000]\n",
      "After deleting value at index 2 : \n",
      "['physics', 'chemistry', 2000]\n"
     ]
    }
   ],
   "source": [
    "list1 = ['physics', 'chemistry', 1997, 2000];\n",
    "print (list1)\n",
    "del list1[2];\n",
    "print (\"After deleting value at index 2 : \")\n",
    "print (list1)"
   ]
  },
  {
   "cell_type": "markdown",
   "metadata": {},
   "source": [
    "## List Operators\n",
    "Lists respond to the + and * operators much like strings they mean concatenation and repetition here too except that the result is a new list, not a string."
   ]
  },
  {
   "cell_type": "code",
   "execution_count": 180,
   "metadata": {
    "ExecuteTime": {
     "end_time": "2019-03-13T19:43:55.819210Z",
     "start_time": "2019-03-13T19:43:55.737102Z"
    }
   },
   "outputs": [
    {
     "name": "stdout",
     "output_type": "stream",
     "text": [
      "3\n",
      "[1, 2, 3, 4, 5, 6]\n",
      "[1, 2, 3, 1, 2, 3, 1, 2, 3, 1, 2, 3]\n",
      "True\n",
      "1\n",
      "2\n",
      "3\n",
      "4\n",
      "5\n",
      "6\n"
     ]
    }
   ],
   "source": [
    "\n",
    "list1 = [1,2,3]\n",
    "list2 = [4,5,6]\n",
    "\n",
    "print (len(list1))\n",
    "print (list1 + list2)\n",
    "print (list1*4)\n",
    "print (3 in list1)\n",
    "for x in list1+list2 : print (x)\n",
    "    "
   ]
  },
  {
   "cell_type": "markdown",
   "metadata": {},
   "source": [
    "## Index/Slice\n",
    "Because lists are sequences, indexing and slicing work the same way for lists as they do for strings"
   ]
  },
  {
   "cell_type": "code",
   "execution_count": 181,
   "metadata": {
    "ExecuteTime": {
     "end_time": "2019-03-13T19:44:38.637023Z",
     "start_time": "2019-03-13T19:44:38.584587Z"
    }
   },
   "outputs": [
    {
     "name": "stdout",
     "output_type": "stream",
     "text": [
      "SPAM!\n",
      "Spam\n",
      "['Spam', 'SPAM!']\n"
     ]
    }
   ],
   "source": [
    "\n",
    "L = ['spam', 'Spam', 'SPAM!']\n",
    "\n",
    "print (L[2])\n",
    "print (L[-2])\n",
    "print (L[1:])"
   ]
  },
  {
   "cell_type": "markdown",
   "metadata": {},
   "source": [
    "## Built-in List Functions & Methods\n",
    "\n",
    "Python includes the following list functions "
   ]
  },
  {
   "cell_type": "markdown",
   "metadata": {},
   "source": [
    "### len(list)  \n",
    "Gives the total length of the list."
   ]
  },
  {
   "cell_type": "code",
   "execution_count": 182,
   "metadata": {
    "ExecuteTime": {
     "end_time": "2019-03-13T19:54:45.658815Z",
     "start_time": "2019-03-13T19:54:45.609594Z"
    }
   },
   "outputs": [
    {
     "name": "stdout",
     "output_type": "stream",
     "text": [
      "First list length :  3\n",
      "Second list length :  2\n"
     ]
    }
   ],
   "source": [
    "list1, list2 = [123, 'xyz', 'zara'], [456, 'abc']\n",
    "print (\"First list length : \", len(list1))\n",
    "print (\"Second list length : \", len(list2))"
   ]
  },
  {
   "cell_type": "markdown",
   "metadata": {},
   "source": [
    "### max(list) \n",
    "Returns item from the list with max value."
   ]
  },
  {
   "cell_type": "code",
   "execution_count": 187,
   "metadata": {
    "ExecuteTime": {
     "end_time": "2019-03-13T19:58:33.712662Z",
     "start_time": "2019-03-13T19:58:33.662159Z"
    }
   },
   "outputs": [
    {
     "name": "stdout",
     "output_type": "stream",
     "text": [
      "Max value element :  zara\n",
      "Max value element :  700\n"
     ]
    }
   ],
   "source": [
    "list1, list2 = ['xyz', 'zara', 'abc'], [456, 700, 200]\n",
    "print (\"Max value element : \", max(list1))\n",
    "print (\"Max value element : \", max(list2))"
   ]
  },
  {
   "cell_type": "markdown",
   "metadata": {},
   "source": [
    "### min(list) \n",
    "Returns item from the list with min value."
   ]
  },
  {
   "cell_type": "code",
   "execution_count": 189,
   "metadata": {
    "ExecuteTime": {
     "end_time": "2019-03-13T19:58:56.754403Z",
     "start_time": "2019-03-13T19:58:56.706159Z"
    }
   },
   "outputs": [
    {
     "name": "stdout",
     "output_type": "stream",
     "text": [
      "min value element :  abc\n",
      "min value element :  200\n"
     ]
    }
   ],
   "source": [
    "list1, list2 = ['xyz', 'zara', 'abc'], [456, 700, 200]\n",
    "print (\"min value element : \", min(list1))\n",
    "print (\"min value element : \", min(list2))"
   ]
  },
  {
   "cell_type": "markdown",
   "metadata": {
    "collapsed": true
   },
   "source": [
    "### list.append(obj) \n",
    "Appends object obj to list"
   ]
  },
  {
   "cell_type": "code",
   "execution_count": 194,
   "metadata": {
    "ExecuteTime": {
     "end_time": "2019-03-13T20:11:13.626422Z",
     "start_time": "2019-03-13T20:11:13.587102Z"
    }
   },
   "outputs": [
    {
     "name": "stdout",
     "output_type": "stream",
     "text": [
      "Updated List :  [123, 'xyz', 'zara', 'abc', 2009]\n"
     ]
    }
   ],
   "source": [
    "aList = [123, 'xyz', 'zara', 'abc'];\n",
    "aList.append( 2009 );\n",
    "print (\"Updated List : \", aList)"
   ]
  },
  {
   "cell_type": "markdown",
   "metadata": {
    "collapsed": true
   },
   "source": [
    "### list.count(obj)\n",
    "Returns count of how many times obj occurs in list"
   ]
  },
  {
   "cell_type": "code",
   "execution_count": 195,
   "metadata": {
    "ExecuteTime": {
     "end_time": "2019-03-13T20:11:29.574239Z",
     "start_time": "2019-03-13T20:11:29.551103Z"
    }
   },
   "outputs": [
    {
     "name": "stdout",
     "output_type": "stream",
     "text": [
      "Count for 123 :  2\n",
      "Count for zara :  1\n"
     ]
    }
   ],
   "source": [
    "aList = [123, 'xyz', 'zara', 'abc', 123];\n",
    "print (\"Count for 123 : \", aList.count(123))\n",
    "print (\"Count for zara : \", aList.count('zara'))"
   ]
  },
  {
   "cell_type": "markdown",
   "metadata": {
    "collapsed": true
   },
   "source": [
    "### list.extend(seq) \n",
    "Appends the contents of seq to list"
   ]
  },
  {
   "cell_type": "code",
   "execution_count": 196,
   "metadata": {
    "ExecuteTime": {
     "end_time": "2019-03-13T20:12:43.138728Z",
     "start_time": "2019-03-13T20:12:43.112270Z"
    }
   },
   "outputs": [
    {
     "name": "stdout",
     "output_type": "stream",
     "text": [
      "Extended List :  [123, 'xyz', 'zara', 'abc', 123, 2009, 'manni']\n"
     ]
    }
   ],
   "source": [
    "aList = [123, 'xyz', 'zara', 'abc', 123];\n",
    "bList = [2009, 'manni'];\n",
    "aList.extend(bList)\n",
    "print (\"Extended List : \", aList )"
   ]
  },
  {
   "cell_type": "markdown",
   "metadata": {
    "collapsed": true
   },
   "source": [
    "### list.index(obj) \n",
    "Returns the lowest index in list that obj appears"
   ]
  },
  {
   "cell_type": "code",
   "execution_count": 198,
   "metadata": {
    "ExecuteTime": {
     "end_time": "2019-03-13T20:12:50.566092Z",
     "start_time": "2019-03-13T20:12:50.513858Z"
    }
   },
   "outputs": [
    {
     "name": "stdout",
     "output_type": "stream",
     "text": [
      "Index for xyz :  1\n",
      "Index for zara :  2\n"
     ]
    }
   ],
   "source": [
    "aList = [123, 'xyz', 'zara', 'abc'];\n",
    "print (\"Index for xyz : \", aList.index( 'xyz' ) )\n",
    "print (\"Index for zara : \", aList.index( 'zara' ) )"
   ]
  },
  {
   "cell_type": "markdown",
   "metadata": {
    "collapsed": true
   },
   "source": [
    "### list.insert(index, obj) \n",
    "Inserts object obj into list at offset index"
   ]
  },
  {
   "cell_type": "code",
   "execution_count": 199,
   "metadata": {
    "ExecuteTime": {
     "end_time": "2019-03-13T20:12:56.598554Z",
     "start_time": "2019-03-13T20:12:56.549765Z"
    }
   },
   "outputs": [
    {
     "name": "stdout",
     "output_type": "stream",
     "text": [
      "Final List :  [123, 'xyz', 'zara', 2009, 'abc']\n"
     ]
    }
   ],
   "source": [
    "aList = [123, 'xyz', 'zara', 'abc']\n",
    "aList.insert( 3, 2009)\n",
    "print (\"Final List : \", aList)"
   ]
  },
  {
   "cell_type": "markdown",
   "metadata": {
    "collapsed": true
   },
   "source": [
    "### list.pop(obj=list[-1]) \n",
    "Removes and returns last object or obj from list"
   ]
  },
  {
   "cell_type": "code",
   "execution_count": 200,
   "metadata": {
    "ExecuteTime": {
     "end_time": "2019-03-13T20:13:03.766367Z",
     "start_time": "2019-03-13T20:13:03.717227Z"
    }
   },
   "outputs": [
    {
     "name": "stdout",
     "output_type": "stream",
     "text": [
      "A List :  abc\n",
      "B List :  zara\n"
     ]
    }
   ],
   "source": [
    "aList = [123, 'xyz', 'zara', 'abc'];\n",
    "print (\"A List : \", aList.pop())\n",
    "print (\"B List : \", aList.pop(2))"
   ]
  },
  {
   "cell_type": "markdown",
   "metadata": {
    "collapsed": true
   },
   "source": [
    "### list.remove(obj) \n",
    "Removes object obj from list"
   ]
  },
  {
   "cell_type": "code",
   "execution_count": 201,
   "metadata": {
    "ExecuteTime": {
     "end_time": "2019-03-13T20:13:11.606520Z",
     "start_time": "2019-03-13T20:13:11.537592Z"
    }
   },
   "outputs": [
    {
     "name": "stdout",
     "output_type": "stream",
     "text": [
      "List :  [123, 'zara', 'abc', 'xyz']\n",
      "List :  [123, 'zara', 'xyz']\n"
     ]
    }
   ],
   "source": [
    "aList = [123, 'xyz', 'zara', 'abc', 'xyz'];\n",
    "aList.remove('xyz');\n",
    "print (\"List : \", aList)\n",
    "aList.remove('abc');\n",
    "print (\"List : \", aList)"
   ]
  },
  {
   "cell_type": "markdown",
   "metadata": {
    "collapsed": true
   },
   "source": [
    "### list.reverse() \n",
    "Reverses objects of list in place"
   ]
  },
  {
   "cell_type": "code",
   "execution_count": 202,
   "metadata": {
    "ExecuteTime": {
     "end_time": "2019-03-13T20:13:16.521914Z",
     "start_time": "2019-03-13T20:13:16.479922Z"
    }
   },
   "outputs": [
    {
     "name": "stdout",
     "output_type": "stream",
     "text": [
      "List :  ['xyz', 'abc', 'zara', 'xyz', 123]\n"
     ]
    }
   ],
   "source": [
    "aList = [123, 'xyz', 'zara', 'abc', 'xyz'];\n",
    "aList.reverse();\n",
    "print (\"List : \", aList)"
   ]
  },
  {
   "cell_type": "markdown",
   "metadata": {
    "collapsed": true
   },
   "source": [
    "### list.sort(func) \n",
    "Sorts objects of list, use compare func if given"
   ]
  },
  {
   "cell_type": "code",
   "execution_count": 204,
   "metadata": {
    "ExecuteTime": {
     "end_time": "2019-03-13T20:13:26.262449Z",
     "start_time": "2019-03-13T20:13:26.219013Z"
    }
   },
   "outputs": [
    {
     "name": "stdout",
     "output_type": "stream",
     "text": [
      "List :  ['abc', 'xyz', 'xyz', 'zara']\n"
     ]
    }
   ],
   "source": [
    "aList = ['xyz', 'zara', 'abc', 'xyz'];\n",
    "aList.sort();\n",
    "print (\"List : \", aList)"
   ]
  },
  {
   "cell_type": "markdown",
   "metadata": {},
   "source": [
    "# Python Tuples\n",
    "\n",
    "A tuple is another sequence data type that is similar to the list. A tuple consists of a number of values separated by commas. Unlike lists, however, tuples are enclosed within parentheses.\n",
    "\n",
    "The main differences between lists and tuples are: Lists are enclosed in brackets ( [ ] ) and their elements and size can be changed, while tuples are enclosed in parentheses ( ( ) ) and cannot be updated. Tuples can be thought of as read-only lists.\n"
   ]
  },
  {
   "cell_type": "code",
   "execution_count": 205,
   "metadata": {
    "ExecuteTime": {
     "end_time": "2019-03-13T20:25:55.876116Z",
     "start_time": "2019-03-13T20:25:55.763395Z"
    }
   },
   "outputs": [
    {
     "name": "stdout",
     "output_type": "stream",
     "text": [
      "('abcd', 786, 2.23, 'john', 70.2)\n",
      "abcd\n",
      "(786, 2.23)\n",
      "(2.23, 'john', 70.2)\n",
      "(123, 'john', 123, 'john')\n",
      "('abcd', 786, 2.23, 'john', 70.2, 123, 'john')\n"
     ]
    }
   ],
   "source": [
    "tuple = ( 'abcd', 786 , 2.23, 'john', 70.2  )\n",
    "tinytuple = (123, 'john')\n",
    "\n",
    "print (tuple)           # Prints complete list\n",
    "print (tuple[0])        # Prints first element of the list\n",
    "print (tuple[1:3])      # Prints elements starting from 2nd till 3rd \n",
    "print (tuple[2:])       # Prints elements starting from 3rd element\n",
    "print (tinytuple * 2)   # Prints list two times\n",
    "print (tuple + tinytuple) # Prints concatenated lists"
   ]
  },
  {
   "cell_type": "markdown",
   "metadata": {},
   "source": [
    "The following code is invalid with tuple, because we attempted to update a tuple, which is not allowed. Similar case is possible with lists "
   ]
  },
  {
   "cell_type": "code",
   "execution_count": 206,
   "metadata": {
    "ExecuteTime": {
     "end_time": "2019-03-13T20:26:06.989222Z",
     "start_time": "2019-03-13T20:26:06.877158Z"
    }
   },
   "outputs": [
    {
     "ename": "TypeError",
     "evalue": "'tuple' object does not support item assignment",
     "output_type": "error",
     "traceback": [
      "\u001b[0;31m---------------------------------------------------------------------------\u001b[0m",
      "\u001b[0;31mTypeError\u001b[0m                                 Traceback (most recent call last)",
      "\u001b[0;32m<ipython-input-206-5cefbb362bc3>\u001b[0m in \u001b[0;36m<module>\u001b[0;34m()\u001b[0m\n\u001b[1;32m      2\u001b[0m \u001b[0mlist\u001b[0m \u001b[0;34m=\u001b[0m \u001b[0;34m[\u001b[0m \u001b[0;34m'abcd'\u001b[0m\u001b[0;34m,\u001b[0m \u001b[0;36m786\u001b[0m \u001b[0;34m,\u001b[0m \u001b[0;36m2.23\u001b[0m\u001b[0;34m,\u001b[0m \u001b[0;34m'john'\u001b[0m\u001b[0;34m,\u001b[0m \u001b[0;36m70.2\u001b[0m  \u001b[0;34m]\u001b[0m\u001b[0;34m\u001b[0m\u001b[0m\n\u001b[1;32m      3\u001b[0m \u001b[0mlist\u001b[0m\u001b[0;34m[\u001b[0m\u001b[0;36m2\u001b[0m\u001b[0;34m]\u001b[0m \u001b[0;34m=\u001b[0m \u001b[0;36m1000\u001b[0m     \u001b[0;31m# Valid syntax with list\u001b[0m\u001b[0;34m\u001b[0m\u001b[0m\n\u001b[0;32m----> 4\u001b[0;31m \u001b[0mtuple\u001b[0m\u001b[0;34m[\u001b[0m\u001b[0;36m2\u001b[0m\u001b[0;34m]\u001b[0m \u001b[0;34m=\u001b[0m \u001b[0;36m1000\u001b[0m    \u001b[0;31m# Invalid syntax with tuple\u001b[0m\u001b[0;34m\u001b[0m\u001b[0m\n\u001b[0m",
      "\u001b[0;31mTypeError\u001b[0m: 'tuple' object does not support item assignment"
     ]
    }
   ],
   "source": [
    "tuple = ( 'abcd', 786 , 2.23, 'john', 70.2  )\n",
    "list = [ 'abcd', 786 , 2.23, 'john', 70.2  ]\n",
    "list[2] = 1000     # Valid syntax with list\n",
    "tuple[2] = 1000    # Invalid syntax with tuple"
   ]
  },
  {
   "cell_type": "markdown",
   "metadata": {},
   "source": [
    "## Accessing Values in Tuples\n",
    "\n",
    "To access values in tuple, use the square brackets for slicing along with the index or indices to obtain value available at that index.\n"
   ]
  },
  {
   "cell_type": "code",
   "execution_count": 207,
   "metadata": {
    "ExecuteTime": {
     "end_time": "2019-03-13T20:26:28.784473Z",
     "start_time": "2019-03-13T20:26:28.731630Z"
    }
   },
   "outputs": [
    {
     "name": "stdout",
     "output_type": "stream",
     "text": [
      "tup1[0]:  physics\n",
      "tup2[1:5]:  (2, 3, 4, 5)\n"
     ]
    }
   ],
   "source": [
    "tup1 = ('physics', 'chemistry', 1997, 2000)\n",
    "tup2 = (1, 2, 3, 4, 5, 6, 7 )\n",
    "print (\"tup1[0]: \", tup1[0])\n",
    "print (\"tup2[1:5]: \", tup2[1:5])"
   ]
  },
  {
   "cell_type": "markdown",
   "metadata": {},
   "source": [
    "## Delete Tuple Elements\n",
    "\n",
    "Removing individual tuple elements is not possible. There is, of course, nothing wrong with putting together another tuple with the undesired elements discarded."
   ]
  },
  {
   "cell_type": "code",
   "execution_count": 208,
   "metadata": {
    "ExecuteTime": {
     "end_time": "2019-03-13T20:26:46.645256Z",
     "start_time": "2019-03-13T20:26:46.531494Z"
    }
   },
   "outputs": [
    {
     "name": "stdout",
     "output_type": "stream",
     "text": [
      "('physics', 'chemistry', 1997, 2000)\n",
      "After deleting tup : \n"
     ]
    },
    {
     "ename": "NameError",
     "evalue": "name 'tup' is not defined",
     "output_type": "error",
     "traceback": [
      "\u001b[0;31m---------------------------------------------------------------------------\u001b[0m",
      "\u001b[0;31mNameError\u001b[0m                                 Traceback (most recent call last)",
      "\u001b[0;32m<ipython-input-208-8ba2be7073ff>\u001b[0m in \u001b[0;36m<module>\u001b[0;34m()\u001b[0m\n\u001b[1;32m      3\u001b[0m \u001b[0;32mdel\u001b[0m \u001b[0mtup\u001b[0m\u001b[0;34m\u001b[0m\u001b[0m\n\u001b[1;32m      4\u001b[0m \u001b[0mprint\u001b[0m \u001b[0;34m(\u001b[0m\u001b[0;34m\"After deleting tup : \"\u001b[0m\u001b[0;34m)\u001b[0m\u001b[0;34m\u001b[0m\u001b[0m\n\u001b[0;32m----> 5\u001b[0;31m \u001b[0mprint\u001b[0m \u001b[0;34m(\u001b[0m\u001b[0mtup\u001b[0m\u001b[0;34m)\u001b[0m\u001b[0;34m\u001b[0m\u001b[0m\n\u001b[0m",
      "\u001b[0;31mNameError\u001b[0m: name 'tup' is not defined"
     ]
    }
   ],
   "source": [
    "tup = ('physics', 'chemistry', 1997, 2000)\n",
    "print (tup)\n",
    "del tup\n",
    "print (\"After deleting tup : \")\n",
    "print (tup)"
   ]
  },
  {
   "cell_type": "markdown",
   "metadata": {},
   "source": [
    "<a id=\"section7\"></a>\n",
    "## Python Dictionary\n",
    "\n",
    "Python's dictionaries are kind of hash table type. They work like associative arrays or hashes found in Perl and consist of key-value pairs. A dictionary key can be almost any Python type, but are usually numbers or strings. Values, on the other hand, can be any arbitrary Python object.\n",
    "\n",
    "Dictionaries are enclosed by curly braces ({ }) and values can be assigned and accessed using square braces ([])."
   ]
  },
  {
   "cell_type": "code",
   "execution_count": 209,
   "metadata": {
    "ExecuteTime": {
     "end_time": "2019-03-13T20:27:17.136325Z",
     "start_time": "2019-03-13T20:27:17.020513Z"
    }
   },
   "outputs": [
    {
     "name": "stdout",
     "output_type": "stream",
     "text": [
      "This is one\n",
      "This is two\n",
      "{'name': 'john', 'code': 6734, 'dept': 'sales'}\n",
      "dict_keys(['name', 'code', 'dept'])\n",
      "dict_values(['john', 6734, 'sales'])\n"
     ]
    }
   ],
   "source": [
    "dict = {}\n",
    "dict['one'] = \"This is one\"\n",
    "dict[2]     = \"This is two\"\n",
    "\n",
    "tinydict = {'name': 'john','code':6734, 'dept': 'sales'}\n",
    "\n",
    "\n",
    "print (dict['one'])       # Prints value for 'one' key\n",
    "print (dict[2])           # Prints value for 2 key\n",
    "print (tinydict)          # Prints complete dictionary\n",
    "print (tinydict.keys())   # Prints all the keys\n",
    "print (tinydict.values()) # Prints all the values"
   ]
  },
  {
   "cell_type": "markdown",
   "metadata": {},
   "source": [
    "# Classes\n",
    "\n",
    "Objects are an encapsulation of variables and functions into a single entity. Objects get their variables and functions from classes. Classes are essentially a template to create your objects.\n",
    "A very basic class would look something like this:"
   ]
  },
  {
   "cell_type": "code",
   "execution_count": 210,
   "metadata": {
    "ExecuteTime": {
     "end_time": "2019-03-13T20:27:49.817626Z",
     "start_time": "2019-03-13T20:27:49.779086Z"
    }
   },
   "outputs": [],
   "source": [
    "class MyClass:\n",
    "    variable = \"Object1\"\n",
    "\n",
    "    def function(self):\n",
    "        print(\"This is a message inside the class.\")"
   ]
  },
  {
   "cell_type": "markdown",
   "metadata": {},
   "source": [
    "First, to assign the above class (the code) to an object you would do the following:"
   ]
  },
  {
   "cell_type": "code",
   "execution_count": 211,
   "metadata": {
    "ExecuteTime": {
     "end_time": "2019-03-13T20:27:57.001434Z",
     "start_time": "2019-03-13T20:27:56.977133Z"
    }
   },
   "outputs": [],
   "source": [
    "myobjectx = MyClass()"
   ]
  },
  {
   "cell_type": "markdown",
   "metadata": {},
   "source": [
    "Now the variable \"myobjectx\" holds an object of the class \"MyClass\" that contains the variable and the function defined within the class called \"MyClass\"."
   ]
  },
  {
   "cell_type": "markdown",
   "metadata": {},
   "source": [
    "## Accessing Object Variables\n",
    "To access the variable inside of the newly created object \"myobjectx\" you would do the following:"
   ]
  },
  {
   "cell_type": "code",
   "execution_count": 212,
   "metadata": {
    "ExecuteTime": {
     "end_time": "2019-03-13T20:28:14.197782Z",
     "start_time": "2019-03-13T20:28:14.154926Z"
    }
   },
   "outputs": [
    {
     "data": {
      "text/plain": [
       "'Object1'"
      ]
     },
     "execution_count": 212,
     "metadata": {},
     "output_type": "execute_result"
    }
   ],
   "source": [
    "myobjectx.variable"
   ]
  },
  {
   "cell_type": "markdown",
   "metadata": {},
   "source": [
    "You can create multiple different objects that are of the same class(have the same variables and functions defined). However, each object contains independent copies of the variables defined in the class. For instance, if we were to define another object with the \"MyClass\" class and then change the string in the variable above:"
   ]
  },
  {
   "cell_type": "code",
   "execution_count": 213,
   "metadata": {
    "ExecuteTime": {
     "end_time": "2019-03-13T20:28:19.152513Z",
     "start_time": "2019-03-13T20:28:19.072086Z"
    }
   },
   "outputs": [
    {
     "name": "stdout",
     "output_type": "stream",
     "text": [
      "Object1\n",
      "Object2\n"
     ]
    }
   ],
   "source": [
    "myobjectx = MyClass()\n",
    "myobjecty = MyClass()\n",
    "\n",
    "myobjecty.variable = \"Object2\"\n",
    "\n",
    "# Then print out both values\n",
    "print(myobjectx.variable)\n",
    "print(myobjecty.variable)"
   ]
  },
  {
   "cell_type": "markdown",
   "metadata": {},
   "source": [
    "## Accessing Object Functions\n",
    "To access a function inside of an object you use notation similar to accessing a variable:"
   ]
  },
  {
   "cell_type": "code",
   "execution_count": 214,
   "metadata": {
    "ExecuteTime": {
     "end_time": "2019-03-13T20:28:28.315350Z",
     "start_time": "2019-03-13T20:28:28.281344Z"
    }
   },
   "outputs": [
    {
     "name": "stdout",
     "output_type": "stream",
     "text": [
      "This is a message inside the class.\n"
     ]
    }
   ],
   "source": [
    "myobjectx.function()"
   ]
  },
  {
   "cell_type": "markdown",
   "metadata": {},
   "source": [
    "# Data Type Conversion\n",
    "\n",
    "Sometimes, you may need to perform conversions between the built-in types. To convert between types, you simply use the type name as a function."
   ]
  },
  {
   "cell_type": "markdown",
   "metadata": {},
   "source": [
    "There are several built-in functions to perform conversion from one data type to another. These functions return a new object representing the converted value.\n",
    "\n",
    ">* __int(x [,base])__ : Converts x to an integer. base specifies the base if x is a string.\n",
    "* __long(x [,base])__ : Converts x to a long integer. base specifies the base if x is a string.\n",
    "* __float(x)__ : Converts x to a floating-point number.\n",
    "* __complex(real [,imag])__ : Creates a complex number.\n",
    "* __str(x)__ : Converts object x to a string representation.\n",
    "* __repr(x)__ : Converts object x to an expression string. \n",
    "* __eval(str)__ : Evaluates a string and returns an object.\n",
    "* __tuple(s)__ : Converts s to a tuple.\n",
    "* __list(s)__ : Converts s to a list.\n",
    "* __set(s__) : Converts s to a set.\n",
    "* __dict(d)__ : Creates a dictionary. d must be a sequence of (key,value) tuples.\n",
    "* __frozenset(s)__ : Converts s to a frozen set.\n",
    "* __chr(x)__ : Converts an integer to a character.\n",
    "* __unichr(x)__ : Converts an integer to a Unicode character.\n",
    "* __ord(x)__ : Converts a single character to its integer value.\n",
    "* __hex(x)__ : Converts an integer to a hexadecimal string.\n",
    "* __oct(x)__ : Converts an integer to an octal string."
   ]
  },
  {
   "cell_type": "markdown",
   "metadata": {},
   "source": [
    "# Types of Operators\n",
    "\n",
    "Operators are the constructs which can manipulate the value of operands.\n",
    "\n",
    "Consider the expression 4 + 5 = 9. Here, 4 and 5 are called operands and + is called operator.\n",
    "\n",
    "* Python language supports the following types of operators. \n",
    "\n",
    "__Note__ : This are the most comon types"
   ]
  },
  {
   "cell_type": "markdown",
   "metadata": {
    "collapsed": true
   },
   "source": [
    "## Arithmetic Operators"
   ]
  },
  {
   "cell_type": "code",
   "execution_count": 235,
   "metadata": {
    "ExecuteTime": {
     "end_time": "2019-03-13T23:47:29.656555Z",
     "start_time": "2019-03-13T23:47:29.627953Z"
    }
   },
   "outputs": [],
   "source": [
    "a = 21\n",
    "b = 10\n",
    "c = 0"
   ]
  },
  {
   "cell_type": "markdown",
   "metadata": {
    "collapsed": true
   },
   "source": [
    "## Addition : \n",
    "Adds values on either side of the operator."
   ]
  },
  {
   "cell_type": "code",
   "execution_count": 236,
   "metadata": {
    "ExecuteTime": {
     "end_time": "2019-03-13T23:47:45.802239Z",
     "start_time": "2019-03-13T23:47:45.769184Z"
    }
   },
   "outputs": [
    {
     "name": "stdout",
     "output_type": "stream",
     "text": [
      "Line 1 - Value of c is  31\n"
     ]
    }
   ],
   "source": [
    "c = a + b\n",
    "print (\"Line 1 - Value of c is \", c)"
   ]
  },
  {
   "cell_type": "markdown",
   "metadata": {
    "ExecuteTime": {
     "end_time": "2019-03-13T20:33:17.847559Z",
     "start_time": "2019-03-13T20:33:17.761491Z"
    },
    "collapsed": true
   },
   "source": [
    "## Substraction : \n",
    "Subtracts right hand operand from left hand operand."
   ]
  },
  {
   "cell_type": "code",
   "execution_count": 237,
   "metadata": {
    "ExecuteTime": {
     "end_time": "2019-03-13T23:47:47.492142Z",
     "start_time": "2019-03-13T23:47:47.460280Z"
    }
   },
   "outputs": [
    {
     "name": "stdout",
     "output_type": "stream",
     "text": [
      "Line 2 - Value of c is  11\n"
     ]
    }
   ],
   "source": [
    "c = a - b\n",
    "print (\"Line 2 - Value of c is \", c )"
   ]
  },
  {
   "cell_type": "markdown",
   "metadata": {
    "collapsed": true
   },
   "source": [
    "## Multiplication : \n",
    "Multiplies values on either side of the operator"
   ]
  },
  {
   "cell_type": "code",
   "execution_count": 239,
   "metadata": {
    "ExecuteTime": {
     "end_time": "2019-03-13T23:47:55.619944Z",
     "start_time": "2019-03-13T23:47:55.586067Z"
    }
   },
   "outputs": [
    {
     "name": "stdout",
     "output_type": "stream",
     "text": [
      "Line 3 - Value of c is  210\n"
     ]
    }
   ],
   "source": [
    "c = a * b\n",
    "print (\"Line 3 - Value of c is \", c )"
   ]
  },
  {
   "cell_type": "code",
   "execution_count": 240,
   "metadata": {
    "ExecuteTime": {
     "end_time": "2019-03-13T23:47:57.645928Z",
     "start_time": "2019-03-13T23:47:57.604391Z"
    }
   },
   "outputs": [
    {
     "name": "stdout",
     "output_type": "stream",
     "text": [
      "Line 4 - Value of c is  2.1\n"
     ]
    }
   ],
   "source": [
    "#Division: Divides left hand operand by right hand operand\n",
    "c = a / b\n",
    "print (\"Line 4 - Value of c is \", c )"
   ]
  },
  {
   "cell_type": "code",
   "execution_count": 229,
   "metadata": {
    "ExecuteTime": {
     "end_time": "2019-03-13T20:36:49.092125Z",
     "start_time": "2019-03-13T20:36:49.050445Z"
    }
   },
   "outputs": [
    {
     "name": "stdout",
     "output_type": "stream",
     "text": [
      "Line 5 - Value of c is  1\n"
     ]
    }
   ],
   "source": [
    "#Modulus : Divides left hand operand by right hand operand and returns remainder\n",
    "c = a % b\n",
    "print (\"Line 5 - Value of c is \", c)"
   ]
  },
  {
   "cell_type": "code",
   "execution_count": 230,
   "metadata": {
    "ExecuteTime": {
     "end_time": "2019-03-13T20:37:03.449010Z",
     "start_time": "2019-03-13T20:37:03.398315Z"
    }
   },
   "outputs": [
    {
     "name": "stdout",
     "output_type": "stream",
     "text": [
      "Line 6 - Value of c is  8\n"
     ]
    }
   ],
   "source": [
    "#Exponent : Performs exponential (power) calculation on operators\n",
    "a = 2\n",
    "b = 3\n",
    "c = a**b \n",
    "print (\"Line 6 - Value of c is \", c)"
   ]
  },
  {
   "cell_type": "code",
   "execution_count": 231,
   "metadata": {
    "ExecuteTime": {
     "end_time": "2019-03-13T20:37:19.381007Z",
     "start_time": "2019-03-13T20:37:19.329770Z"
    }
   },
   "outputs": [
    {
     "name": "stdout",
     "output_type": "stream",
     "text": [
      "Line 7 - Value of c is  2\n"
     ]
    }
   ],
   "source": [
    "#Floor Division : The division of operands where the result is the quotient in which the digits after the decimal point are removed. \n",
    "#But if one of the operands is negative, the result is floored, i.e., rounded away from zero (towards negative infinity)\n",
    "a = 10\n",
    "b = 5\n",
    "c = a//b \n",
    "print (\"Line 7 - Value of c is \", c)"
   ]
  },
  {
   "cell_type": "markdown",
   "metadata": {
    "collapsed": true
   },
   "source": [
    "## Comparison Operators\n",
    "These operators compare the values on either sides of them and decide the relation among them. They are also called Relational operators"
   ]
  },
  {
   "cell_type": "markdown",
   "metadata": {
    "ExecuteTime": {
     "end_time": "2019-03-13T20:39:18.497069Z",
     "start_time": "2019-03-13T20:39:18.450147Z"
    },
    "collapsed": true
   },
   "source": [
    "If the values of two operands are equal, then the condition becomes true."
   ]
  },
  {
   "cell_type": "code",
   "execution_count": 241,
   "metadata": {
    "ExecuteTime": {
     "end_time": "2019-03-13T23:48:09.280485Z",
     "start_time": "2019-03-13T23:48:09.235046Z"
    }
   },
   "outputs": [
    {
     "name": "stdout",
     "output_type": "stream",
     "text": [
      "Line 1 - a is not equal to b\n"
     ]
    }
   ],
   "source": [
    "if ( a == b ):\n",
    "    print (\"a is equal to b\")\n",
    "else:\n",
    "    print (\"b is not equal to b\")"
   ]
  },
  {
   "cell_type": "code",
   "execution_count": 243,
   "metadata": {
    "ExecuteTime": {
     "end_time": "2019-03-13T23:48:32.883374Z",
     "start_time": "2019-03-13T23:48:32.829631Z"
    }
   },
   "outputs": [
    {
     "name": "stdout",
     "output_type": "stream",
     "text": [
      "Line 2 - a is not equal to b\n"
     ]
    }
   ],
   "source": [
    "#If values of two operands are not equal, then condition becomes true.\n",
    "if ( a != b ):\n",
    "    print (\"a is not equal to b\")\n",
    "else:\n",
    "    print (\"a is equal to b\")"
   ]
  },
  {
   "cell_type": "code",
   "execution_count": 248,
   "metadata": {
    "ExecuteTime": {
     "end_time": "2019-03-13T23:49:58.880650Z",
     "start_time": "2019-03-13T23:49:58.832110Z"
    }
   },
   "outputs": [
    {
     "name": "stdout",
     "output_type": "stream",
     "text": [
      "a is not equal to b\n"
     ]
    }
   ],
   "source": [
    "#If values of two operands are not equal, then condition becomes true.\n",
    "if ( a != b ):\n",
    "    print (\"a is not equal to b\")\n",
    "else:\n",
    "    print (\"a is equal to b\")"
   ]
  },
  {
   "cell_type": "code",
   "execution_count": 249,
   "metadata": {
    "ExecuteTime": {
     "end_time": "2019-03-13T23:50:28.411802Z",
     "start_time": "2019-03-13T23:50:28.370408Z"
    }
   },
   "outputs": [
    {
     "name": "stdout",
     "output_type": "stream",
     "text": [
      "a is not less than b\n"
     ]
    }
   ],
   "source": [
    "#If the value of left operand is less than the value of right operand, then condition becomes true.\n",
    "if ( a < b ):\n",
    "    print (\"a is less than b\")\n",
    "else:\n",
    "    print (\"a is not less than b\")"
   ]
  },
  {
   "cell_type": "code",
   "execution_count": 251,
   "metadata": {
    "ExecuteTime": {
     "end_time": "2019-03-13T23:51:03.203351Z",
     "start_time": "2019-03-13T23:51:03.158808Z"
    }
   },
   "outputs": [
    {
     "name": "stdout",
     "output_type": "stream",
     "text": [
      "a is not greater than b\n"
     ]
    }
   ],
   "source": [
    "#If the value of left operand is greater than the value of right operand, then condition becomes true.\n",
    "if ( a > b ):\n",
    "    print (\"a is greater than b\")\n",
    "else:\n",
    "    print (\"a is not greater than b\")\n"
   ]
  },
  {
   "cell_type": "code",
   "execution_count": 252,
   "metadata": {
    "ExecuteTime": {
     "end_time": "2019-03-13T23:51:27.439666Z",
     "start_time": "2019-03-13T23:51:27.379468Z"
    }
   },
   "outputs": [
    {
     "name": "stdout",
     "output_type": "stream",
     "text": [
      "a is either less than or equal to  b\n"
     ]
    }
   ],
   "source": [
    "#If the value of left operand is less than or equal to the value of right operand, then condition becomes true.\n",
    "\n",
    "a = 5\n",
    "b = 20\n",
    "\n",
    "if ( a <= b ):\n",
    "    print (\"a is either less than or equal to  b\")\n",
    "else:\n",
    "    print (\"a is neither less than nor equal to  b\")"
   ]
  },
  {
   "cell_type": "code",
   "execution_count": 253,
   "metadata": {
    "ExecuteTime": {
     "end_time": "2019-03-13T23:52:09.995999Z",
     "start_time": "2019-03-13T23:52:09.950417Z"
    }
   },
   "outputs": [
    {
     "name": "stdout",
     "output_type": "stream",
     "text": [
      "b is either greater than  or equal to b\n"
     ]
    }
   ],
   "source": [
    "#If the value of left operand is greater than or equal to the value of right operand, then condition becomes true.\n",
    "if ( b >= a ):\n",
    "    print (\"b is either greater than  or equal to b\")\n",
    "else:\n",
    "    print (\"b is neither greater than  nor equal to b\")"
   ]
  },
  {
   "cell_type": "code",
   "execution_count": 261,
   "metadata": {
    "ExecuteTime": {
     "end_time": "2019-03-13T23:53:34.994262Z",
     "start_time": "2019-03-13T23:53:34.961772Z"
    }
   },
   "outputs": [
    {
     "name": "stdout",
     "output_type": "stream",
     "text": [
      "Value of c is  25\n"
     ]
    }
   ],
   "source": [
    "#Assigns values from right side operands to left side operand\n",
    "c = a + b\n",
    "print (\"Value of c is \", c)"
   ]
  },
  {
   "cell_type": "code",
   "execution_count": 255,
   "metadata": {
    "ExecuteTime": {
     "end_time": "2019-03-13T23:52:26.897314Z",
     "start_time": "2019-03-13T23:52:26.859864Z"
    }
   },
   "outputs": [
    {
     "name": "stdout",
     "output_type": "stream",
     "text": [
      "Value of c is  30\n"
     ]
    }
   ],
   "source": [
    "#It adds right operand to the left operand and assign the result to left operand\n",
    "c += a\n",
    "print (\"Value of c is \", c )"
   ]
  },
  {
   "cell_type": "code",
   "execution_count": 257,
   "metadata": {
    "ExecuteTime": {
     "end_time": "2019-03-13T23:52:44.663617Z",
     "start_time": "2019-03-13T23:52:44.625014Z"
    }
   },
   "outputs": [
    {
     "name": "stdout",
     "output_type": "stream",
     "text": [
      "Value of c is  150\n"
     ]
    }
   ],
   "source": [
    "#It multiplies right operand with the left operand and assign the result to left operand\n",
    "c *= a\n",
    "print (\"Value of c is \", c )"
   ]
  },
  {
   "cell_type": "code",
   "execution_count": 258,
   "metadata": {
    "ExecuteTime": {
     "end_time": "2019-03-13T23:53:09.440214Z",
     "start_time": "2019-03-13T23:53:09.420544Z"
    }
   },
   "outputs": [
    {
     "name": "stdout",
     "output_type": "stream",
     "text": [
      "Value of c is  30.0\n"
     ]
    }
   ],
   "source": [
    "#It divides left operand with the right operand and assign the result to left operand\n",
    "c /= a \n",
    "print (\"Value of c is \", c )"
   ]
  },
  {
   "cell_type": "code",
   "execution_count": 262,
   "metadata": {
    "ExecuteTime": {
     "end_time": "2019-03-13T23:53:36.993133Z",
     "start_time": "2019-03-13T23:53:36.957725Z"
    }
   },
   "outputs": [
    {
     "name": "stdout",
     "output_type": "stream",
     "text": [
      "c is  0\n"
     ]
    }
   ],
   "source": [
    "#c  = 2\n",
    "#It takes modulus using two operands and assign the result to left operand\n",
    "c %= a\n",
    "print (\"c is \", c)"
   ]
  },
  {
   "cell_type": "code",
   "execution_count": 263,
   "metadata": {
    "ExecuteTime": {
     "end_time": "2019-03-13T23:53:39.877266Z",
     "start_time": "2019-03-13T23:53:39.842688Z"
    }
   },
   "outputs": [
    {
     "name": "stdout",
     "output_type": "stream",
     "text": [
      "Value of c is  0\n"
     ]
    }
   ],
   "source": [
    "#Performs exponential (power) calculation on operators and assign value to the left operand\n",
    "c **= a\n",
    "print (\"Value of c is \", c)"
   ]
  },
  {
   "cell_type": "code",
   "execution_count": 264,
   "metadata": {
    "ExecuteTime": {
     "end_time": "2019-03-13T23:54:02.941352Z",
     "start_time": "2019-03-13T23:54:02.904977Z"
    }
   },
   "outputs": [
    {
     "name": "stdout",
     "output_type": "stream",
     "text": [
      "Value of c is  0\n"
     ]
    }
   ],
   "source": [
    "#It performs floor division on operators and assign value to the left operand\n",
    "c //= a\n",
    "print (\"Value of c is \", c)"
   ]
  },
  {
   "cell_type": "code",
   "execution_count": null,
   "metadata": {},
   "outputs": [],
   "source": [
    "#Identity Operators"
   ]
  },
  {
   "cell_type": "code",
   "execution_count": 269,
   "metadata": {
    "ExecuteTime": {
     "end_time": "2019-03-13T23:55:19.869547Z",
     "start_time": "2019-03-13T23:55:19.841979Z"
    }
   },
   "outputs": [],
   "source": [
    "a = 20\n",
    "b = 20"
   ]
  },
  {
   "cell_type": "code",
   "execution_count": 270,
   "metadata": {
    "ExecuteTime": {
     "end_time": "2019-03-13T23:55:21.287473Z",
     "start_time": "2019-03-13T23:55:21.245171Z"
    }
   },
   "outputs": [
    {
     "name": "stdout",
     "output_type": "stream",
     "text": [
      "a and b have same identity\n"
     ]
    }
   ],
   "source": [
    "# is : Evaluates to true if the variables on either side of the operator point to the same object and false otherwise.\n",
    "if ( a is b ):\n",
    "    print (\"a and b have same identity\")\n",
    "else:\n",
    "    print (\"a and b do not have same identity\")"
   ]
  },
  {
   "cell_type": "code",
   "execution_count": 271,
   "metadata": {
    "ExecuteTime": {
     "end_time": "2019-03-13T23:55:23.491284Z",
     "start_time": "2019-03-13T23:55:23.440062Z"
    }
   },
   "outputs": [
    {
     "name": "stdout",
     "output_type": "stream",
     "text": [
      "a and b have same identity\n"
     ]
    }
   ],
   "source": [
    "if ( id(a) == id(b) ):\n",
    "    print (\"a and b have same identity\")\n",
    "else:\n",
    "    print (\"a and b do not have same identity\")"
   ]
  },
  {
   "cell_type": "code",
   "execution_count": 272,
   "metadata": {
    "ExecuteTime": {
     "end_time": "2019-03-13T23:56:09.641975Z",
     "start_time": "2019-03-13T23:56:09.591578Z"
    }
   },
   "outputs": [
    {
     "name": "stdout",
     "output_type": "stream",
     "text": [
      "a and b do not have same identity\n"
     ]
    }
   ],
   "source": [
    "b = 30\n",
    "if ( a is b ):\n",
    "    print (\"a and b have same identity\")\n",
    "else:\n",
    "    print (\"a and b do not have same identity\")"
   ]
  },
  {
   "cell_type": "code",
   "execution_count": 273,
   "metadata": {
    "ExecuteTime": {
     "end_time": "2019-03-13T23:56:11.224946Z",
     "start_time": "2019-03-13T23:56:11.178695Z"
    },
    "scrolled": true
   },
   "outputs": [
    {
     "name": "stdout",
     "output_type": "stream",
     "text": [
      "a and b do not have same identity\n"
     ]
    }
   ],
   "source": [
    "# is not : Evaluates to false if the variables on either side of the operator point to the same object and true otherwise.\n",
    "if ( a is not b ):\n",
    "    print (\"a and b do not have same identity\")\n",
    "else:\n",
    "    print (\"a and b have same identity\")"
   ]
  }
 ],
 "metadata": {
  "_draft": {
   "nbviewer_url": "https://gist.github.com/52f98db72bf8c20b568d0dc425ea17e9"
  },
  "gist": {
   "data": {
    "description": "Module1/01 - Intro/01.05_Types_Operations.ipynb",
    "public": true
   },
   "id": "52f98db72bf8c20b568d0dc425ea17e9"
  },
  "kernelspec": {
   "display_name": "Python 3",
   "language": "python",
   "name": "dspxi"
  },
  "language_info": {
   "codemirror_mode": {
    "name": "ipython",
    "version": 3
   },
   "file_extension": ".py",
   "mimetype": "text/x-python",
   "name": "python",
   "nbconvert_exporter": "python",
   "pygments_lexer": "ipython3",
   "version": "3.6.8"
  },
  "toc": {
   "base_numbering": "1",
   "nav_menu": {},
   "number_sections": false,
   "sideBar": true,
   "skip_h1_title": false,
   "title_cell": "Table of Contents",
   "title_sidebar": "Contents",
   "toc_cell": true,
   "toc_position": {
    "height": "calc(100% - 180px)",
    "left": "10px",
    "top": "150px",
    "width": "384px"
   },
   "toc_section_display": true,
   "toc_window_display": true
  },
  "varInspector": {
   "cols": {
    "lenName": 16,
    "lenType": 16,
    "lenVar": 40
   },
   "kernels_config": {
    "python": {
     "delete_cmd_postfix": "",
     "delete_cmd_prefix": "del ",
     "library": "var_list.py",
     "varRefreshCmd": "print(var_dic_list())"
    },
    "r": {
     "delete_cmd_postfix": ") ",
     "delete_cmd_prefix": "rm(",
     "library": "var_list.r",
     "varRefreshCmd": "cat(var_dic_list()) "
    }
   },
   "types_to_exclude": [
    "module",
    "function",
    "builtin_function_or_method",
    "instance",
    "_Feature"
   ],
   "window_display": false
  }
 },
 "nbformat": 4,
 "nbformat_minor": 2
}
