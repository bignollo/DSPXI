{
 "cells": [
  {
   "cell_type": "markdown",
   "metadata": {
    "ExecuteTime": {
     "end_time": "2019-03-20T00:34:38.442375Z",
     "start_time": "2019-03-20T00:34:38.286066Z"
    }
   },
   "source": [
    "![image.png](https://raw.githubusercontent.com/fjvarasc/DSPXI/master/figures/py_logo.png)"
   ]
  },
  {
   "cell_type": "markdown",
   "metadata": {
    "toc": true
   },
   "source": [
    "<h1>Table of Contents<span class=\"tocSkip\"></span></h1>\n",
    "<div class=\"toc\"><ul class=\"toc-item\"><li><span><a href=\"#Using-Virtual-Environments-in-Jupyter-Notebook-and-Python\" data-toc-modified-id=\"Using-Virtual-Environments-in-Jupyter-Notebook-and-Python-1\">Using Virtual Environments in Jupyter Notebook and Python</a></span></li><li><span><a href=\"#Create-Virtual-Environment-with-Virtualenv/venv\" data-toc-modified-id=\"Create-Virtual-Environment-with-Virtualenv/venv-2\">Create Virtual Environment with Virtualenv/venv</a></span></li><li><span><a href=\"#Create-Virtual-Environment-with-Anaconda\" data-toc-modified-id=\"Create-Virtual-Environment-with-Anaconda-3\">Create Virtual Environment with Anaconda</a></span></li><li><span><a href=\"#Add-Virtual-Environment-to-Jupyter-Notebook\" data-toc-modified-id=\"Add-Virtual-Environment-to-Jupyter-Notebook-4\">Add Virtual Environment to Jupyter Notebook</a></span></li><li><span><a href=\"#Remove-Virtual-Environment-from-Jupyter-Notebook\" data-toc-modified-id=\"Remove-Virtual-Environment-from-Jupyter-Notebook-5\">Remove Virtual Environment from Jupyter Notebook</a></span></li></ul></div>"
   ]
  },
  {
   "cell_type": "markdown",
   "metadata": {},
   "source": [
    "# Using Virtual Environments in Jupyter Notebook and Python"
   ]
  },
  {
   "cell_type": "markdown",
   "metadata": {
    "ExecuteTime": {
     "end_time": "2019-03-06T11:24:44.462413Z",
     "start_time": "2019-03-06T11:24:44.442677Z"
    }
   },
   "source": [
    "Before we start, what is a virtual environment (**[Virtualenv](https://virtualenv.pypa.io/en/latest/)**/**[venv](https://docs.python.org/3/library/venv.html)**) and why do you need it? \n",
    "\n",
    "A virtual environment is an isolated working copy of Python. This means that each environment can have its own dependencies or even its own Python versions. This is useful if you need different versions of Python or packages for different projects. This also keeps things tidy when testing packages and making sure your main Python installation stays healthy.  \n",
    "\n",
    "# Create Virtual Environment with Virtualenv/venv\n",
    "A commonly used tool for virtual environments in Python is virtualenv. Since Python 3.3, a subset of virtualenv has been integrated in the Python standard library under the venv module. If you are using Python 2, you can install virtualenv with:\n",
    "\n",
    "`pip install --user virtualenv`\n",
    "\n",
    "Now, you can create a virtual environment with:\n",
    "\n",
    "`virtualenv myenv`\n",
    "\n",
    "where `myenv` can be replaced with the name you want for your virtual environment. The virtual environment can be found in the `myenv` folder. For Python >= 3.3, you can create a virtual environment with:\n",
    "\n",
    "`python -m venv myenv`\n",
    "\n",
    "After you have created your virtual environment, you can activate the virtual environment with:\n",
    "\n",
    "`source myenv/bin/activate`\n",
    "\n",
    "To deactivate the virtual environment, you can run `deactivate`. To delete the virtual environment you just need to remove the folder with the virtual environment (e.g. `rm -r myenv`). For further information, have a read in the **[virtualenv documentation](https://virtualenv.pypa.io/en/latest/)** or **[venv documentation](https://docs.python.org/3/library/venv.html)**."
   ]
  },
  {
   "cell_type": "markdown",
   "metadata": {},
   "source": [
    "# Create Virtual Environment with Anaconda\n",
    "\n",
    "Let’s have a look how to create an virtual environment with **[Anaconda](https://www.anaconda.com/)**. Anaconda is a Python (and R) distribution that has the goal to simplify package management and deployment for scientific computing. After the **[installation](https://www.anaconda.com/distribution/)** you can create the conda virtual environment with:\n",
    "\n",
    "`conda create -n myenv`\n",
    "\n",
    "where `myenv` is the name of your new environment. If you want a specific Python version that is not your current version, you can type:\n",
    "\n",
    "`conda create -n myenv python=3.6`\n",
    "\n",
    "The environment is then stored in the `envs` folder in your Anaconda directory. After you have created the enviroment, you can activate it by typing:\n",
    "\n",
    "`conda activate myenv`\n",
    "\n",
    "If you now run `python`, you’ll see that you are in your freshly created virtual environment. To deactivate the environment you can type `conda deactivate` and you can list all the available environments on your machine with `conda env list`. To remove an enviroment you can type:\n",
    "\n",
    "`conda env remove -n myenv`\n",
    "\n",
    "After creating your environment, you can install the packages you need besides the one already installed by conda. You can find more information on how to manage conda environments in this **[user guide](https://conda.io/docs/user-guide/tasks/manage-environments.html)**.\n",
    "\n",
    "# Add Virtual Environment to Jupyter Notebook\n",
    "\n",
    "Jupyter Notebook makes sure that the IPython kernel is available, but you have to manually add a kernel with a different version of Python or a virtual environment. First, you need to activate your virtual environment. Next, install **[ipykernel](https://github.com/ipython/ipykernel)** which provides the IPython kernel for Jupyter:\n",
    "\n",
    "`pip install --user ipykernel`\n",
    "\n",
    "Next you can add your virtual environment to Jupyter by typing:\n",
    "\n",
    "`python -m ipykernel install --user --name=myenv`\n",
    "\n",
    "This should print the following:\n",
    "\n",
    "`Installed kernelspec myenv in /home/user/.local/share/jupyter/kernels/myenv`\n",
    "\n",
    "In this folder you will find a `kernel`.json file which should look the following way if you did everything correctly:\n",
    "\n",
    "```json\n",
    "{\n",
    " \"argv\": [\n",
    "  \"/home/user/anaconda3/envs/myenv/bin/python\",\n",
    "  \"-m\",\n",
    "  \"ipykernel_launcher\",\n",
    "  \"-f\",\n",
    "  \"{connection_file}\"\n",
    " ],\n",
    " \"display_name\": \"myenv\",\n",
    " \"language\": \"python\"\n",
    "}```\n",
    "\n",
    "That’s all to it! Now you are able to choose the conda environment as a kernel in Jupyter. Here is what that would look like in **[JupyterLab](https://jupyterlab.readthedocs.io/en/stable/)**:"
   ]
  },
  {
   "cell_type": "markdown",
   "metadata": {
    "ExecuteTime": {
     "end_time": "2019-03-12T18:31:17.653187Z",
     "start_time": "2019-03-12T18:31:17.530038Z"
    }
   },
   "source": [
    "# Remove Virtual Environment from Jupyter Notebook\n",
    "After you deleted your virtual environment, you’ll want to remove it also from Jupyter. Let’s first see which kernels are available. You can list them with:\n",
    "\n",
    "`jupyter kernelspec list`\n",
    "\n",
    "This should return something like:\n",
    "\n",
    "Available kernels:\n",
    "\n",
    "`myenv      /home/user/.local/share/jupyter/kernels/myenv\n",
    "python3    /usr/local/share/jupyter/kernels/python3`\n",
    "    \n",
    "Now, to uninstall the kernel, you can type:\n",
    "\n",
    "`jupyter kernelspec uninstall myenv`\n",
    "\n",
    "In this **[documentation](https://ipython.readthedocs.io/en/stable/install/kernel_install.html)** you can find more information on installing IPython kernels."
   ]
  }
 ],
 "metadata": {
  "kernelspec": {
   "display_name": "Python 3",
   "language": "python",
   "name": "python3"
  },
  "language_info": {
   "codemirror_mode": {
    "name": "ipython",
    "version": 3
   },
   "file_extension": ".py",
   "mimetype": "text/x-python",
   "name": "python",
   "nbconvert_exporter": "python",
   "pygments_lexer": "ipython3",
   "version": "3.6.8"
  },
  "toc": {
   "base_numbering": 1,
   "nav_menu": {},
   "number_sections": false,
   "sideBar": true,
   "skip_h1_title": false,
   "title_cell": "Table of Contents",
   "title_sidebar": "Contents",
   "toc_cell": true,
   "toc_position": {},
   "toc_section_display": true,
   "toc_window_display": true
  },
  "varInspector": {
   "cols": {
    "lenName": 16,
    "lenType": 16,
    "lenVar": 40
   },
   "kernels_config": {
    "python": {
     "delete_cmd_postfix": "",
     "delete_cmd_prefix": "del ",
     "library": "var_list.py",
     "varRefreshCmd": "print(var_dic_list())"
    },
    "r": {
     "delete_cmd_postfix": ") ",
     "delete_cmd_prefix": "rm(",
     "library": "var_list.r",
     "varRefreshCmd": "cat(var_dic_list()) "
    }
   },
   "types_to_exclude": [
    "module",
    "function",
    "builtin_function_or_method",
    "instance",
    "_Feature"
   ],
   "window_display": false
  }
 },
 "nbformat": 4,
 "nbformat_minor": 2
}
