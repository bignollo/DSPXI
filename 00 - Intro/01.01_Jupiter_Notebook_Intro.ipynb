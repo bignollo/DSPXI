{
 "cells": [
  {
   "cell_type": "markdown",
   "metadata": {},
   "source": [
    "![image.png](https://raw.githubusercontent.com/fjvarasc/DSPXI/master/figures/py_logo.png)"
   ]
  },
  {
   "cell_type": "markdown",
   "metadata": {
    "slideshow": {
     "slide_type": "slide"
    },
    "toc": true
   },
   "source": [
    "<h1>Table of Contents<span class=\"tocSkip\"></span></h1>\n",
    "<div class=\"toc\"><ul class=\"toc-item\"><li><span><a href=\"#Jupyter-Notebook:-The-Definitive-Guide\" data-toc-modified-id=\"Jupyter-Notebook:-The-Definitive-Guide-1\">Jupyter Notebook: The Definitive Guide</a></span><ul class=\"toc-item\"><li><span><a href=\"#What-Is-a-Jupyter-Notebook?\" data-toc-modified-id=\"What-Is-a-Jupyter-Notebook?-1.1\">What Is a Jupyter Notebook?</a></span><ul class=\"toc-item\"><li><span><a href=\"#What-Is-The-Jupyter-Notebook-App?\" data-toc-modified-id=\"What-Is-The-Jupyter-Notebook-App?-1.1.1\">What Is The Jupyter Notebook App?</a></span></li><li><span><a href=\"#The-History-of-IPython-and-Jupyter-Notebooks\" data-toc-modified-id=\"The-History-of-IPython-and-Jupyter-Notebooks-1.1.2\">The History of IPython and Jupyter Notebooks</a></span></li></ul></li></ul></li><li><span><a href=\"#Jupyter-Notebook-for-Beginners\" data-toc-modified-id=\"Jupyter-Notebook-for-Beginners-2\">Jupyter Notebook for Beginners</a></span></li><li><span><a href=\"#Example-data-analysis-in-a-Jupyter-Notebook\" data-toc-modified-id=\"Example-data-analysis-in-a-Jupyter-Notebook-3\">Example data analysis in a Jupyter Notebook</a></span></li><li><span><a href=\"#Installation\" data-toc-modified-id=\"Installation-4\">Installation</a></span><ul class=\"toc-item\"><li><span><a href=\"#Running-Jupyter-Notebooks-in-Docker-Containers\" data-toc-modified-id=\"Running-Jupyter-Notebooks-in-Docker-Containers-4.1\">Running Jupyter Notebooks in Docker Containers</a></span></li></ul></li><li><span><a href=\"#The-Notebook's-Built-In-Commands\" data-toc-modified-id=\"The-Notebook's-Built-In-Commands-5\">The Notebook's Built-In Commands</a></span><ul class=\"toc-item\"><li><ul class=\"toc-item\"><li><span><a href=\"#Other-Commands\" data-toc-modified-id=\"Other-Commands-5.0.1\">Other Commands</a></span></li><li><span><a href=\"#Shell-Interaction\" data-toc-modified-id=\"Shell-Interaction-5.0.2\">Shell Interaction</a></span></li></ul></li></ul></li><li><span><a href=\"#Creating-Your-First-Notebook\" data-toc-modified-id=\"Creating-Your-First-Notebook-6\">Creating Your First Notebook</a></span><ul class=\"toc-item\"><li><span><a href=\"#Running-Jupyter\" data-toc-modified-id=\"Running-Jupyter-6.1\">Running Jupyter</a></span></li><li><span><a href=\"#What-is-an-ipynb-File?\" data-toc-modified-id=\"What-is-an-ipynb-File?-6.2\">What is an ipynb File?</a></span></li><li><span><a href=\"#The-notebook-interface\" data-toc-modified-id=\"The-notebook-interface-6.3\">The notebook interface</a></span></li><li><span><a href=\"#Cells\" data-toc-modified-id=\"Cells-6.4\">Cells</a></span></li><li><span><a href=\"#Keyboard-shortcuts\" data-toc-modified-id=\"Keyboard-shortcuts-6.5\">Keyboard shortcuts</a></span></li><li><span><a href=\"#Markdown\" data-toc-modified-id=\"Markdown-6.6\">Markdown</a></span></li></ul></li><li><span><a href=\"#This-is-a-level-1-heading\" data-toc-modified-id=\"This-is-a-level-1-heading-7\">This is a level 1 heading</a></span><ul class=\"toc-item\"><li><span><a href=\"#This-is-a-level-2-heading\" data-toc-modified-id=\"This-is-a-level-2-heading-7.1\">This is a level 2 heading</a></span></li><li><span><a href=\"#Choosing-a-kernel\" data-toc-modified-id=\"Choosing-a-kernel-7.2\">Choosing a kernel</a></span></li></ul></li><li><span><a href=\"#Example-analysis\" data-toc-modified-id=\"Example-analysis-8\">Example analysis</a></span><ul class=\"toc-item\"><li><span><a href=\"#Naming-your-notebooks\" data-toc-modified-id=\"Naming-your-notebooks-8.1\">Naming your notebooks</a></span></li><li><span><a href=\"#Setup\" data-toc-modified-id=\"Setup-8.2\">Setup</a></span></li><li><span><a href=\"#Save-and-Checkpoint\" data-toc-modified-id=\"Save-and-Checkpoint-8.3\">Save and Checkpoint</a></span></li><li><span><a href=\"#Investigating-our-data-set\" data-toc-modified-id=\"Investigating-our-data-set-8.4\">Investigating our data set</a></span></li><li><span><a href=\"#Plotting-with-matplotlib\" data-toc-modified-id=\"Plotting-with-matplotlib-8.5\">Plotting with matplotlib</a></span></li></ul></li><li><span><a href=\"#Sharing-your-notebooks\" data-toc-modified-id=\"Sharing-your-notebooks-9\">Sharing your notebooks</a></span><ul class=\"toc-item\"><li><span><a href=\"#Before-you-share\" data-toc-modified-id=\"Before-you-share-9.1\">Before you share</a></span></li><li><span><a href=\"#Exporting-your-notebooks\" data-toc-modified-id=\"Exporting-your-notebooks-9.2\">Exporting your notebooks</a></span></li><li><span><a href=\"#GitHub\" data-toc-modified-id=\"GitHub-9.3\">GitHub</a></span></li><li><span><a href=\"#Nbviewer\" data-toc-modified-id=\"Nbviewer-9.4\">Nbviewer</a></span></li></ul></li></ul></div>"
   ]
  },
  {
   "cell_type": "markdown",
   "metadata": {
    "slideshow": {
     "slide_type": "slide"
    }
   },
   "source": [
    "# Jupyter Notebook: The Definitive Guide\n",
    "\n",
    "This material explains how to install, run, and use Jupyter Notebooks for data science, including tips, best practices, and examples.\n",
    "\n",
    "As a web application in which you can create and share documents that contain live code, equations, visualizations as well as text, the Jupyter Notebook is one of the ideal tools to help you to gain the data science skills you need.\n",
    "\n",
    "## What Is a Jupyter Notebook?\n",
    "In this case, \"notebook\" or \"notebook documents\" denote documents that contain both code and rich text elements, such as figures, links, equations, ... Because of the mix of code and text elements, these documents are the ideal place to bring together an analysis description, and its results, as well as, they can be executed perform the data analysis in real time.\n",
    "\n",
    "The Jupyter Notebook App produces these documents.\n",
    "\n",
    "We'll talk about this in a bit.\n",
    "\n",
    "For now, you should know that \"Jupyter\" is a loose acronym meaning Julia, Python, and R. These programming languages were the first target languages of the Jupyter application, but nowadays, the notebook technology also supports **[many other languages](https://github.com/jupyter/jupyter/wiki/Jupyter-kernels)**. \n",
    "\n",
    "And there you have it: the Jupyter Notebook.\n",
    "\n",
    "As you just saw, the main components of the whole environment are, on the one hand, the notebooks themselves and the application. On the other hand, you also have a notebook kernel and a notebook dashboard.\n",
    "\n",
    "Let's look at these components in more detail.\n",
    "\n",
    "### What Is The Jupyter Notebook App?\n",
    "As a server-client application, the Jupyter Notebook App allows you to edit and run your notebooks via a web browser. The application can be executed on a PC without Internet access, or it can be installed on a remote server, where you can access it through the Internet.\n",
    "\n",
    "Its two main components are the kernels and a dashboard.\n",
    "\n",
    "A kernel is a program that runs and introspects the user’s code. The Jupyter Notebook App has a kernel for Python code, but there are also kernels available for other programming languages.\n",
    "\n",
    "The dashboard of the application not only shows you the notebook documents that you have made and can reopen but can also be used to manage the kernels: you can which ones are running and shut them down if necessary.\n",
    "\n",
    "### The History of IPython and Jupyter Notebooks\n",
    "To fully understand what the Jupyter Notebook is and what functionality it has to offer you need to know how it originated. \n",
    "\n",
    "Let's back up briefly to the late 1980s. Guido Van Rossum begins to work on Python at the National Research Institute for Mathematics and Computer Science in the Netherlands.\n",
    "\n",
    "Wait, maybe that's too far.\n",
    "\n",
    "Let's go to late 2001, twenty years later. Fernando Pérez starts developing IPython.\n",
    "\n",
    "In 2005, both Robert Kern and Fernando Pérez attempted building a notebook system. Unfortunately, the prototype had never become fully usable. \n",
    "\n",
    "Fast forward two years: the IPython team had kept on working, and in 2007, they formulated another attempt at implementing a notebook-type system. By October 2010, there was a prototype of a web notebook, and in the summer of 2011, this prototype was incorporated, and it was released with 0.12 on December 21, 2011. In subsequent years, the team got awards, such as the Advancement of Free Software for Fernando Pérez on 23 of March 2013 and the Jolt Productivity Award, and funding from the Alfred P. Sloan Foundations, among others. \n",
    "\n",
    "Lastly, in 2014, Project Jupyter started as a spin-off project from IPython. IPython is now the name of the Python backend, which is also known as the kernel. Recently, the next generation of Jupyter Notebooks has been introduced to the community. It's called JupyterLab.\n",
    "\n",
    "After all this, you might wonder where this idea of notebooks originated or how it came about to the creators.\n",
    "\n",
    "A brief research into the history of these notebooks learns that Fernando Pérez and Robert Kern were working on a notebook just at the same time as the Sage notebook was a work in progress. Since the layout of the Sage notebook was based on the layout of Google notebooks, you can also conclude that also Google used to have a notebook feature around that time. \n",
    "\n",
    "For what concerns the idea of the notebook, it seems that Fernando Pérez, as well as William Stein, one of the creators of the Sage notebook, have confirmed that they were avid users of the Mathematica notebooks and Maple worksheets. The Mathematica notebooks were created as a front end or GUI in 1988 by Theodore Gray. \n",
    "\n",
    "The concept of a notebook, which contains ordinary text and calculation and/or graphics, was definitely not new. \n",
    "\n",
    "Also, the developers had close contact with one another and this, together with other failed attempts at GUIs for IPython and the use of \"AJAX\" = web applications, which didn't require users to refresh the whole page every time you do something, were two other motivations for the team of William Stein to start developing the Sage notebooks. \n",
    "\n",
    "If you want to know more details, check out the personal accounts of __[Fernando Pérez](http://blog.fperez.org/2012/01/ipython-notebook-historical.html)__ and __[William Stein](https://groups.google.com/forum/#!topic/sage-devel/uc9HIMREh9Y)__ about the history of their notebooks. Alternatively, you can read more on the history and evolution from IPython to Jupyter notebooks here.\n",
    "\n"
   ]
  },
  {
   "cell_type": "markdown",
   "metadata": {
    "ExecuteTime": {
     "end_time": "2019-03-12T02:52:39.318070Z",
     "start_time": "2019-03-12T02:52:39.098Z"
    },
    "slideshow": {
     "slide_type": "slide"
    }
   },
   "source": [
    "# Jupyter Notebook for Beginners\n",
    "\n",
    "The Jupyter Notebook is an incredibly powerful tool for interactively developing and presenting data science projects. A notebook integrates code and its output into a single document that combines visualisations, narrative text, mathematical equations, and other rich media. The intuitive workflow promotes iterative and rapid development, making notebooks an increasingly popular choice at the heart of contemporary data science, analysis, and increasingly science at large. Best of all, as part of the open source Project Jupyter, they are completely free.\n",
    "\n",
    "The Jupyter project is the successor to the earlier IPython Notebook, which was first published as a prototype in 2010. Although it is possible to use many different programming languages within Jupyter Notebooks, this article will focus on Python as it is the most common use case.\n",
    "\n",
    "To get the most out of this tutorial you should be familiar with programming, specifically Python and pandas specifically. That said, if you have experience with another language, the Python in this article shouldn't be too cryptic and pandas should be interpretable. Jupyter Notebooks can also act as a flexible platform for getting to grips with pandas and even Python, as it will become apparent in this article.\n",
    "\n",
    "<div class=\"alert alert-warning\" role=\"alert\">\n",
    "    We will:\n",
    "\n",
    "- Cover the basics of installing Jupyter and creating your first notebook\n",
    "- Delve deeper and learn all the important terminology\n",
    "- Explore how easily notebooks can be shared and published online. \n",
    "</div>\n",
    "\n",
    "\n"
   ]
  },
  {
   "cell_type": "markdown",
   "metadata": {},
   "source": [
    "# Example data analysis in a Jupyter Notebook\n",
    "We will walk through a sample analysis, to answer a real-life question, so you can see how the flow of a notebook makes the task intuitive to work through ourselves, as well as for others to understand when we share it with them.\n",
    "\n",
    "So, let's say you're a data analyst and you've been tasked with finding out how the profits of the largest companies in the US changed historically. You find a data set of Fortune 500 companies spanning over 50 years since the list's first publication in 1955, put together from Fortune's public archive. We've gone ahead and created a CSV of the data you can see __[here](https://raw.githubusercontent.com/fjvarasc/DSPXI/master/data/fortune500.csv)__.\n",
    "\n",
    "As we shall demonstrate, Jupyter Notebooks are perfectly suited for this investigation. First, let's go ahead and install Jupyter."
   ]
  },
  {
   "cell_type": "markdown",
   "metadata": {},
   "source": [
    "# Installation\n",
    "The easiest way for a beginner to get started with Jupyter Notebooks is by installing Anaconda. Anaconda is the most widely used Python distribution for data science and comes pre-loaded with all the most popular libraries and tools. As well as Jupyter, some of the biggest Python libraries wrapped up in Anaconda include NumPy, pandas and Matplotlib, though the full 1000+ list is exhaustive. This lets you hit the ground running in your own fully stocked data science workshop without the hassle of managing countless installations or worrying about dependencies and OS-specific (read: Windows-specific) installation issues.\n",
    "\n",
    "To get Anaconda, simply:\n",
    "\n",
    "Download the latest version of Anaconda for Python 3 __[64](https://repo.anaconda.com/archive/Anaconda3-2018.12-Windows-x86_64.exe)__ or __[32](https://repo.anaconda.com/archive/Anaconda3-2018.12-Windows-x86.exe)__ bits , depending on your system.\n",
    "\n",
    "Install Anaconda by following the instructions on the download page and/or in the executable.\n",
    "If you are a more advanced user with Python already installed and prefer to manage your packages manually, you can just use pip:\n",
    "\n",
    "<code class=\"bg-dark text-white\">pip3 install jupyter</code>\n"
   ]
  },
  {
   "cell_type": "markdown",
   "metadata": {},
   "source": [
    "## Running Jupyter Notebooks in Docker Containers\n",
    "Docker is an excellent platform to run software in containers. These containers are self-contained and isolated processes.\n",
    "\n",
    "This sounds a bit like a virtual machine, right?\n",
    "\n",
    "Not really. Go **[here](https://blog.docker.com/2016/03/containers-are-not-vms/)** to read an explanation on why they are different, complete with a fantastic house metaphor."
   ]
  },
  {
   "cell_type": "markdown",
   "metadata": {},
   "source": [
    "![content_docker.png](https://raw.githubusercontent.com/fjvarasc/DSPXI/master/figures/content_docker.png)"
   ]
  },
  {
   "cell_type": "markdown",
   "metadata": {},
   "source": [
    "You can easily get started with Docker if you install the **[Docker Toolbox](https://www.docker.com/products/docker-toolbox)**: it contains all the tools you need to get your containers up and running. Follow the installation instructions, select the \"Docker QuickStart Terminal\" and indicate to install the Kitematic Visual Management tool too if you don't have it or any other virtualization platform installed. \n",
    "\n",
    "The installation through the Docker Quickstart Terminal can take some time, but then you're good to go. Use the command `docker run` to run Docker \"images\". You can consider these images as pre-packaged bundles of software that can be automatically downloaded from the **[Docker Hub](https://hub.docker.com/)** when you run them. \n",
    "\n",
    "<div class=\"alert alert-warning\" role=\"alert\">\n",
    "\n",
    "<b>Tip</b>: browse the **[Docker Image Library](https://hub.docker.com/explore/)** for thousands of the most popular software tools. You will also find other notebooks that you can run in your Docker container, such as the Data Science Notebook, the R Notebook, and many more.\n",
    "\n",
    "</div>\n",
    "\n",
    "To run the official Jupyter Notebook image in your Docker container, give in the following command in your Docker Quickstart Terminal:\n",
    "\n",
    "`docker run --rm -it -p 8888:8888 -v \"$(pwd):/notebooks\" jupyter/notebook`\n",
    "\n",
    "<div class=\"alert alert-warning\" role=\"alert\">\n",
    "<b>Tip</b>: if you want to download other images, such as the Data Science Notebook that has been mentioned above, you just have to replace the \"<code>Jupyter/notebook</code>\" bit by the Repository name you find in the Docker Image Library, such as \"<code>Jupyter/datascience-notebook</code>\".\n",
    "</div>"
   ]
  },
  {
   "cell_type": "markdown",
   "metadata": {
    "ExecuteTime": {
     "start_time": "2019-03-12T10:35:16.197Z"
    }
   },
   "source": [
    "# The Notebook's Built-In Commands\n",
    "\n",
    "There are some predefined ‘magic functions’ that will make your work a lot more interactive.\n",
    "\n",
    "To see which magic commands you have available in your interpreter, you can simply run the following:"
   ]
  },
  {
   "cell_type": "code",
   "execution_count": 1,
   "metadata": {
    "ExecuteTime": {
     "end_time": "2019-04-10T19:14:32.710341Z",
     "start_time": "2019-04-10T19:14:32.566407Z"
    },
    "scrolled": true
   },
   "outputs": [
    {
     "data": {
      "application/json": {
       "cell": {
        "!": "OSMagics",
        "HTML": "Other",
        "SVG": "Other",
        "bash": "Other",
        "capture": "ExecutionMagics",
        "debug": "ExecutionMagics",
        "file": "Other",
        "html": "DisplayMagics",
        "javascript": "DisplayMagics",
        "js": "DisplayMagics",
        "latex": "DisplayMagics",
        "markdown": "DisplayMagics",
        "perl": "Other",
        "prun": "ExecutionMagics",
        "pypy": "Other",
        "python": "Other",
        "python2": "Other",
        "python3": "Other",
        "ruby": "Other",
        "script": "ScriptMagics",
        "sh": "Other",
        "svg": "DisplayMagics",
        "sx": "OSMagics",
        "system": "OSMagics",
        "time": "ExecutionMagics",
        "timeit": "ExecutionMagics",
        "writefile": "OSMagics"
       },
       "line": {
        "alias": "OSMagics",
        "alias_magic": "BasicMagics",
        "autocall": "AutoMagics",
        "automagic": "AutoMagics",
        "autosave": "KernelMagics",
        "bookmark": "OSMagics",
        "cat": "Other",
        "cd": "OSMagics",
        "clear": "KernelMagics",
        "colors": "BasicMagics",
        "config": "ConfigMagics",
        "connect_info": "KernelMagics",
        "cp": "Other",
        "debug": "ExecutionMagics",
        "dhist": "OSMagics",
        "dirs": "OSMagics",
        "doctest_mode": "BasicMagics",
        "ed": "Other",
        "edit": "KernelMagics",
        "env": "OSMagics",
        "gui": "BasicMagics",
        "hist": "Other",
        "history": "HistoryMagics",
        "killbgscripts": "ScriptMagics",
        "ldir": "Other",
        "less": "KernelMagics",
        "lf": "Other",
        "lk": "Other",
        "ll": "Other",
        "load": "CodeMagics",
        "load_ext": "ExtensionMagics",
        "loadpy": "CodeMagics",
        "logoff": "LoggingMagics",
        "logon": "LoggingMagics",
        "logstart": "LoggingMagics",
        "logstate": "LoggingMagics",
        "logstop": "LoggingMagics",
        "ls": "Other",
        "lsmagic": "BasicMagics",
        "lx": "Other",
        "macro": "ExecutionMagics",
        "magic": "BasicMagics",
        "man": "KernelMagics",
        "matplotlib": "PylabMagics",
        "mkdir": "Other",
        "more": "KernelMagics",
        "mv": "Other",
        "notebook": "BasicMagics",
        "page": "BasicMagics",
        "pastebin": "CodeMagics",
        "pdb": "ExecutionMagics",
        "pdef": "NamespaceMagics",
        "pdoc": "NamespaceMagics",
        "pfile": "NamespaceMagics",
        "pinfo": "NamespaceMagics",
        "pinfo2": "NamespaceMagics",
        "pip": "BasicMagics",
        "popd": "OSMagics",
        "pprint": "BasicMagics",
        "precision": "BasicMagics",
        "profile": "BasicMagics",
        "prun": "ExecutionMagics",
        "psearch": "NamespaceMagics",
        "psource": "NamespaceMagics",
        "pushd": "OSMagics",
        "pwd": "OSMagics",
        "pycat": "OSMagics",
        "pylab": "PylabMagics",
        "qtconsole": "KernelMagics",
        "quickref": "BasicMagics",
        "recall": "HistoryMagics",
        "rehashx": "OSMagics",
        "reload_ext": "ExtensionMagics",
        "rep": "Other",
        "rerun": "HistoryMagics",
        "reset": "NamespaceMagics",
        "reset_selective": "NamespaceMagics",
        "rm": "Other",
        "rmdir": "Other",
        "run": "ExecutionMagics",
        "save": "CodeMagics",
        "sc": "OSMagics",
        "set_env": "OSMagics",
        "store": "StoreMagics",
        "sx": "OSMagics",
        "system": "OSMagics",
        "tb": "ExecutionMagics",
        "time": "ExecutionMagics",
        "timeit": "ExecutionMagics",
        "unalias": "OSMagics",
        "unload_ext": "ExtensionMagics",
        "who": "NamespaceMagics",
        "who_ls": "NamespaceMagics",
        "whos": "NamespaceMagics",
        "xdel": "NamespaceMagics",
        "xmode": "BasicMagics"
       }
      },
      "text/plain": [
       "Available line magics:\n",
       "%alias  %alias_magic  %autocall  %automagic  %autosave  %bookmark  %cat  %cd  %clear  %colors  %config  %connect_info  %cp  %debug  %dhist  %dirs  %doctest_mode  %ed  %edit  %env  %gui  %hist  %history  %killbgscripts  %ldir  %less  %lf  %lk  %ll  %load  %load_ext  %loadpy  %logoff  %logon  %logstart  %logstate  %logstop  %ls  %lsmagic  %lx  %macro  %magic  %man  %matplotlib  %mkdir  %more  %mv  %notebook  %page  %pastebin  %pdb  %pdef  %pdoc  %pfile  %pinfo  %pinfo2  %popd  %pprint  %precision  %profile  %prun  %psearch  %psource  %pushd  %pwd  %pycat  %pylab  %qtconsole  %quickref  %recall  %rehashx  %reload_ext  %rep  %rerun  %reset  %reset_selective  %rm  %rmdir  %run  %save  %sc  %set_env  %store  %sx  %system  %tb  %time  %timeit  %unalias  %unload_ext  %who  %who_ls  %whos  %xdel  %xmode\n",
       "\n",
       "Available cell magics:\n",
       "%%!  %%HTML  %%SVG  %%bash  %%capture  %%debug  %%file  %%html  %%javascript  %%js  %%latex  %%markdown  %%perl  %%prun  %%pypy  %%python  %%python2  %%python3  %%ruby  %%script  %%sh  %%svg  %%sx  %%system  %%time  %%timeit  %%writefile\n",
       "\n",
       "Automagic is ON, % prefix IS NOT needed for line magics."
      ]
     },
     "execution_count": 1,
     "metadata": {},
     "output_type": "execute_result"
    }
   ],
   "source": [
    "%lsmagic"
   ]
  },
  {
   "cell_type": "markdown",
   "metadata": {},
   "source": [
    "<div class=\"alert alert-warning\" role=\"alert\">\n",
    "<b>Tip</b>: the regular Python <code>help()</code> function also still works and you can use the magic command <code>%quickref</code> to show a quick reference sheet for IPython.\n",
    "</div>"
   ]
  },
  {
   "cell_type": "code",
   "execution_count": 2,
   "metadata": {
    "ExecuteTime": {
     "end_time": "2019-03-19T17:48:28.947825Z",
     "start_time": "2019-03-19T17:48:28.925196Z"
    }
   },
   "outputs": [],
   "source": [
    "%quickref"
   ]
  },
  {
   "cell_type": "code",
   "execution_count": 3,
   "metadata": {
    "ExecuteTime": {
     "end_time": "2019-03-19T17:48:29.098138Z",
     "start_time": "2019-03-19T17:48:28.959776Z"
    }
   },
   "outputs": [
    {
     "name": "stdout",
     "output_type": "stream",
     "text": [
      "Help on class str in module builtins:\n",
      "\n",
      "class str(object)\n",
      " |  str(object='') -> str\n",
      " |  str(bytes_or_buffer[, encoding[, errors]]) -> str\n",
      " |  \n",
      " |  Create a new string object from the given object. If encoding or\n",
      " |  errors is specified, then the object must expose a data buffer\n",
      " |  that will be decoded using the given encoding and error handler.\n",
      " |  Otherwise, returns the result of object.__str__() (if defined)\n",
      " |  or repr(object).\n",
      " |  encoding defaults to sys.getdefaultencoding().\n",
      " |  errors defaults to 'strict'.\n",
      " |  \n",
      " |  Methods defined here:\n",
      " |  \n",
      " |  __add__(self, value, /)\n",
      " |      Return self+value.\n",
      " |  \n",
      " |  __contains__(self, key, /)\n",
      " |      Return key in self.\n",
      " |  \n",
      " |  __eq__(self, value, /)\n",
      " |      Return self==value.\n",
      " |  \n",
      " |  __format__(...)\n",
      " |      S.__format__(format_spec) -> str\n",
      " |      \n",
      " |      Return a formatted version of S as described by format_spec.\n",
      " |  \n",
      " |  __ge__(self, value, /)\n",
      " |      Return self>=value.\n",
      " |  \n",
      " |  __getattribute__(self, name, /)\n",
      " |      Return getattr(self, name).\n",
      " |  \n",
      " |  __getitem__(self, key, /)\n",
      " |      Return self[key].\n",
      " |  \n",
      " |  __getnewargs__(...)\n",
      " |  \n",
      " |  __gt__(self, value, /)\n",
      " |      Return self>value.\n",
      " |  \n",
      " |  __hash__(self, /)\n",
      " |      Return hash(self).\n",
      " |  \n",
      " |  __iter__(self, /)\n",
      " |      Implement iter(self).\n",
      " |  \n",
      " |  __le__(self, value, /)\n",
      " |      Return self<=value.\n",
      " |  \n",
      " |  __len__(self, /)\n",
      " |      Return len(self).\n",
      " |  \n",
      " |  __lt__(self, value, /)\n",
      " |      Return self<value.\n",
      " |  \n",
      " |  __mod__(self, value, /)\n",
      " |      Return self%value.\n",
      " |  \n",
      " |  __mul__(self, value, /)\n",
      " |      Return self*value.\n",
      " |  \n",
      " |  __ne__(self, value, /)\n",
      " |      Return self!=value.\n",
      " |  \n",
      " |  __new__(*args, **kwargs) from builtins.type\n",
      " |      Create and return a new object.  See help(type) for accurate signature.\n",
      " |  \n",
      " |  __repr__(self, /)\n",
      " |      Return repr(self).\n",
      " |  \n",
      " |  __rmod__(self, value, /)\n",
      " |      Return value%self.\n",
      " |  \n",
      " |  __rmul__(self, value, /)\n",
      " |      Return value*self.\n",
      " |  \n",
      " |  __sizeof__(...)\n",
      " |      S.__sizeof__() -> size of S in memory, in bytes\n",
      " |  \n",
      " |  __str__(self, /)\n",
      " |      Return str(self).\n",
      " |  \n",
      " |  capitalize(...)\n",
      " |      S.capitalize() -> str\n",
      " |      \n",
      " |      Return a capitalized version of S, i.e. make the first character\n",
      " |      have upper case and the rest lower case.\n",
      " |  \n",
      " |  casefold(...)\n",
      " |      S.casefold() -> str\n",
      " |      \n",
      " |      Return a version of S suitable for caseless comparisons.\n",
      " |  \n",
      " |  center(...)\n",
      " |      S.center(width[, fillchar]) -> str\n",
      " |      \n",
      " |      Return S centered in a string of length width. Padding is\n",
      " |      done using the specified fill character (default is a space)\n",
      " |  \n",
      " |  count(...)\n",
      " |      S.count(sub[, start[, end]]) -> int\n",
      " |      \n",
      " |      Return the number of non-overlapping occurrences of substring sub in\n",
      " |      string S[start:end].  Optional arguments start and end are\n",
      " |      interpreted as in slice notation.\n",
      " |  \n",
      " |  encode(...)\n",
      " |      S.encode(encoding='utf-8', errors='strict') -> bytes\n",
      " |      \n",
      " |      Encode S using the codec registered for encoding. Default encoding\n",
      " |      is 'utf-8'. errors may be given to set a different error\n",
      " |      handling scheme. Default is 'strict' meaning that encoding errors raise\n",
      " |      a UnicodeEncodeError. Other possible values are 'ignore', 'replace' and\n",
      " |      'xmlcharrefreplace' as well as any other name registered with\n",
      " |      codecs.register_error that can handle UnicodeEncodeErrors.\n",
      " |  \n",
      " |  endswith(...)\n",
      " |      S.endswith(suffix[, start[, end]]) -> bool\n",
      " |      \n",
      " |      Return True if S ends with the specified suffix, False otherwise.\n",
      " |      With optional start, test S beginning at that position.\n",
      " |      With optional end, stop comparing S at that position.\n",
      " |      suffix can also be a tuple of strings to try.\n",
      " |  \n",
      " |  expandtabs(...)\n",
      " |      S.expandtabs(tabsize=8) -> str\n",
      " |      \n",
      " |      Return a copy of S where all tab characters are expanded using spaces.\n",
      " |      If tabsize is not given, a tab size of 8 characters is assumed.\n",
      " |  \n",
      " |  find(...)\n",
      " |      S.find(sub[, start[, end]]) -> int\n",
      " |      \n",
      " |      Return the lowest index in S where substring sub is found,\n",
      " |      such that sub is contained within S[start:end].  Optional\n",
      " |      arguments start and end are interpreted as in slice notation.\n",
      " |      \n",
      " |      Return -1 on failure.\n",
      " |  \n",
      " |  format(...)\n",
      " |      S.format(*args, **kwargs) -> str\n",
      " |      \n",
      " |      Return a formatted version of S, using substitutions from args and kwargs.\n",
      " |      The substitutions are identified by braces ('{' and '}').\n",
      " |  \n",
      " |  format_map(...)\n",
      " |      S.format_map(mapping) -> str\n",
      " |      \n",
      " |      Return a formatted version of S, using substitutions from mapping.\n",
      " |      The substitutions are identified by braces ('{' and '}').\n",
      " |  \n",
      " |  index(...)\n",
      " |      S.index(sub[, start[, end]]) -> int\n",
      " |      \n",
      " |      Return the lowest index in S where substring sub is found, \n",
      " |      such that sub is contained within S[start:end].  Optional\n",
      " |      arguments start and end are interpreted as in slice notation.\n",
      " |      \n",
      " |      Raises ValueError when the substring is not found.\n",
      " |  \n",
      " |  isalnum(...)\n",
      " |      S.isalnum() -> bool\n",
      " |      \n",
      " |      Return True if all characters in S are alphanumeric\n",
      " |      and there is at least one character in S, False otherwise.\n",
      " |  \n",
      " |  isalpha(...)\n",
      " |      S.isalpha() -> bool\n",
      " |      \n",
      " |      Return True if all characters in S are alphabetic\n",
      " |      and there is at least one character in S, False otherwise.\n",
      " |  \n",
      " |  isdecimal(...)\n",
      " |      S.isdecimal() -> bool\n",
      " |      \n",
      " |      Return True if there are only decimal characters in S,\n",
      " |      False otherwise.\n",
      " |  \n",
      " |  isdigit(...)\n",
      " |      S.isdigit() -> bool\n",
      " |      \n",
      " |      Return True if all characters in S are digits\n",
      " |      and there is at least one character in S, False otherwise.\n",
      " |  \n",
      " |  isidentifier(...)\n",
      " |      S.isidentifier() -> bool\n",
      " |      \n",
      " |      Return True if S is a valid identifier according\n",
      " |      to the language definition.\n",
      " |      \n",
      " |      Use keyword.iskeyword() to test for reserved identifiers\n",
      " |      such as \"def\" and \"class\".\n",
      " |  \n",
      " |  islower(...)\n",
      " |      S.islower() -> bool\n",
      " |      \n",
      " |      Return True if all cased characters in S are lowercase and there is\n",
      " |      at least one cased character in S, False otherwise.\n",
      " |  \n",
      " |  isnumeric(...)\n",
      " |      S.isnumeric() -> bool\n",
      " |      \n",
      " |      Return True if there are only numeric characters in S,\n",
      " |      False otherwise.\n",
      " |  \n",
      " |  isprintable(...)\n",
      " |      S.isprintable() -> bool\n",
      " |      \n",
      " |      Return True if all characters in S are considered\n",
      " |      printable in repr() or S is empty, False otherwise.\n",
      " |  \n",
      " |  isspace(...)\n",
      " |      S.isspace() -> bool\n",
      " |      \n",
      " |      Return True if all characters in S are whitespace\n",
      " |      and there is at least one character in S, False otherwise.\n",
      " |  \n",
      " |  istitle(...)\n",
      " |      S.istitle() -> bool\n",
      " |      \n",
      " |      Return True if S is a titlecased string and there is at least one\n",
      " |      character in S, i.e. upper- and titlecase characters may only\n",
      " |      follow uncased characters and lowercase characters only cased ones.\n",
      " |      Return False otherwise.\n",
      " |  \n",
      " |  isupper(...)\n",
      " |      S.isupper() -> bool\n",
      " |      \n",
      " |      Return True if all cased characters in S are uppercase and there is\n",
      " |      at least one cased character in S, False otherwise.\n",
      " |  \n",
      " |  join(...)\n",
      " |      S.join(iterable) -> str\n",
      " |      \n",
      " |      Return a string which is the concatenation of the strings in the\n",
      " |      iterable.  The separator between elements is S.\n",
      " |  \n",
      " |  ljust(...)\n",
      " |      S.ljust(width[, fillchar]) -> str\n",
      " |      \n",
      " |      Return S left-justified in a Unicode string of length width. Padding is\n",
      " |      done using the specified fill character (default is a space).\n",
      " |  \n",
      " |  lower(...)\n",
      " |      S.lower() -> str\n",
      " |      \n",
      " |      Return a copy of the string S converted to lowercase.\n",
      " |  \n",
      " |  lstrip(...)\n",
      " |      S.lstrip([chars]) -> str\n",
      " |      \n",
      " |      Return a copy of the string S with leading whitespace removed.\n",
      " |      If chars is given and not None, remove characters in chars instead.\n",
      " |  \n",
      " |  partition(...)\n",
      " |      S.partition(sep) -> (head, sep, tail)\n",
      " |      \n",
      " |      Search for the separator sep in S, and return the part before it,\n",
      " |      the separator itself, and the part after it.  If the separator is not\n",
      " |      found, return S and two empty strings.\n",
      " |  \n",
      " |  replace(...)\n",
      " |      S.replace(old, new[, count]) -> str\n",
      " |      \n",
      " |      Return a copy of S with all occurrences of substring\n",
      " |      old replaced by new.  If the optional argument count is\n",
      " |      given, only the first count occurrences are replaced.\n",
      " |  \n",
      " |  rfind(...)\n",
      " |      S.rfind(sub[, start[, end]]) -> int\n",
      " |      \n",
      " |      Return the highest index in S where substring sub is found,\n",
      " |      such that sub is contained within S[start:end].  Optional\n",
      " |      arguments start and end are interpreted as in slice notation.\n",
      " |      \n",
      " |      Return -1 on failure.\n",
      " |  \n",
      " |  rindex(...)\n",
      " |      S.rindex(sub[, start[, end]]) -> int\n",
      " |      \n",
      " |      Return the highest index in S where substring sub is found,\n",
      " |      such that sub is contained within S[start:end].  Optional\n",
      " |      arguments start and end are interpreted as in slice notation.\n",
      " |      \n",
      " |      Raises ValueError when the substring is not found.\n",
      " |  \n",
      " |  rjust(...)\n",
      " |      S.rjust(width[, fillchar]) -> str\n",
      " |      \n",
      " |      Return S right-justified in a string of length width. Padding is\n",
      " |      done using the specified fill character (default is a space).\n",
      " |  \n",
      " |  rpartition(...)\n",
      " |      S.rpartition(sep) -> (head, sep, tail)\n",
      " |      \n",
      " |      Search for the separator sep in S, starting at the end of S, and return\n",
      " |      the part before it, the separator itself, and the part after it.  If the\n",
      " |      separator is not found, return two empty strings and S.\n",
      " |  \n",
      " |  rsplit(...)\n",
      " |      S.rsplit(sep=None, maxsplit=-1) -> list of strings\n",
      " |      \n",
      " |      Return a list of the words in S, using sep as the\n",
      " |      delimiter string, starting at the end of the string and\n",
      " |      working to the front.  If maxsplit is given, at most maxsplit\n",
      " |      splits are done. If sep is not specified, any whitespace string\n",
      " |      is a separator.\n",
      " |  \n",
      " |  rstrip(...)\n",
      " |      S.rstrip([chars]) -> str\n",
      " |      \n",
      " |      Return a copy of the string S with trailing whitespace removed.\n",
      " |      If chars is given and not None, remove characters in chars instead.\n",
      " |  \n",
      " |  split(...)\n",
      " |      S.split(sep=None, maxsplit=-1) -> list of strings\n",
      " |      \n",
      " |      Return a list of the words in S, using sep as the\n",
      " |      delimiter string.  If maxsplit is given, at most maxsplit\n",
      " |      splits are done. If sep is not specified or is None, any\n",
      " |      whitespace string is a separator and empty strings are\n",
      " |      removed from the result.\n",
      " |  \n",
      " |  splitlines(...)\n",
      " |      S.splitlines([keepends]) -> list of strings\n",
      " |      \n",
      " |      Return a list of the lines in S, breaking at line boundaries.\n",
      " |      Line breaks are not included in the resulting list unless keepends\n",
      " |      is given and true.\n",
      " |  \n",
      " |  startswith(...)\n",
      " |      S.startswith(prefix[, start[, end]]) -> bool\n",
      " |      \n",
      " |      Return True if S starts with the specified prefix, False otherwise.\n",
      " |      With optional start, test S beginning at that position.\n",
      " |      With optional end, stop comparing S at that position.\n",
      " |      prefix can also be a tuple of strings to try.\n",
      " |  \n",
      " |  strip(...)\n",
      " |      S.strip([chars]) -> str\n",
      " |      \n",
      " |      Return a copy of the string S with leading and trailing\n",
      " |      whitespace removed.\n",
      " |      If chars is given and not None, remove characters in chars instead.\n",
      " |  \n",
      " |  swapcase(...)\n",
      " |      S.swapcase() -> str\n",
      " |      \n",
      " |      Return a copy of S with uppercase characters converted to lowercase\n",
      " |      and vice versa.\n",
      " |  \n",
      " |  title(...)\n",
      " |      S.title() -> str\n",
      " |      \n",
      " |      Return a titlecased version of S, i.e. words start with title case\n",
      " |      characters, all remaining cased characters have lower case.\n",
      " |  \n",
      " |  translate(...)\n",
      " |      S.translate(table) -> str\n",
      " |      \n",
      " |      Return a copy of the string S in which each character has been mapped\n",
      " |      through the given translation table. The table must implement\n",
      " |      lookup/indexing via __getitem__, for instance a dictionary or list,\n",
      " |      mapping Unicode ordinals to Unicode ordinals, strings, or None. If\n",
      " |      this operation raises LookupError, the character is left untouched.\n",
      " |      Characters mapped to None are deleted.\n",
      " |  \n",
      " |  upper(...)\n",
      " |      S.upper() -> str\n",
      " |      \n",
      " |      Return a copy of S converted to uppercase.\n",
      " |  \n",
      " |  zfill(...)\n",
      " |      S.zfill(width) -> str\n",
      " |      \n",
      " |      Pad a numeric string S with zeros on the left, to fill a field\n",
      " |      of the specified width. The string S is never truncated.\n",
      " |  \n",
      " |  ----------------------------------------------------------------------\n",
      " |  Static methods defined here:\n",
      " |  \n",
      " |  maketrans(x, y=None, z=None, /)\n",
      " |      Return a translation table usable for str.translate().\n",
      " |      \n",
      " |      If there is only one argument, it must be a dictionary mapping Unicode\n",
      " |      ordinals (integers) or characters to Unicode ordinals, strings or None.\n",
      " |      Character keys will be then converted to ordinals.\n",
      " |      If there are two arguments, they must be strings of equal length, and\n",
      " |      in the resulting dictionary, each character in x will be mapped to the\n",
      " |      character at the same position in y. If there is a third argument, it\n",
      " |      must be a string, whose characters will be mapped to None in the result.\n",
      "\n"
     ]
    }
   ],
   "source": [
    "help(str)"
   ]
  },
  {
   "cell_type": "markdown",
   "metadata": {},
   "source": [
    "And you'll see a whole bunch of them appearing. You'll probably see some magics commands that you'll grasp, such as `%save`, `%clear` or `%debug`, but others will be less straightforward.\n",
    "\n",
    "If you're looking for more information on the magics commands or on functions, you can always use the `?`, just like this:"
   ]
  },
  {
   "cell_type": "code",
   "execution_count": 4,
   "metadata": {
    "ExecuteTime": {
     "end_time": "2019-03-19T17:48:29.185158Z",
     "start_time": "2019-03-19T17:48:29.155467Z"
    }
   },
   "outputs": [],
   "source": [
    "# Retrieving documentation on the alias_magic command\n",
    "?%alias_magic\n"
   ]
  },
  {
   "cell_type": "code",
   "execution_count": 5,
   "metadata": {
    "ExecuteTime": {
     "end_time": "2019-03-19T17:48:29.597471Z",
     "start_time": "2019-03-19T17:48:29.195350Z"
    }
   },
   "outputs": [],
   "source": [
    "# Retrieving information on the range() function\n",
    "?range"
   ]
  },
  {
   "cell_type": "markdown",
   "metadata": {},
   "source": [
    "Note that if you want to start a single-line expression to run with the magics command, you can do this by using `% . For multi-line expressions, use `&& . The following example illustrates the difference between the two:"
   ]
  },
  {
   "cell_type": "code",
   "execution_count": 6,
   "metadata": {
    "ExecuteTime": {
     "end_time": "2019-03-19T17:48:29.627262Z",
     "start_time": "2019-03-19T17:48:29.607831Z"
    }
   },
   "outputs": [
    {
     "name": "stdout",
     "output_type": "stream",
     "text": [
      "CPU times: user 25 µs, sys: 2 µs, total: 27 µs\n",
      "Wall time: 44.8 µs\n"
     ]
    }
   ],
   "source": [
    "%time x = range(100)"
   ]
  },
  {
   "cell_type": "code",
   "execution_count": 7,
   "metadata": {
    "ExecuteTime": {
     "end_time": "2019-03-19T17:48:45.064956Z",
     "start_time": "2019-03-19T17:48:29.638901Z"
    }
   },
   "outputs": [
    {
     "name": "stdout",
     "output_type": "stream",
     "text": [
      "18.9 µs ± 30.8 ns per loop (mean ± std. dev. of 7 runs, 100000 loops each)\n"
     ]
    }
   ],
   "source": [
    "%%timeit x = range(100)\n",
    "    max(x)"
   ]
  },
  {
   "cell_type": "markdown",
   "metadata": {},
   "source": [
    "Stated differently, the magic commands are either line-oriented or cell-oriented. In the first case, the commands are prefixed with the `%` character and they work as follows: they get as an argument the rest of the line. When you want to pass not only the line but also the lines that follow, you need cell-oriented magic: then, the commands need to be prefixed with `%%`.\n",
    "\n",
    "Besides the `%time` and `%timeit` magics, there are some other magic commands that will surely come in handy:"
   ]
  },
  {
   "cell_type": "markdown",
   "metadata": {},
   "source": [
    " <style type=\"text/css\">\n",
    ".tg  {border-collapse:collapse;border-spacing:0;border:none;border-color:#ccc;}\n",
    ".tg td{font-family:Arial, sans-serif;font-size:14px;padding:10px 5px;border-style:solid;border-width:0px;overflow:hidden;word-break:normal;border-color:#ccc;color:#333;background-color:#fff;}\n",
    ".tg th{font-family:Arial, sans-serif;font-size:14px;font-weight:normal;padding:10px 5px;border-style:solid;border-width:0px;overflow:hidden;word-break:normal;border-color:#ccc;color:#333;background-color:#f0f0f0;}\n",
    ".tg .tg-buh4{background-color:#f9f9f9;text-align:left;vertical-align:top}\n",
    ".tg .tg-0lax{text-align:left;vertical-align:top}\n",
    "</style>\n",
    "<table class=\"tg\">\n",
    "  <tr>\n",
    "    <th class=\"tg-0lax\">Command</th>\n",
    "    <th class=\"tg-0lax\">Description</th>\n",
    "  </tr>\n",
    "  <tr>\n",
    "    <td class=\"tg-buh4\">%pdb</td>\n",
    "    <td class=\"tg-buh4\">Debug</td>\n",
    "  </tr>\n",
    "  <tr>\n",
    "    <td class=\"tg-0lax\">%prun</td>\n",
    "    <td class=\"tg-0lax\">Do a performance run</td>\n",
    "  </tr>\n",
    "  <tr>\n",
    "    <td class=\"tg-buh4\">%writefile</td>\n",
    "    <td class=\"tg-buh4\">Saves the contents of a cell to an external file</td>\n",
    "  </tr>\n",
    "  <tr>\n",
    "    <td class=\"tg-0lax\">%pycat</td>\n",
    "    <td class=\"tg-0lax\">Shows the syntax highlighted contents of an external file</td>\n",
    "  </tr>\n",
    "  <tr>\n",
    "    <td class=\"tg-buh4\">%who</td>\n",
    "    <td class=\"tg-buh4\">List all variables of a global scope</td>\n",
    "  </tr>\n",
    "  <tr>\n",
    "    <td class=\"tg-0lax\">%store</td>\n",
    "    <td class=\"tg-0lax\">Pass variables between notebooks</td>\n",
    "  </tr>\n",
    "  <tr>\n",
    "    <td class=\"tg-buh4\">%load</td>\n",
    "    <td class=\"tg-buh4\">Insert code from an external script</td>\n",
    "  </tr>\n",
    "  <tr>\n",
    "    <td class=\"tg-0lax\">%run</td>\n",
    "    <td class=\"tg-0lax\">Execute Python code</td>\n",
    "  </tr>\n",
    "  <tr>\n",
    "    <td class=\"tg-buh4\">%env</td>\n",
    "    <td class=\"tg-buh4\">Set environment variables</td>\n",
    "  </tr>\n",
    "</table>\n",
    "\n"
   ]
  },
  {
   "cell_type": "markdown",
   "metadata": {},
   "source": [
    "Note that this is just a short list of the handy magic commands out there. There are many more that you can discover with `%lsmagic`.\n",
    "\n",
    "You can also use magics to mix languages in your notebook with the IPython kernel without setting up extra kernels: there is `rmagics` to run R code, SQL for RDBMS or Relational Database Management System access and `cythonmagic` for interactive work with `cython`,... But there is so much more! \n",
    "\n",
    "To make use of these magics, you first have to install the necessary packages:\n",
    "\n",
    "https://anaconda.org/conda-forge/ipython-sql\n",
    "`pip install ipython-sql`\n",
    "\n",
    "https://cython.org/\n",
    "`pip install cython`\n",
    "\n",
    "https://rpy2.readthedocs.io/en/version_2.8.x/\n",
    "`pip install rpy2`\n",
    "\n",
    "<div class=\"alert alert-warning\" role=\"alert\">\n",
    "Tip: if you want to install packages, you can also execute these commands as shell commands from inside your notebook by placing a <code>!</code> in front of the commands, just like this:\n",
    " </div>"
   ]
  },
  {
   "cell_type": "code",
   "execution_count": 3,
   "metadata": {
    "ExecuteTime": {
     "end_time": "2019-04-10T19:17:45.772243Z",
     "start_time": "2019-04-10T19:17:26.988598Z"
    }
   },
   "outputs": [
    {
     "name": "stdout",
     "output_type": "stream",
     "text": [
      "Requirement already satisfied: jupyter_contrib_nbextensions in /usr/local/lib/python3.6/site-packages (0.5.1)\n",
      "Requirement already satisfied: jupyter-core in /usr/local/lib/python3.6/site-packages (from jupyter_contrib_nbextensions) (4.4.0)\n",
      "Requirement already satisfied: lxml in /usr/local/lib/python3.6/site-packages (from jupyter_contrib_nbextensions) (4.3.2)\n",
      "Requirement already satisfied: jupyter-nbextensions-configurator>=0.4.0 in /usr/local/lib/python3.6/site-packages (from jupyter_contrib_nbextensions) (0.4.1)\n",
      "Requirement already satisfied: nbconvert>=4.2 in /usr/local/lib/python3.6/site-packages (from jupyter_contrib_nbextensions) (5.4.1)\n",
      "Requirement already satisfied: jupyter-contrib-core>=0.3.3 in /usr/local/lib/python3.6/site-packages (from jupyter_contrib_nbextensions) (0.3.3)\n",
      "Requirement already satisfied: tornado in /usr/local/lib/python3.6/site-packages (from jupyter_contrib_nbextensions) (6.0.1)\n",
      "Requirement already satisfied: traitlets>=4.1 in /usr/local/lib/python3.6/site-packages (from jupyter_contrib_nbextensions) (4.3.2)\n",
      "Requirement already satisfied: jupyter-latex-envs>=1.3.8 in /usr/local/lib/python3.6/site-packages (from jupyter_contrib_nbextensions) (1.4.6)\n",
      "Requirement already satisfied: notebook>=4.0 in /usr/local/lib/python3.6/site-packages (from jupyter_contrib_nbextensions) (5.7.6)\n",
      "Requirement already satisfied: pyyaml in /usr/local/lib/python3.6/site-packages (from jupyter_contrib_nbextensions) (5.1)\n",
      "Requirement already satisfied: ipython-genutils in /usr/local/lib/python3.6/site-packages (from jupyter_contrib_nbextensions) (0.2.0)\n",
      "Requirement already satisfied: jupyter-highlight-selected-word>=0.1.1 in /usr/local/lib/python3.6/site-packages (from jupyter_contrib_nbextensions) (0.2.0)\n",
      "Requirement already satisfied: entrypoints>=0.2.2 in /usr/local/lib/python3.6/site-packages (from nbconvert>=4.2->jupyter_contrib_nbextensions) (0.3)\n",
      "Requirement already satisfied: testpath in /usr/local/lib/python3.6/site-packages (from nbconvert>=4.2->jupyter_contrib_nbextensions) (0.4.2)\n",
      "Requirement already satisfied: defusedxml in /usr/local/lib/python3.6/site-packages (from nbconvert>=4.2->jupyter_contrib_nbextensions) (0.5.0)\n",
      "Requirement already satisfied: mistune>=0.8.1 in /usr/local/lib/python3.6/site-packages (from nbconvert>=4.2->jupyter_contrib_nbextensions) (0.8.4)\n",
      "Requirement already satisfied: nbformat>=4.4 in /usr/local/lib/python3.6/site-packages (from nbconvert>=4.2->jupyter_contrib_nbextensions) (4.4.0)\n",
      "Requirement already satisfied: jinja2 in /usr/local/lib/python3.6/site-packages (from nbconvert>=4.2->jupyter_contrib_nbextensions) (2.10)\n",
      "Requirement already satisfied: bleach in /usr/local/lib/python3.6/site-packages (from nbconvert>=4.2->jupyter_contrib_nbextensions) (3.1.0)\n",
      "Requirement already satisfied: pygments in /usr/local/lib/python3.6/site-packages (from nbconvert>=4.2->jupyter_contrib_nbextensions) (2.3.1)\n",
      "Requirement already satisfied: pandocfilters>=1.4.1 in /usr/local/lib/python3.6/site-packages (from nbconvert>=4.2->jupyter_contrib_nbextensions) (1.4.2)\n",
      "Requirement already satisfied: setuptools in /usr/local/lib/python3.6/site-packages (from jupyter-contrib-core>=0.3.3->jupyter_contrib_nbextensions) (40.6.2)\n",
      "Requirement already satisfied: six in /usr/local/lib/python3.6/site-packages (from traitlets>=4.1->jupyter_contrib_nbextensions) (1.12.0)\n",
      "Requirement already satisfied: decorator in /usr/local/lib/python3.6/site-packages (from traitlets>=4.1->jupyter_contrib_nbextensions) (4.4.0)\n",
      "Requirement already satisfied: ipython in /usr/local/lib/python3.6/site-packages (from jupyter-latex-envs>=1.3.8->jupyter_contrib_nbextensions) (6.2.1)\n",
      "Requirement already satisfied: prometheus-client in /usr/local/lib/python3.6/site-packages (from notebook>=4.0->jupyter_contrib_nbextensions) (0.6.0)\n",
      "Requirement already satisfied: jupyter-client>=5.2.0 in /usr/local/lib/python3.6/site-packages (from notebook>=4.0->jupyter_contrib_nbextensions) (5.2.4)\n",
      "Requirement already satisfied: terminado>=0.8.1 in /usr/local/lib/python3.6/site-packages (from notebook>=4.0->jupyter_contrib_nbextensions) (0.8.1)\n",
      "Requirement already satisfied: Send2Trash in /usr/local/lib/python3.6/site-packages (from notebook>=4.0->jupyter_contrib_nbextensions) (1.5.0)\n",
      "Requirement already satisfied: ipykernel in /usr/local/lib/python3.6/site-packages (from notebook>=4.0->jupyter_contrib_nbextensions) (5.1.0)\n",
      "Requirement already satisfied: pyzmq>=17 in /usr/local/lib/python3.6/site-packages (from notebook>=4.0->jupyter_contrib_nbextensions) (18.0.1)\n",
      "Requirement already satisfied: jsonschema!=2.5.0,>=2.4 in /usr/local/lib/python3.6/site-packages (from nbformat>=4.4->nbconvert>=4.2->jupyter_contrib_nbextensions) (3.0.1)\n",
      "Requirement already satisfied: MarkupSafe>=0.23 in /usr/local/lib/python3.6/site-packages (from jinja2->nbconvert>=4.2->jupyter_contrib_nbextensions) (1.1.1)\n",
      "Requirement already satisfied: webencodings in /usr/local/lib/python3.6/site-packages (from bleach->nbconvert>=4.2->jupyter_contrib_nbextensions) (0.5.1)\n",
      "Requirement already satisfied: pickleshare in /usr/local/lib/python3.6/site-packages (from ipython->jupyter-latex-envs>=1.3.8->jupyter_contrib_nbextensions) (0.7.5)\n",
      "Requirement already satisfied: jedi>=0.10 in /usr/local/lib/python3.6/site-packages (from ipython->jupyter-latex-envs>=1.3.8->jupyter_contrib_nbextensions) (0.13.3)\n",
      "Requirement already satisfied: prompt-toolkit<2.0.0,>=1.0.4 in /usr/local/lib/python3.6/site-packages (from ipython->jupyter-latex-envs>=1.3.8->jupyter_contrib_nbextensions) (1.0.15)\n",
      "Requirement already satisfied: simplegeneric>0.8 in /usr/local/lib/python3.6/site-packages (from ipython->jupyter-latex-envs>=1.3.8->jupyter_contrib_nbextensions) (0.8.1)\n",
      "Requirement already satisfied: pexpect; sys_platform != \"win32\" in /usr/local/lib/python3.6/site-packages (from ipython->jupyter-latex-envs>=1.3.8->jupyter_contrib_nbextensions) (4.6.0)\n",
      "Requirement already satisfied: python-dateutil>=2.1 in /usr/local/lib/python3.6/site-packages (from jupyter-client>=5.2.0->notebook>=4.0->jupyter_contrib_nbextensions) (2.8.0)\n",
      "Requirement already satisfied: ptyprocess; os_name != \"nt\" in /usr/local/lib/python3.6/site-packages (from terminado>=0.8.1->notebook>=4.0->jupyter_contrib_nbextensions) (0.6.0)\n",
      "Requirement already satisfied: pyrsistent>=0.14.0 in /usr/local/lib/python3.6/site-packages (from jsonschema!=2.5.0,>=2.4->nbformat>=4.4->nbconvert>=4.2->jupyter_contrib_nbextensions) (0.14.11)\n",
      "Requirement already satisfied: attrs>=17.4.0 in /usr/local/lib/python3.6/site-packages (from jsonschema!=2.5.0,>=2.4->nbformat>=4.4->nbconvert>=4.2->jupyter_contrib_nbextensions) (19.1.0)\n",
      "Requirement already satisfied: parso>=0.3.0 in /usr/local/lib/python3.6/site-packages (from jedi>=0.10->ipython->jupyter-latex-envs>=1.3.8->jupyter_contrib_nbextensions) (0.3.4)\n",
      "Requirement already satisfied: wcwidth in /usr/local/lib/python3.6/site-packages (from prompt-toolkit<2.0.0,>=1.0.4->ipython->jupyter-latex-envs>=1.3.8->jupyter_contrib_nbextensions) (0.1.7)\n",
      "\u001b[32m[I 15:17:42 InstallContribNbextensionsApp]\u001b[m jupyter contrib nbextension install \n",
      "\u001b[32m[I 15:17:42 InstallContribNbextensionsApp]\u001b[m Installing jupyter_contrib_nbextensions nbextension files to jupyter data directory\n",
      "\u001b[32m[I 15:17:44 InstallContribNbextensionsApp]\u001b[m Installing /usr/local/lib/python3.6/site-packages/jupyter_contrib_nbextensions/nbextensions/splitcell -> splitcell\n",
      "\u001b[32m[I 15:17:44 InstallContribNbextensionsApp]\u001b[m Up to date: /usr/local/share/jupyter/nbextensions/splitcell/icon.png\n",
      "\u001b[32m[I 15:17:44 InstallContribNbextensionsApp]\u001b[m Up to date: /usr/local/share/jupyter/nbextensions/splitcell/readme.md\n",
      "\u001b[32m[I 15:17:44 InstallContribNbextensionsApp]\u001b[m Up to date: /usr/local/share/jupyter/nbextensions/splitcell/splitcell.yaml\n",
      "\u001b[32m[I 15:17:44 InstallContribNbextensionsApp]\u001b[m Up to date: /usr/local/share/jupyter/nbextensions/splitcell/splitcell.js\n",
      "\u001b[32m[I 15:17:44 InstallContribNbextensionsApp]\u001b[m - Validating: \u001b[32mOK\u001b[0m\n",
      "\u001b[32m[I 15:17:44 InstallContribNbextensionsApp]\u001b[m Installing /usr/local/lib/python3.6/site-packages/jupyter_contrib_nbextensions/nbextensions/execute_time -> execute_time\n",
      "\u001b[32m[I 15:17:44 InstallContribNbextensionsApp]\u001b[m Up to date: /usr/local/share/jupyter/nbextensions/execute_time/execution-timings-box.png\n",
      "\u001b[32m[I 15:17:44 InstallContribNbextensionsApp]\u001b[m Up to date: /usr/local/share/jupyter/nbextensions/execute_time/ExecuteTime.js\n",
      "\u001b[32m[I 15:17:44 InstallContribNbextensionsApp]\u001b[m Up to date: /usr/local/share/jupyter/nbextensions/execute_time/icon.png\n",
      "\u001b[32m[I 15:17:44 InstallContribNbextensionsApp]\u001b[m Up to date: /usr/local/share/jupyter/nbextensions/execute_time/readme.md\n",
      "\u001b[32m[I 15:17:44 InstallContribNbextensionsApp]\u001b[m Up to date: /usr/local/share/jupyter/nbextensions/execute_time/ExecuteTime.yaml\n",
      "\u001b[32m[I 15:17:44 InstallContribNbextensionsApp]\u001b[m Up to date: /usr/local/share/jupyter/nbextensions/execute_time/execution-timings-menu.png\n",
      "\u001b[32m[I 15:17:44 InstallContribNbextensionsApp]\u001b[m Up to date: /usr/local/share/jupyter/nbextensions/execute_time/ExecuteTime.css\n",
      "\u001b[32m[I 15:17:44 InstallContribNbextensionsApp]\u001b[m - Validating: \u001b[32mOK\u001b[0m\n",
      "\u001b[32m[I 15:17:44 InstallContribNbextensionsApp]\u001b[m Installing /usr/local/lib/python3.6/site-packages/jupyter_contrib_nbextensions/nbextensions/hide_input -> hide_input\n",
      "\u001b[32m[I 15:17:44 InstallContribNbextensionsApp]\u001b[m Up to date: /usr/local/share/jupyter/nbextensions/hide_input/icon.png\n",
      "\u001b[32m[I 15:17:44 InstallContribNbextensionsApp]\u001b[m Up to date: /usr/local/share/jupyter/nbextensions/hide_input/readme.md\n",
      "\u001b[32m[I 15:17:44 InstallContribNbextensionsApp]\u001b[m Up to date: /usr/local/share/jupyter/nbextensions/hide_input/hide-input.yaml\n",
      "\u001b[32m[I 15:17:44 InstallContribNbextensionsApp]\u001b[m Up to date: /usr/local/share/jupyter/nbextensions/hide_input/main.js\n",
      "\u001b[32m[I 15:17:44 InstallContribNbextensionsApp]\u001b[m - Validating: \u001b[32mOK\u001b[0m\n",
      "\u001b[32m[I 15:17:44 InstallContribNbextensionsApp]\u001b[m Installing /usr/local/lib/python3.6/site-packages/jupyter_contrib_nbextensions/nbextensions/table_beautifier -> table_beautifier\n"
     ]
    },
    {
     "name": "stdout",
     "output_type": "stream",
     "text": [
      "\u001b[32m[I 15:17:44 InstallContribNbextensionsApp]\u001b[m Up to date: /usr/local/share/jupyter/nbextensions/table_beautifier/table_beautifier.yaml\r\n",
      "\u001b[32m[I 15:17:44 InstallContribNbextensionsApp]\u001b[m Up to date: /usr/local/share/jupyter/nbextensions/table_beautifier/main.css\r\n",
      "\u001b[32m[I 15:17:44 InstallContribNbextensionsApp]\u001b[m Up to date: /usr/local/share/jupyter/nbextensions/table_beautifier/main.js\r\n",
      "\u001b[32m[I 15:17:44 InstallContribNbextensionsApp]\u001b[m Up to date: /usr/local/share/jupyter/nbextensions/table_beautifier/README.md\r\n",
      "\u001b[32m[I 15:17:44 InstallContribNbextensionsApp]\u001b[m - Validating: \u001b[32mOK\u001b[0m\r\n",
      "\u001b[32m[I 15:17:44 InstallContribNbextensionsApp]\u001b[m Installing /usr/local/lib/python3.6/site-packages/jupyter_contrib_nbextensions/nbextensions/code_prettify -> code_prettify\r\n",
      "\u001b[32m[I 15:17:44 InstallContribNbextensionsApp]\u001b[m Up to date: /usr/local/share/jupyter/nbextensions/code_prettify/code_prettify.yaml\r\n",
      "\u001b[32m[I 15:17:44 InstallContribNbextensionsApp]\u001b[m Up to date: /usr/local/share/jupyter/nbextensions/code_prettify/README_isort.md\r\n",
      "\u001b[32m[I 15:17:44 InstallContribNbextensionsApp]\u001b[m Up to date: /usr/local/share/jupyter/nbextensions/code_prettify/README_2to3.md\r\n",
      "\u001b[32m[I 15:17:44 InstallContribNbextensionsApp]\u001b[m Up to date: /usr/local/share/jupyter/nbextensions/code_prettify/README_autopep8.md\r\n",
      "\u001b[32m[I 15:17:44 InstallContribNbextensionsApp]\u001b[m Up to date: /usr/local/share/jupyter/nbextensions/code_prettify/demo_2to3.gif\r\n",
      "\u001b[32m[I 15:17:44 InstallContribNbextensionsApp]\u001b[m Up to date: /usr/local/share/jupyter/nbextensions/code_prettify/autopep8.js\r\n",
      "\u001b[32m[I 15:17:44 InstallContribNbextensionsApp]\u001b[m Up to date: /usr/local/share/jupyter/nbextensions/code_prettify/kernel_exec_on_cell.js\r\n",
      "\u001b[32m[I 15:17:44 InstallContribNbextensionsApp]\u001b[m Up to date: /usr/local/share/jupyter/nbextensions/code_prettify/demo-jv.gif\r\n",
      "\u001b[32m[I 15:17:44 InstallContribNbextensionsApp]\u001b[m Up to date: /usr/local/share/jupyter/nbextensions/code_prettify/2to3.yaml\r\n",
      "\u001b[32m[I 15:17:44 InstallContribNbextensionsApp]\u001b[m Up to date: /usr/local/share/jupyter/nbextensions/code_prettify/demo-py.gif\r\n",
      "\u001b[32m[I 15:17:44 InstallContribNbextensionsApp]\u001b[m Up to date: /usr/local/share/jupyter/nbextensions/code_prettify/2to3.js\r\n",
      "\u001b[32m[I 15:17:44 InstallContribNbextensionsApp]\u001b[m Up to date: /usr/local/share/jupyter/nbextensions/code_prettify/README_code_prettify.md\r\n",
      "\u001b[32m[I 15:17:44 InstallContribNbextensionsApp]\u001b[m Up to date: /usr/local/share/jupyter/nbextensions/code_prettify/demo-R.gif\r\n",
      "\u001b[32m[I 15:17:44 InstallContribNbextensionsApp]\u001b[m Up to date: /usr/local/share/jupyter/nbextensions/code_prettify/code_prettify.js\r\n",
      "\u001b[32m[I 15:17:44 InstallContribNbextensionsApp]\u001b[m Up to date: /usr/local/share/jupyter/nbextensions/code_prettify/autopep8.yaml\r\n",
      "\u001b[32m[I 15:17:44 InstallContribNbextensionsApp]\u001b[m Up to date: /usr/local/share/jupyter/nbextensions/code_prettify/isort.js\r\n",
      "\u001b[32m[I 15:17:44 InstallContribNbextensionsApp]\u001b[m Up to date: /usr/local/share/jupyter/nbextensions/code_prettify/README.md\r\n",
      "\u001b[32m[I 15:17:44 InstallContribNbextensionsApp]\u001b[m Up to date: /usr/local/share/jupyter/nbextensions/code_prettify/isort.yaml\r\n",
      "\u001b[32m[I 15:17:44 InstallContribNbextensionsApp]\u001b[m - Validating: \u001b[32mOK\u001b[0m\r\n",
      "\u001b[32m[I 15:17:44 InstallContribNbextensionsApp]\u001b[m Installing /usr/local/lib/python3.6/site-packages/jupyter_contrib_nbextensions/nbextensions/code_prettify -> code_prettify\r\n",
      "\u001b[32m[I 15:17:44 InstallContribNbextensionsApp]\u001b[m Up to date: /usr/local/share/jupyter/nbextensions/code_prettify/code_prettify.yaml\r\n",
      "\u001b[32m[I 15:17:44 InstallContribNbextensionsApp]\u001b[m Up to date: /usr/local/share/jupyter/nbextensions/code_prettify/README_isort.md\r\n",
      "\u001b[32m[I 15:17:44 InstallContribNbextensionsApp]\u001b[m Up to date: /usr/local/share/jupyter/nbextensions/code_prettify/README_2to3.md\r\n",
      "\u001b[32m[I 15:17:44 InstallContribNbextensionsApp]\u001b[m Up to date: /usr/local/share/jupyter/nbextensions/code_prettify/README_autopep8.md\r\n",
      "\u001b[32m[I 15:17:44 InstallContribNbextensionsApp]\u001b[m Up to date: /usr/local/share/jupyter/nbextensions/code_prettify/demo_2to3.gif\r\n",
      "\u001b[32m[I 15:17:44 InstallContribNbextensionsApp]\u001b[m Up to date: /usr/local/share/jupyter/nbextensions/code_prettify/autopep8.js\r\n",
      "\u001b[32m[I 15:17:44 InstallContribNbextensionsApp]\u001b[m Up to date: /usr/local/share/jupyter/nbextensions/code_prettify/kernel_exec_on_cell.js\r\n",
      "\u001b[32m[I 15:17:44 InstallContribNbextensionsApp]\u001b[m Up to date: /usr/local/share/jupyter/nbextensions/code_prettify/demo-jv.gif\r\n",
      "\u001b[32m[I 15:17:44 InstallContribNbextensionsApp]\u001b[m Up to date: /usr/local/share/jupyter/nbextensions/code_prettify/2to3.yaml\r\n",
      "\u001b[32m[I 15:17:44 InstallContribNbextensionsApp]\u001b[m Up to date: /usr/local/share/jupyter/nbextensions/code_prettify/demo-py.gif\r\n",
      "\u001b[32m[I 15:17:44 InstallContribNbextensionsApp]\u001b[m Up to date: /usr/local/share/jupyter/nbextensions/code_prettify/2to3.js\r\n",
      "\u001b[32m[I 15:17:44 InstallContribNbextensionsApp]\u001b[m Up to date: /usr/local/share/jupyter/nbextensions/code_prettify/README_code_prettify.md\r\n",
      "\u001b[32m[I 15:17:44 InstallContribNbextensionsApp]\u001b[m Up to date: /usr/local/share/jupyter/nbextensions/code_prettify/demo-R.gif\r\n",
      "\u001b[32m[I 15:17:44 InstallContribNbextensionsApp]\u001b[m Up to date: /usr/local/share/jupyter/nbextensions/code_prettify/code_prettify.js\r\n",
      "\u001b[32m[I 15:17:44 InstallContribNbextensionsApp]\u001b[m Up to date: /usr/local/share/jupyter/nbextensions/code_prettify/autopep8.yaml\r\n",
      "\u001b[32m[I 15:17:44 InstallContribNbextensionsApp]\u001b[m Up to date: /usr/local/share/jupyter/nbextensions/code_prettify/isort.js\r\n",
      "\u001b[32m[I 15:17:44 InstallContribNbextensionsApp]\u001b[m Up to date: /usr/local/share/jupyter/nbextensions/code_prettify/README.md\r\n",
      "\u001b[32m[I 15:17:44 InstallContribNbextensionsApp]\u001b[m Up to date: /usr/local/share/jupyter/nbextensions/code_prettify/isort.yaml\r\n",
      "\u001b[32m[I 15:17:44 InstallContribNbextensionsApp]\u001b[m - Validating: \u001b[32mOK\u001b[0m\r\n",
      "\u001b[32m[I 15:17:44 InstallContribNbextensionsApp]\u001b[m Installing /usr/local/lib/python3.6/site-packages/jupyter_contrib_nbextensions/nbextensions/code_prettify -> code_prettify\r\n",
      "\u001b[32m[I 15:17:44 InstallContribNbextensionsApp]\u001b[m Up to date: /usr/local/share/jupyter/nbextensions/code_prettify/code_prettify.yaml\r\n",
      "\u001b[32m[I 15:17:44 InstallContribNbextensionsApp]\u001b[m Up to date: /usr/local/share/jupyter/nbextensions/code_prettify/README_isort.md\r\n",
      "\u001b[32m[I 15:17:44 InstallContribNbextensionsApp]\u001b[m Up to date: /usr/local/share/jupyter/nbextensions/code_prettify/README_2to3.md\r\n",
      "\u001b[32m[I 15:17:44 InstallContribNbextensionsApp]\u001b[m Up to date: /usr/local/share/jupyter/nbextensions/code_prettify/README_autopep8.md\r\n",
      "\u001b[32m[I 15:17:44 InstallContribNbextensionsApp]\u001b[m Up to date: /usr/local/share/jupyter/nbextensions/code_prettify/demo_2to3.gif\r\n",
      "\u001b[32m[I 15:17:44 InstallContribNbextensionsApp]\u001b[m Up to date: /usr/local/share/jupyter/nbextensions/code_prettify/autopep8.js\r\n",
      "\u001b[32m[I 15:17:44 InstallContribNbextensionsApp]\u001b[m Up to date: /usr/local/share/jupyter/nbextensions/code_prettify/kernel_exec_on_cell.js\r\n",
      "\u001b[32m[I 15:17:44 InstallContribNbextensionsApp]\u001b[m Up to date: /usr/local/share/jupyter/nbextensions/code_prettify/demo-jv.gif\r\n",
      "\u001b[32m[I 15:17:44 InstallContribNbextensionsApp]\u001b[m Up to date: /usr/local/share/jupyter/nbextensions/code_prettify/2to3.yaml\r\n",
      "\u001b[32m[I 15:17:44 InstallContribNbextensionsApp]\u001b[m Up to date: /usr/local/share/jupyter/nbextensions/code_prettify/demo-py.gif\r\n",
      "\u001b[32m[I 15:17:44 InstallContribNbextensionsApp]\u001b[m Up to date: /usr/local/share/jupyter/nbextensions/code_prettify/2to3.js\r\n",
      "\u001b[32m[I 15:17:44 InstallContribNbextensionsApp]\u001b[m Up to date: /usr/local/share/jupyter/nbextensions/code_prettify/README_code_prettify.md\r\n",
      "\u001b[32m[I 15:17:44 InstallContribNbextensionsApp]\u001b[m Up to date: /usr/local/share/jupyter/nbextensions/code_prettify/demo-R.gif\r\n",
      "\u001b[32m[I 15:17:44 InstallContribNbextensionsApp]\u001b[m Up to date: /usr/local/share/jupyter/nbextensions/code_prettify/code_prettify.js\r\n",
      "\u001b[32m[I 15:17:44 InstallContribNbextensionsApp]\u001b[m Up to date: /usr/local/share/jupyter/nbextensions/code_prettify/autopep8.yaml\r\n",
      "\u001b[32m[I 15:17:44 InstallContribNbextensionsApp]\u001b[m Up to date: /usr/local/share/jupyter/nbextensions/code_prettify/isort.js\r\n",
      "\u001b[32m[I 15:17:44 InstallContribNbextensionsApp]\u001b[m Up to date: /usr/local/share/jupyter/nbextensions/code_prettify/README.md\r\n",
      "\u001b[32m[I 15:17:44 InstallContribNbextensionsApp]\u001b[m Up to date: /usr/local/share/jupyter/nbextensions/code_prettify/isort.yaml\r\n",
      "\u001b[32m[I 15:17:44 InstallContribNbextensionsApp]\u001b[m - Validating: \u001b[32mOK\u001b[0m\r\n",
      "\u001b[32m[I 15:17:44 InstallContribNbextensionsApp]\u001b[m Installing /usr/local/lib/python3.6/site-packages/jupyter_contrib_nbextensions/nbextensions/code_prettify -> code_prettify\r\n",
      "\u001b[32m[I 15:17:44 InstallContribNbextensionsApp]\u001b[m Up to date: /usr/local/share/jupyter/nbextensions/code_prettify/code_prettify.yaml\r\n",
      "\u001b[32m[I 15:17:44 InstallContribNbextensionsApp]\u001b[m Up to date: /usr/local/share/jupyter/nbextensions/code_prettify/README_isort.md\r\n",
      "\u001b[32m[I 15:17:44 InstallContribNbextensionsApp]\u001b[m Up to date: /usr/local/share/jupyter/nbextensions/code_prettify/README_2to3.md\r\n",
      "\u001b[32m[I 15:17:44 InstallContribNbextensionsApp]\u001b[m Up to date: /usr/local/share/jupyter/nbextensions/code_prettify/README_autopep8.md\r\n",
      "\u001b[32m[I 15:17:44 InstallContribNbextensionsApp]\u001b[m Up to date: /usr/local/share/jupyter/nbextensions/code_prettify/demo_2to3.gif\r\n",
      "\u001b[32m[I 15:17:44 InstallContribNbextensionsApp]\u001b[m Up to date: /usr/local/share/jupyter/nbextensions/code_prettify/autopep8.js\r\n",
      "\u001b[32m[I 15:17:44 InstallContribNbextensionsApp]\u001b[m Up to date: /usr/local/share/jupyter/nbextensions/code_prettify/kernel_exec_on_cell.js\r\n",
      "\u001b[32m[I 15:17:44 InstallContribNbextensionsApp]\u001b[m Up to date: /usr/local/share/jupyter/nbextensions/code_prettify/demo-jv.gif\r\n",
      "\u001b[32m[I 15:17:44 InstallContribNbextensionsApp]\u001b[m Up to date: /usr/local/share/jupyter/nbextensions/code_prettify/2to3.yaml\r\n",
      "\u001b[32m[I 15:17:44 InstallContribNbextensionsApp]\u001b[m Up to date: /usr/local/share/jupyter/nbextensions/code_prettify/demo-py.gif\r\n",
      "\u001b[32m[I 15:17:44 InstallContribNbextensionsApp]\u001b[m Up to date: /usr/local/share/jupyter/nbextensions/code_prettify/2to3.js\r\n",
      "\u001b[32m[I 15:17:44 InstallContribNbextensionsApp]\u001b[m Up to date: /usr/local/share/jupyter/nbextensions/code_prettify/README_code_prettify.md\r\n",
      "\u001b[32m[I 15:17:44 InstallContribNbextensionsApp]\u001b[m Up to date: /usr/local/share/jupyter/nbextensions/code_prettify/demo-R.gif\r\n",
      "\u001b[32m[I 15:17:44 InstallContribNbextensionsApp]\u001b[m Up to date: /usr/local/share/jupyter/nbextensions/code_prettify/code_prettify.js\r\n",
      "\u001b[32m[I 15:17:44 InstallContribNbextensionsApp]\u001b[m Up to date: /usr/local/share/jupyter/nbextensions/code_prettify/autopep8.yaml\r\n",
      "\u001b[32m[I 15:17:44 InstallContribNbextensionsApp]\u001b[m Up to date: /usr/local/share/jupyter/nbextensions/code_prettify/isort.js\r\n",
      "\u001b[32m[I 15:17:44 InstallContribNbextensionsApp]\u001b[m Up to date: /usr/local/share/jupyter/nbextensions/code_prettify/README.md\r\n",
      "\u001b[32m[I 15:17:44 InstallContribNbextensionsApp]\u001b[m Up to date: /usr/local/share/jupyter/nbextensions/code_prettify/isort.yaml\r\n",
      "\u001b[32m[I 15:17:44 InstallContribNbextensionsApp]\u001b[m - Validating: \u001b[32mOK\u001b[0m\r\n",
      "\u001b[32m[I 15:17:44 InstallContribNbextensionsApp]\u001b[m Installing /usr/local/lib/python3.6/site-packages/jupyter_contrib_nbextensions/nbextensions/hinterland -> hinterland\r\n",
      "\u001b[32m[I 15:17:44 InstallContribNbextensionsApp]\u001b[m Up to date: /usr/local/share/jupyter/nbextensions/hinterland/hinterland.yaml\r\n",
      "\u001b[32m[I 15:17:44 InstallContribNbextensionsApp]\u001b[m Up to date: /usr/local/share/jupyter/nbextensions/hinterland/hinterland.js\r\n",
      "\u001b[32m[I 15:17:44 InstallContribNbextensionsApp]\u001b[m Up to date: /usr/local/share/jupyter/nbextensions/hinterland/README.md\r\n",
      "\u001b[32m[I 15:17:44 InstallContribNbextensionsApp]\u001b[m - Validating: \u001b[32mOK\u001b[0m\r\n",
      "\u001b[32m[I 15:17:44 InstallContribNbextensionsApp]\u001b[m Installing /usr/local/lib/python3.6/site-packages/jupyter_contrib_nbextensions/nbextensions/qtconsole -> qtconsole\r\n",
      "\u001b[32m[I 15:17:44 InstallContribNbextensionsApp]\u001b[m Up to date: /usr/local/share/jupyter/nbextensions/qtconsole/qtconsole.js\r\n",
      "\u001b[32m[I 15:17:44 InstallContribNbextensionsApp]\u001b[m Up to date: /usr/local/share/jupyter/nbextensions/qtconsole/qtconsole.yaml\r\n",
      "\u001b[32m[I 15:17:44 InstallContribNbextensionsApp]\u001b[m Up to date: /usr/local/share/jupyter/nbextensions/qtconsole/README.md\r\n",
      "\u001b[32m[I 15:17:44 InstallContribNbextensionsApp]\u001b[m - Validating: \u001b[32mOK\u001b[0m\r\n",
      "\u001b[32m[I 15:17:44 InstallContribNbextensionsApp]\u001b[m Installing /usr/local/lib/python3.6/site-packages/jupyter_contrib_nbextensions/nbextensions/keyboard_shortcut_editor -> keyboard_shortcut_editor\r\n",
      "\u001b[32m[I 15:17:44 InstallContribNbextensionsApp]\u001b[m Up to date: /usr/local/share/jupyter/nbextensions/keyboard_shortcut_editor/readme_comma.png\r\n",
      "\u001b[32m[I 15:17:44 InstallContribNbextensionsApp]\u001b[m Up to date: /usr/local/share/jupyter/nbextensions/keyboard_shortcut_editor/quickhelp_shim.js\r\n"
     ]
    },
    {
     "name": "stdout",
     "output_type": "stream",
     "text": [
      "\u001b[32m[I 15:17:44 InstallContribNbextensionsApp]\u001b[m Up to date: /usr/local/share/jupyter/nbextensions/keyboard_shortcut_editor/icon.png\r\n",
      "\u001b[32m[I 15:17:44 InstallContribNbextensionsApp]\u001b[m Up to date: /usr/local/share/jupyter/nbextensions/keyboard_shortcut_editor/readme_add_new_link.png\r\n",
      "\u001b[32m[I 15:17:44 InstallContribNbextensionsApp]\u001b[m Up to date: /usr/local/share/jupyter/nbextensions/keyboard_shortcut_editor/kse_components.js\r\n",
      "\u001b[32m[I 15:17:44 InstallContribNbextensionsApp]\u001b[m Up to date: /usr/local/share/jupyter/nbextensions/keyboard_shortcut_editor/main.css\r\n",
      "\u001b[32m[I 15:17:44 InstallContribNbextensionsApp]\u001b[m Up to date: /usr/local/share/jupyter/nbextensions/keyboard_shortcut_editor/readme_shortcut_editor_success.png\r\n",
      "\u001b[32m[I 15:17:44 InstallContribNbextensionsApp]\u001b[m Up to date: /usr/local/share/jupyter/nbextensions/keyboard_shortcut_editor/readme_undefined_key.png\r\n",
      "\u001b[32m[I 15:17:44 InstallContribNbextensionsApp]\u001b[m Up to date: /usr/local/share/jupyter/nbextensions/keyboard_shortcut_editor/readme_reset_disabled.png\r\n",
      "\u001b[32m[I 15:17:44 InstallContribNbextensionsApp]\u001b[m Up to date: /usr/local/share/jupyter/nbextensions/keyboard_shortcut_editor/readme_add_new_select_action.png\r\n",
      "\u001b[32m[I 15:17:44 InstallContribNbextensionsApp]\u001b[m Up to date: /usr/local/share/jupyter/nbextensions/keyboard_shortcut_editor/readme_menu_item.png\r\n",
      "\u001b[32m[I 15:17:44 InstallContribNbextensionsApp]\u001b[m Up to date: /usr/local/share/jupyter/nbextensions/keyboard_shortcut_editor/readme_conflict.png\r\n",
      "\u001b[32m[I 15:17:44 InstallContribNbextensionsApp]\u001b[m Up to date: /usr/local/share/jupyter/nbextensions/keyboard_shortcut_editor/readme_shortcut_editor_blank.png\r\n",
      "\u001b[32m[I 15:17:44 InstallContribNbextensionsApp]\u001b[m Up to date: /usr/local/share/jupyter/nbextensions/keyboard_shortcut_editor/keyboard_shortcut_editor.yaml\r\n",
      "\u001b[32m[I 15:17:44 InstallContribNbextensionsApp]\u001b[m Up to date: /usr/local/share/jupyter/nbextensions/keyboard_shortcut_editor/readme_dropdown.png\r\n",
      "\u001b[32m[I 15:17:44 InstallContribNbextensionsApp]\u001b[m Up to date: /usr/local/share/jupyter/nbextensions/keyboard_shortcut_editor/main.js\r\n",
      "\u001b[32m[I 15:17:44 InstallContribNbextensionsApp]\u001b[m Up to date: /usr/local/share/jupyter/nbextensions/keyboard_shortcut_editor/README.md\r\n",
      "\u001b[32m[I 15:17:44 InstallContribNbextensionsApp]\u001b[m - Validating: \u001b[32mOK\u001b[0m\r\n",
      "\u001b[32m[I 15:17:44 InstallContribNbextensionsApp]\u001b[m Installing /usr/local/lib/python3.6/site-packages/jupyter_contrib_nbextensions/nbextensions/snippets -> snippets\r\n",
      "\u001b[32m[I 15:17:44 InstallContribNbextensionsApp]\u001b[m Up to date: /usr/local/share/jupyter/nbextensions/snippets/snippets-demo.gif\r\n",
      "\u001b[32m[I 15:17:44 InstallContribNbextensionsApp]\u001b[m Up to date: /usr/local/share/jupyter/nbextensions/snippets/snippets.json\r\n",
      "\u001b[32m[I 15:17:44 InstallContribNbextensionsApp]\u001b[m Up to date: /usr/local/share/jupyter/nbextensions/snippets/snippets.yaml\r\n",
      "\u001b[32m[I 15:17:44 InstallContribNbextensionsApp]\u001b[m Up to date: /usr/local/share/jupyter/nbextensions/snippets/main.js\r\n",
      "\u001b[32m[I 15:17:44 InstallContribNbextensionsApp]\u001b[m Up to date: /usr/local/share/jupyter/nbextensions/snippets/README.md\r\n",
      "\u001b[32m[I 15:17:44 InstallContribNbextensionsApp]\u001b[m - Validating: \u001b[32mOK\u001b[0m\r\n",
      "\u001b[32m[I 15:17:44 InstallContribNbextensionsApp]\u001b[m Installing /usr/local/lib/python3.6/site-packages/jupyter_contrib_nbextensions/nbextensions/zenmode -> zenmode\r\n",
      "\u001b[32m[I 15:17:44 InstallContribNbextensionsApp]\u001b[m Up to date: /usr/local/share/jupyter/nbextensions/zenmode/zenmode.yaml\r\n",
      "\u001b[32m[I 15:17:44 InstallContribNbextensionsApp]\u001b[m Up to date: /usr/local/share/jupyter/nbextensions/zenmode/main.css\r\n",
      "\u001b[32m[I 15:17:44 InstallContribNbextensionsApp]\u001b[m Up to date: /usr/local/share/jupyter/nbextensions/zenmode/main.js\r\n",
      "\u001b[32m[I 15:17:44 InstallContribNbextensionsApp]\u001b[m Up to date: /usr/local/share/jupyter/nbextensions/zenmode/README.md\r\n",
      "\u001b[32m[I 15:17:44 InstallContribNbextensionsApp]\u001b[m Up to date: /usr/local/share/jupyter/nbextensions/zenmode/images/back22.jpg\r\n",
      "\u001b[32m[I 15:17:44 InstallContribNbextensionsApp]\u001b[m Up to date: /usr/local/share/jupyter/nbextensions/zenmode/images/back12.jpg\r\n",
      "\u001b[32m[I 15:17:44 InstallContribNbextensionsApp]\u001b[m Up to date: /usr/local/share/jupyter/nbextensions/zenmode/images/back3.jpg\r\n",
      "\u001b[32m[I 15:17:44 InstallContribNbextensionsApp]\u001b[m Up to date: /usr/local/share/jupyter/nbextensions/zenmode/images/back11.jpg\r\n",
      "\u001b[32m[I 15:17:44 InstallContribNbextensionsApp]\u001b[m Up to date: /usr/local/share/jupyter/nbextensions/zenmode/images/back1.jpg\r\n",
      "\u001b[32m[I 15:17:44 InstallContribNbextensionsApp]\u001b[m Up to date: /usr/local/share/jupyter/nbextensions/zenmode/images/ipynblogo1.png\r\n",
      "\u001b[32m[I 15:17:44 InstallContribNbextensionsApp]\u001b[m Up to date: /usr/local/share/jupyter/nbextensions/zenmode/images/back21.jpg\r\n",
      "\u001b[32m[I 15:17:44 InstallContribNbextensionsApp]\u001b[m Up to date: /usr/local/share/jupyter/nbextensions/zenmode/images/back2.jpg\r\n",
      "\u001b[32m[I 15:17:44 InstallContribNbextensionsApp]\u001b[m Up to date: /usr/local/share/jupyter/nbextensions/zenmode/images/ipynblogo0.png\r\n",
      "\u001b[32m[I 15:17:44 InstallContribNbextensionsApp]\u001b[m - Validating: \u001b[32mOK\u001b[0m\r\n",
      "\u001b[32m[I 15:17:44 InstallContribNbextensionsApp]\u001b[m Installing /usr/local/lib/python3.6/site-packages/jupyter_contrib_nbextensions/nbextensions/navigation-hotkeys -> navigation-hotkeys\r\n",
      "\u001b[32m[I 15:17:44 InstallContribNbextensionsApp]\u001b[m Up to date: /usr/local/share/jupyter/nbextensions/navigation-hotkeys/icon.png\r\n",
      "\u001b[32m[I 15:17:44 InstallContribNbextensionsApp]\u001b[m Up to date: /usr/local/share/jupyter/nbextensions/navigation-hotkeys/readme.md\r\n",
      "\u001b[32m[I 15:17:44 InstallContribNbextensionsApp]\u001b[m Up to date: /usr/local/share/jupyter/nbextensions/navigation-hotkeys/main.js\r\n",
      "\u001b[32m[I 15:17:44 InstallContribNbextensionsApp]\u001b[m Up to date: /usr/local/share/jupyter/nbextensions/navigation-hotkeys/hotkeys.yaml\r\n",
      "\u001b[32m[I 15:17:44 InstallContribNbextensionsApp]\u001b[m - Validating: \u001b[32mOK\u001b[0m\r\n",
      "\u001b[32m[I 15:17:44 InstallContribNbextensionsApp]\u001b[m Installing /usr/local/lib/python3.6/site-packages/jupyter_contrib_nbextensions/nbextensions/export_embedded -> export_embedded\r\n",
      "\u001b[32m[I 15:17:44 InstallContribNbextensionsApp]\u001b[m Up to date: /usr/local/share/jupyter/nbextensions/export_embedded/icon.png\r\n",
      "\u001b[32m[I 15:17:44 InstallContribNbextensionsApp]\u001b[m Up to date: /usr/local/share/jupyter/nbextensions/export_embedded/readme.md\r\n",
      "\u001b[32m[I 15:17:44 InstallContribNbextensionsApp]\u001b[m Up to date: /usr/local/share/jupyter/nbextensions/export_embedded/export_embedded.yaml\r\n",
      "\u001b[32m[I 15:17:44 InstallContribNbextensionsApp]\u001b[m Up to date: /usr/local/share/jupyter/nbextensions/export_embedded/main.js\r\n",
      "\u001b[32m[I 15:17:44 InstallContribNbextensionsApp]\u001b[m - Validating: \u001b[32mOK\u001b[0m\r\n",
      "\u001b[32m[I 15:17:44 InstallContribNbextensionsApp]\u001b[m Installing /usr/local/lib/python3.6/site-packages/jupyter_contrib_nbextensions/nbextensions/livemdpreview -> livemdpreview\r\n",
      "\u001b[32m[I 15:17:44 InstallContribNbextensionsApp]\u001b[m Up to date: /usr/local/share/jupyter/nbextensions/livemdpreview/livemdpreview.yml\r\n",
      "\u001b[32m[I 15:17:44 InstallContribNbextensionsApp]\u001b[m Up to date: /usr/local/share/jupyter/nbextensions/livemdpreview/livemdpreview.js\r\n",
      "\u001b[32m[I 15:17:44 InstallContribNbextensionsApp]\u001b[m - Validating: \u001b[32mOK\u001b[0m\r\n",
      "\u001b[32m[I 15:17:44 InstallContribNbextensionsApp]\u001b[m Installing /usr/local/lib/python3.6/site-packages/jupyter_contrib_nbextensions/nbextensions/hide_header -> hide_header\r\n",
      "\u001b[32m[I 15:17:44 InstallContribNbextensionsApp]\u001b[m Up to date: /usr/local/share/jupyter/nbextensions/hide_header/hide_header.yaml\r\n",
      "\u001b[32m[I 15:17:44 InstallContribNbextensionsApp]\u001b[m Up to date: /usr/local/share/jupyter/nbextensions/hide_header/main.js\r\n",
      "\u001b[32m[I 15:17:44 InstallContribNbextensionsApp]\u001b[m Up to date: /usr/local/share/jupyter/nbextensions/hide_header/README.md\r\n",
      "\u001b[32m[I 15:17:44 InstallContribNbextensionsApp]\u001b[m - Validating: \u001b[32mOK\u001b[0m\r\n",
      "\u001b[32m[I 15:17:44 InstallContribNbextensionsApp]\u001b[m Installing /usr/local/lib/python3.6/site-packages/jupyter_contrib_nbextensions/nbextensions/select_keymap -> select_keymap\r\n",
      "\u001b[32m[I 15:17:44 InstallContribNbextensionsApp]\u001b[m Up to date: /usr/local/share/jupyter/nbextensions/select_keymap/select_keymap.png\r\n",
      "\u001b[32m[I 15:17:44 InstallContribNbextensionsApp]\u001b[m Up to date: /usr/local/share/jupyter/nbextensions/select_keymap/select_keymap.yaml\r\n",
      "\u001b[32m[I 15:17:44 InstallContribNbextensionsApp]\u001b[m Up to date: /usr/local/share/jupyter/nbextensions/select_keymap/main.js\r\n"
     ]
    },
    {
     "name": "stdout",
     "output_type": "stream",
     "text": [
      "\u001b[32m[I 15:17:44 InstallContribNbextensionsApp]\u001b[m Up to date: /usr/local/share/jupyter/nbextensions/select_keymap/README.md\n",
      "\u001b[32m[I 15:17:44 InstallContribNbextensionsApp]\u001b[m - Validating: \u001b[32mOK\u001b[0m\n",
      "\u001b[32m[I 15:17:44 InstallContribNbextensionsApp]\u001b[m Installing /usr/local/lib/python3.6/site-packages/jupyter_contrib_nbextensions/nbextensions/highlighter -> highlighter\n",
      "\u001b[32m[I 15:17:44 InstallContribNbextensionsApp]\u001b[m Up to date: /usr/local/share/jupyter/nbextensions/highlighter/image.gif\n",
      "\u001b[32m[I 15:17:44 InstallContribNbextensionsApp]\u001b[m Up to date: /usr/local/share/jupyter/nbextensions/highlighter/export_highlights.ipynb\n",
      "\u001b[32m[I 15:17:44 InstallContribNbextensionsApp]\u001b[m Up to date: /usr/local/share/jupyter/nbextensions/highlighter/tst_highlights.ipynb\n",
      "\u001b[32m[I 15:17:44 InstallContribNbextensionsApp]\u001b[m Up to date: /usr/local/share/jupyter/nbextensions/highlighter/icon.png\n",
      "\u001b[32m[I 15:17:44 InstallContribNbextensionsApp]\u001b[m Up to date: /usr/local/share/jupyter/nbextensions/highlighter/highlighter.js\n",
      "\u001b[32m[I 15:17:44 InstallContribNbextensionsApp]\u001b[m Up to date: /usr/local/share/jupyter/nbextensions/highlighter/demo_highlighter.ipynb\n",
      "\u001b[32m[I 15:17:44 InstallContribNbextensionsApp]\u001b[m Up to date: /usr/local/share/jupyter/nbextensions/highlighter/export_highlights.pdf\n",
      "\u001b[32m[I 15:17:44 InstallContribNbextensionsApp]\u001b[m Up to date: /usr/local/share/jupyter/nbextensions/highlighter/readme.md\n",
      "\u001b[32m[I 15:17:44 InstallContribNbextensionsApp]\u001b[m Up to date: /usr/local/share/jupyter/nbextensions/highlighter/highlighter.css\n",
      "\u001b[32m[I 15:17:44 InstallContribNbextensionsApp]\u001b[m Up to date: /usr/local/share/jupyter/nbextensions/highlighter/export_highlights.tex\n",
      "\u001b[32m[I 15:17:44 InstallContribNbextensionsApp]\u001b[m Up to date: /usr/local/share/jupyter/nbextensions/highlighter/tst_highlights.html\n",
      "\u001b[32m[I 15:17:44 InstallContribNbextensionsApp]\u001b[m Up to date: /usr/local/share/jupyter/nbextensions/highlighter/tst_highlights.pdf\n",
      "\u001b[32m[I 15:17:44 InstallContribNbextensionsApp]\u001b[m Up to date: /usr/local/share/jupyter/nbextensions/highlighter/demo_highlighter.html\n",
      "\u001b[32m[I 15:17:44 InstallContribNbextensionsApp]\u001b[m Up to date: /usr/local/share/jupyter/nbextensions/highlighter/export_highlights.html\n",
      "\u001b[32m[I 15:17:44 InstallContribNbextensionsApp]\u001b[m Up to date: /usr/local/share/jupyter/nbextensions/highlighter/tst_highlights.tex\n",
      "\u001b[32m[I 15:17:44 InstallContribNbextensionsApp]\u001b[m Up to date: /usr/local/share/jupyter/nbextensions/highlighter/highlighter.yaml\n",
      "\u001b[32m[I 15:17:44 InstallContribNbextensionsApp]\u001b[m - Validating: \u001b[32mOK\u001b[0m\n",
      "\u001b[32m[I 15:17:44 InstallContribNbextensionsApp]\u001b[m Installing /usr/local/lib/python3.6/site-packages/jupyter_contrib_nbextensions/nbextensions/equation-numbering -> equation-numbering\n",
      "\u001b[32m[I 15:17:44 InstallContribNbextensionsApp]\u001b[m Up to date: /usr/local/share/jupyter/nbextensions/equation-numbering/info.yaml\n",
      "\u001b[32m[I 15:17:44 InstallContribNbextensionsApp]\u001b[m Up to date: /usr/local/share/jupyter/nbextensions/equation-numbering/icon.png\n",
      "\u001b[32m[I 15:17:44 InstallContribNbextensionsApp]\u001b[m Up to date: /usr/local/share/jupyter/nbextensions/equation-numbering/readme.md\n",
      "\u001b[32m[I 15:17:44 InstallContribNbextensionsApp]\u001b[m Up to date: /usr/local/share/jupyter/nbextensions/equation-numbering/button.png\n",
      "\u001b[32m[I 15:17:44 InstallContribNbextensionsApp]\u001b[m Up to date: /usr/local/share/jupyter/nbextensions/equation-numbering/main.js\n",
      "\u001b[32m[I 15:17:44 InstallContribNbextensionsApp]\u001b[m - Validating: \u001b[32mOK\u001b[0m\n",
      "\u001b[32m[I 15:17:44 InstallContribNbextensionsApp]\u001b[m Installing /usr/local/lib/python3.6/site-packages/jupyter_contrib_nbextensions/nbextensions/addbefore -> addbefore\n",
      "\u001b[32m[I 15:17:44 InstallContribNbextensionsApp]\u001b[m Up to date: /usr/local/share/jupyter/nbextensions/addbefore/icon.png\n",
      "\u001b[32m[I 15:17:44 InstallContribNbextensionsApp]\u001b[m Up to date: /usr/local/share/jupyter/nbextensions/addbefore/addbefore.yaml\n",
      "\u001b[32m[I 15:17:44 InstallContribNbextensionsApp]\u001b[m Up to date: /usr/local/share/jupyter/nbextensions/addbefore/readme.md\n",
      "\u001b[32m[I 15:17:44 InstallContribNbextensionsApp]\u001b[m Up to date: /usr/local/share/jupyter/nbextensions/addbefore/main.js\n",
      "\u001b[32m[I 15:17:44 InstallContribNbextensionsApp]\u001b[m - Validating: \u001b[32mOK\u001b[0m\n",
      "\u001b[32m[I 15:17:44 InstallContribNbextensionsApp]\u001b[m Installing /usr/local/lib/python3.6/site-packages/jupyter_contrib_nbextensions/nbextensions/exercise -> exercise\n",
      "\u001b[32m[I 15:17:44 InstallContribNbextensionsApp]\u001b[m Up to date: /usr/local/share/jupyter/nbextensions/exercise/image.gif\n",
      "\u001b[32m[I 15:17:44 InstallContribNbextensionsApp]\u001b[m Up to date: /usr/local/share/jupyter/nbextensions/exercise/icon.png\n",
      "\u001b[32m[I 15:17:44 InstallContribNbextensionsApp]\u001b[m Up to date: /usr/local/share/jupyter/nbextensions/exercise/history.md\n",
      "\u001b[32m[I 15:17:44 InstallContribNbextensionsApp]\u001b[m Up to date: /usr/local/share/jupyter/nbextensions/exercise/readme.md\n",
      "\u001b[32m[I 15:17:44 InstallContribNbextensionsApp]\u001b[m Up to date: /usr/local/share/jupyter/nbextensions/exercise/main.css\n",
      "\u001b[32m[I 15:17:44 InstallContribNbextensionsApp]\u001b[m Up to date: /usr/local/share/jupyter/nbextensions/exercise/exercise.yaml\n",
      "\u001b[32m[I 15:17:44 InstallContribNbextensionsApp]\u001b[m Up to date: /usr/local/share/jupyter/nbextensions/exercise/main.js\n",
      "\u001b[32m[I 15:17:44 InstallContribNbextensionsApp]\u001b[m - Validating: \u001b[32mOK\u001b[0m\n",
      "\u001b[32m[I 15:17:44 InstallContribNbextensionsApp]\u001b[m Installing /usr/local/lib/python3.6/site-packages/jupyter_contrib_nbextensions/nbextensions/exercise2 -> exercise2\n",
      "\u001b[32m[I 15:17:44 InstallContribNbextensionsApp]\u001b[m Up to date: /usr/local/share/jupyter/nbextensions/exercise2/image.gif\n",
      "\u001b[32m[I 15:17:44 InstallContribNbextensionsApp]\u001b[m Up to date: /usr/local/share/jupyter/nbextensions/exercise2/icon.png\n",
      "\u001b[32m[I 15:17:44 InstallContribNbextensionsApp]\u001b[m Up to date: /usr/local/share/jupyter/nbextensions/exercise2/readme.md\n",
      "\u001b[32m[I 15:17:44 InstallContribNbextensionsApp]\u001b[m Up to date: /usr/local/share/jupyter/nbextensions/exercise2/main.css\n",
      "\u001b[32m[I 15:17:44 InstallContribNbextensionsApp]\u001b[m Up to date: /usr/local/share/jupyter/nbextensions/exercise2/main.js\n",
      "\u001b[32m[I 15:17:44 InstallContribNbextensionsApp]\u001b[m Up to date: /usr/local/share/jupyter/nbextensions/exercise2/exercise2.yaml\n",
      "\u001b[32m[I 15:17:44 InstallContribNbextensionsApp]\u001b[m - Validating: \u001b[32mOK\u001b[0m\n",
      "\u001b[32m[I 15:17:44 InstallContribNbextensionsApp]\u001b[m Installing /usr/local/lib/python3.6/site-packages/jupyter_contrib_nbextensions/nbextensions/skill -> skill\n",
      "\u001b[32m[I 15:17:44 InstallContribNbextensionsApp]\u001b[m Up to date: /usr/local/share/jupyter/nbextensions/skill/skill.js\n",
      "\u001b[32m[I 15:17:44 InstallContribNbextensionsApp]\u001b[m Up to date: /usr/local/share/jupyter/nbextensions/skill/skill.yaml\n",
      "\u001b[32m[I 15:17:44 InstallContribNbextensionsApp]\u001b[m Up to date: /usr/local/share/jupyter/nbextensions/skill/main.js\n",
      "\u001b[32m[I 15:17:44 InstallContribNbextensionsApp]\u001b[m Up to date: /usr/local/share/jupyter/nbextensions/skill/README.md\n",
      "\u001b[32m[I 15:17:44 InstallContribNbextensionsApp]\u001b[m - Validating: \u001b[32mOK\u001b[0m\n",
      "\u001b[32m[I 15:17:44 InstallContribNbextensionsApp]\u001b[m Installing /usr/local/lib/python3.6/site-packages/jupyter_contrib_nbextensions/nbextensions/cell_filter -> cell_filter\n",
      "\u001b[32m[I 15:17:44 InstallContribNbextensionsApp]\u001b[m Up to date: /usr/local/share/jupyter/nbextensions/cell_filter/cell_filter.js\n",
      "\u001b[32m[I 15:17:44 InstallContribNbextensionsApp]\u001b[m Up to date: /usr/local/share/jupyter/nbextensions/cell_filter/cell_filter.yml\n",
      "\u001b[32m[I 15:17:44 InstallContribNbextensionsApp]\u001b[m Up to date: /usr/local/share/jupyter/nbextensions/cell_filter/README.md\n",
      "\u001b[32m[I 15:17:44 InstallContribNbextensionsApp]\u001b[m - Validating: \u001b[32mOK\u001b[0m\n",
      "\u001b[32m[I 15:17:44 InstallContribNbextensionsApp]\u001b[m Installing /usr/local/lib/python3.6/site-packages/jupyter_contrib_nbextensions/nbextensions/toc2 -> toc2\n",
      "\u001b[32m[I 15:17:44 InstallContribNbextensionsApp]\u001b[m Up to date: /usr/local/share/jupyter/nbextensions/toc2/icon.png\n",
      "\u001b[32m[I 15:17:44 InstallContribNbextensionsApp]\u001b[m Up to date: /usr/local/share/jupyter/nbextensions/toc2/image.png\n",
      "\u001b[32m[I 15:17:44 InstallContribNbextensionsApp]\u001b[m Up to date: /usr/local/share/jupyter/nbextensions/toc2/demo.gif\n",
      "\u001b[32m[I 15:17:44 InstallContribNbextensionsApp]\u001b[m Up to date: /usr/local/share/jupyter/nbextensions/toc2/toc2.js\n",
      "\u001b[32m[I 15:17:44 InstallContribNbextensionsApp]\u001b[m Up to date: /usr/local/share/jupyter/nbextensions/toc2/main.css\n",
      "\u001b[32m[I 15:17:44 InstallContribNbextensionsApp]\u001b[m Up to date: /usr/local/share/jupyter/nbextensions/toc2/demo3.gif\n",
      "\u001b[32m[I 15:17:44 InstallContribNbextensionsApp]\u001b[m Up to date: /usr/local/share/jupyter/nbextensions/toc2/toc2.yaml\n",
      "\u001b[32m[I 15:17:44 InstallContribNbextensionsApp]\u001b[m Up to date: /usr/local/share/jupyter/nbextensions/toc2/demo_dark.png\n",
      "\u001b[32m[I 15:17:44 InstallContribNbextensionsApp]\u001b[m Up to date: /usr/local/share/jupyter/nbextensions/toc2/main.js\n",
      "\u001b[32m[I 15:17:44 InstallContribNbextensionsApp]\u001b[m Up to date: /usr/local/share/jupyter/nbextensions/toc2/README.md\n",
      "\u001b[32m[I 15:17:44 InstallContribNbextensionsApp]\u001b[m Up to date: /usr/local/share/jupyter/nbextensions/toc2/demo2.gif\n",
      "\u001b[32m[I 15:17:44 InstallContribNbextensionsApp]\u001b[m - Validating: \u001b[32mOK\u001b[0m\n",
      "\u001b[32m[I 15:17:44 InstallContribNbextensionsApp]\u001b[m Installing /usr/local/lib/python3.6/site-packages/jupyter_contrib_nbextensions/nbextensions/autoscroll -> autoscroll\n",
      "\u001b[32m[I 15:17:44 InstallContribNbextensionsApp]\u001b[m Up to date: /usr/local/share/jupyter/nbextensions/autoscroll/icon.png\n",
      "\u001b[32m[I 15:17:44 InstallContribNbextensionsApp]\u001b[m Up to date: /usr/local/share/jupyter/nbextensions/autoscroll/autoscroll.yaml\n",
      "\u001b[32m[I 15:17:44 InstallContribNbextensionsApp]\u001b[m Up to date: /usr/local/share/jupyter/nbextensions/autoscroll/main.js\n",
      "\u001b[32m[I 15:17:44 InstallContribNbextensionsApp]\u001b[m Up to date: /usr/local/share/jupyter/nbextensions/autoscroll/README.md\n",
      "\u001b[32m[I 15:17:44 InstallContribNbextensionsApp]\u001b[m - Validating: \u001b[32mOK\u001b[0m\n",
      "\u001b[32m[I 15:17:44 InstallContribNbextensionsApp]\u001b[m Installing /usr/local/lib/python3.6/site-packages/jupyter_contrib_nbextensions/nbextensions/datestamper -> datestamper\n",
      "\u001b[32m[I 15:17:44 InstallContribNbextensionsApp]\u001b[m Up to date: /usr/local/share/jupyter/nbextensions/datestamper/icon.png\n",
      "\u001b[32m[I 15:17:44 InstallContribNbextensionsApp]\u001b[m Up to date: /usr/local/share/jupyter/nbextensions/datestamper/readme.md\n",
      "\u001b[32m[I 15:17:44 InstallContribNbextensionsApp]\u001b[m Up to date: /usr/local/share/jupyter/nbextensions/datestamper/main.js\n",
      "\u001b[32m[I 15:17:44 InstallContribNbextensionsApp]\u001b[m Up to date: /usr/local/share/jupyter/nbextensions/datestamper/main.yaml\n",
      "\u001b[32m[I 15:17:44 InstallContribNbextensionsApp]\u001b[m - Validating: \u001b[32mOK\u001b[0m\n",
      "\u001b[32m[I 15:17:44 InstallContribNbextensionsApp]\u001b[m Installing /usr/local/lib/python3.6/site-packages/jupyter_contrib_nbextensions/nbextensions/move_selected_cells -> move_selected_cells\n",
      "\u001b[32m[I 15:17:44 InstallContribNbextensionsApp]\u001b[m Up to date: /usr/local/share/jupyter/nbextensions/move_selected_cells/move_selected_cells.yaml\n",
      "\u001b[32m[I 15:17:44 InstallContribNbextensionsApp]\u001b[m Up to date: /usr/local/share/jupyter/nbextensions/move_selected_cells/main.js\n",
      "\u001b[32m[I 15:17:44 InstallContribNbextensionsApp]\u001b[m Up to date: /usr/local/share/jupyter/nbextensions/move_selected_cells/README.md\n",
      "\u001b[32m[I 15:17:44 InstallContribNbextensionsApp]\u001b[m - Validating: \u001b[32mOK\u001b[0m\n",
      "\u001b[32m[I 15:17:44 InstallContribNbextensionsApp]\u001b[m Installing /usr/local/lib/python3.6/site-packages/jupyter_contrib_nbextensions/nbextensions/hide_input_all -> hide_input_all\n",
      "\u001b[32m[I 15:17:44 InstallContribNbextensionsApp]\u001b[m Up to date: /usr/local/share/jupyter/nbextensions/hide_input_all/icon.png\n",
      "\u001b[32m[I 15:17:44 InstallContribNbextensionsApp]\u001b[m Up to date: /usr/local/share/jupyter/nbextensions/hide_input_all/readme.md\n",
      "\u001b[32m[I 15:17:44 InstallContribNbextensionsApp]\u001b[m Up to date: /usr/local/share/jupyter/nbextensions/hide_input_all/hide_input_all_show.png\n",
      "\u001b[32m[I 15:17:44 InstallContribNbextensionsApp]\u001b[m Up to date: /usr/local/share/jupyter/nbextensions/hide_input_all/hide_input_all_hide.png\n",
      "\u001b[32m[I 15:17:44 InstallContribNbextensionsApp]\u001b[m Up to date: /usr/local/share/jupyter/nbextensions/hide_input_all/main.js\n",
      "\u001b[32m[I 15:17:44 InstallContribNbextensionsApp]\u001b[m Up to date: /usr/local/share/jupyter/nbextensions/hide_input_all/hide_input_all.yaml\n",
      "\u001b[32m[I 15:17:44 InstallContribNbextensionsApp]\u001b[m - Validating: \u001b[32mOK\u001b[0m\n",
      "\u001b[32m[I 15:17:44 InstallContribNbextensionsApp]\u001b[m Installing /usr/local/lib/python3.6/site-packages/jupyter_contrib_nbextensions/nbextensions/tree-filter -> tree-filter\n",
      "\u001b[32m[I 15:17:44 InstallContribNbextensionsApp]\u001b[m Up to date: /usr/local/share/jupyter/nbextensions/tree-filter/tree-filter.yaml\n",
      "\u001b[32m[I 15:17:44 InstallContribNbextensionsApp]\u001b[m Up to date: /usr/local/share/jupyter/nbextensions/tree-filter/readme.md\n",
      "\u001b[32m[I 15:17:44 InstallContribNbextensionsApp]\u001b[m Up to date: /usr/local/share/jupyter/nbextensions/tree-filter/demo.gif\n",
      "\u001b[32m[I 15:17:44 InstallContribNbextensionsApp]\u001b[m Up to date: /usr/local/share/jupyter/nbextensions/tree-filter/index.js\n",
      "\u001b[32m[I 15:17:44 InstallContribNbextensionsApp]\u001b[m - Validating: \u001b[32mOK\u001b[0m\n",
      "\u001b[32m[I 15:17:44 InstallContribNbextensionsApp]\u001b[m Installing /usr/local/lib/python3.6/site-packages/jupyter_contrib_nbextensions/nbextensions/skip-traceback -> skip-traceback\n",
      "\u001b[32m[I 15:17:44 InstallContribNbextensionsApp]\u001b[m Up to date: /usr/local/share/jupyter/nbextensions/skip-traceback/icon.png\n",
      "\u001b[32m[I 15:17:44 InstallContribNbextensionsApp]\u001b[m Up to date: /usr/local/share/jupyter/nbextensions/skip-traceback/skip-traceback.yaml\n",
      "\u001b[32m[I 15:17:44 InstallContribNbextensionsApp]\u001b[m Up to date: /usr/local/share/jupyter/nbextensions/skip-traceback/traceback.png\n",
      "\u001b[32m[I 15:17:44 InstallContribNbextensionsApp]\u001b[m Up to date: /usr/local/share/jupyter/nbextensions/skip-traceback/readme.md\n",
      "\u001b[32m[I 15:17:44 InstallContribNbextensionsApp]\u001b[m Up to date: /usr/local/share/jupyter/nbextensions/skip-traceback/skip-traceback.png\n",
      "\u001b[32m[I 15:17:44 InstallContribNbextensionsApp]\u001b[m Up to date: /usr/local/share/jupyter/nbextensions/skip-traceback/main.js\n",
      "\u001b[32m[I 15:17:44 InstallContribNbextensionsApp]\u001b[m - Validating: \u001b[32mOK\u001b[0m\n",
      "\u001b[32m[I 15:17:44 InstallContribNbextensionsApp]\u001b[m Installing /usr/local/lib/python3.6/site-packages/jupyter_contrib_nbextensions/nbextensions/collapsible_headings -> collapsible_headings\n",
      "\u001b[32m[I 15:17:44 InstallContribNbextensionsApp]\u001b[m Up to date: /usr/local/share/jupyter/nbextensions/collapsible_headings/screenshot.png\n",
      "\u001b[32m[I 15:17:44 InstallContribNbextensionsApp]\u001b[m Up to date: /usr/local/share/jupyter/nbextensions/collapsible_headings/icon.png\n",
      "\u001b[32m[I 15:17:44 InstallContribNbextensionsApp]\u001b[m Up to date: /usr/local/share/jupyter/nbextensions/collapsible_headings/readme.md\n",
      "\u001b[32m[I 15:17:44 InstallContribNbextensionsApp]\u001b[m Up to date: /usr/local/share/jupyter/nbextensions/collapsible_headings/main.css\n",
      "\u001b[32m[I 15:17:44 InstallContribNbextensionsApp]\u001b[m Up to date: /usr/local/share/jupyter/nbextensions/collapsible_headings/collapsible_headings.yaml\n",
      "\u001b[32m[I 15:17:44 InstallContribNbextensionsApp]\u001b[m Up to date: /usr/local/share/jupyter/nbextensions/collapsible_headings/main.js\n",
      "\u001b[32m[I 15:17:44 InstallContribNbextensionsApp]\u001b[m - Validating: \u001b[32mOK\u001b[0m\n",
      "\u001b[32m[I 15:17:44 InstallContribNbextensionsApp]\u001b[m Installing /usr/local/lib/python3.6/site-packages/jupyter_contrib_nbextensions/nbextensions/comment-uncomment -> comment-uncomment\n",
      "\u001b[32m[I 15:17:44 InstallContribNbextensionsApp]\u001b[m Up to date: /usr/local/share/jupyter/nbextensions/comment-uncomment/comment-uncomment.yaml\n",
      "\u001b[32m[I 15:17:44 InstallContribNbextensionsApp]\u001b[m Up to date: /usr/local/share/jupyter/nbextensions/comment-uncomment/icon.png\n",
      "\u001b[32m[I 15:17:44 InstallContribNbextensionsApp]\u001b[m Up to date: /usr/local/share/jupyter/nbextensions/comment-uncomment/readme.md\n",
      "\u001b[32m[I 15:17:44 InstallContribNbextensionsApp]\u001b[m Up to date: /usr/local/share/jupyter/nbextensions/comment-uncomment/main.js\n",
      "\u001b[32m[I 15:17:44 InstallContribNbextensionsApp]\u001b[m - Validating: \u001b[32mOK\u001b[0m\n",
      "\u001b[32m[I 15:17:44 InstallContribNbextensionsApp]\u001b[m Installing /usr/local/lib/python3.6/site-packages/jupyter_contrib_nbextensions/nbextensions/gist_it -> gist_it\n",
      "\u001b[32m[I 15:17:44 InstallContribNbextensionsApp]\u001b[m Up to date: /usr/local/share/jupyter/nbextensions/gist_it/icon.png\n"
     ]
    },
    {
     "name": "stdout",
     "output_type": "stream",
     "text": [
      "\u001b[32m[I 15:17:44 InstallContribNbextensionsApp]\u001b[m Up to date: /usr/local/share/jupyter/nbextensions/gist_it/readme.md\r\n",
      "\u001b[32m[I 15:17:44 InstallContribNbextensionsApp]\u001b[m Up to date: /usr/local/share/jupyter/nbextensions/gist_it/gist_it.yaml\r\n",
      "\u001b[32m[I 15:17:44 InstallContribNbextensionsApp]\u001b[m Up to date: /usr/local/share/jupyter/nbextensions/gist_it/main.js\r\n",
      "\u001b[32m[I 15:17:44 InstallContribNbextensionsApp]\u001b[m - Validating: \u001b[32mOK\u001b[0m\r\n",
      "\u001b[32m[I 15:17:44 InstallContribNbextensionsApp]\u001b[m Installing /usr/local/lib/python3.6/site-packages/jupyter_contrib_nbextensions/nbextensions/runtools -> runtools\r\n",
      "\u001b[32m[I 15:17:44 InstallContribNbextensionsApp]\u001b[m Up to date: /usr/local/share/jupyter/nbextensions/runtools/gutter.css\r\n",
      "\u001b[32m[I 15:17:44 InstallContribNbextensionsApp]\u001b[m Up to date: /usr/local/share/jupyter/nbextensions/runtools/runtools_lock.png\r\n",
      "\u001b[32m[I 15:17:44 InstallContribNbextensionsApp]\u001b[m Up to date: /usr/local/share/jupyter/nbextensions/runtools/icon.png\r\n",
      "\u001b[32m[I 15:17:44 InstallContribNbextensionsApp]\u001b[m Up to date: /usr/local/share/jupyter/nbextensions/runtools/runtools_nb.png\r\n",
      "\u001b[32m[I 15:17:44 InstallContribNbextensionsApp]\u001b[m Up to date: /usr/local/share/jupyter/nbextensions/runtools/runtools_show_hide.png\r\n",
      "\u001b[32m[I 15:17:44 InstallContribNbextensionsApp]\u001b[m Up to date: /usr/local/share/jupyter/nbextensions/runtools/readme.md\r\n",
      "\u001b[32m[I 15:17:44 InstallContribNbextensionsApp]\u001b[m Up to date: /usr/local/share/jupyter/nbextensions/runtools/demo.gif\r\n",
      "\u001b[32m[I 15:17:44 InstallContribNbextensionsApp]\u001b[m Up to date: /usr/local/share/jupyter/nbextensions/runtools/annotations.odg\r\n",
      "\u001b[32m[I 15:17:44 InstallContribNbextensionsApp]\u001b[m Up to date: /usr/local/share/jupyter/nbextensions/runtools/main.css\r\n",
      "\u001b[32m[I 15:17:44 InstallContribNbextensionsApp]\u001b[m Up to date: /usr/local/share/jupyter/nbextensions/runtools/runtools_marker.png\r\n",
      "\u001b[32m[I 15:17:44 InstallContribNbextensionsApp]\u001b[m Up to date: /usr/local/share/jupyter/nbextensions/runtools/cellstate.js\r\n",
      "\u001b[32m[I 15:17:44 InstallContribNbextensionsApp]\u001b[m Up to date: /usr/local/share/jupyter/nbextensions/runtools/runtools.yaml\r\n",
      "\u001b[32m[I 15:17:44 InstallContribNbextensionsApp]\u001b[m Up to date: /usr/local/share/jupyter/nbextensions/runtools/main.js\r\n",
      "\u001b[32m[I 15:17:44 InstallContribNbextensionsApp]\u001b[m Up to date: /usr/local/share/jupyter/nbextensions/runtools/runtools_execute.png\r\n",
      "\u001b[32m[I 15:17:44 InstallContribNbextensionsApp]\u001b[m - Validating: \u001b[32mOK\u001b[0m\r\n",
      "\u001b[32m[I 15:17:44 InstallContribNbextensionsApp]\u001b[m Installing /usr/local/lib/python3.6/site-packages/jupyter_contrib_nbextensions/nbextensions/execution_dependencies -> execution_dependencies\r\n",
      "\u001b[32m[I 15:17:44 InstallContribNbextensionsApp]\u001b[m Up to date: /usr/local/share/jupyter/nbextensions/execution_dependencies/execution_dependencies.yml\r\n",
      "\u001b[32m[I 15:17:44 InstallContribNbextensionsApp]\u001b[m Up to date: /usr/local/share/jupyter/nbextensions/execution_dependencies/execution_dependencies.js\r\n",
      "\u001b[32m[I 15:17:44 InstallContribNbextensionsApp]\u001b[m Up to date: /usr/local/share/jupyter/nbextensions/execution_dependencies/README.md\r\n",
      "\u001b[32m[I 15:17:44 InstallContribNbextensionsApp]\u001b[m - Validating: \u001b[32mOK\u001b[0m\r\n",
      "\u001b[32m[I 15:17:44 InstallContribNbextensionsApp]\u001b[m Installing /usr/local/lib/python3.6/site-packages/jupyter_contrib_nbextensions/nbextensions/notify -> notify\r\n",
      "\u001b[32m[I 15:17:44 InstallContribNbextensionsApp]\u001b[m Up to date: /usr/local/share/jupyter/nbextensions/notify/readme.md\r\n",
      "\u001b[32m[I 15:17:44 InstallContribNbextensionsApp]\u001b[m Up to date: /usr/local/share/jupyter/nbextensions/notify/notify.js\r\n",
      "\u001b[32m[I 15:17:44 InstallContribNbextensionsApp]\u001b[m Up to date: /usr/local/share/jupyter/nbextensions/notify/notification.png\r\n",
      "\u001b[32m[I 15:17:44 InstallContribNbextensionsApp]\u001b[m Up to date: /usr/local/share/jupyter/nbextensions/notify/notify.mp3\r\n",
      "\u001b[32m[I 15:17:44 InstallContribNbextensionsApp]\u001b[m Up to date: /usr/local/share/jupyter/nbextensions/notify/notify.yaml\r\n",
      "\u001b[32m[I 15:17:44 InstallContribNbextensionsApp]\u001b[m - Validating: \u001b[32mOK\u001b[0m\r\n",
      "\u001b[32m[I 15:17:44 InstallContribNbextensionsApp]\u001b[m Installing /usr/local/lib/python3.6/site-packages/jupyter_contrib_nbextensions/nbextensions/snippets_menu -> snippets_menu\r\n",
      "\u001b[32m[I 15:17:44 InstallContribNbextensionsApp]\u001b[m Up to date: /usr/local/share/jupyter/nbextensions/snippets_menu/readme.md\r\n",
      "\u001b[32m[I 15:17:44 InstallContribNbextensionsApp]\u001b[m Up to date: /usr/local/share/jupyter/nbextensions/snippets_menu/screenshot2.png\r\n",
      "\u001b[32m[I 15:17:44 InstallContribNbextensionsApp]\u001b[m Up to date: /usr/local/share/jupyter/nbextensions/snippets_menu/snippets_submenu_markdown.js\r\n",
      "\u001b[32m[I 15:17:44 InstallContribNbextensionsApp]\u001b[m Up to date: /usr/local/share/jupyter/nbextensions/snippets_menu/examples_for_custom.js\r\n",
      "\u001b[32m[I 15:17:44 InstallContribNbextensionsApp]\u001b[m Up to date: /usr/local/share/jupyter/nbextensions/snippets_menu/snippets_menu.css\r\n",
      "\u001b[32m[I 15:17:44 InstallContribNbextensionsApp]\u001b[m Up to date: /usr/local/share/jupyter/nbextensions/snippets_menu/snippets_submenu_python.js\r\n",
      "\u001b[32m[I 15:17:44 InstallContribNbextensionsApp]\u001b[m Up to date: /usr/local/share/jupyter/nbextensions/snippets_menu/thumbnail.png\r\n",
      "\u001b[32m[I 15:17:44 InstallContribNbextensionsApp]\u001b[m Up to date: /usr/local/share/jupyter/nbextensions/snippets_menu/screenshot3.png\r\n",
      "\u001b[32m[I 15:17:44 InstallContribNbextensionsApp]\u001b[m Up to date: /usr/local/share/jupyter/nbextensions/snippets_menu/screenshot1.png\r\n",
      "\u001b[32m[I 15:17:44 InstallContribNbextensionsApp]\u001b[m Up to date: /usr/local/share/jupyter/nbextensions/snippets_menu/config.yaml\r\n",
      "\u001b[32m[I 15:17:44 InstallContribNbextensionsApp]\u001b[m Up to date: /usr/local/share/jupyter/nbextensions/snippets_menu/main.js\r\n",
      "\u001b[32m[I 15:17:44 InstallContribNbextensionsApp]\u001b[m Up to date: /usr/local/share/jupyter/nbextensions/snippets_menu/snippets_submenus_python/matplotlib.js\r\n",
      "\u001b[32m[I 15:17:44 InstallContribNbextensionsApp]\u001b[m Up to date: /usr/local/share/jupyter/nbextensions/snippets_menu/snippets_submenus_python/sympy_functions.js\r\n",
      "\u001b[32m[I 15:17:44 InstallContribNbextensionsApp]\u001b[m Up to date: /usr/local/share/jupyter/nbextensions/snippets_menu/snippets_submenus_python/scipy_constants.js\r\n",
      "\u001b[32m[I 15:17:44 InstallContribNbextensionsApp]\u001b[m Up to date: /usr/local/share/jupyter/nbextensions/snippets_menu/snippets_submenus_python/pandas.js\r\n",
      "\u001b[32m[I 15:17:44 InstallContribNbextensionsApp]\u001b[m Up to date: /usr/local/share/jupyter/nbextensions/snippets_menu/snippets_submenus_python/numba.js\r\n",
      "\u001b[32m[I 15:17:44 InstallContribNbextensionsApp]\u001b[m Up to date: /usr/local/share/jupyter/nbextensions/snippets_menu/snippets_submenus_python/scipy.js\r\n",
      "\u001b[32m[I 15:17:44 InstallContribNbextensionsApp]\u001b[m Up to date: /usr/local/share/jupyter/nbextensions/snippets_menu/snippets_submenus_python/numpy.js\r\n",
      "\u001b[32m[I 15:17:44 InstallContribNbextensionsApp]\u001b[m Up to date: /usr/local/share/jupyter/nbextensions/snippets_menu/snippets_submenus_python/numpy_ufuncs.js\r\n",
      "\u001b[32m[I 15:17:44 InstallContribNbextensionsApp]\u001b[m Up to date: /usr/local/share/jupyter/nbextensions/snippets_menu/snippets_submenus_python/python_regex.js\r\n",
      "\u001b[32m[I 15:17:44 InstallContribNbextensionsApp]\u001b[m Up to date: /usr/local/share/jupyter/nbextensions/snippets_menu/snippets_submenus_python/sympy.js\r\n",
      "\u001b[32m[I 15:17:44 InstallContribNbextensionsApp]\u001b[m Up to date: /usr/local/share/jupyter/nbextensions/snippets_menu/snippets_submenus_python/h5py.js\r\n",
      "\u001b[32m[I 15:17:44 InstallContribNbextensionsApp]\u001b[m Up to date: /usr/local/share/jupyter/nbextensions/snippets_menu/snippets_submenus_python/scipy_special.js\r\n",
      "\u001b[32m[I 15:17:44 InstallContribNbextensionsApp]\u001b[m Up to date: /usr/local/share/jupyter/nbextensions/snippets_menu/snippets_submenus_python/python.js\r\n",
      "\u001b[32m[I 15:17:44 InstallContribNbextensionsApp]\u001b[m Up to date: /usr/local/share/jupyter/nbextensions/snippets_menu/snippets_submenus_python/astropy.js\r\n",
      "\u001b[32m[I 15:17:44 InstallContribNbextensionsApp]\u001b[m Up to date: /usr/local/share/jupyter/nbextensions/snippets_menu/snippets_submenus_python/numpy_polynomial.js\r\n",
      "\u001b[32m[I 15:17:44 InstallContribNbextensionsApp]\u001b[m Up to date: /usr/local/share/jupyter/nbextensions/snippets_menu/snippets_submenus_python/sympy_assumptions.js\r\n",
      "\u001b[32m[I 15:17:44 InstallContribNbextensionsApp]\u001b[m - Validating: \u001b[32mOK\u001b[0m\r\n",
      "\u001b[32m[I 15:17:44 InstallContribNbextensionsApp]\u001b[m Installing /usr/local/lib/python3.6/site-packages/jupyter_contrib_nbextensions/nbextensions/nbTranslate -> nbTranslate\r\n",
      "\u001b[32m[I 15:17:44 InstallContribNbextensionsApp]\u001b[m Up to date: /usr/local/share/jupyter/nbextensions/nbTranslate/demo1.gif\r\n",
      "\u001b[32m[I 15:17:44 InstallContribNbextensionsApp]\u001b[m Up to date: /usr/local/share/jupyter/nbextensions/nbTranslate/languages.js\r\n",
      "\u001b[32m[I 15:17:44 InstallContribNbextensionsApp]\u001b[m Up to date: /usr/local/share/jupyter/nbextensions/nbTranslate/mutils.js\r\n",
      "\u001b[32m[I 15:17:44 InstallContribNbextensionsApp]\u001b[m Up to date: /usr/local/share/jupyter/nbextensions/nbTranslate/nbTranslate.js\r\n",
      "\u001b[32m[I 15:17:44 InstallContribNbextensionsApp]\u001b[m Up to date: /usr/local/share/jupyter/nbextensions/nbTranslate/main.js\r\n",
      "\u001b[32m[I 15:17:44 InstallContribNbextensionsApp]\u001b[m Up to date: /usr/local/share/jupyter/nbextensions/nbTranslate/README.md\r\n",
      "\u001b[32m[I 15:17:44 InstallContribNbextensionsApp]\u001b[m Up to date: /usr/local/share/jupyter/nbextensions/nbTranslate/demo2.gif\r\n",
      "\u001b[32m[I 15:17:44 InstallContribNbextensionsApp]\u001b[m Up to date: /usr/local/share/jupyter/nbextensions/nbTranslate/nbTranslate.yaml\r\n",
      "\u001b[32m[I 15:17:44 InstallContribNbextensionsApp]\u001b[m - Validating: \u001b[32mOK\u001b[0m\r\n",
      "\u001b[32m[I 15:17:44 InstallContribNbextensionsApp]\u001b[m Installing /usr/local/lib/python3.6/site-packages/jupyter_contrib_nbextensions/nbextensions/autosavetime -> autosavetime\r\n",
      "\u001b[32m[I 15:17:44 InstallContribNbextensionsApp]\u001b[m Up to date: /usr/local/share/jupyter/nbextensions/autosavetime/icon.png\r\n",
      "\u001b[32m[I 15:17:44 InstallContribNbextensionsApp]\u001b[m Up to date: /usr/local/share/jupyter/nbextensions/autosavetime/autosavetime.yaml\r\n",
      "\u001b[32m[I 15:17:44 InstallContribNbextensionsApp]\u001b[m Up to date: /usr/local/share/jupyter/nbextensions/autosavetime/main.js\r\n",
      "\u001b[32m[I 15:17:44 InstallContribNbextensionsApp]\u001b[m Up to date: /usr/local/share/jupyter/nbextensions/autosavetime/README.md\r\n",
      "\u001b[32m[I 15:17:44 InstallContribNbextensionsApp]\u001b[m - Validating: \u001b[32mOK\u001b[0m\r\n",
      "\u001b[32m[I 15:17:44 InstallContribNbextensionsApp]\u001b[m Installing /usr/local/lib/python3.6/site-packages/jupyter_contrib_nbextensions/nbextensions/scroll_down -> scroll_down\r\n"
     ]
    },
    {
     "name": "stdout",
     "output_type": "stream",
     "text": [
      "\u001b[32m[I 15:17:44 InstallContribNbextensionsApp]\u001b[m Up to date: /usr/local/share/jupyter/nbextensions/scroll_down/icon.png\r\n",
      "\u001b[32m[I 15:17:44 InstallContribNbextensionsApp]\u001b[m Up to date: /usr/local/share/jupyter/nbextensions/scroll_down/readme.md\r\n",
      "\u001b[32m[I 15:17:44 InstallContribNbextensionsApp]\u001b[m Up to date: /usr/local/share/jupyter/nbextensions/scroll_down/config.yaml\r\n",
      "\u001b[32m[I 15:17:44 InstallContribNbextensionsApp]\u001b[m Up to date: /usr/local/share/jupyter/nbextensions/scroll_down/main.js\r\n",
      "\u001b[32m[I 15:17:44 InstallContribNbextensionsApp]\u001b[m - Validating: \u001b[32mOK\u001b[0m\r\n",
      "\u001b[32m[I 15:17:44 InstallContribNbextensionsApp]\u001b[m Installing /usr/local/lib/python3.6/site-packages/jupyter_contrib_nbextensions/nbextensions/codemirror_mode_extensions -> codemirror_mode_extensions\r\n",
      "\u001b[32m[I 15:17:44 InstallContribNbextensionsApp]\u001b[m Up to date: /usr/local/share/jupyter/nbextensions/codemirror_mode_extensions/codemirror_mode_extensions.yaml\r\n",
      "\u001b[32m[I 15:17:44 InstallContribNbextensionsApp]\u001b[m Up to date: /usr/local/share/jupyter/nbextensions/codemirror_mode_extensions/main.js\r\n",
      "\u001b[32m[I 15:17:44 InstallContribNbextensionsApp]\u001b[m - Validating: \u001b[32mOK\u001b[0m\r\n",
      "\u001b[32m[I 15:17:44 InstallContribNbextensionsApp]\u001b[m Installing /usr/local/lib/python3.6/site-packages/jupyter_contrib_nbextensions/nbextensions/codefolding -> codefolding\r\n",
      "\u001b[32m[I 15:17:44 InstallContribNbextensionsApp]\u001b[m Up to date: /usr/local/share/jupyter/nbextensions/codefolding/codefolding_indent_unfolded.png\r\n",
      "\u001b[32m[I 15:17:44 InstallContribNbextensionsApp]\u001b[m Up to date: /usr/local/share/jupyter/nbextensions/codefolding/magic-folded.png\r\n",
      "\u001b[32m[I 15:17:44 InstallContribNbextensionsApp]\u001b[m Up to date: /usr/local/share/jupyter/nbextensions/codefolding/icon.png\r\n",
      "\u001b[32m[I 15:17:44 InstallContribNbextensionsApp]\u001b[m Up to date: /usr/local/share/jupyter/nbextensions/codefolding/firstline-fold.js\r\n",
      "\u001b[32m[I 15:17:44 InstallContribNbextensionsApp]\u001b[m Up to date: /usr/local/share/jupyter/nbextensions/codefolding/magic-fold.js\r\n",
      "\u001b[32m[I 15:17:44 InstallContribNbextensionsApp]\u001b[m Up to date: /usr/local/share/jupyter/nbextensions/codefolding/codefolding_editor.yaml\r\n",
      "\u001b[32m[I 15:17:44 InstallContribNbextensionsApp]\u001b[m Up to date: /usr/local/share/jupyter/nbextensions/codefolding/readme.md\r\n",
      "\u001b[32m[I 15:17:44 InstallContribNbextensionsApp]\u001b[m Up to date: /usr/local/share/jupyter/nbextensions/codefolding/codefolding.yaml\r\n",
      "\u001b[32m[I 15:17:44 InstallContribNbextensionsApp]\u001b[m Up to date: /usr/local/share/jupyter/nbextensions/codefolding/codefolding_firstline_folded.png\r\n",
      "\u001b[32m[I 15:17:44 InstallContribNbextensionsApp]\u001b[m Up to date: /usr/local/share/jupyter/nbextensions/codefolding/codefolding_indent_folded_1.png\r\n",
      "\u001b[32m[I 15:17:44 InstallContribNbextensionsApp]\u001b[m Up to date: /usr/local/share/jupyter/nbextensions/codefolding/magic-unfolded.png\r\n",
      "\u001b[32m[I 15:17:44 InstallContribNbextensionsApp]\u001b[m Up to date: /usr/local/share/jupyter/nbextensions/codefolding/codefolding_firstline_unfolded.png\r\n",
      "\u001b[32m[I 15:17:44 InstallContribNbextensionsApp]\u001b[m Up to date: /usr/local/share/jupyter/nbextensions/codefolding/codefolding_editor.png\r\n",
      "\u001b[32m[I 15:17:44 InstallContribNbextensionsApp]\u001b[m Up to date: /usr/local/share/jupyter/nbextensions/codefolding/codefolding_indent_folded_2.png\r\n",
      "\u001b[32m[I 15:17:44 InstallContribNbextensionsApp]\u001b[m Up to date: /usr/local/share/jupyter/nbextensions/codefolding/main.js\r\n",
      "\u001b[32m[I 15:17:44 InstallContribNbextensionsApp]\u001b[m Up to date: /usr/local/share/jupyter/nbextensions/codefolding/edit.js\r\n",
      "\u001b[32m[I 15:17:44 InstallContribNbextensionsApp]\u001b[m Up to date: /usr/local/share/jupyter/nbextensions/codefolding/foldgutter.css\r\n",
      "\u001b[32m[I 15:17:44 InstallContribNbextensionsApp]\u001b[m - Validating: \u001b[32mOK\u001b[0m\r\n",
      "\u001b[32m[I 15:17:44 InstallContribNbextensionsApp]\u001b[m Installing /usr/local/lib/python3.6/site-packages/jupyter_contrib_nbextensions/nbextensions/codefolding -> codefolding\r\n",
      "\u001b[32m[I 15:17:44 InstallContribNbextensionsApp]\u001b[m Up to date: /usr/local/share/jupyter/nbextensions/codefolding/codefolding_indent_unfolded.png\r\n",
      "\u001b[32m[I 15:17:44 InstallContribNbextensionsApp]\u001b[m Up to date: /usr/local/share/jupyter/nbextensions/codefolding/magic-folded.png\r\n",
      "\u001b[32m[I 15:17:44 InstallContribNbextensionsApp]\u001b[m Up to date: /usr/local/share/jupyter/nbextensions/codefolding/icon.png\r\n",
      "\u001b[32m[I 15:17:44 InstallContribNbextensionsApp]\u001b[m Up to date: /usr/local/share/jupyter/nbextensions/codefolding/firstline-fold.js\r\n",
      "\u001b[32m[I 15:17:44 InstallContribNbextensionsApp]\u001b[m Up to date: /usr/local/share/jupyter/nbextensions/codefolding/magic-fold.js\r\n",
      "\u001b[32m[I 15:17:44 InstallContribNbextensionsApp]\u001b[m Up to date: /usr/local/share/jupyter/nbextensions/codefolding/codefolding_editor.yaml\r\n",
      "\u001b[32m[I 15:17:44 InstallContribNbextensionsApp]\u001b[m Up to date: /usr/local/share/jupyter/nbextensions/codefolding/readme.md\r\n",
      "\u001b[32m[I 15:17:44 InstallContribNbextensionsApp]\u001b[m Up to date: /usr/local/share/jupyter/nbextensions/codefolding/codefolding.yaml\r\n",
      "\u001b[32m[I 15:17:44 InstallContribNbextensionsApp]\u001b[m Up to date: /usr/local/share/jupyter/nbextensions/codefolding/codefolding_firstline_folded.png\r\n",
      "\u001b[32m[I 15:17:44 InstallContribNbextensionsApp]\u001b[m Up to date: /usr/local/share/jupyter/nbextensions/codefolding/codefolding_indent_folded_1.png\r\n",
      "\u001b[32m[I 15:17:44 InstallContribNbextensionsApp]\u001b[m Up to date: /usr/local/share/jupyter/nbextensions/codefolding/magic-unfolded.png\r\n",
      "\u001b[32m[I 15:17:44 InstallContribNbextensionsApp]\u001b[m Up to date: /usr/local/share/jupyter/nbextensions/codefolding/codefolding_firstline_unfolded.png\r\n",
      "\u001b[32m[I 15:17:44 InstallContribNbextensionsApp]\u001b[m Up to date: /usr/local/share/jupyter/nbextensions/codefolding/codefolding_editor.png\r\n",
      "\u001b[32m[I 15:17:44 InstallContribNbextensionsApp]\u001b[m Up to date: /usr/local/share/jupyter/nbextensions/codefolding/codefolding_indent_folded_2.png\r\n",
      "\u001b[32m[I 15:17:44 InstallContribNbextensionsApp]\u001b[m Up to date: /usr/local/share/jupyter/nbextensions/codefolding/main.js\r\n",
      "\u001b[32m[I 15:17:44 InstallContribNbextensionsApp]\u001b[m Up to date: /usr/local/share/jupyter/nbextensions/codefolding/edit.js\r\n",
      "\u001b[32m[I 15:17:44 InstallContribNbextensionsApp]\u001b[m Up to date: /usr/local/share/jupyter/nbextensions/codefolding/foldgutter.css\r\n",
      "\u001b[32m[I 15:17:44 InstallContribNbextensionsApp]\u001b[m - Validating: \u001b[32mOK\u001b[0m\r\n",
      "\u001b[32m[I 15:17:44 InstallContribNbextensionsApp]\u001b[m Installing /usr/local/lib/python3.6/site-packages/jupyter_contrib_nbextensions/nbextensions/varInspector -> varInspector\r\n",
      "\u001b[32m[I 15:17:44 InstallContribNbextensionsApp]\u001b[m Up to date: /usr/local/share/jupyter/nbextensions/varInspector/icon.png\r\n",
      "\u001b[32m[I 15:17:44 InstallContribNbextensionsApp]\u001b[m Up to date: /usr/local/share/jupyter/nbextensions/varInspector/demo.gif\r\n",
      "\u001b[32m[I 15:17:44 InstallContribNbextensionsApp]\u001b[m Up to date: /usr/local/share/jupyter/nbextensions/varInspector/main.css\r\n",
      "\u001b[32m[I 15:17:44 InstallContribNbextensionsApp]\u001b[m Up to date: /usr/local/share/jupyter/nbextensions/varInspector/jquery.tablesorter.min.js\r\n",
      "\u001b[32m[I 15:17:44 InstallContribNbextensionsApp]\u001b[m Up to date: /usr/local/share/jupyter/nbextensions/varInspector/varInspector.yaml\r\n",
      "\u001b[32m[I 15:17:44 InstallContribNbextensionsApp]\u001b[m Up to date: /usr/local/share/jupyter/nbextensions/varInspector/tablesorter_LICENSE.txt\r\n",
      "\u001b[32m[I 15:17:44 InstallContribNbextensionsApp]\u001b[m Up to date: /usr/local/share/jupyter/nbextensions/varInspector/var_list.py\r\n",
      "\u001b[32m[I 15:17:44 InstallContribNbextensionsApp]\u001b[m Up to date: /usr/local/share/jupyter/nbextensions/varInspector/main.js\r\n",
      "\u001b[32m[I 15:17:44 InstallContribNbextensionsApp]\u001b[m Up to date: /usr/local/share/jupyter/nbextensions/varInspector/README.md\r\n",
      "\u001b[32m[I 15:17:44 InstallContribNbextensionsApp]\u001b[m Up to date: /usr/local/share/jupyter/nbextensions/varInspector/var_list.r\r\n",
      "\u001b[32m[I 15:17:44 InstallContribNbextensionsApp]\u001b[m Up to date: /usr/local/share/jupyter/nbextensions/varInspector/__pycache__/var_list.cpython-36.pyc\r\n",
      "\u001b[32m[I 15:17:44 InstallContribNbextensionsApp]\u001b[m - Validating: \u001b[32mOK\u001b[0m\r\n",
      "\u001b[32m[I 15:17:44 InstallContribNbextensionsApp]\u001b[m Installing /usr/local/lib/python3.6/site-packages/jupyter_contrib_nbextensions/nbextensions/load_tex_macros -> load_tex_macros\r\n",
      "\u001b[32m[I 15:17:44 InstallContribNbextensionsApp]\u001b[m Up to date: /usr/local/share/jupyter/nbextensions/load_tex_macros/icon.png\r\n",
      "\u001b[32m[I 15:17:44 InstallContribNbextensionsApp]\u001b[m Up to date: /usr/local/share/jupyter/nbextensions/load_tex_macros/readme.md\r\n",
      "\u001b[32m[I 15:17:44 InstallContribNbextensionsApp]\u001b[m Up to date: /usr/local/share/jupyter/nbextensions/load_tex_macros/load_tex_macros.yaml\r\n",
      "\u001b[32m[I 15:17:44 InstallContribNbextensionsApp]\u001b[m Up to date: /usr/local/share/jupyter/nbextensions/load_tex_macros/main.js\r\n",
      "\u001b[32m[I 15:17:44 InstallContribNbextensionsApp]\u001b[m - Validating: \u001b[32mOK\u001b[0m\r\n",
      "\u001b[32m[I 15:17:44 InstallContribNbextensionsApp]\u001b[m Installing /usr/local/lib/python3.6/site-packages/jupyter_contrib_nbextensions/nbextensions/printview -> printview\r\n",
      "\u001b[32m[I 15:17:44 InstallContribNbextensionsApp]\u001b[m Up to date: /usr/local/share/jupyter/nbextensions/printview/printview.yaml\r\n",
      "\u001b[32m[I 15:17:44 InstallContribNbextensionsApp]\u001b[m Up to date: /usr/local/share/jupyter/nbextensions/printview/printview-button.png\r\n",
      "\u001b[32m[I 15:17:44 InstallContribNbextensionsApp]\u001b[m Up to date: /usr/local/share/jupyter/nbextensions/printview/icon.png\r\n",
      "\u001b[32m[I 15:17:44 InstallContribNbextensionsApp]\u001b[m Up to date: /usr/local/share/jupyter/nbextensions/printview/readme.md\r\n",
      "\u001b[32m[I 15:17:44 InstallContribNbextensionsApp]\u001b[m Up to date: /usr/local/share/jupyter/nbextensions/printview/main.js\r\n",
      "\u001b[32m[I 15:17:44 InstallContribNbextensionsApp]\u001b[m - Validating: \u001b[32mOK\u001b[0m\r\n",
      "\u001b[32m[I 15:17:44 InstallContribNbextensionsApp]\u001b[m Installing /usr/local/lib/python3.6/site-packages/jupyter_contrib_nbextensions/nbextensions/help_panel -> help_panel\r\n",
      "\u001b[32m[I 15:17:44 InstallContribNbextensionsApp]\u001b[m Up to date: /usr/local/share/jupyter/nbextensions/help_panel/icon.png\r\n",
      "\u001b[32m[I 15:17:45 InstallContribNbextensionsApp]\u001b[m Up to date: /usr/local/share/jupyter/nbextensions/help_panel/readme.md\r\n",
      "\u001b[32m[I 15:17:45 InstallContribNbextensionsApp]\u001b[m Up to date: /usr/local/share/jupyter/nbextensions/help_panel/help_panel_ext.png\r\n",
      "\u001b[32m[I 15:17:45 InstallContribNbextensionsApp]\u001b[m Up to date: /usr/local/share/jupyter/nbextensions/help_panel/help_panel.css\r\n",
      "\u001b[32m[I 15:17:45 InstallContribNbextensionsApp]\u001b[m Up to date: /usr/local/share/jupyter/nbextensions/help_panel/help_panel.yaml\r\n",
      "\u001b[32m[I 15:17:45 InstallContribNbextensionsApp]\u001b[m Up to date: /usr/local/share/jupyter/nbextensions/help_panel/help_panel.js\r\n",
      "\u001b[32m[I 15:17:45 InstallContribNbextensionsApp]\u001b[m Up to date: /usr/local/share/jupyter/nbextensions/help_panel/help_panel_ext_fullscreen.png\r\n",
      "\u001b[32m[I 15:17:45 InstallContribNbextensionsApp]\u001b[m Up to date: /usr/local/share/jupyter/nbextensions/help_panel/img/handle-v.png\r\n",
      "\u001b[32m[I 15:17:45 InstallContribNbextensionsApp]\u001b[m - Validating: \u001b[32mOK\u001b[0m\r\n",
      "\u001b[32m[I 15:17:45 InstallContribNbextensionsApp]\u001b[m Installing /usr/local/lib/python3.6/site-packages/jupyter_contrib_nbextensions/nbextensions/init_cell -> init_cell\r\n",
      "\u001b[32m[I 15:17:45 InstallContribNbextensionsApp]\u001b[m Up to date: /usr/local/share/jupyter/nbextensions/init_cell/icon.png\r\n",
      "\u001b[32m[I 15:17:45 InstallContribNbextensionsApp]\u001b[m Up to date: /usr/local/share/jupyter/nbextensions/init_cell/cell_toolbar_menu.png\r\n",
      "\u001b[32m[I 15:17:45 InstallContribNbextensionsApp]\u001b[m Up to date: /usr/local/share/jupyter/nbextensions/init_cell/init_cell.yaml\r\n",
      "\u001b[32m[I 15:17:45 InstallContribNbextensionsApp]\u001b[m Up to date: /usr/local/share/jupyter/nbextensions/init_cell/main.js\r\n",
      "\u001b[32m[I 15:17:45 InstallContribNbextensionsApp]\u001b[m Up to date: /usr/local/share/jupyter/nbextensions/init_cell/README.md\r\n",
      "\u001b[32m[I 15:17:45 InstallContribNbextensionsApp]\u001b[m - Validating: \u001b[32mOK\u001b[0m\r\n",
      "\u001b[32m[I 15:17:45 InstallContribNbextensionsApp]\u001b[m Installing /usr/local/lib/python3.6/site-packages/jupyter_contrib_nbextensions/nbextensions/spellchecker -> spellchecker\r\n",
      "\u001b[32m[I 15:17:45 InstallContribNbextensionsApp]\u001b[m Up to date: /usr/local/share/jupyter/nbextensions/spellchecker/screenshot.png\r\n",
      "\u001b[32m[I 15:17:45 InstallContribNbextensionsApp]\u001b[m Up to date: /usr/local/share/jupyter/nbextensions/spellchecker/main.css\r\n",
      "\u001b[32m[I 15:17:45 InstallContribNbextensionsApp]\u001b[m Up to date: /usr/local/share/jupyter/nbextensions/spellchecker/download_new_dict.py\r\n",
      "\u001b[32m[I 15:17:45 InstallContribNbextensionsApp]\u001b[m Up to date: /usr/local/share/jupyter/nbextensions/spellchecker/config.yaml\r\n",
      "\u001b[32m[I 15:17:45 InstallContribNbextensionsApp]\u001b[m Up to date: /usr/local/share/jupyter/nbextensions/spellchecker/main.js\r\n",
      "\u001b[32m[I 15:17:45 InstallContribNbextensionsApp]\u001b[m Up to date: /usr/local/share/jupyter/nbextensions/spellchecker/README.md\r\n",
      "\u001b[32m[I 15:17:45 InstallContribNbextensionsApp]\u001b[m Up to date: /usr/local/share/jupyter/nbextensions/spellchecker/__pycache__/download_new_dict.cpython-36.pyc\r\n",
      "\u001b[32m[I 15:17:45 InstallContribNbextensionsApp]\u001b[m Up to date: /usr/local/share/jupyter/nbextensions/spellchecker/typo/LICENSE.txt\r\n",
      "\u001b[32m[I 15:17:45 InstallContribNbextensionsApp]\u001b[m Up to date: /usr/local/share/jupyter/nbextensions/spellchecker/typo/typo.js\r\n",
      "\u001b[32m[I 15:17:45 InstallContribNbextensionsApp]\u001b[m - Validating: \u001b[32mOK\u001b[0m\r\n",
      "\u001b[32m[I 15:17:45 InstallContribNbextensionsApp]\u001b[m Installing /usr/local/lib/python3.6/site-packages/jupyter_contrib_nbextensions/nbextensions/python-markdown -> python-markdown\r\n"
     ]
    },
    {
     "name": "stdout",
     "output_type": "stream",
     "text": [
      "\u001b[32m[I 15:17:45 InstallContribNbextensionsApp]\u001b[m Up to date: /usr/local/share/jupyter/nbextensions/python-markdown/python-markdown.png\r\n",
      "\u001b[32m[I 15:17:45 InstallContribNbextensionsApp]\u001b[m Up to date: /usr/local/share/jupyter/nbextensions/python-markdown/untrusted.png\r\n",
      "\u001b[32m[I 15:17:45 InstallContribNbextensionsApp]\u001b[m Up to date: /usr/local/share/jupyter/nbextensions/python-markdown/readme.md\r\n",
      "\u001b[32m[I 15:17:45 InstallContribNbextensionsApp]\u001b[m Up to date: /usr/local/share/jupyter/nbextensions/python-markdown/main.css\r\n",
      "\u001b[32m[I 15:17:45 InstallContribNbextensionsApp]\u001b[m Up to date: /usr/local/share/jupyter/nbextensions/python-markdown/trusted.png\r\n",
      "\u001b[32m[I 15:17:45 InstallContribNbextensionsApp]\u001b[m Up to date: /usr/local/share/jupyter/nbextensions/python-markdown/python-markdown-pre.png\r\n",
      "\u001b[32m[I 15:17:45 InstallContribNbextensionsApp]\u001b[m Up to date: /usr/local/share/jupyter/nbextensions/python-markdown/main.js\r\n",
      "\u001b[32m[I 15:17:45 InstallContribNbextensionsApp]\u001b[m Up to date: /usr/local/share/jupyter/nbextensions/python-markdown/python-markdown-post.png\r\n",
      "\u001b[32m[I 15:17:45 InstallContribNbextensionsApp]\u001b[m Up to date: /usr/local/share/jupyter/nbextensions/python-markdown/python-markdown.yaml\r\n",
      "\u001b[32m[I 15:17:45 InstallContribNbextensionsApp]\u001b[m - Validating: \u001b[32mOK\u001b[0m\r\n",
      "\u001b[32m[I 15:17:45 InstallContribNbextensionsApp]\u001b[m Installing /usr/local/lib/python3.6/site-packages/jupyter_contrib_nbextensions/nbextensions/rubberband -> rubberband\r\n",
      "\u001b[32m[I 15:17:45 InstallContribNbextensionsApp]\u001b[m Up to date: /usr/local/share/jupyter/nbextensions/rubberband/icon.png\r\n",
      "\u001b[32m[I 15:17:45 InstallContribNbextensionsApp]\u001b[m Up to date: /usr/local/share/jupyter/nbextensions/rubberband/rubberband.yaml\r\n",
      "\u001b[32m[I 15:17:45 InstallContribNbextensionsApp]\u001b[m Up to date: /usr/local/share/jupyter/nbextensions/rubberband/readme.md\r\n",
      "\u001b[32m[I 15:17:45 InstallContribNbextensionsApp]\u001b[m Up to date: /usr/local/share/jupyter/nbextensions/rubberband/main.css\r\n",
      "\u001b[32m[I 15:17:45 InstallContribNbextensionsApp]\u001b[m Up to date: /usr/local/share/jupyter/nbextensions/rubberband/main.js\r\n",
      "\u001b[32m[I 15:17:45 InstallContribNbextensionsApp]\u001b[m - Validating: \u001b[32mOK\u001b[0m\r\n",
      "\u001b[32m[I 15:17:45 InstallContribNbextensionsApp]\u001b[m Installing /usr/local/lib/python3.6/site-packages/jupyter_contrib_nbextensions/nbextensions/limit_output -> limit_output\r\n",
      "\u001b[32m[I 15:17:45 InstallContribNbextensionsApp]\u001b[m Up to date: /usr/local/share/jupyter/nbextensions/limit_output/icon.png\r\n",
      "\u001b[32m[I 15:17:45 InstallContribNbextensionsApp]\u001b[m Up to date: /usr/local/share/jupyter/nbextensions/limit_output/readme.md\r\n",
      "\u001b[32m[I 15:17:45 InstallContribNbextensionsApp]\u001b[m Up to date: /usr/local/share/jupyter/nbextensions/limit_output/limit-output.yaml\r\n",
      "\u001b[32m[I 15:17:45 InstallContribNbextensionsApp]\u001b[m Up to date: /usr/local/share/jupyter/nbextensions/limit_output/main.js\r\n",
      "\u001b[32m[I 15:17:45 InstallContribNbextensionsApp]\u001b[m - Validating: \u001b[32mOK\u001b[0m\r\n",
      "\u001b[32m[I 15:17:45 InstallContribNbextensionsApp]\u001b[m Installing /usr/local/lib/python3.6/site-packages/jupyter_contrib_nbextensions/nbextensions/freeze -> freeze\r\n",
      "\u001b[32m[I 15:17:45 InstallContribNbextensionsApp]\u001b[m Up to date: /usr/local/share/jupyter/nbextensions/freeze/icon.png\r\n",
      "\u001b[32m[I 15:17:45 InstallContribNbextensionsApp]\u001b[m Up to date: /usr/local/share/jupyter/nbextensions/freeze/readme.md\r\n",
      "\u001b[32m[I 15:17:45 InstallContribNbextensionsApp]\u001b[m Up to date: /usr/local/share/jupyter/nbextensions/freeze/config.yaml\r\n",
      "\u001b[32m[I 15:17:45 InstallContribNbextensionsApp]\u001b[m Up to date: /usr/local/share/jupyter/nbextensions/freeze/main.js\r\n",
      "\u001b[32m[I 15:17:45 InstallContribNbextensionsApp]\u001b[m - Validating: \u001b[32mOK\u001b[0m\r\n",
      "\u001b[32m[I 15:17:45 InstallContribNbextensionsApp]\u001b[m Installing /usr/local/lib/python3.6/site-packages/jupyter_contrib_nbextensions/nbextensions/code_font_size -> code_font_size\r\n",
      "\u001b[32m[I 15:17:45 InstallContribNbextensionsApp]\u001b[m Up to date: /usr/local/share/jupyter/nbextensions/code_font_size/code_font_size.yaml\r\n",
      "\u001b[32m[I 15:17:45 InstallContribNbextensionsApp]\u001b[m Up to date: /usr/local/share/jupyter/nbextensions/code_font_size/code_font_size.js\r\n",
      "\u001b[32m[I 15:17:45 InstallContribNbextensionsApp]\u001b[m Up to date: /usr/local/share/jupyter/nbextensions/code_font_size/README.md\r\n",
      "\u001b[32m[I 15:17:45 InstallContribNbextensionsApp]\u001b[m - Validating: \u001b[32mOK\u001b[0m\r\n",
      "\u001b[32m[I 15:17:45 InstallContribNbextensionsApp]\u001b[m Installing /usr/local/lib/python3.6/site-packages/jupyter_contrib_nbextensions/nbextensions/ruler -> ruler\r\n",
      "\u001b[32m[I 15:17:45 InstallContribNbextensionsApp]\u001b[m Up to date: /usr/local/share/jupyter/nbextensions/ruler/icon.png\r\n",
      "\u001b[32m[I 15:17:45 InstallContribNbextensionsApp]\u001b[m Up to date: /usr/local/share/jupyter/nbextensions/ruler/readme.md\r\n",
      "\u001b[32m[I 15:17:45 InstallContribNbextensionsApp]\u001b[m Up to date: /usr/local/share/jupyter/nbextensions/ruler/ruler.yaml\r\n",
      "\u001b[32m[I 15:17:45 InstallContribNbextensionsApp]\u001b[m Up to date: /usr/local/share/jupyter/nbextensions/ruler/main.js\r\n",
      "\u001b[32m[I 15:17:45 InstallContribNbextensionsApp]\u001b[m Up to date: /usr/local/share/jupyter/nbextensions/ruler/edit.js\r\n",
      "\u001b[32m[I 15:17:45 InstallContribNbextensionsApp]\u001b[m Up to date: /usr/local/share/jupyter/nbextensions/ruler/ruler_editor.yaml\r\n",
      "\u001b[32m[I 15:17:45 InstallContribNbextensionsApp]\u001b[m - Validating: \u001b[32mOK\u001b[0m\r\n",
      "\u001b[32m[I 15:17:45 InstallContribNbextensionsApp]\u001b[m Installing /usr/local/lib/python3.6/site-packages/jupyter_contrib_nbextensions/nbextensions/ruler -> ruler\r\n",
      "\u001b[32m[I 15:17:45 InstallContribNbextensionsApp]\u001b[m Up to date: /usr/local/share/jupyter/nbextensions/ruler/icon.png\r\n",
      "\u001b[32m[I 15:17:45 InstallContribNbextensionsApp]\u001b[m Up to date: /usr/local/share/jupyter/nbextensions/ruler/readme.md\r\n",
      "\u001b[32m[I 15:17:45 InstallContribNbextensionsApp]\u001b[m Up to date: /usr/local/share/jupyter/nbextensions/ruler/ruler.yaml\r\n",
      "\u001b[32m[I 15:17:45 InstallContribNbextensionsApp]\u001b[m Up to date: /usr/local/share/jupyter/nbextensions/ruler/main.js\r\n",
      "\u001b[32m[I 15:17:45 InstallContribNbextensionsApp]\u001b[m Up to date: /usr/local/share/jupyter/nbextensions/ruler/edit.js\r\n",
      "\u001b[32m[I 15:17:45 InstallContribNbextensionsApp]\u001b[m Up to date: /usr/local/share/jupyter/nbextensions/ruler/ruler_editor.yaml\r\n",
      "\u001b[32m[I 15:17:45 InstallContribNbextensionsApp]\u001b[m - Validating: \u001b[32mOK\u001b[0m\r\n",
      "\u001b[32m[I 15:17:45 InstallContribNbextensionsApp]\u001b[m Installing /usr/local/lib/python3.6/site-packages/jupyter_contrib_nbextensions/nbextensions/toggle_all_line_numbers -> toggle_all_line_numbers\r\n",
      "\u001b[32m[I 15:17:45 InstallContribNbextensionsApp]\u001b[m Up to date: /usr/local/share/jupyter/nbextensions/toggle_all_line_numbers/icon.png\r\n",
      "\u001b[32m[I 15:17:45 InstallContribNbextensionsApp]\u001b[m Up to date: /usr/local/share/jupyter/nbextensions/toggle_all_line_numbers/readme.md\r\n",
      "\u001b[32m[I 15:17:45 InstallContribNbextensionsApp]\u001b[m Up to date: /usr/local/share/jupyter/nbextensions/toggle_all_line_numbers/main.js\r\n",
      "\u001b[32m[I 15:17:45 InstallContribNbextensionsApp]\u001b[m Up to date: /usr/local/share/jupyter/nbextensions/toggle_all_line_numbers/main.yaml\r\n",
      "\u001b[32m[I 15:17:45 InstallContribNbextensionsApp]\u001b[m - Validating: \u001b[32mOK\u001b[0m\r\n",
      "\u001b[32m[I 15:17:45 InstallContribNbextensionsApp]\u001b[m Installing /usr/local/lib/python3.6/site-packages/jupyter_contrib_nbextensions/nbextensions/contrib_nbextensions_help_item -> contrib_nbextensions_help_item\r\n",
      "\u001b[32m[I 15:17:45 InstallContribNbextensionsApp]\u001b[m Up to date: /usr/local/share/jupyter/nbextensions/contrib_nbextensions_help_item/contrib_nbextensions_help_item.yaml\r\n",
      "\u001b[32m[I 15:17:45 InstallContribNbextensionsApp]\u001b[m Up to date: /usr/local/share/jupyter/nbextensions/contrib_nbextensions_help_item/main.js\r\n",
      "\u001b[32m[I 15:17:45 InstallContribNbextensionsApp]\u001b[m Up to date: /usr/local/share/jupyter/nbextensions/contrib_nbextensions_help_item/README.md\r\n",
      "\u001b[32m[I 15:17:45 InstallContribNbextensionsApp]\u001b[m - Validating: \u001b[32mOK\u001b[0m\r\n",
      "\u001b[32m[I 15:17:45 InstallContribNbextensionsApp]\u001b[m Installing /usr/local/lib/python3.6/site-packages/jupyter_contrib_nbextensions/nbextensions/scratchpad -> scratchpad\r\n",
      "\u001b[32m[I 15:17:45 InstallContribNbextensionsApp]\u001b[m Up to date: /usr/local/share/jupyter/nbextensions/scratchpad/scratchpad.css\r\n",
      "\u001b[32m[I 15:17:45 InstallContribNbextensionsApp]\u001b[m Up to date: /usr/local/share/jupyter/nbextensions/scratchpad/LICENSE\r\n",
      "\u001b[32m[I 15:17:45 InstallContribNbextensionsApp]\u001b[m Up to date: /usr/local/share/jupyter/nbextensions/scratchpad/demo.gif\r\n",
      "\u001b[32m[I 15:17:45 InstallContribNbextensionsApp]\u001b[m Up to date: /usr/local/share/jupyter/nbextensions/scratchpad/scratchpad.yaml\r\n",
      "\u001b[32m[I 15:17:45 InstallContribNbextensionsApp]\u001b[m Up to date: /usr/local/share/jupyter/nbextensions/scratchpad/main.js\r\n",
      "\u001b[32m[I 15:17:45 InstallContribNbextensionsApp]\u001b[m Up to date: /usr/local/share/jupyter/nbextensions/scratchpad/README.md\r\n",
      "\u001b[32m[I 15:17:45 InstallContribNbextensionsApp]\u001b[m - Validating: \u001b[32mOK\u001b[0m\r\n",
      "\u001b[32m[I 15:17:45 InstallContribNbextensionsApp]\u001b[m Installing /usr/local/lib/python3.6/site-packages/jupyter_highlight_selected_word/static/highlight_selected_word -> highlight_selected_word\r\n",
      "\u001b[32m[I 15:17:45 InstallContribNbextensionsApp]\u001b[m Up to date: /usr/local/share/jupyter/nbextensions/highlight_selected_word/main.js\r\n",
      "\u001b[32m[I 15:17:45 InstallContribNbextensionsApp]\u001b[m Up to date: /usr/local/share/jupyter/nbextensions/highlight_selected_word/README.md\r\n",
      "\u001b[32m[I 15:17:45 InstallContribNbextensionsApp]\u001b[m Up to date: /usr/local/share/jupyter/nbextensions/highlight_selected_word/configurator.yaml\r\n",
      "\u001b[32m[I 15:17:45 InstallContribNbextensionsApp]\u001b[m - Validating: \u001b[32mOK\u001b[0m\r\n",
      "\u001b[32m[I 15:17:45 InstallContribNbextensionsApp]\u001b[m Installing /usr/local/lib/python3.6/site-packages/latex_envs/static -> latex_envs\r\n"
     ]
    },
    {
     "name": "stdout",
     "output_type": "stream",
     "text": [
      "\u001b[32m[I 15:17:45 InstallContribNbextensionsApp]\u001b[m Up to date: /usr/local/share/jupyter/nbextensions/latex_envs/thmsInNb4.js\n",
      "\u001b[32m[I 15:17:45 InstallContribNbextensionsApp]\u001b[m Up to date: /usr/local/share/jupyter/nbextensions/latex_envs/icon.png\n",
      "\u001b[32m[I 15:17:45 InstallContribNbextensionsApp]\u001b[m Up to date: /usr/local/share/jupyter/nbextensions/latex_envs/example_user_envs.json\n",
      "\u001b[32m[I 15:17:45 InstallContribNbextensionsApp]\u001b[m Up to date: /usr/local/share/jupyter/nbextensions/latex_envs/bibInNb4.js\n",
      "\u001b[32m[I 15:17:45 InstallContribNbextensionsApp]\u001b[m Up to date: /usr/local/share/jupyter/nbextensions/latex_envs/latex_envs.js\n",
      "\u001b[32m[I 15:17:45 InstallContribNbextensionsApp]\u001b[m Up to date: /usr/local/share/jupyter/nbextensions/latex_envs/latex_envs.yaml\n",
      "\u001b[32m[I 15:17:45 InstallContribNbextensionsApp]\u001b[m Up to date: /usr/local/share/jupyter/nbextensions/latex_envs/configuration_toolbar.png\n",
      "\u001b[32m[I 15:17:45 InstallContribNbextensionsApp]\u001b[m Up to date: /usr/local/share/jupyter/nbextensions/latex_envs/bibtex2.js\n",
      "\u001b[32m[I 15:17:45 InstallContribNbextensionsApp]\u001b[m Up to date: /usr/local/share/jupyter/nbextensions/latex_envs/initNb.js\n",
      "\u001b[32m[I 15:17:45 InstallContribNbextensionsApp]\u001b[m Up to date: /usr/local/share/jupyter/nbextensions/latex_envs/envsLatex.json\n",
      "\u001b[32m[I 15:17:45 InstallContribNbextensionsApp]\u001b[m Up to date: /usr/local/share/jupyter/nbextensions/latex_envs/example.png\n",
      "\u001b[32m[I 15:17:45 InstallContribNbextensionsApp]\u001b[m Up to date: /usr/local/share/jupyter/nbextensions/latex_envs/envsLatex.js\n",
      "\u001b[32m[I 15:17:45 InstallContribNbextensionsApp]\u001b[m Up to date: /usr/local/share/jupyter/nbextensions/latex_envs/latex_envs.css\n",
      "\u001b[32m[I 15:17:45 InstallContribNbextensionsApp]\u001b[m Up to date: /usr/local/share/jupyter/nbextensions/latex_envs/README.md\n",
      "\u001b[32m[I 15:17:45 InstallContribNbextensionsApp]\u001b[m Up to date: /usr/local/share/jupyter/nbextensions/latex_envs/main_toolbar.png\n",
      "\u001b[32m[I 15:17:45 InstallContribNbextensionsApp]\u001b[m Up to date: /usr/local/share/jupyter/nbextensions/latex_envs/doc/latex_env_doc.ipynb\n",
      "\u001b[32m[I 15:17:45 InstallContribNbextensionsApp]\u001b[m Up to date: /usr/local/share/jupyter/nbextensions/latex_envs/doc/documentation.pdf\n",
      "\u001b[32m[I 15:17:45 InstallContribNbextensionsApp]\u001b[m Up to date: /usr/local/share/jupyter/nbextensions/latex_envs/doc/header.tex\n",
      "\u001b[32m[I 15:17:45 InstallContribNbextensionsApp]\u001b[m Up to date: /usr/local/share/jupyter/nbextensions/latex_envs/doc/IEEEtran.bst\n",
      "\u001b[32m[I 15:17:45 InstallContribNbextensionsApp]\u001b[m Up to date: /usr/local/share/jupyter/nbextensions/latex_envs/doc/configuration_toolbar.png\n",
      "\u001b[32m[I 15:17:45 InstallContribNbextensionsApp]\u001b[m Up to date: /usr/local/share/jupyter/nbextensions/latex_envs/doc/biblio_ipython.bib\n",
      "\u001b[32m[I 15:17:45 InstallContribNbextensionsApp]\u001b[m Up to date: /usr/local/share/jupyter/nbextensions/latex_envs/doc/latex_env_doc.html\n",
      "\u001b[32m[I 15:17:45 InstallContribNbextensionsApp]\u001b[m Up to date: /usr/local/share/jupyter/nbextensions/latex_envs/doc/Toggles.png\n",
      "\u001b[32m[I 15:17:45 InstallContribNbextensionsApp]\u001b[m Up to date: /usr/local/share/jupyter/nbextensions/latex_envs/doc/latex_env_doc.tex\n",
      "\u001b[32m[I 15:17:45 InstallContribNbextensionsApp]\u001b[m Up to date: /usr/local/share/jupyter/nbextensions/latex_envs/doc/LaTeX_envs_menu.png\n",
      "\u001b[32m[I 15:17:45 InstallContribNbextensionsApp]\u001b[m Up to date: /usr/local/share/jupyter/nbextensions/latex_envs/doc/documentation.tex\n",
      "\u001b[32m[I 15:17:45 InstallContribNbextensionsApp]\u001b[m Up to date: /usr/local/share/jupyter/nbextensions/latex_envs/doc/example.png\n",
      "\u001b[32m[I 15:17:45 InstallContribNbextensionsApp]\u001b[m Up to date: /usr/local/share/jupyter/nbextensions/latex_envs/doc/README.md\n",
      "\u001b[32m[I 15:17:45 InstallContribNbextensionsApp]\u001b[m Up to date: /usr/local/share/jupyter/nbextensions/latex_envs/doc/main_toolbar.png\n",
      "\u001b[32m[I 15:17:45 InstallContribNbextensionsApp]\u001b[m Up to date: /usr/local/share/jupyter/nbextensions/latex_envs/doc/config_toolbar.png\n",
      "\u001b[32m[I 15:17:45 InstallContribNbextensionsApp]\u001b[m Up to date: /usr/local/share/jupyter/nbextensions/latex_envs/doc/latex_env_doc_files/latex_env_doc_42_0.png\n",
      "\u001b[32m[I 15:17:45 InstallContribNbextensionsApp]\u001b[m Up to date: /usr/local/share/jupyter/nbextensions/latex_envs/doc/latex_env_doc_files/latex_env_doc_47_0.png\n",
      "\u001b[32m[I 15:17:45 InstallContribNbextensionsApp]\u001b[m Up to date: /usr/local/share/jupyter/nbextensions/latex_envs/doc/latex_env_doc_files/latex_env_doc_24_2.png\n",
      "\u001b[32m[I 15:17:45 InstallContribNbextensionsApp]\u001b[m Up to date: /usr/local/share/jupyter/nbextensions/latex_envs/doc/latex_env_doc_files/latex_env_doc_44_0.png\n",
      "\u001b[32m[I 15:17:45 InstallContribNbextensionsApp]\u001b[m Up to date: /usr/local/share/jupyter/nbextensions/latex_envs/doc/latex_env_doc_files/latex_env_doc_52_0.png\n",
      "\u001b[32m[I 15:17:45 InstallContribNbextensionsApp]\u001b[m Up to date: /usr/local/share/jupyter/nbextensions/latex_envs/doc/latex_env_doc_files/latex_env_doc_46_0.png\n",
      "\u001b[32m[I 15:17:45 InstallContribNbextensionsApp]\u001b[m Up to date: /usr/local/share/jupyter/nbextensions/latex_envs/doc/latex_env_doc_files/latex_env_doc_50_0.png\n",
      "\u001b[32m[I 15:17:45 InstallContribNbextensionsApp]\u001b[m Up to date: /usr/local/share/jupyter/nbextensions/latex_envs/doc/latex_env_doc_files/latex_env_doc_48_0.png\n",
      "\u001b[32m[I 15:17:45 InstallContribNbextensionsApp]\u001b[m Up to date: /usr/local/share/jupyter/nbextensions/latex_envs/doc/latex_env_doc_files/latex_env_doc_26_2.png\n",
      "\u001b[32m[I 15:17:45 InstallContribNbextensionsApp]\u001b[m Up to date: /usr/local/share/jupyter/nbextensions/latex_envs/doc/latex_env_doc_files/latex_env_doc_49_0.png\n",
      "\u001b[32m[I 15:17:45 InstallContribNbextensionsApp]\u001b[m Up to date: /usr/local/share/jupyter/nbextensions/latex_envs/doc/latex_env_doc_files/latex_env_doc_23_2.png\n",
      "\u001b[32m[I 15:17:45 InstallContribNbextensionsApp]\u001b[m Up to date: /usr/local/share/jupyter/nbextensions/latex_envs/doc/latex_env_doc_files/latex_env_doc_43_0.png\n",
      "\u001b[32m[I 15:17:45 InstallContribNbextensionsApp]\u001b[m Up to date: /usr/local/share/jupyter/nbextensions/latex_envs/doc/latex_env_doc_files/latex_env_doc_27_2.png\n",
      "\u001b[32m[I 15:17:45 InstallContribNbextensionsApp]\u001b[m Up to date: /usr/local/share/jupyter/nbextensions/latex_envs/doc/latex_env_doc_files/latex_env_doc_45_0.png\n",
      "\u001b[32m[I 15:17:45 InstallContribNbextensionsApp]\u001b[m Up to date: /usr/local/share/jupyter/nbextensions/latex_envs/doc/latex_env_doc_files/latex_env_doc_51_0.png\n",
      "\u001b[32m[I 15:17:45 InstallContribNbextensionsApp]\u001b[m Up to date: /usr/local/share/jupyter/nbextensions/latex_envs/doc/latex_env_doc_files/latex_env_doc_41_0.png\n",
      "\u001b[32m[I 15:17:45 InstallContribNbextensionsApp]\u001b[m Up to date: /usr/local/share/jupyter/nbextensions/latex_envs/doc/.ipynb_checkpoints/latex_env_doc-checkpoint.ipynb\n",
      "\u001b[32m[I 15:17:45 InstallContribNbextensionsApp]\u001b[m - Validating: \u001b[32mOK\u001b[0m\n",
      "\u001b[32m[I 15:17:45 InstallContribNbextensionsApp]\u001b[m Installing jupyter_contrib_nbextensions items to config in /usr/local/etc/jupyter\n",
      "Enabling: jupyter_nbextensions_configurator\n",
      "- Writing config: /usr/local/etc/jupyter\n",
      "Traceback (most recent call last):\n",
      "  File \"/usr/local/bin/jupyter-contrib\", line 10, in <module>\n",
      "    sys.exit(main())\n",
      "  File \"/usr/local/lib/python3.6/site-packages/jupyter_core/application.py\", line 266, in launch_instance\n",
      "    return super(JupyterApp, cls).launch_instance(argv=argv, **kwargs)\n",
      "  File \"/usr/local/lib/python3.6/site-packages/traitlets/config/application.py\", line 658, in launch_instance\n",
      "    app.start()\n",
      "  File \"/usr/local/lib/python3.6/site-packages/jupyter_contrib_core/application.py\", line 50, in start\n",
      "    super(JupyterContribApp, self).start()\n",
      "  File \"/usr/local/lib/python3.6/site-packages/jupyter_core/application.py\", line 255, in start\n",
      "    self.subapp.start()\n",
      "  File \"/usr/local/lib/python3.6/site-packages/jupyter_contrib_nbextensions/application.py\", line 231, in start\n",
      "    super(ContribNbextensionsApp, self).start()\n",
      "  File \"/usr/local/lib/python3.6/site-packages/jupyter_core/application.py\", line 255, in start\n",
      "    self.subapp.start()\n",
      "  File \"/usr/local/lib/python3.6/site-packages/jupyter_contrib_nbextensions/application.py\", line 180, in start\n",
      "    toggle_install_config(self._toggle_value, **kwargs)\n",
      "  File \"/usr/local/lib/python3.6/site-packages/jupyter_contrib_nbextensions/install.py\", line 97, in toggle_install_config\n",
      "    configurator_app.start()\n",
      "  File \"/usr/local/lib/python3.6/site-packages/jupyter_nbextensions_configurator/application.py\", line 66, in start\n",
      "    'jupyter_nbextensions_configurator')\n",
      "  File \"/usr/local/lib/python3.6/site-packages/notebook/serverextensions.py\", line 203, in toggle_server_extension_python\n",
      "    self.toggle_server_extension(module)\n",
      "  File \"/usr/local/lib/python3.6/site-packages/notebook/serverextensions.py\", line 186, in toggle_server_extension\n",
      "    sys_prefix=self.sys_prefix, logger=self.log)\n",
      "  File \"/usr/local/lib/python3.6/site-packages/notebook/serverextensions.py\", line 74, in toggle_serverextension_python\n",
      "    cm.update(\"jupyter_notebook_config\", cfg)\n",
      "  File \"/usr/local/lib/python3.6/site-packages/notebook/config_manager.py\", line 136, in update\n",
      "    self.set(section_name, data)\n",
      "  File \"/usr/local/lib/python3.6/site-packages/notebook/config_manager.py\", line 123, in set\n",
      "    f = io.open(filename, 'w', encoding='utf-8')\n",
      "PermissionError: [Errno 13] Permission denied: '/usr/local/etc/jupyter/jupyter_notebook_config.json'\n"
     ]
    }
   ],
   "source": [
    "!pip install jupyter_contrib_nbextensions && jupyter contrib nbextension install"
   ]
  },
  {
   "cell_type": "code",
   "execution_count": 8,
   "metadata": {
    "ExecuteTime": {
     "end_time": "2019-03-19T17:48:49.808419Z",
     "start_time": "2019-03-19T17:48:45.077668Z"
    },
    "scrolled": true
   },
   "outputs": [
    {
     "name": "stdout",
     "output_type": "stream",
     "text": [
      "Package                           Version \r\n",
      "--------------------------------- --------\r\n",
      "alembic                           1.0.8   \r\n",
      "antiorm                           1.2.1   \r\n",
      "async-generator                   1.10    \r\n",
      "atomicwrites                      1.3.0   \r\n",
      "attrs                             19.1.0  \r\n",
      "backcall                          0.1.0   \r\n",
      "bleach                            3.1.0   \r\n",
      "certifi                           2019.3.9\r\n",
      "cffi                              1.12.2  \r\n",
      "chardet                           3.0.4   \r\n",
      "db                                0.1.1   \r\n",
      "db-sqlite3                        0.0.1   \r\n",
      "decorator                         4.4.0   \r\n",
      "defusedxml                        0.5.0   \r\n",
      "entrypoints                       0.3     \r\n",
      "idna                              2.8     \r\n",
      "ipykernel                         5.1.0   \r\n",
      "ipython                           6.2.1   \r\n",
      "ipython-genutils                  0.2.0   \r\n",
      "ipython-sql                       0.3.9   \r\n",
      "ipywidgets                        7.4.2   \r\n",
      "jedi                              0.13.3  \r\n",
      "Jinja2                            2.10    \r\n",
      "jsonschema                        3.0.1   \r\n",
      "jupyter                           1.0.0   \r\n",
      "jupyter-client                    5.2.4   \r\n",
      "jupyter-console                   5.2.0   \r\n",
      "jupyter-contrib-core              0.3.3   \r\n",
      "jupyter-contrib-nbextensions      0.5.1   \r\n",
      "jupyter-core                      4.4.0   \r\n",
      "jupyter-highlight-selected-word   0.2.0   \r\n",
      "jupyter-latex-envs                1.4.6   \r\n",
      "jupyter-nbextensions-configurator 0.4.1   \r\n",
      "jupyterhub                        0.9.4   \r\n",
      "lxml                              4.3.2   \r\n",
      "Mako                              1.0.7   \r\n",
      "MarkupSafe                        1.1.1   \r\n",
      "mistune                           0.8.4   \r\n",
      "more-itertools                    6.0.0   \r\n",
      "nbconvert                         5.4.1   \r\n",
      "nbformat                          4.4.0   \r\n",
      "nbgrader                          0.5.5   \r\n",
      "notebook                          5.7.6   \r\n",
      "pamela                            1.0.0   \r\n",
      "pandocfilters                     1.4.2   \r\n",
      "parso                             0.3.4   \r\n",
      "pexpect                           4.6.0   \r\n",
      "pickleshare                       0.7.5   \r\n",
      "pip                               19.0.3  \r\n",
      "pluggy                            0.9.0   \r\n",
      "prettytable                       0.7.2   \r\n",
      "prometheus-client                 0.6.0   \r\n",
      "prompt-toolkit                    1.0.15  \r\n",
      "ptyprocess                        0.6.0   \r\n",
      "py                                1.8.0   \r\n",
      "pycparser                         2.19    \r\n",
      "Pygments                          2.3.1   \r\n",
      "pyrsistent                        0.14.11 \r\n",
      "pysqlite3                         0.2.1   \r\n",
      "pytest                            4.3.1   \r\n",
      "python-dateutil                   2.8.0   \r\n",
      "python-editor                     1.0.4   \r\n",
      "python-oauth2                     1.1.0   \r\n",
      "PyYAML                            5.1     \r\n",
      "pyzmq                             18.0.1  \r\n",
      "qtconsole                         4.4.3   \r\n",
      "requests                          2.21.0  \r\n",
      "rpy2                              3.0.1   \r\n",
      "Send2Trash                        1.5.0   \r\n",
      "setuptools                        40.6.2  \r\n",
      "simplegeneric                     0.8.1   \r\n",
      "six                               1.12.0  \r\n",
      "SQLAlchemy                        1.3.1   \r\n",
      "sqlparse                          0.3.0   \r\n",
      "terminado                         0.8.1   \r\n",
      "testpath                          0.4.2   \r\n",
      "tornado                           6.0.1   \r\n",
      "traitlets                         4.3.2   \r\n",
      "urllib3                           1.24.1  \r\n",
      "virtualenv                        16.4.3  \r\n",
      "wcwidth                           0.1.7   \r\n",
      "webencodings                      0.5.1   \r\n",
      "widgetsnbextension                3.4.2   \r\n"
     ]
    }
   ],
   "source": [
    "# Check, manage and install packages\n",
    "!pip list"
   ]
  },
  {
   "cell_type": "code",
   "execution_count": 9,
   "metadata": {
    "ExecuteTime": {
     "end_time": "2019-03-19T17:48:49.958720Z",
     "start_time": "2019-03-19T17:48:49.819551Z"
    }
   },
   "outputs": [
    {
     "name": "stdout",
     "output_type": "stream",
     "text": [
      "01.00_Introduction_Python_Module.ipynb\r\n",
      "01.01_Jupiter_Notebook_Intro.ipynb\r\n",
      "01.02_Jupiter_Notebook_applied_to_data_science.ipynb\r\n",
      "01.02_Jupyter_Shortcuts.ipynb\r\n",
      "01.03_Coding_Basics.ipynb\r\n",
      "01.04_Datatypes.ipynb\r\n",
      "01.05_Types_Operations.ipynb\r\n",
      "01.06_Python_basic_Workshop.ipynb\r\n",
      "01.07_VirtualENV.ipynb\r\n",
      "ScriptMode.py\r\n",
      "test1.txt\r\n"
     ]
    }
   ],
   "source": [
    "# Check the files in your working directory\n",
    "!ls"
   ]
  },
  {
   "cell_type": "code",
   "execution_count": 1,
   "metadata": {
    "ExecuteTime": {
     "end_time": "2019-04-10T19:38:23.281738Z",
     "start_time": "2019-04-10T19:38:10.650015Z"
    }
   },
   "outputs": [],
   "source": [
    "%load_ext sql\n",
    "%load_ext cython\n",
    "#Must have R intalled in your system and extension ggplot as well\n",
    "#R console run : install.packages(\"ggplot2\", dependencies = TRUE)\n",
    "%load_ext rpy2.ipython"
   ]
  },
  {
   "cell_type": "code",
   "execution_count": 4,
   "metadata": {
    "ExecuteTime": {
     "end_time": "2019-04-10T19:39:15.333183Z",
     "start_time": "2019-04-10T19:39:15.180168Z"
    }
   },
   "outputs": [
    {
     "name": "stdout",
     "output_type": "stream",
     "text": [
      "The rpy2.ipython extension is already loaded. To reload it, use:\n",
      "  %reload_ext rpy2.ipython\n"
     ]
    }
   ],
   "source": [
    "#https://www.datacamp.com/community/tutorials/tutorial-jupyter-notebook\n",
    "# Hide warnings if there are any\n",
    "import warnings\n",
    "warnings.filterwarnings('ignore')\n",
    "\n",
    "# Load in the r magic\n",
    "%load_ext rpy2.ipython\n",
    "\n",
    "# We need ggplot2 it should be installed in R\n",
    "%R require(ggplot2)\n",
    "\n",
    "# Load in the pandas library\n",
    "import pandas as pd\n",
    "\n",
    "# Make a pandas DataFrame\n",
    "df = pd.DataFrame({'Alphabet': ['a', 'b', 'c', 'd','e', 'f', 'g', 'h','i'],\n",
    "                   'A': [4, 3, 5, 2, 1, 7, 7, 5, 9],\n",
    "                   'B': [0, 4, 3, 6, 7, 10, 11, 9, 13],\n",
    "                   'C': [1, 2, 3, 1, 2, 3, 1, 2, 3]})\n",
    "\n",
    "%R -i df"
   ]
  },
  {
   "cell_type": "code",
   "execution_count": 5,
   "metadata": {
    "ExecuteTime": {
     "end_time": "2019-04-10T19:39:19.335634Z",
     "start_time": "2019-04-10T19:39:16.856568Z"
    }
   },
   "outputs": [
    {
     "data": {
      "image/png": "[encoded data removed]"
     },
     "metadata": {},
     "output_type": "display_data"
    }
   ],
   "source": [
    "%%R \n",
    "ggplot(data=df) + geom_point(aes(x=A, y=B, color=C))"
   ]
  },
  {
   "cell_type": "code",
   "execution_count": 6,
   "metadata": {
    "ExecuteTime": {
     "end_time": "2019-04-10T19:39:32.272772Z",
     "start_time": "2019-04-10T19:39:32.182930Z"
    }
   },
   "outputs": [
    {
     "name": "stdout",
     "output_type": "stream",
     "text": [
      "The rpy2.ipython extension is already loaded. To reload it, use:\n",
      "  %reload_ext rpy2.ipython\n"
     ]
    }
   ],
   "source": [
    "%load_ext rpy2.ipython\n",
    "\n",
    "import pandas as pd\n",
    "import numpy as np\n",
    "data = np.random.randn(5000, 1)\n",
    "df = pd.DataFrame(data, columns=[\"value\"])"
   ]
  },
  {
   "cell_type": "code",
   "execution_count": 7,
   "metadata": {
    "ExecuteTime": {
     "end_time": "2019-04-10T19:39:36.297128Z",
     "start_time": "2019-04-10T19:39:34.754242Z"
    }
   },
   "outputs": [
    {
     "data": {
      "image/png": "[encoded data removed]"
     },
     "metadata": {},
     "output_type": "display_data"
    }
   ],
   "source": [
    "%%R -i df -w 800 -h 480 -u px\n",
    "library(ggplot2)\n",
    "ggplot(df) + geom_density(aes(x=value))"
   ]
  },
  {
   "cell_type": "markdown",
   "metadata": {},
   "source": [
    "This is just an initial not nearly everything you can do with R magics, though. You can also push variables from Python to R and pull them again to Python. Read up on the documentation (with easily accessible examples!) **[here](https://ipython.org/ipython-doc/2/config/extensions/rmagic.html)**. Additional **[dashboard info](https://blog.dominodatalab.com/interactive-dashboards-in-jupyter/)**."
   ]
  },
  {
   "cell_type": "markdown",
   "metadata": {},
   "source": [
    "### Other Commands"
   ]
  },
  {
   "cell_type": "code",
   "execution_count": 8,
   "metadata": {
    "ExecuteTime": {
     "end_time": "2019-04-10T19:40:44.288642Z",
     "start_time": "2019-04-10T19:40:44.184063Z"
    }
   },
   "outputs": [
    {
     "data": {
      "text/plain": [
       "3.1416"
      ]
     },
     "execution_count": 8,
     "metadata": {},
     "output_type": "execute_result"
    }
   ],
   "source": [
    "from math import pi\n",
    "%precision 4\n",
    "pi"
   ]
  },
  {
   "cell_type": "code",
   "execution_count": 9,
   "metadata": {
    "ExecuteTime": {
     "end_time": "2019-04-10T19:40:46.802248Z",
     "start_time": "2019-04-10T19:40:46.766113Z"
    }
   },
   "outputs": [
    {
     "name": "stdout",
     "output_type": "stream",
     "text": [
      "hello world\n",
      "CPU times: user 1.41 ms, sys: 0 ns, total: 1.41 ms\n",
      "Wall time: 1.26 ms\n"
     ]
    }
   ],
   "source": [
    "%time print ('hello world')"
   ]
  },
  {
   "cell_type": "code",
   "execution_count": 11,
   "metadata": {
    "ExecuteTime": {
     "end_time": "2019-04-10T19:41:01.650394Z",
     "start_time": "2019-04-10T19:41:01.616975Z"
    }
   },
   "outputs": [
    {
     "data": {
      "text/html": [
       "<H1>HTML</H1>\n",
       "<p>This is some text</p>"
      ],
      "text/plain": [
       "<IPython.core.display.HTML object>"
      ]
     },
     "metadata": {},
     "output_type": "display_data"
    }
   ],
   "source": [
    "%%HTML\n",
    "<H1>HTML</H1>\n",
    "<p>This is some text</p>"
   ]
  },
  {
   "cell_type": "markdown",
   "metadata": {
    "ExecuteTime": {
     "end_time": "2019-03-12T17:40:48.567517Z",
     "start_time": "2019-03-12T17:40:48.537672Z"
    }
   },
   "source": [
    "### Shell Interaction"
   ]
  },
  {
   "cell_type": "code",
   "execution_count": 18,
   "metadata": {
    "ExecuteTime": {
     "end_time": "2019-04-10T19:42:15.232836Z",
     "start_time": "2019-04-10T19:42:15.204862Z"
    }
   },
   "outputs": [
    {
     "name": "stderr",
     "output_type": "stream",
     "text": [
      "UsageError: Cell magic `%%cmd` not found.\n"
     ]
    }
   ],
   "source": [
    "%%bash --out output\n",
    "echo \"hello world\""
   ]
  },
  {
   "cell_type": "code",
   "execution_count": 17,
   "metadata": {
    "ExecuteTime": {
     "end_time": "2019-04-10T19:41:50.438582Z",
     "start_time": "2019-04-10T19:41:50.410096Z"
    }
   },
   "outputs": [
    {
     "name": "stdout",
     "output_type": "stream",
     "text": [
      "hello world\n",
      "\n"
     ]
    }
   ],
   "source": [
    "print (output)"
   ]
  },
  {
   "cell_type": "code",
   "execution_count": 59,
   "metadata": {
    "ExecuteTime": {
     "end_time": "2019-03-19T18:48:01.725872Z",
     "start_time": "2019-03-19T18:48:01.626576Z"
    }
   },
   "outputs": [
    {
     "name": "stdout",
     "output_type": "stream",
     "text": [
      "['hello world']\n"
     ]
    }
   ],
   "source": [
    "result = !echo \"hello world\"\n",
    "print (result)"
   ]
  },
  {
   "cell_type": "code",
   "execution_count": 19,
   "metadata": {
    "ExecuteTime": {
     "end_time": "2019-04-10T19:42:42.541257Z",
     "start_time": "2019-04-10T19:42:42.463695Z"
    }
   },
   "outputs": [],
   "source": [
    "%%bash --out output\n",
    "for i in 1 2 3; \n",
    "do\n",
    "echo $i\n",
    "done"
   ]
  },
  {
   "cell_type": "code",
   "execution_count": 20,
   "metadata": {
    "ExecuteTime": {
     "end_time": "2019-04-10T19:42:44.514090Z",
     "start_time": "2019-04-10T19:42:44.481424Z"
    }
   },
   "outputs": [
    {
     "data": {
      "text/plain": [
       "'1\\n2\\n3\\n'"
      ]
     },
     "execution_count": 20,
     "metadata": {},
     "output_type": "execute_result"
    }
   ],
   "source": [
    "output"
   ]
  },
  {
   "cell_type": "code",
   "execution_count": 21,
   "metadata": {
    "ExecuteTime": {
     "end_time": "2019-04-10T19:42:49.452158Z",
     "start_time": "2019-04-10T19:42:49.418056Z"
    }
   },
   "outputs": [
    {
     "data": {
      "text/html": [
       "<p>{{output}}</p>"
      ],
      "text/plain": [
       "<IPython.core.display.HTML object>"
      ]
     },
     "metadata": {},
     "output_type": "display_data"
    }
   ],
   "source": [
    "%%HTML output\n",
    "<p>{{output}}</p>"
   ]
  },
  {
   "cell_type": "code",
   "execution_count": 23,
   "metadata": {
    "ExecuteTime": {
     "end_time": "2019-04-10T19:43:15.881850Z",
     "start_time": "2019-04-10T19:43:15.769242Z"
    }
   },
   "outputs": [
    {
     "name": "stdout",
     "output_type": "stream",
     "text": [
      "['PING google.com (64.233.186.139) 56(84) bytes of data.', '64 bytes from cb-in-f139.1e100.net (64.233.186.139): icmp_seq=1 ttl=47 time=26.2 ms', '', '--- google.com ping statistics ---', '1 packets transmitted, 1 received, 0% packet loss, time 0ms', 'rtt min/avg/max/mdev = 26.207/26.207/26.207/0.000 ms']\n"
     ]
    }
   ],
   "source": [
    "domain = \"google.com\"\n",
    "res = !ping -c 1 {domain}\n",
    "print (res)"
   ]
  },
  {
   "cell_type": "code",
   "execution_count": 24,
   "metadata": {
    "ExecuteTime": {
     "end_time": "2019-04-10T19:43:18.518376Z",
     "start_time": "2019-04-10T19:43:18.329623Z"
    }
   },
   "outputs": [
    {
     "name": "stdout",
     "output_type": "stream",
     "text": [
      "PING google.com (64.233.186.139) 56(84) bytes of data.\r\n",
      "64 bytes from cb-in-f139.1e100.net (64.233.186.139): icmp_seq=1 ttl=47 time=13.5 ms\r\n",
      "\r\n",
      "--- google.com ping statistics ---\r\n",
      "1 packets transmitted, 1 received, 0% packet loss, time 0ms\r\n",
      "rtt min/avg/max/mdev = 13.518/13.518/13.518/0.000 ms\r\n"
     ]
    }
   ],
   "source": [
    "!ping -c 1 {domain}"
   ]
  },
  {
   "cell_type": "code",
   "execution_count": 65,
   "metadata": {
    "ExecuteTime": {
     "end_time": "2019-03-19T18:48:02.926352Z",
     "start_time": "2019-03-19T18:48:02.856730Z"
    }
   },
   "outputs": [
    {
     "name": "stdout",
     "output_type": "stream",
     "text": [
      "This bash script is about google.com\n"
     ]
    }
   ],
   "source": [
    "%%bash -s \"$domain\"\n",
    "\n",
    "echo \"This bash script is about $1\""
   ]
  },
  {
   "cell_type": "markdown",
   "metadata": {},
   "source": [
    "# Creating Your First Notebook\n",
    "In this section, we're going to see how to run and save notebooks, familiarise ourselves with their structure, and understand the interface. We'll become intimate with some core terminology that will steer you towards a practical understanding of how to use Jupyter Notebooks by yourself and set us up for the next section, which steps through an example data analysis and brings everything we learn here to life.\n",
    "\n",
    "## Running Jupyter\n",
    "On Windows, you can run Jupyter via the shortcut Anaconda adds to your start menu, which will open a new tab in your default web browser that should look something like the following screenshot"
   ]
  },
  {
   "cell_type": "markdown",
   "metadata": {},
   "source": [
    "![jupyter-dashboard.jpg](https://raw.githubusercontent.com/fjvarasc/DSPXI/master/figures/jupyter-dashboard.jpeg)\n"
   ]
  },
  {
   "cell_type": "markdown",
   "metadata": {
    "ExecuteTime": {
     "end_time": "2019-03-11T00:04:39.242217Z",
     "start_time": "2019-03-11T00:04:39.134845Z"
    }
   },
   "source": [
    "This isn't a notebook just yet, but don't panic! There's not much to it. This is the Notebook Dashboard, specifically designed for managing your Jupyter Notebooks. Think of it as the launchpad for exploring, editing and creating your notebooks.\n",
    "\n",
    "Be aware that the dashboard will give you access only to the files and sub-folders contained within Jupyter's start-up directory; however, the start-up directory can be changed. It is also possible to start the dashboard on any system via the command prompt (or terminal on Unix systems) by entering the command jupyter notebook; in this case, the current working directory will be the start-up directory.\n",
    "\n",
    "The astute reader may have noticed that the URL for the dashboard is something like __http://localhost:8888/tree__. Localhost is not a website, but indicates that the content is being served from your local machine: your own computer. Jupyter's Notebooks and dashboard are web apps, and Jupyter starts up a local Python server to serve these apps to your web browser, making it essentially platform independent and opening the door to easier sharing on the web.\n",
    "\n",
    "The dashboard's interface is mostly self-explanatory — though we will come back to it briefly later. So what are we waiting for? Browse to the folder in which you would like to create your first notebook, click the \"New\" drop-down button in the top-right and select \"Python 3\" (or the version of your choice)."
   ]
  },
  {
   "cell_type": "markdown",
   "metadata": {},
   "source": [
    "![new-notebook-menu.jpg](https://raw.githubusercontent.com/fjvarasc/DSPXI/master/figures/new-notebook-menu.jpeg)"
   ]
  },
  {
   "cell_type": "markdown",
   "metadata": {},
   "source": [
    "<div class=\"alert alert-success\" role=\"alert\">\n",
    "Hey presto, here we are! Your first Jupyter Notebook will open in new tab — each notebook uses its own tab because you can open multiple notebooks simultaneously. If you switch back to the dashboard, you will see the new file <code>Untitled.ipynb</code> and you should see some green text that tells you your notebook is running.\n",
    "</div>"
   ]
  },
  {
   "cell_type": "markdown",
   "metadata": {
    "ExecuteTime": {
     "start_time": "2019-03-11T00:26:51.472Z"
    }
   },
   "source": [
    "## What is an ipynb File?\n",
    "It will be useful to understand what this file really is. Each <code>.ipynb</code> file is a text file that describes the contents of your notebook in a format called __[JSON](https://en.wikipedia.org/wiki/JSON)__. Each cell and its contents, including image attachments that have been converted into strings of text, is listed therein along with some **[metadata](https://ipython.org/ipython-doc/3/notebook/nbformat.html#metadata)**. You can edit this yourself — if you know what you are doing! — by selecting \"Edit > Edit Notebook Metadata\" from the menu bar in the notebook.\n",
    "\n",
    "You can also view the contents of your notebook files by selecting \"Edit\" from the controls on the dashboard, but the keyword here is \"can\"; there's no reason other than curiosity to do so unless you really know what you are doing.\n",
    "\n",
    "## The notebook interface\n",
    "Now that you have an open notebook in front of you, its interface will hopefully not look entirely alien; after all, Jupyter is essentially just an advanced word processor. Why not take a look around? Check out the menus to get a feel for it, especially take a few moments to scroll down the list of commands in the command palette, which is the small button with the keyboard icon (or <code>Ctrl + Shift + P</code>).\n"
   ]
  },
  {
   "cell_type": "markdown",
   "metadata": {},
   "source": [
    "![new-notebook.jpg](https://raw.githubusercontent.com/fjvarasc/DSPXI/master/figures/new-notebook.jpeg)"
   ]
  },
  {
   "cell_type": "markdown",
   "metadata": {},
   "source": [
    "There are two fairly prominent terms that you should notice, which are probably new to you: cells and kernels are key both to understanding Jupyter and to what makes it more than just a word processor. Fortunately, these concepts are not difficult to understand.\n",
    "\n",
    "- A kernel is a \"computational engine\" that executes the code contained in a notebook document.\n",
    "- A cell is a container for text to be displayed in the notebook or code to be executed by the notebook's kernel."
   ]
  },
  {
   "cell_type": "markdown",
   "metadata": {},
   "source": [
    "## Cells\n",
    "We'll return to kernels a little later, but first let's come to grips with cells. Cells form the body of a notebook. In the screenshot of a new notebook in the section above, that box with the green outline is an empty cell. There are two main cell types that we will cover:\n",
    "\n",
    "> - A **code cell** contains code to be executed in the kernel and displays its output below.\n",
    "> - A **Markdown** cell contains text formatted using Markdown and displays its output in-place when it is run.\n",
    "The first cell in a new notebook is always a code cell. Let's test it out with a classic hello world example. Type <code>print('Hello World!')</code> into the cell and click the run button Notebook Run Button in the toolbar above or press <code>Ctrl + Enter</code>. The result should look like this:"
   ]
  },
  {
   "cell_type": "code",
   "execution_count": 66,
   "metadata": {
    "ExecuteTime": {
     "end_time": "2019-03-19T18:48:03.955523Z",
     "start_time": "2019-03-19T18:48:03.937291Z"
    }
   },
   "outputs": [
    {
     "name": "stdout",
     "output_type": "stream",
     "text": [
      "Hello World!\n"
     ]
    }
   ],
   "source": [
    "#Code Cell\n",
    "print('Hello World!')"
   ]
  },
  {
   "cell_type": "markdown",
   "metadata": {
    "ExecuteTime": {
     "end_time": "2019-03-11T00:56:51.407329Z",
     "start_time": "2019-03-11T00:56:51.292924Z"
    }
   },
   "source": [
    "<div class=\"alert alert-success\" role=\"alert\">\n",
    "When you ran the cell, its output will have been displayed below and the label to its left will have changed from <code>In [ ]</code> to <code>In [1]</code>. \n",
    "<br>\n",
    "The output of a code cell also forms part of the document, which is why you can see it in this article. You can always tell the difference between code and Markdown cells because code cells have that label on the left and Markdown cells do not. The \"In\" part of the label is simply short for \"Input,\" while the label number indicates when the cell was executed on the kernel — in this case the cell was executed first. Run the cell again and the label will change to <code>In [2]</code> because now the cell was the second to be run on the kernel. It will become clearer why this is so useful later on when we take a closer look at kernels.\n",
    "\n",
    "From the menu bar, click *Insert* and select *Insert Cell* Below to create a new code cell underneath your first and try out the following code to see what happens. Do you notice anything different?\n",
    "</div>"
   ]
  },
  {
   "cell_type": "code",
   "execution_count": 67,
   "metadata": {
    "ExecuteTime": {
     "end_time": "2019-03-19T18:48:07.686906Z",
     "start_time": "2019-03-19T18:48:04.256299Z"
    }
   },
   "outputs": [],
   "source": [
    "import time\n",
    "time.sleep(3)"
   ]
  },
  {
   "cell_type": "markdown",
   "metadata": {},
   "source": [
    "This cell doesn't produce any output, but it does take three seconds to execute. Notice how Jupyter signifies that the cell is currently running by changing its label to `In [*]`.\n",
    "\n",
    "In general, the output of a cell comes from any text data specifically printed during the cells execution, as well as the value of the last line in the cell, be it a lone variable, a function call, or something else. For example:"
   ]
  },
  {
   "cell_type": "code",
   "execution_count": 68,
   "metadata": {
    "ExecuteTime": {
     "end_time": "2019-03-19T18:48:07.742072Z",
     "start_time": "2019-03-19T18:48:07.700956Z"
    }
   },
   "outputs": [
    {
     "data": {
      "text/plain": [
       "'Hello, Tim!'"
      ]
     },
     "execution_count": 68,
     "metadata": {},
     "output_type": "execute_result"
    }
   ],
   "source": [
    "def say_hello(recipient):\n",
    "    return 'Hello, {}!'.format(recipient)\n",
    "\n",
    "say_hello('Tim')"
   ]
  },
  {
   "cell_type": "markdown",
   "metadata": {},
   "source": [
    "## Keyboard shortcuts\n",
    "One final thing you may have observed when running your cells is that their border turned <font color='blue'>blue</font>, whereas it was <font color='green'>green</font> while you were editing. There is always one \"active\" cell highlighted with a border whose colour denotes its current mode, where <font color='green'>green</font> means \"edit mode\" and <font color='blue'>blue</font> is \"command mode.\"\n",
    "\n",
    "So far we have seen how to run a cell with `Ctrl + Enter`, but there are plenty more. Keyboard shortcuts are a very popular aspect of the Jupyter environment because they facilitate a speedy cell-based workflow. Many of these are actions you can carry out on the active cell when it's in command mode.\n",
    "\n",
    "Below, you'll find a list of some of Jupyter's keyboard shortcuts. You're not expected to pick them up immediately, but the list should give you a good idea of what's possible.\n",
    "\n",
    "- Toggle between edit and command mode with `Esc` and `Enter`, respectively.\n",
    "- Once in command mode:\n",
    "    - Scroll up and down your cells with your `Up` and `Down` keys.\n",
    "    - Press `A` or `B` to insert a new cell above or below the active cell.\n",
    "    - `M` will transform the active cell to a Markdown cell.\n",
    "    - `Y` will set the active cell to a code cell.\n",
    "    - `D + D (`D` twice) will delete the active cell.\n",
    "    - `Z will undo cell deletion.\n",
    "    - Hold `Shift` and press `Up` or `Down` to select multiple cells at once.\n",
    "        - With multple cells selected, `Shift + M` will merge your selection.\n",
    "    - `Ctrl + Shift + -`, in edit mode, will split the active cell at the cursor.\n",
    "    - You can also click and `Shift + Click` in the margin to the left of your cells to select them.\n",
    "\n",
    "Go ahead and try these out in your own notebook. Once you've had a play, create a new Markdown cell and we'll learn how to format the text in our notebooks.\n",
    "\n",
    "## Markdown\n",
    "**[Markdown](https://www.markdownguide.org/)** is a lightweight, easy to learn markup language for formatting plain text. Its syntax has a one-to-one correspondance with HTML tags, so some prior knowledge here would be helpful but is definitely not a prerequisite. Remember that this article was written in a Jupyter notebook, so all of the narrative text and images you have seen so far was achieved in Markdown. Let's cover the basics with a quick example."
   ]
  },
  {
   "cell_type": "markdown",
   "metadata": {},
   "source": [
    "# This is a level 1 heading\n",
    "## This is a level 2 heading\n",
    "This is some plain text that forms a paragraph.\n",
    "Add emphasis via **bold** and __bold__, or *italic* and _italic_.\n",
    "\n",
    "Paragraphs must be separated by an empty line.\n",
    "\n",
    "* Sometimes we want to include lists.\n",
    " * Which can be indented.\n",
    "\n",
    "1. Lists can also be numbered.\n",
    "2. For ordered lists.\n",
    "\n",
    "*[It is possible to include hyperlinks](https://www.example.com)*\n",
    "\n",
    "Inline code uses single backticks: `foo()`, and code blocks use triple backticks:\n",
    "\n",
    "```\n",
    "bar()\n",
    "```\n",
    "\n",
    "Or can be intented by 4 spaces:\n",
    "\n",
    "    foo()\n",
    "\n",
    "And finally, adding images is easy: ![Alt text](https://github.com/adam-p/markdown-here/raw/master/src/common/images/icon48.png)\n",
    "\n",
    "Line\n",
    "***\n",
    "\n",
    "<font size=\"5\">Change Font Size</font>\n",
    "\n",
    "Change <font color='red'>Text</font> Color"
   ]
  },
  {
   "cell_type": "markdown",
   "metadata": {},
   "source": [
    "When attaching images, you have three options:\n",
    "\n",
    "- Use a URL to an image on the web.\n",
    "- Use a local URL to an image that you will be keeping alongside your notebook, such as in the same git repo.\n",
    "- Add an attachment via \"Edit > Insert Image\"; this will convert the image into a string and store it inside your notebook `.ipynb` file.\n",
    "- Note that this will make your `.ipynb` file much larger!\n",
    "\n",
    "There is plenty more detail to Markdown, especially around hyperlinking, and it's also possible to simply include plain HTML. Once you find yourself pushing the limits of the basics above, you can refer to the **[official guide](https://daringfireball.net/projects/markdown/syntax)** from the creator, John Gruber, on his website.\n",
    "\n",
    "Kernels\n",
    "Behind every notebook runs a kernel. When you run a code cell, that code is executed within the kernel and any output is returned back to the cell to be displayed. The kernel's state persists over time and between cells — it pertains to the document as a whole and not individual cells.\n",
    "\n",
    "For example, if you import libraries or declare variables in one cell, they will be available in another. In this way, you can think of a notebook document as being somewhat comparable to a script file, except that it is multimedia. Let's try this out to get a feel for it. First, we'll import a Python package and define a function."
   ]
  },
  {
   "cell_type": "code",
   "execution_count": 69,
   "metadata": {
    "ExecuteTime": {
     "end_time": "2019-03-19T18:48:07.837122Z",
     "start_time": "2019-03-19T18:48:07.758609Z"
    }
   },
   "outputs": [],
   "source": [
    "import numpy as np\n",
    "\n",
    "def square(x):\n",
    "    return x * x"
   ]
  },
  {
   "cell_type": "markdown",
   "metadata": {},
   "source": [
    "Once we've executed the cell above, we can reference np and square in any other cell."
   ]
  },
  {
   "cell_type": "code",
   "execution_count": 70,
   "metadata": {
    "ExecuteTime": {
     "end_time": "2019-03-19T18:48:08.220851Z",
     "start_time": "2019-03-19T18:48:07.855594Z"
    }
   },
   "outputs": [
    {
     "name": "stdout",
     "output_type": "stream",
     "text": [
      "7 squared is 49\n"
     ]
    }
   ],
   "source": [
    "x = np.random.randint(1, 10)\n",
    "y = square(x)\n",
    "\n",
    "print('%d squared is %d' % (x, y))"
   ]
  },
  {
   "cell_type": "markdown",
   "metadata": {},
   "source": [
    "This will work regardless of the order of the cells in your notebook. You can try it yourself, let's print out our variables again."
   ]
  },
  {
   "cell_type": "code",
   "execution_count": 71,
   "metadata": {
    "ExecuteTime": {
     "end_time": "2019-03-19T18:48:08.322037Z",
     "start_time": "2019-03-19T18:48:08.235505Z"
    }
   },
   "outputs": [
    {
     "name": "stdout",
     "output_type": "stream",
     "text": [
      "Is 7 squared is 49?\n"
     ]
    }
   ],
   "source": [
    "print('Is %d squared is %d?' % (x, y))"
   ]
  },
  {
   "cell_type": "markdown",
   "metadata": {},
   "source": [
    "No surprises here! But now let's change `y`."
   ]
  },
  {
   "cell_type": "code",
   "execution_count": 72,
   "metadata": {
    "ExecuteTime": {
     "end_time": "2019-03-19T18:48:08.421775Z",
     "start_time": "2019-03-19T18:48:08.336413Z"
    }
   },
   "outputs": [],
   "source": [
    "y = 10"
   ]
  },
  {
   "cell_type": "markdown",
   "metadata": {},
   "source": [
    "What do you think will happen if we run the cell containing our `print` statement again? notice the difference?\n",
    "\n",
    "Most of the time, the flow in your notebook will be top-to-bottom, but it's common to go back to make changes. In this case, the order of execution stated to the left of each cell, such as `In [6]`, will let you know whether any of your cells have stale output. And if you ever wish to reset things, there are several incredibly useful options from the Kernel menu:\n",
    "\n",
    "- Restart: restarts the kernel, thus clearing all the variables etc that were defined.\n",
    "- Restart & Clear Output: same as above but will also wipe the output displayed below your code cells.\n",
    "- Restart & Run All: same as above but will also run all your cells in order from first to last.\n",
    "\n",
    "If your kernel is ever stuck on a computation and you wish to stop it, you can choose the Interupt option.\n",
    "\n",
    "## Choosing a kernel\n",
    "You may have noticed that Jupyter gives you the option to change kernel, and in fact there are many different options to choose from. Back when you created a new notebook from the dashboard by selecting a Python version, you were actually choosing which kernel to use.\n",
    "\n",
    "Not only are there kernels for different versions of Python, but also for **[over 100 languages](https://github.com/jupyter/jupyter/wiki/Jupyter-kernels)** including Java, C, and even Fortran. Data scientists may be particularly interested in the kernels for **[R](https://irkernel.github.io/)** and **[Julia](https://github.com/JuliaLang/IJulia.jl)**, as well as both **[imatlab](https://github.com/imatlab/imatlab)** and the **[Calysto MATLAB Kerne](https://github.com/calysto/matlab_kernel)** for Matlab. The **[SoS kernel](https://github.com/vatlab/SOS)** provides multi-language support within a single notebook. Each kernel has its own installation instructions, but will likely require you to run some commands on your computer.\n",
    "\n",
    "# Example analysis\n",
    "Now we've looked at what a Jupyter Notebook is, it's time to look at how they're used in practice, which should give you a clearer understanding of why they are so popular. It's finally time to get started with that Fortune 500 data set mentioned earlier. Remember, our goal is to find out how the profits of the largest companies in the US changed historically.\n",
    "\n",
    "It's worth noting that everyone will develop their own preferences and style, but the general principles still apply, and you can follow along with this section in your own notebook if you wish, which gives you the scope to play around.\n",
    "\n",
    "## Naming your notebooks\n",
    "Before you start writing your project, you'll probably want to give it a meaningful name. Perhaps somewhat confusingly, you cannot name or rename your notebooks from the notebook app itself, but must use either the dashboard or your file browser to rename the `.ipynb` file. We'll head back to the dashboard to rename the file you created earlier, which will have the default notebook file name `Untitled.ipyn`\n",
    ".\n",
    "\n",
    "You cannot rename a notebook while it is running, so you've first got to shut it down. The easiest way to do this is to select \"File > Close and Halt\" from the notebook menu. However, you can also shutdown the kernel either by going to \"Kernel > Shutdown\" from within the notebook app or by selecting the notebook in the dashboard and clicking \"Shutdown\" (see image below).\n"
   ]
  },
  {
   "cell_type": "markdown",
   "metadata": {},
   "source": [
    "![notebook-running.jpg](https://raw.githubusercontent.com/fjvarasc/DSPXI/master/figures/notebook-running.jpeg)"
   ]
  },
  {
   "cell_type": "markdown",
   "metadata": {},
   "source": [
    "You can then select your notebook and and click \"Rename\" in the dashboard controls."
   ]
  },
  {
   "cell_type": "markdown",
   "metadata": {},
   "source": [
    "![notebook-controls.jpg](https://raw.githubusercontent.com/fjvarasc/DSPXI/master/figures/notebook-controls.jpeg)"
   ]
  },
  {
   "cell_type": "markdown",
   "metadata": {},
   "source": [
    "<div class=\"alert alert-danger\" role=\"alert\">\n",
    "Note that closing the notebook tab in your browser will <b>NOT</b> \"close\" your notebook in the way closing a document in a traditional application will. The notebook's kernel will continue to run in the background and needs to be shut down before it is truly \"closed\" — though this is pretty handy if you accidentally close your tab or browser! If the kernel is shut down, you can close the tab without worrying about whether it is still running or not.\n",
    "<br><br>\n",
    "Once you've named your notebook, open it back up and we'll get going.\n",
    "<div>"
   ]
  },
  {
   "cell_type": "markdown",
   "metadata": {},
   "source": [
    "## Setup\n",
    "It's common to start off with a code cell specifically for imports and setup, so that if you choose to add or change anything, you can simply edit and re-run the cell without causing any side-effects."
   ]
  },
  {
   "cell_type": "code",
   "execution_count": 73,
   "metadata": {
    "ExecuteTime": {
     "end_time": "2019-03-19T18:48:17.916810Z",
     "start_time": "2019-03-19T18:48:08.482776Z"
    }
   },
   "outputs": [],
   "source": [
    "%matplotlib inline\n",
    "\n",
    "import pandas as pd\n",
    "import matplotlib.pyplot as plt\n",
    "import seaborn as sns\n",
    "\n",
    "sns.set(style=\"darkgrid\")"
   ]
  },
  {
   "cell_type": "markdown",
   "metadata": {},
   "source": [
    "We import __[pandas](https://pandas.pydata.org/)__ to work with our data, __[Matplotlib](https://matplotlib.org/)__ to plot charts, and **[Seaborn](https://seaborn.pydata.org/)** to make our charts prettier. It's also common to import **[NumPy](http://www.numpy.org/)** but in this case, although we use it via pandas, we don't need to explicitly. And that first line isn't a Python command, but uses something called a line magic to instruct Jupyter to capture Matplotlib plots and render them in the cell output; this is one of a range of advanced features that are out of the scope of this article.\n",
    "\n",
    "Let's go ahead and load our data."
   ]
  },
  {
   "cell_type": "code",
   "execution_count": 74,
   "metadata": {
    "ExecuteTime": {
     "end_time": "2019-03-19T18:48:20.920244Z",
     "start_time": "2019-03-19T18:48:17.973238Z"
    }
   },
   "outputs": [],
   "source": [
    "df = pd.read_csv('https://raw.githubusercontent.com/fjvarasc/DSPXI/master/data/fortune500.csv')"
   ]
  },
  {
   "cell_type": "markdown",
   "metadata": {
    "ExecuteTime": {
     "end_time": "2019-03-11T23:01:20.335600Z",
     "start_time": "2019-03-11T23:01:20.213638Z"
    }
   },
   "source": [
    "It's sensible to also do this in a single cell in case we need to reload it at any point.\n",
    "\n",
    "## Save and Checkpoint\n",
    "Now we've got started, it's best practice to save regularly. Pressing `Ctrl + S` will save your notebook by calling the \"Save and Checkpoint\" command, but what this checkpoint thing?\n",
    "\n",
    "Every time you create a new notebook, a checkpoint file is created as well as your notebook file; it will be located within a hidden subdirectory of your save location called `.ipynb_checkpoints` and is also a `.ipynb` file. By default, Jupyter will autosave your notebook every 120 seconds to this checkpoint file without altering your primary notebook file. When you \"Save and Checkpoint,\" both the notebook and checkpoint files are updated. Hence, the checkpoint enables you to recover your unsaved work in the event of an unexpected issue. You can revert to the checkpoint from the menu via \"File > Revert to Checkpoint.\"\n",
    "\n",
    "## Investigating our data set\n",
    "Now we're really rolling! Our notebook is safely saved and we've loaded our data set `df` into the most-used pandas data structure, which is called a `DataFrame` and basically looks like a table. What does ours look like?"
   ]
  },
  {
   "cell_type": "code",
   "execution_count": 75,
   "metadata": {
    "ExecuteTime": {
     "end_time": "2019-03-19T18:48:21.446111Z",
     "start_time": "2019-03-19T18:48:20.934402Z"
    }
   },
   "outputs": [
    {
     "data": {
      "text/html": [
       "<div>\n",
       "<style scoped>\n",
       "    .dataframe tbody tr th:only-of-type {\n",
       "        vertical-align: middle;\n",
       "    }\n",
       "\n",
       "    .dataframe tbody tr th {\n",
       "        vertical-align: top;\n",
       "    }\n",
       "\n",
       "    .dataframe thead th {\n",
       "        text-align: right;\n",
       "    }\n",
       "</style>\n",
       "<table border=\"1\" class=\"dataframe\">\n",
       "  <thead>\n",
       "    <tr style=\"text-align: right;\">\n",
       "      <th></th>\n",
       "      <th>Year</th>\n",
       "      <th>Rank</th>\n",
       "      <th>Company</th>\n",
       "      <th>Revenue (in millions)</th>\n",
       "      <th>Profit (in millions)</th>\n",
       "    </tr>\n",
       "  </thead>\n",
       "  <tbody>\n",
       "    <tr>\n",
       "      <th>0</th>\n",
       "      <td>1955</td>\n",
       "      <td>1</td>\n",
       "      <td>General Motors</td>\n",
       "      <td>9823.5</td>\n",
       "      <td>806</td>\n",
       "    </tr>\n",
       "    <tr>\n",
       "      <th>1</th>\n",
       "      <td>1955</td>\n",
       "      <td>2</td>\n",
       "      <td>Exxon Mobil</td>\n",
       "      <td>5661.4</td>\n",
       "      <td>584.8</td>\n",
       "    </tr>\n",
       "    <tr>\n",
       "      <th>2</th>\n",
       "      <td>1955</td>\n",
       "      <td>3</td>\n",
       "      <td>U.S. Steel</td>\n",
       "      <td>3250.4</td>\n",
       "      <td>195.4</td>\n",
       "    </tr>\n",
       "    <tr>\n",
       "      <th>3</th>\n",
       "      <td>1955</td>\n",
       "      <td>4</td>\n",
       "      <td>General Electric</td>\n",
       "      <td>2959.1</td>\n",
       "      <td>212.6</td>\n",
       "    </tr>\n",
       "    <tr>\n",
       "      <th>4</th>\n",
       "      <td>1955</td>\n",
       "      <td>5</td>\n",
       "      <td>Esmark</td>\n",
       "      <td>2510.8</td>\n",
       "      <td>19.1</td>\n",
       "    </tr>\n",
       "  </tbody>\n",
       "</table>\n",
       "</div>"
      ],
      "text/plain": [
       "   Year  Rank           Company  Revenue (in millions) Profit (in millions)\n",
       "0  1955     1    General Motors                 9823.5                  806\n",
       "1  1955     2       Exxon Mobil                 5661.4                584.8\n",
       "2  1955     3        U.S. Steel                 3250.4                195.4\n",
       "3  1955     4  General Electric                 2959.1                212.6\n",
       "4  1955     5            Esmark                 2510.8                 19.1"
      ]
     },
     "execution_count": 75,
     "metadata": {},
     "output_type": "execute_result"
    }
   ],
   "source": [
    "df.head()"
   ]
  },
  {
   "cell_type": "code",
   "execution_count": 76,
   "metadata": {
    "ExecuteTime": {
     "end_time": "2019-03-19T18:48:21.523522Z",
     "start_time": "2019-03-19T18:48:21.459880Z"
    }
   },
   "outputs": [
    {
     "data": {
      "text/html": [
       "<div>\n",
       "<style scoped>\n",
       "    .dataframe tbody tr th:only-of-type {\n",
       "        vertical-align: middle;\n",
       "    }\n",
       "\n",
       "    .dataframe tbody tr th {\n",
       "        vertical-align: top;\n",
       "    }\n",
       "\n",
       "    .dataframe thead th {\n",
       "        text-align: right;\n",
       "    }\n",
       "</style>\n",
       "<table border=\"1\" class=\"dataframe\">\n",
       "  <thead>\n",
       "    <tr style=\"text-align: right;\">\n",
       "      <th></th>\n",
       "      <th>Year</th>\n",
       "      <th>Rank</th>\n",
       "      <th>Company</th>\n",
       "      <th>Revenue (in millions)</th>\n",
       "      <th>Profit (in millions)</th>\n",
       "    </tr>\n",
       "  </thead>\n",
       "  <tbody>\n",
       "    <tr>\n",
       "      <th>25495</th>\n",
       "      <td>2005</td>\n",
       "      <td>496</td>\n",
       "      <td>Wm. Wrigley Jr.</td>\n",
       "      <td>3648.6</td>\n",
       "      <td>493</td>\n",
       "    </tr>\n",
       "    <tr>\n",
       "      <th>25496</th>\n",
       "      <td>2005</td>\n",
       "      <td>497</td>\n",
       "      <td>Peabody Energy</td>\n",
       "      <td>3631.6</td>\n",
       "      <td>175.4</td>\n",
       "    </tr>\n",
       "    <tr>\n",
       "      <th>25497</th>\n",
       "      <td>2005</td>\n",
       "      <td>498</td>\n",
       "      <td>Wendy's International</td>\n",
       "      <td>3630.4</td>\n",
       "      <td>57.8</td>\n",
       "    </tr>\n",
       "    <tr>\n",
       "      <th>25498</th>\n",
       "      <td>2005</td>\n",
       "      <td>499</td>\n",
       "      <td>Kindred Healthcare</td>\n",
       "      <td>3616.6</td>\n",
       "      <td>70.6</td>\n",
       "    </tr>\n",
       "    <tr>\n",
       "      <th>25499</th>\n",
       "      <td>2005</td>\n",
       "      <td>500</td>\n",
       "      <td>Cincinnati Financial</td>\n",
       "      <td>3614.0</td>\n",
       "      <td>584</td>\n",
       "    </tr>\n",
       "  </tbody>\n",
       "</table>\n",
       "</div>"
      ],
      "text/plain": [
       "       Year  Rank                Company  Revenue (in millions)  \\\n",
       "25495  2005   496        Wm. Wrigley Jr.                 3648.6   \n",
       "25496  2005   497         Peabody Energy                 3631.6   \n",
       "25497  2005   498  Wendy's International                 3630.4   \n",
       "25498  2005   499     Kindred Healthcare                 3616.6   \n",
       "25499  2005   500   Cincinnati Financial                 3614.0   \n",
       "\n",
       "      Profit (in millions)  \n",
       "25495                  493  \n",
       "25496                175.4  \n",
       "25497                 57.8  \n",
       "25498                 70.6  \n",
       "25499                  584  "
      ]
     },
     "execution_count": 76,
     "metadata": {},
     "output_type": "execute_result"
    }
   ],
   "source": [
    "df.tail()"
   ]
  },
  {
   "cell_type": "markdown",
   "metadata": {
    "ExecuteTime": {
     "end_time": "2019-03-11T23:27:15.708900Z",
     "start_time": "2019-03-11T23:27:15.658592Z"
    }
   },
   "source": [
    "Looking good. We have the columns we need, and each row corresponds to a single company in a single year.\n",
    "\n",
    "Let's just rename those columns so we can refer to them later."
   ]
  },
  {
   "cell_type": "code",
   "execution_count": 77,
   "metadata": {
    "ExecuteTime": {
     "end_time": "2019-03-19T18:48:21.607576Z",
     "start_time": "2019-03-19T18:48:21.534215Z"
    }
   },
   "outputs": [],
   "source": [
    "df.columns = ['year', 'rank', 'company', 'revenue', 'profit']"
   ]
  },
  {
   "cell_type": "markdown",
   "metadata": {},
   "source": [
    "Next, we need to explore our data set. Is it complete? Did pandas read it as expected? Are any values missing?"
   ]
  },
  {
   "cell_type": "code",
   "execution_count": 78,
   "metadata": {
    "ExecuteTime": {
     "end_time": "2019-03-19T18:48:21.725205Z",
     "start_time": "2019-03-19T18:48:21.619879Z"
    }
   },
   "outputs": [
    {
     "data": {
      "text/plain": [
       "25500"
      ]
     },
     "execution_count": 78,
     "metadata": {},
     "output_type": "execute_result"
    }
   ],
   "source": [
    "len(df)"
   ]
  },
  {
   "cell_type": "markdown",
   "metadata": {},
   "source": [
    "Okay, that looks good — that's 500 rows for every year from 1955 to 2005, inclusive.\n",
    "\n",
    "Let's check whether our data set has been imported as we would expect. A simple check is to see if the data types (or dtypes) have been correctly interpreted."
   ]
  },
  {
   "cell_type": "code",
   "execution_count": 79,
   "metadata": {
    "ExecuteTime": {
     "end_time": "2019-03-19T18:48:21.823781Z",
     "start_time": "2019-03-19T18:48:21.738847Z"
    }
   },
   "outputs": [
    {
     "data": {
      "text/plain": [
       "year         int64\n",
       "rank         int64\n",
       "company     object\n",
       "revenue    float64\n",
       "profit      object\n",
       "dtype: object"
      ]
     },
     "execution_count": 79,
     "metadata": {},
     "output_type": "execute_result"
    }
   ],
   "source": [
    "df.dtypes"
   ]
  },
  {
   "cell_type": "markdown",
   "metadata": {},
   "source": [
    "Uh oh. It looks like there's something wrong with the profits column — we would expect it to be a `float64` like the revenue column. This indicates that it probably contains some non-integer values, so let's take a look."
   ]
  },
  {
   "cell_type": "code",
   "execution_count": 80,
   "metadata": {
    "ExecuteTime": {
     "end_time": "2019-03-19T18:48:22.222720Z",
     "start_time": "2019-03-19T18:48:21.845962Z"
    }
   },
   "outputs": [
    {
     "data": {
      "text/html": [
       "<div>\n",
       "<style scoped>\n",
       "    .dataframe tbody tr th:only-of-type {\n",
       "        vertical-align: middle;\n",
       "    }\n",
       "\n",
       "    .dataframe tbody tr th {\n",
       "        vertical-align: top;\n",
       "    }\n",
       "\n",
       "    .dataframe thead th {\n",
       "        text-align: right;\n",
       "    }\n",
       "</style>\n",
       "<table border=\"1\" class=\"dataframe\">\n",
       "  <thead>\n",
       "    <tr style=\"text-align: right;\">\n",
       "      <th></th>\n",
       "      <th>year</th>\n",
       "      <th>rank</th>\n",
       "      <th>company</th>\n",
       "      <th>revenue</th>\n",
       "      <th>profit</th>\n",
       "    </tr>\n",
       "  </thead>\n",
       "  <tbody>\n",
       "    <tr>\n",
       "      <th>228</th>\n",
       "      <td>1955</td>\n",
       "      <td>229</td>\n",
       "      <td>Norton</td>\n",
       "      <td>135.0</td>\n",
       "      <td>N.A.</td>\n",
       "    </tr>\n",
       "    <tr>\n",
       "      <th>290</th>\n",
       "      <td>1955</td>\n",
       "      <td>291</td>\n",
       "      <td>Schlitz Brewing</td>\n",
       "      <td>100.0</td>\n",
       "      <td>N.A.</td>\n",
       "    </tr>\n",
       "    <tr>\n",
       "      <th>294</th>\n",
       "      <td>1955</td>\n",
       "      <td>295</td>\n",
       "      <td>Pacific Vegetable Oil</td>\n",
       "      <td>97.9</td>\n",
       "      <td>N.A.</td>\n",
       "    </tr>\n",
       "    <tr>\n",
       "      <th>296</th>\n",
       "      <td>1955</td>\n",
       "      <td>297</td>\n",
       "      <td>Liebmann Breweries</td>\n",
       "      <td>96.0</td>\n",
       "      <td>N.A.</td>\n",
       "    </tr>\n",
       "    <tr>\n",
       "      <th>352</th>\n",
       "      <td>1955</td>\n",
       "      <td>353</td>\n",
       "      <td>Minneapolis-Moline</td>\n",
       "      <td>77.4</td>\n",
       "      <td>N.A.</td>\n",
       "    </tr>\n",
       "  </tbody>\n",
       "</table>\n",
       "</div>"
      ],
      "text/plain": [
       "     year  rank                company  revenue profit\n",
       "228  1955   229                 Norton    135.0   N.A.\n",
       "290  1955   291        Schlitz Brewing    100.0   N.A.\n",
       "294  1955   295  Pacific Vegetable Oil     97.9   N.A.\n",
       "296  1955   297     Liebmann Breweries     96.0   N.A.\n",
       "352  1955   353     Minneapolis-Moline     77.4   N.A."
      ]
     },
     "execution_count": 80,
     "metadata": {},
     "output_type": "execute_result"
    }
   ],
   "source": [
    "non_numberic_profits = df.profit.str.contains('[^0-9.-]')\n",
    "df.loc[non_numberic_profits].head()"
   ]
  },
  {
   "cell_type": "markdown",
   "metadata": {},
   "source": [
    "Just as we suspected! Some of the values are strings, which have been used to indicate missing data. Are there any other values that have crept in?"
   ]
  },
  {
   "cell_type": "code",
   "execution_count": 81,
   "metadata": {
    "ExecuteTime": {
     "end_time": "2019-03-19T18:48:22.267544Z",
     "start_time": "2019-03-19T18:48:22.239261Z"
    }
   },
   "outputs": [
    {
     "data": {
      "text/plain": [
       "{'N.A.'}"
      ]
     },
     "execution_count": 81,
     "metadata": {},
     "output_type": "execute_result"
    }
   ],
   "source": [
    "set(df.profit[non_numberic_profits])"
   ]
  },
  {
   "cell_type": "markdown",
   "metadata": {},
   "source": [
    "That makes it easy to interpret, but what should we do? Well, that depends how many values are missing."
   ]
  },
  {
   "cell_type": "code",
   "execution_count": 82,
   "metadata": {
    "ExecuteTime": {
     "end_time": "2019-03-19T18:48:22.351149Z",
     "start_time": "2019-03-19T18:48:22.279480Z"
    }
   },
   "outputs": [
    {
     "data": {
      "text/plain": [
       "369"
      ]
     },
     "execution_count": 82,
     "metadata": {},
     "output_type": "execute_result"
    }
   ],
   "source": [
    "len(df.profit[non_numberic_profits])"
   ]
  },
  {
   "cell_type": "markdown",
   "metadata": {},
   "source": [
    "It's a small fraction of our data set, though not completely inconsequential as it is still around 1.5%. If rows containing `N.A`\n",
    ". are, roughly, uniformly distributed over the years, the easiest solution would just be to remove them. So let's have a quick look at the distribution."
   ]
  },
  {
   "cell_type": "code",
   "execution_count": 83,
   "metadata": {
    "ExecuteTime": {
     "end_time": "2019-03-19T18:48:25.496992Z",
     "start_time": "2019-03-19T18:48:22.362977Z"
    }
   },
   "outputs": [
    {
     "data": {
      "image/png": "[encoded data removed]",
      "text/plain": [
       "<Figure size 432x288 with 1 Axes>"
      ]
     },
     "metadata": {
      "needs_background": "light"
     },
     "output_type": "display_data"
    }
   ],
   "source": [
    "bin_sizes, _, _ = plt.hist(df.year[non_numberic_profits], bins=range(1955, 2006))"
   ]
  },
  {
   "cell_type": "markdown",
   "metadata": {},
   "source": [
    "At a glance, we can see that the most invalid values in a single year is fewer than 25, and as there are 500 data points per year, removing these values would account for less than 4% of the data for the worst years. Indeed, other than a surge around the 90s, most years have fewer than half the missing values of the peak. For our purposes, let's say this is acceptable and go ahead and remove these rows."
   ]
  },
  {
   "cell_type": "code",
   "execution_count": 84,
   "metadata": {
    "ExecuteTime": {
     "end_time": "2019-03-19T18:48:31.912241Z",
     "start_time": "2019-03-19T18:48:25.509039Z"
    }
   },
   "outputs": [],
   "source": [
    "df = df.loc[~non_numberic_profits]\n",
    "df.profit = df.profit.apply(pd.to_numeric)"
   ]
  },
  {
   "cell_type": "markdown",
   "metadata": {},
   "source": [
    "We should check that worked."
   ]
  },
  {
   "cell_type": "code",
   "execution_count": 85,
   "metadata": {
    "ExecuteTime": {
     "end_time": "2019-03-19T18:48:31.949882Z",
     "start_time": "2019-03-19T18:48:31.925931Z"
    }
   },
   "outputs": [
    {
     "data": {
      "text/plain": [
       "25131"
      ]
     },
     "execution_count": 85,
     "metadata": {},
     "output_type": "execute_result"
    }
   ],
   "source": [
    "len(df)"
   ]
  },
  {
   "cell_type": "code",
   "execution_count": 86,
   "metadata": {
    "ExecuteTime": {
     "end_time": "2019-03-19T18:48:32.045116Z",
     "start_time": "2019-03-19T18:48:31.964989Z"
    }
   },
   "outputs": [
    {
     "data": {
      "text/plain": [
       "year         int64\n",
       "rank         int64\n",
       "company     object\n",
       "revenue    float64\n",
       "profit     float64\n",
       "dtype: object"
      ]
     },
     "execution_count": 86,
     "metadata": {},
     "output_type": "execute_result"
    }
   ],
   "source": [
    "df.dtypes"
   ]
  },
  {
   "cell_type": "markdown",
   "metadata": {},
   "source": [
    "Great! We have finished our data set setup.\n",
    "\n",
    "If you were going to present your notebook as a report, you could get rid of the investigatory cells we created, which are included here as a demonstration of the flow of working with notebooks, and merge relevant cells (see the Advanced Functionality section below for more on this) to create a single data set setup cell. This would mean that if we ever mess up our data set elsewhere, we can just rerun the setup cell to restore it.\n",
    "\n",
    "## Plotting with matplotlib\n",
    "Next, we can get to addressing the question at hand by plotting the average profit by year. We might as well plot the revenue as well, so first we can define some variables and a method to reduce our code."
   ]
  },
  {
   "cell_type": "code",
   "execution_count": 87,
   "metadata": {
    "ExecuteTime": {
     "end_time": "2019-03-19T18:48:32.387630Z",
     "start_time": "2019-03-19T18:48:32.058994Z"
    }
   },
   "outputs": [],
   "source": [
    "group_by_year = df.loc[:, ['year', 'revenue', 'profit']].groupby('year')\n",
    "avgs = group_by_year.mean()\n",
    "x = avgs.index\n",
    "y1 = avgs.profit\n",
    "\n",
    "def plot(x, y, ax, title, y_label):\n",
    "    ax.set_title(title)\n",
    "    ax.set_ylabel(y_label)\n",
    "    ax.plot(x, y)\n",
    "    ax.margins(x=0, y=0)"
   ]
  },
  {
   "cell_type": "markdown",
   "metadata": {},
   "source": [
    "Now let's plot!"
   ]
  },
  {
   "cell_type": "code",
   "execution_count": 88,
   "metadata": {
    "ExecuteTime": {
     "end_time": "2019-03-19T18:48:33.583701Z",
     "start_time": "2019-03-19T18:48:32.399519Z"
    }
   },
   "outputs": [
    {
     "data": {
      "image/png": "[encoded data removed]",
      "text/plain": [
       "<Figure size 432x288 with 1 Axes>"
      ]
     },
     "metadata": {
      "needs_background": "light"
     },
     "output_type": "display_data"
    }
   ],
   "source": [
    "fig, ax = plt.subplots()\n",
    "plot(x, y1, ax, 'Increase in mean Fortune 500 company profits from 1955 to 2005', 'Profit (millions)')"
   ]
  },
  {
   "cell_type": "markdown",
   "metadata": {},
   "source": [
    "Wow, that looks like an exponential, but it's got some huge dips. They must correspond to the **[early 1990s recession](https://en.wikipedia.org/wiki/Early_1990s_recession)** and the **[dot-com bubble](https://en.wikipedia.org/wiki/Dot-com_bubble)**. It's pretty interesting to see that in the data. But how come profits recovered to even higher levels post each recession?\n",
    "\n",
    "Maybe the revenues can tell us more."
   ]
  },
  {
   "cell_type": "code",
   "execution_count": 89,
   "metadata": {
    "ExecuteTime": {
     "end_time": "2019-03-19T18:48:34.801808Z",
     "start_time": "2019-03-19T18:48:33.601796Z"
    }
   },
   "outputs": [
    {
     "data": {
      "image/png": "[encoded data removed]",
      "text/plain": [
       "<Figure size 432x288 with 1 Axes>"
      ]
     },
     "metadata": {
      "needs_background": "light"
     },
     "output_type": "display_data"
    }
   ],
   "source": [
    "y2 = avgs.revenue\n",
    "fig, ax = plt.subplots()\n",
    "plot(x, y2, ax, 'Increase in mean Fortune 500 company revenues from 1955 to 2005', 'Revenue (millions)')"
   ]
  },
  {
   "cell_type": "markdown",
   "metadata": {},
   "source": [
    "That adds another side to the story. Revenues were no way nearly as badly hit, that's some great accounting work from the finance departments.\n",
    "\n",
    "With a little help from **[Stack Overflow](https://stackoverflow.com/a/47582329/604687)**, we can superimpose these plots with +/- their standard deviations."
   ]
  },
  {
   "cell_type": "code",
   "execution_count": 90,
   "metadata": {
    "ExecuteTime": {
     "end_time": "2019-03-19T18:48:37.559245Z",
     "start_time": "2019-03-19T18:48:34.821571Z"
    }
   },
   "outputs": [
    {
     "data": {
      "image/png": "[encoded data removed]",
      "text/plain": [
       "<Figure size 1008x288 with 2 Axes>"
      ]
     },
     "metadata": {
      "needs_background": "light"
     },
     "output_type": "display_data"
    }
   ],
   "source": [
    "def plot_with_std(x, y, stds, ax, title, y_label):\n",
    "    ax.fill_between(x, y - stds, y + stds, alpha=0.2)\n",
    "    plot(x, y, ax, title, y_label)\n",
    "\n",
    "fig, (ax1, ax2) = plt.subplots(ncols=2)\n",
    "title = 'Increase in mean and std Fortune 500 company %s from 1955 to 2005'\n",
    "stds1 = group_by_year.std().profit.values\n",
    "stds2 = group_by_year.std().revenue.values\n",
    "plot_with_std(x, y1.values, stds1, ax1, title % 'profits', 'Profit (millions)')\n",
    "plot_with_std(x, y2.values, stds2, ax2, title % 'revenues', 'Revenue (millions)')\n",
    "fig.set_size_inches(14, 4)\n",
    "fig.tight_layout()"
   ]
  },
  {
   "cell_type": "markdown",
   "metadata": {},
   "source": [
    "That's staggering, the standard deviations are huge. Some Fortune 500 companies make billions while others lose billions, and the risk has increased along with rising profits over the years. Perhaps some companies perform better than others; are the profits of the top 10% more or less volatile than the bottom 10%?\n",
    "\n",
    "There are plenty of questions that we could look into next, and it's easy to see how the flow of working in a notebook matches one's own thought process, so now it's time to draw this example to a close. This flow helped us to easily investigate our data set in one place without context switching between applications, and our work is immediately sharable and reproducible. If we wished to create a more concise report for a particular audience, we could quickly refactor our work by merging cells and removing intermediary code."
   ]
  },
  {
   "cell_type": "markdown",
   "metadata": {},
   "source": [
    "# Sharing your notebooks\n",
    "When people talk of sharing their notebooks, there are generally two paradigms they may be considering. Most often, individuals share the end-result of their work, much like this article itself, which means sharing non-interactive, pre-rendered versions of their notebooks; however, it is also possible to collaborate on notebooks with the aid version control systems such as **[Git](https://git-scm.com/)**.\n",
    "\n",
    "That said, there are **[some](https://mybinder.org/)** nascent **[companies](https://kyso.io/)** popping up on the web offering the ability to run interactive Jupyter Notebooks in the cloud.\n",
    "\n",
    "## Before you share\n",
    "A shared notebook will appear exactly in the state it was in when you export or save it, including the output of any code cells. Therefore, to ensure that your notebook is share-ready, so to speak, there are a few steps you should take before sharing:\n",
    "\n",
    "1. Click \"Cell > All Output > Clear\"\n",
    "2. Click \"Kernel > Restart & Run All\"\n",
    "3. Wait for your code cells to finish executing and check they did so as expected\n",
    "\n",
    "This will ensure your notebooks don't contain intermediary output, have a stale state, and executed in order at the time of sharing.\n",
    "\n",
    "## Exporting your notebooks\n",
    "Jupyter has built-in support for exporting to HTML and PDF as well as several other formats, which you can find from the menu under \"File > Download As.\" If you wish to share your notebooks with a small private group, this functionality may well be all you need. Indeed, as many researchers in academic institutions are given some public or internal webspace, and because you can export a notebook to an HTML file, Jupyter Notebooks can be an especially convenient way for them to share their results with their peers.\n",
    "\n",
    "But if sharing exported files doesn't cut it for you, there are also some immensely popular methods of sharing `.ipynb` files more directly on the web.\n",
    "\n",
    "## GitHub\n",
    "With the **[number of public notebooks on GitHub](https://github.com/parente/nbestimate)** exceeding 1.8 million by early 2018, it is surely the most popular independent platform for sharing Jupyter projects with the world. GitHub has integrated support for rendering `.ipynb` files directly both in repositories and gists on its website. If you aren't already aware, **[GitHub](GitHub)** is a code hosting platform for version control and collaboration for repositories created with **[Git](https://github.com/)**. You'll need an account to use their services, but standard accounts are free.\n",
    "\n",
    "Once you have a GitHub account, the easiest way to share a notebook on GitHub doesn't actually require Git at all. Since 2008, GitHub has provided its Gist service for hosting and sharing code snippets, which each get their own repository. To share a notebook using Gists:\n",
    "\n",
    "1. Sign in and browse to gist.github.com.\n",
    "2. Open your .ipynb file in a text editor, select all and copy the JSON inside.\n",
    "3. Paste the notebook JSON into the gist.\n",
    "4. Give your Gist a filename, remembering to add .iypnb or this will not work.\n",
    "5. Click either \"Create secret gist\" or \"Create public gist.\"\n",
    "\n",
    "This should look something like the following:\n"
   ]
  },
  {
   "cell_type": "markdown",
   "metadata": {},
   "source": [
    "![create-gist.jpg](https://raw.githubusercontent.com/fjvarasc/DSPXI/master/figures/create-gist.jpeg)"
   ]
  },
  {
   "cell_type": "markdown",
   "metadata": {},
   "source": [
    "If you created a public Gist, you will now be able to share its URL with anyone, and others will be able to **[fork and clone](https://help.github.com/articles/forking-and-cloning-gists/)** your work.\n",
    "\n",
    "Creating your own Git repository and sharing this on GitHub is beyond the scope of this tutorial, **[but GitHub provides plenty of guides](https://guides.github.com/)** for you to get started on your own.\n",
    "\n",
    "An extra tip for those using git is to **[add an exception](https://stackoverflow.com/q/35916658/604687)** to your `.gitignore` for those hidden `.ipynb_checkpoints` directories Jupyter creates, so as not to commit checkpoint files unnecessarily to your repo."
   ]
  },
  {
   "cell_type": "markdown",
   "metadata": {},
   "source": [
    "## Nbviewer\n",
    "Having grown to render **[hundreds of thousands](https://blog.jupyter.org/rendering-notebooks-on-github-f7ac8736d686)** of notebooks every week by 2015, NBViewer is the most popular notebook renderer on the web. If you already have somewhere to host your Jupyter Notebooks online, be it GitHub or elsewhere, NBViewer will render your notebook and provide a shareable URL along with it. Provided as a free service as part of Project Jupyter, it is available at **[nbviewer.jupyter.org](https://nbviewer.jupyter.org/)**.\n",
    "\n",
    "Initially developed before GitHub's Jupyter Notebook integration, NBViewer allows anyone to enter a URL, Gist ID, or GitHub username/repo/file and it will render the notebook as a webpage. A Gist's ID is the unique number at the end of its URL; for example, the string of characters after the last backslash in `https://gist.github.com/username/50896401c23e0bf417e89cd57e89e1de`. If you enter a GitHub username or username/repo, you will see a minimal file browser that lets you explore a user's repos and their contents.\n",
    "\n",
    "The URL NBViewer displays when displaying a notebook is a constant based on the URL of the notebook it is rendering, so you can share this with anyone and it will work as long as the original files remain online — NBViewer doesn't cache files for very long.\n"
   ]
  }
 ],
 "metadata": {
  "_draft": {
   "nbviewer_url": "https://gist.github.com/72a2aedfb9adce371cc56bafc96d1fba"
  },
  "gist": {
   "data": {
    "description": "Module1/01 - Intro/01.01_Jupiter_Notebook_Intro.ipynb",
    "public": false
   },
   "id": "72a2aedfb9adce371cc56bafc96d1fba"
  },
  "kernelspec": {
   "display_name": "Python 3",
   "language": "python",
   "name": "dspxi"
  },
  "language_info": {
   "codemirror_mode": {
    "name": "ipython",
    "version": 3
   },
   "file_extension": ".py",
   "mimetype": "text/x-python",
   "name": "python",
   "nbconvert_exporter": "python",
   "pygments_lexer": "ipython3",
   "version": "3.6.8"
  },
  "toc": {
   "base_numbering": 1,
   "nav_menu": {},
   "number_sections": false,
   "sideBar": true,
   "skip_h1_title": false,
   "title_cell": "Table of Contents",
   "title_sidebar": "Jupyter Notebook Intro",
   "toc_cell": true,
   "toc_position": {
    "height": "807px",
    "left": "1277px",
    "top": "118px",
    "width": "336px"
   },
   "toc_section_display": true,
   "toc_window_display": true
  },
  "varInspector": {
   "cols": {
    "lenName": 16,
    "lenType": 16,
    "lenVar": 40
   },
   "kernels_config": {
    "python": {
     "delete_cmd_postfix": "",
     "delete_cmd_prefix": "del ",
     "library": "var_list.py",
     "varRefreshCmd": "print(var_dic_list())"
    },
    "r": {
     "delete_cmd_postfix": ") ",
     "delete_cmd_prefix": "rm(",
     "library": "var_list.r",
     "varRefreshCmd": "cat(var_dic_list()) "
    }
   },
   "types_to_exclude": [
    "module",
    "function",
    "builtin_function_or_method",
    "instance",
    "_Feature"
   ],
   "window_display": false
  }
 },
 "nbformat": 4,
 "nbformat_minor": 2
}
