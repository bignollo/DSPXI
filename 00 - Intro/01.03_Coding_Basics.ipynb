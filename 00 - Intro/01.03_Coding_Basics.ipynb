{
 "cells": [
  {
   "cell_type": "markdown",
   "metadata": {},
   "source": [
    "<img src='https://raw.githubusercontent.com/fjvarasc/DSPXI/master/figures/py_logo.png' />"
   ]
  },
  {
   "cell_type": "markdown",
   "metadata": {
    "toc": true
   },
   "source": [
    "<h1>Table of Contents<span class=\"tocSkip\"></span></h1>\n",
    "<div class=\"toc\"><ul class=\"toc-item\"><li><span><a href=\"#Python-RunTime-Mode\" data-toc-modified-id=\"Python-RunTime-Mode-1\"><span class=\"toc-item-num\">1&nbsp;&nbsp;</span>Python RunTime Mode</a></span><ul class=\"toc-item\"><li><span><a href=\"#Interactive-Mode-Programming\" data-toc-modified-id=\"Interactive-Mode-Programming-1.1\"><span class=\"toc-item-num\">1.1&nbsp;&nbsp;</span>Interactive Mode Programming</a></span></li><li><span><a href=\"#Script-Mode-Programming\" data-toc-modified-id=\"Script-Mode-Programming-1.2\"><span class=\"toc-item-num\">1.2&nbsp;&nbsp;</span>Script Mode Programming</a></span></li><li><span><a href=\"#Python-Identifiers\" data-toc-modified-id=\"Python-Identifiers-1.3\"><span class=\"toc-item-num\">1.3&nbsp;&nbsp;</span>Python Identifiers</a></span></li><li><span><a href=\"#Reserved-Words\" data-toc-modified-id=\"Reserved-Words-1.4\"><span class=\"toc-item-num\">1.4&nbsp;&nbsp;</span>Reserved Words</a></span></li><li><span><a href=\"#Lines-and-Indentation\" data-toc-modified-id=\"Lines-and-Indentation-1.5\"><span class=\"toc-item-num\">1.5&nbsp;&nbsp;</span>Lines and Indentation</a></span></li><li><span><a href=\"#Multi-Line-Statements\" data-toc-modified-id=\"Multi-Line-Statements-1.6\"><span class=\"toc-item-num\">1.6&nbsp;&nbsp;</span>Multi-Line Statements</a></span></li><li><span><a href=\"#Quotation-in-Python\" data-toc-modified-id=\"Quotation-in-Python-1.7\"><span class=\"toc-item-num\">1.7&nbsp;&nbsp;</span>Quotation in Python</a></span></li><li><span><a href=\"#Comments-in-Python\" data-toc-modified-id=\"Comments-in-Python-1.8\"><span class=\"toc-item-num\">1.8&nbsp;&nbsp;</span>Comments in Python</a></span></li><li><span><a href=\"#Waiting-for-the-User\" data-toc-modified-id=\"Waiting-for-the-User-1.9\"><span class=\"toc-item-num\">1.9&nbsp;&nbsp;</span>Waiting for the User</a></span></li><li><span><a href=\"#Multiple-Statements-on-a-Single-Line\" data-toc-modified-id=\"Multiple-Statements-on-a-Single-Line-1.10\"><span class=\"toc-item-num\">1.10&nbsp;&nbsp;</span>Multiple Statements on a Single Line</a></span></li></ul></li><li><span><a href=\"#Variables\" data-toc-modified-id=\"Variables-2\"><span class=\"toc-item-num\">2&nbsp;&nbsp;</span>Variables</a></span></li><li><span><a href=\"#Operators\" data-toc-modified-id=\"Operators-3\"><span class=\"toc-item-num\">3&nbsp;&nbsp;</span>Operators</a></span><ul class=\"toc-item\"><li><span><a href=\"#Arithmetic-Ops\" data-toc-modified-id=\"Arithmetic-Ops-3.1\"><span class=\"toc-item-num\">3.1&nbsp;&nbsp;</span>Arithmetic Ops</a></span></li></ul></li><li><span><a href=\"#Relational-Operators\" data-toc-modified-id=\"Relational-Operators-4\"><span class=\"toc-item-num\">4&nbsp;&nbsp;</span>Relational Operators</a></span></li><li><span><a href=\"#Bitwise-Operators\" data-toc-modified-id=\"Bitwise-Operators-5\"><span class=\"toc-item-num\">5&nbsp;&nbsp;</span>Bitwise Operators</a></span></li><li><span><a href=\"#Accepting-User-Inputs\" data-toc-modified-id=\"Accepting-User-Inputs-6\"><span class=\"toc-item-num\">6&nbsp;&nbsp;</span>Accepting User Inputs</a></span></li></ul></div>"
   ]
  },
  {
   "cell_type": "markdown",
   "metadata": {
    "collapsed": true
   },
   "source": [
    "<a id=\"section1\"></a>\n",
    "\n",
    "# Python RunTime Mode\n",
    "The Python language has many similarities to Perl, C, and Java. However, there are some definite differences between the languages.\n",
    "Plython et us execute programs in 2 different modes of programming.\n",
    "\n",
    "## Interactive Mode Programming\n",
    "\n",
    "Invoking the interpreter without passing a script file as a parameter brings up the following prompt, if we type the text in the screenshot we will get the output.\n",
    "\n",
    "![image.png](https://raw.githubusercontent.com/fjvarasc/DSPXI/master/figures/interactive_programming.png)\n",
    "\n",
    "## Script Mode Programming\n",
    "\n",
    "Invoking the interpreter with a script parameter begins execution of the script and continues until the script is finished. When the script is finished, the interpreter is no longer active.\n",
    "\n",
    "Let us write a simple Python program in a script. Python files have extension .py. Type the following source code in a test.py file\n"
   ]
  },
  {
   "cell_type": "code",
   "execution_count": 4,
   "metadata": {
    "ExecuteTime": {
     "end_time": "2019-03-19T02:34:24.033387Z",
     "start_time": "2019-03-19T02:34:24.007150Z"
    }
   },
   "outputs": [
    {
     "name": "stdout",
     "output_type": "stream",
     "text": [
      "Writing ScriptMode.py\n"
     ]
    }
   ],
   "source": [
    "%%writefile ScriptMode.py \n",
    "#This will save the file in the same folder as the current notebook\n",
    "print (\"Hello DSP XI\")"
   ]
  },
  {
   "cell_type": "code",
   "execution_count": null,
   "metadata": {
    "ExecuteTime": {
     "end_time": "2019-03-19T02:34:42.522024Z",
     "start_time": "2019-03-19T02:34:42.488970Z"
    }
   },
   "outputs": [],
   "source": [
    "# %load ScriptMode.py\n",
    "#This will save the file in the same folder as the current notebook\n",
    "print (\"Hello DSP XI\")"
   ]
  },
  {
   "cell_type": "markdown",
   "metadata": {},
   "source": [
    "<a id=\"section2\"></a>\n",
    "## Python Identifiers\n",
    "\n",
    "A Python identifier is a name used to identify a variable, function, class, module or other object. An identifier starts with a letter A to Z or a to z or an underscore (_) followed by zero or more letters, underscores and digits (0 to 9).\n",
    "\n",
    "Python does not allow punctuation characters such as @, $, and % within identifiers. Python is a case sensitive programming language. Thus, Manpower and manpower are two different identifiers in Python. \n"
   ]
  },
  {
   "cell_type": "markdown",
   "metadata": {},
   "source": [
    "Here are naming conventions for Python identifiers\n",
    "\n",
    "* Class names start with an uppercase letter. All other identifiers start with a lowercase letter.\n",
    "* Starting an identifier with a single leading underscore indicates that the identifier is private.\n",
    "* Starting an identifier with two leading underscores indicates a strongly private identifier.\n",
    "* If the identifier also ends with two trailing underscores, the identifier is a language-defined special name.\n",
    "\n",
    "<a id=\"section3\"></a>\n",
    "## Reserved Words\n",
    "\n",
    "The following list shows the Python keywords. These are reserved words and you cannot use them as constant or variable or any other identifier names. All the Python keywords contain lowercase letters only.\n",
    "\n",
    ">* and \n",
    "* exec \n",
    "* not \n",
    "* assert \n",
    "* finally \n",
    "* or \n",
    "* break \n",
    "* for \n",
    "* pass \n",
    "* class \n",
    "* from \n",
    "* print \n",
    "* continue \n",
    "* global \n",
    "* raise \n",
    "* def \n",
    "* if return \n",
    "* del \n",
    "* import \n",
    "* try \n",
    "* elif \n",
    "* in \n",
    "* while \n",
    "* else \n",
    "* is \n",
    "* with  \n",
    "* except \n",
    "* lambda \n",
    "* yield \n",
    "\n",
    "<a id=\"section4\"></a>\n",
    "## Lines and Indentation\n",
    "\n",
    "Python provides no braces to indicate blocks of code for class and function definitions or flow control. Blocks of code are denoted by line indentation, which is rigidly enforced.\n",
    "\n",
    "The number of spaces in the indentation is variable, but all statements within the block must be indented the same amount. Let's look at the following example."
   ]
  },
  {
   "cell_type": "code",
   "execution_count": 30,
   "metadata": {
    "ExecuteTime": {
     "end_time": "2019-03-12T23:58:30.444951Z",
     "start_time": "2019-03-12T23:58:30.411390Z"
    }
   },
   "outputs": [
    {
     "name": "stdout",
     "output_type": "stream",
     "text": [
      "True\n"
     ]
    }
   ],
   "source": [
    "if True:\n",
    "    print (\"True\")\n",
    "else:\n",
    "    print (\"False\")"
   ]
  },
  {
   "cell_type": "markdown",
   "metadata": {},
   "source": [
    "However, the following block generates an error"
   ]
  },
  {
   "cell_type": "code",
   "execution_count": 32,
   "metadata": {
    "ExecuteTime": {
     "end_time": "2019-03-12T23:59:30.024452Z",
     "start_time": "2019-03-12T23:59:29.994391Z"
    }
   },
   "outputs": [
    {
     "ename": "IndentationError",
     "evalue": "unexpected indent (<ipython-input-32-6a1fc0eb32e7>, line 3)",
     "output_type": "error",
     "traceback": [
      "\u001b[0;36m  File \u001b[0;32m\"<ipython-input-32-6a1fc0eb32e7>\"\u001b[0;36m, line \u001b[0;32m3\u001b[0m\n\u001b[0;31m    print (\"True\")\u001b[0m\n\u001b[0m    ^\u001b[0m\n\u001b[0;31mIndentationError\u001b[0m\u001b[0;31m:\u001b[0m unexpected indent\n"
     ]
    }
   ],
   "source": [
    "if True:\n",
    "  print (\"Answer\")\n",
    "    print (\"True\")\n",
    "else:\n",
    "    print (\"Answer\")\n",
    "    print (\"False\")"
   ]
  },
  {
   "cell_type": "markdown",
   "metadata": {},
   "source": [
    "Thus, in Python all the continuous lines indented with same number of spaces would form a block. The following example has various statement blocks.\n",
    "\n",
    "__Note__ − Do not try to understand the logic at this point of time. Just make sure you understood various blocks even if they are without braces."
   ]
  },
  {
   "cell_type": "code",
   "execution_count": 19,
   "metadata": {
    "ExecuteTime": {
     "end_time": "2019-03-19T02:43:25.801150Z",
     "start_time": "2019-03-19T02:43:19.839566Z"
    }
   },
   "outputs": [
    {
     "name": "stdout",
     "output_type": "stream",
     "text": [
      "Enter ' done ' When finished\n",
      "Enter text: 1\n",
      "Enter text: 2\n",
      "Enter text: 3\n",
      "Enter text: 4\n",
      "Enter text: done\n",
      "1\n",
      "2\n",
      "3\n",
      "4\n",
      "\n"
     ]
    }
   ],
   "source": [
    "\n",
    "import sys\n",
    "file_name='test1.txt'\n",
    "file_finish = 'done'\n",
    "file_text = ''\n",
    "\n",
    "try:\n",
    "   # open file stream\n",
    "    file = open(file_name, \"w\")\n",
    "except IOError:\n",
    "    print (\"There was an error writing to\"), file_name\n",
    "    sys.exit()\n",
    "\n",
    "print (\"Enter '\", file_finish,\"' When finished\")\n",
    "\n",
    "while file_text != file_finish:\n",
    "    file_text = input(\"Enter text: \")\n",
    "    if file_text == file_finish:\n",
    "       # close the file\n",
    "        file.close\n",
    "        break\n",
    "    file.write(file_text)\n",
    "    file.write(\"\\n\")\n",
    "file.close()\n",
    "\n",
    "file_name = 'test1.txt'#input(\"Enter filename: \")\n",
    "if len(file_name) == 0:\n",
    "    print (\"Next time please enter something\")\n",
    "    sys.exit()\n",
    "try:\n",
    "    file = open(file_name, \"r\")\n",
    "except IOError:\n",
    "    print (\"There was an error reading file\")\n",
    "    sys.exit()\n",
    "file_text = file.read()\n",
    "file.close()\n",
    "print (file_text)"
   ]
  },
  {
   "cell_type": "markdown",
   "metadata": {},
   "source": [
    "<a id=\"section5\"></a>\n",
    "## Multi-Line Statements\n",
    "\n",
    "Statements in Python typically end with a new line. Python does, however, allow the use of the line continuation character (\\) to denote that the line should continue.\n"
   ]
  },
  {
   "cell_type": "code",
   "execution_count": 48,
   "metadata": {
    "ExecuteTime": {
     "end_time": "2019-03-13T00:07:55.617898Z",
     "start_time": "2019-03-13T00:07:55.551198Z"
    }
   },
   "outputs": [
    {
     "name": "stdout",
     "output_type": "stream",
     "text": [
      "6\n"
     ]
    }
   ],
   "source": [
    "item_one = 1\n",
    "item_two = 2\n",
    "item_three = 3\n",
    "\n",
    "total = item_one + \\\n",
    "        item_two + \\\n",
    "        item_three\n",
    "\n",
    "total = item_one + item_two + item_three\n",
    "\n",
    "print (total)"
   ]
  },
  {
   "cell_type": "markdown",
   "metadata": {},
   "source": [
    "Statements contained within the [], {}, or () brackets do not need to use the line continuation character"
   ]
  },
  {
   "cell_type": "code",
   "execution_count": 49,
   "metadata": {
    "ExecuteTime": {
     "end_time": "2019-03-13T00:08:01.859924Z",
     "start_time": "2019-03-13T00:08:01.820483Z"
    }
   },
   "outputs": [
    {
     "name": "stdout",
     "output_type": "stream",
     "text": [
      "['Monday', 'Tuesday', 'Wednesday', 'Thursday', 'Friday']\n"
     ]
    }
   ],
   "source": [
    "days = ['Monday', 'Tuesday', 'Wednesday',\n",
    "        'Thursday', 'Friday']\n",
    "print (days)"
   ]
  },
  {
   "cell_type": "markdown",
   "metadata": {},
   "source": [
    "<a id=\"section6\"></a>\n",
    "## Quotation in Python\n",
    "\n",
    "Python accepts single ('), double (\") and triple (''' or \"\"\") quotes to denote string literals, as long as the same type of quote starts and ends the string.\n",
    "\n",
    "The triple quotes are used to span the string across multiple lines. For example, all the following are legal. \n"
   ]
  },
  {
   "cell_type": "code",
   "execution_count": 50,
   "metadata": {
    "ExecuteTime": {
     "end_time": "2019-03-13T00:08:12.301552Z",
     "start_time": "2019-03-13T00:08:12.272059Z"
    }
   },
   "outputs": [
    {
     "name": "stdout",
     "output_type": "stream",
     "text": [
      "word\n",
      "This is a sentence.\n",
      "This is a paragraph. It is\n",
      "made up of multiple \n",
      "lines and sentences.\n"
     ]
    }
   ],
   "source": [
    "word = 'word'\n",
    "sentence = \"This is a sentence.\"\n",
    "paragraph = \"\"\"This is a paragraph. It is\n",
    "made up of multiple \n",
    "lines and sentences.\"\"\"\n",
    "\n",
    "print (word)\n",
    "print (sentence)\n",
    "print (paragraph)"
   ]
  },
  {
   "cell_type": "markdown",
   "metadata": {},
   "source": [
    "<a id=\"section7\"></a>\n",
    "## Comments in Python\n",
    "\n",
    "A hash sign (#) that is not inside a string literal begins a comment. All characters after the # and up to the end of the physical line are part of the comment and the Python interpreter ignores them.\n"
   ]
  },
  {
   "cell_type": "code",
   "execution_count": 51,
   "metadata": {
    "ExecuteTime": {
     "end_time": "2019-03-13T00:08:21.299245Z",
     "start_time": "2019-03-13T00:08:21.235936Z"
    }
   },
   "outputs": [
    {
     "name": "stdout",
     "output_type": "stream",
     "text": [
      "Hello, Python!\n"
     ]
    }
   ],
   "source": [
    "# First comment\n",
    "print (\"Hello, Python!\") # second comment\n",
    "\n",
    "#You can type a comment on the same line after a statement or expression \n",
    "name = \"Madisetti\" # This is again comment\n",
    "\n",
    "# You can comment multiple lines as follows\n",
    "# This is a comment.\n",
    "# This is a comment, too.\n",
    "# This is a comment, too.\n",
    "# I said that already.\n"
   ]
  },
  {
   "cell_type": "markdown",
   "metadata": {},
   "source": [
    "<a id=\"section8\"></a>\n",
    "## Waiting for the User\n",
    "\n",
    "The following line of the program displays the prompt, the statement saying “Press the enter key to exit”, and waits for the user to take action.\n",
    "Here, \"\\n\\n\" is used to create two new lines before displaying the actual line. Once the user presses the key, the program ends. This is a nice trick to keep a console window open until the user is done with an application.\n"
   ]
  },
  {
   "cell_type": "code",
   "execution_count": 20,
   "metadata": {
    "ExecuteTime": {
     "end_time": "2019-03-19T02:43:56.851959Z",
     "start_time": "2019-03-19T02:43:56.184213Z"
    }
   },
   "outputs": [
    {
     "name": "stdout",
     "output_type": "stream",
     "text": [
      "Line1\n",
      "Line2\n",
      "Press the enter key to exit.\n"
     ]
    },
    {
     "data": {
      "text/plain": [
       "''"
      ]
     },
     "execution_count": 20,
     "metadata": {},
     "output_type": "execute_result"
    }
   ],
   "source": [
    "input(\"Line1\\nLine2\\nPress the enter key to exit.\") "
   ]
  },
  {
   "cell_type": "markdown",
   "metadata": {},
   "source": [
    "<a id=\"section9\"></a>\n",
    "## Multiple Statements on a Single Line\n",
    "\n",
    "The semicolon ( ; ) allows multiple statements on the single line given that neither statement starts a new code block. Here is a sample snip using the semicolon.\n"
   ]
  },
  {
   "cell_type": "code",
   "execution_count": 55,
   "metadata": {
    "ExecuteTime": {
     "end_time": "2019-03-13T00:09:01.212772Z",
     "start_time": "2019-03-13T00:09:01.163666Z"
    },
    "scrolled": true
   },
   "outputs": [
    {
     "name": "stdout",
     "output_type": "stream",
     "text": [
      "foo\n",
      "Program ended"
     ]
    }
   ],
   "source": [
    "import sys; x = 'foo'; sys.stdout.write(x + '\\nProgram ended')"
   ]
  },
  {
   "cell_type": "markdown",
   "metadata": {},
   "source": [
    "# Variables\n",
    "\n",
    "A name that is used to denote something or a value is called a variable. In python, variables can be declared and values can be assigned to it as follows,"
   ]
  },
  {
   "cell_type": "code",
   "execution_count": 56,
   "metadata": {
    "ExecuteTime": {
     "end_time": "2019-03-13T00:09:08.023276Z",
     "start_time": "2019-03-13T00:09:07.984732Z"
    }
   },
   "outputs": [
    {
     "name": "stdout",
     "output_type": "stream",
     "text": [
      "7 Hey\n"
     ]
    }
   ],
   "source": [
    "x = 2\n",
    "y = 5\n",
    "xy = 'Hey'\n",
    "print (x+y, xy)"
   ]
  },
  {
   "cell_type": "markdown",
   "metadata": {},
   "source": [
    "Multiple variables can be assigned with the same value."
   ]
  },
  {
   "cell_type": "code",
   "execution_count": 58,
   "metadata": {
    "ExecuteTime": {
     "end_time": "2019-03-13T00:09:23.644537Z",
     "start_time": "2019-03-13T00:09:23.609607Z"
    }
   },
   "outputs": [
    {
     "name": "stdout",
     "output_type": "stream",
     "text": [
      "1 1\n"
     ]
    }
   ],
   "source": [
    "x = y = 1\n",
    "print (x,y)"
   ]
  },
  {
   "cell_type": "markdown",
   "metadata": {},
   "source": [
    "# Operators"
   ]
  },
  {
   "cell_type": "markdown",
   "metadata": {},
   "source": [
    "## Arithmetic Ops\n",
    "\n",
    "| Symbol | Task Performed |\n",
    "|----|---|\n",
    "| +  | Addition |\n",
    "| -  | Subtraction |\n",
    "| /  | division |\n",
    "| %  | mod |\n",
    "| *  | multiplication |\n",
    "| //  | floor division |\n",
    "| **  | to the power of |"
   ]
  },
  {
   "cell_type": "code",
   "execution_count": 59,
   "metadata": {
    "ExecuteTime": {
     "end_time": "2019-03-13T00:09:26.479799Z",
     "start_time": "2019-03-13T00:09:26.440114Z"
    }
   },
   "outputs": [
    {
     "data": {
      "text/plain": [
       "3"
      ]
     },
     "execution_count": 59,
     "metadata": {},
     "output_type": "execute_result"
    }
   ],
   "source": [
    "1+2"
   ]
  },
  {
   "cell_type": "code",
   "execution_count": 60,
   "metadata": {
    "ExecuteTime": {
     "end_time": "2019-03-13T00:09:27.972294Z",
     "start_time": "2019-03-13T00:09:27.936688Z"
    }
   },
   "outputs": [
    {
     "data": {
      "text/plain": [
       "1"
      ]
     },
     "execution_count": 60,
     "metadata": {},
     "output_type": "execute_result"
    }
   ],
   "source": [
    "2-1"
   ]
  },
  {
   "cell_type": "code",
   "execution_count": 61,
   "metadata": {
    "ExecuteTime": {
     "end_time": "2019-03-13T00:09:29.538380Z",
     "start_time": "2019-03-13T00:09:29.499049Z"
    }
   },
   "outputs": [
    {
     "data": {
      "text/plain": [
       "2"
      ]
     },
     "execution_count": 61,
     "metadata": {},
     "output_type": "execute_result"
    }
   ],
   "source": [
    "1*2"
   ]
  },
  {
   "cell_type": "code",
   "execution_count": 62,
   "metadata": {
    "ExecuteTime": {
     "end_time": "2019-03-13T00:09:35.359415Z",
     "start_time": "2019-03-13T00:09:35.323656Z"
    }
   },
   "outputs": [
    {
     "data": {
      "text/plain": [
       "0.5"
      ]
     },
     "execution_count": 62,
     "metadata": {},
     "output_type": "execute_result"
    }
   ],
   "source": [
    "1/2"
   ]
  },
  {
   "cell_type": "code",
   "execution_count": 63,
   "metadata": {
    "ExecuteTime": {
     "end_time": "2019-03-13T00:09:37.194087Z",
     "start_time": "2019-03-13T00:09:37.152104Z"
    }
   },
   "outputs": [
    {
     "data": {
      "text/plain": [
       "1.0"
      ]
     },
     "execution_count": 63,
     "metadata": {},
     "output_type": "execute_result"
    }
   ],
   "source": [
    "#Floor division is nothing but converting the result so obtained to the nearest integer.\n",
    "2.8//2.0"
   ]
  },
  {
   "cell_type": "markdown",
   "metadata": {},
   "source": [
    "# Relational Operators"
   ]
  },
  {
   "cell_type": "markdown",
   "metadata": {},
   "source": [
    "| Symbol | Task Performed |\n",
    "|----|---|\n",
    "| == | True, if it is equal |\n",
    "| !=  | True, if not equal to |\n",
    "| < | less than |\n",
    "| > | greater than |\n",
    "| <=  | less than or equal to |\n",
    "| >=  | greater than or equal to |"
   ]
  },
  {
   "cell_type": "code",
   "execution_count": 64,
   "metadata": {
    "ExecuteTime": {
     "end_time": "2019-03-13T00:09:45.932175Z",
     "start_time": "2019-03-13T00:09:45.908856Z"
    }
   },
   "outputs": [],
   "source": [
    "z = 1"
   ]
  },
  {
   "cell_type": "code",
   "execution_count": 65,
   "metadata": {
    "ExecuteTime": {
     "end_time": "2019-03-13T00:09:48.097164Z",
     "start_time": "2019-03-13T00:09:48.051475Z"
    }
   },
   "outputs": [
    {
     "data": {
      "text/plain": [
       "True"
      ]
     },
     "execution_count": 65,
     "metadata": {},
     "output_type": "execute_result"
    }
   ],
   "source": [
    "z==1"
   ]
  },
  {
   "cell_type": "code",
   "execution_count": 66,
   "metadata": {
    "ExecuteTime": {
     "end_time": "2019-03-13T00:09:50.410733Z",
     "start_time": "2019-03-13T00:09:50.368213Z"
    }
   },
   "outputs": [
    {
     "data": {
      "text/plain": [
       "False"
      ]
     },
     "execution_count": 66,
     "metadata": {},
     "output_type": "execute_result"
    }
   ],
   "source": [
    "z > 1"
   ]
  },
  {
   "cell_type": "markdown",
   "metadata": {},
   "source": [
    "# Bitwise Operators"
   ]
  },
  {
   "cell_type": "markdown",
   "metadata": {},
   "source": [
    "| Symbol | Task Performed |\n",
    "|----|---|\n",
    "| &  | Logical And |\n",
    "| l  | Logical OR |\n",
    "| ^  | XOR |\n",
    "| ~  | Negate |\n",
    "| >>  | Right shift |\n",
    "| <<  | Left shift |"
   ]
  },
  {
   "cell_type": "code",
   "execution_count": 67,
   "metadata": {
    "ExecuteTime": {
     "end_time": "2019-03-13T00:09:53.381302Z",
     "start_time": "2019-03-13T00:09:53.330955Z"
    }
   },
   "outputs": [
    {
     "name": "stdout",
     "output_type": "stream",
     "text": [
      "2\n",
      "0b10\n"
     ]
    }
   ],
   "source": [
    "a = 2 \n",
    "b = 3 \n",
    "print (a & b)\n",
    "print (bin(a&b))"
   ]
  },
  {
   "cell_type": "markdown",
   "metadata": {},
   "source": [
    "# Accepting User Inputs"
   ]
  },
  {
   "cell_type": "code",
   "execution_count": 24,
   "metadata": {
    "ExecuteTime": {
     "end_time": "2019-03-19T02:44:59.825162Z",
     "start_time": "2019-03-19T02:44:56.649785Z"
    }
   },
   "outputs": [
    {
     "name": "stdout",
     "output_type": "stream",
     "text": [
      "Only strings can be stored in variable abc \t2\n"
     ]
    },
    {
     "data": {
      "text/plain": [
       "str"
      ]
     },
     "execution_count": 24,
     "metadata": {},
     "output_type": "execute_result"
    }
   ],
   "source": [
    "abc1 =  input(\"Only strings can be stored in variable abc \\t\")\n",
    "type(abc1)"
   ]
  }
 ],
 "metadata": {
  "_draft": {
   "nbviewer_url": "https://gist.github.com/0ed0a18cd6448fd9dcf7b9e3d940ff24"
  },
  "gist": {
   "data": {
    "description": "Module1/01 - Intro/01.03_Coding_Basics.ipynb",
    "public": true
   },
   "id": "0ed0a18cd6448fd9dcf7b9e3d940ff24"
  },
  "kernelspec": {
   "display_name": "Python 3",
   "language": "python",
   "name": "dspxi"
  },
  "language_info": {
   "codemirror_mode": {
    "name": "ipython",
    "version": 3
   },
   "file_extension": ".py",
   "mimetype": "text/x-python",
   "name": "python",
   "nbconvert_exporter": "python",
   "pygments_lexer": "ipython3",
   "version": "3.6.8"
  },
  "toc": {
   "base_numbering": 1,
   "nav_menu": {},
   "number_sections": true,
   "sideBar": true,
   "skip_h1_title": false,
   "title_cell": "Table of Contents",
   "title_sidebar": "Contents",
   "toc_cell": true,
   "toc_position": {},
   "toc_section_display": true,
   "toc_window_display": true
  },
  "varInspector": {
   "cols": {
    "lenName": 16,
    "lenType": 16,
    "lenVar": 40
   },
   "kernels_config": {
    "python": {
     "delete_cmd_postfix": "",
     "delete_cmd_prefix": "del ",
     "library": "var_list.py",
     "varRefreshCmd": "print(var_dic_list())"
    },
    "r": {
     "delete_cmd_postfix": ") ",
     "delete_cmd_prefix": "rm(",
     "library": "var_list.r",
     "varRefreshCmd": "cat(var_dic_list()) "
    }
   },
   "position": {
    "height": "144px",
    "left": "1310px",
    "right": "20px",
    "top": "119px",
    "width": "350px"
   },
   "types_to_exclude": [
    "module",
    "function",
    "builtin_function_or_method",
    "instance",
    "_Feature"
   ],
   "window_display": false
  }
 },
 "nbformat": 4,
 "nbformat_minor": 2
}
