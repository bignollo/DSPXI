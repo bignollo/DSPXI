{
 "cells": [
  {
   "cell_type": "markdown",
   "metadata": {
    "ExecuteTime": {
     "end_time": "2019-03-20T00:26:25.341771Z",
     "start_time": "2019-03-20T00:26:25.178219Z"
    }
   },
   "source": [
    "![image.png](https://raw.githubusercontent.com/fjvarasc/DSPXI/master/figures/py_logo.png)"
   ]
  },
  {
   "cell_type": "markdown",
   "metadata": {
    "toc": true
   },
   "source": [
    "<h1>Table of Contents<span class=\"tocSkip\"></span></h1>\n",
    "<div class=\"toc\"><ul class=\"toc-item\"><li><span><a href=\"#Basic-Data-Structures\" data-toc-modified-id=\"Basic-Data-Structures-1\">Basic Data Structures</a></span><ul class=\"toc-item\"><li><span><a href=\"#Numbers\" data-toc-modified-id=\"Numbers-1.1\">Numbers</a></span><ul class=\"toc-item\"><li><span><a href=\"#Setting-a-number-assignation:\" data-toc-modified-id=\"Setting-a-number-assignation:-1.1.1\">Setting a number assignation:</a></span></li><li><span><a href=\"#Showing-the-type-of-an-object:\" data-toc-modified-id=\"Showing-the-type-of-an-object:-1.1.2\">Showing the type of an object:</a></span></li><li><span><a href=\"#Check-the-type-of-the-following-number:\" data-toc-modified-id=\"Check-the-type-of-the-following-number:-1.1.3\">Check the type of the following number:</a></span></li><li><span><a href=\"#Asking-if-an-object-belongs-to-certain-type\" data-toc-modified-id=\"Asking-if-an-object-belongs-to-certain-type-1.1.4\">Asking if an object belongs to certain type</a></span></li><li><span><a href=\"#Converting-to-another-numeric-object-and-checking-its-type\" data-toc-modified-id=\"Converting-to-another-numeric-object-and-checking-its-type-1.1.5\">Converting to another numeric object and checking its type</a></span></li><li><span><a href=\"#What-is-the-result-of-adding-an-int-and-a-float,-check-yourself!\" data-toc-modified-id=\"What-is-the-result-of-adding-an-int-and-a-float,-check-yourself!-1.1.6\">What is the result of adding an int and a float, check yourself!</a></span></li><li><span><a href=\"#The-mathematical-library,-&quot;math&quot;\" data-toc-modified-id=\"The-mathematical-library,-&quot;math&quot;-1.1.7\">The mathematical library, \"math\"</a></span></li><li><span><a href=\"#Another-useful-library,-&quot;random&quot;\" data-toc-modified-id=\"Another-useful-library,-&quot;random&quot;-1.1.8\">Another useful library, \"random\"</a></span></li></ul></li><li><span><a href=\"#String\" data-toc-modified-id=\"String-1.2\">String</a></span><ul class=\"toc-item\"><li><span><a href=\"#Creating-a-string\" data-toc-modified-id=\"Creating-a-string-1.2.1\">Creating a string</a></span></li><li><span><a href=\"#Showing-the-first-string,-the-last-one-and-some-in-the-middle\" data-toc-modified-id=\"Showing-the-first-string,-the-last-one-and-some-in-the-middle-1.2.2\">Showing the first string, the last one and some in the middle</a></span></li><li><span><a href=\"#Deleting-a-string\" data-toc-modified-id=\"Deleting-a-string-1.2.3\">Deleting a string</a></span></li><li><span><a href=\"#String-concatenation\" data-toc-modified-id=\"String-concatenation-1.2.4\">String concatenation</a></span></li><li><span><a href=\"#Itering-throught-a-string\" data-toc-modified-id=\"Itering-throught-a-string-1.2.5\">Itering throught a string</a></span></li><li><span><a href=\"#Checking-string-membership\" data-toc-modified-id=\"Checking-string-membership-1.2.6\">Checking string membership</a></span></li><li><span><a href=\"#Enumerate-&amp;-len\" data-toc-modified-id=\"Enumerate-&amp;-len-1.2.7\">Enumerate &amp; len</a></span></li><li><span><a href=\"#Spliting\" data-toc-modified-id=\"Spliting-1.2.8\">Spliting</a></span></li></ul></li><li><span><a href=\"#List\" data-toc-modified-id=\"List-1.3\">List</a></span><ul class=\"toc-item\"><li><span><a href=\"#Creating-an-empty-list\" data-toc-modified-id=\"Creating-an-empty-list-1.3.1\">Creating an empty list</a></span></li><li><span><a href=\"#Creating-a-list-with-mixed-datatypes\" data-toc-modified-id=\"Creating-a-list-with-mixed-datatypes-1.3.2\">Creating a list with mixed datatypes</a></span></li><li><span><a href=\"#Appending-and-extending-a-list\" data-toc-modified-id=\"Appending-and-extending-a-list-1.3.3\">Appending and extending a list</a></span></li><li><span><a href=\"#Remove-and-pop-methods\" data-toc-modified-id=\"Remove-and-pop-methods-1.3.4\">Remove and pop methods</a></span></li><li><span><a href=\"#Tuple\" data-toc-modified-id=\"Tuple-1.3.5\">Tuple</a></span></li><li><span><a href=\"#Declaring-an-empty-tuple\" data-toc-modified-id=\"Declaring-an-empty-tuple-1.3.6\">Declaring an empty tuple</a></span></li><li><span><a href=\"#Creating-a-tuple-with-mixed-datatypes\" data-toc-modified-id=\"Creating-a-tuple-with-mixed-datatypes-1.3.7\">Creating a tuple with mixed datatypes</a></span></li><li><span><a href=\"#Count-&amp;-index\" data-toc-modified-id=\"Count-&amp;-index-1.3.8\">Count &amp; index</a></span></li><li><span><a href=\"#Membership\" data-toc-modified-id=\"Membership-1.3.9\">Membership</a></span></li><li><span><a href=\"#Iterating-through-a-tuple\" data-toc-modified-id=\"Iterating-through-a-tuple-1.3.10\">Iterating through a tuple</a></span></li></ul></li><li><span><a href=\"#Set\" data-toc-modified-id=\"Set-1.4\">Set</a></span><ul class=\"toc-item\"><li><span><a href=\"#Creating-an-empty-set\" data-toc-modified-id=\"Creating-an-empty-set-1.4.1\">Creating an empty set</a></span></li><li><span><a href=\"#Mixed-datatypes-in-a-set\" data-toc-modified-id=\"Mixed-datatypes-in-a-set-1.4.2\">Mixed datatypes in a set</a></span></li><li><span><a href=\"#Adding-one-elemento-to-the-set\" data-toc-modified-id=\"Adding-one-elemento-to-the-set-1.4.3\">Adding one elemento to the set</a></span></li><li><span><a href=\"#Adding-multiple-elements\" data-toc-modified-id=\"Adding-multiple-elements-1.4.4\">Adding multiple elements</a></span></li><li><span><a href=\"#Discard-&amp;-remove\" data-toc-modified-id=\"Discard-&amp;-remove-1.4.5\">Discard &amp; remove</a></span></li><li><span><a href=\"#Operations\" data-toc-modified-id=\"Operations-1.4.6\">Operations</a></span></li><li><span><a href=\"#Membership\" data-toc-modified-id=\"Membership-1.4.7\">Membership</a></span></li><li><span><a href=\"#Iterating-through-a-set\" data-toc-modified-id=\"Iterating-through-a-set-1.4.8\">Iterating through a set</a></span></li></ul></li><li><span><a href=\"#Dictionary\" data-toc-modified-id=\"Dictionary-1.5\">Dictionary</a></span><ul class=\"toc-item\"><li><span><a href=\"#Creating-an-empty-dictionary\" data-toc-modified-id=\"Creating-an-empty-dictionary-1.5.1\">Creating an empty dictionary</a></span></li><li><span><a href=\"#Mixed-datatypes-in-a-dictionary\" data-toc-modified-id=\"Mixed-datatypes-in-a-dictionary-1.5.2\">Mixed datatypes in a dictionary</a></span></li><li><span><a href=\"#Access-to-elements-of-a-dictionary\" data-toc-modified-id=\"Access-to-elements-of-a-dictionary-1.5.3\">Access to elements of a dictionary</a></span></li><li><span><a href=\"#Updating-a-dictionary\" data-toc-modified-id=\"Updating-a-dictionary-1.5.4\">Updating a dictionary</a></span></li><li><span><a href=\"#Deleting-dictionary-elements\" data-toc-modified-id=\"Deleting-dictionary-elements-1.5.5\">Deleting dictionary elements</a></span></li></ul></li></ul></li></ul></div>"
   ]
  },
  {
   "cell_type": "markdown",
   "metadata": {},
   "source": [
    "# Basic Data Structures"
   ]
  },
  {
   "cell_type": "markdown",
   "metadata": {},
   "source": [
    "In this session we will cover the following data structures: <b>Numbers, String, List, Tuple, Set, and Dictionary."
   ]
  },
  {
   "cell_type": "markdown",
   "metadata": {},
   "source": [
    "## Numbers\n",
    "\n",
    "The type of numbers we are going to use are: <b>\"int\"</b> and <b>\"float\"</b>."
   ]
  },
  {
   "cell_type": "markdown",
   "metadata": {},
   "source": [
    "### Setting a number assignation:"
   ]
  },
  {
   "cell_type": "code",
   "execution_count": 1,
   "metadata": {
    "ExecuteTime": {
     "end_time": "2019-03-13T00:13:38.499706Z",
     "start_time": "2019-03-13T00:13:38.481802Z"
    }
   },
   "outputs": [],
   "source": [
    "x = 6"
   ]
  },
  {
   "cell_type": "markdown",
   "metadata": {},
   "source": [
    "### Showing the type of an object:"
   ]
  },
  {
   "cell_type": "code",
   "execution_count": 2,
   "metadata": {
    "ExecuteTime": {
     "end_time": "2019-03-13T00:13:41.158879Z",
     "start_time": "2019-03-13T00:13:41.054168Z"
    }
   },
   "outputs": [
    {
     "data": {
      "text/plain": [
       "int"
      ]
     },
     "execution_count": 2,
     "metadata": {},
     "output_type": "execute_result"
    }
   ],
   "source": [
    "type(x)"
   ]
  },
  {
   "cell_type": "markdown",
   "metadata": {},
   "source": [
    "### Check the type of the following number:"
   ]
  },
  {
   "cell_type": "code",
   "execution_count": 3,
   "metadata": {
    "ExecuteTime": {
     "end_time": "2019-03-13T00:13:44.716826Z",
     "start_time": "2019-03-13T00:13:44.660161Z"
    }
   },
   "outputs": [
    {
     "data": {
      "text/plain": [
       "float"
      ]
     },
     "execution_count": 3,
     "metadata": {},
     "output_type": "execute_result"
    }
   ],
   "source": [
    "type(6.0)"
   ]
  },
  {
   "cell_type": "markdown",
   "metadata": {},
   "source": [
    "### Asking if an object belongs to certain type"
   ]
  },
  {
   "cell_type": "code",
   "execution_count": 4,
   "metadata": {
    "ExecuteTime": {
     "end_time": "2019-03-13T00:13:47.992188Z",
     "start_time": "2019-03-13T00:13:47.959484Z"
    }
   },
   "outputs": [
    {
     "data": {
      "text/plain": [
       "True"
      ]
     },
     "execution_count": 4,
     "metadata": {},
     "output_type": "execute_result"
    }
   ],
   "source": [
    "isinstance(x, int)"
   ]
  },
  {
   "cell_type": "markdown",
   "metadata": {},
   "source": [
    "### Converting to another numeric object and checking its type"
   ]
  },
  {
   "cell_type": "code",
   "execution_count": 5,
   "metadata": {
    "ExecuteTime": {
     "end_time": "2019-03-13T00:13:51.842408Z",
     "start_time": "2019-03-13T00:13:51.825338Z"
    }
   },
   "outputs": [],
   "source": [
    "x=float(x)"
   ]
  },
  {
   "cell_type": "code",
   "execution_count": 6,
   "metadata": {
    "ExecuteTime": {
     "end_time": "2019-03-13T00:13:54.646438Z",
     "start_time": "2019-03-13T00:13:54.616440Z"
    }
   },
   "outputs": [
    {
     "data": {
      "text/plain": [
       "False"
      ]
     },
     "execution_count": 6,
     "metadata": {},
     "output_type": "execute_result"
    }
   ],
   "source": [
    "isinstance(x, int)"
   ]
  },
  {
   "cell_type": "code",
   "execution_count": 7,
   "metadata": {
    "ExecuteTime": {
     "end_time": "2019-03-13T00:13:58.029884Z",
     "start_time": "2019-03-13T00:13:58.000557Z"
    }
   },
   "outputs": [
    {
     "data": {
      "text/plain": [
       "float"
      ]
     },
     "execution_count": 7,
     "metadata": {},
     "output_type": "execute_result"
    }
   ],
   "source": [
    "type(x)"
   ]
  },
  {
   "cell_type": "markdown",
   "metadata": {},
   "source": [
    "### What is the result of adding an int and a float, check yourself!"
   ]
  },
  {
   "cell_type": "code",
   "execution_count": 9,
   "metadata": {
    "ExecuteTime": {
     "end_time": "2019-03-13T00:14:20.450367Z",
     "start_time": "2019-03-13T00:14:20.430613Z"
    }
   },
   "outputs": [],
   "source": [
    "x=6+0.0"
   ]
  },
  {
   "cell_type": "code",
   "execution_count": 10,
   "metadata": {
    "ExecuteTime": {
     "end_time": "2019-03-13T00:14:22.522955Z",
     "start_time": "2019-03-13T00:14:22.491963Z"
    }
   },
   "outputs": [
    {
     "data": {
      "text/plain": [
       "False"
      ]
     },
     "execution_count": 10,
     "metadata": {},
     "output_type": "execute_result"
    }
   ],
   "source": [
    "isinstance(x, int)"
   ]
  },
  {
   "cell_type": "code",
   "execution_count": 11,
   "metadata": {
    "ExecuteTime": {
     "end_time": "2019-03-13T00:14:24.519872Z",
     "start_time": "2019-03-13T00:14:24.490066Z"
    }
   },
   "outputs": [
    {
     "data": {
      "text/plain": [
       "float"
      ]
     },
     "execution_count": 11,
     "metadata": {},
     "output_type": "execute_result"
    }
   ],
   "source": [
    "type(x)"
   ]
  },
  {
   "cell_type": "markdown",
   "metadata": {},
   "source": [
    "**Consider the following statement:**"
   ]
  },
  {
   "cell_type": "code",
   "execution_count": 12,
   "metadata": {
    "ExecuteTime": {
     "end_time": "2019-03-13T00:14:36.068653Z",
     "start_time": "2019-03-13T00:14:36.039103Z"
    }
   },
   "outputs": [
    {
     "data": {
      "text/plain": [
       "False"
      ]
     },
     "execution_count": 12,
     "metadata": {},
     "output_type": "execute_result"
    }
   ],
   "source": [
    "0.1 + 0.1 + 0.1 == 0.3"
   ]
  },
  {
   "cell_type": "markdown",
   "metadata": {},
   "source": [
    "**Why it is False?**"
   ]
  },
  {
   "cell_type": "code",
   "execution_count": 13,
   "metadata": {
    "ExecuteTime": {
     "end_time": "2019-03-13T00:14:50.105313Z",
     "start_time": "2019-03-13T00:14:50.076604Z"
    }
   },
   "outputs": [
    {
     "data": {
      "text/plain": [
       "0.30000000000000004"
      ]
     },
     "execution_count": 13,
     "metadata": {},
     "output_type": "execute_result"
    }
   ],
   "source": [
    "0.1+0.1+0.1"
   ]
  },
  {
   "cell_type": "markdown",
   "metadata": {},
   "source": [
    "To take into account this issue, when exact calculations are needed (mostly in financial environments), we have to use the Decimal library.\n",
    "\n",
    "In the following line we are importing \"Decimal\" as \"d\" from the library \"decimal\", we use this to import just that function and not the entire library."
   ]
  },
  {
   "cell_type": "code",
   "execution_count": 14,
   "metadata": {
    "ExecuteTime": {
     "end_time": "2019-03-13T00:15:46.076978Z",
     "start_time": "2019-03-13T00:15:46.060832Z"
    }
   },
   "outputs": [],
   "source": [
    "from decimal import Decimal as d"
   ]
  },
  {
   "cell_type": "markdown",
   "metadata": {},
   "source": [
    "**Now, check the statement:**"
   ]
  },
  {
   "cell_type": "code",
   "execution_count": 15,
   "metadata": {
    "ExecuteTime": {
     "end_time": "2019-03-13T00:15:56.947635Z",
     "start_time": "2019-03-13T00:15:56.919316Z"
    }
   },
   "outputs": [
    {
     "data": {
      "text/plain": [
       "True"
      ]
     },
     "execution_count": 15,
     "metadata": {},
     "output_type": "execute_result"
    }
   ],
   "source": [
    "d('1.1') + d('2.2') == d('3.3') "
   ]
  },
  {
   "cell_type": "markdown",
   "metadata": {},
   "source": [
    "This function also allows to fix the precision while working with decimals. Remember 2.0 is not the same as 2, in the former case we have more information and if we do not want to lose it, decimal library will help us."
   ]
  },
  {
   "cell_type": "code",
   "execution_count": 17,
   "metadata": {
    "ExecuteTime": {
     "end_time": "2019-03-13T00:16:19.106479Z",
     "start_time": "2019-03-13T00:16:19.077060Z"
    }
   },
   "outputs": [
    {
     "data": {
      "text/plain": [
       "Decimal('2.420')"
      ]
     },
     "execution_count": 17,
     "metadata": {},
     "output_type": "execute_result"
    }
   ],
   "source": [
    "d('1.10')*d('2.2')"
   ]
  },
  {
   "cell_type": "markdown",
   "metadata": {},
   "source": [
    "**Converting decimals into factions using \"fractions\"**"
   ]
  },
  {
   "cell_type": "code",
   "execution_count": 18,
   "metadata": {
    "ExecuteTime": {
     "end_time": "2019-03-13T00:16:41.985944Z",
     "start_time": "2019-03-13T00:16:41.904737Z"
    }
   },
   "outputs": [],
   "source": [
    "from fractions import Fraction as F"
   ]
  },
  {
   "cell_type": "code",
   "execution_count": 19,
   "metadata": {
    "ExecuteTime": {
     "end_time": "2019-03-13T00:16:45.084875Z",
     "start_time": "2019-03-13T00:16:45.056246Z"
    }
   },
   "outputs": [
    {
     "data": {
      "text/plain": [
       "Fraction(3, 2)"
      ]
     },
     "execution_count": 19,
     "metadata": {},
     "output_type": "execute_result"
    }
   ],
   "source": [
    "F(1.5)"
   ]
  },
  {
   "cell_type": "code",
   "execution_count": 20,
   "metadata": {
    "ExecuteTime": {
     "end_time": "2019-03-13T00:16:47.456692Z",
     "start_time": "2019-03-13T00:16:47.428523Z"
    }
   },
   "outputs": [
    {
     "data": {
      "text/plain": [
       "Fraction(5404319552844595, 4503599627370496)"
      ]
     },
     "execution_count": 20,
     "metadata": {},
     "output_type": "execute_result"
    }
   ],
   "source": [
    "F(1.2)"
   ]
  },
  {
   "cell_type": "markdown",
   "metadata": {},
   "source": [
    "It is not easy to the computer to get a simple fraction, so to get roung to this, we should do the following:"
   ]
  },
  {
   "cell_type": "code",
   "execution_count": 21,
   "metadata": {
    "ExecuteTime": {
     "end_time": "2019-03-13T00:19:12.587634Z",
     "start_time": "2019-03-13T00:19:12.558594Z"
    }
   },
   "outputs": [
    {
     "data": {
      "text/plain": [
       "Fraction(6, 5)"
      ]
     },
     "execution_count": 21,
     "metadata": {},
     "output_type": "execute_result"
    }
   ],
   "source": [
    "F('1.2')"
   ]
  },
  {
   "cell_type": "markdown",
   "metadata": {},
   "source": [
    "**If you have doubts about a function, use \"help\" function.**"
   ]
  },
  {
   "cell_type": "code",
   "execution_count": 22,
   "metadata": {
    "ExecuteTime": {
     "end_time": "2019-03-13T00:19:18.791503Z",
     "start_time": "2019-03-13T00:19:18.692998Z"
    }
   },
   "outputs": [
    {
     "name": "stdout",
     "output_type": "stream",
     "text": [
      "Help on class Fraction in module fractions:\n",
      "\n",
      "class Fraction(numbers.Rational)\n",
      " |  This class implements rational numbers.\n",
      " |  \n",
      " |  In the two-argument form of the constructor, Fraction(8, 6) will\n",
      " |  produce a rational number equivalent to 4/3. Both arguments must\n",
      " |  be Rational. The numerator defaults to 0 and the denominator\n",
      " |  defaults to 1 so that Fraction(3) == 3 and Fraction() == 0.\n",
      " |  \n",
      " |  Fractions can also be constructed from:\n",
      " |  \n",
      " |    - numeric strings similar to those accepted by the\n",
      " |      float constructor (for example, '-2.3' or '1e10')\n",
      " |  \n",
      " |    - strings of the form '123/456'\n",
      " |  \n",
      " |    - float and Decimal instances\n",
      " |  \n",
      " |    - other Rational instances (including integers)\n",
      " |  \n",
      " |  Method resolution order:\n",
      " |      Fraction\n",
      " |      numbers.Rational\n",
      " |      numbers.Real\n",
      " |      numbers.Complex\n",
      " |      numbers.Number\n",
      " |      __builtin__.object\n",
      " |  \n",
      " |  Methods defined here:\n",
      " |  \n",
      " |  __abs__(a)\n",
      " |      abs(a)\n",
      " |  \n",
      " |  __add__(a, b)\n",
      " |      a + b\n",
      " |  \n",
      " |  __copy__(self)\n",
      " |  \n",
      " |  __deepcopy__(self, memo)\n",
      " |  \n",
      " |  __div__(a, b)\n",
      " |      a / b\n",
      " |  \n",
      " |  __eq__(a, b)\n",
      " |      a == b\n",
      " |  \n",
      " |  __floordiv__(a, b)\n",
      " |      a // b\n",
      " |  \n",
      " |  __ge__(a, b)\n",
      " |      a >= b\n",
      " |  \n",
      " |  __gt__(a, b)\n",
      " |      a > b\n",
      " |  \n",
      " |  __hash__(self)\n",
      " |      hash(self)\n",
      " |      \n",
      " |      Tricky because values that are exactly representable as a\n",
      " |      float must have the same hash as that float.\n",
      " |  \n",
      " |  __le__(a, b)\n",
      " |      a <= b\n",
      " |  \n",
      " |  __lt__(a, b)\n",
      " |      a < b\n",
      " |  \n",
      " |  __mod__(a, b)\n",
      " |      a % b\n",
      " |  \n",
      " |  __mul__(a, b)\n",
      " |      a * b\n",
      " |  \n",
      " |  __neg__(a)\n",
      " |      -a\n",
      " |  \n",
      " |  __nonzero__(a)\n",
      " |      a != 0\n",
      " |  \n",
      " |  __pos__(a)\n",
      " |      +a: Coerces a subclass instance to Fraction\n",
      " |  \n",
      " |  __pow__(a, b)\n",
      " |      a ** b\n",
      " |      \n",
      " |      If b is not an integer, the result will be a float or complex\n",
      " |      since roots are generally irrational. If b is an integer, the\n",
      " |      result will be rational.\n",
      " |  \n",
      " |  __radd__(b, a)\n",
      " |      a + b\n",
      " |  \n",
      " |  __rdiv__(b, a)\n",
      " |      a / b\n",
      " |  \n",
      " |  __reduce__(self)\n",
      " |  \n",
      " |  __repr__(self)\n",
      " |      repr(self)\n",
      " |  \n",
      " |  __rfloordiv__(b, a)\n",
      " |      a // b\n",
      " |  \n",
      " |  __rmod__(b, a)\n",
      " |      a % b\n",
      " |  \n",
      " |  __rmul__(b, a)\n",
      " |      a * b\n",
      " |  \n",
      " |  __rpow__(b, a)\n",
      " |      a ** b\n",
      " |  \n",
      " |  __rsub__(b, a)\n",
      " |      a - b\n",
      " |  \n",
      " |  __rtruediv__(b, a)\n",
      " |      a / b\n",
      " |  \n",
      " |  __str__(self)\n",
      " |      str(self)\n",
      " |  \n",
      " |  __sub__(a, b)\n",
      " |      a - b\n",
      " |  \n",
      " |  __truediv__(a, b)\n",
      " |      a / b\n",
      " |  \n",
      " |  __trunc__(a)\n",
      " |      trunc(a)\n",
      " |  \n",
      " |  limit_denominator(self, max_denominator=1000000)\n",
      " |      Closest Fraction to self with denominator at most max_denominator.\n",
      " |      \n",
      " |      >>> Fraction('3.141592653589793').limit_denominator(10)\n",
      " |      Fraction(22, 7)\n",
      " |      >>> Fraction('3.141592653589793').limit_denominator(100)\n",
      " |      Fraction(311, 99)\n",
      " |      >>> Fraction(4321, 8765).limit_denominator(10000)\n",
      " |      Fraction(4321, 8765)\n",
      " |  \n",
      " |  ----------------------------------------------------------------------\n",
      " |  Class methods defined here:\n",
      " |  \n",
      " |  from_decimal(cls, dec) from abc.ABCMeta\n",
      " |      Converts a finite Decimal instance to a rational number, exactly.\n",
      " |  \n",
      " |  from_float(cls, f) from abc.ABCMeta\n",
      " |      Converts a finite float to a rational number, exactly.\n",
      " |      \n",
      " |      Beware that Fraction.from_float(0.3) != Fraction(3, 10).\n",
      " |  \n",
      " |  ----------------------------------------------------------------------\n",
      " |  Static methods defined here:\n",
      " |  \n",
      " |  __new__(cls, numerator=0, denominator=None)\n",
      " |      Constructs a Fraction.\n",
      " |      \n",
      " |      Takes a string like '3/2' or '1.5', another Rational instance, a\n",
      " |      numerator/denominator pair, or a float.\n",
      " |      \n",
      " |      Examples\n",
      " |      --------\n",
      " |      \n",
      " |      >>> Fraction(10, -8)\n",
      " |      Fraction(-5, 4)\n",
      " |      >>> Fraction(Fraction(1, 7), 5)\n",
      " |      Fraction(1, 35)\n",
      " |      >>> Fraction(Fraction(1, 7), Fraction(2, 3))\n",
      " |      Fraction(3, 14)\n",
      " |      >>> Fraction('314')\n",
      " |      Fraction(314, 1)\n",
      " |      >>> Fraction('-35/4')\n",
      " |      Fraction(-35, 4)\n",
      " |      >>> Fraction('3.1415') # conversion from numeric string\n",
      " |      Fraction(6283, 2000)\n",
      " |      >>> Fraction('-47e-2') # string may include a decimal exponent\n",
      " |      Fraction(-47, 100)\n",
      " |      >>> Fraction(1.47)  # direct construction from float (exact conversion)\n",
      " |      Fraction(6620291452234629, 4503599627370496)\n",
      " |      >>> Fraction(2.25)\n",
      " |      Fraction(9, 4)\n",
      " |      >>> Fraction(Decimal('1.47'))\n",
      " |      Fraction(147, 100)\n",
      " |  \n",
      " |  ----------------------------------------------------------------------\n",
      " |  Data descriptors defined here:\n",
      " |  \n",
      " |  denominator\n",
      " |  \n",
      " |  numerator\n",
      " |  \n",
      " |  ----------------------------------------------------------------------\n",
      " |  Data and other attributes defined here:\n",
      " |  \n",
      " |  __abstractmethods__ = frozenset([])\n",
      " |  \n",
      " |  ----------------------------------------------------------------------\n",
      " |  Methods inherited from numbers.Rational:\n",
      " |  \n",
      " |  __float__(self)\n",
      " |      float(self) = self.numerator / self.denominator\n",
      " |      \n",
      " |      It's important that this conversion use the integer's \"true\"\n",
      " |      division rather than casting one side to float before dividing\n",
      " |      so that ratios of huge integers convert without overflowing.\n",
      " |  \n",
      " |  ----------------------------------------------------------------------\n",
      " |  Methods inherited from numbers.Real:\n",
      " |  \n",
      " |  __complex__(self)\n",
      " |      complex(self) == complex(float(self), 0)\n",
      " |  \n",
      " |  __divmod__(self, other)\n",
      " |      divmod(self, other): The pair (self // other, self % other).\n",
      " |      \n",
      " |      Sometimes this can be computed faster than the pair of\n",
      " |      operations.\n",
      " |  \n",
      " |  __rdivmod__(self, other)\n",
      " |      divmod(other, self): The pair (self // other, self % other).\n",
      " |      \n",
      " |      Sometimes this can be computed faster than the pair of\n",
      " |      operations.\n",
      " |  \n",
      " |  conjugate(self)\n",
      " |      Conjugate is a no-op for Reals.\n",
      " |  \n",
      " |  ----------------------------------------------------------------------\n",
      " |  Data descriptors inherited from numbers.Real:\n",
      " |  \n",
      " |  imag\n",
      " |      Real numbers have no imaginary component.\n",
      " |  \n",
      " |  real\n",
      " |      Real numbers are their real component.\n",
      " |  \n",
      " |  ----------------------------------------------------------------------\n",
      " |  Methods inherited from numbers.Complex:\n",
      " |  \n",
      " |  __ne__(self, other)\n",
      " |      self != other\n",
      " |  \n",
      " |  ----------------------------------------------------------------------\n",
      " |  Data and other attributes inherited from numbers.Number:\n",
      " |  \n",
      " |  __metaclass__ = <class 'abc.ABCMeta'>\n",
      " |      Metaclass for defining Abstract Base Classes (ABCs).\n",
      " |      \n",
      " |      Use this metaclass to create an ABC.  An ABC can be subclassed\n",
      " |      directly, and then acts as a mix-in class.  You can also register\n",
      " |      unrelated concrete classes (even built-in classes) and unrelated\n",
      " |      ABCs as 'virtual subclasses' -- these and their descendants will\n",
      " |      be considered subclasses of the registering ABC by the built-in\n",
      " |      issubclass() function, but the registering ABC won't show up in\n",
      " |      their MRO (Method Resolution Order) nor will method\n",
      " |      implementations defined by the registering ABC be callable (not\n",
      " |      even via super()).\n",
      "\n"
     ]
    }
   ],
   "source": [
    "help(F)"
   ]
  },
  {
   "cell_type": "markdown",
   "metadata": {},
   "source": [
    "**Getting the numerator and denominator of the fraction**"
   ]
  },
  {
   "cell_type": "code",
   "execution_count": 23,
   "metadata": {
    "ExecuteTime": {
     "end_time": "2019-03-13T00:20:00.040524Z",
     "start_time": "2019-03-13T00:20:00.012836Z"
    }
   },
   "outputs": [
    {
     "data": {
      "text/plain": [
       "6"
      ]
     },
     "execution_count": 23,
     "metadata": {},
     "output_type": "execute_result"
    }
   ],
   "source": [
    "F('1.2').numerator"
   ]
  },
  {
   "cell_type": "code",
   "execution_count": 24,
   "metadata": {
    "ExecuteTime": {
     "end_time": "2019-03-13T00:20:02.968864Z",
     "start_time": "2019-03-13T00:20:02.941581Z"
    }
   },
   "outputs": [
    {
     "data": {
      "text/plain": [
       "5"
      ]
     },
     "execution_count": 24,
     "metadata": {},
     "output_type": "execute_result"
    }
   ],
   "source": [
    "F('1.2').denominator"
   ]
  },
  {
   "cell_type": "markdown",
   "metadata": {},
   "source": [
    "### The mathematical library, \"math\""
   ]
  },
  {
   "cell_type": "code",
   "execution_count": 25,
   "metadata": {
    "ExecuteTime": {
     "end_time": "2019-03-13T00:20:22.439313Z",
     "start_time": "2019-03-13T00:20:22.422323Z"
    }
   },
   "outputs": [],
   "source": [
    "import math as m"
   ]
  },
  {
   "cell_type": "code",
   "execution_count": 26,
   "metadata": {
    "ExecuteTime": {
     "end_time": "2019-03-13T00:20:24.098916Z",
     "start_time": "2019-03-13T00:20:24.069522Z"
    }
   },
   "outputs": [
    {
     "data": {
      "text/plain": [
       "3.141592653589793"
      ]
     },
     "execution_count": 26,
     "metadata": {},
     "output_type": "execute_result"
    }
   ],
   "source": [
    "m.pi"
   ]
  },
  {
   "cell_type": "code",
   "execution_count": 27,
   "metadata": {
    "ExecuteTime": {
     "end_time": "2019-03-13T00:20:26.319240Z",
     "start_time": "2019-03-13T00:20:26.290715Z"
    }
   },
   "outputs": [
    {
     "data": {
      "text/plain": [
       "2.718281828459045"
      ]
     },
     "execution_count": 27,
     "metadata": {},
     "output_type": "execute_result"
    }
   ],
   "source": [
    "m.e"
   ]
  },
  {
   "cell_type": "code",
   "execution_count": 28,
   "metadata": {
    "ExecuteTime": {
     "end_time": "2019-03-13T00:20:29.019681Z",
     "start_time": "2019-03-13T00:20:28.991516Z"
    }
   },
   "outputs": [
    {
     "data": {
      "text/plain": [
       "2.718281828459045"
      ]
     },
     "execution_count": 28,
     "metadata": {},
     "output_type": "execute_result"
    }
   ],
   "source": [
    "m.exp(1)"
   ]
  },
  {
   "cell_type": "code",
   "execution_count": 29,
   "metadata": {
    "ExecuteTime": {
     "end_time": "2019-03-13T00:20:30.970014Z",
     "start_time": "2019-03-13T00:20:30.952373Z"
    }
   },
   "outputs": [
    {
     "data": {
      "text/plain": [
       "1.0"
      ]
     },
     "execution_count": 29,
     "metadata": {},
     "output_type": "execute_result"
    }
   ],
   "source": [
    "m.log(m.e)"
   ]
  },
  {
   "cell_type": "code",
   "execution_count": 30,
   "metadata": {
    "ExecuteTime": {
     "end_time": "2019-03-13T00:20:33.295814Z",
     "start_time": "2019-03-13T00:20:33.268245Z"
    }
   },
   "outputs": [
    {
     "data": {
      "text/plain": [
       "2.0"
      ]
     },
     "execution_count": 30,
     "metadata": {},
     "output_type": "execute_result"
    }
   ],
   "source": [
    "m.log10(100)"
   ]
  },
  {
   "cell_type": "code",
   "execution_count": 31,
   "metadata": {
    "ExecuteTime": {
     "end_time": "2019-03-13T00:20:35.282205Z",
     "start_time": "2019-03-13T00:20:35.239255Z"
    }
   },
   "outputs": [
    {
     "data": {
      "text/plain": [
       "3628800"
      ]
     },
     "execution_count": 31,
     "metadata": {},
     "output_type": "execute_result"
    }
   ],
   "source": [
    "m.factorial(10)"
   ]
  },
  {
   "cell_type": "markdown",
   "metadata": {},
   "source": [
    "### Another useful library, \"random\""
   ]
  },
  {
   "cell_type": "code",
   "execution_count": 32,
   "metadata": {
    "ExecuteTime": {
     "end_time": "2019-03-13T00:20:48.958763Z",
     "start_time": "2019-03-13T00:20:48.942482Z"
    }
   },
   "outputs": [],
   "source": [
    "import random as r"
   ]
  },
  {
   "cell_type": "code",
   "execution_count": 33,
   "metadata": {
    "ExecuteTime": {
     "end_time": "2019-03-13T00:20:50.354465Z",
     "start_time": "2019-03-13T00:20:50.324922Z"
    }
   },
   "outputs": [
    {
     "data": {
      "text/plain": [
       "99"
      ]
     },
     "execution_count": 33,
     "metadata": {},
     "output_type": "execute_result"
    }
   ],
   "source": [
    "r.randrange(0,100)"
   ]
  },
  {
   "cell_type": "code",
   "execution_count": 34,
   "metadata": {
    "ExecuteTime": {
     "end_time": "2019-03-13T00:20:53.076646Z",
     "start_time": "2019-03-13T00:20:53.066715Z"
    }
   },
   "outputs": [],
   "source": [
    "z = ['windows', 'linux', 'mac']"
   ]
  },
  {
   "cell_type": "code",
   "execution_count": 35,
   "metadata": {
    "ExecuteTime": {
     "end_time": "2019-03-13T00:20:55.021214Z",
     "start_time": "2019-03-13T00:20:54.994427Z"
    }
   },
   "outputs": [
    {
     "data": {
      "text/plain": [
       "'linux'"
      ]
     },
     "execution_count": 35,
     "metadata": {},
     "output_type": "execute_result"
    }
   ],
   "source": [
    "r.choice(z)"
   ]
  },
  {
   "cell_type": "code",
   "execution_count": 36,
   "metadata": {
    "ExecuteTime": {
     "end_time": "2019-03-13T00:20:56.699772Z",
     "start_time": "2019-03-13T00:20:56.683800Z"
    }
   },
   "outputs": [],
   "source": [
    "r.shuffle(z)"
   ]
  },
  {
   "cell_type": "code",
   "execution_count": 37,
   "metadata": {
    "ExecuteTime": {
     "end_time": "2019-03-13T00:20:59.126993Z",
     "start_time": "2019-03-13T00:20:59.100295Z"
    }
   },
   "outputs": [
    {
     "data": {
      "text/plain": [
       "['linux', 'windows', 'mac']"
      ]
     },
     "execution_count": 37,
     "metadata": {},
     "output_type": "execute_result"
    }
   ],
   "source": [
    "z"
   ]
  },
  {
   "cell_type": "code",
   "execution_count": 38,
   "metadata": {
    "ExecuteTime": {
     "end_time": "2019-03-13T00:21:13.210144Z",
     "start_time": "2019-03-13T00:21:13.195265Z"
    }
   },
   "outputs": [],
   "source": [
    "r.shuffle(z)"
   ]
  },
  {
   "cell_type": "code",
   "execution_count": 39,
   "metadata": {
    "ExecuteTime": {
     "end_time": "2019-03-13T00:21:15.950830Z",
     "start_time": "2019-03-13T00:21:15.919428Z"
    }
   },
   "outputs": [
    {
     "data": {
      "text/plain": [
       "['mac', 'windows', 'linux']"
      ]
     },
     "execution_count": 39,
     "metadata": {},
     "output_type": "execute_result"
    }
   ],
   "source": [
    "z"
   ]
  },
  {
   "cell_type": "code",
   "execution_count": 40,
   "metadata": {
    "ExecuteTime": {
     "end_time": "2019-03-13T00:21:21.987526Z",
     "start_time": "2019-03-13T00:21:21.958451Z"
    }
   },
   "outputs": [
    {
     "data": {
      "text/plain": [
       "0.8445351749952901"
      ]
     },
     "execution_count": 40,
     "metadata": {},
     "output_type": "execute_result"
    }
   ],
   "source": [
    "r.random()"
   ]
  },
  {
   "cell_type": "markdown",
   "metadata": {},
   "source": [
    "<h2>String</h2>"
   ]
  },
  {
   "cell_type": "markdown",
   "metadata": {
    "collapsed": true
   },
   "source": [
    "### Creating a string"
   ]
  },
  {
   "cell_type": "code",
   "execution_count": 42,
   "metadata": {
    "collapsed": true
   },
   "outputs": [],
   "source": [
    "my_string='this is text and also characters and simbols'"
   ]
  },
  {
   "cell_type": "markdown",
   "metadata": {},
   "source": [
    "### Showing the first string, the last one and some in the middle"
   ]
  },
  {
   "cell_type": "code",
   "execution_count": 40,
   "metadata": {},
   "outputs": [
    {
     "data": {
      "text/plain": [
       "'t'"
      ]
     },
     "execution_count": 40,
     "metadata": {},
     "output_type": "execute_result"
    }
   ],
   "source": [
    "my_string[0]"
   ]
  },
  {
   "cell_type": "code",
   "execution_count": 50,
   "metadata": {},
   "outputs": [
    {
     "data": {
      "text/plain": [
       "'is text and'"
      ]
     },
     "execution_count": 50,
     "metadata": {},
     "output_type": "execute_result"
    }
   ],
   "source": [
    "my_string[5:16]"
   ]
  },
  {
   "cell_type": "code",
   "execution_count": 41,
   "metadata": {},
   "outputs": [
    {
     "data": {
      "text/plain": [
       "'s'"
      ]
     },
     "execution_count": 41,
     "metadata": {},
     "output_type": "execute_result"
    }
   ],
   "source": [
    "my_string[-1]"
   ]
  },
  {
   "cell_type": "code",
   "execution_count": 51,
   "metadata": {},
   "outputs": [
    {
     "data": {
      "text/plain": [
       "'simbol'"
      ]
     },
     "execution_count": 51,
     "metadata": {},
     "output_type": "execute_result"
    }
   ],
   "source": [
    "my_string[-7:-1]"
   ]
  },
  {
   "cell_type": "code",
   "execution_count": 52,
   "metadata": {},
   "outputs": [
    {
     "data": {
      "text/plain": [
       "'simbols'"
      ]
     },
     "execution_count": 52,
     "metadata": {},
     "output_type": "execute_result"
    }
   ],
   "source": [
    "my_string[-7:]"
   ]
  },
  {
   "cell_type": "markdown",
   "metadata": {},
   "source": [
    "### Deleting a string"
   ]
  },
  {
   "cell_type": "code",
   "execution_count": 43,
   "metadata": {},
   "outputs": [],
   "source": [
    "del my_string"
   ]
  },
  {
   "cell_type": "code",
   "execution_count": 44,
   "metadata": {},
   "outputs": [
    {
     "ename": "NameError",
     "evalue": "name 'my_string' is not defined",
     "output_type": "error",
     "traceback": [
      "\u001b[0;31m---------------------------------------------------------------------------\u001b[0m",
      "\u001b[0;31mNameError\u001b[0m                                 Traceback (most recent call last)",
      "\u001b[0;32m<ipython-input-44-9638f55ae8ef>\u001b[0m in \u001b[0;36m<module>\u001b[0;34m()\u001b[0m\n\u001b[0;32m----> 1\u001b[0;31m \u001b[0mmy_string\u001b[0m\u001b[1;33m\u001b[0m\u001b[0m\n\u001b[0m",
      "\u001b[0;31mNameError\u001b[0m: name 'my_string' is not defined"
     ]
    }
   ],
   "source": [
    "my_string"
   ]
  },
  {
   "cell_type": "markdown",
   "metadata": {},
   "source": [
    "### String concatenation"
   ]
  },
  {
   "cell_type": "code",
   "execution_count": 44,
   "metadata": {
    "ExecuteTime": {
     "end_time": "2019-03-13T01:01:26.758044Z",
     "start_time": "2019-03-13T01:01:26.740514Z"
    }
   },
   "outputs": [],
   "source": [
    "string_1='this is text and also characters and simbols'"
   ]
  },
  {
   "cell_type": "code",
   "execution_count": 45,
   "metadata": {
    "ExecuteTime": {
     "end_time": "2019-03-13T01:01:28.236803Z",
     "start_time": "2019-03-13T01:01:28.221341Z"
    }
   },
   "outputs": [],
   "source": [
    "string_2=string_1.upper()"
   ]
  },
  {
   "cell_type": "code",
   "execution_count": 46,
   "metadata": {
    "ExecuteTime": {
     "end_time": "2019-03-13T01:01:29.540920Z",
     "start_time": "2019-03-13T01:01:29.523401Z"
    }
   },
   "outputs": [],
   "source": [
    "final_string=string_1+' '+string_2"
   ]
  },
  {
   "cell_type": "code",
   "execution_count": 47,
   "metadata": {
    "ExecuteTime": {
     "end_time": "2019-03-13T01:01:31.654842Z",
     "start_time": "2019-03-13T01:01:31.623858Z"
    }
   },
   "outputs": [
    {
     "data": {
      "text/plain": [
       "'this is text and also characters and simbols THIS IS TEXT AND ALSO CHARACTERS AND SIMBOLS'"
      ]
     },
     "execution_count": 47,
     "metadata": {},
     "output_type": "execute_result"
    }
   ],
   "source": [
    "final_string"
   ]
  },
  {
   "cell_type": "code",
   "execution_count": 49,
   "metadata": {},
   "outputs": [
    {
     "data": {
      "text/plain": [
       "'this is text and also characters and simbols this is text and also characters and simbols any string could be concatenated with another string'"
      ]
     },
     "execution_count": 49,
     "metadata": {},
     "output_type": "execute_result"
    }
   ],
   "source": [
    "final_string.lower()+' any string could be concatenated with another string'"
   ]
  },
  {
   "cell_type": "code",
   "execution_count": 56,
   "metadata": {},
   "outputs": [
    {
     "data": {
      "text/plain": [
       "'this;is;text;and;also;characters;and;simbols;THIS;IS;TEXT;AND;ALSO;CHARACTERS;AND;SIMBOLS but they cannot be concatenated with other objects like numbers, first, you have to convert them to string with \"str(your_object)\"'"
      ]
     },
     "execution_count": 56,
     "metadata": {},
     "output_type": "execute_result"
    }
   ],
   "source": [
    "final_string.replace(' ',';') + ' but they cannot be concatenated with other objects like numbers, first, you have to convert them to string with \"str(your_object)\"'"
   ]
  },
  {
   "cell_type": "markdown",
   "metadata": {},
   "source": [
    "### Itering throught a string"
   ]
  },
  {
   "cell_type": "code",
   "execution_count": 41,
   "metadata": {
    "ExecuteTime": {
     "end_time": "2019-03-13T01:00:55.234923Z",
     "start_time": "2019-03-13T01:00:55.194554Z"
    }
   },
   "outputs": [
    {
     "name": "stdout",
     "output_type": "stream",
     "text": [
      "('Letter: ', 'm ,Count:1')\n",
      "('Letter: ', 'y ,Count:2')\n",
      "('Letter: ', '  ,Count:3')\n",
      "('Letter: ', 't ,Count:4')\n",
      "('Letter: ', 'e ,Count:5')\n",
      "('Letter: ', 'x ,Count:6')\n",
      "('Letter: ', 't ,Count:7')\n"
     ]
    }
   ],
   "source": [
    "count=0\n",
    "for letter in 'my text':\n",
    "    count+=1\n",
    "    print('Letter: ',letter+' ,Count:'+str(count))"
   ]
  },
  {
   "cell_type": "code",
   "execution_count": 48,
   "metadata": {
    "ExecuteTime": {
     "end_time": "2019-03-13T01:01:34.466758Z",
     "start_time": "2019-03-13T01:01:34.354306Z"
    }
   },
   "outputs": [
    {
     "name": "stdout",
     "output_type": "stream",
     "text": [
      "('Letter: ', 't ,Count:1')\n",
      "('Letter: ', 'h ,Count:2')\n",
      "('Letter: ', 'i ,Count:3')\n",
      "('Letter: ', 's ,Count:4')\n",
      "('Letter: ', '  ,Count:5')\n",
      "('Letter: ', 'i ,Count:6')\n",
      "('Letter: ', 's ,Count:7')\n",
      "('Letter: ', '  ,Count:8')\n",
      "('Letter: ', 't ,Count:9')\n",
      "('Letter: ', 'e ,Count:10')\n",
      "('Letter: ', 'x ,Count:11')\n",
      "('Letter: ', 't ,Count:12')\n",
      "('Letter: ', '  ,Count:13')\n",
      "('Letter: ', 'a ,Count:14')\n",
      "('Letter: ', 'n ,Count:15')\n",
      "('Letter: ', 'd ,Count:16')\n",
      "('Letter: ', '  ,Count:17')\n",
      "('Letter: ', 'a ,Count:18')\n",
      "('Letter: ', 'l ,Count:19')\n",
      "('Letter: ', 's ,Count:20')\n",
      "('Letter: ', 'o ,Count:21')\n",
      "('Letter: ', '  ,Count:22')\n",
      "('Letter: ', 'c ,Count:23')\n",
      "('Letter: ', 'h ,Count:24')\n",
      "('Letter: ', 'a ,Count:25')\n",
      "('Letter: ', 'r ,Count:26')\n",
      "('Letter: ', 'a ,Count:27')\n",
      "('Letter: ', 'c ,Count:28')\n",
      "('Letter: ', 't ,Count:29')\n",
      "('Letter: ', 'e ,Count:30')\n",
      "('Letter: ', 'r ,Count:31')\n",
      "('Letter: ', 's ,Count:32')\n",
      "('Letter: ', '  ,Count:33')\n",
      "('Letter: ', 'a ,Count:34')\n",
      "('Letter: ', 'n ,Count:35')\n",
      "('Letter: ', 'd ,Count:36')\n",
      "('Letter: ', '  ,Count:37')\n",
      "('Letter: ', 's ,Count:38')\n",
      "('Letter: ', 'i ,Count:39')\n",
      "('Letter: ', 'm ,Count:40')\n",
      "('Letter: ', 'b ,Count:41')\n",
      "('Letter: ', 'o ,Count:42')\n",
      "('Letter: ', 'l ,Count:43')\n",
      "('Letter: ', 's ,Count:44')\n",
      "('Letter: ', '  ,Count:45')\n",
      "('Letter: ', 'T ,Count:46')\n",
      "('Letter: ', 'H ,Count:47')\n",
      "('Letter: ', 'I ,Count:48')\n",
      "('Letter: ', 'S ,Count:49')\n",
      "('Letter: ', '  ,Count:50')\n",
      "('Letter: ', 'I ,Count:51')\n",
      "('Letter: ', 'S ,Count:52')\n",
      "('Letter: ', '  ,Count:53')\n",
      "('Letter: ', 'T ,Count:54')\n",
      "('Letter: ', 'E ,Count:55')\n",
      "('Letter: ', 'X ,Count:56')\n",
      "('Letter: ', 'T ,Count:57')\n",
      "('Letter: ', '  ,Count:58')\n",
      "('Letter: ', 'A ,Count:59')\n",
      "('Letter: ', 'N ,Count:60')\n",
      "('Letter: ', 'D ,Count:61')\n",
      "('Letter: ', '  ,Count:62')\n",
      "('Letter: ', 'A ,Count:63')\n",
      "('Letter: ', 'L ,Count:64')\n",
      "('Letter: ', 'S ,Count:65')\n",
      "('Letter: ', 'O ,Count:66')\n",
      "('Letter: ', '  ,Count:67')\n",
      "('Letter: ', 'C ,Count:68')\n",
      "('Letter: ', 'H ,Count:69')\n",
      "('Letter: ', 'A ,Count:70')\n",
      "('Letter: ', 'R ,Count:71')\n",
      "('Letter: ', 'A ,Count:72')\n",
      "('Letter: ', 'C ,Count:73')\n",
      "('Letter: ', 'T ,Count:74')\n",
      "('Letter: ', 'E ,Count:75')\n",
      "('Letter: ', 'R ,Count:76')\n",
      "('Letter: ', 'S ,Count:77')\n",
      "('Letter: ', '  ,Count:78')\n",
      "('Letter: ', 'A ,Count:79')\n",
      "('Letter: ', 'N ,Count:80')\n",
      "('Letter: ', 'D ,Count:81')\n",
      "('Letter: ', '  ,Count:82')\n",
      "('Letter: ', 'S ,Count:83')\n",
      "('Letter: ', 'I ,Count:84')\n",
      "('Letter: ', 'M ,Count:85')\n",
      "('Letter: ', 'B ,Count:86')\n",
      "('Letter: ', 'O ,Count:87')\n",
      "('Letter: ', 'L ,Count:88')\n",
      "('Letter: ', 'S ,Count:89')\n"
     ]
    }
   ],
   "source": [
    "count=0\n",
    "for letter in final_string:\n",
    "    count+=1\n",
    "    print('Letter: ',letter+' ,Count:'+str(count))"
   ]
  },
  {
   "cell_type": "markdown",
   "metadata": {},
   "source": [
    "### Checking string membership"
   ]
  },
  {
   "cell_type": "code",
   "execution_count": 49,
   "metadata": {
    "ExecuteTime": {
     "end_time": "2019-03-13T01:01:38.873252Z",
     "start_time": "2019-03-13T01:01:38.845385Z"
    }
   },
   "outputs": [
    {
     "data": {
      "text/plain": [
       "True"
      ]
     },
     "execution_count": 49,
     "metadata": {},
     "output_type": "execute_result"
    }
   ],
   "source": [
    "'work' in 'working'"
   ]
  },
  {
   "cell_type": "code",
   "execution_count": 50,
   "metadata": {
    "ExecuteTime": {
     "end_time": "2019-03-13T01:01:40.331417Z",
     "start_time": "2019-03-13T01:01:40.297479Z"
    }
   },
   "outputs": [
    {
     "data": {
      "text/plain": [
       "True"
      ]
     },
     "execution_count": 50,
     "metadata": {},
     "output_type": "execute_result"
    }
   ],
   "source": [
    "'fake' in 'This is a total fake'"
   ]
  },
  {
   "cell_type": "code",
   "execution_count": 51,
   "metadata": {
    "ExecuteTime": {
     "end_time": "2019-03-13T01:01:42.014206Z",
     "start_time": "2019-03-13T01:01:41.984859Z"
    }
   },
   "outputs": [
    {
     "data": {
      "text/plain": [
       "False"
      ]
     },
     "execution_count": 51,
     "metadata": {},
     "output_type": "execute_result"
    }
   ],
   "source": [
    "'fake.' in 'This is a total fake'"
   ]
  },
  {
   "cell_type": "markdown",
   "metadata": {},
   "source": [
    "### Enumerate & len"
   ]
  },
  {
   "cell_type": "code",
   "execution_count": 61,
   "metadata": {},
   "outputs": [
    {
     "data": {
      "text/plain": [
       "[(0, 't'), (1, 'e'), (2, 'x'), (3, 't')]"
      ]
     },
     "execution_count": 61,
     "metadata": {},
     "output_type": "execute_result"
    }
   ],
   "source": [
    "list(enumerate('text'))"
   ]
  },
  {
   "cell_type": "code",
   "execution_count": 62,
   "metadata": {},
   "outputs": [
    {
     "data": {
      "text/plain": [
       "4"
      ]
     },
     "execution_count": 62,
     "metadata": {},
     "output_type": "execute_result"
    }
   ],
   "source": [
    "len('text')"
   ]
  },
  {
   "cell_type": "markdown",
   "metadata": {},
   "source": [
    "### Spliting"
   ]
  },
  {
   "cell_type": "code",
   "execution_count": 63,
   "metadata": {},
   "outputs": [
    {
     "data": {
      "text/plain": [
       "['this',\n",
       " 'is',\n",
       " 'text',\n",
       " 'and',\n",
       " 'also',\n",
       " 'characters',\n",
       " 'and',\n",
       " 'simbols',\n",
       " 'THIS',\n",
       " 'IS',\n",
       " 'TEXT',\n",
       " 'AND',\n",
       " 'ALSO',\n",
       " 'CHARACTERS',\n",
       " 'AND',\n",
       " 'SIMBOLS']"
      ]
     },
     "execution_count": 63,
     "metadata": {},
     "output_type": "execute_result"
    }
   ],
   "source": [
    "final_string.split()"
   ]
  },
  {
   "cell_type": "code",
   "execution_count": 64,
   "metadata": {},
   "outputs": [
    {
     "data": {
      "text/plain": [
       "['this is text ',\n",
       " ' also characters ',\n",
       " ' simbols THIS IS TEXT AND ALSO CHARACTERS AND SIMBOLS']"
      ]
     },
     "execution_count": 64,
     "metadata": {},
     "output_type": "execute_result"
    }
   ],
   "source": [
    "final_string.split('and')"
   ]
  },
  {
   "cell_type": "code",
   "execution_count": 65,
   "metadata": {},
   "outputs": [
    {
     "data": {
      "text/plain": [
       "'ALSO CHARACTERS'"
      ]
     },
     "execution_count": 65,
     "metadata": {},
     "output_type": "execute_result"
    }
   ],
   "source": [
    "final_string.split('and')[1].strip().upper()"
   ]
  },
  {
   "cell_type": "markdown",
   "metadata": {},
   "source": [
    "## List"
   ]
  },
  {
   "cell_type": "markdown",
   "metadata": {},
   "source": [
    "### Creating an empty list"
   ]
  },
  {
   "cell_type": "code",
   "execution_count": 54,
   "metadata": {
    "ExecuteTime": {
     "end_time": "2019-03-13T01:02:47.550537Z",
     "start_time": "2019-03-13T01:02:47.535530Z"
    }
   },
   "outputs": [],
   "source": [
    "#Empty list\n",
    "my_list=[]"
   ]
  },
  {
   "cell_type": "markdown",
   "metadata": {
    "collapsed": true
   },
   "source": [
    "### Creating a list with mixed datatypes"
   ]
  },
  {
   "cell_type": "code",
   "execution_count": 55,
   "metadata": {
    "ExecuteTime": {
     "end_time": "2019-03-13T01:02:50.483257Z",
     "start_time": "2019-03-13T01:02:50.466447Z"
    }
   },
   "outputs": [],
   "source": [
    "new_list=[0,'1',2.0,['four']]"
   ]
  },
  {
   "cell_type": "code",
   "execution_count": 56,
   "metadata": {
    "ExecuteTime": {
     "end_time": "2019-03-13T01:02:53.027333Z",
     "start_time": "2019-03-13T01:02:52.999657Z"
    }
   },
   "outputs": [
    {
     "data": {
      "text/plain": [
       "[0, '1', 2.0, ['four']]"
      ]
     },
     "execution_count": 56,
     "metadata": {},
     "output_type": "execute_result"
    }
   ],
   "source": [
    "new_list"
   ]
  },
  {
   "cell_type": "code",
   "execution_count": 57,
   "metadata": {
    "ExecuteTime": {
     "end_time": "2019-03-13T01:02:56.187490Z",
     "start_time": "2019-03-13T01:02:56.149633Z"
    }
   },
   "outputs": [
    {
     "name": "stdout",
     "output_type": "stream",
     "text": [
      "<type 'int'>\n",
      "<type 'str'>\n",
      "<type 'float'>\n",
      "<type 'list'><type 'str'>\n"
     ]
    }
   ],
   "source": [
    "for i in new_list:\n",
    "    if isinstance(i,list):\n",
    "        for j in i:\n",
    "            print(str(type(i))+str(type(j)))\n",
    "    else:\n",
    "        print(type(i))"
   ]
  },
  {
   "cell_type": "markdown",
   "metadata": {},
   "source": [
    "### Appending and extending a list"
   ]
  },
  {
   "cell_type": "code",
   "execution_count": 70,
   "metadata": {
    "collapsed": true
   },
   "outputs": [],
   "source": [
    "new_list.append('one')"
   ]
  },
  {
   "cell_type": "code",
   "execution_count": 71,
   "metadata": {},
   "outputs": [
    {
     "data": {
      "text/plain": [
       "[0, '1', 2.0, ['four'], 'one']"
      ]
     },
     "execution_count": 71,
     "metadata": {},
     "output_type": "execute_result"
    }
   ],
   "source": [
    "new_list"
   ]
  },
  {
   "cell_type": "code",
   "execution_count": 72,
   "metadata": {
    "collapsed": true
   },
   "outputs": [],
   "source": [
    "new_list.extend('two')"
   ]
  },
  {
   "cell_type": "code",
   "execution_count": 73,
   "metadata": {},
   "outputs": [
    {
     "data": {
      "text/plain": [
       "[0, '1', 2.0, ['four'], 'one', 't', 'w', 'o']"
      ]
     },
     "execution_count": 73,
     "metadata": {},
     "output_type": "execute_result"
    }
   ],
   "source": [
    "new_list"
   ]
  },
  {
   "cell_type": "code",
   "execution_count": 74,
   "metadata": {
    "collapsed": true
   },
   "outputs": [],
   "source": [
    "new_list.extend(['three'])"
   ]
  },
  {
   "cell_type": "code",
   "execution_count": 75,
   "metadata": {},
   "outputs": [
    {
     "data": {
      "text/plain": [
       "[0, '1', 2.0, ['four'], 'one', 't', 'w', 'o', 'three']"
      ]
     },
     "execution_count": 75,
     "metadata": {},
     "output_type": "execute_result"
    }
   ],
   "source": [
    "new_list"
   ]
  },
  {
   "cell_type": "code",
   "execution_count": 76,
   "metadata": {},
   "outputs": [
    {
     "data": {
      "text/plain": [
       "[0,\n",
       " '1',\n",
       " 2.0,\n",
       " ['four'],\n",
       " 'one',\n",
       " 't',\n",
       " 'w',\n",
       " 'o',\n",
       " 'three',\n",
       " 0,\n",
       " '1',\n",
       " 2.0,\n",
       " ['four'],\n",
       " 'one',\n",
       " 't',\n",
       " 'w',\n",
       " 'o',\n",
       " 'three']"
      ]
     },
     "execution_count": 76,
     "metadata": {},
     "output_type": "execute_result"
    }
   ],
   "source": [
    "new_list*2"
   ]
  },
  {
   "cell_type": "code",
   "execution_count": 77,
   "metadata": {},
   "outputs": [
    {
     "data": {
      "text/plain": [
       "[0,\n",
       " '1',\n",
       " 2.0,\n",
       " ['four'],\n",
       " 'one',\n",
       " 't',\n",
       " 'w',\n",
       " 'o',\n",
       " 'three',\n",
       " 0,\n",
       " '1',\n",
       " 2.0,\n",
       " ['four'],\n",
       " 'one',\n",
       " 't',\n",
       " 'w',\n",
       " 'o',\n",
       " 'three',\n",
       " 0,\n",
       " '1',\n",
       " 2.0,\n",
       " ['four'],\n",
       " 'one',\n",
       " 't',\n",
       " 'w',\n",
       " 'o',\n",
       " 'three']"
      ]
     },
     "execution_count": 77,
     "metadata": {},
     "output_type": "execute_result"
    }
   ],
   "source": [
    "new_list+new_list+new_list"
   ]
  },
  {
   "cell_type": "markdown",
   "metadata": {},
   "source": [
    "### Remove and pop methods"
   ]
  },
  {
   "cell_type": "code",
   "execution_count": 78,
   "metadata": {},
   "outputs": [],
   "source": [
    "new_list.remove('o')"
   ]
  },
  {
   "cell_type": "code",
   "execution_count": 79,
   "metadata": {},
   "outputs": [
    {
     "data": {
      "text/plain": [
       "[0, '1', 2.0, ['four'], 'one', 't', 'w', 'three']"
      ]
     },
     "execution_count": 79,
     "metadata": {},
     "output_type": "execute_result"
    }
   ],
   "source": [
    "new_list"
   ]
  },
  {
   "cell_type": "code",
   "execution_count": 80,
   "metadata": {},
   "outputs": [
    {
     "data": {
      "text/plain": [
       "'1'"
      ]
     },
     "execution_count": 80,
     "metadata": {},
     "output_type": "execute_result"
    }
   ],
   "source": [
    "new_list.pop(1)"
   ]
  },
  {
   "cell_type": "code",
   "execution_count": 81,
   "metadata": {},
   "outputs": [
    {
     "data": {
      "text/plain": [
       "[0, 2.0, ['four'], 'one', 't', 'w', 'three']"
      ]
     },
     "execution_count": 81,
     "metadata": {},
     "output_type": "execute_result"
    }
   ],
   "source": [
    "new_list"
   ]
  },
  {
   "cell_type": "markdown",
   "metadata": {},
   "source": [
    "### Tuple"
   ]
  },
  {
   "cell_type": "markdown",
   "metadata": {},
   "source": [
    "### Declaring an empty tuple"
   ]
  },
  {
   "cell_type": "code",
   "execution_count": 60,
   "metadata": {
    "ExecuteTime": {
     "end_time": "2019-03-13T01:04:56.017117Z",
     "start_time": "2019-03-13T01:04:56.003131Z"
    }
   },
   "outputs": [],
   "source": [
    "my_tuple=()"
   ]
  },
  {
   "cell_type": "markdown",
   "metadata": {},
   "source": [
    "### Creating a tuple with mixed datatypes"
   ]
  },
  {
   "cell_type": "code",
   "execution_count": 59,
   "metadata": {
    "ExecuteTime": {
     "end_time": "2019-03-13T01:04:54.554006Z",
     "start_time": "2019-03-13T01:04:54.537804Z"
    }
   },
   "outputs": [],
   "source": [
    "new_tuple=(0,'1',2.0,['four'])"
   ]
  },
  {
   "cell_type": "markdown",
   "metadata": {},
   "source": [
    "### Count & index"
   ]
  },
  {
   "cell_type": "code",
   "execution_count": 61,
   "metadata": {
    "ExecuteTime": {
     "end_time": "2019-03-13T01:05:07.160139Z",
     "start_time": "2019-03-13T01:05:07.135382Z"
    }
   },
   "outputs": [
    {
     "data": {
      "text/plain": [
       "1"
      ]
     },
     "execution_count": 61,
     "metadata": {},
     "output_type": "execute_result"
    }
   ],
   "source": [
    "new_tuple.count(0)"
   ]
  },
  {
   "cell_type": "code",
   "execution_count": 62,
   "metadata": {
    "ExecuteTime": {
     "end_time": "2019-03-13T01:05:08.529986Z",
     "start_time": "2019-03-13T01:05:08.504956Z"
    }
   },
   "outputs": [
    {
     "data": {
      "text/plain": [
       "3"
      ]
     },
     "execution_count": 62,
     "metadata": {},
     "output_type": "execute_result"
    }
   ],
   "source": [
    "new_tuple.index(['four'])"
   ]
  },
  {
   "cell_type": "markdown",
   "metadata": {},
   "source": [
    "### Membership"
   ]
  },
  {
   "cell_type": "code",
   "execution_count": 63,
   "metadata": {
    "ExecuteTime": {
     "end_time": "2019-03-13T01:05:21.377132Z",
     "start_time": "2019-03-13T01:05:21.352420Z"
    }
   },
   "outputs": [
    {
     "data": {
      "text/plain": [
       "True"
      ]
     },
     "execution_count": 63,
     "metadata": {},
     "output_type": "execute_result"
    }
   ],
   "source": [
    "2.0 in new_tuple"
   ]
  },
  {
   "cell_type": "code",
   "execution_count": 64,
   "metadata": {
    "ExecuteTime": {
     "end_time": "2019-03-13T01:05:22.929259Z",
     "start_time": "2019-03-13T01:05:22.904864Z"
    }
   },
   "outputs": [
    {
     "data": {
      "text/plain": [
       "False"
      ]
     },
     "execution_count": 64,
     "metadata": {},
     "output_type": "execute_result"
    }
   ],
   "source": [
    "1.0 in new_tuple"
   ]
  },
  {
   "cell_type": "markdown",
   "metadata": {},
   "source": [
    "### Iterating through a tuple"
   ]
  },
  {
   "cell_type": "code",
   "execution_count": 65,
   "metadata": {
    "ExecuteTime": {
     "end_time": "2019-03-13T01:05:45.613487Z",
     "start_time": "2019-03-13T01:05:45.599342Z"
    }
   },
   "outputs": [
    {
     "name": "stdout",
     "output_type": "stream",
     "text": [
      "0\n",
      "1\n",
      "2.0\n",
      "['four']\n"
     ]
    }
   ],
   "source": [
    "for element in new_tuple:\n",
    "    print(element)"
   ]
  },
  {
   "cell_type": "markdown",
   "metadata": {},
   "source": [
    "## Set"
   ]
  },
  {
   "cell_type": "markdown",
   "metadata": {},
   "source": [
    "### Creating an empty set"
   ]
  },
  {
   "cell_type": "code",
   "execution_count": 69,
   "metadata": {
    "ExecuteTime": {
     "end_time": "2019-03-13T01:09:10.873010Z",
     "start_time": "2019-03-13T01:09:10.855815Z"
    }
   },
   "outputs": [],
   "source": [
    "my_set=set()"
   ]
  },
  {
   "cell_type": "markdown",
   "metadata": {},
   "source": [
    "### Mixed datatypes in a set"
   ]
  },
  {
   "cell_type": "code",
   "execution_count": 70,
   "metadata": {
    "ExecuteTime": {
     "end_time": "2019-03-13T01:09:12.445487Z",
     "start_time": "2019-03-13T01:09:12.427166Z"
    }
   },
   "outputs": [],
   "source": [
    "my_set={0,1.0,\"two\",\"1+1+1\",(4,5)}"
   ]
  },
  {
   "cell_type": "code",
   "execution_count": 71,
   "metadata": {
    "ExecuteTime": {
     "end_time": "2019-03-13T01:09:14.430090Z",
     "start_time": "2019-03-13T01:09:14.400900Z"
    }
   },
   "outputs": [
    {
     "data": {
      "text/plain": [
       "{0, 1.0, '1+1+1', 'two', (4, 5)}"
      ]
     },
     "execution_count": 71,
     "metadata": {},
     "output_type": "execute_result"
    }
   ],
   "source": [
    "my_set"
   ]
  },
  {
   "cell_type": "markdown",
   "metadata": {},
   "source": [
    "### Adding one elemento to the set"
   ]
  },
  {
   "cell_type": "code",
   "execution_count": 72,
   "metadata": {
    "ExecuteTime": {
     "end_time": "2019-03-13T01:09:16.609295Z",
     "start_time": "2019-03-13T01:09:16.592164Z"
    }
   },
   "outputs": [],
   "source": [
    "my_set.add(6)"
   ]
  },
  {
   "cell_type": "code",
   "execution_count": 73,
   "metadata": {
    "ExecuteTime": {
     "end_time": "2019-03-13T01:09:18.436404Z",
     "start_time": "2019-03-13T01:09:18.406494Z"
    }
   },
   "outputs": [
    {
     "data": {
      "text/plain": [
       "{0, 1.0, 6, '1+1+1', 'two', (4, 5)}"
      ]
     },
     "execution_count": 73,
     "metadata": {},
     "output_type": "execute_result"
    }
   ],
   "source": [
    "my_set"
   ]
  },
  {
   "cell_type": "markdown",
   "metadata": {},
   "source": [
    "### Adding multiple elements"
   ]
  },
  {
   "cell_type": "code",
   "execution_count": 74,
   "metadata": {
    "ExecuteTime": {
     "end_time": "2019-03-13T01:09:21.592648Z",
     "start_time": "2019-03-13T01:09:21.575953Z"
    }
   },
   "outputs": [],
   "source": [
    "my_set.update([7,8,9,10])"
   ]
  },
  {
   "cell_type": "code",
   "execution_count": 75,
   "metadata": {
    "ExecuteTime": {
     "end_time": "2019-03-13T01:09:24.075647Z",
     "start_time": "2019-03-13T01:09:24.043609Z"
    }
   },
   "outputs": [
    {
     "data": {
      "text/plain": [
       "{0, 1.0, 6, 7, 8, 9, 10, '1+1+1', 'two', (4, 5)}"
      ]
     },
     "execution_count": 75,
     "metadata": {},
     "output_type": "execute_result"
    }
   ],
   "source": [
    "my_set"
   ]
  },
  {
   "cell_type": "markdown",
   "metadata": {},
   "source": [
    "### Discard & remove"
   ]
  },
  {
   "cell_type": "code",
   "execution_count": 76,
   "metadata": {
    "ExecuteTime": {
     "end_time": "2019-03-13T01:09:26.097102Z",
     "start_time": "2019-03-13T01:09:26.078939Z"
    }
   },
   "outputs": [],
   "source": [
    "my_set.discard(0)"
   ]
  },
  {
   "cell_type": "code",
   "execution_count": 77,
   "metadata": {
    "ExecuteTime": {
     "end_time": "2019-03-13T01:09:28.546794Z",
     "start_time": "2019-03-13T01:09:28.517932Z"
    }
   },
   "outputs": [
    {
     "data": {
      "text/plain": [
       "{1.0, 6, 7, 8, 9, 10, '1+1+1', 'two', (4, 5)}"
      ]
     },
     "execution_count": 77,
     "metadata": {},
     "output_type": "execute_result"
    }
   ],
   "source": [
    "my_set"
   ]
  },
  {
   "cell_type": "code",
   "execution_count": 78,
   "metadata": {
    "ExecuteTime": {
     "end_time": "2019-03-13T01:09:30.206428Z",
     "start_time": "2019-03-13T01:09:30.190361Z"
    }
   },
   "outputs": [],
   "source": [
    "my_set.remove(6)"
   ]
  },
  {
   "cell_type": "code",
   "execution_count": 79,
   "metadata": {
    "ExecuteTime": {
     "end_time": "2019-03-13T01:09:31.854560Z",
     "start_time": "2019-03-13T01:09:31.823647Z"
    }
   },
   "outputs": [
    {
     "data": {
      "text/plain": [
       "{1.0, 7, 8, 9, 10, '1+1+1', 'two', (4, 5)}"
      ]
     },
     "execution_count": 79,
     "metadata": {},
     "output_type": "execute_result"
    }
   ],
   "source": [
    "my_set"
   ]
  },
  {
   "cell_type": "code",
   "execution_count": 80,
   "metadata": {
    "ExecuteTime": {
     "end_time": "2019-03-13T01:09:34.250387Z",
     "start_time": "2019-03-13T01:09:34.234033Z"
    }
   },
   "outputs": [],
   "source": [
    "my_set.discard(100000)"
   ]
  },
  {
   "cell_type": "code",
   "execution_count": 81,
   "metadata": {
    "ExecuteTime": {
     "end_time": "2019-03-13T01:09:38.537773Z",
     "start_time": "2019-03-13T01:09:38.505934Z"
    }
   },
   "outputs": [
    {
     "data": {
      "text/plain": [
       "{1.0, 7, 8, 9, 10, '1+1+1', 'two', (4, 5)}"
      ]
     },
     "execution_count": 81,
     "metadata": {},
     "output_type": "execute_result"
    }
   ],
   "source": [
    "my_set"
   ]
  },
  {
   "cell_type": "code",
   "execution_count": 82,
   "metadata": {
    "ExecuteTime": {
     "end_time": "2019-03-13T01:09:41.205114Z",
     "start_time": "2019-03-13T01:09:41.122647Z"
    }
   },
   "outputs": [
    {
     "ename": "KeyError",
     "evalue": "100000",
     "output_type": "error",
     "traceback": [
      "\u001b[0;31m---------------------------------------------------------------------------\u001b[0m",
      "\u001b[0;31mKeyError\u001b[0m                                  Traceback (most recent call last)",
      "\u001b[0;32m<ipython-input-82-44329153c22e>\u001b[0m in \u001b[0;36m<module>\u001b[0;34m()\u001b[0m\n\u001b[0;32m----> 1\u001b[0;31m \u001b[0mmy_set\u001b[0m\u001b[0;34m.\u001b[0m\u001b[0mremove\u001b[0m\u001b[0;34m(\u001b[0m\u001b[0;36m100000\u001b[0m\u001b[0;34m)\u001b[0m\u001b[0;34m\u001b[0m\u001b[0m\n\u001b[0m",
      "\u001b[0;31mKeyError\u001b[0m: 100000"
     ]
    }
   ],
   "source": [
    "my_set.remove(100000)"
   ]
  },
  {
   "cell_type": "markdown",
   "metadata": {},
   "source": [
    "### Operations"
   ]
  },
  {
   "cell_type": "code",
   "execution_count": 83,
   "metadata": {
    "ExecuteTime": {
     "end_time": "2019-03-13T01:10:13.854548Z",
     "start_time": "2019-03-13T01:10:13.834189Z"
    }
   },
   "outputs": [],
   "source": [
    "s1={0,1,2}\n",
    "s2={2,3,4,5}\n",
    "s3={5,6,7,8,9}"
   ]
  },
  {
   "cell_type": "code",
   "execution_count": 84,
   "metadata": {
    "ExecuteTime": {
     "end_time": "2019-03-13T01:10:15.212537Z",
     "start_time": "2019-03-13T01:10:15.182049Z"
    }
   },
   "outputs": [
    {
     "data": {
      "text/plain": [
       "{0, 1, 2, 3, 4, 5, 6, 7, 8, 9}"
      ]
     },
     "execution_count": 84,
     "metadata": {},
     "output_type": "execute_result"
    }
   ],
   "source": [
    "s1|s2|s3"
   ]
  },
  {
   "cell_type": "code",
   "execution_count": 85,
   "metadata": {
    "ExecuteTime": {
     "end_time": "2019-03-13T01:10:16.838969Z",
     "start_time": "2019-03-13T01:10:16.806332Z"
    }
   },
   "outputs": [
    {
     "data": {
      "text/plain": [
       "{0, 1, 2, 3, 4, 5, 6, 7, 8, 9}"
      ]
     },
     "execution_count": 85,
     "metadata": {},
     "output_type": "execute_result"
    }
   ],
   "source": [
    "s1.union(s2).union(s3)"
   ]
  },
  {
   "cell_type": "code",
   "execution_count": 86,
   "metadata": {
    "ExecuteTime": {
     "end_time": "2019-03-13T01:10:18.198827Z",
     "start_time": "2019-03-13T01:10:18.171977Z"
    }
   },
   "outputs": [
    {
     "data": {
      "text/plain": [
       "{2}"
      ]
     },
     "execution_count": 86,
     "metadata": {},
     "output_type": "execute_result"
    }
   ],
   "source": [
    "s1&s2"
   ]
  },
  {
   "cell_type": "code",
   "execution_count": 87,
   "metadata": {
    "ExecuteTime": {
     "end_time": "2019-03-13T01:10:20.345365Z",
     "start_time": "2019-03-13T01:10:20.328460Z"
    }
   },
   "outputs": [
    {
     "data": {
      "text/plain": [
       "{2}"
      ]
     },
     "execution_count": 87,
     "metadata": {},
     "output_type": "execute_result"
    }
   ],
   "source": [
    "s1.intersection(s2)"
   ]
  },
  {
   "cell_type": "code",
   "execution_count": 88,
   "metadata": {
    "ExecuteTime": {
     "end_time": "2019-03-13T01:10:25.402788Z",
     "start_time": "2019-03-13T01:10:25.365669Z"
    }
   },
   "outputs": [
    {
     "data": {
      "text/plain": [
       "{0, 1}"
      ]
     },
     "execution_count": 88,
     "metadata": {},
     "output_type": "execute_result"
    }
   ],
   "source": [
    "s1-s2"
   ]
  },
  {
   "cell_type": "code",
   "execution_count": 89,
   "metadata": {
    "ExecuteTime": {
     "end_time": "2019-03-13T01:10:27.633854Z",
     "start_time": "2019-03-13T01:10:27.600494Z"
    }
   },
   "outputs": [
    {
     "data": {
      "text/plain": [
       "{0, 1}"
      ]
     },
     "execution_count": 89,
     "metadata": {},
     "output_type": "execute_result"
    }
   ],
   "source": [
    "s1.difference(s2)"
   ]
  },
  {
   "cell_type": "code",
   "execution_count": 90,
   "metadata": {
    "ExecuteTime": {
     "end_time": "2019-03-13T01:10:29.599144Z",
     "start_time": "2019-03-13T01:10:29.568359Z"
    }
   },
   "outputs": [
    {
     "data": {
      "text/plain": [
       "{0, 1, 3, 4, 5}"
      ]
     },
     "execution_count": 90,
     "metadata": {},
     "output_type": "execute_result"
    }
   ],
   "source": [
    "s1^s2"
   ]
  },
  {
   "cell_type": "code",
   "execution_count": 91,
   "metadata": {
    "ExecuteTime": {
     "end_time": "2019-03-13T01:10:32.034759Z",
     "start_time": "2019-03-13T01:10:32.006246Z"
    }
   },
   "outputs": [
    {
     "data": {
      "text/plain": [
       "{0, 1, 3, 4, 5}"
      ]
     },
     "execution_count": 91,
     "metadata": {},
     "output_type": "execute_result"
    }
   ],
   "source": [
    "s1.symmetric_difference(s2)"
   ]
  },
  {
   "cell_type": "markdown",
   "metadata": {},
   "source": [
    "### Membership"
   ]
  },
  {
   "cell_type": "code",
   "execution_count": 112,
   "metadata": {},
   "outputs": [
    {
     "data": {
      "text/plain": [
       "False"
      ]
     },
     "execution_count": 112,
     "metadata": {},
     "output_type": "execute_result"
    }
   ],
   "source": [
    "55 in s1"
   ]
  },
  {
   "cell_type": "code",
   "execution_count": 113,
   "metadata": {},
   "outputs": [
    {
     "data": {
      "text/plain": [
       "True"
      ]
     },
     "execution_count": 113,
     "metadata": {},
     "output_type": "execute_result"
    }
   ],
   "source": [
    "2 in s1"
   ]
  },
  {
   "cell_type": "markdown",
   "metadata": {},
   "source": [
    "### Iterating through a set"
   ]
  },
  {
   "cell_type": "code",
   "execution_count": 114,
   "metadata": {},
   "outputs": [
    {
     "name": "stdout",
     "output_type": "stream",
     "text": [
      "0 accumulated: 0\n",
      "1 accumulated: 1\n",
      "2 accumulated: 3\n",
      "3 accumulated: 6\n",
      "4 accumulated: 10\n",
      "5 accumulated: 15\n",
      "6 accumulated: 21\n",
      "7 accumulated: 28\n",
      "8 accumulated: 36\n",
      "9 accumulated: 45\n"
     ]
    }
   ],
   "source": [
    "count=0\n",
    "for number in (s1|s2|s3):\n",
    "    count=count+number\n",
    "    print str(number)+' accumulated: '+str(count)"
   ]
  },
  {
   "cell_type": "markdown",
   "metadata": {},
   "source": [
    "<h2>Dictionary"
   ]
  },
  {
   "cell_type": "markdown",
   "metadata": {},
   "source": [
    "### Creating an empty dictionary"
   ]
  },
  {
   "cell_type": "code",
   "execution_count": 92,
   "metadata": {
    "ExecuteTime": {
     "end_time": "2019-03-13T01:11:20.981827Z",
     "start_time": "2019-03-13T01:11:20.965813Z"
    }
   },
   "outputs": [],
   "source": [
    "my_dict={}"
   ]
  },
  {
   "cell_type": "code",
   "execution_count": 93,
   "metadata": {
    "ExecuteTime": {
     "end_time": "2019-03-13T01:11:22.500420Z",
     "start_time": "2019-03-13T01:11:22.462755Z"
    }
   },
   "outputs": [
    {
     "data": {
      "text/plain": [
       "{}"
      ]
     },
     "execution_count": 93,
     "metadata": {},
     "output_type": "execute_result"
    }
   ],
   "source": [
    "my_dict"
   ]
  },
  {
   "cell_type": "markdown",
   "metadata": {},
   "source": [
    "### Mixed datatypes in a dictionary"
   ]
  },
  {
   "cell_type": "code",
   "execution_count": 94,
   "metadata": {
    "ExecuteTime": {
     "end_time": "2019-03-13T01:11:35.899682Z",
     "start_time": "2019-03-13T01:11:35.883561Z"
    }
   },
   "outputs": [],
   "source": [
    "my_dict={'course':'1','name':'DSP Program',3:'To get lots of skills'}"
   ]
  },
  {
   "cell_type": "code",
   "execution_count": 95,
   "metadata": {
    "ExecuteTime": {
     "end_time": "2019-03-13T01:11:37.327495Z",
     "start_time": "2019-03-13T01:11:37.300117Z"
    }
   },
   "outputs": [
    {
     "data": {
      "text/plain": [
       "{3: 'To get lots of skills', 'course': '1', 'name': 'DSP Program'}"
      ]
     },
     "execution_count": 95,
     "metadata": {},
     "output_type": "execute_result"
    }
   ],
   "source": [
    "my_dict"
   ]
  },
  {
   "cell_type": "markdown",
   "metadata": {
    "collapsed": true
   },
   "source": [
    "### Access to elements of a dictionary"
   ]
  },
  {
   "cell_type": "code",
   "execution_count": 96,
   "metadata": {
    "ExecuteTime": {
     "end_time": "2019-03-13T01:11:54.646458Z",
     "start_time": "2019-03-13T01:11:54.619913Z"
    }
   },
   "outputs": [
    {
     "data": {
      "text/plain": [
       "'1'"
      ]
     },
     "execution_count": 96,
     "metadata": {},
     "output_type": "execute_result"
    }
   ],
   "source": [
    "my_dict['course']"
   ]
  },
  {
   "cell_type": "code",
   "execution_count": 97,
   "metadata": {
    "ExecuteTime": {
     "end_time": "2019-03-13T01:11:56.232084Z",
     "start_time": "2019-03-13T01:11:56.205639Z"
    }
   },
   "outputs": [
    {
     "data": {
      "text/plain": [
       "'DSP Program'"
      ]
     },
     "execution_count": 97,
     "metadata": {},
     "output_type": "execute_result"
    }
   ],
   "source": [
    "my_dict['name']"
   ]
  },
  {
   "cell_type": "code",
   "execution_count": 100,
   "metadata": {
    "ExecuteTime": {
     "end_time": "2019-03-13T01:12:26.540309Z",
     "start_time": "2019-03-13T01:12:26.509410Z"
    }
   },
   "outputs": [
    {
     "name": "stdout",
     "output_type": "stream",
     "text": [
      "my_dict[' course ']: python\n",
      "my_dict[' 3 ']: To get lots of skills\n",
      "my_dict[' name ']: DSP Program\n"
     ]
    }
   ],
   "source": [
    "for i in my_dict:\n",
    "    print \"my_dict['\",i,\"']:\", my_dict[i]"
   ]
  },
  {
   "cell_type": "markdown",
   "metadata": {},
   "source": [
    "### Updating a dictionary"
   ]
  },
  {
   "cell_type": "code",
   "execution_count": 101,
   "metadata": {
    "ExecuteTime": {
     "end_time": "2019-03-13T01:12:29.852088Z",
     "start_time": "2019-03-13T01:12:29.835676Z"
    }
   },
   "outputs": [],
   "source": [
    "my_dict['course']='python'"
   ]
  },
  {
   "cell_type": "code",
   "execution_count": 102,
   "metadata": {
    "ExecuteTime": {
     "end_time": "2019-03-13T01:12:31.486328Z",
     "start_time": "2019-03-13T01:12:31.470768Z"
    }
   },
   "outputs": [],
   "source": [
    "my_dict[3]='DSP'"
   ]
  },
  {
   "cell_type": "code",
   "execution_count": 103,
   "metadata": {
    "ExecuteTime": {
     "end_time": "2019-03-13T01:12:33.196072Z",
     "start_time": "2019-03-13T01:12:33.179845Z"
    }
   },
   "outputs": [],
   "source": [
    "keys=['course',3]"
   ]
  },
  {
   "cell_type": "code",
   "execution_count": 104,
   "metadata": {
    "ExecuteTime": {
     "end_time": "2019-03-13T01:12:35.355064Z",
     "start_time": "2019-03-13T01:12:35.330159Z"
    }
   },
   "outputs": [
    {
     "name": "stdout",
     "output_type": "stream",
     "text": [
      "my_dict[' course ']: python\n",
      "my_dict[' 3 ']: DSP\n"
     ]
    }
   ],
   "source": [
    "for i in keys:\n",
    "    print \"my_dict['\",i,\"']:\", my_dict[i]"
   ]
  },
  {
   "cell_type": "markdown",
   "metadata": {},
   "source": [
    "### Deleting dictionary elements"
   ]
  },
  {
   "cell_type": "code",
   "execution_count": 105,
   "metadata": {
    "ExecuteTime": {
     "end_time": "2019-03-13T01:12:54.707435Z",
     "start_time": "2019-03-13T01:12:54.690768Z"
    }
   },
   "outputs": [],
   "source": [
    "del my_dict[3]"
   ]
  },
  {
   "cell_type": "code",
   "execution_count": 106,
   "metadata": {
    "ExecuteTime": {
     "end_time": "2019-03-13T01:12:57.482511Z",
     "start_time": "2019-03-13T01:12:57.456475Z"
    }
   },
   "outputs": [
    {
     "name": "stdout",
     "output_type": "stream",
     "text": [
      "my_dict[' course ']: python\n",
      "my_dict[' name ']: DSP Program\n"
     ]
    }
   ],
   "source": [
    "for i in my_dict:\n",
    "    print \"my_dict['\",i,\"']:\", my_dict[i]"
   ]
  },
  {
   "cell_type": "code",
   "execution_count": 107,
   "metadata": {
    "ExecuteTime": {
     "end_time": "2019-03-13T01:13:00.442265Z",
     "start_time": "2019-03-13T01:13:00.424782Z"
    }
   },
   "outputs": [],
   "source": [
    "my_dict.clear()"
   ]
  },
  {
   "cell_type": "code",
   "execution_count": 108,
   "metadata": {
    "ExecuteTime": {
     "end_time": "2019-03-13T01:13:01.900863Z",
     "start_time": "2019-03-13T01:13:01.871708Z"
    }
   },
   "outputs": [
    {
     "data": {
      "text/plain": [
       "{}"
      ]
     },
     "execution_count": 108,
     "metadata": {},
     "output_type": "execute_result"
    }
   ],
   "source": [
    "my_dict"
   ]
  },
  {
   "cell_type": "code",
   "execution_count": 109,
   "metadata": {
    "ExecuteTime": {
     "end_time": "2019-03-13T01:13:05.262027Z",
     "start_time": "2019-03-13T01:13:05.244087Z"
    }
   },
   "outputs": [],
   "source": [
    "del my_dict"
   ]
  },
  {
   "cell_type": "code",
   "execution_count": 110,
   "metadata": {
    "ExecuteTime": {
     "end_time": "2019-03-13T01:13:07.266458Z",
     "start_time": "2019-03-13T01:13:07.168451Z"
    }
   },
   "outputs": [
    {
     "ename": "NameError",
     "evalue": "name 'my_dict' is not defined",
     "output_type": "error",
     "traceback": [
      "\u001b[0;31m---------------------------------------------------------------------------\u001b[0m",
      "\u001b[0;31mNameError\u001b[0m                                 Traceback (most recent call last)",
      "\u001b[0;32m<ipython-input-110-23f353dd2d1f>\u001b[0m in \u001b[0;36m<module>\u001b[0;34m()\u001b[0m\n\u001b[0;32m----> 1\u001b[0;31m \u001b[0mmy_dict\u001b[0m\u001b[0;34m\u001b[0m\u001b[0m\n\u001b[0m",
      "\u001b[0;31mNameError\u001b[0m: name 'my_dict' is not defined"
     ]
    }
   ],
   "source": [
    "my_dict"
   ]
  }
 ],
 "metadata": {
  "gist": {
   "data": {
    "description": "Module1/01 - Intro/01.04_Datatypes.ipynb",
    "public": true
   },
   "id": ""
  },
  "kernelspec": {
   "display_name": "Python 3",
   "language": "python",
   "name": "dspxi"
  },
  "language_info": {
   "codemirror_mode": {
    "name": "ipython",
    "version": 3
   },
   "file_extension": ".py",
   "mimetype": "text/x-python",
   "name": "python",
   "nbconvert_exporter": "python",
   "pygments_lexer": "ipython3",
   "version": "3.6.8"
  },
  "toc": {
   "base_numbering": 1,
   "nav_menu": {},
   "number_sections": false,
   "sideBar": true,
   "skip_h1_title": false,
   "title_cell": "Table of Contents",
   "title_sidebar": "Contents",
   "toc_cell": true,
   "toc_position": {
    "height": "calc(100% - 180px)",
    "left": "10px",
    "top": "150px",
    "width": "336px"
   },
   "toc_section_display": true,
   "toc_window_display": true
  },
  "varInspector": {
   "cols": {
    "lenName": 16,
    "lenType": 16,
    "lenVar": 40
   },
   "kernels_config": {
    "python": {
     "delete_cmd_postfix": "",
     "delete_cmd_prefix": "del ",
     "library": "var_list.py",
     "varRefreshCmd": "print(var_dic_list())"
    },
    "r": {
     "delete_cmd_postfix": ") ",
     "delete_cmd_prefix": "rm(",
     "library": "var_list.r",
     "varRefreshCmd": "cat(var_dic_list()) "
    }
   },
   "types_to_exclude": [
    "module",
    "function",
    "builtin_function_or_method",
    "instance",
    "_Feature"
   ],
   "window_display": false
  }
 },
 "nbformat": 4,
 "nbformat_minor": 2
}
