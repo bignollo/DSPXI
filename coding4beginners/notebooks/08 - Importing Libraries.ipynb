{
 "cells": [
  {
   "cell_type": "code",
   "execution_count": null,
   "metadata": {
    "ExecuteTime": {
     "end_time": "2019-05-29T00:39:33.416771Z",
     "start_time": "2019-05-29T00:39:33.319119Z"
    }
   },
   "outputs": [],
   "source": [
    "# %load script/system.py\n",
    "import sys , keyword\n",
    "\n",
    "print( 'Python Version:' , sys.version )\n",
    "\n",
    "print( 'Python Interpreter Location:' , sys.executable )\n",
    "\n",
    "print( 'Python Module Search Path: ' )\n",
    "for folder in sys.path :\n",
    "\tprint( folder )\n",
    "\n",
    "print( 'Python Keywords: ' )\n",
    "for word in keyword.kwlist :\n",
    "\tprint( word )\n"
   ]
  },
  {
   "cell_type": "code",
   "execution_count": null,
   "metadata": {
    "ExecuteTime": {
     "end_time": "2019-05-29T00:39:33.513483Z",
     "start_time": "2019-05-29T00:39:33.430691Z"
    }
   },
   "outputs": [],
   "source": [
    "# %load script/maths.py\n",
    "import math , random\n",
    "\n",
    "print( 'Rounded Up 9.5:' , math.ceil( 9.5 ) )\n",
    "print( 'Rounded Down 9.5:' , math.floor( 9.5 ) )\n",
    "\n",
    "num = 4\n",
    "\n",
    "print( num , 'Squared:' , math.pow( num , 2 ) )\n",
    "print( num , 'Square Root:' , math.sqrt( num ) )\n",
    "\n",
    "nums = random.sample( range( 1, 49 ) , 6 )\n",
    "\n",
    "print( 'Your Lucky Lotto Numbers Are:' , nums )"
   ]
  },
  {
   "cell_type": "code",
   "execution_count": null,
   "metadata": {
    "ExecuteTime": {
     "end_time": "2019-05-29T00:39:33.650218Z",
     "start_time": "2019-05-29T00:39:33.526172Z"
    }
   },
   "outputs": [],
   "source": [
    "# %load script/inaccurate.py\n",
    "item = 0.70\n",
    "rate = 1.05\n",
    "\n",
    "tax = item * rate\n",
    "total = item + tax\n",
    "\n",
    "print( 'Item:\\t' , '%.2f' % item )\n",
    "print( 'Tax:\\t' , '%.2f' % tax )\n",
    "print( 'Total:\\t' , '%.2f' % total )"
   ]
  },
  {
   "cell_type": "code",
   "execution_count": null,
   "metadata": {
    "ExecuteTime": {
     "end_time": "2019-05-29T00:39:33.722072Z",
     "start_time": "2019-05-29T00:39:33.665354Z"
    }
   },
   "outputs": [],
   "source": [
    "# %load script/expanded.py\n",
    "item = 0.70\n",
    "rate = 1.05\n",
    "\n",
    "tax = item * rate\n",
    "total = item + tax\n",
    "\n",
    "print( 'Item:\\t' , '%.20f' % item )\n",
    "print( 'Tax:\\t' , '%.20f' % tax )\n",
    "print( 'Total:\\t' , '%.20f' % total )"
   ]
  },
  {
   "cell_type": "code",
   "execution_count": null,
   "metadata": {
    "ExecuteTime": {
     "end_time": "2019-05-29T00:39:33.798181Z",
     "start_time": "2019-05-29T00:39:33.735932Z"
    }
   },
   "outputs": [],
   "source": [
    "# %load script/decimals.py\n",
    "from decimal import *\n",
    "\n",
    "item = Decimal( 0.70 )\n",
    "rate = Decimal( 1.05 )\n",
    "\n",
    "tax = item * rate\n",
    "total = item + tax\n",
    "\n",
    "print( 'Item:\\t' ,\t'%.2f' % item )\n",
    "print( 'Tax:\\t' , \t'%.2f' % tax )\n",
    "print( 'Total:\\t' , \t'%.2f' % total )\n"
   ]
  },
  {
   "cell_type": "code",
   "execution_count": null,
   "metadata": {
    "ExecuteTime": {
     "end_time": "2019-05-29T00:39:33.875580Z",
     "start_time": "2019-05-29T00:39:33.809783Z"
    }
   },
   "outputs": [],
   "source": [
    "# %load script/time.py\n",
    "from datetime import *\n",
    "\n",
    "today = datetime.today()\n",
    "print( 'Today Is:' , today )\n",
    "\n",
    "for attr in \\\n",
    "[ 'year' , 'month' , 'day' , 'hour' , 'minute' , 'second' , 'microsecond' ] :\n",
    "  print( attr , ':\\t' , getattr( today , attr ) )\n",
    "\n",
    "print( 'Time:' , today.hour , ':' , today.minute , sep = '' )\n",
    "\n",
    "day = today.strftime( '%A' )\n",
    "month = today.strftime( '%B' )\n",
    "\n",
    "print( 'Date:' , day , month , today.day )\n"
   ]
  },
  {
   "cell_type": "code",
   "execution_count": null,
   "metadata": {
    "ExecuteTime": {
     "end_time": "2019-05-29T00:39:44.995588Z",
     "start_time": "2019-05-29T00:39:33.887293Z"
    }
   },
   "outputs": [],
   "source": [
    "# %load script/timer.py\n",
    "from time import *\n",
    "\n",
    "start_timer = time() \n",
    "\n",
    "struct = localtime( start_timer )\n",
    "\n",
    "print( 'Starting Countdown At:' , strftime( '%X' , struct ) )\n",
    "\n",
    "i = 10\n",
    "while i > -1 :\n",
    "\tprint( i )\n",
    "\ti -= 1 \n",
    "\tsleep( 1 )\n",
    "\n",
    "end_timer = time()\n",
    "\n",
    "difference = round( end_timer - start_timer )\n",
    "\n",
    "print( '\\nRuntime:' , difference , 'Seconds' )\n"
   ]
  }
 ],
 "metadata": {
  "kernelspec": {
   "display_name": "Python 3",
   "language": "python",
   "name": "dspxi"
  },
  "language_info": {
   "codemirror_mode": {
    "name": "ipython",
    "version": 3
   },
   "file_extension": ".py",
   "mimetype": "text/x-python",
   "name": "python",
   "nbconvert_exporter": "python",
   "pygments_lexer": "ipython3",
   "version": "3.6.8"
  },
  "toc": {
   "base_numbering": 1,
   "nav_menu": {},
   "number_sections": true,
   "sideBar": true,
   "skip_h1_title": false,
   "title_cell": "Table of Contents",
   "title_sidebar": "Contents",
   "toc_cell": false,
   "toc_position": {},
   "toc_section_display": true,
   "toc_window_display": false
  },
  "varInspector": {
   "cols": {
    "lenName": 16,
    "lenType": 16,
    "lenVar": 40
   },
   "kernels_config": {
    "python": {
     "delete_cmd_postfix": "",
     "delete_cmd_prefix": "del ",
     "library": "var_list.py",
     "varRefreshCmd": "print(var_dic_list())"
    },
    "r": {
     "delete_cmd_postfix": ") ",
     "delete_cmd_prefix": "rm(",
     "library": "var_list.r",
     "varRefreshCmd": "cat(var_dic_list()) "
    }
   },
   "types_to_exclude": [
    "module",
    "function",
    "builtin_function_or_method",
    "instance",
    "_Feature"
   ],
   "window_display": false
  }
 },
 "nbformat": 4,
 "nbformat_minor": 2
}
