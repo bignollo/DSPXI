{
 "cells": [
  {
   "cell_type": "code",
   "execution_count": null,
   "metadata": {
    "ExecuteTime": {
     "end_time": "2019-05-29T00:32:06.229262Z",
     "start_time": "2019-05-29T00:32:06.051954Z"
    }
   },
   "outputs": [],
   "source": [
    "# %load script/copy.py\n",
    "def copy_sort( array ) :\n",
    "\n",
    "    copy = array[ : ]\n",
    "    sorted_copy = [ ]\n",
    "\n",
    "    while len( copy ) > 0 :\n",
    "\n",
    "        minimum = 0\n",
    "\n",
    "        for element in range( 0 , len( copy ) ) :\n",
    "            if copy[ element ] < copy[ minimum ] :\n",
    "                minimum = element\n",
    "\n",
    "        print( '\\tRemoving' , copy[ minimum ] , \\\n",
    "                   'from' , copy )\n",
    "        sorted_copy.append( copy.pop( minimum ) )\n",
    "    \n",
    "    return sorted_copy\n",
    "\n",
    "array = [ 5 , 3 , 1 , 2 , 6 , 4 ]\n",
    "print( 'Copy Sort...\\nArray :' , array )\n",
    "\n",
    "print( 'Copy :' , copy_sort( array ) )\n",
    "print( 'Array :' , array )\n"
   ]
  },
  {
   "cell_type": "code",
   "execution_count": null,
   "metadata": {
    "ExecuteTime": {
     "end_time": "2019-05-29T00:31:46.558041Z",
     "start_time": "2019-05-29T00:31:46.470136Z"
    }
   },
   "outputs": [],
   "source": [
    "# %load script/selection.py\n",
    "def selection_sort( array ) :\n",
    "\n",
    "    for index in range( 0 , len( array ) -1 ) :\n",
    "        value = array[ index ]             \n",
    "        current = index                     \n",
    "\n",
    "        for element in range( index+1 , len( array ) ) :\n",
    "\n",
    "            if array[ element ] < array[ current ] :\n",
    "                current = element                 \n",
    "\n",
    "        array[ index ] = array[ current ]\n",
    "        array[ current ] = value \n",
    "        print( '\\tResolving element[' , index , '] to ' , array )\n",
    "\n",
    "array = [ 5 , 3 , 1 , 2 , 6 , 4 ]\n",
    "print( 'Selection Sort...\\nArray :' , array )\n",
    "\n",
    "selection_sort( array )\n",
    "print( 'Array :' , array )\n"
   ]
  },
  {
   "cell_type": "code",
   "execution_count": null,
   "metadata": {
    "ExecuteTime": {
     "end_time": "2019-05-29T00:31:46.635887Z",
     "start_time": "2019-05-29T00:31:46.568343Z"
    }
   },
   "outputs": [],
   "source": [
    "# %load script/insertion.py\n",
    "def insertion_sort( array ) :\n",
    "  \n",
    "    for index in range( 1 , len( array ) ) :\n",
    "  \n",
    "        value = array[ index ]\n",
    "        \n",
    "        while array[ index-1 ] > value and index >= 1 :\n",
    "                array[ index ] = array[ index -1 ]\n",
    "                index -= 1                                \n",
    "                array[ index ] = value                  \n",
    "\n",
    "        print( '\\tResolving element[' , index , '] to' , array )\n",
    "\n",
    "array = [ 5 , 3 , 1 , 2 , 6 , 4  ]\n",
    "print( 'Insertion Sort...\\nArray :' , array )\n",
    "\n",
    "insertion_sort( array )\n",
    "print( 'Array :' , array )\n"
   ]
  },
  {
   "cell_type": "code",
   "execution_count": null,
   "metadata": {
    "ExecuteTime": {
     "end_time": "2019-05-29T00:31:46.713369Z",
     "start_time": "2019-05-29T00:31:46.650636Z"
    }
   },
   "outputs": [],
   "source": [
    "# %load script/bubble.py\n",
    "def bubble_sort( array ) :\n",
    "\n",
    "    for index in range( len( array ) ) :\n",
    "\n",
    "        for element in range( ( len( array )-1 ) - index ) :\n",
    "\n",
    "            if array[ element ] > array[ element + 1 ] :\n",
    "                array[ element ] , array[ element+1 ] = \\\n",
    "                       array[ element+1 ] , array[ element ]\n",
    "                print( '\\tResolving element[' , element , '] to ' , array )\n",
    "            \n",
    "array = [ 5 , 3 , 1 , 2 , 6 , 4 ]\n",
    "print( 'Bubble Sort...\\nArray :' , array )\n",
    "\n",
    "bubble_sort( array )\n",
    "print( 'Array :' , array )\n"
   ]
  },
  {
   "cell_type": "code",
   "execution_count": null,
   "metadata": {
    "ExecuteTime": {
     "end_time": "2019-05-29T00:31:46.792685Z",
     "start_time": "2019-05-29T00:31:46.727909Z"
    }
   },
   "outputs": [],
   "source": [
    "# %load script/merge.py\n",
    "def merge_sort( array ) :\n",
    "    \n",
    "    if len( array ) > 1 :\n",
    "        middle = int( len( array ) / 2 ) \n",
    "        left = array[ 0 : middle ] ; right = array[ middle : ]\n",
    "        print( '\\tSplit to' , left , right )\n",
    "        merge_sort( left ) ; merge_sort( right )     \n",
    "\n",
    "        i = j = 0\n",
    "        for element in range( len( array ) ) :     \n",
    "\n",
    "            L = left[ i ] if i < len( left ) else None\n",
    "            R = right[ j ] if j < len( right ) else None\n",
    "\n",
    "            if ( ( L and R ) and ( L < R ) ) or R is None :\n",
    "                array[ element ] = L ; i += 1\n",
    "            elif ( ( L and R ) and ( L >= R ) ) or L is None :\n",
    "                array[ element ] = R ; j += 1\n",
    "        print( '\\t\\tMerging' , left , right )\n",
    "\n",
    "array = [ 5 , 3 , 1 , 2 , 6 , 4 ]\n",
    "print( 'Merge Sort...\\nArray :' , array )\n",
    "\n",
    "merge_sort( array )\n",
    "print( 'Array :' , array )\n"
   ]
  },
  {
   "cell_type": "code",
   "execution_count": null,
   "metadata": {
    "ExecuteTime": {
     "end_time": "2019-05-29T00:31:46.857519Z",
     "start_time": "2019-05-29T00:31:46.804693Z"
    }
   },
   "outputs": [],
   "source": [
    "# %load script/quick.py\n",
    "def quick_sort( array ) :\n",
    "    if len( array ) > 1 :\n",
    "        pivot = int( len( array ) -1 )\n",
    "        less = [ ]  ;  more =[ ]\n",
    "        \n",
    "        for element in range( len( array ) ) :\n",
    "            value = array[ element ] \n",
    "            if element != pivot :\n",
    "                if value < array[ pivot ] :\n",
    "                    less.append( value )\n",
    "                else :\n",
    "                    more.append( value )\n",
    "\n",
    "        quick_sort( less )  ;  quick_sort( more ) \n",
    "        print( '\\tLess:' , less , '\\tPivot:' , array[ pivot ] ,  \\\n",
    "                   '\\tMore:' , more )\n",
    "        array[ : ] = less + [ array[ pivot] ] + more\n",
    "        print( '\\t\\t...Merged:' , array ) \n",
    "\n",
    "array = [ 5 , 3, 1, 2, 6, 4 ]\n",
    "print( 'Quick Sort...\\nArray :' , array )\n",
    "\n",
    "quick_sort( array )\n",
    "print( 'Array :' , array )\n"
   ]
  }
 ],
 "metadata": {
  "kernelspec": {
   "display_name": "Python 3",
   "language": "python",
   "name": "dspxi"
  },
  "language_info": {
   "codemirror_mode": {
    "name": "ipython",
    "version": 3
   },
   "file_extension": ".py",
   "mimetype": "text/x-python",
   "name": "python",
   "nbconvert_exporter": "python",
   "pygments_lexer": "ipython3",
   "version": "3.6.8"
  },
  "toc": {
   "base_numbering": 1,
   "nav_menu": {},
   "number_sections": true,
   "sideBar": true,
   "skip_h1_title": false,
   "title_cell": "Table of Contents",
   "title_sidebar": "Contents",
   "toc_cell": false,
   "toc_position": {},
   "toc_section_display": true,
   "toc_window_display": false
  },
  "varInspector": {
   "cols": {
    "lenName": 16,
    "lenType": 16,
    "lenVar": 40
   },
   "kernels_config": {
    "python": {
     "delete_cmd_postfix": "",
     "delete_cmd_prefix": "del ",
     "library": "var_list.py",
     "varRefreshCmd": "print(var_dic_list())"
    },
    "r": {
     "delete_cmd_postfix": ") ",
     "delete_cmd_prefix": "rm(",
     "library": "var_list.r",
     "varRefreshCmd": "cat(var_dic_list()) "
    }
   },
   "types_to_exclude": [
    "module",
    "function",
    "builtin_function_or_method",
    "instance",
    "_Feature"
   ],
   "window_display": false
  }
 },
 "nbformat": 4,
 "nbformat_minor": 2
}
