{
 "cells": [
  {
   "cell_type": "code",
   "execution_count": null,
   "metadata": {
    "ExecuteTime": {
     "end_time": "2019-05-29T00:48:30.500819Z",
     "start_time": "2019-05-29T00:48:30.483864Z"
    }
   },
   "outputs": [],
   "source": [
    "# %load script/Bird.py\n",
    "class Bird :\n",
    "\n",
    "\t'''A base class to define bird properties.'''\n",
    "\n",
    "\tcount = 0\n",
    "\n",
    "\tdef __init__( self , chat ) :\n",
    "\n",
    "\t\tself.sound = chat\n",
    "\t\tBird.count += 1\n",
    "\n",
    "\tdef talk( self ) :\n",
    "\n",
    "\t\treturn self.sound\n",
    "\n",
    "\n"
   ]
  },
  {
   "cell_type": "code",
   "execution_count": null,
   "metadata": {
    "ExecuteTime": {
     "end_time": "2019-05-29T00:48:33.434628Z",
     "start_time": "2019-05-29T00:48:33.418157Z"
    }
   },
   "outputs": [],
   "source": [
    "# %load script/instance.py\n",
    "from Bird import *\n",
    "\n",
    "print( '\\nClass Instances Of:\\n' , Bird.__doc__ )\n",
    "\n",
    "polly = Bird( 'Squawk, squawk!' )\n",
    "\n",
    "print( '\\nNumber Of Birds:' , polly.count )\n",
    "print( 'Polly Says:' , polly.talk( ) )\n",
    "\n",
    "harry = Bird( 'Tweet, tweet!' )\n",
    "print( '\\nNumber Of Birds:' , harry.count )\n",
    "print( 'Harry Says:' , harry.talk( ) )\n"
   ]
  },
  {
   "cell_type": "code",
   "execution_count": null,
   "metadata": {
    "ExecuteTime": {
     "end_time": "2019-05-29T00:48:36.254634Z",
     "start_time": "2019-05-29T00:48:36.240929Z"
    }
   },
   "outputs": [],
   "source": [
    "# %load script/address.py\n",
    "from Bird import *\n",
    "\n",
    "chick = Bird( 'Cheep, cheep!' )\n",
    "chick.age = '1 week'\n",
    "\n",
    "print( '\\nChick Says:' ,  chick.talk() )\n",
    "print( 'Chick Age:' , chick.age )\n",
    "\n",
    "chick.age = '2 weeks'\n",
    "print( 'Chick Now:' , chick.age )\n",
    "\n",
    "setattr( chick , 'age' , '3 weeks' )\n",
    "\n",
    "print( '\\nChick Attributes...' )\n",
    "for attrib in dir( chick ) :\n",
    "\tif attrib[0] != '_' :\n",
    "\t\tprint( attrib , ':' , getattr( chick , attrib ) )\n",
    "\n",
    "delattr( chick , 'age' )\n",
    "print( '\\nChick age Attribute?' , hasattr( chick , 'age' ) )\n",
    "\n",
    "\n",
    "\n",
    "\n",
    "\n",
    "\n"
   ]
  },
  {
   "cell_type": "code",
   "execution_count": null,
   "metadata": {
    "ExecuteTime": {
     "end_time": "2019-05-29T00:48:43.212745Z",
     "start_time": "2019-05-29T00:48:43.198731Z"
    }
   },
   "outputs": [],
   "source": [
    "# %load script/Polygon.py\n",
    "class Polygon :\n",
    "\twidth = 0\n",
    "\theight = 0\n",
    "\tdef set_values( self , width , height ) :\n",
    "\t\tPolygon.width = width\n",
    "\t\tPolygon.height = height"
   ]
  },
  {
   "cell_type": "code",
   "execution_count": null,
   "metadata": {
    "ExecuteTime": {
     "end_time": "2019-05-29T00:48:49.809252Z",
     "start_time": "2019-05-29T00:48:49.782924Z"
    }
   },
   "outputs": [],
   "source": [
    "# %load script/Rectangle.py\n",
    "from Polygon import *\n",
    "\n",
    "class Rectangle( Polygon ) :\n",
    "\tdef area( self ) :\n",
    "\t\treturn self.width * self.height\n",
    "\n"
   ]
  },
  {
   "cell_type": "code",
   "execution_count": null,
   "metadata": {
    "ExecuteTime": {
     "end_time": "2019-05-29T00:48:18.872561Z",
     "start_time": "2019-05-29T00:48:18.287Z"
    }
   },
   "outputs": [],
   "source": [
    "# %load script/Triangle.py\n",
    "from Polygon import *\n",
    "\n",
    "class Triangle( Polygon ) :\n",
    "\tdef area( self ) :\n",
    "\t\treturn ( self.width * self.height ) / 2"
   ]
  },
  {
   "cell_type": "code",
   "execution_count": null,
   "metadata": {
    "ExecuteTime": {
     "end_time": "2019-05-29T00:48:53.393809Z",
     "start_time": "2019-05-29T00:48:53.370692Z"
    }
   },
   "outputs": [],
   "source": [
    "# %load script/inherit.py\n",
    "from Rectangle import *\n",
    "from Triangle import *\n",
    "\n",
    "rect = Rectangle( )\n",
    "trey = Triangle( )\n",
    "\n",
    "rect.set_values( 4 , 5 )\n",
    "trey.set_values( 4 , 5 )\n",
    "\n",
    "print( 'Rectangle Area:' , rect.area( ) )\n",
    "print( 'Triangle Area:' , trey.area( ) ) \n"
   ]
  },
  {
   "cell_type": "code",
   "execution_count": null,
   "metadata": {
    "ExecuteTime": {
     "end_time": "2019-05-29T00:48:55.838292Z",
     "start_time": "2019-05-29T00:48:55.808920Z"
    }
   },
   "outputs": [],
   "source": [
    "# %load script/Person.py\n",
    "class Person :\n",
    "\n",
    "\t'''A base class to define Person properties.'''\n",
    "\n",
    "\tdef __init__( self , name ) : \n",
    "\t\tself.name = name\n",
    "\n",
    "\tdef speak( self , msg  = '(Calling The Base Class)' ) :\n",
    "\t\tprint( self.name , msg )"
   ]
  },
  {
   "cell_type": "code",
   "execution_count": null,
   "metadata": {
    "ExecuteTime": {
     "end_time": "2019-05-29T00:48:58.863324Z",
     "start_time": "2019-05-29T00:48:58.848911Z"
    }
   },
   "outputs": [],
   "source": [
    "# %load script/Man.py\n",
    "from Person import *\n",
    "\n",
    "'''A derived class to define Man properties.'''\n",
    "\n",
    "class Man( Person ) :\n",
    "\n",
    "\tdef speak( self , msg ) :\n",
    "\t\tprint( self.name , ':\\n\\tHello!' , msg )"
   ]
  },
  {
   "cell_type": "code",
   "execution_count": null,
   "metadata": {
    "ExecuteTime": {
     "end_time": "2019-05-29T00:49:00.772034Z",
     "start_time": "2019-05-29T00:49:00.743723Z"
    }
   },
   "outputs": [],
   "source": [
    "# %load script/Hombre.py\n",
    "from Person import *\n",
    "\n",
    "'''A derived class to define Hombre properties.'''\n",
    "\n",
    "class Hombre( Person ) :\n",
    "\tdef speak( self , msg ) :\n",
    "\t\tprint( self.name , ':\\n\\tHola!' , msg )\n",
    "\n",
    " "
   ]
  },
  {
   "cell_type": "code",
   "execution_count": null,
   "metadata": {
    "ExecuteTime": {
     "end_time": "2019-05-29T00:49:09.278487Z",
     "start_time": "2019-05-29T00:49:09.263389Z"
    }
   },
   "outputs": [],
   "source": [
    "# %load script/override.py\n",
    "from Man import *\n",
    "from Hombre import *\n",
    "\n",
    "guy_1 = Man( 'Richard' )\n",
    "guy_2 = Hombre( 'Ricardo' )\n",
    "\n",
    "guy_1.speak( 'It\\'s a beautiful evening.\\n' )\n",
    "guy_2.speak( 'Es una tarde hermosa.\\n' )\n",
    "\n",
    "Person.speak( guy_1 )\n",
    "Person.speak( guy_2 )"
   ]
  },
  {
   "cell_type": "code",
   "execution_count": null,
   "metadata": {
    "ExecuteTime": {
     "end_time": "2019-05-29T00:49:12.514270Z",
     "start_time": "2019-05-29T00:49:12.501906Z"
    }
   },
   "outputs": [],
   "source": [
    "# %load script/Duck.py\n",
    "class Duck :\n",
    "\n",
    "\t'''A class to define Duck properties.'''\n",
    "\n",
    "\tdef talk( self ) :\n",
    "\t\tprint( '\\nDuck Says: Quack!' )\n",
    "\n",
    "\tdef coat( self ) :\n",
    "\t\tprint( 'Duck Wears: Feathers' )\n"
   ]
  },
  {
   "cell_type": "code",
   "execution_count": null,
   "metadata": {
    "ExecuteTime": {
     "end_time": "2019-05-29T00:49:14.904952Z",
     "start_time": "2019-05-29T00:49:14.870553Z"
    }
   },
   "outputs": [],
   "source": [
    "# %load script/Mouse.py\n",
    "class Mouse :\n",
    "\n",
    "\t'''A class to define Mouse properties.'''\n",
    "\n",
    "\tdef talk( self ) :\n",
    "\t\tprint( '\\nMouse Says: Squeak!' )\n",
    "\n",
    "\tdef coat( self ) :\n",
    "\t\tprint( 'Mouse Wears: Fur' )\n"
   ]
  },
  {
   "cell_type": "code",
   "execution_count": null,
   "metadata": {
    "ExecuteTime": {
     "end_time": "2019-05-29T00:49:34.364181Z",
     "start_time": "2019-05-29T00:49:34.352318Z"
    }
   },
   "outputs": [],
   "source": [
    "# %load script/polymorph.py\n",
    "from Duck import *\n",
    "from Mouse import *\n",
    " \n",
    "def describe( object ) :\n",
    "\tobject.talk( )\n",
    "\tobject.coat( )\n",
    "\n",
    "donald = Duck( )\n",
    "mickey = Mouse( )\n",
    "\n",
    "describe( donald )\n",
    "describe( mickey )\n"
   ]
  }
 ],
 "metadata": {
  "kernelspec": {
   "display_name": "Python 3",
   "language": "python",
   "name": "dspxi"
  },
  "language_info": {
   "codemirror_mode": {
    "name": "ipython",
    "version": 3
   },
   "file_extension": ".py",
   "mimetype": "text/x-python",
   "name": "python",
   "nbconvert_exporter": "python",
   "pygments_lexer": "ipython3",
   "version": "3.6.8"
  },
  "toc": {
   "base_numbering": 1,
   "nav_menu": {},
   "number_sections": true,
   "sideBar": true,
   "skip_h1_title": false,
   "title_cell": "Table of Contents",
   "title_sidebar": "Contents",
   "toc_cell": false,
   "toc_position": {},
   "toc_section_display": true,
   "toc_window_display": false
  },
  "varInspector": {
   "cols": {
    "lenName": 16,
    "lenType": 16,
    "lenVar": 40
   },
   "kernels_config": {
    "python": {
     "delete_cmd_postfix": "",
     "delete_cmd_prefix": "del ",
     "library": "var_list.py",
     "varRefreshCmd": "print(var_dic_list())"
    },
    "r": {
     "delete_cmd_postfix": ") ",
     "delete_cmd_prefix": "rm(",
     "library": "var_list.r",
     "varRefreshCmd": "cat(var_dic_list()) "
    }
   },
   "types_to_exclude": [
    "module",
    "function",
    "builtin_function_or_method",
    "instance",
    "_Feature"
   ],
   "window_display": false
  }
 },
 "nbformat": 4,
 "nbformat_minor": 2
}
