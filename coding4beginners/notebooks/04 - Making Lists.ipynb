{
 "cells": [
  {
   "cell_type": "code",
   "execution_count": null,
   "metadata": {
    "ExecuteTime": {
     "end_time": "2019-05-29T00:17:40.851644Z",
     "start_time": "2019-05-29T00:17:40.836171Z"
    }
   },
   "outputs": [],
   "source": [
    "# %load script/list.py\n",
    "quarter = [ 'January' , 'February' , 'March' ]\n",
    "\n",
    "print( 'First Month :' ,  quarter[0] )\n",
    "print( 'Second Month :' , quarter[1] )\n",
    "print( 'Third Month :' ,  quarter[2] )\n",
    "\n",
    "coords = [ [ 1 , 2 , 3 ] , [ 4 , 5 , 6 ] ]\n",
    "\n",
    "print( '\\nTop Left 0,0 :' , coords[0][0] )\n",
    "print( 'Bottom Right 1,2 :' , coords[1][2] )\n",
    "\n",
    "print( '\\nSecond Month First Letter :' , quarter[1][0] )\n"
   ]
  },
  {
   "cell_type": "code",
   "execution_count": null,
   "metadata": {
    "ExecuteTime": {
     "end_time": "2019-05-29T00:17:56.187704Z",
     "start_time": "2019-05-29T00:17:56.174461Z"
    }
   },
   "outputs": [],
   "source": [
    "# %load script/pop.py\n",
    "basket = [ 'Apple' , 'Bun' , 'Cola' ]\n",
    "crate = [ 'Egg' , 'Fig' , 'Grape' ]\n",
    "\n",
    "print( 'Basket List:' , basket )\n",
    "print( 'Basket Elements:' , len( basket ) )\n",
    "\n",
    "basket.append( 'Damson' )\n",
    "print( 'Appended:' , basket )\n",
    "print( 'Last Item Removed:' , basket.pop( ) )\n",
    "print( 'Basket List:' , basket )\n",
    "\n",
    "basket.extend( crate )\n",
    "print( 'Extended:' , basket )\n",
    "del basket[ 1 ]\n",
    "print( 'ItemRemoved:' , basket )\n",
    "del basket[ 1 : 3 ]\n",
    "print( 'Slice Removed:' , basket )\n"
   ]
  },
  {
   "cell_type": "code",
   "execution_count": null,
   "metadata": {
    "ExecuteTime": {
     "end_time": "2019-05-29T00:18:13.852818Z",
     "start_time": "2019-05-29T00:18:13.838553Z"
    }
   },
   "outputs": [],
   "source": [
    "# %load script/tuple.py\n",
    "days = ( 'Mon' , 'Tue' , 'Wed' , 'Thu' , 'Fri' , 'Sat' , 'Sun' )\n",
    "print( 'days:' , type( days ) )\n",
    "\n",
    "print( 'Days of the week:' , days )\n",
    "print( 'No. of days in week:' , len( days ) )\n",
    "print( 'Start day of week:' , days[ 0 ] )\n",
    "\n",
    "user = ( 'John' , 'Doe' , 'Paris' , '555-1234' ) \n",
    "print( 'Name:' , user[ 0 ] , user[ 1 ] )\n",
    "print( 'Phone:' , user[ 3 ] )\n",
    "\n",
    "\n",
    "\n",
    "\n",
    "\n"
   ]
  },
  {
   "cell_type": "code",
   "execution_count": null,
   "metadata": {
    "ExecuteTime": {
     "end_time": "2019-05-29T00:18:30.508831Z",
     "start_time": "2019-05-29T00:18:30.495369Z"
    }
   },
   "outputs": [],
   "source": [
    "# %load script/set.py\n",
    "party_goers = { 'Andrew' , 'Barbara' , 'Carole' , 'David' }\n",
    "print( 'party_goers:' , type( party_goers ) )\n",
    "\n",
    "print( 'Did David go to the party?' , 'David' in party_goers )\n",
    "print( 'Did Kelly go to the party?' , 'Kelly' in party_goers )\n",
    "\n",
    "students = { 'Andrew' , 'Kelly' , 'Lynn' , 'David' }\n",
    "\n",
    "commons = party_goers.intersection( students )\n",
    "\n",
    "party_students = list( commons )\n",
    "\n",
    "print( 'Students at the party:' , party_students )\n",
    "print( 'First student at the party:' , party_students[ 0 ] )\n"
   ]
  },
  {
   "cell_type": "code",
   "execution_count": null,
   "metadata": {
    "ExecuteTime": {
     "end_time": "2019-05-29T00:18:53.136225Z",
     "start_time": "2019-05-29T00:18:53.121772Z"
    }
   },
   "outputs": [],
   "source": [
    "# %load script/dict.py\n",
    "info = { 'name' : 'Bob' , 'ref' : 'Python' , 'sys' : 'Win' }\n",
    "print( 'info:' , type( info ) )\n",
    "print( 'Dictionary:' , info )\n",
    "\n",
    "print( '\\nReference:' , info[ 'ref' ] )\n",
    "\n",
    "print( '\\nKeys:' , info.keys( ) )\n",
    "\n",
    "del info[ 'name' ]\n",
    "info[ 'user' ] = 'Tom'\n",
    "print( '\\nDictionary:' , info )\n",
    "\n",
    "print( '\\nIs There A name Key?:' ,'name' in info )\n",
    "\n",
    "\n",
    "\n",
    "\n"
   ]
  }
 ],
 "metadata": {
  "kernelspec": {
   "display_name": "Python 3",
   "language": "python",
   "name": "dspxi"
  },
  "language_info": {
   "codemirror_mode": {
    "name": "ipython",
    "version": 3
   },
   "file_extension": ".py",
   "mimetype": "text/x-python",
   "name": "python",
   "nbconvert_exporter": "python",
   "pygments_lexer": "ipython3",
   "version": "3.6.8"
  },
  "toc": {
   "base_numbering": 1,
   "nav_menu": {},
   "number_sections": true,
   "sideBar": true,
   "skip_h1_title": false,
   "title_cell": "Table of Contents",
   "title_sidebar": "Contents",
   "toc_cell": false,
   "toc_position": {},
   "toc_section_display": true,
   "toc_window_display": false
  },
  "varInspector": {
   "cols": {
    "lenName": 16,
    "lenType": 16,
    "lenVar": 40
   },
   "kernels_config": {
    "python": {
     "delete_cmd_postfix": "",
     "delete_cmd_prefix": "del ",
     "library": "var_list.py",
     "varRefreshCmd": "print(var_dic_list())"
    },
    "r": {
     "delete_cmd_postfix": ") ",
     "delete_cmd_prefix": "rm(",
     "library": "var_list.r",
     "varRefreshCmd": "cat(var_dic_list()) "
    }
   },
   "types_to_exclude": [
    "module",
    "function",
    "builtin_function_or_method",
    "instance",
    "_Feature"
   ],
   "window_display": false
  }
 },
 "nbformat": 4,
 "nbformat_minor": 2
}
