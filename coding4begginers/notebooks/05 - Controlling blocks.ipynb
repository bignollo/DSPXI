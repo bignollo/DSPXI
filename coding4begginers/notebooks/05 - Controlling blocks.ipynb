{
 "cells": [
  {
   "cell_type": "code",
   "execution_count": null,
   "metadata": {
    "ExecuteTime": {
     "end_time": "2019-05-29T00:21:46.379367Z",
     "start_time": "2019-05-29T00:21:46.354306Z"
    }
   },
   "outputs": [],
   "source": [
    "# %load script/if.py\n",
    "num = int( input( 'Please Enter A Number: ' ) )\n",
    "\n",
    "if num > 5 :\n",
    "\tprint( 'Number Exceeds 5' )\n",
    "elif num < 5 :\n",
    "\tprint( 'Number is Less Than 5' )\n",
    "else :\n",
    "\tprint( 'Number Is 5' )\n",
    "\n",
    "if num > 7 and num < 9 :\n",
    "\tprint( 'Number is 8' )\n",
    "\t\n",
    "if num == 1 or num == 3 :\n",
    "\tprint( 'Number Is 1 or 3' )\n"
   ]
  },
  {
   "cell_type": "code",
   "execution_count": null,
   "metadata": {
    "ExecuteTime": {
     "end_time": "2019-05-29T00:21:46.483266Z",
     "start_time": "2019-05-29T00:21:46.393734Z"
    }
   },
   "outputs": [],
   "source": [
    "# %load script/for.py\n",
    "chars = [ 'A' , 'B', 'C' ]\n",
    "fruit = ( 'Apple' , 'Banana' , 'Cherry' )\n",
    "info = { 'name' : 'Mike' , 'ref' : 'Python' , 'sys' : 'Win' }\n",
    "\n",
    "print( 'Elements:  \\t' , end = ' ' )\n",
    "for item in chars :\n",
    "\tprint( item , end = ' ' )\n",
    "\n",
    "print( '\\nEnumerated:\\t' , end = ' ' )\n",
    "for item in enumerate( chars ) :\n",
    "\tprint( item , end = ' ' )\n",
    "\n",
    "print( '\\nZipped:   \\t' , end = ' ' )\n",
    "for item in zip( chars , fruit ) :\n",
    "\tprint( item , end = ' ' )\n",
    "\n",
    "print( '\\nPaired:' )\n",
    "for key , value in info.items( ) :\n",
    "\tprint( key , '=' , value )\n",
    "\n",
    "\n",
    "\n",
    "\n"
   ]
  },
  {
   "cell_type": "code",
   "execution_count": null,
   "metadata": {
    "ExecuteTime": {
     "end_time": "2019-05-29T00:21:46.548725Z",
     "start_time": "2019-05-29T00:21:46.499972Z"
    }
   },
   "outputs": [],
   "source": [
    "# %load script/while.py\n",
    "i = 1\n",
    "\n",
    "while i < 4 :\n",
    "\tprint( 'Outer Loop Iteration:' , i )\n",
    "\ti += 1\n",
    "\n",
    "\tj = 1\n",
    "\twhile j < 4 :\n",
    "\t\tprint( '\\tInner Loop Iteration:' , j )\n",
    "\t\tj += 1\n",
    "\n",
    " \n",
    "\t\n"
   ]
  },
  {
   "cell_type": "code",
   "execution_count": null,
   "metadata": {
    "ExecuteTime": {
     "end_time": "2019-05-29T00:21:46.616315Z",
     "start_time": "2019-05-29T00:21:46.565044Z"
    }
   },
   "outputs": [],
   "source": [
    "# %load script/nest.py\n",
    "for i in range( 1 , 4 ) :\n",
    "\n",
    "\tfor j in range( 1 , 4 ) :\n",
    "\n",
    "\t\tprint( 'Running i =' , i , ' j =' , j )"
   ]
  },
  {
   "cell_type": "code",
   "execution_count": null,
   "metadata": {
    "ExecuteTime": {
     "end_time": "2019-05-29T00:21:46.681961Z",
     "start_time": "2019-05-29T00:21:46.631207Z"
    }
   },
   "outputs": [],
   "source": [
    "# %load script/break.py\n",
    "for i in range( 1 , 4 ) :\n",
    "\n",
    "\tfor j in range( 1 , 4 ) :\n",
    "\t\tif i == 2 and j == 1 :\n",
    "\t\t\tprint( 'Breaks inner loop at i=2 j=1' )\n",
    "\t\t\tbreak\n",
    "\t\tprint( 'Running i =' , i , ' j =' , j )"
   ]
  },
  {
   "cell_type": "code",
   "execution_count": null,
   "metadata": {
    "ExecuteTime": {
     "end_time": "2019-05-29T00:21:46.770847Z",
     "start_time": "2019-05-29T00:21:46.693124Z"
    }
   },
   "outputs": [],
   "source": [
    "# %load script/continue.py\n",
    "for i in range( 1 , 4 ) :\n",
    "\n",
    "\tfor j in range( 1 , 4 ) :\n",
    "\t\tif i == 1 and j == 1 :\n",
    "\t\t  print( 'Continues inner loop at i=1 j=1' )\n",
    "\t\t  continue\n",
    "\t\tif i == 2 and j == 1 :\n",
    "\t\t\tprint( 'Breaks inner loop at i=2 j=1' )\n",
    "\t\t\tbreak\n",
    "\t\tprint( 'Running i =' , i , ' j =' , j )"
   ]
  },
  {
   "cell_type": "code",
   "execution_count": null,
   "metadata": {
    "ExecuteTime": {
     "end_time": "2019-05-29T00:22:45.720362Z",
     "start_time": "2019-05-29T00:22:45.693667Z"
    }
   },
   "outputs": [],
   "source": [
    "# %load script/try.py\n",
    "title = 'Coding for Beginners In Easy Steps'\n",
    "\n",
    "try :\n",
    "\tprint( titel )\n",
    "\n",
    "except NameError as msg :\n",
    "\tprint( msg )\n",
    "\n",
    "\n",
    "\n",
    "\n",
    "\n",
    "\n",
    "\n",
    "\n"
   ]
  },
  {
   "cell_type": "code",
   "execution_count": null,
   "metadata": {
    "ExecuteTime": {
     "end_time": "2019-05-29T00:22:48.394812Z",
     "start_time": "2019-05-29T00:22:48.381517Z"
    }
   },
   "outputs": [],
   "source": [
    "# %load script/raise.py\n",
    "day = 32\n",
    "\n",
    "try :\n",
    "\tif day > 31 :\n",
    "\t\traise ValueError( 'Invalid Day Number' )\n",
    "\n",
    "except ValueError as msg :\n",
    "\tprint( 'The Program Found An' , msg )\n",
    "\n",
    "finally :\n",
    "\tprint( 'But Today Is Beautiful Anyway.' )\n",
    "\n",
    "\n",
    "\n",
    "\n",
    "\n",
    "\n",
    "\n",
    "\n"
   ]
  }
 ],
 "metadata": {
  "kernelspec": {
   "display_name": "Python 3",
   "language": "python",
   "name": "dspxi"
  },
  "language_info": {
   "codemirror_mode": {
    "name": "ipython",
    "version": 3
   },
   "file_extension": ".py",
   "mimetype": "text/x-python",
   "name": "python",
   "nbconvert_exporter": "python",
   "pygments_lexer": "ipython3",
   "version": "3.6.8"
  },
  "toc": {
   "base_numbering": 1,
   "nav_menu": {},
   "number_sections": true,
   "sideBar": true,
   "skip_h1_title": false,
   "title_cell": "Table of Contents",
   "title_sidebar": "Contents",
   "toc_cell": false,
   "toc_position": {},
   "toc_section_display": true,
   "toc_window_display": false
  },
  "varInspector": {
   "cols": {
    "lenName": 16,
    "lenType": 16,
    "lenVar": 40
   },
   "kernels_config": {
    "python": {
     "delete_cmd_postfix": "",
     "delete_cmd_prefix": "del ",
     "library": "var_list.py",
     "varRefreshCmd": "print(var_dic_list())"
    },
    "r": {
     "delete_cmd_postfix": ") ",
     "delete_cmd_prefix": "rm(",
     "library": "var_list.r",
     "varRefreshCmd": "cat(var_dic_list()) "
    }
   },
   "types_to_exclude": [
    "module",
    "function",
    "builtin_function_or_method",
    "instance",
    "_Feature"
   ],
   "window_display": false
  }
 },
 "nbformat": 4,
 "nbformat_minor": 2
}
