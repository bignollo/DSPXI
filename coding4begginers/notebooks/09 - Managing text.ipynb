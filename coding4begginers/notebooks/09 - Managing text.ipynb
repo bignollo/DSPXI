{
 "cells": [
  {
   "cell_type": "code",
   "execution_count": null,
   "metadata": {
    "ExecuteTime": {
     "end_time": "2019-05-29T00:43:53.818318Z",
     "start_time": "2019-05-29T00:43:53.793546Z"
    }
   },
   "outputs": [],
   "source": [
    "# %load script/manipulate.py\n",
    "def display( s ) :\n",
    "\t'''Display an argument value.'''\n",
    "\tprint( s )\n",
    "\n",
    "display( display.__doc__ )\n",
    "\n",
    "display( r'C:\\Program Files' )\n",
    "\n",
    "display( '\\nHello' + ' Python' )\n",
    "\n",
    "display( 'Python In Easy Steps\\n' [ 7 : ] )\n",
    "\n",
    "display( 'P' in 'Python' )\n",
    "display( 'p' in 'Python' )\n"
   ]
  },
  {
   "cell_type": "code",
   "execution_count": null,
   "metadata": {
    "ExecuteTime": {
     "end_time": "2019-05-29T00:43:53.891994Z",
     "start_time": "2019-05-29T00:43:53.832935Z"
    }
   },
   "outputs": [],
   "source": [
    "# %load script/format.py\n",
    "snack = '{} and {}'.format( 'Burger' , 'Fries' )\n",
    "\n",
    "print( '\\nReplaced:' , snack )\n",
    "\n",
    "snack = '{1} and {0}'.format( 'Burger' , 'Fries' )\n",
    "\n",
    "print( 'Replaced:' , snack )\n",
    "\n",
    "snack = '%s and %s' % ( 'Milk' , 'Cookies' )\n",
    "\n",
    "print( '\\nSubstituted:' , snack )"
   ]
  },
  {
   "cell_type": "code",
   "execution_count": null,
   "metadata": {
    "ExecuteTime": {
     "end_time": "2019-05-29T00:43:53.990768Z",
     "start_time": "2019-05-29T00:43:53.903555Z"
    }
   },
   "outputs": [],
   "source": [
    "# %load script/modify.py\n",
    "string = 'coding for beginners in easy steps'\n",
    "\n",
    "print( '\\nCapitalized:\\t' , string.capitalize( ) )\n",
    "\n",
    "print( '\\nTitled:\\t\\t' , string.title( ) )\n",
    "\n",
    "print( '\\nCentered:\\t' , string.center( 30 , '*' ) )\n",
    "\n",
    "print( '\\nUppercase:\\t' , string.upper( ) )\n",
    "\n",
    "print( '\\nJoined:\\t\\t' , string.join( '**' ) )\n",
    "\n",
    "print( '\\nJustified:\\t\\t' ,string.rjust( 30 , '*' ) )\n",
    "\n",
    "print( '\\nReplaced:\\t' , string.replace( 's' , '*' ) )\n"
   ]
  },
  {
   "cell_type": "code",
   "execution_count": null,
   "metadata": {
    "ExecuteTime": {
     "end_time": "2019-05-29T00:43:54.068634Z",
     "start_time": "2019-05-29T00:43:54.004416Z"
    }
   },
   "outputs": [],
   "source": [
    "# %load script/access.py\n",
    "file = open( 'example.txt' , 'w' )\n",
    "\n",
    "print( 'File Name:' , file.name )\n",
    "print( 'File Open Mode:' , file.mode )\n",
    "\n",
    "print( 'Readable:' , file.readable( ) )\n",
    "print( 'Writable:' , file.writable( ) )\n",
    "\n",
    "def get_status( f ) :\n",
    "\tif ( f.closed != False ) :\n",
    "\t\treturn 'Closed'\n",
    "\telse :\n",
    "\t\treturn 'Open'\n",
    "\n",
    "print( 'File Status:' , get_status( file ) )\n",
    "file.close()\n",
    "print( '\\nFile Status:' , get_status( file ) )\n"
   ]
  },
  {
   "cell_type": "code",
   "execution_count": null,
   "metadata": {
    "ExecuteTime": {
     "end_time": "2019-05-29T00:43:54.146497Z",
     "start_time": "2019-05-29T00:43:54.082064Z"
    }
   },
   "outputs": [],
   "source": [
    "# %load script/readwrite.py\n",
    "poem = 'I never saw a man who looked\\n'\n",
    "poem += 'With such a wistful eye\\n'\n",
    "poem += 'Upon that little tent of blue\\n'\n",
    "poem += 'Which prisoners call the sky\\n'\n",
    "\n",
    "file = open( 'poem.txt' , 'w' )\n",
    "\n",
    "file.write( poem )\n",
    "file.close( )\n",
    "\n",
    "file = open( 'poem.txt' , 'r' )\n",
    "\n",
    "for line in file :\n",
    "\tprint( line , end = '' )\n",
    "file.close( )\n",
    "\n",
    "file = open( 'poem.txt' , 'a' )\n",
    "file.write( '(Oscar Wilde)' )\n",
    "file.close( )\n",
    "\n"
   ]
  },
  {
   "cell_type": "code",
   "execution_count": null,
   "metadata": {
    "ExecuteTime": {
     "end_time": "2019-05-29T00:43:54.225049Z",
     "start_time": "2019-05-29T00:43:54.157107Z"
    }
   },
   "outputs": [],
   "source": [
    "# %load script/update.py\n",
    "text = 'The political slogan \"Workers Of The World Unite!\" \\nis from The Communist Manifesto.'\n",
    "\n",
    "with open( 'update.txt' , 'w' ) as file :\n",
    "\tfile.write( text )\n",
    "\tprint( '\\nFile Now Closed?:' , file.closed )\n",
    "\n",
    "print( 'File Now Closed?:' , file.closed )\n",
    "\n",
    "with open( 'update.txt' , 'r+' ) as file :\n",
    "\ttext = file.read( )\n",
    "\tprint( '\\nString:' , text )\n",
    "\n",
    "\tprint( '\\nPosition In File Now:' , file.tell() )\n",
    "\tposition = file.seek( 33 )\n",
    "\tprint( 'Position In File Now:' , file.tell() )\n",
    "\n",
    "\tfile.write( 'All Lands' )\n",
    "\n",
    "\tfile.seek( 61 )\n",
    "\tfile.write( 'the tombstone of Karl Marx.' )\n",
    "\n",
    "\tfile.seek( 0 )\n",
    "\ttext = file.read()\n",
    "\tprint( '\\nString:' , text )\n"
   ]
  }
 ],
 "metadata": {
  "kernelspec": {
   "display_name": "Python 3",
   "language": "python",
   "name": "dspxi"
  },
  "language_info": {
   "codemirror_mode": {
    "name": "ipython",
    "version": 3
   },
   "file_extension": ".py",
   "mimetype": "text/x-python",
   "name": "python",
   "nbconvert_exporter": "python",
   "pygments_lexer": "ipython3",
   "version": "3.6.8"
  },
  "toc": {
   "base_numbering": 1,
   "nav_menu": {},
   "number_sections": true,
   "sideBar": true,
   "skip_h1_title": false,
   "title_cell": "Table of Contents",
   "title_sidebar": "Contents",
   "toc_cell": false,
   "toc_position": {},
   "toc_section_display": true,
   "toc_window_display": false
  },
  "varInspector": {
   "cols": {
    "lenName": 16,
    "lenType": 16,
    "lenVar": 40
   },
   "kernels_config": {
    "python": {
     "delete_cmd_postfix": "",
     "delete_cmd_prefix": "del ",
     "library": "var_list.py",
     "varRefreshCmd": "print(var_dic_list())"
    },
    "r": {
     "delete_cmd_postfix": ") ",
     "delete_cmd_prefix": "rm(",
     "library": "var_list.r",
     "varRefreshCmd": "cat(var_dic_list()) "
    }
   },
   "types_to_exclude": [
    "module",
    "function",
    "builtin_function_or_method",
    "instance",
    "_Feature"
   ],
   "window_display": false
  }
 },
 "nbformat": 4,
 "nbformat_minor": 2
}
