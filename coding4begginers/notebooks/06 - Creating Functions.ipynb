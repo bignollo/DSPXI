{
 "cells": [
  {
   "cell_type": "code",
   "execution_count": null,
   "metadata": {
    "ExecuteTime": {
     "end_time": "2019-05-29T00:24:38.975471Z",
     "start_time": "2019-05-29T00:24:38.962603Z"
    }
   },
   "outputs": [],
   "source": [
    "# %load script/def.py\n",
    "global_var = 1\n",
    "\n",
    "def my_vars( ) :\n",
    "    print( 'Global variable:' , global_var )\n",
    "    local_var = 2\n",
    "    print( 'Local variable:' , local_var )\n",
    "    global inner_var\n",
    "    inner_var= 3\n",
    "\n",
    "my_vars( )\n",
    "\n",
    "print( 'Co-erced Global variable:' , inner_var )\n"
   ]
  },
  {
   "cell_type": "code",
   "execution_count": null,
   "metadata": {
    "ExecuteTime": {
     "end_time": "2019-05-29T00:25:13.084770Z",
     "start_time": "2019-05-29T00:25:13.070589Z"
    }
   },
   "outputs": [],
   "source": [
    "# %load script/param.py\n",
    "def echo( user , lang , sys ) :\n",
    "\tprint( 'User:' , user , 'Language:' , lang , 'Platform:' , sys )\n",
    "\n",
    "echo( 'Mike' , 'Python' , 'Windows' )\n",
    "\n",
    "echo( lang = 'Python' , sys = 'Mac OS' , user = 'Anne' )\n",
    "\n",
    "\n",
    "def mirror(  user = 'Carole' , lang = 'Python' ) :\n",
    "\tprint( '\\nUser:' , user , 'Language:' , lang )\n",
    "\n",
    "mirror( )\n",
    "mirror( lang = 'Java' )\n",
    "mirror( user = 'Tony' )\n",
    "mirror( 'Susan', 'C++' )\n"
   ]
  },
  {
   "cell_type": "code",
   "execution_count": null,
   "metadata": {
    "ExecuteTime": {
     "end_time": "2019-05-29T00:25:36.501768Z",
     "start_time": "2019-05-29T00:25:36.489138Z"
    }
   },
   "outputs": [],
   "source": [
    "# %load script/return.py\n",
    "num = input( 'Enter An Integer:' )\n",
    "\n",
    "def square( num ) :\n",
    "\t\n",
    "\tif not num.isdigit( ) :\n",
    "\t\treturn 'Invalid Entry'\n",
    "\n",
    "\tnum = int( num )\n",
    "\treturn num * num\n",
    "\n",
    "print( num , 'Squared Is:' , square( num ) )\n"
   ]
  },
  {
   "cell_type": "code",
   "execution_count": null,
   "metadata": {
    "ExecuteTime": {
     "end_time": "2019-05-29T00:25:54.396917Z",
     "start_time": "2019-05-29T00:25:54.384637Z"
    }
   },
   "outputs": [],
   "source": [
    "# %load script/cat.py\n",
    "def purr( pet = 'A Cat' ) :\n",
    "\tprint( pet , 'Says MEOW!' )\n",
    "\n",
    "def lick( pet = 'A Cat' ) :\n",
    "\tprint( pet , 'Drinks Milk' )\n",
    "\n",
    "def nap( pet = 'A Cat' ) :\n",
    "\tprint( pet , 'Sleeps By The Fire' ) "
   ]
  },
  {
   "cell_type": "code",
   "execution_count": null,
   "metadata": {
    "ExecuteTime": {
     "end_time": "2019-05-29T00:26:13.560389Z",
     "start_time": "2019-05-29T00:26:13.547904Z"
    }
   },
   "outputs": [],
   "source": [
    "# %load script/kitty.py\n",
    "import cat\n",
    "\n",
    "cat.purr()\n",
    "cat.lick()\n",
    "cat.nap()\n",
    "\n",
    "cat.purr( 'Kitty' )\n",
    "cat.lick( 'Kitty' )\n",
    "cat.nap( 'Kitty' )\n"
   ]
  },
  {
   "cell_type": "code",
   "execution_count": null,
   "metadata": {
    "ExecuteTime": {
     "end_time": "2019-05-29T00:26:37.946149Z",
     "start_time": "2019-05-29T00:26:37.921410Z"
    }
   },
   "outputs": [],
   "source": [
    "# %load script/tiger.py\n",
    "import cat\n",
    "\n",
    "pet = input( 'Enter A Pet Name: ' )\n",
    "\n",
    "cat.purr( pet )\n",
    "cat.lick( pet )\n",
    "cat.nap( pet )\n"
   ]
  },
  {
   "cell_type": "code",
   "execution_count": null,
   "metadata": {
    "ExecuteTime": {
     "end_time": "2019-05-29T00:27:18.230509Z",
     "start_time": "2019-05-29T00:27:18.206653Z"
    }
   },
   "outputs": [],
   "source": [
    "# %load script/dog.py\n",
    "def bark( pet = 'A Dog' ) :\n",
    "\tprint( pet , 'Says WOOF!' )\n",
    "\n",
    "def lick( pet = 'A Dog' ) :\n",
    "\tprint( pet , 'Drinks Water' )\n",
    "\n",
    "def nap( pet = 'A Dog' ) :\n",
    "\tprint( pet , 'Sleeps In The Sun' )\n"
   ]
  },
  {
   "cell_type": "code",
   "execution_count": 11,
   "metadata": {
    "ExecuteTime": {
     "end_time": "2019-05-29T00:27:52.681380Z",
     "start_time": "2019-05-29T00:27:52.485447Z"
    }
   },
   "outputs": [
    {
     "name": "stdout",
     "output_type": "stream",
     "text": [
      "A Dog Says WOOF!\n",
      "A Dog Drinks Water\n",
      "A Dog Sleeps In The Sun\n",
      "Pooch Says WOOF!\n",
      "Pooch Drinks Water\n",
      "Pooch Sleeps In The Sun\n"
     ]
    }
   ],
   "source": [
    "# %load script/pooch.py\n",
    "from script.dog import bark , lick , nap\n",
    "\n",
    "bark( )\n",
    "lick( )\n",
    "nap( )\n",
    "\n",
    "bark( 'Pooch' )\n",
    "lick( 'Pooch' )\n",
    "nap( 'Pooch' )\n",
    "\n"
   ]
  },
  {
   "cell_type": "code",
   "execution_count": null,
   "metadata": {
    "ExecuteTime": {
     "end_time": "2019-05-29T00:28:14.621822Z",
     "start_time": "2019-05-29T00:28:14.596003Z"
    }
   },
   "outputs": [],
   "source": [
    "# %load script/fido.py\n",
    "from dog import *\n",
    "\n",
    "pet = input( 'Enter A Pet Name: ' )\n",
    "\n",
    "bark( pet )\n",
    "lick( pet )\n",
    "nap( pet )\n",
    "\n",
    "\n",
    "\n"
   ]
  }
 ],
 "metadata": {
  "kernelspec": {
   "display_name": "Python 3",
   "language": "python",
   "name": "dspxi"
  },
  "language_info": {
   "codemirror_mode": {
    "name": "ipython",
    "version": 3
   },
   "file_extension": ".py",
   "mimetype": "text/x-python",
   "name": "python",
   "nbconvert_exporter": "python",
   "pygments_lexer": "ipython3",
   "version": "3.6.8"
  },
  "toc": {
   "base_numbering": 1,
   "nav_menu": {},
   "number_sections": true,
   "sideBar": true,
   "skip_h1_title": false,
   "title_cell": "Table of Contents",
   "title_sidebar": "Contents",
   "toc_cell": false,
   "toc_position": {},
   "toc_section_display": true,
   "toc_window_display": false
  },
  "varInspector": {
   "cols": {
    "lenName": 16,
    "lenType": 16,
    "lenVar": 40
   },
   "kernels_config": {
    "python": {
     "delete_cmd_postfix": "",
     "delete_cmd_prefix": "del ",
     "library": "var_list.py",
     "varRefreshCmd": "print(var_dic_list())"
    },
    "r": {
     "delete_cmd_postfix": ") ",
     "delete_cmd_prefix": "rm(",
     "library": "var_list.r",
     "varRefreshCmd": "cat(var_dic_list()) "
    }
   },
   "types_to_exclude": [
    "module",
    "function",
    "builtin_function_or_method",
    "instance",
    "_Feature"
   ],
   "window_display": false
  }
 },
 "nbformat": 4,
 "nbformat_minor": 2
}
