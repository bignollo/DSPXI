{
 "cells": [
  {
   "cell_type": "code",
   "execution_count": null,
   "metadata": {
    "ExecuteTime": {
     "end_time": "2019-05-29T00:12:35.468251Z",
     "start_time": "2019-05-29T00:12:35.361965Z"
    },
    "scrolled": true
   },
   "outputs": [],
   "source": [
    "# %load script/arithmetic.py\n",
    "a = 8\n",
    "b = 2\n",
    "\n",
    "print( 'Addition: \\t' , a , '+', b , '=' , a + b )\n",
    "\n",
    "print( 'Subtraction:\\t' , a , '-', b , '=' , a - b )\n",
    "\n",
    "print( 'Multiplication:\\t' , a , 'x', b , '=' , a * b )\n",
    "\n",
    "print( 'Division:  \\t' , a , '÷', b , '=' , a / b )\n",
    "print( 'Floor Division:\\t' , a , '÷', b , '=' , a // b )\n",
    "\n",
    "print( 'Remainder\\t' , a , '%', b , '=' , a % b )\n",
    " \n",
    "print( 'Exponent:\\t ' , a , '² = ' , a ** b , sep = '' )\n",
    "\n",
    "\n"
   ]
  },
  {
   "cell_type": "code",
   "execution_count": null,
   "metadata": {
    "ExecuteTime": {
     "end_time": "2019-05-29T00:13:48.373101Z",
     "start_time": "2019-05-29T00:13:48.347484Z"
    }
   },
   "outputs": [],
   "source": [
    "# %load script/assign.py\n",
    "a = 8\n",
    "b = 4\n",
    "print( 'Assign Values:\\t' ,'a =' , a , '\\tb =' , b )\n",
    "\n",
    "a += b\n",
    "print( 'Add & Assign:\\t' ,'a =' , a , '\\t(8 += 4)' )\n",
    "\n",
    "a -= b\n",
    "print( 'Subtract & Assign:\\t' ,'a =' , a , '\\t(12 - 4)' )\n",
    "\n",
    "a *= b\n",
    "print( 'Multiply & Assign:\\t' ,'a =' , a , '\\t(8 x 4)' )\n",
    "\n",
    "a /= b\n",
    "print( 'Divide & Assign:\\t' ,'a =' , a , '\\t(32 ÷ 4)' )\n",
    "\n",
    "a %= b\n",
    "print( 'Modulus & Assign:\\t' ,'a =' , a , '\\t(8 % 4)' )\n"
   ]
  },
  {
   "cell_type": "code",
   "execution_count": null,
   "metadata": {
    "ExecuteTime": {
     "end_time": "2019-05-29T00:14:37.536886Z",
     "start_time": "2019-05-29T00:14:37.520581Z"
    }
   },
   "outputs": [],
   "source": [
    "# %load script/comparison.py\n",
    "nil = 0\n",
    "num = 0\n",
    "top = 1\n",
    "cap = 'A'\n",
    "low = 'a'\n",
    "\n",
    "print( 'Equality : \\t' , nil , '==' , num , nil == num )\n",
    "print( 'Equality : \\t' , cap , '==' , low , cap == low )\n",
    "print( 'Inequality :\\t' , nil , '!=' , top , nil != top )\n",
    "\n",
    "print( 'Greater :  \\t' , nil , '>' , top , nil > top )\n",
    "print( 'Lesser :    \\t' , nil , '<' , top , nil < top )\n",
    "\n",
    "print( 'More Or Equal :\\t' , nil , '>=' , num , nil >= num )\n",
    "print( 'Less or Equal :\\t' , top , '<=' , num , top <= num )\n"
   ]
  },
  {
   "cell_type": "code",
   "execution_count": null,
   "metadata": {
    "ExecuteTime": {
     "end_time": "2019-05-29T00:15:09.441726Z",
     "start_time": "2019-05-29T00:15:09.416643Z"
    }
   },
   "outputs": [],
   "source": [
    "# %load script/logic.py\n",
    "a = True\n",
    "b = False\n",
    "\n",
    "print( 'AND Logic:' )\n",
    "print( 'a and a =' , a and a )\n",
    "print( 'a and b =' , a and b )\n",
    "print( 'b and b =' , b and b )\n",
    "\n",
    "print( '\\nOR Logic:' )\n",
    "print( 'a or a =' , a or a )\n",
    "print( 'a or b =' , a or b )\n",
    "print( 'b or b =' , b or b )\n",
    "\n",
    "print( '\\nNOT Logic:' )\n",
    "print( 'a =' , a , ' \\tnot a =' , not a )\n",
    "print( 'b =' , b , '\\tnot b =' , not b )\n"
   ]
  },
  {
   "cell_type": "code",
   "execution_count": null,
   "metadata": {
    "ExecuteTime": {
     "end_time": "2019-05-29T00:15:32.306077Z",
     "start_time": "2019-05-29T00:15:32.279942Z"
    }
   },
   "outputs": [],
   "source": [
    "%load script/input.py# %load script/condition.py\n",
    "a = 1\n",
    "b = 2\n",
    "\n",
    "print( '\\nVariable a Is :' , 'One' if ( a == 1 ) else 'Not One' )\n",
    "print( 'Variable a Is :' , 'Even' if ( a % 2 == 0 ) else 'Odd' )\n",
    "\n",
    "print( '\\nVariable b Is :' , 'One' if ( b == 1 ) else 'Not One' )\n",
    "print( 'Variable b Is :' , 'Even' if ( b % 2 == 0 ) else 'Odd' )\n",
    "\n",
    "top = a if ( a > b ) else b\n",
    "print( '\\nGreater Value Is:' , top ) \n"
   ]
  },
  {
   "cell_type": "code",
   "execution_count": null,
   "metadata": {
    "ExecuteTime": {
     "end_time": "2019-05-29T00:15:54.815457Z",
     "start_time": "2019-05-29T00:15:54.789489Z"
    }
   },
   "outputs": [],
   "source": [
    "# %load script/order.py\n",
    "a = 2\n",
    "b = 4\n",
    "c = 8\n",
    "\n",
    "print( '\\nDefault Order:\\t' , a , '*' , c ,'+' , b , '=' ,  a * c + b )\n",
    "print( 'Forced Order:\\t' , a , '* (' , c ,'+' , b , ') =' ,  a * ( c + b ) )\n",
    "\n",
    "print( '\\nDefault Order:\\t' , c , '//' , b , '-' , a , '=' ,  c // b - a )\n",
    "print( 'Forced Order:\\t' , c , '// (' , b ,'-'  ,a , ') =' , c // ( b - a ) )\n",
    "\n",
    "print( '\\nDefault Order:\\t' , c , '%' , a , '+' , b , '=' ,  c % a + b )\n",
    "print( 'Forced Order:\\t' , c , '% (' , a , '+' , b , ') =' ,  c % ( a + b ) )\n",
    "\n",
    "print( '\\nDefault Order:\\t' , c , '**' , a , '+' , b , '=' ,  c ** a + b )\n",
    "print( 'Forced Order:\\t' , c , '** (' , a , '+' , b , ') =' ,  c ** ( a + b ) )\n",
    "\n"
   ]
  }
 ],
 "metadata": {
  "kernelspec": {
   "display_name": "Python 3",
   "language": "python",
   "name": "dspxi"
  },
  "language_info": {
   "codemirror_mode": {
    "name": "ipython",
    "version": 3
   },
   "file_extension": ".py",
   "mimetype": "text/x-python",
   "name": "python",
   "nbconvert_exporter": "python",
   "pygments_lexer": "ipython3",
   "version": "3.6.8"
  },
  "toc": {
   "base_numbering": 1,
   "nav_menu": {},
   "number_sections": true,
   "sideBar": true,
   "skip_h1_title": false,
   "title_cell": "Table of Contents",
   "title_sidebar": "Contents",
   "toc_cell": false,
   "toc_position": {},
   "toc_section_display": true,
   "toc_window_display": false
  },
  "varInspector": {
   "cols": {
    "lenName": 16,
    "lenType": 16,
    "lenVar": 40
   },
   "kernels_config": {
    "python": {
     "delete_cmd_postfix": "",
     "delete_cmd_prefix": "del ",
     "library": "var_list.py",
     "varRefreshCmd": "print(var_dic_list())"
    },
    "r": {
     "delete_cmd_postfix": ") ",
     "delete_cmd_prefix": "rm(",
     "library": "var_list.r",
     "varRefreshCmd": "cat(var_dic_list()) "
    }
   },
   "types_to_exclude": [
    "module",
    "function",
    "builtin_function_or_method",
    "instance",
    "_Feature"
   ],
   "window_display": false
  }
 },
 "nbformat": 4,
 "nbformat_minor": 2
}
