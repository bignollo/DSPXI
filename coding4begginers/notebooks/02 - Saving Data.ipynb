{
 "cells": [
  {
   "cell_type": "code",
   "execution_count": 4,
   "metadata": {
    "ExecuteTime": {
     "end_time": "2019-05-28T02:54:00.976184Z",
     "start_time": "2019-05-28T02:53:59.105200Z"
    }
   },
   "outputs": [
    {
     "name": "stdout",
     "output_type": "stream",
     "text": [
      "Please enter your name: dad\n",
      "Hello dad\n",
      "Welcome to Coding for Beginners\n",
      "Remember to have fun dad !\n"
     ]
    }
   ],
   "source": [
    "# %load script/input.py\n",
    "name = input( 'Please enter your name: ' )\n",
    "print( 'Hello' , name )\n",
    "print( 'Welcome to Coding for Beginners' )\n",
    "print( 'Remember to have fun' , name , '!' )\n"
   ]
  },
  {
   "cell_type": "code",
   "execution_count": null,
   "metadata": {
    "ExecuteTime": {
     "end_time": "2019-05-28T03:09:41.530188Z",
     "start_time": "2019-05-28T03:09:41.465746Z"
    }
   },
   "outputs": [],
   "source": [
    "# %load script/input.py# %load script/concat.py\n",
    "name = input( 'Please enter your name: ' )\n",
    "print( 'Hello ' + name , end=' ' ) \n",
    "print( '- Welcome to Coding for Beginners' )\n",
    "print( 'Remember to have fun ' + name + '!' )\n"
   ]
  },
  {
   "cell_type": "code",
   "execution_count": null,
   "metadata": {
    "ExecuteTime": {
     "end_time": "2019-05-28T03:10:15.655298Z",
     "start_time": "2019-05-28T03:10:15.599713Z"
    }
   },
   "outputs": [],
   "source": [
    "# %load script/types.py\n",
    "race='Daytona 500'\n",
    "print( race , 'is' , type( race ) )\n",
    "\n",
    "kilo=1000\n",
    "print( kilo , 'is' , type( kilo ) )\n",
    "\n",
    "temp=98.6\n",
    "print( temp , 'is' , type( temp ) )\n",
    "\n",
    "flag=True\n",
    "print( flag , 'is' , type( flag ) )\n",
    "\n",
    "flag = 4 > 8\n",
    "print( flag , 'is' , type( flag ) )\n"
   ]
  },
  {
   "cell_type": "code",
   "execution_count": null,
   "metadata": {
    "ExecuteTime": {
     "end_time": "2019-05-28T03:10:48.770049Z",
     "start_time": "2019-05-28T03:10:48.712927Z"
    }
   },
   "outputs": [],
   "source": [
    "# %load script/cast.py\n",
    "num1 = input( 'Please enter a whole number: ' )\n",
    "num2 = input( 'Now enter another whole number: ' )\n",
    "\n",
    "print( 'Input is: ' , type( num1 ) , type( num2 ) )\n",
    "\n",
    "total = num1 + num2\n",
    "print( 'Total:' , total , type( total ) )\n",
    "\n",
    "total = int( num1 ) + int( num2 )\n",
    "print( 'Total:' , total , type( total ) )\n",
    "\n",
    "total = float( num1 ) + float( num2 )\n",
    "print( 'Total: ' + str( total ) , type( total) )\n",
    "\n",
    "\n"
   ]
  },
  {
   "cell_type": "code",
   "execution_count": null,
   "metadata": {
    "ExecuteTime": {
     "end_time": "2019-05-28T03:11:10.754284Z",
     "start_time": "2019-05-28T03:11:10.705998Z"
    }
   },
   "outputs": [],
   "source": [
    "# %load script/guess.py\n",
    "import random\n",
    "\n",
    "num = random.randint( 1, 20 )\n",
    "flag = True\n",
    "guess = 0\n",
    "\n",
    "print( 'Guess My Number 1-20 : ' , end = ' ' )\n",
    "\n",
    "while flag == True :\n",
    "\n",
    "    guess = input( )\n",
    "\n",
    "    if not guess.isdigit( ) :\n",
    "        print( 'Invalid! Enter only digits 1-20' )\n",
    "        break\n",
    "    elif int( guess ) < num :\n",
    "        print( 'Too low, try again : ' , end= ' ' )\n",
    "    elif int( guess ) > num :\n",
    "        print( 'Too high,try again : ' , end = ' ' )\n",
    "    else :\n",
    "        print( 'Correct... My number is ' + guess )\n",
    "        flag = False\n"
   ]
  },
  {
   "cell_type": "code",
   "execution_count": null,
   "metadata": {
    "ExecuteTime": {
     "end_time": "2019-05-28T03:12:17.714147Z",
     "start_time": "2019-05-28T03:12:17.548805Z"
    }
   },
   "outputs": [],
   "source": [
    "# %load script/syntax.py\n",
    "print( 'Coding for Beginners in easy steps  )\n"
   ]
  },
  {
   "cell_type": "code",
   "execution_count": null,
   "metadata": {
    "ExecuteTime": {
     "end_time": "2019-05-28T03:12:38.544507Z",
     "start_time": "2019-05-28T03:12:38.465905Z"
    }
   },
   "outputs": [],
   "source": [
    "# %load script/runtime.py\n",
    "title = 'Coding for Beginners in easy steps'\n",
    "print( titel )"
   ]
  },
  {
   "cell_type": "code",
   "execution_count": null,
   "metadata": {
    "ExecuteTime": {
     "end_time": "2019-05-28T03:12:55.801316Z",
     "start_time": "2019-05-28T03:12:55.741815Z"
    }
   },
   "outputs": [],
   "source": [
    "# %load script/semantic.py\n",
    "num = 3\n",
    "print( 'Result: ' , num * 8 + 4 )\n"
   ]
  }
 ],
 "metadata": {
  "kernelspec": {
   "display_name": "Python 3",
   "language": "python",
   "name": "dspxi"
  },
  "language_info": {
   "codemirror_mode": {
    "name": "ipython",
    "version": 3
   },
   "file_extension": ".py",
   "mimetype": "text/x-python",
   "name": "python",
   "nbconvert_exporter": "python",
   "pygments_lexer": "ipython3",
   "version": "3.6.8"
  },
  "toc": {
   "base_numbering": 1,
   "nav_menu": {},
   "number_sections": true,
   "sideBar": true,
   "skip_h1_title": false,
   "title_cell": "Table of Contents",
   "title_sidebar": "Contents",
   "toc_cell": false,
   "toc_position": {},
   "toc_section_display": true,
   "toc_window_display": false
  },
  "varInspector": {
   "cols": {
    "lenName": 16,
    "lenType": 16,
    "lenVar": 40
   },
   "kernels_config": {
    "python": {
     "delete_cmd_postfix": "",
     "delete_cmd_prefix": "del ",
     "library": "var_list.py",
     "varRefreshCmd": "print(var_dic_list())"
    },
    "r": {
     "delete_cmd_postfix": ") ",
     "delete_cmd_prefix": "rm(",
     "library": "var_list.r",
     "varRefreshCmd": "cat(var_dic_list()) "
    }
   },
   "types_to_exclude": [
    "module",
    "function",
    "builtin_function_or_method",
    "instance",
    "_Feature"
   ],
   "window_display": false
  }
 },
 "nbformat": 4,
 "nbformat_minor": 2
}
